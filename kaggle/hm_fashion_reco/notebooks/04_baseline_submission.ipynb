{
 "cells": [
  {
   "cell_type": "code",
   "execution_count": 1,
   "id": "7e655141-d3cf-4452-a7ae-51a0296f310b",
   "metadata": {},
   "outputs": [
    {
     "name": "stdout",
     "output_type": "stream",
     "text": [
      "The google.cloud.bigquery extension is already loaded. To reload it, use:\n",
      "  %reload_ext google.cloud.bigquery\n"
     ]
    }
   ],
   "source": [
    "%load_ext google.cloud.bigquery"
   ]
  },
  {
   "cell_type": "code",
   "execution_count": 11,
   "id": "5a3c81c2-ed00-4bdb-9081-6b65b77ebe3a",
   "metadata": {},
   "outputs": [
    {
     "name": "stderr",
     "output_type": "stream",
     "text": [
      "Query complete after 0.00s: 10\n",
      "Downloading: 100%|█| 1371980/1\n"
     ]
    }
   ],
   "source": [
    "%%bigquery df_baseline --project zenscr-seefood-dev\n",
    "\n",
    "SELECT \n",
    "    customer_id,\n",
    "    prediction\n",
    "FROM hm_kaggle_reco.baseline_submission"
   ]
  },
  {
   "cell_type": "code",
   "execution_count": 12,
   "id": "949c1cbe-352c-4559-b86f-167bb43684ee",
   "metadata": {},
   "outputs": [
    {
     "data": {
      "text/html": [
       "<div>\n",
       "<style scoped>\n",
       "    .dataframe tbody tr th:only-of-type {\n",
       "        vertical-align: middle;\n",
       "    }\n",
       "\n",
       "    .dataframe tbody tr th {\n",
       "        vertical-align: top;\n",
       "    }\n",
       "\n",
       "    .dataframe thead th {\n",
       "        text-align: right;\n",
       "    }\n",
       "</style>\n",
       "<table border=\"1\" class=\"dataframe\">\n",
       "  <thead>\n",
       "    <tr style=\"text-align: right;\">\n",
       "      <th></th>\n",
       "      <th>customer_id</th>\n",
       "      <th>prediction</th>\n",
       "    </tr>\n",
       "  </thead>\n",
       "  <tbody>\n",
       "    <tr>\n",
       "      <th>0</th>\n",
       "      <td>cdcde6f88ca3c7d01c31a29db3a86a66e98f38b003d934...</td>\n",
       "      <td>924243002 924243001 918292001 918522001 909370...</td>\n",
       "    </tr>\n",
       "    <tr>\n",
       "      <th>1</th>\n",
       "      <td>20eb386efb0848942c579fc115f79584ac06f077f20218...</td>\n",
       "      <td>924243002 924243001 918292001 918522001 909370...</td>\n",
       "    </tr>\n",
       "    <tr>\n",
       "      <th>2</th>\n",
       "      <td>5805d6742cb8182a63179b410be099d360b729ad5e80bf...</td>\n",
       "      <td>924243002 924243001 918292001 918522001 909370...</td>\n",
       "    </tr>\n",
       "    <tr>\n",
       "      <th>3</th>\n",
       "      <td>f15e77183d0f8e679dc9b8bc695132cad17139e5b9aac2...</td>\n",
       "      <td>924243002 924243001 918292001 918522001 909370...</td>\n",
       "    </tr>\n",
       "    <tr>\n",
       "      <th>4</th>\n",
       "      <td>e74b78316e6e49390b0299571c165fc2bbe083b5cf24f7...</td>\n",
       "      <td>924243002 924243001 918292001 918522001 909370...</td>\n",
       "    </tr>\n",
       "    <tr>\n",
       "      <th>...</th>\n",
       "      <td>...</td>\n",
       "      <td>...</td>\n",
       "    </tr>\n",
       "    <tr>\n",
       "      <th>1371975</th>\n",
       "      <td>4dc5c6831d48aef8810df1b37eec600eba1c772f97a9fa...</td>\n",
       "      <td>924243002 923758001 924243001 918292001 865799...</td>\n",
       "    </tr>\n",
       "    <tr>\n",
       "      <th>1371976</th>\n",
       "      <td>a129bdbc091bbd18e7707b3c62c1f75be9b93938044078...</td>\n",
       "      <td>924243002 923758001 924243001 918292001 865799...</td>\n",
       "    </tr>\n",
       "    <tr>\n",
       "      <th>1371977</th>\n",
       "      <td>d1e2967fc75572f5d2237f4393383081c48658641f7f2d...</td>\n",
       "      <td>924243002 923758001 924243001 918292001 865799...</td>\n",
       "    </tr>\n",
       "    <tr>\n",
       "      <th>1371978</th>\n",
       "      <td>2485be0e423d3e535c94cecccca9cf14de4b577589c001...</td>\n",
       "      <td>924243002 923758001 924243001 918292001 865799...</td>\n",
       "    </tr>\n",
       "    <tr>\n",
       "      <th>1371979</th>\n",
       "      <td>5c0a8f48c32f28828a6c24873ae39593b93c5ec27af485...</td>\n",
       "      <td>924243002 923758001 924243001 918292001 865799...</td>\n",
       "    </tr>\n",
       "  </tbody>\n",
       "</table>\n",
       "<p>1371980 rows × 2 columns</p>\n",
       "</div>"
      ],
      "text/plain": [
       "                                               customer_id  \\\n",
       "0        cdcde6f88ca3c7d01c31a29db3a86a66e98f38b003d934...   \n",
       "1        20eb386efb0848942c579fc115f79584ac06f077f20218...   \n",
       "2        5805d6742cb8182a63179b410be099d360b729ad5e80bf...   \n",
       "3        f15e77183d0f8e679dc9b8bc695132cad17139e5b9aac2...   \n",
       "4        e74b78316e6e49390b0299571c165fc2bbe083b5cf24f7...   \n",
       "...                                                    ...   \n",
       "1371975  4dc5c6831d48aef8810df1b37eec600eba1c772f97a9fa...   \n",
       "1371976  a129bdbc091bbd18e7707b3c62c1f75be9b93938044078...   \n",
       "1371977  d1e2967fc75572f5d2237f4393383081c48658641f7f2d...   \n",
       "1371978  2485be0e423d3e535c94cecccca9cf14de4b577589c001...   \n",
       "1371979  5c0a8f48c32f28828a6c24873ae39593b93c5ec27af485...   \n",
       "\n",
       "                                                prediction  \n",
       "0        924243002 924243001 918292001 918522001 909370...  \n",
       "1        924243002 924243001 918292001 918522001 909370...  \n",
       "2        924243002 924243001 918292001 918522001 909370...  \n",
       "3        924243002 924243001 918292001 918522001 909370...  \n",
       "4        924243002 924243001 918292001 918522001 909370...  \n",
       "...                                                    ...  \n",
       "1371975  924243002 923758001 924243001 918292001 865799...  \n",
       "1371976  924243002 923758001 924243001 918292001 865799...  \n",
       "1371977  924243002 923758001 924243001 918292001 865799...  \n",
       "1371978  924243002 923758001 924243001 918292001 865799...  \n",
       "1371979  924243002 923758001 924243001 918292001 865799...  \n",
       "\n",
       "[1371980 rows x 2 columns]"
      ]
     },
     "execution_count": 12,
     "metadata": {},
     "output_type": "execute_result"
    }
   ],
   "source": [
    "df_baseline"
   ]
  },
  {
   "cell_type": "code",
   "execution_count": 13,
   "id": "c9b78ae0-fb61-4fc0-b0e5-20ba8a986d32",
   "metadata": {},
   "outputs": [],
   "source": [
    "df_baseline.to_csv(\"baseline_submission.csv\", index=False)"
   ]
  },
  {
   "cell_type": "code",
   "execution_count": 14,
   "id": "67d74b01-a58f-43d4-b831-de2e8e241a3a",
   "metadata": {},
   "outputs": [
    {
     "name": "stdout",
     "output_type": "stream",
     "text": [
      "customer_id,prediction\n",
      "cdcde6f88ca3c7d01c31a29db3a86a66e98f38b003d934fa703b4f5440d997af,924243002 924243001 918292001 918522001 909370001 915529003 865799006 762846027 448509014 923758001 751471001 850917001\n",
      "20eb386efb0848942c579fc115f79584ac06f077f20218cf39cfe74318d86396,924243002 924243001 918292001 918522001 909370001 915529003 865799006 762846027 448509014 923758001 751471001 850917001\n",
      "5805d6742cb8182a63179b410be099d360b729ad5e80bf2e8ae80717d3144902,924243002 924243001 918292001 918522001 909370001 915529003 865799006 762846027 448509014 923758001 751471001 850917001\n",
      "f15e77183d0f8e679dc9b8bc695132cad17139e5b9aac2485baf6062a37a4c37,924243002 924243001 918292001 918522001 909370001 915529003 865799006 762846027 448509014 923758001 751471001 850917001\n",
      "e74b78316e6e49390b0299571c165fc2bbe083b5cf24f7e44a8e256a7e95d379,924243002 924243001 918292001 918522001 909370001 915529003 865799006 762846027 448509014 923758001 751471001 850917001\n",
      "6c91e4b04cd72dbe20c33e7126c03eccf870ef79e3cfab6544da5aac8f80a8bf,924243002 924243001 918292001 918522001 909370001 915529003 865799006 762846027 448509014 923758001 751471001 850917001\n",
      "a148244c4aa9b6f0e30167b159b1b60395d44156e14569611ce7fbac47c4a1a8,924243002 924243001 918292001 918522001 909370001 915529003 865799006 762846027 448509014 923758001 751471001 850917001\n",
      "c34b8006ae706d2b4cabbae891f668f3f6f082134dd67e856cec5941f10f9913,924243002 909370001 915529003 923758001 918292001 751471001 918522001 865799006 762846027 924243001 850917001 448509014\n",
      "71157a266cb2202de56dc4c526d28fd90aa89274a067679a51288534cd0eef74,924243002 909370001 915529003 923758001 918292001 751471001 918522001 865799006 762846027 924243001 850917001 448509014\n"
     ]
    }
   ],
   "source": [
    "!head baseline_submission.csv"
   ]
  },
  {
   "cell_type": "code",
   "execution_count": 15,
   "id": "8965592b-9735-4dba-9c0a-c5f6d9d95600",
   "metadata": {},
   "outputs": [
    {
     "name": "stdout",
     "output_type": "stream",
     "text": [
      "256M\tbaseline_submission.csv\n"
     ]
    }
   ],
   "source": [
    "!du -h baseline_submission.csv"
   ]
  },
  {
   "cell_type": "code",
   "execution_count": null,
   "id": "710f9ce2-1e1a-4058-ad70-0abf3b1d9c90",
   "metadata": {},
   "outputs": [],
   "source": []
  }
 ],
 "metadata": {
  "kernelspec": {
   "display_name": "Python 3 (ipykernel)",
   "language": "python",
   "name": "python3"
  },
  "language_info": {
   "codemirror_mode": {
    "name": "ipython",
    "version": 3
   },
   "file_extension": ".py",
   "mimetype": "text/x-python",
   "name": "python",
   "nbconvert_exporter": "python",
   "pygments_lexer": "ipython3",
   "version": "3.9.7"
  }
 },
 "nbformat": 4,
 "nbformat_minor": 5
}
