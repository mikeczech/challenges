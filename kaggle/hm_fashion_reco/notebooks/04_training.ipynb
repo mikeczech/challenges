{
 "cells": [
  {
   "cell_type": "code",
   "execution_count": 98,
   "id": "a15ba158-2451-4824-9854-d5f595749a6a",
   "metadata": {},
   "outputs": [
    {
     "name": "stdout",
     "output_type": "stream",
     "text": [
      "The google.cloud.bigquery extension is already loaded. To reload it, use:\n",
      "  %reload_ext google.cloud.bigquery\n"
     ]
    }
   ],
   "source": [
    "%load_ext google.cloud.bigquery"
   ]
  },
  {
   "cell_type": "code",
   "execution_count": 127,
   "id": "a2682c4f-27a7-41f3-addf-06560e1f9a30",
   "metadata": {},
   "outputs": [],
   "source": [
    "%load_ext lab_black"
   ]
  },
  {
   "cell_type": "code",
   "execution_count": 107,
   "id": "9797f0ed-d6fc-422a-993c-335ed84e6dad",
   "metadata": {},
   "outputs": [
    {
     "name": "stdout",
     "output_type": "stream",
     "text": [
      "The autoreload extension is already loaded. To reload it, use:\n",
      "  %reload_ext autoreload\n"
     ]
    }
   ],
   "source": [
    "%load_ext autoreload\n",
    "%autoreload"
   ]
  },
  {
   "cell_type": "code",
   "execution_count": 1079,
   "id": "87f3e2b8-d6aa-460a-ac33-9b02b75896f4",
   "metadata": {},
   "outputs": [],
   "source": [
    "import pandas as pd\n",
    "import lightgbm\n",
    "\n",
    "import matplotlib.pyplot as plt\n",
    "import altair as alt\n",
    "import shap\n",
    "from sklearn.preprocessing import LabelEncoder\n",
    "from sklearn.model_selection import TimeSeriesSplit\n",
    "\n",
    "from hm_fashion.model import get_ranker_pipeline\n",
    "import mlflow\n",
    "import mlflow.lightgbm"
   ]
  },
  {
   "cell_type": "code",
   "execution_count": 101,
   "id": "424a21b8-0ef8-4911-82e2-3b4d73f06ccf",
   "metadata": {},
   "outputs": [],
   "source": [
    "pd.options.display.float_format = \"{:.2f}\".format"
   ]
  },
  {
   "cell_type": "code",
   "execution_count": 1078,
   "id": "d4c9b400-f4e0-4fa6-bae6-5f54c65e7e06",
   "metadata": {},
   "outputs": [
    {
     "data": {
      "text/plain": [
       "'1'"
      ]
     },
     "execution_count": 1078,
     "metadata": {},
     "output_type": "execute_result"
    }
   ],
   "source": [
    "mlflow.set_tracking_uri(\"http://127.0.0.1:5000\")\n",
    "mlflow.create_experiment(\"kaggle\")"
   ]
  },
  {
   "cell_type": "code",
   "execution_count": 1083,
   "id": "2c90b2b4-26f8-4678-ad22-1835ec01b37b",
   "metadata": {},
   "outputs": [],
   "source": [
    "mlflow.lightgbm.autolog(disable=True)"
   ]
  },
  {
   "cell_type": "markdown",
   "id": "d6fec4fd-2df9-43db-93cb-c3321f276e4f",
   "metadata": {},
   "source": [
    "## Load Training and Validation Data"
   ]
  },
  {
   "cell_type": "code",
   "execution_count": 1094,
   "id": "24166572-91b7-4737-8d55-d0cd23a5b3c8",
   "metadata": {
    "tags": []
   },
   "outputs": [
    {
     "name": "stderr",
     "output_type": "stream",
     "text": [
      "Query complete after \n",
      "Downloading: 100%|█| \n"
     ]
    }
   ],
   "source": [
    "%%bigquery training_data --project zenscr-seefood-dev\n",
    "\n",
    "WITH base AS (\n",
    "  SELECT\n",
    "    *\n",
    "  FROM `zenscr-seefood-dev.hm_kaggle_reco.training_data` t \n",
    "  WHERE (article_similarity_score > 0 OR article_sales_score > 0 OR prev_purchases_score > 0 OR prev_purchases_score > 0 OR article_department_sales_score > 0)  AND (obs_dat <= \"2020-09-09\")\n",
    "),\n",
    "positive_samples AS (\n",
    "    SELECT * FROM base WHERE relevance = 1\n",
    "),\n",
    "negative_samples AS (\n",
    "    SELECT * FROM base \n",
    "    WHERE relevance = 0 AND ABS(MOD(FARM_FINGERPRINT(obs_dat  || customer_short_id || article_id), 100)) <= 5\n",
    "),\n",
    "all_samples AS (\n",
    "    SELECT * FROM positive_samples\n",
    "    UNION ALL\n",
    "    SELECT * FROM negative_samples\n",
    "),\n",
    "filtered AS (\n",
    "  SELECT\n",
    "    t.*,\n",
    "    MAX(relevance) OVER (PARTITION BY obs_dat, customer_short_id) max_relevance,\n",
    "    COUNT(*) OVER (PARTITION BY obs_dat, customer_short_id) num_trans\n",
    "  FROM all_samples t \n",
    "  QUALIFY max_relevance = 1 AND num_trans > 1 \n",
    ")\n",
    "\n",
    "SELECT\n",
    "  * EXCEPT(max_relevance, num_trans)\n",
    "FROM filtered"
   ]
  },
  {
   "cell_type": "code",
   "execution_count": 1095,
   "id": "20237f7a-5062-45d8-822c-444150b7d11e",
   "metadata": {},
   "outputs": [
    {
     "data": {
      "text/plain": [
       "(3336106, 22)"
      ]
     },
     "execution_count": 1095,
     "metadata": {},
     "output_type": "execute_result"
    }
   ],
   "source": [
    "training_data.shape"
   ]
  },
  {
   "cell_type": "code",
   "execution_count": 1098,
   "id": "f99cd0f0-0770-4a0b-8893-966a5553d479",
   "metadata": {},
   "outputs": [
    {
     "name": "stderr",
     "output_type": "stream",
     "text": [
      "Query complete after \n",
      "Downloading: 100%|█| \n"
     ]
    }
   ],
   "source": [
    "%%bigquery validation_data --project zenscr-seefood-dev\n",
    "\n",
    "WITH base AS (\n",
    "  SELECT\n",
    "    *\n",
    "  FROM `zenscr-seefood-dev.hm_kaggle_reco.training_data` t \n",
    "  WHERE (article_similarity_score > 0 OR article_sales_score > 0 OR prev_purchases_score > 0 OR prev_purchases_score > 0 OR article_department_sales_score > 0) AND (obs_dat = \"2020-09-16\")\n",
    "),\n",
    "filtered AS (\n",
    "  SELECT\n",
    "    t.*,\n",
    "    MAX(relevance) OVER (PARTITION BY obs_dat, customer_short_id) max_relevance,\n",
    "    COUNT(*) OVER (PARTITION BY obs_dat, customer_short_id) num_trans\n",
    "  FROM base t \n",
    "  QUALIFY max_relevance = 1 AND num_trans > 1 \n",
    ")\n",
    "\n",
    "SELECT\n",
    "  * EXCEPT(max_relevance, num_trans)\n",
    "FROM filtered"
   ]
  },
  {
   "cell_type": "code",
   "execution_count": 1099,
   "id": "38036f4e-5f2b-435b-af4b-7a2c88867c12",
   "metadata": {},
   "outputs": [
    {
     "data": {
      "text/plain": [
       "(2086993, 22)"
      ]
     },
     "execution_count": 1099,
     "metadata": {},
     "output_type": "execute_result"
    }
   ],
   "source": [
    "validation_data.shape"
   ]
  },
  {
   "cell_type": "code",
   "execution_count": 1053,
   "id": "9d87cfee-3d35-4f52-b3e8-1e686b0f8107",
   "metadata": {},
   "outputs": [
    {
     "data": {
      "text/plain": [
       "obs_dat                                  0.00\n",
       "customer_short_id                        0.00\n",
       "article_id                               0.00\n",
       "relevance                                0.00\n",
       "article_similarity_score                 0.00\n",
       "article_sales_score                      0.00\n",
       "prev_purchases_score                     0.00\n",
       "article_department_sales_score           0.00\n",
       "feat_customer_age                        0.00\n",
       "feat_customer_price_affinity             0.00\n",
       "feat_customer_stdev_price                0.00\n",
       "feat_article_average_price               0.00\n",
       "feat_article_stdev_price                 0.00\n",
       "feat_article_num_sales                   0.00\n",
       "feat_article_num_distinct_customers      0.00\n",
       "feat_article_average_age                 0.00\n",
       "feat_article_stdev_age                   0.00\n",
       "feat_article_colour_group_code           0.00\n",
       "feat_article_perceived_colour_value_id   0.00\n",
       "feat_article_section_no                  0.00\n",
       "feat_article_index_code                  0.00\n",
       "feat_article_garment_group_no            0.00\n",
       "dtype: float64"
      ]
     },
     "execution_count": 1053,
     "metadata": {},
     "output_type": "execute_result"
    }
   ],
   "source": [
    "training_data.isna().mean()"
   ]
  },
  {
   "cell_type": "markdown",
   "id": "9b7a830a-54ca-4c62-b064-42d16cb42702",
   "metadata": {},
   "source": [
    "## Explore Training Data"
   ]
  },
  {
   "cell_type": "code",
   "execution_count": 1097,
   "id": "fb01ffbe-14b9-4059-a2ee-e3e4fe701c35",
   "metadata": {},
   "outputs": [
    {
     "data": {
      "text/plain": [
       "<AxesSubplot:xlabel='obs_dat'>"
      ]
     },
     "execution_count": 1097,
     "metadata": {},
     "output_type": "execute_result"
    },
    {
     "data": {
      "image/png": "[encoded data removed]",
      "text/plain": [
       "<Figure size 432x288 with 1 Axes>"
      ]
     },
     "metadata": {
      "needs_background": "light"
     },
     "output_type": "display_data"
    }
   ],
   "source": [
    "training_data.groupby(\"obs_dat\")[\"relevance\"].count().plot.line()"
   ]
  },
  {
   "cell_type": "code",
   "execution_count": 1096,
   "id": "09bfb09f-37e0-42bf-9ada-532d9e732dfc",
   "metadata": {},
   "outputs": [
    {
     "data": {
      "text/html": [
       "<div>\n",
       "<style scoped>\n",
       "    .dataframe tbody tr th:only-of-type {\n",
       "        vertical-align: middle;\n",
       "    }\n",
       "\n",
       "    .dataframe tbody tr th {\n",
       "        vertical-align: top;\n",
       "    }\n",
       "\n",
       "    .dataframe thead th {\n",
       "        text-align: right;\n",
       "    }\n",
       "</style>\n",
       "<table border=\"1\" class=\"dataframe\">\n",
       "  <thead>\n",
       "    <tr style=\"text-align: right;\">\n",
       "      <th></th>\n",
       "      <th>num_items</th>\n",
       "      <th>num_pos</th>\n",
       "    </tr>\n",
       "  </thead>\n",
       "  <tbody>\n",
       "    <tr>\n",
       "      <th>count</th>\n",
       "      <td>26804.00</td>\n",
       "      <td>26804.00</td>\n",
       "    </tr>\n",
       "    <tr>\n",
       "      <th>mean</th>\n",
       "      <td>124.46</td>\n",
       "      <td>2.28</td>\n",
       "    </tr>\n",
       "    <tr>\n",
       "      <th>std</th>\n",
       "      <td>11.24</td>\n",
       "      <td>1.86</td>\n",
       "    </tr>\n",
       "    <tr>\n",
       "      <th>min</th>\n",
       "      <td>82.00</td>\n",
       "      <td>1.00</td>\n",
       "    </tr>\n",
       "    <tr>\n",
       "      <th>25%</th>\n",
       "      <td>117.00</td>\n",
       "      <td>1.00</td>\n",
       "    </tr>\n",
       "    <tr>\n",
       "      <th>50%</th>\n",
       "      <td>124.00</td>\n",
       "      <td>2.00</td>\n",
       "    </tr>\n",
       "    <tr>\n",
       "      <th>75%</th>\n",
       "      <td>132.00</td>\n",
       "      <td>3.00</td>\n",
       "    </tr>\n",
       "    <tr>\n",
       "      <th>max</th>\n",
       "      <td>174.00</td>\n",
       "      <td>28.00</td>\n",
       "    </tr>\n",
       "  </tbody>\n",
       "</table>\n",
       "</div>"
      ],
      "text/plain": [
       "       num_items  num_pos\n",
       "count   26804.00 26804.00\n",
       "mean      124.46     2.28\n",
       "std        11.24     1.86\n",
       "min        82.00     1.00\n",
       "25%       117.00     1.00\n",
       "50%       124.00     2.00\n",
       "75%       132.00     3.00\n",
       "max       174.00    28.00"
      ]
     },
     "execution_count": 1096,
     "metadata": {},
     "output_type": "execute_result"
    }
   ],
   "source": [
    "training_data.groupby([\"obs_dat\", \"customer_short_id\"]).agg(\n",
    "    num_items=(\"relevance\", \"count\"), num_pos=(\"relevance\", \"sum\")\n",
    ").describe()"
   ]
  },
  {
   "cell_type": "code",
   "execution_count": 1100,
   "id": "2d83f042-5244-4e25-a398-49285541f1ab",
   "metadata": {},
   "outputs": [
    {
     "data": {
      "text/html": [
       "<div>\n",
       "<style scoped>\n",
       "    .dataframe tbody tr th:only-of-type {\n",
       "        vertical-align: middle;\n",
       "    }\n",
       "\n",
       "    .dataframe tbody tr th {\n",
       "        vertical-align: top;\n",
       "    }\n",
       "\n",
       "    .dataframe thead th {\n",
       "        text-align: right;\n",
       "    }\n",
       "</style>\n",
       "<table border=\"1\" class=\"dataframe\">\n",
       "  <thead>\n",
       "    <tr style=\"text-align: right;\">\n",
       "      <th></th>\n",
       "      <th>num_items</th>\n",
       "      <th>num_pos</th>\n",
       "    </tr>\n",
       "  </thead>\n",
       "  <tbody>\n",
       "    <tr>\n",
       "      <th>count</th>\n",
       "      <td>1019.00</td>\n",
       "      <td>1019.00</td>\n",
       "    </tr>\n",
       "    <tr>\n",
       "      <th>mean</th>\n",
       "      <td>2048.08</td>\n",
       "      <td>2.16</td>\n",
       "    </tr>\n",
       "    <tr>\n",
       "      <th>std</th>\n",
       "      <td>58.11</td>\n",
       "      <td>1.79</td>\n",
       "    </tr>\n",
       "    <tr>\n",
       "      <th>min</th>\n",
       "      <td>2000.00</td>\n",
       "      <td>1.00</td>\n",
       "    </tr>\n",
       "    <tr>\n",
       "      <th>25%</th>\n",
       "      <td>2009.00</td>\n",
       "      <td>1.00</td>\n",
       "    </tr>\n",
       "    <tr>\n",
       "      <th>50%</th>\n",
       "      <td>2030.00</td>\n",
       "      <td>2.00</td>\n",
       "    </tr>\n",
       "    <tr>\n",
       "      <th>75%</th>\n",
       "      <td>2066.00</td>\n",
       "      <td>3.00</td>\n",
       "    </tr>\n",
       "    <tr>\n",
       "      <th>max</th>\n",
       "      <td>2458.00</td>\n",
       "      <td>16.00</td>\n",
       "    </tr>\n",
       "  </tbody>\n",
       "</table>\n",
       "</div>"
      ],
      "text/plain": [
       "       num_items  num_pos\n",
       "count    1019.00  1019.00\n",
       "mean     2048.08     2.16\n",
       "std        58.11     1.79\n",
       "min      2000.00     1.00\n",
       "25%      2009.00     1.00\n",
       "50%      2030.00     2.00\n",
       "75%      2066.00     3.00\n",
       "max      2458.00    16.00"
      ]
     },
     "execution_count": 1100,
     "metadata": {},
     "output_type": "execute_result"
    }
   ],
   "source": [
    "validation_data.groupby([\"obs_dat\", \"customer_short_id\"]).agg(\n",
    "    num_items=(\"relevance\", \"count\"), num_pos=(\"relevance\", \"sum\")\n",
    ").describe()"
   ]
  },
  {
   "cell_type": "code",
   "execution_count": 1101,
   "id": "7ea99f84-1be5-456c-a203-e3710cef86e2",
   "metadata": {},
   "outputs": [
    {
     "data": {
      "text/plain": [
       "0    3275094\n",
       "1      61012\n",
       "Name: relevance, dtype: Int64"
      ]
     },
     "execution_count": 1101,
     "metadata": {},
     "output_type": "execute_result"
    }
   ],
   "source": [
    "training_data[\"relevance\"].value_counts()"
   ]
  },
  {
   "cell_type": "code",
   "execution_count": 1102,
   "id": "b17bf853-8d17-48c4-8345-62f347a0630f",
   "metadata": {},
   "outputs": [
    {
     "data": {
      "text/plain": [
       "<AxesSubplot:ylabel='Frequency'>"
      ]
     },
     "execution_count": 1102,
     "metadata": {},
     "output_type": "execute_result"
    },
    {
     "data": {
      "image/png": "[encoded data removed]",
      "text/plain": [
       "<Figure size 1224x360 with 3 Axes>"
      ]
     },
     "metadata": {
      "needs_background": "light"
     },
     "output_type": "display_data"
    }
   ],
   "source": [
    "fig, axs = plt.subplots(1, 3, figsize=(17, 5))\n",
    "\n",
    "training_data[\"relevance\"].plot.hist(log=True, ax=axs[0])\n",
    "\n",
    "training_data[lambda d: d[\"relevance\"] == 1][\"article_similarity_score\"].plot.hist(\n",
    "    density=True, bins=100, ax=axs[1]\n",
    ")\n",
    "training_data[lambda d: d[\"relevance\"] == 0][\"article_similarity_score\"].plot.hist(\n",
    "    density=True, alpha=0.5, bins=100, ax=axs[1]\n",
    ")\n",
    "\n",
    "training_data[lambda d: d[\"relevance\"] == 1][\"article_sales_score\"].plot.hist(\n",
    "    density=True, bins=100, ax=axs[2]\n",
    ")\n",
    "training_data[lambda d: d[\"relevance\"] == 0][\"article_sales_score\"].plot.hist(\n",
    "    density=True, alpha=0.5, bins=100, ax=axs[2]\n",
    ")"
   ]
  },
  {
   "cell_type": "markdown",
   "id": "834a946d-bef4-498a-8e43-fc98faa47f02",
   "metadata": {},
   "source": [
    "## Model Training"
   ]
  },
  {
   "cell_type": "code",
   "execution_count": 1103,
   "id": "5a04f7d4-2e22-4b98-ad45-87668190b7c7",
   "metadata": {},
   "outputs": [],
   "source": [
    "pipe = get_ranker_pipeline(\n",
    "    [\n",
    "        \"article_similarity_score\",\n",
    "        \"article_sales_score\",\n",
    "        \"prev_purchases_score\",\n",
    "        \"feat_customer_age\",\n",
    "        \"feat_customer_price_affinity\",\n",
    "        \"feat_customer_stdev_price\",\n",
    "        \"feat_customer_num_purchases\",\n",
    "        \"feat_article_average_price\",\n",
    "        \"feat_article_stdev_price\",\n",
    "        \"feat_article_num_sales\",\n",
    "        \"feat_article_num_distinct_customers\",\n",
    "        \"feat_article_average_age\",\n",
    "        \"feat_article_stdev_age\",\n",
    "        \"feat_article_colour_group_code\",\n",
    "        \"feat_article_perceived_colour_value_id\",\n",
    "        \"feat_article_section_no\",\n",
    "        # \"feat_article_index_code\",\n",
    "        \"feat_article_garment_group_no\",\n",
    "    ]\n",
    ")"
   ]
  },
  {
   "cell_type": "code",
   "execution_count": 1104,
   "id": "924f5542-c198-490e-8456-6902413bafce",
   "metadata": {},
   "outputs": [],
   "source": [
    "model = pipe[-1]"
   ]
  },
  {
   "cell_type": "code",
   "execution_count": 1105,
   "id": "ff852cd7-332e-4559-9075-cead45d8b59c",
   "metadata": {},
   "outputs": [
    {
     "data": {
      "text/plain": [
       "Pipeline(steps=[('features',\n",
       "                 Pipeline(steps=[('to_dataframe',\n",
       "                                  FunctionTransformer(func=<function to_dataframe at 0x13cccbb80>,\n",
       "                                                      kw_args={'col_labels': ['article_similarity_score',\n",
       "                                                                              'article_sales_score',\n",
       "                                                                              'prev_purchases_score',\n",
       "                                                                              'feat_customer_age',\n",
       "                                                                              'feat_customer_price_affinity',\n",
       "                                                                              'feat_customer_stdev_price',\n",
       "                                                                              'feat_customer_num_purchases',\n",
       "                                                                              'feat_article_average_price',\n",
       "                                                                              'feat_article_stdev_price',\n",
       "                                                                              'feat_article_num_sales',\n",
       "                                                                              'feat_article_num_distinct_customers',\n",
       "                                                                              'feat_article_average_age',\n",
       "                                                                              'feat_article_stdev_age',\n",
       "                                                                              'feat_article_colour_group_code',\n",
       "                                                                              'feat_article_perceived_colour_value_id',\n",
       "                                                                              'feat_article_section_no',\n",
       "                                                                              'feat_article_garment_group_no']}))])),\n",
       "                ('ranker', LGBMRanker(metric='ndcg', objective='lambdarank'))])"
      ]
     },
     "execution_count": 1105,
     "metadata": {},
     "output_type": "execute_result"
    }
   ],
   "source": [
    "pipe"
   ]
  },
  {
   "cell_type": "code",
   "execution_count": 1108,
   "id": "c2392d2b-3d88-42a5-b61b-d26a4b72922a",
   "metadata": {},
   "outputs": [
    {
     "data": {
      "text/plain": [
       "((3336106, 17), 3336106, 26804)"
      ]
     },
     "execution_count": 1108,
     "metadata": {},
     "output_type": "execute_result"
    }
   ],
   "source": [
    "df_train = (\n",
    "    training_data.groupby([\"obs_dat\", \"customer_short_id\"], sort=False)\n",
    "    .apply(lambda g: g.sample(frac=1))\n",
    "    .reset_index(drop=True)\n",
    ")\n",
    "X_train = pipe[:-1].fit_transform(df_train).astype(\"float64\")\n",
    "y_train = df_train[\"relevance\"].astype(\"int32\")\n",
    "qids_train = (\n",
    "    df_train.groupby([\"obs_dat\", \"customer_short_id\"])[\"relevance\"].count().to_numpy()\n",
    ")\n",
    "\n",
    "X_train.shape, len(y_train), len(qids_train)"
   ]
  },
  {
   "cell_type": "code",
   "execution_count": 1109,
   "id": "68375133-93b6-47f0-bb45-3da6a31dc0cd",
   "metadata": {},
   "outputs": [
    {
     "data": {
      "text/plain": [
       "((2086993, 17), 2086993, 1019)"
      ]
     },
     "execution_count": 1109,
     "metadata": {},
     "output_type": "execute_result"
    }
   ],
   "source": [
    "df_val = (\n",
    "    validation_data.groupby([\"obs_dat\", \"customer_short_id\"], sort=False)\n",
    "    .apply(lambda g: g.sample(frac=1))\n",
    "    .reset_index(drop=True)\n",
    ")\n",
    "X_val = pipe[:-1].fit_transform(df_val).astype(\"float64\")\n",
    "y_val = df_val[\"relevance\"].astype(\"int32\")\n",
    "qids_val = (\n",
    "    df_val.groupby([\"obs_dat\", \"customer_short_id\"])[\"relevance\"].count().to_numpy()\n",
    ")\n",
    "\n",
    "X_val.shape, len(y_val), len(qids_val)"
   ]
  },
  {
   "cell_type": "code",
   "execution_count": 1110,
   "id": "58e1bc2a-3072-406c-8fb1-93c18d317944",
   "metadata": {},
   "outputs": [
    {
     "name": "stdout",
     "output_type": "stream",
     "text": [
      "[1]\ttraining's map@12: 0.185405\ttraining's ndcg@12: 0.245554\tvalid_1's map@12: 0.106083\tvalid_1's ndcg@12: 0.122249\n",
      "[2]\ttraining's map@12: 0.193059\ttraining's ndcg@12: 0.254736\tvalid_1's map@12: 0.109885\tvalid_1's ndcg@12: 0.126531\n",
      "[3]\ttraining's map@12: 0.196984\ttraining's ndcg@12: 0.259628\tvalid_1's map@12: 0.10985\tvalid_1's ndcg@12: 0.126849\n",
      "[4]\ttraining's map@12: 0.197768\ttraining's ndcg@12: 0.260679\tvalid_1's map@12: 0.109172\tvalid_1's ndcg@12: 0.1266\n",
      "[5]\ttraining's map@12: 0.199014\ttraining's ndcg@12: 0.262238\tvalid_1's map@12: 0.109255\tvalid_1's ndcg@12: 0.127001\n",
      "[6]\ttraining's map@12: 0.199395\ttraining's ndcg@12: 0.262981\tvalid_1's map@12: 0.10899\tvalid_1's ndcg@12: 0.126536\n",
      "[7]\ttraining's map@12: 0.200383\ttraining's ndcg@12: 0.264167\tvalid_1's map@12: 0.106914\tvalid_1's ndcg@12: 0.124695\n",
      "[8]\ttraining's map@12: 0.200833\ttraining's ndcg@12: 0.264726\tvalid_1's map@12: 0.107114\tvalid_1's ndcg@12: 0.125115\n",
      "[9]\ttraining's map@12: 0.201344\ttraining's ndcg@12: 0.265303\tvalid_1's map@12: 0.107107\tvalid_1's ndcg@12: 0.12512\n",
      "[10]\ttraining's map@12: 0.202106\ttraining's ndcg@12: 0.266539\tvalid_1's map@12: 0.107472\tvalid_1's ndcg@12: 0.126085\n",
      "[11]\ttraining's map@12: 0.202447\ttraining's ndcg@12: 0.267079\tvalid_1's map@12: 0.107321\tvalid_1's ndcg@12: 0.125692\n",
      "[12]\ttraining's map@12: 0.202988\ttraining's ndcg@12: 0.267789\tvalid_1's map@12: 0.106743\tvalid_1's ndcg@12: 0.125443\n",
      "[13]\ttraining's map@12: 0.203566\ttraining's ndcg@12: 0.268399\tvalid_1's map@12: 0.107444\tvalid_1's ndcg@12: 0.12637\n",
      "[14]\ttraining's map@12: 0.203684\ttraining's ndcg@12: 0.268555\tvalid_1's map@12: 0.107221\tvalid_1's ndcg@12: 0.126302\n",
      "[15]\ttraining's map@12: 0.204216\ttraining's ndcg@12: 0.26909\tvalid_1's map@12: 0.106922\tvalid_1's ndcg@12: 0.124856\n",
      "[16]\ttraining's map@12: 0.204272\ttraining's ndcg@12: 0.269461\tvalid_1's map@12: 0.107017\tvalid_1's ndcg@12: 0.125314\n",
      "[17]\ttraining's map@12: 0.204727\ttraining's ndcg@12: 0.270017\tvalid_1's map@12: 0.107241\tvalid_1's ndcg@12: 0.126083\n",
      "[18]\ttraining's map@12: 0.204795\ttraining's ndcg@12: 0.269975\tvalid_1's map@12: 0.107026\tvalid_1's ndcg@12: 0.125791\n",
      "[19]\ttraining's map@12: 0.205038\ttraining's ndcg@12: 0.270287\tvalid_1's map@12: 0.107008\tvalid_1's ndcg@12: 0.125607\n",
      "[20]\ttraining's map@12: 0.205478\ttraining's ndcg@12: 0.270871\tvalid_1's map@12: 0.107795\tvalid_1's ndcg@12: 0.126688\n",
      "[21]\ttraining's map@12: 0.205886\ttraining's ndcg@12: 0.271308\tvalid_1's map@12: 0.108381\tvalid_1's ndcg@12: 0.127399\n",
      "[22]\ttraining's map@12: 0.20611\ttraining's ndcg@12: 0.271667\tvalid_1's map@12: 0.108382\tvalid_1's ndcg@12: 0.127324\n",
      "[23]\ttraining's map@12: 0.206894\ttraining's ndcg@12: 0.272603\tvalid_1's map@12: 0.108261\tvalid_1's ndcg@12: 0.127414\n",
      "[24]\ttraining's map@12: 0.207184\ttraining's ndcg@12: 0.272891\tvalid_1's map@12: 0.108274\tvalid_1's ndcg@12: 0.127403\n",
      "[25]\ttraining's map@12: 0.20738\ttraining's ndcg@12: 0.27313\tvalid_1's map@12: 0.108347\tvalid_1's ndcg@12: 0.127625\n",
      "[26]\ttraining's map@12: 0.207654\ttraining's ndcg@12: 0.273595\tvalid_1's map@12: 0.108338\tvalid_1's ndcg@12: 0.127319\n",
      "[27]\ttraining's map@12: 0.208019\ttraining's ndcg@12: 0.274025\tvalid_1's map@12: 0.108306\tvalid_1's ndcg@12: 0.12765\n",
      "[28]\ttraining's map@12: 0.208399\ttraining's ndcg@12: 0.27446\tvalid_1's map@12: 0.10835\tvalid_1's ndcg@12: 0.1277\n",
      "[29]\ttraining's map@12: 0.208653\ttraining's ndcg@12: 0.27471\tvalid_1's map@12: 0.10824\tvalid_1's ndcg@12: 0.127331\n",
      "[30]\ttraining's map@12: 0.209153\ttraining's ndcg@12: 0.275284\tvalid_1's map@12: 0.108493\tvalid_1's ndcg@12: 0.127505\n",
      "[31]\ttraining's map@12: 0.209688\ttraining's ndcg@12: 0.276007\tvalid_1's map@12: 0.108783\tvalid_1's ndcg@12: 0.128306\n",
      "[32]\ttraining's map@12: 0.209852\ttraining's ndcg@12: 0.276191\tvalid_1's map@12: 0.108692\tvalid_1's ndcg@12: 0.128499\n",
      "[33]\ttraining's map@12: 0.210223\ttraining's ndcg@12: 0.276621\tvalid_1's map@12: 0.108721\tvalid_1's ndcg@12: 0.128619\n",
      "[34]\ttraining's map@12: 0.210587\ttraining's ndcg@12: 0.277056\tvalid_1's map@12: 0.108766\tvalid_1's ndcg@12: 0.128835\n",
      "[35]\ttraining's map@12: 0.2109\ttraining's ndcg@12: 0.277488\tvalid_1's map@12: 0.108743\tvalid_1's ndcg@12: 0.128214\n",
      "[36]\ttraining's map@12: 0.211191\ttraining's ndcg@12: 0.277902\tvalid_1's map@12: 0.108845\tvalid_1's ndcg@12: 0.128611\n",
      "[37]\ttraining's map@12: 0.211335\ttraining's ndcg@12: 0.278099\tvalid_1's map@12: 0.109069\tvalid_1's ndcg@12: 0.129082\n",
      "[38]\ttraining's map@12: 0.211531\ttraining's ndcg@12: 0.278501\tvalid_1's map@12: 0.109496\tvalid_1's ndcg@12: 0.129252\n",
      "[39]\ttraining's map@12: 0.21183\ttraining's ndcg@12: 0.278839\tvalid_1's map@12: 0.109432\tvalid_1's ndcg@12: 0.128796\n",
      "[40]\ttraining's map@12: 0.212023\ttraining's ndcg@12: 0.279353\tvalid_1's map@12: 0.109212\tvalid_1's ndcg@12: 0.128554\n",
      "[41]\ttraining's map@12: 0.21232\ttraining's ndcg@12: 0.27986\tvalid_1's map@12: 0.108923\tvalid_1's ndcg@12: 0.128563\n",
      "[42]\ttraining's map@12: 0.212699\ttraining's ndcg@12: 0.280387\tvalid_1's map@12: 0.10896\tvalid_1's ndcg@12: 0.128456\n",
      "[43]\ttraining's map@12: 0.213083\ttraining's ndcg@12: 0.280836\tvalid_1's map@12: 0.109113\tvalid_1's ndcg@12: 0.128801\n",
      "[44]\ttraining's map@12: 0.213223\ttraining's ndcg@12: 0.280932\tvalid_1's map@12: 0.109803\tvalid_1's ndcg@12: 0.129361\n",
      "[45]\ttraining's map@12: 0.213387\ttraining's ndcg@12: 0.281168\tvalid_1's map@12: 0.109708\tvalid_1's ndcg@12: 0.129191\n",
      "[46]\ttraining's map@12: 0.213905\ttraining's ndcg@12: 0.281901\tvalid_1's map@12: 0.109402\tvalid_1's ndcg@12: 0.128974\n",
      "[47]\ttraining's map@12: 0.214176\ttraining's ndcg@12: 0.282338\tvalid_1's map@12: 0.109635\tvalid_1's ndcg@12: 0.129449\n",
      "[48]\ttraining's map@12: 0.214578\ttraining's ndcg@12: 0.282792\tvalid_1's map@12: 0.109265\tvalid_1's ndcg@12: 0.128929\n",
      "[49]\ttraining's map@12: 0.214695\ttraining's ndcg@12: 0.282785\tvalid_1's map@12: 0.10912\tvalid_1's ndcg@12: 0.128881\n",
      "[50]\ttraining's map@12: 0.214835\ttraining's ndcg@12: 0.283101\tvalid_1's map@12: 0.109234\tvalid_1's ndcg@12: 0.128827\n",
      "[51]\ttraining's map@12: 0.215324\ttraining's ndcg@12: 0.283501\tvalid_1's map@12: 0.109467\tvalid_1's ndcg@12: 0.129293\n",
      "[52]\ttraining's map@12: 0.21567\ttraining's ndcg@12: 0.28388\tvalid_1's map@12: 0.110015\tvalid_1's ndcg@12: 0.130074\n",
      "[53]\ttraining's map@12: 0.215887\ttraining's ndcg@12: 0.284148\tvalid_1's map@12: 0.109785\tvalid_1's ndcg@12: 0.129525\n",
      "[54]\ttraining's map@12: 0.216135\ttraining's ndcg@12: 0.284606\tvalid_1's map@12: 0.1094\tvalid_1's ndcg@12: 0.129299\n",
      "[55]\ttraining's map@12: 0.216166\ttraining's ndcg@12: 0.284641\tvalid_1's map@12: 0.109349\tvalid_1's ndcg@12: 0.129247\n",
      "[56]\ttraining's map@12: 0.216456\ttraining's ndcg@12: 0.285053\tvalid_1's map@12: 0.110054\tvalid_1's ndcg@12: 0.129922\n",
      "[57]\ttraining's map@12: 0.216693\ttraining's ndcg@12: 0.285388\tvalid_1's map@12: 0.110721\tvalid_1's ndcg@12: 0.130604\n",
      "[58]\ttraining's map@12: 0.217082\ttraining's ndcg@12: 0.285837\tvalid_1's map@12: 0.110855\tvalid_1's ndcg@12: 0.130797\n",
      "[59]\ttraining's map@12: 0.217366\ttraining's ndcg@12: 0.286165\tvalid_1's map@12: 0.110887\tvalid_1's ndcg@12: 0.130831\n",
      "[60]\ttraining's map@12: 0.217422\ttraining's ndcg@12: 0.286298\tvalid_1's map@12: 0.111138\tvalid_1's ndcg@12: 0.130837\n",
      "[61]\ttraining's map@12: 0.217579\ttraining's ndcg@12: 0.286494\tvalid_1's map@12: 0.110757\tvalid_1's ndcg@12: 0.130594\n",
      "[62]\ttraining's map@12: 0.217717\ttraining's ndcg@12: 0.286698\tvalid_1's map@12: 0.110761\tvalid_1's ndcg@12: 0.130599\n",
      "[63]\ttraining's map@12: 0.217911\ttraining's ndcg@12: 0.287015\tvalid_1's map@12: 0.110715\tvalid_1's ndcg@12: 0.130431\n",
      "[64]\ttraining's map@12: 0.218278\ttraining's ndcg@12: 0.28736\tvalid_1's map@12: 0.110806\tvalid_1's ndcg@12: 0.13081\n",
      "[65]\ttraining's map@12: 0.218308\ttraining's ndcg@12: 0.287386\tvalid_1's map@12: 0.110861\tvalid_1's ndcg@12: 0.130969\n",
      "[66]\ttraining's map@12: 0.218485\ttraining's ndcg@12: 0.287587\tvalid_1's map@12: 0.110631\tvalid_1's ndcg@12: 0.13026\n",
      "[67]\ttraining's map@12: 0.218668\ttraining's ndcg@12: 0.287694\tvalid_1's map@12: 0.11064\tvalid_1's ndcg@12: 0.130253\n",
      "[68]\ttraining's map@12: 0.218901\ttraining's ndcg@12: 0.287983\tvalid_1's map@12: 0.110646\tvalid_1's ndcg@12: 0.130141\n",
      "[69]\ttraining's map@12: 0.219073\ttraining's ndcg@12: 0.288195\tvalid_1's map@12: 0.110651\tvalid_1's ndcg@12: 0.130133\n",
      "[70]\ttraining's map@12: 0.219325\ttraining's ndcg@12: 0.288594\tvalid_1's map@12: 0.110973\tvalid_1's ndcg@12: 0.130569\n",
      "[71]\ttraining's map@12: 0.219734\ttraining's ndcg@12: 0.289118\tvalid_1's map@12: 0.11112\tvalid_1's ndcg@12: 0.131034\n",
      "[72]\ttraining's map@12: 0.219898\ttraining's ndcg@12: 0.289238\tvalid_1's map@12: 0.111348\tvalid_1's ndcg@12: 0.131383\n",
      "[73]\ttraining's map@12: 0.22012\ttraining's ndcg@12: 0.289701\tvalid_1's map@12: 0.11142\tvalid_1's ndcg@12: 0.13121\n",
      "[74]\ttraining's map@12: 0.220604\ttraining's ndcg@12: 0.290343\tvalid_1's map@12: 0.111096\tvalid_1's ndcg@12: 0.130933\n",
      "[75]\ttraining's map@12: 0.220764\ttraining's ndcg@12: 0.290728\tvalid_1's map@12: 0.111047\tvalid_1's ndcg@12: 0.130865\n",
      "[76]\ttraining's map@12: 0.220946\ttraining's ndcg@12: 0.290942\tvalid_1's map@12: 0.110955\tvalid_1's ndcg@12: 0.13088\n",
      "[77]\ttraining's map@12: 0.221136\ttraining's ndcg@12: 0.29112\tvalid_1's map@12: 0.110881\tvalid_1's ndcg@12: 0.1307\n",
      "[78]\ttraining's map@12: 0.221341\ttraining's ndcg@12: 0.291211\tvalid_1's map@12: 0.110587\tvalid_1's ndcg@12: 0.13041\n",
      "[79]\ttraining's map@12: 0.221465\ttraining's ndcg@12: 0.291377\tvalid_1's map@12: 0.110452\tvalid_1's ndcg@12: 0.13048\n",
      "[80]\ttraining's map@12: 0.221709\ttraining's ndcg@12: 0.291619\tvalid_1's map@12: 0.110252\tvalid_1's ndcg@12: 0.130373\n",
      "[81]\ttraining's map@12: 0.22196\ttraining's ndcg@12: 0.291907\tvalid_1's map@12: 0.110322\tvalid_1's ndcg@12: 0.130334\n",
      "[82]\ttraining's map@12: 0.222152\ttraining's ndcg@12: 0.292277\tvalid_1's map@12: 0.111728\tvalid_1's ndcg@12: 0.131468\n",
      "[83]\ttraining's map@12: 0.222359\ttraining's ndcg@12: 0.292578\tvalid_1's map@12: 0.111746\tvalid_1's ndcg@12: 0.131443\n",
      "[84]\ttraining's map@12: 0.222529\ttraining's ndcg@12: 0.292684\tvalid_1's map@12: 0.111347\tvalid_1's ndcg@12: 0.131071\n",
      "[85]\ttraining's map@12: 0.222772\ttraining's ndcg@12: 0.292977\tvalid_1's map@12: 0.110981\tvalid_1's ndcg@12: 0.130585\n",
      "[86]\ttraining's map@12: 0.223007\ttraining's ndcg@12: 0.293478\tvalid_1's map@12: 0.11133\tvalid_1's ndcg@12: 0.130918\n",
      "[87]\ttraining's map@12: 0.223181\ttraining's ndcg@12: 0.293659\tvalid_1's map@12: 0.111353\tvalid_1's ndcg@12: 0.131043\n",
      "[88]\ttraining's map@12: 0.223463\ttraining's ndcg@12: 0.294044\tvalid_1's map@12: 0.1118\tvalid_1's ndcg@12: 0.131603\n",
      "[89]\ttraining's map@12: 0.223583\ttraining's ndcg@12: 0.294089\tvalid_1's map@12: 0.111796\tvalid_1's ndcg@12: 0.131635\n",
      "[90]\ttraining's map@12: 0.223824\ttraining's ndcg@12: 0.294336\tvalid_1's map@12: 0.112168\tvalid_1's ndcg@12: 0.132097\n",
      "[91]\ttraining's map@12: 0.223939\ttraining's ndcg@12: 0.294513\tvalid_1's map@12: 0.112162\tvalid_1's ndcg@12: 0.132087\n",
      "[92]\ttraining's map@12: 0.224177\ttraining's ndcg@12: 0.294882\tvalid_1's map@12: 0.112343\tvalid_1's ndcg@12: 0.132221\n",
      "[93]\ttraining's map@12: 0.224454\ttraining's ndcg@12: 0.295224\tvalid_1's map@12: 0.112663\tvalid_1's ndcg@12: 0.132702\n",
      "[94]\ttraining's map@12: 0.224735\ttraining's ndcg@12: 0.295438\tvalid_1's map@12: 0.112733\tvalid_1's ndcg@12: 0.133072\n",
      "[95]\ttraining's map@12: 0.22486\ttraining's ndcg@12: 0.295694\tvalid_1's map@12: 0.112551\tvalid_1's ndcg@12: 0.132911\n",
      "[96]\ttraining's map@12: 0.225021\ttraining's ndcg@12: 0.295912\tvalid_1's map@12: 0.112593\tvalid_1's ndcg@12: 0.13304\n",
      "[97]\ttraining's map@12: 0.22528\ttraining's ndcg@12: 0.296291\tvalid_1's map@12: 0.1125\tvalid_1's ndcg@12: 0.132878\n",
      "[98]\ttraining's map@12: 0.225532\ttraining's ndcg@12: 0.29658\tvalid_1's map@12: 0.112274\tvalid_1's ndcg@12: 0.132654\n",
      "[99]\ttraining's map@12: 0.225973\ttraining's ndcg@12: 0.297073\tvalid_1's map@12: 0.112399\tvalid_1's ndcg@12: 0.132794\n",
      "[100]\ttraining's map@12: 0.226252\ttraining's ndcg@12: 0.297454\tvalid_1's map@12: 0.112684\tvalid_1's ndcg@12: 0.133067\n"
     ]
    },
    {
     "data": {
      "text/plain": [
       "LGBMRanker(metric='ndcg', objective='lambdarank')"
      ]
     },
     "execution_count": 1110,
     "metadata": {},
     "output_type": "execute_result"
    }
   ],
   "source": [
    "model.set_params(n_estimators=100).fit(\n",
    "    X=X_train,\n",
    "    y=y_train,\n",
    "    group=qids_train,\n",
    "    eval_metric=[\"ndcg\", \"map\"],\n",
    "    eval_set=[(X_train, y_train), (X_val, y_val)],\n",
    "    eval_group=[qids_train, qids_val],\n",
    "    eval_at=12,\n",
    "    callbacks=[lightgbm.log_evaluation()],\n",
    ")"
   ]
  },
  {
   "cell_type": "code",
   "execution_count": 1111,
   "id": "2a3cea76-b507-4764-8f33-0d189cda2029",
   "metadata": {
    "jupyter": {
     "source_hidden": true
    },
    "tags": []
   },
   "outputs": [],
   "source": [
    "df_eval_results = (\n",
    "    pd.DataFrame(\n",
    "        {\n",
    "            \"train_valid_map\": model.evals_result_[\"training\"][\"map@12\"],\n",
    "            \"train_valid_ndcg\": model.evals_result_[\"training\"][\"ndcg@12\"],\n",
    "            \"val_valid_map\": model.evals_result_[\"valid_1\"][\"map@12\"],\n",
    "            \"val_valid_ndcg\": model.evals_result_[\"valid_1\"][\"ndcg@12\"],\n",
    "        }\n",
    "    )\n",
    "    .reset_index()\n",
    "    .rename({\"index\": \"iteration\"}, axis=1)\n",
    "    .melt(\n",
    "        id_vars=\"iteration\",\n",
    "        value_vars=[\n",
    "            \"train_valid_map\",\n",
    "            \"train_valid_ndcg\",\n",
    "            \"val_valid_map\",\n",
    "            \"val_valid_ndcg\",\n",
    "        ],\n",
    "    )\n",
    ")"
   ]
  },
  {
   "cell_type": "code",
   "execution_count": 1112,
   "id": "3aa226d9-a1c4-4c6f-869b-917b67637064",
   "metadata": {
    "tags": []
   },
   "outputs": [
    {
     "data": {
      "text/html": [
       "\n",
       "<div id=\"altair-viz-1ef2aee7c19c4ccd92cf589de2328ac4\"></div>\n",
       "<script type=\"text/javascript\">\n",
       "  var VEGA_DEBUG = (typeof VEGA_DEBUG == \"undefined\") ? {} : VEGA_DEBUG;\n",
       "  (function(spec, embedOpt){\n",
       "    let outputDiv = document.currentScript.previousElementSibling;\n",
       "    if (outputDiv.id !== \"altair-viz-1ef2aee7c19c4ccd92cf589de2328ac4\") {\n",
       "      outputDiv = document.getElementById(\"altair-viz-1ef2aee7c19c4ccd92cf589de2328ac4\");\n",
       "    }\n",
       "    const paths = {\n",
       "      \"vega\": \"https://cdn.jsdelivr.net/npm//vega@5?noext\",\n",
       "      \"vega-lib\": \"https://cdn.jsdelivr.net/npm//vega-lib?noext\",\n",
       "      \"vega-lite\": \"https://cdn.jsdelivr.net/npm//vega-lite@4.17.0?noext\",\n",
       "      \"vega-embed\": \"https://cdn.jsdelivr.net/npm//vega-embed@6?noext\",\n",
       "    };\n",
       "\n",
       "    function maybeLoadScript(lib, version) {\n",
       "      var key = `${lib.replace(\"-\", \"\")}_version`;\n",
       "      return (VEGA_DEBUG[key] == version) ?\n",
       "        Promise.resolve(paths[lib]) :\n",
       "        new Promise(function(resolve, reject) {\n",
       "          var s = document.createElement('script');\n",
       "          document.getElementsByTagName(\"head\")[0].appendChild(s);\n",
       "          s.async = true;\n",
       "          s.onload = () => {\n",
       "            VEGA_DEBUG[key] = version;\n",
       "            return resolve(paths[lib]);\n",
       "          };\n",
       "          s.onerror = () => reject(`Error loading script: ${paths[lib]}`);\n",
       "          s.src = paths[lib];\n",
       "        });\n",
       "    }\n",
       "\n",
       "    function showError(err) {\n",
       "      outputDiv.innerHTML = `<div class=\"error\" style=\"color:red;\">${err}</div>`;\n",
       "      throw err;\n",
       "    }\n",
       "\n",
       "    function displayChart(vegaEmbed) {\n",
       "      vegaEmbed(outputDiv, spec, embedOpt)\n",
       "        .catch(err => showError(`Javascript Error: ${err.message}<br>This usually means there's a typo in your chart specification. See the javascript console for the full traceback.`));\n",
       "    }\n",
       "\n",
       "    if(typeof define === \"function\" && define.amd) {\n",
       "      requirejs.config({paths});\n",
       "      require([\"vega-embed\"], displayChart, err => showError(`Error loading script: ${err.message}`));\n",
       "    } else {\n",
       "      maybeLoadScript(\"vega\", \"5\")\n",
       "        .then(() => maybeLoadScript(\"vega-lite\", \"4.17.0\"))\n",
       "        .then(() => maybeLoadScript(\"vega-embed\", \"6\"))\n",
       "        .catch(showError)\n",
       "        .then(() => displayChart(vegaEmbed));\n",
       "    }\n",
       "  })({\"config\": {\"view\": {\"continuousWidth\": 400, \"continuousHeight\": 300}}, \"hconcat\": [{\"data\": {\"name\": \"data-8eae476d64818e2df1e07a0276e35ba1\"}, \"mark\": \"line\", \"encoding\": {\"color\": {\"field\": \"variable\", \"type\": \"nominal\"}, \"x\": {\"field\": \"iteration\", \"type\": \"quantitative\"}, \"y\": {\"field\": \"value\", \"type\": \"quantitative\"}}, \"title\": \"NDCG@12\"}, {\"data\": {\"name\": \"data-13013706d7e195d3a026b1a7dc6c7b03\"}, \"mark\": \"line\", \"encoding\": {\"color\": {\"field\": \"variable\", \"type\": \"nominal\"}, \"x\": {\"field\": \"iteration\", \"type\": \"quantitative\"}, \"y\": {\"field\": \"value\", \"type\": \"quantitative\"}}, \"title\": \"MAP@12\"}], \"$schema\": \"https://vega.github.io/schema/vega-lite/v4.17.0.json\", \"datasets\": {\"data-8eae476d64818e2df1e07a0276e35ba1\": [{\"iteration\": 0, \"variable\": \"train_valid_ndcg\", \"value\": 0.24555375846726654}, {\"iteration\": 1, \"variable\": \"train_valid_ndcg\", \"value\": 0.2547362096297254}, {\"iteration\": 2, \"variable\": \"train_valid_ndcg\", \"value\": 0.2596277684868083}, {\"iteration\": 3, \"variable\": \"train_valid_ndcg\", \"value\": 0.26067904269498}, {\"iteration\": 4, \"variable\": \"train_valid_ndcg\", \"value\": 0.26223788208692345}, {\"iteration\": 5, \"variable\": \"train_valid_ndcg\", \"value\": 0.2629808910794732}, {\"iteration\": 6, \"variable\": \"train_valid_ndcg\", \"value\": 0.2641668017972945}, {\"iteration\": 7, \"variable\": \"train_valid_ndcg\", \"value\": 0.2647263548981331}, {\"iteration\": 8, \"variable\": \"train_valid_ndcg\", \"value\": 0.26530288224528265}, {\"iteration\": 9, \"variable\": \"train_valid_ndcg\", \"value\": 0.26653890844907113}, {\"iteration\": 10, \"variable\": \"train_valid_ndcg\", \"value\": 0.2670791308946682}, {\"iteration\": 11, \"variable\": \"train_valid_ndcg\", \"value\": 0.2677894078870507}, {\"iteration\": 12, \"variable\": \"train_valid_ndcg\", \"value\": 0.2683993042449141}, {\"iteration\": 13, \"variable\": \"train_valid_ndcg\", \"value\": 0.26855534475253967}, {\"iteration\": 14, \"variable\": \"train_valid_ndcg\", \"value\": 0.26908977809886614}, {\"iteration\": 15, \"variable\": \"train_valid_ndcg\", \"value\": 0.2694605590620915}, {\"iteration\": 16, \"variable\": \"train_valid_ndcg\", \"value\": 0.27001705259332054}, {\"iteration\": 17, \"variable\": \"train_valid_ndcg\", \"value\": 0.2699753566129639}, {\"iteration\": 18, \"variable\": \"train_valid_ndcg\", \"value\": 0.2702869435905727}, {\"iteration\": 19, \"variable\": \"train_valid_ndcg\", \"value\": 0.27087114280218655}, {\"iteration\": 20, \"variable\": \"train_valid_ndcg\", \"value\": 0.2713083669023521}, {\"iteration\": 21, \"variable\": \"train_valid_ndcg\", \"value\": 0.27166688773157566}, {\"iteration\": 22, \"variable\": \"train_valid_ndcg\", \"value\": 0.2726031805442263}, {\"iteration\": 23, \"variable\": \"train_valid_ndcg\", \"value\": 0.2728909236854344}, {\"iteration\": 24, \"variable\": \"train_valid_ndcg\", \"value\": 0.2731303851995495}, {\"iteration\": 25, \"variable\": \"train_valid_ndcg\", \"value\": 0.27359479814720494}, {\"iteration\": 26, \"variable\": \"train_valid_ndcg\", \"value\": 0.27402525696354857}, {\"iteration\": 27, \"variable\": \"train_valid_ndcg\", \"value\": 0.27445961179890577}, {\"iteration\": 28, \"variable\": \"train_valid_ndcg\", \"value\": 0.2747101430259079}, {\"iteration\": 29, \"variable\": \"train_valid_ndcg\", \"value\": 0.2752844129718885}, {\"iteration\": 30, \"variable\": \"train_valid_ndcg\", \"value\": 0.27600742239220927}, {\"iteration\": 31, \"variable\": \"train_valid_ndcg\", \"value\": 0.276190855462068}, {\"iteration\": 32, \"variable\": \"train_valid_ndcg\", \"value\": 0.2766206987607603}, {\"iteration\": 33, \"variable\": \"train_valid_ndcg\", \"value\": 0.27705591201691704}, {\"iteration\": 34, \"variable\": \"train_valid_ndcg\", \"value\": 0.2774884966914118}, {\"iteration\": 35, \"variable\": \"train_valid_ndcg\", \"value\": 0.27790172316637357}, {\"iteration\": 36, \"variable\": \"train_valid_ndcg\", \"value\": 0.27809851810099845}, {\"iteration\": 37, \"variable\": \"train_valid_ndcg\", \"value\": 0.27850121971188474}, {\"iteration\": 38, \"variable\": \"train_valid_ndcg\", \"value\": 0.27883850669292903}, {\"iteration\": 39, \"variable\": \"train_valid_ndcg\", \"value\": 0.27935322975392535}, {\"iteration\": 40, \"variable\": \"train_valid_ndcg\", \"value\": 0.2798601135941798}, {\"iteration\": 41, \"variable\": \"train_valid_ndcg\", \"value\": 0.28038678099812203}, {\"iteration\": 42, \"variable\": \"train_valid_ndcg\", \"value\": 0.28083646883424623}, {\"iteration\": 43, \"variable\": \"train_valid_ndcg\", \"value\": 0.28093195110190705}, {\"iteration\": 44, \"variable\": \"train_valid_ndcg\", \"value\": 0.2811679041641259}, {\"iteration\": 45, \"variable\": \"train_valid_ndcg\", \"value\": 0.28190102343641227}, {\"iteration\": 46, \"variable\": \"train_valid_ndcg\", \"value\": 0.28233781025204746}, {\"iteration\": 47, \"variable\": \"train_valid_ndcg\", \"value\": 0.2827920641152597}, {\"iteration\": 48, \"variable\": \"train_valid_ndcg\", \"value\": 0.2827854704573201}, {\"iteration\": 49, \"variable\": \"train_valid_ndcg\", \"value\": 0.2831009063754172}, {\"iteration\": 50, \"variable\": \"train_valid_ndcg\", \"value\": 0.2835014424599108}, {\"iteration\": 51, \"variable\": \"train_valid_ndcg\", \"value\": 0.28387975481289324}, {\"iteration\": 52, \"variable\": \"train_valid_ndcg\", \"value\": 0.284147512758475}, {\"iteration\": 53, \"variable\": \"train_valid_ndcg\", \"value\": 0.2846055684259217}, {\"iteration\": 54, \"variable\": \"train_valid_ndcg\", \"value\": 0.28464065851657006}, {\"iteration\": 55, \"variable\": \"train_valid_ndcg\", \"value\": 0.28505310941200285}, {\"iteration\": 56, \"variable\": \"train_valid_ndcg\", \"value\": 0.2853876835098938}, {\"iteration\": 57, \"variable\": \"train_valid_ndcg\", \"value\": 0.2858372345826322}, {\"iteration\": 58, \"variable\": \"train_valid_ndcg\", \"value\": 0.2861649973979968}, {\"iteration\": 59, \"variable\": \"train_valid_ndcg\", \"value\": 0.2862977500407039}, {\"iteration\": 60, \"variable\": \"train_valid_ndcg\", \"value\": 0.28649423339437546}, {\"iteration\": 61, \"variable\": \"train_valid_ndcg\", \"value\": 0.28669811200382944}, {\"iteration\": 62, \"variable\": \"train_valid_ndcg\", \"value\": 0.2870154496100951}, {\"iteration\": 63, \"variable\": \"train_valid_ndcg\", \"value\": 0.28735980378780884}, {\"iteration\": 64, \"variable\": \"train_valid_ndcg\", \"value\": 0.28738613856876977}, {\"iteration\": 65, \"variable\": \"train_valid_ndcg\", \"value\": 0.2875869378438424}, {\"iteration\": 66, \"variable\": \"train_valid_ndcg\", \"value\": 0.28769393356317574}, {\"iteration\": 67, \"variable\": \"train_valid_ndcg\", \"value\": 0.2879833049036789}, {\"iteration\": 68, \"variable\": \"train_valid_ndcg\", \"value\": 0.28819544770112965}, {\"iteration\": 69, \"variable\": \"train_valid_ndcg\", \"value\": 0.28859402524236066}, {\"iteration\": 70, \"variable\": \"train_valid_ndcg\", \"value\": 0.2891179897998613}, {\"iteration\": 71, \"variable\": \"train_valid_ndcg\", \"value\": 0.2892380347691112}, {\"iteration\": 72, \"variable\": \"train_valid_ndcg\", \"value\": 0.28970122943284354}, {\"iteration\": 73, \"variable\": \"train_valid_ndcg\", \"value\": 0.2903432272256128}, {\"iteration\": 74, \"variable\": \"train_valid_ndcg\", \"value\": 0.29072840145901113}, {\"iteration\": 75, \"variable\": \"train_valid_ndcg\", \"value\": 0.29094209796862536}, {\"iteration\": 76, \"variable\": \"train_valid_ndcg\", \"value\": 0.2911204860312226}, {\"iteration\": 77, \"variable\": \"train_valid_ndcg\", \"value\": 0.2912108110494638}, {\"iteration\": 78, \"variable\": \"train_valid_ndcg\", \"value\": 0.291376914540854}, {\"iteration\": 79, \"variable\": \"train_valid_ndcg\", \"value\": 0.2916191529869909}, {\"iteration\": 80, \"variable\": \"train_valid_ndcg\", \"value\": 0.2919066096729746}, {\"iteration\": 81, \"variable\": \"train_valid_ndcg\", \"value\": 0.29227693144907374}, {\"iteration\": 82, \"variable\": \"train_valid_ndcg\", \"value\": 0.2925782439346991}, {\"iteration\": 83, \"variable\": \"train_valid_ndcg\", \"value\": 0.2926844195869549}, {\"iteration\": 84, \"variable\": \"train_valid_ndcg\", \"value\": 0.29297663943805313}, {\"iteration\": 85, \"variable\": \"train_valid_ndcg\", \"value\": 0.2934783860000078}, {\"iteration\": 86, \"variable\": \"train_valid_ndcg\", \"value\": 0.29365853328901415}, {\"iteration\": 87, \"variable\": \"train_valid_ndcg\", \"value\": 0.2940443589631844}, {\"iteration\": 88, \"variable\": \"train_valid_ndcg\", \"value\": 0.2940894413664167}, {\"iteration\": 89, \"variable\": \"train_valid_ndcg\", \"value\": 0.29433562302692606}, {\"iteration\": 90, \"variable\": \"train_valid_ndcg\", \"value\": 0.29451289708452}, {\"iteration\": 91, \"variable\": \"train_valid_ndcg\", \"value\": 0.2948824475145983}, {\"iteration\": 92, \"variable\": \"train_valid_ndcg\", \"value\": 0.2952235497483707}, {\"iteration\": 93, \"variable\": \"train_valid_ndcg\", \"value\": 0.2954379468530654}, {\"iteration\": 94, \"variable\": \"train_valid_ndcg\", \"value\": 0.2956936366659051}, {\"iteration\": 95, \"variable\": \"train_valid_ndcg\", \"value\": 0.29591220557861114}, {\"iteration\": 96, \"variable\": \"train_valid_ndcg\", \"value\": 0.296290866294127}, {\"iteration\": 97, \"variable\": \"train_valid_ndcg\", \"value\": 0.29658043278311486}, {\"iteration\": 98, \"variable\": \"train_valid_ndcg\", \"value\": 0.29707262075178}, {\"iteration\": 99, \"variable\": \"train_valid_ndcg\", \"value\": 0.2974544150673909}, {\"iteration\": 0, \"variable\": \"val_valid_ndcg\", \"value\": 0.12224917873007411}, {\"iteration\": 1, \"variable\": \"val_valid_ndcg\", \"value\": 0.1265313986050957}, {\"iteration\": 2, \"variable\": \"val_valid_ndcg\", \"value\": 0.1268485135181576}, {\"iteration\": 3, \"variable\": \"val_valid_ndcg\", \"value\": 0.12660015628370444}, {\"iteration\": 4, \"variable\": \"val_valid_ndcg\", \"value\": 0.12700059490129798}, {\"iteration\": 5, \"variable\": \"val_valid_ndcg\", \"value\": 0.12653567530431326}, {\"iteration\": 6, \"variable\": \"val_valid_ndcg\", \"value\": 0.12469473349941083}, {\"iteration\": 7, \"variable\": \"val_valid_ndcg\", \"value\": 0.12511495203263837}, {\"iteration\": 8, \"variable\": \"val_valid_ndcg\", \"value\": 0.12512043690834135}, {\"iteration\": 9, \"variable\": \"val_valid_ndcg\", \"value\": 0.12608528097443739}, {\"iteration\": 10, \"variable\": \"val_valid_ndcg\", \"value\": 0.12569234854324918}, {\"iteration\": 11, \"variable\": \"val_valid_ndcg\", \"value\": 0.1254425079652912}, {\"iteration\": 12, \"variable\": \"val_valid_ndcg\", \"value\": 0.1263704177576429}, {\"iteration\": 13, \"variable\": \"val_valid_ndcg\", \"value\": 0.1263021843155496}, {\"iteration\": 14, \"variable\": \"val_valid_ndcg\", \"value\": 0.12485585709822022}, {\"iteration\": 15, \"variable\": \"val_valid_ndcg\", \"value\": 0.1253135068262238}, {\"iteration\": 16, \"variable\": \"val_valid_ndcg\", \"value\": 0.12608318048089573}, {\"iteration\": 17, \"variable\": \"val_valid_ndcg\", \"value\": 0.1257908427774064}, {\"iteration\": 18, \"variable\": \"val_valid_ndcg\", \"value\": 0.12560737006318332}, {\"iteration\": 19, \"variable\": \"val_valid_ndcg\", \"value\": 0.12668815975714964}, {\"iteration\": 20, \"variable\": \"val_valid_ndcg\", \"value\": 0.1273992706293251}, {\"iteration\": 21, \"variable\": \"val_valid_ndcg\", \"value\": 0.12732398793820957}, {\"iteration\": 22, \"variable\": \"val_valid_ndcg\", \"value\": 0.12741363235289965}, {\"iteration\": 23, \"variable\": \"val_valid_ndcg\", \"value\": 0.1274033748147278}, {\"iteration\": 24, \"variable\": \"val_valid_ndcg\", \"value\": 0.12762501947176932}, {\"iteration\": 25, \"variable\": \"val_valid_ndcg\", \"value\": 0.12731860838896167}, {\"iteration\": 26, \"variable\": \"val_valid_ndcg\", \"value\": 0.1276495180751122}, {\"iteration\": 27, \"variable\": \"val_valid_ndcg\", \"value\": 0.12769958941796908}, {\"iteration\": 28, \"variable\": \"val_valid_ndcg\", \"value\": 0.12733139600411258}, {\"iteration\": 29, \"variable\": \"val_valid_ndcg\", \"value\": 0.1275049848984155}, {\"iteration\": 30, \"variable\": \"val_valid_ndcg\", \"value\": 0.12830627626726962}, {\"iteration\": 31, \"variable\": \"val_valid_ndcg\", \"value\": 0.12849904673711304}, {\"iteration\": 32, \"variable\": \"val_valid_ndcg\", \"value\": 0.12861851693284132}, {\"iteration\": 33, \"variable\": \"val_valid_ndcg\", \"value\": 0.1288353299936848}, {\"iteration\": 34, \"variable\": \"val_valid_ndcg\", \"value\": 0.12821363771428956}, {\"iteration\": 35, \"variable\": \"val_valid_ndcg\", \"value\": 0.12861060680357003}, {\"iteration\": 36, \"variable\": \"val_valid_ndcg\", \"value\": 0.12908190671924438}, {\"iteration\": 37, \"variable\": \"val_valid_ndcg\", \"value\": 0.12925196159116634}, {\"iteration\": 38, \"variable\": \"val_valid_ndcg\", \"value\": 0.12879584152006684}, {\"iteration\": 39, \"variable\": \"val_valid_ndcg\", \"value\": 0.12855351548072433}, {\"iteration\": 40, \"variable\": \"val_valid_ndcg\", \"value\": 0.12856338862137087}, {\"iteration\": 41, \"variable\": \"val_valid_ndcg\", \"value\": 0.1284561200856306}, {\"iteration\": 42, \"variable\": \"val_valid_ndcg\", \"value\": 0.12880087929253592}, {\"iteration\": 43, \"variable\": \"val_valid_ndcg\", \"value\": 0.1293613482651662}, {\"iteration\": 44, \"variable\": \"val_valid_ndcg\", \"value\": 0.12919083835904763}, {\"iteration\": 45, \"variable\": \"val_valid_ndcg\", \"value\": 0.12897415689691621}, {\"iteration\": 46, \"variable\": \"val_valid_ndcg\", \"value\": 0.1294490564837337}, {\"iteration\": 47, \"variable\": \"val_valid_ndcg\", \"value\": 0.12892919873936423}, {\"iteration\": 48, \"variable\": \"val_valid_ndcg\", \"value\": 0.12888113039308327}, {\"iteration\": 49, \"variable\": \"val_valid_ndcg\", \"value\": 0.128826579274247}, {\"iteration\": 50, \"variable\": \"val_valid_ndcg\", \"value\": 0.129293179294233}, {\"iteration\": 51, \"variable\": \"val_valid_ndcg\", \"value\": 0.13007392922840436}, {\"iteration\": 52, \"variable\": \"val_valid_ndcg\", \"value\": 0.12952509806906842}, {\"iteration\": 53, \"variable\": \"val_valid_ndcg\", \"value\": 0.1292992970189184}, {\"iteration\": 54, \"variable\": \"val_valid_ndcg\", \"value\": 0.1292473485564494}, {\"iteration\": 55, \"variable\": \"val_valid_ndcg\", \"value\": 0.12992194277141095}, {\"iteration\": 56, \"variable\": \"val_valid_ndcg\", \"value\": 0.1306040923626304}, {\"iteration\": 57, \"variable\": \"val_valid_ndcg\", \"value\": 0.13079717711633984}, {\"iteration\": 58, \"variable\": \"val_valid_ndcg\", \"value\": 0.1308307213118425}, {\"iteration\": 59, \"variable\": \"val_valid_ndcg\", \"value\": 0.13083670643095716}, {\"iteration\": 60, \"variable\": \"val_valid_ndcg\", \"value\": 0.13059384928252346}, {\"iteration\": 61, \"variable\": \"val_valid_ndcg\", \"value\": 0.13059934979898258}, {\"iteration\": 62, \"variable\": \"val_valid_ndcg\", \"value\": 0.13043121288654388}, {\"iteration\": 63, \"variable\": \"val_valid_ndcg\", \"value\": 0.13081025470262544}, {\"iteration\": 64, \"variable\": \"val_valid_ndcg\", \"value\": 0.13096865274975522}, {\"iteration\": 65, \"variable\": \"val_valid_ndcg\", \"value\": 0.13026009906352287}, {\"iteration\": 66, \"variable\": \"val_valid_ndcg\", \"value\": 0.13025284020917124}, {\"iteration\": 67, \"variable\": \"val_valid_ndcg\", \"value\": 0.1301409085592663}, {\"iteration\": 68, \"variable\": \"val_valid_ndcg\", \"value\": 0.13013259535610497}, {\"iteration\": 69, \"variable\": \"val_valid_ndcg\", \"value\": 0.13056897814948631}, {\"iteration\": 70, \"variable\": \"val_valid_ndcg\", \"value\": 0.1310342635261583}, {\"iteration\": 71, \"variable\": \"val_valid_ndcg\", \"value\": 0.13138323991151157}, {\"iteration\": 72, \"variable\": \"val_valid_ndcg\", \"value\": 0.13121000682334769}, {\"iteration\": 73, \"variable\": \"val_valid_ndcg\", \"value\": 0.13093292661249775}, {\"iteration\": 74, \"variable\": \"val_valid_ndcg\", \"value\": 0.13086511193386854}, {\"iteration\": 75, \"variable\": \"val_valid_ndcg\", \"value\": 0.13088032386267867}, {\"iteration\": 76, \"variable\": \"val_valid_ndcg\", \"value\": 0.13069986496374386}, {\"iteration\": 77, \"variable\": \"val_valid_ndcg\", \"value\": 0.13041004954117735}, {\"iteration\": 78, \"variable\": \"val_valid_ndcg\", \"value\": 0.13048045761761268}, {\"iteration\": 79, \"variable\": \"val_valid_ndcg\", \"value\": 0.13037293805413794}, {\"iteration\": 80, \"variable\": \"val_valid_ndcg\", \"value\": 0.1303344368362632}, {\"iteration\": 81, \"variable\": \"val_valid_ndcg\", \"value\": 0.13146827500610656}, {\"iteration\": 82, \"variable\": \"val_valid_ndcg\", \"value\": 0.13144314794567452}, {\"iteration\": 83, \"variable\": \"val_valid_ndcg\", \"value\": 0.1310706285579293}, {\"iteration\": 84, \"variable\": \"val_valid_ndcg\", \"value\": 0.1305847144706865}, {\"iteration\": 85, \"variable\": \"val_valid_ndcg\", \"value\": 0.13091768309092122}, {\"iteration\": 86, \"variable\": \"val_valid_ndcg\", \"value\": 0.13104263668391486}, {\"iteration\": 87, \"variable\": \"val_valid_ndcg\", \"value\": 0.13160333811206099}, {\"iteration\": 88, \"variable\": \"val_valid_ndcg\", \"value\": 0.13163458246001594}, {\"iteration\": 89, \"variable\": \"val_valid_ndcg\", \"value\": 0.13209743218630618}, {\"iteration\": 90, \"variable\": \"val_valid_ndcg\", \"value\": 0.13208668046242497}, {\"iteration\": 91, \"variable\": \"val_valid_ndcg\", \"value\": 0.132221082325544}, {\"iteration\": 92, \"variable\": \"val_valid_ndcg\", \"value\": 0.1327018326677698}, {\"iteration\": 93, \"variable\": \"val_valid_ndcg\", \"value\": 0.13307223461514206}, {\"iteration\": 94, \"variable\": \"val_valid_ndcg\", \"value\": 0.13291096169820374}, {\"iteration\": 95, \"variable\": \"val_valid_ndcg\", \"value\": 0.13304030736236244}, {\"iteration\": 96, \"variable\": \"val_valid_ndcg\", \"value\": 0.13287761002871792}, {\"iteration\": 97, \"variable\": \"val_valid_ndcg\", \"value\": 0.13265391969489648}, {\"iteration\": 98, \"variable\": \"val_valid_ndcg\", \"value\": 0.13279375525103043}, {\"iteration\": 99, \"variable\": \"val_valid_ndcg\", \"value\": 0.13306727465005327}], \"data-13013706d7e195d3a026b1a7dc6c7b03\": [{\"iteration\": 0, \"variable\": \"train_valid_map\", \"value\": 0.1854052334395419}, {\"iteration\": 1, \"variable\": \"train_valid_map\", \"value\": 0.19305941337035318}, {\"iteration\": 2, \"variable\": \"train_valid_map\", \"value\": 0.1969841532162129}, {\"iteration\": 3, \"variable\": \"train_valid_map\", \"value\": 0.1977683019725791}, {\"iteration\": 4, \"variable\": \"train_valid_map\", \"value\": 0.19901375071170027}, {\"iteration\": 5, \"variable\": \"train_valid_map\", \"value\": 0.19939500922918701}, {\"iteration\": 6, \"variable\": \"train_valid_map\", \"value\": 0.2003834989625408}, {\"iteration\": 7, \"variable\": \"train_valid_map\", \"value\": 0.20083340174417466}, {\"iteration\": 8, \"variable\": \"train_valid_map\", \"value\": 0.20134448136460342}, {\"iteration\": 9, \"variable\": \"train_valid_map\", \"value\": 0.20210623270480121}, {\"iteration\": 10, \"variable\": \"train_valid_map\", \"value\": 0.20244687869164404}, {\"iteration\": 11, \"variable\": \"train_valid_map\", \"value\": 0.2029876643921316}, {\"iteration\": 12, \"variable\": \"train_valid_map\", \"value\": 0.20356621473023587}, {\"iteration\": 13, \"variable\": \"train_valid_map\", \"value\": 0.20368364720524693}, {\"iteration\": 14, \"variable\": \"train_valid_map\", \"value\": 0.20421579548874952}, {\"iteration\": 15, \"variable\": \"train_valid_map\", \"value\": 0.20427192522940227}, {\"iteration\": 16, \"variable\": \"train_valid_map\", \"value\": 0.20472658046543224}, {\"iteration\": 17, \"variable\": \"train_valid_map\", \"value\": 0.20479453357290664}, {\"iteration\": 18, \"variable\": \"train_valid_map\", \"value\": 0.20503773814824955}, {\"iteration\": 19, \"variable\": \"train_valid_map\", \"value\": 0.20547821251625897}, {\"iteration\": 20, \"variable\": \"train_valid_map\", \"value\": 0.20588584245982194}, {\"iteration\": 21, \"variable\": \"train_valid_map\", \"value\": 0.2061097786093547}, {\"iteration\": 22, \"variable\": \"train_valid_map\", \"value\": 0.20689351406392875}, {\"iteration\": 23, \"variable\": \"train_valid_map\", \"value\": 0.20718400602372242}, {\"iteration\": 24, \"variable\": \"train_valid_map\", \"value\": 0.20738013179528872}, {\"iteration\": 25, \"variable\": \"train_valid_map\", \"value\": 0.20765405484544747}, {\"iteration\": 26, \"variable\": \"train_valid_map\", \"value\": 0.2080193970713631}, {\"iteration\": 27, \"variable\": \"train_valid_map\", \"value\": 0.20839862536040663}, {\"iteration\": 28, \"variable\": \"train_valid_map\", \"value\": 0.20865312049475904}, {\"iteration\": 29, \"variable\": \"train_valid_map\", \"value\": 0.20915290516472662}, {\"iteration\": 30, \"variable\": \"train_valid_map\", \"value\": 0.20968761875753056}, {\"iteration\": 31, \"variable\": \"train_valid_map\", \"value\": 0.20985245171191158}, {\"iteration\": 32, \"variable\": \"train_valid_map\", \"value\": 0.21022332293858978}, {\"iteration\": 33, \"variable\": \"train_valid_map\", \"value\": 0.21058726335761427}, {\"iteration\": 34, \"variable\": \"train_valid_map\", \"value\": 0.21089982133203955}, {\"iteration\": 35, \"variable\": \"train_valid_map\", \"value\": 0.2111909822175073}, {\"iteration\": 36, \"variable\": \"train_valid_map\", \"value\": 0.21133513321092767}, {\"iteration\": 37, \"variable\": \"train_valid_map\", \"value\": 0.2115309370547176}, {\"iteration\": 38, \"variable\": \"train_valid_map\", \"value\": 0.211829958012111}, {\"iteration\": 39, \"variable\": \"train_valid_map\", \"value\": 0.21202293027660196}, {\"iteration\": 40, \"variable\": \"train_valid_map\", \"value\": 0.21232046186433473}, {\"iteration\": 41, \"variable\": \"train_valid_map\", \"value\": 0.21269942299802108}, {\"iteration\": 42, \"variable\": \"train_valid_map\", \"value\": 0.21308311398163685}, {\"iteration\": 43, \"variable\": \"train_valid_map\", \"value\": 0.21322302831267226}, {\"iteration\": 44, \"variable\": \"train_valid_map\", \"value\": 0.2133871953201397}, {\"iteration\": 45, \"variable\": \"train_valid_map\", \"value\": 0.21390525735563237}, {\"iteration\": 46, \"variable\": \"train_valid_map\", \"value\": 0.21417580436417222}, {\"iteration\": 47, \"variable\": \"train_valid_map\", \"value\": 0.21457753795648554}, {\"iteration\": 48, \"variable\": \"train_valid_map\", \"value\": 0.21469494183858093}, {\"iteration\": 49, \"variable\": \"train_valid_map\", \"value\": 0.21483465213047054}, {\"iteration\": 50, \"variable\": \"train_valid_map\", \"value\": 0.21532393960336452}, {\"iteration\": 51, \"variable\": \"train_valid_map\", \"value\": 0.2156701967215109}, {\"iteration\": 52, \"variable\": \"train_valid_map\", \"value\": 0.2158873870008113}, {\"iteration\": 53, \"variable\": \"train_valid_map\", \"value\": 0.21613547830986474}, {\"iteration\": 54, \"variable\": \"train_valid_map\", \"value\": 0.21616576281121033}, {\"iteration\": 55, \"variable\": \"train_valid_map\", \"value\": 0.2164563894207762}, {\"iteration\": 56, \"variable\": \"train_valid_map\", \"value\": 0.21669320899880448}, {\"iteration\": 57, \"variable\": \"train_valid_map\", \"value\": 0.2170821303532548}, {\"iteration\": 58, \"variable\": \"train_valid_map\", \"value\": 0.21736641818992006}, {\"iteration\": 59, \"variable\": \"train_valid_map\", \"value\": 0.21742180550281476}, {\"iteration\": 60, \"variable\": \"train_valid_map\", \"value\": 0.21757922328986076}, {\"iteration\": 61, \"variable\": \"train_valid_map\", \"value\": 0.21771698043780813}, {\"iteration\": 62, \"variable\": \"train_valid_map\", \"value\": 0.21791103820328947}, {\"iteration\": 63, \"variable\": \"train_valid_map\", \"value\": 0.21827839991942816}, {\"iteration\": 64, \"variable\": \"train_valid_map\", \"value\": 0.21830836541776732}, {\"iteration\": 65, \"variable\": \"train_valid_map\", \"value\": 0.2184850937569902}, {\"iteration\": 66, \"variable\": \"train_valid_map\", \"value\": 0.2186684818841467}, {\"iteration\": 67, \"variable\": \"train_valid_map\", \"value\": 0.2189010626256947}, {\"iteration\": 68, \"variable\": \"train_valid_map\", \"value\": 0.21907305633676516}, {\"iteration\": 69, \"variable\": \"train_valid_map\", \"value\": 0.21932485166585922}, {\"iteration\": 70, \"variable\": \"train_valid_map\", \"value\": 0.219733510564167}, {\"iteration\": 71, \"variable\": \"train_valid_map\", \"value\": 0.21989804317771802}, {\"iteration\": 72, \"variable\": \"train_valid_map\", \"value\": 0.22012004183152373}, {\"iteration\": 73, \"variable\": \"train_valid_map\", \"value\": 0.2206044433494449}, {\"iteration\": 74, \"variable\": \"train_valid_map\", \"value\": 0.22076368156432336}, {\"iteration\": 75, \"variable\": \"train_valid_map\", \"value\": 0.22094644182041884}, {\"iteration\": 76, \"variable\": \"train_valid_map\", \"value\": 0.2211364727325259}, {\"iteration\": 77, \"variable\": \"train_valid_map\", \"value\": 0.2213405723974805}, {\"iteration\": 78, \"variable\": \"train_valid_map\", \"value\": 0.22146525236558268}, {\"iteration\": 79, \"variable\": \"train_valid_map\", \"value\": 0.22170940059031277}, {\"iteration\": 80, \"variable\": \"train_valid_map\", \"value\": 0.22195987412552506}, {\"iteration\": 81, \"variable\": \"train_valid_map\", \"value\": 0.22215242859782175}, {\"iteration\": 82, \"variable\": \"train_valid_map\", \"value\": 0.22235853568958025}, {\"iteration\": 83, \"variable\": \"train_valid_map\", \"value\": 0.22252895040137796}, {\"iteration\": 84, \"variable\": \"train_valid_map\", \"value\": 0.22277156726170713}, {\"iteration\": 85, \"variable\": \"train_valid_map\", \"value\": 0.22300686191479002}, {\"iteration\": 86, \"variable\": \"train_valid_map\", \"value\": 0.22318147744683825}, {\"iteration\": 87, \"variable\": \"train_valid_map\", \"value\": 0.22346255705464937}, {\"iteration\": 88, \"variable\": \"train_valid_map\", \"value\": 0.22358304215011746}, {\"iteration\": 89, \"variable\": \"train_valid_map\", \"value\": 0.2238241195301601}, {\"iteration\": 90, \"variable\": \"train_valid_map\", \"value\": 0.22393909296082334}, {\"iteration\": 91, \"variable\": \"train_valid_map\", \"value\": 0.22417692316080173}, {\"iteration\": 92, \"variable\": \"train_valid_map\", \"value\": 0.22445366768317682}, {\"iteration\": 93, \"variable\": \"train_valid_map\", \"value\": 0.22473502374444188}, {\"iteration\": 94, \"variable\": \"train_valid_map\", \"value\": 0.22486029016431197}, {\"iteration\": 95, \"variable\": \"train_valid_map\", \"value\": 0.22502148096895147}, {\"iteration\": 96, \"variable\": \"train_valid_map\", \"value\": 0.2252802287027928}, {\"iteration\": 97, \"variable\": \"train_valid_map\", \"value\": 0.22553211484856545}, {\"iteration\": 98, \"variable\": \"train_valid_map\", \"value\": 0.22597303115129014}, {\"iteration\": 99, \"variable\": \"train_valid_map\", \"value\": 0.22625172497465632}, {\"iteration\": 0, \"variable\": \"val_valid_map\", \"value\": 0.10608298922209618}, {\"iteration\": 1, \"variable\": \"val_valid_map\", \"value\": 0.10988475046742956}, {\"iteration\": 2, \"variable\": \"val_valid_map\", \"value\": 0.1098495109277739}, {\"iteration\": 3, \"variable\": \"val_valid_map\", \"value\": 0.10917239881946177}, {\"iteration\": 4, \"variable\": \"val_valid_map\", \"value\": 0.10925518140960451}, {\"iteration\": 5, \"variable\": \"val_valid_map\", \"value\": 0.10898958087413155}, {\"iteration\": 6, \"variable\": \"val_valid_map\", \"value\": 0.106914078633902}, {\"iteration\": 7, \"variable\": \"val_valid_map\", \"value\": 0.10711387792594858}, {\"iteration\": 8, \"variable\": \"val_valid_map\", \"value\": 0.10710691722590641}, {\"iteration\": 9, \"variable\": \"val_valid_map\", \"value\": 0.10747210165179462}, {\"iteration\": 10, \"variable\": \"val_valid_map\", \"value\": 0.10732054873772943}, {\"iteration\": 11, \"variable\": \"val_valid_map\", \"value\": 0.10674311635916149}, {\"iteration\": 12, \"variable\": \"val_valid_map\", \"value\": 0.10744390668213043}, {\"iteration\": 13, \"variable\": \"val_valid_map\", \"value\": 0.10722050107599666}, {\"iteration\": 14, \"variable\": \"val_valid_map\", \"value\": 0.10692170371880871}, {\"iteration\": 15, \"variable\": \"val_valid_map\", \"value\": 0.10701663227914453}, {\"iteration\": 16, \"variable\": \"val_valid_map\", \"value\": 0.10724108638608147}, {\"iteration\": 17, \"variable\": \"val_valid_map\", \"value\": 0.10702617195905434}, {\"iteration\": 18, \"variable\": \"val_valid_map\", \"value\": 0.1070078925246807}, {\"iteration\": 19, \"variable\": \"val_valid_map\", \"value\": 0.10779529016035395}, {\"iteration\": 20, \"variable\": \"val_valid_map\", \"value\": 0.108380870483422}, {\"iteration\": 21, \"variable\": \"val_valid_map\", \"value\": 0.10838153722844597}, {\"iteration\": 22, \"variable\": \"val_valid_map\", \"value\": 0.10826101864006672}, {\"iteration\": 23, \"variable\": \"val_valid_map\", \"value\": 0.10827413522580354}, {\"iteration\": 24, \"variable\": \"val_valid_map\", \"value\": 0.10834744472624747}, {\"iteration\": 25, \"variable\": \"val_valid_map\", \"value\": 0.10833800703893932}, {\"iteration\": 26, \"variable\": \"val_valid_map\", \"value\": 0.10830582626583608}, {\"iteration\": 27, \"variable\": \"val_valid_map\", \"value\": 0.10835003736132294}, {\"iteration\": 28, \"variable\": \"val_valid_map\", \"value\": 0.10823974180328451}, {\"iteration\": 29, \"variable\": \"val_valid_map\", \"value\": 0.10849331732673244}, {\"iteration\": 30, \"variable\": \"val_valid_map\", \"value\": 0.1087827542918318}, {\"iteration\": 31, \"variable\": \"val_valid_map\", \"value\": 0.10869205159686023}, {\"iteration\": 32, \"variable\": \"val_valid_map\", \"value\": 0.10872120841576188}, {\"iteration\": 33, \"variable\": \"val_valid_map\", \"value\": 0.1087658312747686}, {\"iteration\": 34, \"variable\": \"val_valid_map\", \"value\": 0.10874252411088244}, {\"iteration\": 35, \"variable\": \"val_valid_map\", \"value\": 0.1088445998238512}, {\"iteration\": 36, \"variable\": \"val_valid_map\", \"value\": 0.10906858189891275}, {\"iteration\": 37, \"variable\": \"val_valid_map\", \"value\": 0.1094955931441281}, {\"iteration\": 38, \"variable\": \"val_valid_map\", \"value\": 0.10943155375967657}, {\"iteration\": 39, \"variable\": \"val_valid_map\", \"value\": 0.10921200945857472}, {\"iteration\": 40, \"variable\": \"val_valid_map\", \"value\": 0.10892275186558797}, {\"iteration\": 41, \"variable\": \"val_valid_map\", \"value\": 0.10895990667457793}, {\"iteration\": 42, \"variable\": \"val_valid_map\", \"value\": 0.10911324740937106}, {\"iteration\": 43, \"variable\": \"val_valid_map\", \"value\": 0.10980317037848931}, {\"iteration\": 44, \"variable\": \"val_valid_map\", \"value\": 0.10970839109823409}, {\"iteration\": 45, \"variable\": \"val_valid_map\", \"value\": 0.10940192086291203}, {\"iteration\": 46, \"variable\": \"val_valid_map\", \"value\": 0.10963549875596}, {\"iteration\": 47, \"variable\": \"val_valid_map\", \"value\": 0.10926491715132539}, {\"iteration\": 48, \"variable\": \"val_valid_map\", \"value\": 0.10911976557953004}, {\"iteration\": 49, \"variable\": \"val_valid_map\", \"value\": 0.10923386571448396}, {\"iteration\": 50, \"variable\": \"val_valid_map\", \"value\": 0.1094667013374079}, {\"iteration\": 51, \"variable\": \"val_valid_map\", \"value\": 0.11001519647618763}, {\"iteration\": 52, \"variable\": \"val_valid_map\", \"value\": 0.10978509863814083}, {\"iteration\": 53, \"variable\": \"val_valid_map\", \"value\": 0.10940036315772331}, {\"iteration\": 54, \"variable\": \"val_valid_map\", \"value\": 0.10934915359964427}, {\"iteration\": 55, \"variable\": \"val_valid_map\", \"value\": 0.11005395501347416}, {\"iteration\": 56, \"variable\": \"val_valid_map\", \"value\": 0.11072081804540096}, {\"iteration\": 57, \"variable\": \"val_valid_map\", \"value\": 0.11085524092270903}, {\"iteration\": 58, \"variable\": \"val_valid_map\", \"value\": 0.1108874205157326}, {\"iteration\": 59, \"variable\": \"val_valid_map\", \"value\": 0.11113787472840465}, {\"iteration\": 60, \"variable\": \"val_valid_map\", \"value\": 0.1107570571125527}, {\"iteration\": 61, \"variable\": \"val_valid_map\", \"value\": 0.11076070945918835}, {\"iteration\": 62, \"variable\": \"val_valid_map\", \"value\": 0.11071480435930878}, {\"iteration\": 63, \"variable\": \"val_valid_map\", \"value\": 0.11080552298535615}, {\"iteration\": 64, \"variable\": \"val_valid_map\", \"value\": 0.11086082151955555}, {\"iteration\": 65, \"variable\": \"val_valid_map\", \"value\": 0.11063131372135296}, {\"iteration\": 66, \"variable\": \"val_valid_map\", \"value\": 0.11064027052618809}, {\"iteration\": 67, \"variable\": \"val_valid_map\", \"value\": 0.11064558973538365}, {\"iteration\": 68, \"variable\": \"val_valid_map\", \"value\": 0.11065091307485811}, {\"iteration\": 69, \"variable\": \"val_valid_map\", \"value\": 0.11097288129672822}, {\"iteration\": 70, \"variable\": \"val_valid_map\", \"value\": 0.11112011688925329}, {\"iteration\": 71, \"variable\": \"val_valid_map\", \"value\": 0.11134765395437625}, {\"iteration\": 72, \"variable\": \"val_valid_map\", \"value\": 0.11142025599704694}, {\"iteration\": 73, \"variable\": \"val_valid_map\", \"value\": 0.11109557772217242}, {\"iteration\": 74, \"variable\": \"val_valid_map\", \"value\": 0.11104737736729886}, {\"iteration\": 75, \"variable\": \"val_valid_map\", \"value\": 0.11095500013924942}, {\"iteration\": 76, \"variable\": \"val_valid_map\", \"value\": 0.11088090293561344}, {\"iteration\": 77, \"variable\": \"val_valid_map\", \"value\": 0.11058659401152039}, {\"iteration\": 78, \"variable\": \"val_valid_map\", \"value\": 0.11045202952464972}, {\"iteration\": 79, \"variable\": \"val_valid_map\", \"value\": 0.11025153398558697}, {\"iteration\": 80, \"variable\": \"val_valid_map\", \"value\": 0.11032244261390481}, {\"iteration\": 81, \"variable\": \"val_valid_map\", \"value\": 0.11172830399891244}, {\"iteration\": 82, \"variable\": \"val_valid_map\", \"value\": 0.11174636983886248}, {\"iteration\": 83, \"variable\": \"val_valid_map\", \"value\": 0.11134738430616742}, {\"iteration\": 84, \"variable\": \"val_valid_map\", \"value\": 0.11098119377805343}, {\"iteration\": 85, \"variable\": \"val_valid_map\", \"value\": 0.11133043246144325}, {\"iteration\": 86, \"variable\": \"val_valid_map\", \"value\": 0.11135284571496543}, {\"iteration\": 87, \"variable\": \"val_valid_map\", \"value\": 0.1118001844228537}, {\"iteration\": 88, \"variable\": \"val_valid_map\", \"value\": 0.11179582992880342}, {\"iteration\": 89, \"variable\": \"val_valid_map\", \"value\": 0.11216816985217379}, {\"iteration\": 90, \"variable\": \"val_valid_map\", \"value\": 0.11216193903141891}, {\"iteration\": 91, \"variable\": \"val_valid_map\", \"value\": 0.11234285350821172}, {\"iteration\": 92, \"variable\": \"val_valid_map\", \"value\": 0.1126630120778796}, {\"iteration\": 93, \"variable\": \"val_valid_map\", \"value\": 0.1127331489340812}, {\"iteration\": 94, \"variable\": \"val_valid_map\", \"value\": 0.1125508525839733}, {\"iteration\": 95, \"variable\": \"val_valid_map\", \"value\": 0.1125931265786516}, {\"iteration\": 96, \"variable\": \"val_valid_map\", \"value\": 0.11249961706414112}, {\"iteration\": 97, \"variable\": \"val_valid_map\", \"value\": 0.11227379701496483}, {\"iteration\": 98, \"variable\": \"val_valid_map\", \"value\": 0.1123989444659219}, {\"iteration\": 99, \"variable\": \"val_valid_map\", \"value\": 0.11268402693697102}]}}, {\"mode\": \"vega-lite\"});\n",
       "</script>"
      ],
      "text/plain": [
       "alt.HConcatChart(...)"
      ]
     },
     "execution_count": 1112,
     "metadata": {},
     "output_type": "execute_result"
    }
   ],
   "source": [
    "alt_ndcg = (\n",
    "    alt.Chart(\n",
    "        df_eval_results[\n",
    "            lambda d: d[\"variable\"].isin([\"train_valid_ndcg\", \"val_valid_ndcg\"])\n",
    "        ],\n",
    "        title=\"NDCG@12\",\n",
    "    )\n",
    "    .mark_line()\n",
    "    .encode(x=\"iteration\", y=\"value\", color=\"variable\")\n",
    ")\n",
    "\n",
    "alt_map = (\n",
    "    alt.Chart(\n",
    "        df_eval_results[\n",
    "            lambda d: d[\"variable\"].isin([\"train_valid_map\", \"val_valid_map\"])\n",
    "        ],\n",
    "        title=\"MAP@12\",\n",
    "    )\n",
    "    .mark_line()\n",
    "    .encode(x=\"iteration\", y=\"value\", color=\"variable\")\n",
    ")\n",
    "\n",
    "alt_ndcg | alt_map"
   ]
  },
  {
   "cell_type": "code",
   "execution_count": 1113,
   "id": "535d9581-1eb6-484f-a0a1-a03aa3540438",
   "metadata": {},
   "outputs": [
    {
     "data": {
      "text/plain": [
       "<AxesSubplot:title={'center':'Feature importance'}, xlabel='Feature importance', ylabel='Features'>"
      ]
     },
     "execution_count": 1113,
     "metadata": {},
     "output_type": "execute_result"
    },
    {
     "data": {
      "image/png": "[encoded data removed]",
      "text/plain": [
       "<Figure size 360x720 with 1 Axes>"
      ]
     },
     "metadata": {
      "needs_background": "light"
     },
     "output_type": "display_data"
    }
   ],
   "source": [
    "lightgbm.plot_importance(model, figsize=(5, 10), height=0.5)"
   ]
  },
  {
   "cell_type": "markdown",
   "id": "8efd8837-dd91-4783-bbcf-229f7b8f4f96",
   "metadata": {},
   "source": [
    "## SHAP"
   ]
  },
  {
   "cell_type": "code",
   "execution_count": 1114,
   "id": "17bf15dd-7202-491e-a96e-a719ff7a0fa8",
   "metadata": {},
   "outputs": [],
   "source": [
    "explainer = shap.TreeExplainer(model)\n",
    "shap_values = explainer(X_val.sample(5000))"
   ]
  },
  {
   "cell_type": "code",
   "execution_count": 1115,
   "id": "f8593d40-835e-4c74-a1ee-2af4cf7f62ad",
   "metadata": {},
   "outputs": [
    {
     "name": "stderr",
     "output_type": "stream",
     "text": [
      "All-NaN slice encountered\n"
     ]
    },
    {
     "data": {
      "image/png": "[encoded data removed]",
      "text/plain": [
       "<Figure size 576x597.6 with 2 Axes>"
      ]
     },
     "metadata": {
      "needs_background": "light"
     },
     "output_type": "display_data"
    }
   ],
   "source": [
    "shap.plots.beeswarm(shap_values, max_display=20)"
   ]
  },
  {
   "cell_type": "markdown",
   "id": "12d73c96-efa4-41fd-b636-0d98919039bc",
   "metadata": {},
   "source": [
    "## Write to MLFlow"
   ]
  },
  {
   "cell_type": "code",
   "execution_count": 1116,
   "id": "66fc51d1-c6b6-457e-b7fa-74ee45510dd4",
   "metadata": {},
   "outputs": [
    {
     "data": {
      "text/plain": [
       "0.11268402693697102"
      ]
     },
     "execution_count": 1116,
     "metadata": {},
     "output_type": "execute_result"
    }
   ],
   "source": [
    "model.best_score_[\"valid_1\"][\"map@12\"]"
   ]
  },
  {
   "cell_type": "code",
   "execution_count": 1117,
   "id": "fd183537-68c2-466b-a9c1-8b60d0596e33",
   "metadata": {},
   "outputs": [],
   "source": [
    "with mlflow.start_run():\n",
    "    mlflow.log_metric(\"train_map12\", model.best_score_[\"training\"][\"map@12\"])\n",
    "    mlflow.log_metric(\"train_ndcg12\", model.best_score_[\"training\"][\"ndcg@12\"])\n",
    "    mlflow.log_metric(\"val_map12\", model.best_score_[\"valid_1\"][\"map@12\"])\n",
    "    mlflow.log_metric(\"val_ndcg12\", model.best_score_[\"valid_1\"][\"ndcg@12\"])"
   ]
  },
  {
   "cell_type": "markdown",
   "id": "f36ec536-3e49-4a94-968e-d4237e48f9a8",
   "metadata": {},
   "source": [
    "## Cross Validation"
   ]
  },
  {
   "cell_type": "code",
   "execution_count": 1022,
   "id": "65167268-e96b-4a46-a1b2-809d9c245c74",
   "metadata": {},
   "outputs": [
    {
     "data": {
      "text/plain": [
       "<DateArray>\n",
       "[ datetime.date(2020, 4, 1),  datetime.date(2020, 4, 8),\n",
       " datetime.date(2020, 4, 15), datetime.date(2020, 4, 22),\n",
       " datetime.date(2020, 4, 29),  datetime.date(2020, 5, 6),\n",
       " datetime.date(2020, 5, 13), datetime.date(2020, 5, 20),\n",
       " datetime.date(2020, 5, 27),  datetime.date(2020, 6, 3),\n",
       " datetime.date(2020, 6, 10), datetime.date(2020, 6, 17),\n",
       " datetime.date(2020, 6, 24),  datetime.date(2020, 7, 1),\n",
       "  datetime.date(2020, 7, 8), datetime.date(2020, 7, 15),\n",
       " datetime.date(2020, 7, 22), datetime.date(2020, 7, 29),\n",
       "  datetime.date(2020, 8, 5), datetime.date(2020, 8, 12),\n",
       " datetime.date(2020, 8, 19), datetime.date(2020, 8, 26),\n",
       "  datetime.date(2020, 9, 2),  datetime.date(2020, 9, 9)]\n",
       "Length: 24, dtype: dbdate"
      ]
     },
     "execution_count": 1022,
     "metadata": {},
     "output_type": "execute_result"
    }
   ],
   "source": [
    "obs_dates = df_train[\"obs_dat\"].sort_values().unique()\n",
    "obs_dates"
   ]
  },
  {
   "cell_type": "code",
   "execution_count": 1017,
   "id": "d7b5b307-6d34-4fe7-a4d7-7a49acf5bb64",
   "metadata": {},
   "outputs": [
    {
     "data": {
      "text/plain": [
       "(24,)"
      ]
     },
     "execution_count": 1017,
     "metadata": {},
     "output_type": "execute_result"
    }
   ],
   "source": [
    "obs_dates.shape"
   ]
  },
  {
   "cell_type": "code",
   "execution_count": 1049,
   "id": "40b07a6f-723c-4f4f-a022-cf50c3bfc870",
   "metadata": {},
   "outputs": [],
   "source": [
    "tscv = TimeSeriesSplit(5)"
   ]
  },
  {
   "cell_type": "code",
   "execution_count": 1050,
   "id": "6badb53a-aff5-437c-8ac8-a781be0a9bd3",
   "metadata": {},
   "outputs": [
    {
     "name": "stdout",
     "output_type": "stream",
     "text": [
      "(120345, 22)\n",
      "(212252, 22)\n",
      "(319910, 22)\n",
      "(412757, 22)\n",
      "(472965, 22)\n"
     ]
    }
   ],
   "source": [
    "for train_index, test_index in tscv.split(obs_dates):\n",
    "    train = df_train[df_train[\"obs_dat\"].isin(obs_dates[train_index])]\n",
    "    print(train.shape)\n",
    "    test = df_train[df_train[\"obs_dat\"].isin(obs_dates[test_index])]"
   ]
  },
  {
   "cell_type": "code",
   "execution_count": 1006,
   "id": "9838fe38-faf9-44db-9e19-1b136e3d1462",
   "metadata": {},
   "outputs": [
    {
     "data": {
      "text/html": [
       "<div>\n",
       "<style scoped>\n",
       "    .dataframe tbody tr th:only-of-type {\n",
       "        vertical-align: middle;\n",
       "    }\n",
       "\n",
       "    .dataframe tbody tr th {\n",
       "        vertical-align: top;\n",
       "    }\n",
       "\n",
       "    .dataframe thead th {\n",
       "        text-align: right;\n",
       "    }\n",
       "</style>\n",
       "<table border=\"1\" class=\"dataframe\">\n",
       "  <thead>\n",
       "    <tr style=\"text-align: right;\">\n",
       "      <th></th>\n",
       "      <th>obs_dat</th>\n",
       "      <th>customer_short_id</th>\n",
       "      <th>article_id</th>\n",
       "      <th>relevance</th>\n",
       "      <th>article_similarity_score</th>\n",
       "      <th>article_sales_score</th>\n",
       "      <th>prev_purchases_score</th>\n",
       "      <th>article_department_sales_score</th>\n",
       "      <th>feat_customer_age</th>\n",
       "      <th>feat_customer_price_affinity</th>\n",
       "      <th>...</th>\n",
       "      <th>feat_article_stdev_price</th>\n",
       "      <th>feat_article_num_sales</th>\n",
       "      <th>feat_article_num_distinct_customers</th>\n",
       "      <th>feat_article_average_age</th>\n",
       "      <th>feat_article_stdev_age</th>\n",
       "      <th>feat_article_colour_group_code</th>\n",
       "      <th>feat_article_perceived_colour_value_id</th>\n",
       "      <th>feat_article_section_no</th>\n",
       "      <th>feat_article_index_code</th>\n",
       "      <th>feat_article_garment_group_no</th>\n",
       "    </tr>\n",
       "  </thead>\n",
       "  <tbody>\n",
       "    <tr>\n",
       "      <th>0</th>\n",
       "      <td>2020-04-01</td>\n",
       "      <td>193594</td>\n",
       "      <td>848422001</td>\n",
       "      <td>0</td>\n",
       "      <td>0.80</td>\n",
       "      <td>3.00</td>\n",
       "      <td>-1.00</td>\n",
       "      <td>-1.00</td>\n",
       "      <td>24.00</td>\n",
       "      <td>0.03</td>\n",
       "      <td>...</td>\n",
       "      <td>0.01</td>\n",
       "      <td>3</td>\n",
       "      <td>2</td>\n",
       "      <td>35.67</td>\n",
       "      <td>9.81</td>\n",
       "      <td>9</td>\n",
       "      <td>4</td>\n",
       "      <td>15</td>\n",
       "      <td>A</td>\n",
       "      <td>1005</td>\n",
       "    </tr>\n",
       "    <tr>\n",
       "      <th>1</th>\n",
       "      <td>2020-04-01</td>\n",
       "      <td>193594</td>\n",
       "      <td>835704003</td>\n",
       "      <td>0</td>\n",
       "      <td>0.59</td>\n",
       "      <td>3.00</td>\n",
       "      <td>-1.00</td>\n",
       "      <td>-1.00</td>\n",
       "      <td>24.00</td>\n",
       "      <td>0.03</td>\n",
       "      <td>...</td>\n",
       "      <td>0.00</td>\n",
       "      <td>3</td>\n",
       "      <td>2</td>\n",
       "      <td>28.67</td>\n",
       "      <td>2.89</td>\n",
       "      <td>93</td>\n",
       "      <td>2</td>\n",
       "      <td>61</td>\n",
       "      <td>B</td>\n",
       "      <td>1017</td>\n",
       "    </tr>\n",
       "    <tr>\n",
       "      <th>2</th>\n",
       "      <td>2020-04-01</td>\n",
       "      <td>193594</td>\n",
       "      <td>218829002</td>\n",
       "      <td>0</td>\n",
       "      <td>-1.00</td>\n",
       "      <td>-1.00</td>\n",
       "      <td>1.00</td>\n",
       "      <td>-1.00</td>\n",
       "      <td>24.00</td>\n",
       "      <td>0.03</td>\n",
       "      <td>...</td>\n",
       "      <td>0.00</td>\n",
       "      <td>42</td>\n",
       "      <td>39</td>\n",
       "      <td>33.71</td>\n",
       "      <td>12.42</td>\n",
       "      <td>9</td>\n",
       "      <td>4</td>\n",
       "      <td>65</td>\n",
       "      <td>C</td>\n",
       "      <td>1019</td>\n",
       "    </tr>\n",
       "    <tr>\n",
       "      <th>3</th>\n",
       "      <td>2020-04-01</td>\n",
       "      <td>193594</td>\n",
       "      <td>752689002</td>\n",
       "      <td>0</td>\n",
       "      <td>0.36</td>\n",
       "      <td>5.00</td>\n",
       "      <td>-1.00</td>\n",
       "      <td>-1.00</td>\n",
       "      <td>24.00</td>\n",
       "      <td>0.03</td>\n",
       "      <td>...</td>\n",
       "      <td>0.00</td>\n",
       "      <td>36</td>\n",
       "      <td>29</td>\n",
       "      <td>35.17</td>\n",
       "      <td>12.70</td>\n",
       "      <td>9</td>\n",
       "      <td>4</td>\n",
       "      <td>51</td>\n",
       "      <td>D</td>\n",
       "      <td>1017</td>\n",
       "    </tr>\n",
       "    <tr>\n",
       "      <th>4</th>\n",
       "      <td>2020-04-01</td>\n",
       "      <td>193594</td>\n",
       "      <td>706016019</td>\n",
       "      <td>0</td>\n",
       "      <td>0.64</td>\n",
       "      <td>12.00</td>\n",
       "      <td>-1.00</td>\n",
       "      <td>-1.00</td>\n",
       "      <td>24.00</td>\n",
       "      <td>0.03</td>\n",
       "      <td>...</td>\n",
       "      <td>0.00</td>\n",
       "      <td>95</td>\n",
       "      <td>74</td>\n",
       "      <td>35.29</td>\n",
       "      <td>11.91</td>\n",
       "      <td>73</td>\n",
       "      <td>4</td>\n",
       "      <td>53</td>\n",
       "      <td>D</td>\n",
       "      <td>1009</td>\n",
       "    </tr>\n",
       "    <tr>\n",
       "      <th>...</th>\n",
       "      <td>...</td>\n",
       "      <td>...</td>\n",
       "      <td>...</td>\n",
       "      <td>...</td>\n",
       "      <td>...</td>\n",
       "      <td>...</td>\n",
       "      <td>...</td>\n",
       "      <td>...</td>\n",
       "      <td>...</td>\n",
       "      <td>...</td>\n",
       "      <td>...</td>\n",
       "      <td>...</td>\n",
       "      <td>...</td>\n",
       "      <td>...</td>\n",
       "      <td>...</td>\n",
       "      <td>...</td>\n",
       "      <td>...</td>\n",
       "      <td>...</td>\n",
       "      <td>...</td>\n",
       "      <td>...</td>\n",
       "      <td>...</td>\n",
       "    </tr>\n",
       "    <tr>\n",
       "      <th>515511</th>\n",
       "      <td>2020-09-09</td>\n",
       "      <td>348022</td>\n",
       "      <td>720125001</td>\n",
       "      <td>0</td>\n",
       "      <td>0.49</td>\n",
       "      <td>3.00</td>\n",
       "      <td>-1.00</td>\n",
       "      <td>-1.00</td>\n",
       "      <td>32.00</td>\n",
       "      <td>0.04</td>\n",
       "      <td>...</td>\n",
       "      <td>0.00</td>\n",
       "      <td>417</td>\n",
       "      <td>360</td>\n",
       "      <td>33.37</td>\n",
       "      <td>12.90</td>\n",
       "      <td>9</td>\n",
       "      <td>4</td>\n",
       "      <td>5</td>\n",
       "      <td>S</td>\n",
       "      <td>1005</td>\n",
       "    </tr>\n",
       "    <tr>\n",
       "      <th>515512</th>\n",
       "      <td>2020-09-09</td>\n",
       "      <td>348022</td>\n",
       "      <td>718278001</td>\n",
       "      <td>0</td>\n",
       "      <td>0.52</td>\n",
       "      <td>7.00</td>\n",
       "      <td>-1.00</td>\n",
       "      <td>-1.00</td>\n",
       "      <td>32.00</td>\n",
       "      <td>0.04</td>\n",
       "      <td>...</td>\n",
       "      <td>0.00</td>\n",
       "      <td>142</td>\n",
       "      <td>119</td>\n",
       "      <td>34.99</td>\n",
       "      <td>13.66</td>\n",
       "      <td>9</td>\n",
       "      <td>4</td>\n",
       "      <td>51</td>\n",
       "      <td>D</td>\n",
       "      <td>1002</td>\n",
       "    </tr>\n",
       "    <tr>\n",
       "      <th>515513</th>\n",
       "      <td>2020-09-09</td>\n",
       "      <td>348022</td>\n",
       "      <td>833530002</td>\n",
       "      <td>0</td>\n",
       "      <td>0.93</td>\n",
       "      <td>6.00</td>\n",
       "      <td>-1.00</td>\n",
       "      <td>-1.00</td>\n",
       "      <td>32.00</td>\n",
       "      <td>0.04</td>\n",
       "      <td>...</td>\n",
       "      <td>0.00</td>\n",
       "      <td>87</td>\n",
       "      <td>71</td>\n",
       "      <td>31.41</td>\n",
       "      <td>11.65</td>\n",
       "      <td>73</td>\n",
       "      <td>4</td>\n",
       "      <td>60</td>\n",
       "      <td>B</td>\n",
       "      <td>1018</td>\n",
       "    </tr>\n",
       "    <tr>\n",
       "      <th>515514</th>\n",
       "      <td>2020-09-09</td>\n",
       "      <td>348022</td>\n",
       "      <td>841383003</td>\n",
       "      <td>0</td>\n",
       "      <td>0.46</td>\n",
       "      <td>15.00</td>\n",
       "      <td>-1.00</td>\n",
       "      <td>-1.00</td>\n",
       "      <td>32.00</td>\n",
       "      <td>0.04</td>\n",
       "      <td>...</td>\n",
       "      <td>0.00</td>\n",
       "      <td>167</td>\n",
       "      <td>117</td>\n",
       "      <td>39.41</td>\n",
       "      <td>12.71</td>\n",
       "      <td>10</td>\n",
       "      <td>3</td>\n",
       "      <td>16</td>\n",
       "      <td>A</td>\n",
       "      <td>1002</td>\n",
       "    </tr>\n",
       "    <tr>\n",
       "      <th>515515</th>\n",
       "      <td>2020-09-09</td>\n",
       "      <td>348022</td>\n",
       "      <td>832036003</td>\n",
       "      <td>0</td>\n",
       "      <td>0.83</td>\n",
       "      <td>6.00</td>\n",
       "      <td>-1.00</td>\n",
       "      <td>-1.00</td>\n",
       "      <td>32.00</td>\n",
       "      <td>0.04</td>\n",
       "      <td>...</td>\n",
       "      <td>0.00</td>\n",
       "      <td>25</td>\n",
       "      <td>24</td>\n",
       "      <td>33.72</td>\n",
       "      <td>14.72</td>\n",
       "      <td>51</td>\n",
       "      <td>1</td>\n",
       "      <td>61</td>\n",
       "      <td>B</td>\n",
       "      <td>1017</td>\n",
       "    </tr>\n",
       "  </tbody>\n",
       "</table>\n",
       "<p>515516 rows × 22 columns</p>\n",
       "</div>"
      ],
      "text/plain": [
       "           obs_dat  customer_short_id  article_id  relevance  \\\n",
       "0       2020-04-01             193594   848422001          0   \n",
       "1       2020-04-01             193594   835704003          0   \n",
       "2       2020-04-01             193594   218829002          0   \n",
       "3       2020-04-01             193594   752689002          0   \n",
       "4       2020-04-01             193594   706016019          0   \n",
       "...            ...                ...         ...        ...   \n",
       "515511  2020-09-09             348022   720125001          0   \n",
       "515512  2020-09-09             348022   718278001          0   \n",
       "515513  2020-09-09             348022   833530002          0   \n",
       "515514  2020-09-09             348022   841383003          0   \n",
       "515515  2020-09-09             348022   832036003          0   \n",
       "\n",
       "        article_similarity_score  article_sales_score  prev_purchases_score  \\\n",
       "0                           0.80                 3.00                 -1.00   \n",
       "1                           0.59                 3.00                 -1.00   \n",
       "2                          -1.00                -1.00                  1.00   \n",
       "3                           0.36                 5.00                 -1.00   \n",
       "4                           0.64                12.00                 -1.00   \n",
       "...                          ...                  ...                   ...   \n",
       "515511                      0.49                 3.00                 -1.00   \n",
       "515512                      0.52                 7.00                 -1.00   \n",
       "515513                      0.93                 6.00                 -1.00   \n",
       "515514                      0.46                15.00                 -1.00   \n",
       "515515                      0.83                 6.00                 -1.00   \n",
       "\n",
       "        article_department_sales_score  feat_customer_age  \\\n",
       "0                                -1.00              24.00   \n",
       "1                                -1.00              24.00   \n",
       "2                                -1.00              24.00   \n",
       "3                                -1.00              24.00   \n",
       "4                                -1.00              24.00   \n",
       "...                                ...                ...   \n",
       "515511                           -1.00              32.00   \n",
       "515512                           -1.00              32.00   \n",
       "515513                           -1.00              32.00   \n",
       "515514                           -1.00              32.00   \n",
       "515515                           -1.00              32.00   \n",
       "\n",
       "        feat_customer_price_affinity  ...  feat_article_stdev_price  \\\n",
       "0                               0.03  ...                      0.01   \n",
       "1                               0.03  ...                      0.00   \n",
       "2                               0.03  ...                      0.00   \n",
       "3                               0.03  ...                      0.00   \n",
       "4                               0.03  ...                      0.00   \n",
       "...                              ...  ...                       ...   \n",
       "515511                          0.04  ...                      0.00   \n",
       "515512                          0.04  ...                      0.00   \n",
       "515513                          0.04  ...                      0.00   \n",
       "515514                          0.04  ...                      0.00   \n",
       "515515                          0.04  ...                      0.00   \n",
       "\n",
       "        feat_article_num_sales  feat_article_num_distinct_customers  \\\n",
       "0                            3                                    2   \n",
       "1                            3                                    2   \n",
       "2                           42                                   39   \n",
       "3                           36                                   29   \n",
       "4                           95                                   74   \n",
       "...                        ...                                  ...   \n",
       "515511                     417                                  360   \n",
       "515512                     142                                  119   \n",
       "515513                      87                                   71   \n",
       "515514                     167                                  117   \n",
       "515515                      25                                   24   \n",
       "\n",
       "        feat_article_average_age  feat_article_stdev_age  \\\n",
       "0                          35.67                    9.81   \n",
       "1                          28.67                    2.89   \n",
       "2                          33.71                   12.42   \n",
       "3                          35.17                   12.70   \n",
       "4                          35.29                   11.91   \n",
       "...                          ...                     ...   \n",
       "515511                     33.37                   12.90   \n",
       "515512                     34.99                   13.66   \n",
       "515513                     31.41                   11.65   \n",
       "515514                     39.41                   12.71   \n",
       "515515                     33.72                   14.72   \n",
       "\n",
       "        feat_article_colour_group_code  \\\n",
       "0                                    9   \n",
       "1                                   93   \n",
       "2                                    9   \n",
       "3                                    9   \n",
       "4                                   73   \n",
       "...                                ...   \n",
       "515511                               9   \n",
       "515512                               9   \n",
       "515513                              73   \n",
       "515514                              10   \n",
       "515515                              51   \n",
       "\n",
       "        feat_article_perceived_colour_value_id  feat_article_section_no  \\\n",
       "0                                            4                       15   \n",
       "1                                            2                       61   \n",
       "2                                            4                       65   \n",
       "3                                            4                       51   \n",
       "4                                            4                       53   \n",
       "...                                        ...                      ...   \n",
       "515511                                       4                        5   \n",
       "515512                                       4                       51   \n",
       "515513                                       4                       60   \n",
       "515514                                       3                       16   \n",
       "515515                                       1                       61   \n",
       "\n",
       "        feat_article_index_code  feat_article_garment_group_no  \n",
       "0                             A                           1005  \n",
       "1                             B                           1017  \n",
       "2                             C                           1019  \n",
       "3                             D                           1017  \n",
       "4                             D                           1009  \n",
       "...                         ...                            ...  \n",
       "515511                        S                           1005  \n",
       "515512                        D                           1002  \n",
       "515513                        B                           1018  \n",
       "515514                        A                           1002  \n",
       "515515                        B                           1017  \n",
       "\n",
       "[515516 rows x 22 columns]"
      ]
     },
     "execution_count": 1006,
     "metadata": {},
     "output_type": "execute_result"
    }
   ],
   "source": [
    "df_train"
   ]
  },
  {
   "cell_type": "code",
   "execution_count": null,
   "id": "60056085-77c1-4777-bcbe-1a2b8e070a63",
   "metadata": {},
   "outputs": [],
   "source": []
  }
 ],
 "metadata": {
  "kernelspec": {
   "display_name": "Python 3 (ipykernel)",
   "language": "python",
   "name": "python3"
  },
  "language_info": {
   "codemirror_mode": {
    "name": "ipython",
    "version": 3
   },
   "file_extension": ".py",
   "mimetype": "text/x-python",
   "name": "python",
   "nbconvert_exporter": "python",
   "pygments_lexer": "ipython3",
   "version": "3.9.7"
  }
 },
 "nbformat": 4,
 "nbformat_minor": 5
}
