{
 "cells": [
  {
   "cell_type": "code",
   "execution_count": 98,
   "id": "a15ba158-2451-4824-9854-d5f595749a6a",
   "metadata": {},
   "outputs": [
    {
     "name": "stdout",
     "output_type": "stream",
     "text": [
      "The google.cloud.bigquery extension is already loaded. To reload it, use:\n",
      "  %reload_ext google.cloud.bigquery\n"
     ]
    }
   ],
   "source": [
    "%load_ext google.cloud.bigquery"
   ]
  },
  {
   "cell_type": "code",
   "execution_count": 127,
   "id": "a2682c4f-27a7-41f3-addf-06560e1f9a30",
   "metadata": {},
   "outputs": [],
   "source": [
    "%load_ext lab_black"
   ]
  },
  {
   "cell_type": "code",
   "execution_count": 107,
   "id": "9797f0ed-d6fc-422a-993c-335ed84e6dad",
   "metadata": {},
   "outputs": [
    {
     "name": "stdout",
     "output_type": "stream",
     "text": [
      "The autoreload extension is already loaded. To reload it, use:\n",
      "  %reload_ext autoreload\n"
     ]
    }
   ],
   "source": [
    "%load_ext autoreload\n",
    "%autoreload"
   ]
  },
  {
   "cell_type": "code",
   "execution_count": 1079,
   "id": "87f3e2b8-d6aa-460a-ac33-9b02b75896f4",
   "metadata": {},
   "outputs": [],
   "source": [
    "import pandas as pd\n",
    "import lightgbm\n",
    "\n",
    "import matplotlib.pyplot as plt\n",
    "import altair as alt\n",
    "import shap\n",
    "from sklearn.preprocessing import LabelEncoder\n",
    "from sklearn.model_selection import TimeSeriesSplit\n",
    "\n",
    "from hm_fashion.model import get_ranker_pipeline\n",
    "import mlflow\n",
    "import mlflow.lightgbm"
   ]
  },
  {
   "cell_type": "code",
   "execution_count": 101,
   "id": "424a21b8-0ef8-4911-82e2-3b4d73f06ccf",
   "metadata": {},
   "outputs": [],
   "source": [
    "pd.options.display.float_format = \"{:.2f}\".format"
   ]
  },
  {
   "cell_type": "code",
   "execution_count": 1078,
   "id": "d4c9b400-f4e0-4fa6-bae6-5f54c65e7e06",
   "metadata": {},
   "outputs": [
    {
     "data": {
      "text/plain": [
       "'1'"
      ]
     },
     "execution_count": 1078,
     "metadata": {},
     "output_type": "execute_result"
    }
   ],
   "source": [
    "mlflow.set_tracking_uri(\"http://127.0.0.1:5000\")\n",
    "mlflow.create_experiment(\"kaggle\")"
   ]
  },
  {
   "cell_type": "code",
   "execution_count": 1118,
   "id": "2c90b2b4-26f8-4678-ad22-1835ec01b37b",
   "metadata": {},
   "outputs": [
    {
     "data": {
      "text/plain": [
       "RendererRegistry.enable('mimetype')"
      ]
     },
     "execution_count": 1118,
     "metadata": {},
     "output_type": "execute_result"
    }
   ],
   "source": [
    "mlflow.lightgbm.autolog(disable=True)\n",
    "alt.renderers.enable(\"mimetype\")"
   ]
  },
  {
   "cell_type": "markdown",
   "id": "d6fec4fd-2df9-43db-93cb-c3321f276e4f",
   "metadata": {},
   "source": [
    "## Load Training and Validation Data"
   ]
  },
  {
   "cell_type": "code",
   "execution_count": 1331,
   "id": "24166572-91b7-4737-8d55-d0cd23a5b3c8",
   "metadata": {
    "tags": []
   },
   "outputs": [
    {
     "name": "stderr",
     "output_type": "stream",
     "text": [
      "Query complete after 0.01s: 100%|████████████████████████████████████████████████████| 241/241 [00:00<00:00, 63960.22query/s]\n",
      "Downloading: 100%|████████████████████████████████████████████████████████████| 3335508/3335508 [00:41<00:00, 80520.46rows/s]\n"
     ]
    }
   ],
   "source": [
    "%%bigquery training_data --project zenscr-seefood-dev\n",
    "\n",
    "WITH base AS (\n",
    "  SELECT\n",
    "    *\n",
    "  FROM `zenscr-seefood-dev.hm_kaggle_reco.training_data` t \n",
    "  WHERE (article_similarity_score > 0 OR article_sales_score > 0 OR prev_purchases_score > 0 OR prev_purchases_score > 0 OR article_department_sales_score > 0)  AND (obs_dat <= \"2020-09-09\")\n",
    "),\n",
    "positive_samples AS (\n",
    "    SELECT * FROM base WHERE relevance = 1\n",
    "),\n",
    "negative_samples AS (\n",
    "    SELECT * FROM base \n",
    "    WHERE relevance = 0 AND ABS(MOD(FARM_FINGERPRINT(obs_dat  || customer_short_id || article_id), 100)) <= 5\n",
    "),\n",
    "all_samples AS (\n",
    "    SELECT * FROM positive_samples\n",
    "    UNION ALL\n",
    "    SELECT * FROM negative_samples\n",
    "),\n",
    "filtered AS (\n",
    "  SELECT\n",
    "    t.*,\n",
    "    MAX(relevance) OVER (PARTITION BY obs_dat, customer_short_id) max_relevance,\n",
    "    COUNT(*) OVER (PARTITION BY obs_dat, customer_short_id) num_trans\n",
    "  FROM all_samples t \n",
    "  QUALIFY max_relevance = 1 AND num_trans > 1 \n",
    ")\n",
    "\n",
    "SELECT\n",
    "  * EXCEPT(max_relevance, num_trans)\n",
    "FROM filtered"
   ]
  },
  {
   "cell_type": "code",
   "execution_count": 1332,
   "id": "20237f7a-5062-45d8-822c-444150b7d11e",
   "metadata": {},
   "outputs": [
    {
     "data": {
      "text/plain": [
       "(3335508, 34)"
      ]
     },
     "execution_count": 1332,
     "metadata": {},
     "output_type": "execute_result"
    }
   ],
   "source": [
    "training_data.shape"
   ]
  },
  {
   "cell_type": "code",
   "execution_count": 1333,
   "id": "f99cd0f0-0770-4a0b-8893-966a5553d479",
   "metadata": {},
   "outputs": [
    {
     "name": "stderr",
     "output_type": "stream",
     "text": [
      "Query complete after 0.00s: 100%|████████████████████████████████████████████████████| 100/100 [00:00<00:00, 44839.68query/s]\n",
      "Downloading: 100%|████████████████████████████████████████████████████████████| 2090962/2090962 [00:25<00:00, 81081.45rows/s]\n"
     ]
    }
   ],
   "source": [
    "%%bigquery validation_data --project zenscr-seefood-dev\n",
    "\n",
    "WITH base AS (\n",
    "  SELECT\n",
    "    *\n",
    "  FROM `zenscr-seefood-dev.hm_kaggle_reco.training_data` t \n",
    "  WHERE (article_similarity_score > 0 OR article_sales_score > 0 OR prev_purchases_score > 0 OR prev_purchases_score > 0 OR article_department_sales_score > 0) AND (obs_dat = \"2020-09-16\")\n",
    "),\n",
    "filtered AS (\n",
    "  SELECT\n",
    "    t.*,\n",
    "    MAX(relevance) OVER (PARTITION BY obs_dat, customer_short_id) max_relevance,\n",
    "    COUNT(*) OVER (PARTITION BY obs_dat, customer_short_id) num_trans\n",
    "  FROM base t \n",
    "  QUALIFY max_relevance = 1 AND num_trans > 1 \n",
    ")\n",
    "\n",
    "SELECT\n",
    "  * EXCEPT(max_relevance, num_trans)\n",
    "FROM filtered"
   ]
  },
  {
   "cell_type": "code",
   "execution_count": 1305,
   "id": "38036f4e-5f2b-435b-af4b-7a2c88867c12",
   "metadata": {},
   "outputs": [
    {
     "data": {
      "text/plain": [
       "(2090709, 34)"
      ]
     },
     "execution_count": 1305,
     "metadata": {},
     "output_type": "execute_result"
    }
   ],
   "source": [
    "validation_data.shape"
   ]
  },
  {
   "cell_type": "code",
   "execution_count": 1306,
   "id": "9d87cfee-3d35-4f52-b3e8-1e686b0f8107",
   "metadata": {},
   "outputs": [
    {
     "data": {
      "text/plain": [
       "obs_dat                                    0.00\n",
       "customer_short_id                          0.00\n",
       "article_id                                 0.00\n",
       "relevance                                  0.00\n",
       "article_similarity_score                   0.00\n",
       "article_sales_score                        0.00\n",
       "prev_purchases_score                       0.00\n",
       "article_department_sales_score             0.00\n",
       "obs_month                                  0.00\n",
       "feat_customer_age                          0.09\n",
       "feat_customer_price_affinity               0.09\n",
       "feat_customer_stdev_price                  0.10\n",
       "feat_customer_num_purchases                0.09\n",
       "feat_customer_last_purchase_num_days       0.09\n",
       "feat_customer_club_member_status           0.09\n",
       "feat_customer_active                       0.59\n",
       "feat_customer_fashion_news_frequency       0.09\n",
       "feat_customer_sales_channel_one_affinity   0.09\n",
       "feat_customer_sales_channel_two_affinity   0.09\n",
       "feat_article_avg_price_1day                0.00\n",
       "feat_article_avg_price_3days               0.00\n",
       "feat_article_avg_price_7days               0.00\n",
       "feat_article_avg_num_sales_1day            0.00\n",
       "feat_article_avg_num_sales_3days           0.00\n",
       "feat_article_avg_num_sales_7days           0.00\n",
       "feat_article_avg_customer_age              0.00\n",
       "feat_article_product_type_no               0.00\n",
       "feat_article_graphical_appearance_no       0.00\n",
       "feat_article_colour_group_code             0.00\n",
       "feat_article_perceived_colour_value_id     0.00\n",
       "feat_article_perceived_colour_master_id    0.00\n",
       "feat_article_index_code                    0.00\n",
       "feat_article_section_no                    0.00\n",
       "feat_article_garment_group_no              0.00\n",
       "dtype: float64"
      ]
     },
     "execution_count": 1306,
     "metadata": {},
     "output_type": "execute_result"
    }
   ],
   "source": [
    "training_data.isna().mean()"
   ]
  },
  {
   "cell_type": "code",
   "execution_count": 1347,
   "id": "aae06fe9-03d3-4c08-b4c4-c28b7eb733de",
   "metadata": {},
   "outputs": [
    {
     "data": {
      "text/plain": [
       "obs_dat                                    0.00\n",
       "customer_short_id                          0.00\n",
       "article_id                                 0.00\n",
       "relevance                                  0.00\n",
       "article_similarity_score                   0.00\n",
       "article_sales_score                        0.00\n",
       "prev_purchases_score                       0.00\n",
       "article_department_sales_score             0.00\n",
       "obs_month                                  0.00\n",
       "feat_customer_age                          0.08\n",
       "feat_customer_price_affinity               0.08\n",
       "feat_customer_stdev_price                  0.10\n",
       "feat_customer_num_purchases                0.08\n",
       "feat_customer_last_purchase_num_days       0.08\n",
       "feat_customer_club_member_status           0.08\n",
       "feat_customer_active                       0.59\n",
       "feat_customer_fashion_news_frequency       0.08\n",
       "feat_customer_sales_channel_one_affinity   0.08\n",
       "feat_customer_sales_channel_two_affinity   0.08\n",
       "feat_article_avg_price_1day                0.14\n",
       "feat_article_avg_price_3day                0.03\n",
       "feat_article_avg_price_7day                0.02\n",
       "feat_article_num_sales_1day                0.14\n",
       "feat_article_num_sales_3day                0.03\n",
       "feat_article_num_sales_7day                0.02\n",
       "feat_article_avg_customer_age              0.00\n",
       "feat_article_product_type_no               0.00\n",
       "feat_article_graphical_appearance_no       0.00\n",
       "feat_article_colour_group_code             0.00\n",
       "feat_article_perceived_colour_value_id     0.00\n",
       "feat_article_perceived_colour_master_id    0.00\n",
       "feat_article_index_code                    0.00\n",
       "feat_article_section_no                    0.00\n",
       "feat_article_garment_group_no              0.00\n",
       "dtype: float64"
      ]
     },
     "execution_count": 1347,
     "metadata": {},
     "output_type": "execute_result"
    }
   ],
   "source": [
    "validation_data.isna().mean()"
   ]
  },
  {
   "cell_type": "markdown",
   "id": "9b7a830a-54ca-4c62-b064-42d16cb42702",
   "metadata": {},
   "source": [
    "## Explore Training Data"
   ]
  },
  {
   "cell_type": "code",
   "execution_count": 1307,
   "id": "fb01ffbe-14b9-4059-a2ee-e3e4fe701c35",
   "metadata": {},
   "outputs": [
    {
     "data": {
      "text/plain": [
       "<AxesSubplot:xlabel='obs_dat'>"
      ]
     },
     "execution_count": 1307,
     "metadata": {},
     "output_type": "execute_result"
    },
    {
     "data": {
      "image/png": "[encoded data removed]",
      "text/plain": [
       "<Figure size 432x288 with 1 Axes>"
      ]
     },
     "metadata": {
      "needs_background": "light"
     },
     "output_type": "display_data"
    }
   ],
   "source": [
    "training_data.groupby(\"obs_dat\")[\"relevance\"].count().plot.line()"
   ]
  },
  {
   "cell_type": "code",
   "execution_count": 1308,
   "id": "09bfb09f-37e0-42bf-9ada-532d9e732dfc",
   "metadata": {},
   "outputs": [
    {
     "data": {
      "text/html": [
       "<div>\n",
       "<style scoped>\n",
       "    .dataframe tbody tr th:only-of-type {\n",
       "        vertical-align: middle;\n",
       "    }\n",
       "\n",
       "    .dataframe tbody tr th {\n",
       "        vertical-align: top;\n",
       "    }\n",
       "\n",
       "    .dataframe thead th {\n",
       "        text-align: right;\n",
       "    }\n",
       "</style>\n",
       "<table border=\"1\" class=\"dataframe\">\n",
       "  <thead>\n",
       "    <tr style=\"text-align: right;\">\n",
       "      <th></th>\n",
       "      <th>num_items</th>\n",
       "      <th>num_pos</th>\n",
       "    </tr>\n",
       "  </thead>\n",
       "  <tbody>\n",
       "    <tr>\n",
       "      <th>count</th>\n",
       "      <td>26792.00</td>\n",
       "      <td>26792.00</td>\n",
       "    </tr>\n",
       "    <tr>\n",
       "      <th>mean</th>\n",
       "      <td>124.46</td>\n",
       "      <td>2.28</td>\n",
       "    </tr>\n",
       "    <tr>\n",
       "      <th>std</th>\n",
       "      <td>11.24</td>\n",
       "      <td>1.86</td>\n",
       "    </tr>\n",
       "    <tr>\n",
       "      <th>min</th>\n",
       "      <td>81.00</td>\n",
       "      <td>1.00</td>\n",
       "    </tr>\n",
       "    <tr>\n",
       "      <th>25%</th>\n",
       "      <td>117.00</td>\n",
       "      <td>1.00</td>\n",
       "    </tr>\n",
       "    <tr>\n",
       "      <th>50%</th>\n",
       "      <td>124.00</td>\n",
       "      <td>2.00</td>\n",
       "    </tr>\n",
       "    <tr>\n",
       "      <th>75%</th>\n",
       "      <td>132.00</td>\n",
       "      <td>3.00</td>\n",
       "    </tr>\n",
       "    <tr>\n",
       "      <th>max</th>\n",
       "      <td>174.00</td>\n",
       "      <td>28.00</td>\n",
       "    </tr>\n",
       "  </tbody>\n",
       "</table>\n",
       "</div>"
      ],
      "text/plain": [
       "       num_items  num_pos\n",
       "count   26792.00 26792.00\n",
       "mean      124.46     2.28\n",
       "std        11.24     1.86\n",
       "min        81.00     1.00\n",
       "25%       117.00     1.00\n",
       "50%       124.00     2.00\n",
       "75%       132.00     3.00\n",
       "max       174.00    28.00"
      ]
     },
     "execution_count": 1308,
     "metadata": {},
     "output_type": "execute_result"
    }
   ],
   "source": [
    "training_data.groupby([\"obs_dat\", \"customer_short_id\"]).agg(\n",
    "    num_items=(\"relevance\", \"count\"), num_pos=(\"relevance\", \"sum\")\n",
    ").describe()"
   ]
  },
  {
   "cell_type": "code",
   "execution_count": 1309,
   "id": "2d83f042-5244-4e25-a398-49285541f1ab",
   "metadata": {},
   "outputs": [
    {
     "data": {
      "text/html": [
       "<div>\n",
       "<style scoped>\n",
       "    .dataframe tbody tr th:only-of-type {\n",
       "        vertical-align: middle;\n",
       "    }\n",
       "\n",
       "    .dataframe tbody tr th {\n",
       "        vertical-align: top;\n",
       "    }\n",
       "\n",
       "    .dataframe thead th {\n",
       "        text-align: right;\n",
       "    }\n",
       "</style>\n",
       "<table border=\"1\" class=\"dataframe\">\n",
       "  <thead>\n",
       "    <tr style=\"text-align: right;\">\n",
       "      <th></th>\n",
       "      <th>num_items</th>\n",
       "      <th>num_pos</th>\n",
       "    </tr>\n",
       "  </thead>\n",
       "  <tbody>\n",
       "    <tr>\n",
       "      <th>count</th>\n",
       "      <td>1021.00</td>\n",
       "      <td>1021.00</td>\n",
       "    </tr>\n",
       "    <tr>\n",
       "      <th>mean</th>\n",
       "      <td>2047.71</td>\n",
       "      <td>2.16</td>\n",
       "    </tr>\n",
       "    <tr>\n",
       "      <th>std</th>\n",
       "      <td>57.91</td>\n",
       "      <td>1.79</td>\n",
       "    </tr>\n",
       "    <tr>\n",
       "      <th>min</th>\n",
       "      <td>2000.00</td>\n",
       "      <td>1.00</td>\n",
       "    </tr>\n",
       "    <tr>\n",
       "      <th>25%</th>\n",
       "      <td>2009.00</td>\n",
       "      <td>1.00</td>\n",
       "    </tr>\n",
       "    <tr>\n",
       "      <th>50%</th>\n",
       "      <td>2029.00</td>\n",
       "      <td>2.00</td>\n",
       "    </tr>\n",
       "    <tr>\n",
       "      <th>75%</th>\n",
       "      <td>2065.00</td>\n",
       "      <td>3.00</td>\n",
       "    </tr>\n",
       "    <tr>\n",
       "      <th>max</th>\n",
       "      <td>2456.00</td>\n",
       "      <td>16.00</td>\n",
       "    </tr>\n",
       "  </tbody>\n",
       "</table>\n",
       "</div>"
      ],
      "text/plain": [
       "       num_items  num_pos\n",
       "count    1021.00  1021.00\n",
       "mean     2047.71     2.16\n",
       "std        57.91     1.79\n",
       "min      2000.00     1.00\n",
       "25%      2009.00     1.00\n",
       "50%      2029.00     2.00\n",
       "75%      2065.00     3.00\n",
       "max      2456.00    16.00"
      ]
     },
     "execution_count": 1309,
     "metadata": {},
     "output_type": "execute_result"
    }
   ],
   "source": [
    "validation_data.groupby([\"obs_dat\", \"customer_short_id\"]).agg(\n",
    "    num_items=(\"relevance\", \"count\"), num_pos=(\"relevance\", \"sum\")\n",
    ").describe()"
   ]
  },
  {
   "cell_type": "code",
   "execution_count": 1310,
   "id": "7ea99f84-1be5-456c-a203-e3710cef86e2",
   "metadata": {},
   "outputs": [
    {
     "data": {
      "text/plain": [
       "0    3273579\n",
       "1      60980\n",
       "Name: relevance, dtype: Int64"
      ]
     },
     "execution_count": 1310,
     "metadata": {},
     "output_type": "execute_result"
    }
   ],
   "source": [
    "training_data[\"relevance\"].value_counts()"
   ]
  },
  {
   "cell_type": "code",
   "execution_count": 1311,
   "id": "b17bf853-8d17-48c4-8345-62f347a0630f",
   "metadata": {},
   "outputs": [
    {
     "data": {
      "text/plain": [
       "<AxesSubplot:ylabel='Frequency'>"
      ]
     },
     "execution_count": 1311,
     "metadata": {},
     "output_type": "execute_result"
    },
    {
     "data": {
      "image/png": "[encoded data removed]",
      "text/plain": [
       "<Figure size 1224x360 with 3 Axes>"
      ]
     },
     "metadata": {
      "needs_background": "light"
     },
     "output_type": "display_data"
    }
   ],
   "source": [
    "fig, axs = plt.subplots(1, 3, figsize=(17, 5))\n",
    "\n",
    "training_data[\"relevance\"].plot.hist(log=True, ax=axs[0])\n",
    "\n",
    "training_data[lambda d: d[\"relevance\"] == 1][\"article_similarity_score\"].plot.hist(\n",
    "    density=True, bins=100, ax=axs[1]\n",
    ")\n",
    "training_data[lambda d: d[\"relevance\"] == 0][\"article_similarity_score\"].plot.hist(\n",
    "    density=True, alpha=0.5, bins=100, ax=axs[1]\n",
    ")\n",
    "\n",
    "training_data[lambda d: d[\"relevance\"] == 1][\"article_sales_score\"].plot.hist(\n",
    "    density=True, bins=100, ax=axs[2]\n",
    ")\n",
    "training_data[lambda d: d[\"relevance\"] == 0][\"article_sales_score\"].plot.hist(\n",
    "    density=True, alpha=0.5, bins=100, ax=axs[2]\n",
    ")"
   ]
  },
  {
   "cell_type": "markdown",
   "id": "834a946d-bef4-498a-8e43-fc98faa47f02",
   "metadata": {},
   "source": [
    "## Model Training"
   ]
  },
  {
   "cell_type": "code",
   "execution_count": 1334,
   "id": "5a04f7d4-2e22-4b98-ad45-87668190b7c7",
   "metadata": {},
   "outputs": [],
   "source": [
    "features = [\n",
    "    \"article_similarity_score\",\n",
    "    \"article_sales_score\",\n",
    "    \"prev_purchases_score\",\n",
    "    \"obs_month\",\n",
    "    \"feat_customer_age\",\n",
    "    \"feat_customer_price_affinity\",\n",
    "    \"feat_customer_stdev_price\",\n",
    "    \"feat_customer_num_purchases\",\n",
    "    \"feat_customer_last_purchase_num_days\",\n",
    "    \"feat_customer_club_member_status\",\n",
    "    \"feat_customer_active\",\n",
    "    \"feat_customer_fashion_news_frequency\",\n",
    "    \"feat_customer_sales_channel_one_affinity\",\n",
    "    \"feat_customer_sales_channel_two_affinity\",\n",
    "    \"feat_article_avg_price_1day\",\n",
    "    \"feat_article_avg_price_3day\",\n",
    "    \"feat_article_avg_price_7day\",\n",
    "    \"feat_article_num_sales_1day\",\n",
    "    \"feat_article_num_sales_3day\",\n",
    "    \"feat_article_num_sales_7day\",\n",
    "    \"feat_article_avg_customer_age\",\n",
    "    \"feat_article_product_type_no\",\n",
    "    \"feat_article_graphical_appearance_no\",\n",
    "    \"feat_article_colour_group_code\",\n",
    "    \"feat_article_perceived_colour_value_id\",\n",
    "    \"feat_article_perceived_colour_master_id\",\n",
    "    # \"feat_article_index_code\",\n",
    "    \"feat_article_section_no\",\n",
    "    \"feat_article_garment_group_no\",\n",
    "]\n",
    "\n",
    "pipe = get_ranker_pipeline(features)"
   ]
  },
  {
   "cell_type": "code",
   "execution_count": 1335,
   "id": "924f5542-c198-490e-8456-6902413bafce",
   "metadata": {},
   "outputs": [],
   "source": [
    "model = pipe[-1]"
   ]
  },
  {
   "cell_type": "code",
   "execution_count": 1336,
   "id": "ff852cd7-332e-4559-9075-cead45d8b59c",
   "metadata": {},
   "outputs": [
    {
     "data": {
      "text/plain": [
       "Pipeline(steps=[('features',\n",
       "                 Pipeline(steps=[('to_dataframe',\n",
       "                                  FunctionTransformer(func=<function to_dataframe at 0x13cccbb80>,\n",
       "                                                      kw_args={'col_labels': ['article_similarity_score',\n",
       "                                                                              'article_sales_score',\n",
       "                                                                              'prev_purchases_score',\n",
       "                                                                              'obs_month',\n",
       "                                                                              'feat_customer_age',\n",
       "                                                                              'feat_customer_price_affinity',\n",
       "                                                                              'feat_customer_stdev_price',\n",
       "                                                                              'feat_customer_num_purchases',\n",
       "                                                                              'feat_custome...\n",
       "                                                                              'feat_article_num_sales_7day',\n",
       "                                                                              'feat_article_avg_customer_age',\n",
       "                                                                              'feat_article_product_type_no',\n",
       "                                                                              'feat_article_graphical_appearance_no',\n",
       "                                                                              'feat_article_colour_group_code',\n",
       "                                                                              'feat_article_perceived_colour_value_id',\n",
       "                                                                              'feat_article_perceived_colour_master_id',\n",
       "                                                                              'feat_article_section_no',\n",
       "                                                                              'feat_article_garment_group_no']}))])),\n",
       "                ('ranker', LGBMRanker(metric='ndcg', objective='lambdarank'))])"
      ]
     },
     "execution_count": 1336,
     "metadata": {},
     "output_type": "execute_result"
    }
   ],
   "source": [
    "pipe"
   ]
  },
  {
   "cell_type": "code",
   "execution_count": 1337,
   "id": "c2392d2b-3d88-42a5-b61b-d26a4b72922a",
   "metadata": {},
   "outputs": [
    {
     "data": {
      "text/plain": [
       "((3335508, 28), 3335508, 26800)"
      ]
     },
     "execution_count": 1337,
     "metadata": {},
     "output_type": "execute_result"
    }
   ],
   "source": [
    "df_train = (\n",
    "    training_data.groupby([\"obs_dat\", \"customer_short_id\"], sort=False)\n",
    "    .apply(lambda g: g.sample(frac=1))\n",
    "    .reset_index(drop=True)\n",
    ")\n",
    "X_train = pipe[:-1].fit_transform(df_train).astype(\"float64\")\n",
    "y_train = df_train[\"relevance\"].astype(\"int32\")\n",
    "qids_train = (\n",
    "    df_train.groupby([\"obs_dat\", \"customer_short_id\"])[\"relevance\"].count().to_numpy()\n",
    ")\n",
    "\n",
    "X_train.shape, len(y_train), len(qids_train)"
   ]
  },
  {
   "cell_type": "code",
   "execution_count": 1338,
   "id": "68375133-93b6-47f0-bb45-3da6a31dc0cd",
   "metadata": {},
   "outputs": [
    {
     "data": {
      "text/plain": [
       "((2090962, 28), 2090962, 1021)"
      ]
     },
     "execution_count": 1338,
     "metadata": {},
     "output_type": "execute_result"
    }
   ],
   "source": [
    "df_val = (\n",
    "    validation_data.groupby([\"obs_dat\", \"customer_short_id\"], sort=False)\n",
    "    .apply(lambda g: g.sample(frac=1))\n",
    "    .reset_index(drop=True)\n",
    ")\n",
    "X_val = pipe[:-1].fit_transform(df_val).astype(\"float64\")\n",
    "y_val = df_val[\"relevance\"].astype(\"int32\")\n",
    "qids_val = (\n",
    "    df_val.groupby([\"obs_dat\", \"customer_short_id\"])[\"relevance\"].count().to_numpy()\n",
    ")\n",
    "\n",
    "X_val.shape, len(y_val), len(qids_val)"
   ]
  },
  {
   "cell_type": "code",
   "execution_count": 1339,
   "id": "b4f0af9c-4978-4ce1-8766-e58b57ef6aaf",
   "metadata": {},
   "outputs": [
    {
     "data": {
      "image/png": "[encoded data removed]",
      "text/plain": [
       "<Figure size 360x6480 with 28 Axes>"
      ]
     },
     "metadata": {
      "needs_background": "light"
     },
     "output_type": "display_data"
    }
   ],
   "source": [
    "fig, axs = plt.subplots(len(features), 1, figsize=(5, 90))\n",
    "\n",
    "for i, feat in enumerate(features):\n",
    "    X_train[feat].plot.hist(bins=50, ax=axs[i], title=f\"{feat} (Train)\", density=True)\n",
    "    X_val[feat].plot.hist(\n",
    "        bins=50, ax=axs[i], title=f\"{feat} (Val)\", density=True, alpha=0.5\n",
    "    )"
   ]
  },
  {
   "cell_type": "code",
   "execution_count": 1351,
   "id": "58e1bc2a-3072-406c-8fb1-93c18d317944",
   "metadata": {},
   "outputs": [
    {
     "name": "stdout",
     "output_type": "stream",
     "text": [
      "[1]\tvalid_0's map@12: 0.210857\tvalid_0's ndcg@12: 0.28281\tvalid_1's map@12: 0.107785\tvalid_1's ndcg@12: 0.125263\n",
      "[2]\tvalid_0's map@12: 0.219097\tvalid_0's ndcg@12: 0.291905\tvalid_1's map@12: 0.108914\tvalid_1's ndcg@12: 0.127593\n",
      "[3]\tvalid_0's map@12: 0.223123\tvalid_0's ndcg@12: 0.296122\tvalid_1's map@12: 0.10977\tvalid_1's ndcg@12: 0.128465\n",
      "[4]\tvalid_0's map@12: 0.224161\tvalid_0's ndcg@12: 0.297545\tvalid_1's map@12: 0.109863\tvalid_1's ndcg@12: 0.128686\n",
      "[5]\tvalid_0's map@12: 0.225812\tvalid_0's ndcg@12: 0.299408\tvalid_1's map@12: 0.109688\tvalid_1's ndcg@12: 0.128998\n",
      "[6]\tvalid_0's map@12: 0.22635\tvalid_0's ndcg@12: 0.300337\tvalid_1's map@12: 0.110211\tvalid_1's ndcg@12: 0.129573\n",
      "[7]\tvalid_0's map@12: 0.226519\tvalid_0's ndcg@12: 0.300463\tvalid_1's map@12: 0.111213\tvalid_1's ndcg@12: 0.130574\n",
      "[8]\tvalid_0's map@12: 0.227179\tvalid_0's ndcg@12: 0.30136\tvalid_1's map@12: 0.110776\tvalid_1's ndcg@12: 0.130185\n",
      "[9]\tvalid_0's map@12: 0.227704\tvalid_0's ndcg@12: 0.301828\tvalid_1's map@12: 0.111201\tvalid_1's ndcg@12: 0.131\n",
      "[10]\tvalid_0's map@12: 0.228156\tvalid_0's ndcg@12: 0.302315\tvalid_1's map@12: 0.111226\tvalid_1's ndcg@12: 0.131105\n",
      "[11]\tvalid_0's map@12: 0.228373\tvalid_0's ndcg@12: 0.302762\tvalid_1's map@12: 0.110908\tvalid_1's ndcg@12: 0.130881\n",
      "[12]\tvalid_0's map@12: 0.2284\tvalid_0's ndcg@12: 0.302737\tvalid_1's map@12: 0.110944\tvalid_1's ndcg@12: 0.130862\n",
      "[13]\tvalid_0's map@12: 0.228349\tvalid_0's ndcg@12: 0.302691\tvalid_1's map@12: 0.111011\tvalid_1's ndcg@12: 0.131065\n",
      "[14]\tvalid_0's map@12: 0.229593\tvalid_0's ndcg@12: 0.304134\tvalid_1's map@12: 0.110862\tvalid_1's ndcg@12: 0.130748\n",
      "[15]\tvalid_0's map@12: 0.229671\tvalid_0's ndcg@12: 0.304277\tvalid_1's map@12: 0.110701\tvalid_1's ndcg@12: 0.130646\n",
      "[16]\tvalid_0's map@12: 0.230587\tvalid_0's ndcg@12: 0.305271\tvalid_1's map@12: 0.110659\tvalid_1's ndcg@12: 0.130433\n",
      "[17]\tvalid_0's map@12: 0.231\tvalid_0's ndcg@12: 0.305784\tvalid_1's map@12: 0.110758\tvalid_1's ndcg@12: 0.130609\n",
      "[18]\tvalid_0's map@12: 0.231173\tvalid_0's ndcg@12: 0.305957\tvalid_1's map@12: 0.110646\tvalid_1's ndcg@12: 0.13075\n",
      "[19]\tvalid_0's map@12: 0.23155\tvalid_0's ndcg@12: 0.306351\tvalid_1's map@12: 0.11032\tvalid_1's ndcg@12: 0.13094\n",
      "[20]\tvalid_0's map@12: 0.231761\tvalid_0's ndcg@12: 0.306654\tvalid_1's map@12: 0.109942\tvalid_1's ndcg@12: 0.130194\n",
      "[21]\tvalid_0's map@12: 0.232053\tvalid_0's ndcg@12: 0.307293\tvalid_1's map@12: 0.109942\tvalid_1's ndcg@12: 0.130198\n",
      "[22]\tvalid_0's map@12: 0.232176\tvalid_0's ndcg@12: 0.307295\tvalid_1's map@12: 0.109388\tvalid_1's ndcg@12: 0.129778\n",
      "[23]\tvalid_0's map@12: 0.232598\tvalid_0's ndcg@12: 0.307748\tvalid_1's map@12: 0.109514\tvalid_1's ndcg@12: 0.130033\n",
      "[24]\tvalid_0's map@12: 0.233117\tvalid_0's ndcg@12: 0.308448\tvalid_1's map@12: 0.110357\tvalid_1's ndcg@12: 0.130838\n",
      "[25]\tvalid_0's map@12: 0.233487\tvalid_0's ndcg@12: 0.308853\tvalid_1's map@12: 0.11077\tvalid_1's ndcg@12: 0.131022\n",
      "[26]\tvalid_0's map@12: 0.233531\tvalid_0's ndcg@12: 0.309062\tvalid_1's map@12: 0.111147\tvalid_1's ndcg@12: 0.131336\n",
      "[27]\tvalid_0's map@12: 0.234021\tvalid_0's ndcg@12: 0.309497\tvalid_1's map@12: 0.111174\tvalid_1's ndcg@12: 0.131173\n",
      "[28]\tvalid_0's map@12: 0.234416\tvalid_0's ndcg@12: 0.309942\tvalid_1's map@12: 0.111729\tvalid_1's ndcg@12: 0.132276\n",
      "[29]\tvalid_0's map@12: 0.234496\tvalid_0's ndcg@12: 0.310075\tvalid_1's map@12: 0.110911\tvalid_1's ndcg@12: 0.131619\n",
      "[30]\tvalid_0's map@12: 0.235232\tvalid_0's ndcg@12: 0.310943\tvalid_1's map@12: 0.111104\tvalid_1's ndcg@12: 0.132028\n",
      "[31]\tvalid_0's map@12: 0.235465\tvalid_0's ndcg@12: 0.31137\tvalid_1's map@12: 0.110683\tvalid_1's ndcg@12: 0.131647\n",
      "[32]\tvalid_0's map@12: 0.23584\tvalid_0's ndcg@12: 0.311658\tvalid_1's map@12: 0.110636\tvalid_1's ndcg@12: 0.132022\n",
      "[33]\tvalid_0's map@12: 0.236528\tvalid_0's ndcg@12: 0.312619\tvalid_1's map@12: 0.110321\tvalid_1's ndcg@12: 0.131543\n",
      "[34]\tvalid_0's map@12: 0.236899\tvalid_0's ndcg@12: 0.312939\tvalid_1's map@12: 0.111187\tvalid_1's ndcg@12: 0.132301\n",
      "[35]\tvalid_0's map@12: 0.237093\tvalid_0's ndcg@12: 0.313285\tvalid_1's map@12: 0.11116\tvalid_1's ndcg@12: 0.132274\n",
      "[36]\tvalid_0's map@12: 0.237336\tvalid_0's ndcg@12: 0.313639\tvalid_1's map@12: 0.110869\tvalid_1's ndcg@12: 0.132207\n",
      "[37]\tvalid_0's map@12: 0.23757\tvalid_0's ndcg@12: 0.313892\tvalid_1's map@12: 0.110816\tvalid_1's ndcg@12: 0.132125\n",
      "[38]\tvalid_0's map@12: 0.237745\tvalid_0's ndcg@12: 0.314175\tvalid_1's map@12: 0.110558\tvalid_1's ndcg@12: 0.131786\n",
      "[39]\tvalid_0's map@12: 0.238076\tvalid_0's ndcg@12: 0.314583\tvalid_1's map@12: 0.111184\tvalid_1's ndcg@12: 0.132203\n",
      "[40]\tvalid_0's map@12: 0.238228\tvalid_0's ndcg@12: 0.314758\tvalid_1's map@12: 0.111276\tvalid_1's ndcg@12: 0.132395\n",
      "[41]\tvalid_0's map@12: 0.238392\tvalid_0's ndcg@12: 0.314872\tvalid_1's map@12: 0.111035\tvalid_1's ndcg@12: 0.132219\n",
      "[42]\tvalid_0's map@12: 0.2386\tvalid_0's ndcg@12: 0.315197\tvalid_1's map@12: 0.111321\tvalid_1's ndcg@12: 0.132557\n",
      "[43]\tvalid_0's map@12: 0.238868\tvalid_0's ndcg@12: 0.315505\tvalid_1's map@12: 0.111381\tvalid_1's ndcg@12: 0.132611\n",
      "[44]\tvalid_0's map@12: 0.239225\tvalid_0's ndcg@12: 0.315954\tvalid_1's map@12: 0.111551\tvalid_1's ndcg@12: 0.132426\n",
      "[45]\tvalid_0's map@12: 0.239465\tvalid_0's ndcg@12: 0.316287\tvalid_1's map@12: 0.111368\tvalid_1's ndcg@12: 0.132265\n",
      "[46]\tvalid_0's map@12: 0.239719\tvalid_0's ndcg@12: 0.316488\tvalid_1's map@12: 0.111664\tvalid_1's ndcg@12: 0.132353\n",
      "[47]\tvalid_0's map@12: 0.240005\tvalid_0's ndcg@12: 0.316807\tvalid_1's map@12: 0.111857\tvalid_1's ndcg@12: 0.132685\n",
      "[48]\tvalid_0's map@12: 0.240417\tvalid_0's ndcg@12: 0.317166\tvalid_1's map@12: 0.112408\tvalid_1's ndcg@12: 0.13297\n",
      "[49]\tvalid_0's map@12: 0.240793\tvalid_0's ndcg@12: 0.317652\tvalid_1's map@12: 0.112838\tvalid_1's ndcg@12: 0.133394\n",
      "[50]\tvalid_0's map@12: 0.241036\tvalid_0's ndcg@12: 0.31794\tvalid_1's map@12: 0.113112\tvalid_1's ndcg@12: 0.133762\n"
     ]
    },
    {
     "data": {
      "text/plain": [
       "LGBMRanker(metric='ndcg', n_estimators=50, objective='lambdarank')"
      ]
     },
     "execution_count": 1351,
     "metadata": {},
     "output_type": "execute_result"
    }
   ],
   "source": [
    "model.set_params(n_estimators=50).fit(\n",
    "    X=X_train[features],\n",
    "    y=y_train,\n",
    "    group=qids_train,\n",
    "    eval_metric=[\"ndcg\", \"map\"],\n",
    "    eval_set=[(X_train[features], y_train), (X_val[features], y_val)],\n",
    "    eval_group=[qids_train, qids_val],\n",
    "    eval_at=12,\n",
    "    callbacks=[lightgbm.log_evaluation()],\n",
    ")"
   ]
  },
  {
   "cell_type": "code",
   "execution_count": 1341,
   "id": "2a3cea76-b507-4764-8f33-0d189cda2029",
   "metadata": {
    "tags": []
   },
   "outputs": [],
   "source": [
    "df_eval_results = (\n",
    "    pd.DataFrame(\n",
    "        {\n",
    "            \"train_valid_map\": model.evals_result_[\"valid_0\"][\"map@12\"],\n",
    "            \"train_valid_ndcg\": model.evals_result_[\"valid_0\"][\"ndcg@12\"],\n",
    "            \"val_valid_map\": model.evals_result_[\"valid_1\"][\"map@12\"],\n",
    "            \"val_valid_ndcg\": model.evals_result_[\"valid_1\"][\"ndcg@12\"],\n",
    "        }\n",
    "    )\n",
    "    .reset_index()\n",
    "    .rename({\"index\": \"iteration\"}, axis=1)\n",
    "    .melt(\n",
    "        id_vars=\"iteration\",\n",
    "        value_vars=[\n",
    "            \"train_valid_map\",\n",
    "            \"train_valid_ndcg\",\n",
    "            \"val_valid_map\",\n",
    "            \"val_valid_ndcg\",\n",
    "        ],\n",
    "    )\n",
    ")"
   ]
  },
  {
   "cell_type": "markdown",
   "id": "3a5c6793-736d-443e-8078-1830379043eb",
   "metadata": {},
   "source": [
    "#### Training"
   ]
  },
  {
   "cell_type": "code",
   "execution_count": 1361,
   "id": "3aa226d9-a1c4-4c6f-869b-917b67637064",
   "metadata": {
    "jupyter": {
     "source_hidden": true
    },
    "tags": []
   },
   "outputs": [
    {
     "data": {
      "application/vnd.vegalite.v4+json": {
       "$schema": "https://vega.github.io/schema/vega-lite/v4.17.0.json",
       "config": {
        "view": {
         "continuousHeight": 300,
         "continuousWidth": 400
        }
       },
       "datasets": {
        "data-3ad9fd98d31359d6b60c892ad361a546": [
         {
          "iteration": 0,
          "value": 0.28280983930080794,
          "variable": "train_valid_ndcg"
         },
         {
          "iteration": 1,
          "value": 0.29190549534754145,
          "variable": "train_valid_ndcg"
         },
         {
          "iteration": 2,
          "value": 0.2961216998373254,
          "variable": "train_valid_ndcg"
         },
         {
          "iteration": 3,
          "value": 0.2975449606362413,
          "variable": "train_valid_ndcg"
         },
         {
          "iteration": 4,
          "value": 0.29940819262502005,
          "variable": "train_valid_ndcg"
         },
         {
          "iteration": 5,
          "value": 0.30033746368838504,
          "variable": "train_valid_ndcg"
         },
         {
          "iteration": 6,
          "value": 0.3004631537442145,
          "variable": "train_valid_ndcg"
         },
         {
          "iteration": 7,
          "value": 0.30136030248640605,
          "variable": "train_valid_ndcg"
         },
         {
          "iteration": 8,
          "value": 0.30182818873348694,
          "variable": "train_valid_ndcg"
         },
         {
          "iteration": 9,
          "value": 0.30231520110760757,
          "variable": "train_valid_ndcg"
         },
         {
          "iteration": 10,
          "value": 0.3027623079863914,
          "variable": "train_valid_ndcg"
         },
         {
          "iteration": 11,
          "value": 0.3027366791791812,
          "variable": "train_valid_ndcg"
         },
         {
          "iteration": 12,
          "value": 0.30269133883545063,
          "variable": "train_valid_ndcg"
         },
         {
          "iteration": 13,
          "value": 0.3041335563707318,
          "variable": "train_valid_ndcg"
         },
         {
          "iteration": 14,
          "value": 0.3042772316520485,
          "variable": "train_valid_ndcg"
         },
         {
          "iteration": 15,
          "value": 0.3052706178894701,
          "variable": "train_valid_ndcg"
         },
         {
          "iteration": 16,
          "value": 0.305783773535558,
          "variable": "train_valid_ndcg"
         },
         {
          "iteration": 17,
          "value": 0.3059568194574188,
          "variable": "train_valid_ndcg"
         },
         {
          "iteration": 18,
          "value": 0.30635142596060366,
          "variable": "train_valid_ndcg"
         },
         {
          "iteration": 19,
          "value": 0.30665374425421016,
          "variable": "train_valid_ndcg"
         },
         {
          "iteration": 20,
          "value": 0.3072927728745769,
          "variable": "train_valid_ndcg"
         },
         {
          "iteration": 21,
          "value": 0.3072951242562801,
          "variable": "train_valid_ndcg"
         },
         {
          "iteration": 22,
          "value": 0.30774848789269804,
          "variable": "train_valid_ndcg"
         },
         {
          "iteration": 23,
          "value": 0.30844753124769925,
          "variable": "train_valid_ndcg"
         },
         {
          "iteration": 24,
          "value": 0.308853407833656,
          "variable": "train_valid_ndcg"
         },
         {
          "iteration": 25,
          "value": 0.30906186555949494,
          "variable": "train_valid_ndcg"
         },
         {
          "iteration": 26,
          "value": 0.3094974732126099,
          "variable": "train_valid_ndcg"
         },
         {
          "iteration": 27,
          "value": 0.30994183464084574,
          "variable": "train_valid_ndcg"
         },
         {
          "iteration": 28,
          "value": 0.31007538011579877,
          "variable": "train_valid_ndcg"
         },
         {
          "iteration": 29,
          "value": 0.3109428472803103,
          "variable": "train_valid_ndcg"
         },
         {
          "iteration": 30,
          "value": 0.3113696065069767,
          "variable": "train_valid_ndcg"
         },
         {
          "iteration": 31,
          "value": 0.31165805715433675,
          "variable": "train_valid_ndcg"
         },
         {
          "iteration": 32,
          "value": 0.31261929155032364,
          "variable": "train_valid_ndcg"
         },
         {
          "iteration": 33,
          "value": 0.312938948629911,
          "variable": "train_valid_ndcg"
         },
         {
          "iteration": 34,
          "value": 0.3132854714917979,
          "variable": "train_valid_ndcg"
         },
         {
          "iteration": 35,
          "value": 0.3136386495836786,
          "variable": "train_valid_ndcg"
         },
         {
          "iteration": 36,
          "value": 0.31389174952989507,
          "variable": "train_valid_ndcg"
         },
         {
          "iteration": 37,
          "value": 0.31417515770281534,
          "variable": "train_valid_ndcg"
         },
         {
          "iteration": 38,
          "value": 0.3145831511370916,
          "variable": "train_valid_ndcg"
         },
         {
          "iteration": 39,
          "value": 0.31475764355922914,
          "variable": "train_valid_ndcg"
         },
         {
          "iteration": 40,
          "value": 0.3148721086446858,
          "variable": "train_valid_ndcg"
         },
         {
          "iteration": 41,
          "value": 0.3151973350409531,
          "variable": "train_valid_ndcg"
         },
         {
          "iteration": 42,
          "value": 0.31550524950030956,
          "variable": "train_valid_ndcg"
         },
         {
          "iteration": 43,
          "value": 0.31595442512351507,
          "variable": "train_valid_ndcg"
         },
         {
          "iteration": 44,
          "value": 0.3162872099046021,
          "variable": "train_valid_ndcg"
         },
         {
          "iteration": 45,
          "value": 0.31648842689796297,
          "variable": "train_valid_ndcg"
         },
         {
          "iteration": 46,
          "value": 0.3168068093874193,
          "variable": "train_valid_ndcg"
         },
         {
          "iteration": 47,
          "value": 0.3171664751987579,
          "variable": "train_valid_ndcg"
         },
         {
          "iteration": 48,
          "value": 0.3176520810296733,
          "variable": "train_valid_ndcg"
         },
         {
          "iteration": 49,
          "value": 0.3179401461340757,
          "variable": "train_valid_ndcg"
         },
         {
          "iteration": 50,
          "value": 0.31837438861179324,
          "variable": "train_valid_ndcg"
         },
         {
          "iteration": 51,
          "value": 0.31871992351505557,
          "variable": "train_valid_ndcg"
         },
         {
          "iteration": 52,
          "value": 0.3189848335049951,
          "variable": "train_valid_ndcg"
         },
         {
          "iteration": 53,
          "value": 0.31946526906339867,
          "variable": "train_valid_ndcg"
         },
         {
          "iteration": 54,
          "value": 0.31969093945867294,
          "variable": "train_valid_ndcg"
         },
         {
          "iteration": 55,
          "value": 0.320514661792385,
          "variable": "train_valid_ndcg"
         },
         {
          "iteration": 56,
          "value": 0.32079245197714046,
          "variable": "train_valid_ndcg"
         },
         {
          "iteration": 57,
          "value": 0.32150054321746563,
          "variable": "train_valid_ndcg"
         },
         {
          "iteration": 58,
          "value": 0.3215454636633096,
          "variable": "train_valid_ndcg"
         },
         {
          "iteration": 59,
          "value": 0.32213565797170346,
          "variable": "train_valid_ndcg"
         },
         {
          "iteration": 60,
          "value": 0.32263248937241445,
          "variable": "train_valid_ndcg"
         },
         {
          "iteration": 61,
          "value": 0.32324189207832776,
          "variable": "train_valid_ndcg"
         },
         {
          "iteration": 62,
          "value": 0.32348697569936474,
          "variable": "train_valid_ndcg"
         },
         {
          "iteration": 63,
          "value": 0.3237325566047473,
          "variable": "train_valid_ndcg"
         },
         {
          "iteration": 64,
          "value": 0.323898502601683,
          "variable": "train_valid_ndcg"
         },
         {
          "iteration": 65,
          "value": 0.3243549082518954,
          "variable": "train_valid_ndcg"
         },
         {
          "iteration": 66,
          "value": 0.32451961121097844,
          "variable": "train_valid_ndcg"
         },
         {
          "iteration": 67,
          "value": 0.3247566085205378,
          "variable": "train_valid_ndcg"
         },
         {
          "iteration": 68,
          "value": 0.32515381496424894,
          "variable": "train_valid_ndcg"
         },
         {
          "iteration": 69,
          "value": 0.32536171068179276,
          "variable": "train_valid_ndcg"
         },
         {
          "iteration": 70,
          "value": 0.32593145057540945,
          "variable": "train_valid_ndcg"
         },
         {
          "iteration": 71,
          "value": 0.32629063755241816,
          "variable": "train_valid_ndcg"
         },
         {
          "iteration": 72,
          "value": 0.3266015359317779,
          "variable": "train_valid_ndcg"
         },
         {
          "iteration": 73,
          "value": 0.3271374201866429,
          "variable": "train_valid_ndcg"
         },
         {
          "iteration": 74,
          "value": 0.3272801719901723,
          "variable": "train_valid_ndcg"
         },
         {
          "iteration": 75,
          "value": 0.3276177492186237,
          "variable": "train_valid_ndcg"
         },
         {
          "iteration": 76,
          "value": 0.3280060460542029,
          "variable": "train_valid_ndcg"
         },
         {
          "iteration": 77,
          "value": 0.32844084419214686,
          "variable": "train_valid_ndcg"
         },
         {
          "iteration": 78,
          "value": 0.328631866290018,
          "variable": "train_valid_ndcg"
         },
         {
          "iteration": 79,
          "value": 0.32895332360131496,
          "variable": "train_valid_ndcg"
         },
         {
          "iteration": 80,
          "value": 0.3291805044819406,
          "variable": "train_valid_ndcg"
         },
         {
          "iteration": 81,
          "value": 0.32950848763344276,
          "variable": "train_valid_ndcg"
         },
         {
          "iteration": 82,
          "value": 0.32977491882063376,
          "variable": "train_valid_ndcg"
         },
         {
          "iteration": 83,
          "value": 0.329960879536787,
          "variable": "train_valid_ndcg"
         },
         {
          "iteration": 84,
          "value": 0.3302843420978941,
          "variable": "train_valid_ndcg"
         },
         {
          "iteration": 85,
          "value": 0.3305178268612898,
          "variable": "train_valid_ndcg"
         },
         {
          "iteration": 86,
          "value": 0.3306363243539442,
          "variable": "train_valid_ndcg"
         },
         {
          "iteration": 87,
          "value": 0.3308791793108309,
          "variable": "train_valid_ndcg"
         },
         {
          "iteration": 88,
          "value": 0.33109918763971186,
          "variable": "train_valid_ndcg"
         },
         {
          "iteration": 89,
          "value": 0.3313544964838325,
          "variable": "train_valid_ndcg"
         },
         {
          "iteration": 90,
          "value": 0.3316372906471523,
          "variable": "train_valid_ndcg"
         },
         {
          "iteration": 91,
          "value": 0.3319058924177264,
          "variable": "train_valid_ndcg"
         },
         {
          "iteration": 92,
          "value": 0.3321750326906285,
          "variable": "train_valid_ndcg"
         },
         {
          "iteration": 93,
          "value": 0.332360006545551,
          "variable": "train_valid_ndcg"
         },
         {
          "iteration": 94,
          "value": 0.33250733535124927,
          "variable": "train_valid_ndcg"
         },
         {
          "iteration": 95,
          "value": 0.33267112990495906,
          "variable": "train_valid_ndcg"
         },
         {
          "iteration": 96,
          "value": 0.3328645898928446,
          "variable": "train_valid_ndcg"
         },
         {
          "iteration": 97,
          "value": 0.33307089597213585,
          "variable": "train_valid_ndcg"
         },
         {
          "iteration": 98,
          "value": 0.33319817278904534,
          "variable": "train_valid_ndcg"
         },
         {
          "iteration": 99,
          "value": 0.3334389724120298,
          "variable": "train_valid_ndcg"
         },
         {
          "iteration": 100,
          "value": 0.3337241035511854,
          "variable": "train_valid_ndcg"
         },
         {
          "iteration": 101,
          "value": 0.33405452513320305,
          "variable": "train_valid_ndcg"
         },
         {
          "iteration": 102,
          "value": 0.3344532262916394,
          "variable": "train_valid_ndcg"
         },
         {
          "iteration": 103,
          "value": 0.33474523401090334,
          "variable": "train_valid_ndcg"
         },
         {
          "iteration": 104,
          "value": 0.3350790179520094,
          "variable": "train_valid_ndcg"
         },
         {
          "iteration": 105,
          "value": 0.33539357872600095,
          "variable": "train_valid_ndcg"
         },
         {
          "iteration": 106,
          "value": 0.33564133819142494,
          "variable": "train_valid_ndcg"
         },
         {
          "iteration": 107,
          "value": 0.3358918213824129,
          "variable": "train_valid_ndcg"
         },
         {
          "iteration": 108,
          "value": 0.3363152350299794,
          "variable": "train_valid_ndcg"
         },
         {
          "iteration": 109,
          "value": 0.33650278428486446,
          "variable": "train_valid_ndcg"
         },
         {
          "iteration": 110,
          "value": 0.3366758001864813,
          "variable": "train_valid_ndcg"
         },
         {
          "iteration": 111,
          "value": 0.3369253033939962,
          "variable": "train_valid_ndcg"
         },
         {
          "iteration": 112,
          "value": 0.3372708738201349,
          "variable": "train_valid_ndcg"
         },
         {
          "iteration": 113,
          "value": 0.3377187043014278,
          "variable": "train_valid_ndcg"
         },
         {
          "iteration": 114,
          "value": 0.33819322056119866,
          "variable": "train_valid_ndcg"
         },
         {
          "iteration": 115,
          "value": 0.3384671579032505,
          "variable": "train_valid_ndcg"
         },
         {
          "iteration": 116,
          "value": 0.33871183417302936,
          "variable": "train_valid_ndcg"
         },
         {
          "iteration": 117,
          "value": 0.33895555065444777,
          "variable": "train_valid_ndcg"
         },
         {
          "iteration": 118,
          "value": 0.33913417415129393,
          "variable": "train_valid_ndcg"
         },
         {
          "iteration": 119,
          "value": 0.33938186456873604,
          "variable": "train_valid_ndcg"
         },
         {
          "iteration": 120,
          "value": 0.3397050760264339,
          "variable": "train_valid_ndcg"
         },
         {
          "iteration": 121,
          "value": 0.3399877902209903,
          "variable": "train_valid_ndcg"
         },
         {
          "iteration": 122,
          "value": 0.3401648632519225,
          "variable": "train_valid_ndcg"
         },
         {
          "iteration": 123,
          "value": 0.3403263135970321,
          "variable": "train_valid_ndcg"
         },
         {
          "iteration": 124,
          "value": 0.3404474243767009,
          "variable": "train_valid_ndcg"
         },
         {
          "iteration": 125,
          "value": 0.34073804170044936,
          "variable": "train_valid_ndcg"
         },
         {
          "iteration": 126,
          "value": 0.34099056578150516,
          "variable": "train_valid_ndcg"
         },
         {
          "iteration": 127,
          "value": 0.341269194608888,
          "variable": "train_valid_ndcg"
         },
         {
          "iteration": 128,
          "value": 0.3413916286900038,
          "variable": "train_valid_ndcg"
         },
         {
          "iteration": 129,
          "value": 0.3416666215221006,
          "variable": "train_valid_ndcg"
         },
         {
          "iteration": 130,
          "value": 0.3420046535589021,
          "variable": "train_valid_ndcg"
         },
         {
          "iteration": 131,
          "value": 0.3423323837462149,
          "variable": "train_valid_ndcg"
         },
         {
          "iteration": 132,
          "value": 0.3426465897012558,
          "variable": "train_valid_ndcg"
         },
         {
          "iteration": 133,
          "value": 0.3427199914410042,
          "variable": "train_valid_ndcg"
         },
         {
          "iteration": 134,
          "value": 0.34287561718260107,
          "variable": "train_valid_ndcg"
         },
         {
          "iteration": 135,
          "value": 0.34329494754996287,
          "variable": "train_valid_ndcg"
         },
         {
          "iteration": 136,
          "value": 0.3435816122971763,
          "variable": "train_valid_ndcg"
         },
         {
          "iteration": 137,
          "value": 0.3437659665607169,
          "variable": "train_valid_ndcg"
         },
         {
          "iteration": 138,
          "value": 0.3439708303261986,
          "variable": "train_valid_ndcg"
         },
         {
          "iteration": 139,
          "value": 0.3441294224079125,
          "variable": "train_valid_ndcg"
         },
         {
          "iteration": 140,
          "value": 0.3443763820887049,
          "variable": "train_valid_ndcg"
         },
         {
          "iteration": 141,
          "value": 0.34460850365527024,
          "variable": "train_valid_ndcg"
         },
         {
          "iteration": 142,
          "value": 0.3447860942056249,
          "variable": "train_valid_ndcg"
         },
         {
          "iteration": 143,
          "value": 0.34489810478481897,
          "variable": "train_valid_ndcg"
         },
         {
          "iteration": 144,
          "value": 0.34506219031514757,
          "variable": "train_valid_ndcg"
         },
         {
          "iteration": 145,
          "value": 0.345207199653505,
          "variable": "train_valid_ndcg"
         },
         {
          "iteration": 146,
          "value": 0.3453844190253693,
          "variable": "train_valid_ndcg"
         },
         {
          "iteration": 147,
          "value": 0.3454814211932665,
          "variable": "train_valid_ndcg"
         },
         {
          "iteration": 148,
          "value": 0.34574115116303356,
          "variable": "train_valid_ndcg"
         },
         {
          "iteration": 149,
          "value": 0.34589915445141034,
          "variable": "train_valid_ndcg"
         },
         {
          "iteration": 150,
          "value": 0.34624706364567237,
          "variable": "train_valid_ndcg"
         },
         {
          "iteration": 151,
          "value": 0.3465021974189177,
          "variable": "train_valid_ndcg"
         },
         {
          "iteration": 152,
          "value": 0.3468701736863859,
          "variable": "train_valid_ndcg"
         },
         {
          "iteration": 153,
          "value": 0.34708236887918265,
          "variable": "train_valid_ndcg"
         },
         {
          "iteration": 154,
          "value": 0.3473824339760334,
          "variable": "train_valid_ndcg"
         },
         {
          "iteration": 155,
          "value": 0.34783796374626647,
          "variable": "train_valid_ndcg"
         },
         {
          "iteration": 156,
          "value": 0.3481108873802012,
          "variable": "train_valid_ndcg"
         },
         {
          "iteration": 157,
          "value": 0.34845973337018876,
          "variable": "train_valid_ndcg"
         },
         {
          "iteration": 158,
          "value": 0.3490574261733821,
          "variable": "train_valid_ndcg"
         },
         {
          "iteration": 159,
          "value": 0.34908554417542226,
          "variable": "train_valid_ndcg"
         },
         {
          "iteration": 160,
          "value": 0.3497070456355857,
          "variable": "train_valid_ndcg"
         },
         {
          "iteration": 161,
          "value": 0.35001666721098235,
          "variable": "train_valid_ndcg"
         },
         {
          "iteration": 162,
          "value": 0.3502532741046376,
          "variable": "train_valid_ndcg"
         },
         {
          "iteration": 163,
          "value": 0.35056605666409524,
          "variable": "train_valid_ndcg"
         },
         {
          "iteration": 164,
          "value": 0.3508310086979695,
          "variable": "train_valid_ndcg"
         },
         {
          "iteration": 165,
          "value": 0.3509611152017665,
          "variable": "train_valid_ndcg"
         },
         {
          "iteration": 166,
          "value": 0.35114940815072,
          "variable": "train_valid_ndcg"
         },
         {
          "iteration": 167,
          "value": 0.3512904642006149,
          "variable": "train_valid_ndcg"
         },
         {
          "iteration": 168,
          "value": 0.35149223774875377,
          "variable": "train_valid_ndcg"
         },
         {
          "iteration": 169,
          "value": 0.35162045624138927,
          "variable": "train_valid_ndcg"
         },
         {
          "iteration": 170,
          "value": 0.351794740957706,
          "variable": "train_valid_ndcg"
         },
         {
          "iteration": 171,
          "value": 0.35213004130659126,
          "variable": "train_valid_ndcg"
         },
         {
          "iteration": 172,
          "value": 0.35234306375645985,
          "variable": "train_valid_ndcg"
         },
         {
          "iteration": 173,
          "value": 0.35252984816199223,
          "variable": "train_valid_ndcg"
         },
         {
          "iteration": 174,
          "value": 0.35263033080828554,
          "variable": "train_valid_ndcg"
         },
         {
          "iteration": 175,
          "value": 0.3527372421868768,
          "variable": "train_valid_ndcg"
         },
         {
          "iteration": 176,
          "value": 0.3528616058663172,
          "variable": "train_valid_ndcg"
         },
         {
          "iteration": 177,
          "value": 0.3530080335768326,
          "variable": "train_valid_ndcg"
         },
         {
          "iteration": 178,
          "value": 0.3530990640587456,
          "variable": "train_valid_ndcg"
         },
         {
          "iteration": 179,
          "value": 0.3532018542712764,
          "variable": "train_valid_ndcg"
         },
         {
          "iteration": 180,
          "value": 0.3534743629396047,
          "variable": "train_valid_ndcg"
         },
         {
          "iteration": 181,
          "value": 0.35354035362892555,
          "variable": "train_valid_ndcg"
         },
         {
          "iteration": 182,
          "value": 0.3536592760724213,
          "variable": "train_valid_ndcg"
         },
         {
          "iteration": 183,
          "value": 0.35383658315485195,
          "variable": "train_valid_ndcg"
         },
         {
          "iteration": 184,
          "value": 0.35418351466045295,
          "variable": "train_valid_ndcg"
         },
         {
          "iteration": 185,
          "value": 0.3544362970715988,
          "variable": "train_valid_ndcg"
         },
         {
          "iteration": 186,
          "value": 0.354595194066164,
          "variable": "train_valid_ndcg"
         },
         {
          "iteration": 187,
          "value": 0.35474045267100784,
          "variable": "train_valid_ndcg"
         },
         {
          "iteration": 188,
          "value": 0.35497528732783334,
          "variable": "train_valid_ndcg"
         },
         {
          "iteration": 189,
          "value": 0.3551561441849544,
          "variable": "train_valid_ndcg"
         },
         {
          "iteration": 190,
          "value": 0.3552344623309705,
          "variable": "train_valid_ndcg"
         },
         {
          "iteration": 191,
          "value": 0.355432082874022,
          "variable": "train_valid_ndcg"
         },
         {
          "iteration": 192,
          "value": 0.3557304568807152,
          "variable": "train_valid_ndcg"
         },
         {
          "iteration": 193,
          "value": 0.35589308885468784,
          "variable": "train_valid_ndcg"
         },
         {
          "iteration": 194,
          "value": 0.356080657414758,
          "variable": "train_valid_ndcg"
         },
         {
          "iteration": 195,
          "value": 0.3561913704200714,
          "variable": "train_valid_ndcg"
         },
         {
          "iteration": 196,
          "value": 0.35637447870411665,
          "variable": "train_valid_ndcg"
         },
         {
          "iteration": 197,
          "value": 0.35661398821011836,
          "variable": "train_valid_ndcg"
         },
         {
          "iteration": 198,
          "value": 0.3568714442453338,
          "variable": "train_valid_ndcg"
         },
         {
          "iteration": 199,
          "value": 0.35712023072439314,
          "variable": "train_valid_ndcg"
         }
        ],
        "data-45585e4a1dc79d770a9d13571ac226b0": [
         {
          "iteration": 0,
          "value": 0.21085748516441238,
          "variable": "train_valid_map"
         },
         {
          "iteration": 1,
          "value": 0.21909682775349099,
          "variable": "train_valid_map"
         },
         {
          "iteration": 2,
          "value": 0.22312268564606813,
          "variable": "train_valid_map"
         },
         {
          "iteration": 3,
          "value": 0.22416084997913113,
          "variable": "train_valid_map"
         },
         {
          "iteration": 4,
          "value": 0.2258117530893311,
          "variable": "train_valid_map"
         },
         {
          "iteration": 5,
          "value": 0.22635026060437524,
          "variable": "train_valid_map"
         },
         {
          "iteration": 6,
          "value": 0.22651903321517786,
          "variable": "train_valid_map"
         },
         {
          "iteration": 7,
          "value": 0.22717875140065494,
          "variable": "train_valid_map"
         },
         {
          "iteration": 8,
          "value": 0.22770436726854734,
          "variable": "train_valid_map"
         },
         {
          "iteration": 9,
          "value": 0.22815588103445114,
          "variable": "train_valid_map"
         },
         {
          "iteration": 10,
          "value": 0.22837300406997155,
          "variable": "train_valid_map"
         },
         {
          "iteration": 11,
          "value": 0.22839962297310124,
          "variable": "train_valid_map"
         },
         {
          "iteration": 12,
          "value": 0.22834904768826497,
          "variable": "train_valid_map"
         },
         {
          "iteration": 13,
          "value": 0.2295925654541035,
          "variable": "train_valid_map"
         },
         {
          "iteration": 14,
          "value": 0.22967056490608617,
          "variable": "train_valid_map"
         },
         {
          "iteration": 15,
          "value": 0.23058702413731344,
          "variable": "train_valid_map"
         },
         {
          "iteration": 16,
          "value": 0.2309996715851176,
          "variable": "train_valid_map"
         },
         {
          "iteration": 17,
          "value": 0.2311730540125808,
          "variable": "train_valid_map"
         },
         {
          "iteration": 18,
          "value": 0.2315497369182386,
          "variable": "train_valid_map"
         },
         {
          "iteration": 19,
          "value": 0.23176109854353794,
          "variable": "train_valid_map"
         },
         {
          "iteration": 20,
          "value": 0.23205326490905684,
          "variable": "train_valid_map"
         },
         {
          "iteration": 21,
          "value": 0.23217633203555918,
          "variable": "train_valid_map"
         },
         {
          "iteration": 22,
          "value": 0.2325981914088999,
          "variable": "train_valid_map"
         },
         {
          "iteration": 23,
          "value": 0.23311654926065742,
          "variable": "train_valid_map"
         },
         {
          "iteration": 24,
          "value": 0.23348679156357185,
          "variable": "train_valid_map"
         },
         {
          "iteration": 25,
          "value": 0.23353149342447563,
          "variable": "train_valid_map"
         },
         {
          "iteration": 26,
          "value": 0.23402082030740234,
          "variable": "train_valid_map"
         },
         {
          "iteration": 27,
          "value": 0.23441595805940427,
          "variable": "train_valid_map"
         },
         {
          "iteration": 28,
          "value": 0.2344955739926836,
          "variable": "train_valid_map"
         },
         {
          "iteration": 29,
          "value": 0.23523219893244382,
          "variable": "train_valid_map"
         },
         {
          "iteration": 30,
          "value": 0.235465461051505,
          "variable": "train_valid_map"
         },
         {
          "iteration": 31,
          "value": 0.2358399630588573,
          "variable": "train_valid_map"
         },
         {
          "iteration": 32,
          "value": 0.2365279077281967,
          "variable": "train_valid_map"
         },
         {
          "iteration": 33,
          "value": 0.23689901422905946,
          "variable": "train_valid_map"
         },
         {
          "iteration": 34,
          "value": 0.23709311694269017,
          "variable": "train_valid_map"
         },
         {
          "iteration": 35,
          "value": 0.2373359557841541,
          "variable": "train_valid_map"
         },
         {
          "iteration": 36,
          "value": 0.23757007288772752,
          "variable": "train_valid_map"
         },
         {
          "iteration": 37,
          "value": 0.2377449212674533,
          "variable": "train_valid_map"
         },
         {
          "iteration": 38,
          "value": 0.23807564063174813,
          "variable": "train_valid_map"
         },
         {
          "iteration": 39,
          "value": 0.23822828761770776,
          "variable": "train_valid_map"
         },
         {
          "iteration": 40,
          "value": 0.2383915382644862,
          "variable": "train_valid_map"
         },
         {
          "iteration": 41,
          "value": 0.23860007490993151,
          "variable": "train_valid_map"
         },
         {
          "iteration": 42,
          "value": 0.23886808018120984,
          "variable": "train_valid_map"
         },
         {
          "iteration": 43,
          "value": 0.23922482802613795,
          "variable": "train_valid_map"
         },
         {
          "iteration": 44,
          "value": 0.23946548118652403,
          "variable": "train_valid_map"
         },
         {
          "iteration": 45,
          "value": 0.23971860243992507,
          "variable": "train_valid_map"
         },
         {
          "iteration": 46,
          "value": 0.24000467288290328,
          "variable": "train_valid_map"
         },
         {
          "iteration": 47,
          "value": 0.2404171651172352,
          "variable": "train_valid_map"
         },
         {
          "iteration": 48,
          "value": 0.24079283333067997,
          "variable": "train_valid_map"
         },
         {
          "iteration": 49,
          "value": 0.2410355780654212,
          "variable": "train_valid_map"
         },
         {
          "iteration": 50,
          "value": 0.2414928651828406,
          "variable": "train_valid_map"
         },
         {
          "iteration": 51,
          "value": 0.24180913409297236,
          "variable": "train_valid_map"
         },
         {
          "iteration": 52,
          "value": 0.24204740343787914,
          "variable": "train_valid_map"
         },
         {
          "iteration": 53,
          "value": 0.2424771363759647,
          "variable": "train_valid_map"
         },
         {
          "iteration": 54,
          "value": 0.24269888296387837,
          "variable": "train_valid_map"
         },
         {
          "iteration": 55,
          "value": 0.24318423545150109,
          "variable": "train_valid_map"
         },
         {
          "iteration": 56,
          "value": 0.24342193096074793,
          "variable": "train_valid_map"
         },
         {
          "iteration": 57,
          "value": 0.24395065616954287,
          "variable": "train_valid_map"
         },
         {
          "iteration": 58,
          "value": 0.2439985755979629,
          "variable": "train_valid_map"
         },
         {
          "iteration": 59,
          "value": 0.2445787712925342,
          "variable": "train_valid_map"
         },
         {
          "iteration": 60,
          "value": 0.24500724746438476,
          "variable": "train_valid_map"
         },
         {
          "iteration": 61,
          "value": 0.24547493964656225,
          "variable": "train_valid_map"
         },
         {
          "iteration": 62,
          "value": 0.2457283239706044,
          "variable": "train_valid_map"
         },
         {
          "iteration": 63,
          "value": 0.24595790899349573,
          "variable": "train_valid_map"
         },
         {
          "iteration": 64,
          "value": 0.24611846184403555,
          "variable": "train_valid_map"
         },
         {
          "iteration": 65,
          "value": 0.24646168044856037,
          "variable": "train_valid_map"
         },
         {
          "iteration": 66,
          "value": 0.2466193016774368,
          "variable": "train_valid_map"
         },
         {
          "iteration": 67,
          "value": 0.24680091939377935,
          "variable": "train_valid_map"
         },
         {
          "iteration": 68,
          "value": 0.2470933435790484,
          "variable": "train_valid_map"
         },
         {
          "iteration": 69,
          "value": 0.24732743220445932,
          "variable": "train_valid_map"
         },
         {
          "iteration": 70,
          "value": 0.24782282169509018,
          "variable": "train_valid_map"
         },
         {
          "iteration": 71,
          "value": 0.24820153864028263,
          "variable": "train_valid_map"
         },
         {
          "iteration": 72,
          "value": 0.24846188893702348,
          "variable": "train_valid_map"
         },
         {
          "iteration": 73,
          "value": 0.24876870525195216,
          "variable": "train_valid_map"
         },
         {
          "iteration": 74,
          "value": 0.24890426928911533,
          "variable": "train_valid_map"
         },
         {
          "iteration": 75,
          "value": 0.24924291408063248,
          "variable": "train_valid_map"
         },
         {
          "iteration": 76,
          "value": 0.24955837293300046,
          "variable": "train_valid_map"
         },
         {
          "iteration": 77,
          "value": 0.24986941993635384,
          "variable": "train_valid_map"
         },
         {
          "iteration": 78,
          "value": 0.25003510078487967,
          "variable": "train_valid_map"
         },
         {
          "iteration": 79,
          "value": 0.2501643444704878,
          "variable": "train_valid_map"
         },
         {
          "iteration": 80,
          "value": 0.25032796992793466,
          "variable": "train_valid_map"
         },
         {
          "iteration": 81,
          "value": 0.2507083837441095,
          "variable": "train_valid_map"
         },
         {
          "iteration": 82,
          "value": 0.2509632451695981,
          "variable": "train_valid_map"
         },
         {
          "iteration": 83,
          "value": 0.25108422009012515,
          "variable": "train_valid_map"
         },
         {
          "iteration": 84,
          "value": 0.25134352119660297,
          "variable": "train_valid_map"
         },
         {
          "iteration": 85,
          "value": 0.25157413175156407,
          "variable": "train_valid_map"
         },
         {
          "iteration": 86,
          "value": 0.2516767755165383,
          "variable": "train_valid_map"
         },
         {
          "iteration": 87,
          "value": 0.2518746319828283,
          "variable": "train_valid_map"
         },
         {
          "iteration": 88,
          "value": 0.25209602958151794,
          "variable": "train_valid_map"
         },
         {
          "iteration": 89,
          "value": 0.25229498233715153,
          "variable": "train_valid_map"
         },
         {
          "iteration": 90,
          "value": 0.25253697375125456,
          "variable": "train_valid_map"
         },
         {
          "iteration": 91,
          "value": 0.2527804703430354,
          "variable": "train_valid_map"
         },
         {
          "iteration": 92,
          "value": 0.252989283990454,
          "variable": "train_valid_map"
         },
         {
          "iteration": 93,
          "value": 0.2531242177400732,
          "variable": "train_valid_map"
         },
         {
          "iteration": 94,
          "value": 0.25329004042684816,
          "variable": "train_valid_map"
         },
         {
          "iteration": 95,
          "value": 0.25339608906879096,
          "variable": "train_valid_map"
         },
         {
          "iteration": 96,
          "value": 0.253571592681337,
          "variable": "train_valid_map"
         },
         {
          "iteration": 97,
          "value": 0.2537832707077241,
          "variable": "train_valid_map"
         },
         {
          "iteration": 98,
          "value": 0.2539263264571799,
          "variable": "train_valid_map"
         },
         {
          "iteration": 99,
          "value": 0.25413828301712305,
          "variable": "train_valid_map"
         },
         {
          "iteration": 100,
          "value": 0.25443483665572764,
          "variable": "train_valid_map"
         },
         {
          "iteration": 101,
          "value": 0.25472107155125345,
          "variable": "train_valid_map"
         },
         {
          "iteration": 102,
          "value": 0.255081114614308,
          "variable": "train_valid_map"
         },
         {
          "iteration": 103,
          "value": 0.25531036849576966,
          "variable": "train_valid_map"
         },
         {
          "iteration": 104,
          "value": 0.25552024619295954,
          "variable": "train_valid_map"
         },
         {
          "iteration": 105,
          "value": 0.25577373054901675,
          "variable": "train_valid_map"
         },
         {
          "iteration": 106,
          "value": 0.25599362378146634,
          "variable": "train_valid_map"
         },
         {
          "iteration": 107,
          "value": 0.2562328915607927,
          "variable": "train_valid_map"
         },
         {
          "iteration": 108,
          "value": 0.25656103081869097,
          "variable": "train_valid_map"
         },
         {
          "iteration": 109,
          "value": 0.25666986395605756,
          "variable": "train_valid_map"
         },
         {
          "iteration": 110,
          "value": 0.2567985481303341,
          "variable": "train_valid_map"
         },
         {
          "iteration": 111,
          "value": 0.257040926397599,
          "variable": "train_valid_map"
         },
         {
          "iteration": 112,
          "value": 0.25735387430739637,
          "variable": "train_valid_map"
         },
         {
          "iteration": 113,
          "value": 0.2577503097605552,
          "variable": "train_valid_map"
         },
         {
          "iteration": 114,
          "value": 0.2581664855282201,
          "variable": "train_valid_map"
         },
         {
          "iteration": 115,
          "value": 0.25833603455645193,
          "variable": "train_valid_map"
         },
         {
          "iteration": 116,
          "value": 0.25849783374535334,
          "variable": "train_valid_map"
         },
         {
          "iteration": 117,
          "value": 0.2586233990256139,
          "variable": "train_valid_map"
         },
         {
          "iteration": 118,
          "value": 0.2588174843221779,
          "variable": "train_valid_map"
         },
         {
          "iteration": 119,
          "value": 0.2589722004040162,
          "variable": "train_valid_map"
         },
         {
          "iteration": 120,
          "value": 0.25925820562964025,
          "variable": "train_valid_map"
         },
         {
          "iteration": 121,
          "value": 0.2595254735148585,
          "variable": "train_valid_map"
         },
         {
          "iteration": 122,
          "value": 0.2596759205924345,
          "variable": "train_valid_map"
         },
         {
          "iteration": 123,
          "value": 0.2598186919288826,
          "variable": "train_valid_map"
         },
         {
          "iteration": 124,
          "value": 0.25993501375033945,
          "variable": "train_valid_map"
         },
         {
          "iteration": 125,
          "value": 0.26019190182273255,
          "variable": "train_valid_map"
         },
         {
          "iteration": 126,
          "value": 0.2603649930187316,
          "variable": "train_valid_map"
         },
         {
          "iteration": 127,
          "value": 0.2605915424430267,
          "variable": "train_valid_map"
         },
         {
          "iteration": 128,
          "value": 0.2606669624333444,
          "variable": "train_valid_map"
         },
         {
          "iteration": 129,
          "value": 0.26091465806786635,
          "variable": "train_valid_map"
         },
         {
          "iteration": 130,
          "value": 0.26114953721670914,
          "variable": "train_valid_map"
         },
         {
          "iteration": 131,
          "value": 0.26140305470050124,
          "variable": "train_valid_map"
         },
         {
          "iteration": 132,
          "value": 0.26163467448234384,
          "variable": "train_valid_map"
         },
         {
          "iteration": 133,
          "value": 0.2617424470595583,
          "variable": "train_valid_map"
         },
         {
          "iteration": 134,
          "value": 0.2619340300601954,
          "variable": "train_valid_map"
         },
         {
          "iteration": 135,
          "value": 0.2622839891753876,
          "variable": "train_valid_map"
         },
         {
          "iteration": 136,
          "value": 0.2625608588967884,
          "variable": "train_valid_map"
         },
         {
          "iteration": 137,
          "value": 0.26276004593974933,
          "variable": "train_valid_map"
         },
         {
          "iteration": 138,
          "value": 0.2629237612255881,
          "variable": "train_valid_map"
         },
         {
          "iteration": 139,
          "value": 0.26307598162211904,
          "variable": "train_valid_map"
         },
         {
          "iteration": 140,
          "value": 0.2632606004587235,
          "variable": "train_valid_map"
         },
         {
          "iteration": 141,
          "value": 0.26346487939836355,
          "variable": "train_valid_map"
         },
         {
          "iteration": 142,
          "value": 0.263584190209598,
          "variable": "train_valid_map"
         },
         {
          "iteration": 143,
          "value": 0.2636746497786146,
          "variable": "train_valid_map"
         },
         {
          "iteration": 144,
          "value": 0.26385015509299475,
          "variable": "train_valid_map"
         },
         {
          "iteration": 145,
          "value": 0.2639567268290792,
          "variable": "train_valid_map"
         },
         {
          "iteration": 146,
          "value": 0.26413128085561227,
          "variable": "train_valid_map"
         },
         {
          "iteration": 147,
          "value": 0.264238342784296,
          "variable": "train_valid_map"
         },
         {
          "iteration": 148,
          "value": 0.2644576542100574,
          "variable": "train_valid_map"
         },
         {
          "iteration": 149,
          "value": 0.26460972432720165,
          "variable": "train_valid_map"
         },
         {
          "iteration": 150,
          "value": 0.2649039854582938,
          "variable": "train_valid_map"
         },
         {
          "iteration": 151,
          "value": 0.26509275536462445,
          "variable": "train_valid_map"
         },
         {
          "iteration": 152,
          "value": 0.26542007466958895,
          "variable": "train_valid_map"
         },
         {
          "iteration": 153,
          "value": 0.2656849724725356,
          "variable": "train_valid_map"
         },
         {
          "iteration": 154,
          "value": 0.2659203333744911,
          "variable": "train_valid_map"
         },
         {
          "iteration": 155,
          "value": 0.2662614213337634,
          "variable": "train_valid_map"
         },
         {
          "iteration": 156,
          "value": 0.26657618084513846,
          "variable": "train_valid_map"
         },
         {
          "iteration": 157,
          "value": 0.26683462356965154,
          "variable": "train_valid_map"
         },
         {
          "iteration": 158,
          "value": 0.2672380950093778,
          "variable": "train_valid_map"
         },
         {
          "iteration": 159,
          "value": 0.2672811221385356,
          "variable": "train_valid_map"
         },
         {
          "iteration": 160,
          "value": 0.26788235978650105,
          "variable": "train_valid_map"
         },
         {
          "iteration": 161,
          "value": 0.268073979672495,
          "variable": "train_valid_map"
         },
         {
          "iteration": 162,
          "value": 0.26833576779398777,
          "variable": "train_valid_map"
         },
         {
          "iteration": 163,
          "value": 0.2686173805693494,
          "variable": "train_valid_map"
         },
         {
          "iteration": 164,
          "value": 0.2688356258321535,
          "variable": "train_valid_map"
         },
         {
          "iteration": 165,
          "value": 0.26893421211574625,
          "variable": "train_valid_map"
         },
         {
          "iteration": 166,
          "value": 0.2691056171755842,
          "variable": "train_valid_map"
         },
         {
          "iteration": 167,
          "value": 0.26920775098194755,
          "variable": "train_valid_map"
         },
         {
          "iteration": 168,
          "value": 0.26938515514712946,
          "variable": "train_valid_map"
         },
         {
          "iteration": 169,
          "value": 0.2695036422265873,
          "variable": "train_valid_map"
         },
         {
          "iteration": 170,
          "value": 0.26964447277352793,
          "variable": "train_valid_map"
         },
         {
          "iteration": 171,
          "value": 0.26988172501240065,
          "variable": "train_valid_map"
         },
         {
          "iteration": 172,
          "value": 0.2700437074160776,
          "variable": "train_valid_map"
         },
         {
          "iteration": 173,
          "value": 0.27021606942294607,
          "variable": "train_valid_map"
         },
         {
          "iteration": 174,
          "value": 0.27027103792830365,
          "variable": "train_valid_map"
         },
         {
          "iteration": 175,
          "value": 0.2704278178557125,
          "variable": "train_valid_map"
         },
         {
          "iteration": 176,
          "value": 0.2705749824444887,
          "variable": "train_valid_map"
         },
         {
          "iteration": 177,
          "value": 0.2706784896200108,
          "variable": "train_valid_map"
         },
         {
          "iteration": 178,
          "value": 0.27084854359881116,
          "variable": "train_valid_map"
         },
         {
          "iteration": 179,
          "value": 0.2709211446345518,
          "variable": "train_valid_map"
         },
         {
          "iteration": 180,
          "value": 0.27112376672976796,
          "variable": "train_valid_map"
         },
         {
          "iteration": 181,
          "value": 0.27121124950310493,
          "variable": "train_valid_map"
         },
         {
          "iteration": 182,
          "value": 0.2713448615729265,
          "variable": "train_valid_map"
         },
         {
          "iteration": 183,
          "value": 0.2714862154138818,
          "variable": "train_valid_map"
         },
         {
          "iteration": 184,
          "value": 0.2717726667892458,
          "variable": "train_valid_map"
         },
         {
          "iteration": 185,
          "value": 0.27201367594897835,
          "variable": "train_valid_map"
         },
         {
          "iteration": 186,
          "value": 0.27212079153724844,
          "variable": "train_valid_map"
         },
         {
          "iteration": 187,
          "value": 0.27225269133819474,
          "variable": "train_valid_map"
         },
         {
          "iteration": 188,
          "value": 0.2724831839288038,
          "variable": "train_valid_map"
         },
         {
          "iteration": 189,
          "value": 0.27267549793850343,
          "variable": "train_valid_map"
         },
         {
          "iteration": 190,
          "value": 0.2727361000501611,
          "variable": "train_valid_map"
         },
         {
          "iteration": 191,
          "value": 0.2728688570220827,
          "variable": "train_valid_map"
         },
         {
          "iteration": 192,
          "value": 0.2731261816565762,
          "variable": "train_valid_map"
         },
         {
          "iteration": 193,
          "value": 0.2733045484159777,
          "variable": "train_valid_map"
         },
         {
          "iteration": 194,
          "value": 0.2734812747792013,
          "variable": "train_valid_map"
         },
         {
          "iteration": 195,
          "value": 0.27355559309530736,
          "variable": "train_valid_map"
         },
         {
          "iteration": 196,
          "value": 0.2737377843345347,
          "variable": "train_valid_map"
         },
         {
          "iteration": 197,
          "value": 0.2739329364569486,
          "variable": "train_valid_map"
         },
         {
          "iteration": 198,
          "value": 0.27420444827722773,
          "variable": "train_valid_map"
         },
         {
          "iteration": 199,
          "value": 0.27437692773759703,
          "variable": "train_valid_map"
         }
        ]
       },
       "hconcat": [
        {
         "data": {
          "name": "data-3ad9fd98d31359d6b60c892ad361a546"
         },
         "encoding": {
          "color": {
           "field": "variable",
           "type": "nominal"
          },
          "x": {
           "field": "iteration",
           "type": "quantitative"
          },
          "y": {
           "field": "value",
           "scale": {
            "domain": [
             0.28,
             0.37
            ]
           },
           "type": "quantitative"
          }
         },
         "mark": "line",
         "selection": {
          "selector017": {
           "bind": "scales",
           "encodings": [
            "x",
            "y"
           ],
           "type": "interval"
          }
         },
         "title": "NDCG@12"
        },
        {
         "data": {
          "name": "data-45585e4a1dc79d770a9d13571ac226b0"
         },
         "encoding": {
          "color": {
           "field": "variable",
           "type": "nominal"
          },
          "x": {
           "field": "iteration",
           "type": "quantitative"
          },
          "y": {
           "field": "value",
           "scale": {
            "domain": [
             0.21,
             0.28
            ]
           },
           "type": "quantitative"
          }
         },
         "mark": "line",
         "selection": {
          "selector018": {
           "bind": "scales",
           "encodings": [
            "x",
            "y"
           ],
           "type": "interval"
          }
         },
         "title": "MAP@12"
        }
       ]
      },
      "image/png": "[encoded data removed]",
      "text/plain": [
       "<VegaLite 4 object>\n",
       "\n",
       "If you see this message, it means the renderer has not been properly enabled\n",
       "for the frontend that you are using. For more information, see\n",
       "https://altair-viz.github.io/user_guide/troubleshooting.html\n"
      ]
     },
     "execution_count": 1361,
     "metadata": {},
     "output_type": "execute_result"
    }
   ],
   "source": [
    "alt_ndcg = (\n",
    "    alt.Chart(\n",
    "        df_eval_results[lambda d: d[\"variable\"].isin([\"train_valid_ndcg\"])],\n",
    "        title=\"NDCG@12\",\n",
    "    )\n",
    "    .mark_line()\n",
    "    .encode(\n",
    "        x=\"iteration\",\n",
    "        y=alt.Y(\"value\", scale=alt.Scale(domain=(0.28, 0.37))),\n",
    "        color=\"variable\",\n",
    "    )\n",
    ").interactive()\n",
    "\n",
    "alt_map = (\n",
    "    alt.Chart(\n",
    "        df_eval_results[lambda d: d[\"variable\"].isin([\"train_valid_map\"])],\n",
    "        title=\"MAP@12\",\n",
    "    )\n",
    "    .mark_line()\n",
    "    .encode(\n",
    "        x=\"iteration\",\n",
    "        y=alt.Y(\"value\", scale=alt.Scale(domain=(0.21, 0.28))),\n",
    "        color=\"variable\",\n",
    "    )\n",
    ").interactive()\n",
    "\n",
    "alt_ndcg | alt_map"
   ]
  },
  {
   "cell_type": "markdown",
   "id": "7d3da86a-cc20-4815-abad-20831b53a169",
   "metadata": {},
   "source": [
    "#### Validation"
   ]
  },
  {
   "cell_type": "code",
   "execution_count": 1359,
   "id": "83713c99-3e39-4954-917e-32a4fddab223",
   "metadata": {
    "jupyter": {
     "source_hidden": true
    },
    "tags": []
   },
   "outputs": [
    {
     "data": {
      "application/vnd.vegalite.v4+json": {
       "$schema": "https://vega.github.io/schema/vega-lite/v4.17.0.json",
       "config": {
        "view": {
         "continuousHeight": 300,
         "continuousWidth": 400
        }
       },
       "datasets": {
        "data-36ae6633c810eef1b3305087d7dfa6f3": [
         {
          "iteration": 0,
          "value": 0.1252632276847282,
          "variable": "val_valid_ndcg"
         },
         {
          "iteration": 1,
          "value": 0.12759305250200906,
          "variable": "val_valid_ndcg"
         },
         {
          "iteration": 2,
          "value": 0.1284654016700193,
          "variable": "val_valid_ndcg"
         },
         {
          "iteration": 3,
          "value": 0.12868621247570394,
          "variable": "val_valid_ndcg"
         },
         {
          "iteration": 4,
          "value": 0.1289979423484073,
          "variable": "val_valid_ndcg"
         },
         {
          "iteration": 5,
          "value": 0.1295733951049496,
          "variable": "val_valid_ndcg"
         },
         {
          "iteration": 6,
          "value": 0.13057382177932414,
          "variable": "val_valid_ndcg"
         },
         {
          "iteration": 7,
          "value": 0.13018476519515207,
          "variable": "val_valid_ndcg"
         },
         {
          "iteration": 8,
          "value": 0.13099960159897522,
          "variable": "val_valid_ndcg"
         },
         {
          "iteration": 9,
          "value": 0.13110485454503887,
          "variable": "val_valid_ndcg"
         },
         {
          "iteration": 10,
          "value": 0.13088105839398353,
          "variable": "val_valid_ndcg"
         },
         {
          "iteration": 11,
          "value": 0.13086206421188112,
          "variable": "val_valid_ndcg"
         },
         {
          "iteration": 12,
          "value": 0.13106489173110777,
          "variable": "val_valid_ndcg"
         },
         {
          "iteration": 13,
          "value": 0.13074843266905478,
          "variable": "val_valid_ndcg"
         },
         {
          "iteration": 14,
          "value": 0.1306457876730611,
          "variable": "val_valid_ndcg"
         },
         {
          "iteration": 15,
          "value": 0.13043250147877483,
          "variable": "val_valid_ndcg"
         },
         {
          "iteration": 16,
          "value": 0.1306086106779461,
          "variable": "val_valid_ndcg"
         },
         {
          "iteration": 17,
          "value": 0.13074974190533337,
          "variable": "val_valid_ndcg"
         },
         {
          "iteration": 18,
          "value": 0.13093980689828738,
          "variable": "val_valid_ndcg"
         },
         {
          "iteration": 19,
          "value": 0.13019441876847127,
          "variable": "val_valid_ndcg"
         },
         {
          "iteration": 20,
          "value": 0.13019777246786193,
          "variable": "val_valid_ndcg"
         },
         {
          "iteration": 21,
          "value": 0.12977790197193254,
          "variable": "val_valid_ndcg"
         },
         {
          "iteration": 22,
          "value": 0.13003267953491707,
          "variable": "val_valid_ndcg"
         },
         {
          "iteration": 23,
          "value": 0.13083766375917352,
          "variable": "val_valid_ndcg"
         },
         {
          "iteration": 24,
          "value": 0.13102193041304894,
          "variable": "val_valid_ndcg"
         },
         {
          "iteration": 25,
          "value": 0.13133567816503192,
          "variable": "val_valid_ndcg"
         },
         {
          "iteration": 26,
          "value": 0.13117309600041535,
          "variable": "val_valid_ndcg"
         },
         {
          "iteration": 27,
          "value": 0.13227609386470926,
          "variable": "val_valid_ndcg"
         },
         {
          "iteration": 28,
          "value": 0.131619436485309,
          "variable": "val_valid_ndcg"
         },
         {
          "iteration": 29,
          "value": 0.13202763148646104,
          "variable": "val_valid_ndcg"
         },
         {
          "iteration": 30,
          "value": 0.13164707519476312,
          "variable": "val_valid_ndcg"
         },
         {
          "iteration": 31,
          "value": 0.13202191972535499,
          "variable": "val_valid_ndcg"
         },
         {
          "iteration": 32,
          "value": 0.13154278554188847,
          "variable": "val_valid_ndcg"
         },
         {
          "iteration": 33,
          "value": 0.13230070146788533,
          "variable": "val_valid_ndcg"
         },
         {
          "iteration": 34,
          "value": 0.13227402518197504,
          "variable": "val_valid_ndcg"
         },
         {
          "iteration": 35,
          "value": 0.13220709131298838,
          "variable": "val_valid_ndcg"
         },
         {
          "iteration": 36,
          "value": 0.1321249588790305,
          "variable": "val_valid_ndcg"
         },
         {
          "iteration": 37,
          "value": 0.13178607008732313,
          "variable": "val_valid_ndcg"
         },
         {
          "iteration": 38,
          "value": 0.13220319413175038,
          "variable": "val_valid_ndcg"
         },
         {
          "iteration": 39,
          "value": 0.13239532342963217,
          "variable": "val_valid_ndcg"
         },
         {
          "iteration": 40,
          "value": 0.13221869707843148,
          "variable": "val_valid_ndcg"
         },
         {
          "iteration": 41,
          "value": 0.13255662096852017,
          "variable": "val_valid_ndcg"
         },
         {
          "iteration": 42,
          "value": 0.13261132425631417,
          "variable": "val_valid_ndcg"
         },
         {
          "iteration": 43,
          "value": 0.13242612000581222,
          "variable": "val_valid_ndcg"
         },
         {
          "iteration": 44,
          "value": 0.13226547233765037,
          "variable": "val_valid_ndcg"
         },
         {
          "iteration": 45,
          "value": 0.13235319823479322,
          "variable": "val_valid_ndcg"
         },
         {
          "iteration": 46,
          "value": 0.13268462101748588,
          "variable": "val_valid_ndcg"
         },
         {
          "iteration": 47,
          "value": 0.13297038187549753,
          "variable": "val_valid_ndcg"
         },
         {
          "iteration": 48,
          "value": 0.1333935546957553,
          "variable": "val_valid_ndcg"
         },
         {
          "iteration": 49,
          "value": 0.1337618078319484,
          "variable": "val_valid_ndcg"
         },
         {
          "iteration": 50,
          "value": 0.13420628923726582,
          "variable": "val_valid_ndcg"
         },
         {
          "iteration": 51,
          "value": 0.13459538056941903,
          "variable": "val_valid_ndcg"
         },
         {
          "iteration": 52,
          "value": 0.13519358766892173,
          "variable": "val_valid_ndcg"
         },
         {
          "iteration": 53,
          "value": 0.13564012776893059,
          "variable": "val_valid_ndcg"
         },
         {
          "iteration": 54,
          "value": 0.13552307656165544,
          "variable": "val_valid_ndcg"
         },
         {
          "iteration": 55,
          "value": 0.13514730981004372,
          "variable": "val_valid_ndcg"
         },
         {
          "iteration": 56,
          "value": 0.13519382116809375,
          "variable": "val_valid_ndcg"
         },
         {
          "iteration": 57,
          "value": 0.13519891299717363,
          "variable": "val_valid_ndcg"
         },
         {
          "iteration": 58,
          "value": 0.1348249045355874,
          "variable": "val_valid_ndcg"
         },
         {
          "iteration": 59,
          "value": 0.13458527338942133,
          "variable": "val_valid_ndcg"
         },
         {
          "iteration": 60,
          "value": 0.13460174642417813,
          "variable": "val_valid_ndcg"
         },
         {
          "iteration": 61,
          "value": 0.13474802535023023,
          "variable": "val_valid_ndcg"
         },
         {
          "iteration": 62,
          "value": 0.13508946856255113,
          "variable": "val_valid_ndcg"
         },
         {
          "iteration": 63,
          "value": 0.13522187784837117,
          "variable": "val_valid_ndcg"
         },
         {
          "iteration": 64,
          "value": 0.13518092244185104,
          "variable": "val_valid_ndcg"
         },
         {
          "iteration": 65,
          "value": 0.1350567138063639,
          "variable": "val_valid_ndcg"
         },
         {
          "iteration": 66,
          "value": 0.1349550824539672,
          "variable": "val_valid_ndcg"
         },
         {
          "iteration": 67,
          "value": 0.1350781128181015,
          "variable": "val_valid_ndcg"
         },
         {
          "iteration": 68,
          "value": 0.13472341039320548,
          "variable": "val_valid_ndcg"
         },
         {
          "iteration": 69,
          "value": 0.13493388542378926,
          "variable": "val_valid_ndcg"
         },
         {
          "iteration": 70,
          "value": 0.13474119485153438,
          "variable": "val_valid_ndcg"
         },
         {
          "iteration": 71,
          "value": 0.13475005780946306,
          "variable": "val_valid_ndcg"
         },
         {
          "iteration": 72,
          "value": 0.13499304840440604,
          "variable": "val_valid_ndcg"
         },
         {
          "iteration": 73,
          "value": 0.1344337520702003,
          "variable": "val_valid_ndcg"
         },
         {
          "iteration": 74,
          "value": 0.13424205872020767,
          "variable": "val_valid_ndcg"
         },
         {
          "iteration": 75,
          "value": 0.13424845420564213,
          "variable": "val_valid_ndcg"
         },
         {
          "iteration": 76,
          "value": 0.13426587260483375,
          "variable": "val_valid_ndcg"
         },
         {
          "iteration": 77,
          "value": 0.13434190557720171,
          "variable": "val_valid_ndcg"
         },
         {
          "iteration": 78,
          "value": 0.13434283743150957,
          "variable": "val_valid_ndcg"
         },
         {
          "iteration": 79,
          "value": 0.13449705016559435,
          "variable": "val_valid_ndcg"
         },
         {
          "iteration": 80,
          "value": 0.13449705016559435,
          "variable": "val_valid_ndcg"
         },
         {
          "iteration": 81,
          "value": 0.13449705016559435,
          "variable": "val_valid_ndcg"
         },
         {
          "iteration": 82,
          "value": 0.13426958758879862,
          "variable": "val_valid_ndcg"
         },
         {
          "iteration": 83,
          "value": 0.1344964652089423,
          "variable": "val_valid_ndcg"
         },
         {
          "iteration": 84,
          "value": 0.13464780278993194,
          "variable": "val_valid_ndcg"
         },
         {
          "iteration": 85,
          "value": 0.13418605051337312,
          "variable": "val_valid_ndcg"
         },
         {
          "iteration": 86,
          "value": 0.13459788443949938,
          "variable": "val_valid_ndcg"
         },
         {
          "iteration": 87,
          "value": 0.13457202738713125,
          "variable": "val_valid_ndcg"
         },
         {
          "iteration": 88,
          "value": 0.13443595980132736,
          "variable": "val_valid_ndcg"
         },
         {
          "iteration": 89,
          "value": 0.13443595980132736,
          "variable": "val_valid_ndcg"
         },
         {
          "iteration": 90,
          "value": 0.1343660470266591,
          "variable": "val_valid_ndcg"
         },
         {
          "iteration": 91,
          "value": 0.1344733168449509,
          "variable": "val_valid_ndcg"
         },
         {
          "iteration": 92,
          "value": 0.1344733168449509,
          "variable": "val_valid_ndcg"
         },
         {
          "iteration": 93,
          "value": 0.13450479301445978,
          "variable": "val_valid_ndcg"
         },
         {
          "iteration": 94,
          "value": 0.13475120057658094,
          "variable": "val_valid_ndcg"
         },
         {
          "iteration": 95,
          "value": 0.1347253435242128,
          "variable": "val_valid_ndcg"
         },
         {
          "iteration": 96,
          "value": 0.1347079795200095,
          "variable": "val_valid_ndcg"
         },
         {
          "iteration": 97,
          "value": 0.13462789118510382,
          "variable": "val_valid_ndcg"
         },
         {
          "iteration": 98,
          "value": 0.1346098830936225,
          "variable": "val_valid_ndcg"
         },
         {
          "iteration": 99,
          "value": 0.13461651774849334,
          "variable": "val_valid_ndcg"
         },
         {
          "iteration": 100,
          "value": 0.13450094921174313,
          "variable": "val_valid_ndcg"
         },
         {
          "iteration": 101,
          "value": 0.13426004077152628,
          "variable": "val_valid_ndcg"
         },
         {
          "iteration": 102,
          "value": 0.1346294175966739,
          "variable": "val_valid_ndcg"
         },
         {
          "iteration": 103,
          "value": 0.1343647377196638,
          "variable": "val_valid_ndcg"
         },
         {
          "iteration": 104,
          "value": 0.1343889274694492,
          "variable": "val_valid_ndcg"
         },
         {
          "iteration": 105,
          "value": 0.13482897554057646,
          "variable": "val_valid_ndcg"
         },
         {
          "iteration": 106,
          "value": 0.13481523896934267,
          "variable": "val_valid_ndcg"
         },
         {
          "iteration": 107,
          "value": 0.13465683613702212,
          "variable": "val_valid_ndcg"
         },
         {
          "iteration": 108,
          "value": 0.13452369147447796,
          "variable": "val_valid_ndcg"
         },
         {
          "iteration": 109,
          "value": 0.13472595270184076,
          "variable": "val_valid_ndcg"
         },
         {
          "iteration": 110,
          "value": 0.13456168975780022,
          "variable": "val_valid_ndcg"
         },
         {
          "iteration": 111,
          "value": 0.13456168975780022,
          "variable": "val_valid_ndcg"
         },
         {
          "iteration": 112,
          "value": 0.1343814747130968,
          "variable": "val_valid_ndcg"
         },
         {
          "iteration": 113,
          "value": 0.13450118697184438,
          "variable": "val_valid_ndcg"
         },
         {
          "iteration": 114,
          "value": 0.13454243169956898,
          "variable": "val_valid_ndcg"
         },
         {
          "iteration": 115,
          "value": 0.13449216659938512,
          "variable": "val_valid_ndcg"
         },
         {
          "iteration": 116,
          "value": 0.1346235045669612,
          "variable": "val_valid_ndcg"
         },
         {
          "iteration": 117,
          "value": 0.1347931390577123,
          "variable": "val_valid_ndcg"
         },
         {
          "iteration": 118,
          "value": 0.13500357659226134,
          "variable": "val_valid_ndcg"
         },
         {
          "iteration": 119,
          "value": 0.13521746950860078,
          "variable": "val_valid_ndcg"
         },
         {
          "iteration": 120,
          "value": 0.13529632584735685,
          "variable": "val_valid_ndcg"
         },
         {
          "iteration": 121,
          "value": 0.13532037752393714,
          "variable": "val_valid_ndcg"
         },
         {
          "iteration": 122,
          "value": 0.13555333801221983,
          "variable": "val_valid_ndcg"
         },
         {
          "iteration": 123,
          "value": 0.13564081173302975,
          "variable": "val_valid_ndcg"
         },
         {
          "iteration": 124,
          "value": 0.13492600496926757,
          "variable": "val_valid_ndcg"
         },
         {
          "iteration": 125,
          "value": 0.1346183335667043,
          "variable": "val_valid_ndcg"
         },
         {
          "iteration": 126,
          "value": 0.134725221650212,
          "variable": "val_valid_ndcg"
         },
         {
          "iteration": 127,
          "value": 0.134752705713508,
          "variable": "val_valid_ndcg"
         },
         {
          "iteration": 128,
          "value": 0.1344584890016231,
          "variable": "val_valid_ndcg"
         },
         {
          "iteration": 129,
          "value": 0.13456757368790465,
          "variable": "val_valid_ndcg"
         },
         {
          "iteration": 130,
          "value": 0.13453345123626823,
          "variable": "val_valid_ndcg"
         },
         {
          "iteration": 131,
          "value": 0.1342134299387279,
          "variable": "val_valid_ndcg"
         },
         {
          "iteration": 132,
          "value": 0.13463888415354333,
          "variable": "val_valid_ndcg"
         },
         {
          "iteration": 133,
          "value": 0.1347721743560683,
          "variable": "val_valid_ndcg"
         },
         {
          "iteration": 134,
          "value": 0.1347572565305415,
          "variable": "val_valid_ndcg"
         },
         {
          "iteration": 135,
          "value": 0.13507868036500187,
          "variable": "val_valid_ndcg"
         },
         {
          "iteration": 136,
          "value": 0.13528482552897717,
          "variable": "val_valid_ndcg"
         },
         {
          "iteration": 137,
          "value": 0.13571433830427565,
          "variable": "val_valid_ndcg"
         },
         {
          "iteration": 138,
          "value": 0.13530192720619072,
          "variable": "val_valid_ndcg"
         },
         {
          "iteration": 139,
          "value": 0.13574679884730664,
          "variable": "val_valid_ndcg"
         },
         {
          "iteration": 140,
          "value": 0.13662001499356305,
          "variable": "val_valid_ndcg"
         },
         {
          "iteration": 141,
          "value": 0.13640606097030197,
          "variable": "val_valid_ndcg"
         },
         {
          "iteration": 142,
          "value": 0.1366681784763554,
          "variable": "val_valid_ndcg"
         },
         {
          "iteration": 143,
          "value": 0.13653121280337943,
          "variable": "val_valid_ndcg"
         },
         {
          "iteration": 144,
          "value": 0.1360084434836277,
          "variable": "val_valid_ndcg"
         },
         {
          "iteration": 145,
          "value": 0.13621215267102904,
          "variable": "val_valid_ndcg"
         },
         {
          "iteration": 146,
          "value": 0.13629203955436872,
          "variable": "val_valid_ndcg"
         },
         {
          "iteration": 147,
          "value": 0.1364130089789434,
          "variable": "val_valid_ndcg"
         },
         {
          "iteration": 148,
          "value": 0.13641361222222767,
          "variable": "val_valid_ndcg"
         },
         {
          "iteration": 149,
          "value": 0.13637668164867556,
          "variable": "val_valid_ndcg"
         },
         {
          "iteration": 150,
          "value": 0.13588679116545557,
          "variable": "val_valid_ndcg"
         },
         {
          "iteration": 151,
          "value": 0.13557702375075867,
          "variable": "val_valid_ndcg"
         },
         {
          "iteration": 152,
          "value": 0.13581374242398844,
          "variable": "val_valid_ndcg"
         },
         {
          "iteration": 153,
          "value": 0.13562580835609403,
          "variable": "val_valid_ndcg"
         },
         {
          "iteration": 154,
          "value": 0.135680617787121,
          "variable": "val_valid_ndcg"
         },
         {
          "iteration": 155,
          "value": 0.1354391469467719,
          "variable": "val_valid_ndcg"
         },
         {
          "iteration": 156,
          "value": 0.1346969299019272,
          "variable": "val_valid_ndcg"
         },
         {
          "iteration": 157,
          "value": 0.13469496671093076,
          "variable": "val_valid_ndcg"
         },
         {
          "iteration": 158,
          "value": 0.1350249643574686,
          "variable": "val_valid_ndcg"
         },
         {
          "iteration": 159,
          "value": 0.13499299861883338,
          "variable": "val_valid_ndcg"
         },
         {
          "iteration": 160,
          "value": 0.13445341274785585,
          "variable": "val_valid_ndcg"
         },
         {
          "iteration": 161,
          "value": 0.1342270916330933,
          "variable": "val_valid_ndcg"
         },
         {
          "iteration": 162,
          "value": 0.1345370724649187,
          "variable": "val_valid_ndcg"
         },
         {
          "iteration": 163,
          "value": 0.1344622444805178,
          "variable": "val_valid_ndcg"
         },
         {
          "iteration": 164,
          "value": 0.13447990025541348,
          "variable": "val_valid_ndcg"
         },
         {
          "iteration": 165,
          "value": 0.134347011188973,
          "variable": "val_valid_ndcg"
         },
         {
          "iteration": 166,
          "value": 0.1346524705913077,
          "variable": "val_valid_ndcg"
         },
         {
          "iteration": 167,
          "value": 0.13435777541544694,
          "variable": "val_valid_ndcg"
         },
         {
          "iteration": 168,
          "value": 0.13422953863427997,
          "variable": "val_valid_ndcg"
         },
         {
          "iteration": 169,
          "value": 0.13419846658666745,
          "variable": "val_valid_ndcg"
         },
         {
          "iteration": 170,
          "value": 0.13419846658666745,
          "variable": "val_valid_ndcg"
         },
         {
          "iteration": 171,
          "value": 0.13445017045364716,
          "variable": "val_valid_ndcg"
         },
         {
          "iteration": 172,
          "value": 0.1346896367704643,
          "variable": "val_valid_ndcg"
         },
         {
          "iteration": 173,
          "value": 0.13528560027462522,
          "variable": "val_valid_ndcg"
         },
         {
          "iteration": 174,
          "value": 0.13514819776597195,
          "variable": "val_valid_ndcg"
         },
         {
          "iteration": 175,
          "value": 0.1350117546701288,
          "variable": "val_valid_ndcg"
         },
         {
          "iteration": 176,
          "value": 0.13514345592751115,
          "variable": "val_valid_ndcg"
         },
         {
          "iteration": 177,
          "value": 0.1352767969699809,
          "variable": "val_valid_ndcg"
         },
         {
          "iteration": 178,
          "value": 0.13503628459222772,
          "variable": "val_valid_ndcg"
         },
         {
          "iteration": 179,
          "value": 0.13500550031664973,
          "variable": "val_valid_ndcg"
         },
         {
          "iteration": 180,
          "value": 0.13500550031664973,
          "variable": "val_valid_ndcg"
         },
         {
          "iteration": 181,
          "value": 0.13499767591019718,
          "variable": "val_valid_ndcg"
         },
         {
          "iteration": 182,
          "value": 0.1349903564103246,
          "variable": "val_valid_ndcg"
         },
         {
          "iteration": 183,
          "value": 0.13538069290245583,
          "variable": "val_valid_ndcg"
         },
         {
          "iteration": 184,
          "value": 0.13484764371378935,
          "variable": "val_valid_ndcg"
         },
         {
          "iteration": 185,
          "value": 0.13484959596298401,
          "variable": "val_valid_ndcg"
         },
         {
          "iteration": 186,
          "value": 0.1346901786613413,
          "variable": "val_valid_ndcg"
         },
         {
          "iteration": 187,
          "value": 0.13476293289533006,
          "variable": "val_valid_ndcg"
         },
         {
          "iteration": 188,
          "value": 0.1348490746817495,
          "variable": "val_valid_ndcg"
         },
         {
          "iteration": 189,
          "value": 0.1350311908945606,
          "variable": "val_valid_ndcg"
         },
         {
          "iteration": 190,
          "value": 0.1349182360082494,
          "variable": "val_valid_ndcg"
         },
         {
          "iteration": 191,
          "value": 0.1349340332708466,
          "variable": "val_valid_ndcg"
         },
         {
          "iteration": 192,
          "value": 0.13514844762772066,
          "variable": "val_valid_ndcg"
         },
         {
          "iteration": 193,
          "value": 0.13612629168660814,
          "variable": "val_valid_ndcg"
         },
         {
          "iteration": 194,
          "value": 0.13606117120527417,
          "variable": "val_valid_ndcg"
         },
         {
          "iteration": 195,
          "value": 0.13536082902056498,
          "variable": "val_valid_ndcg"
         },
         {
          "iteration": 196,
          "value": 0.13552171376444658,
          "variable": "val_valid_ndcg"
         },
         {
          "iteration": 197,
          "value": 0.1355421067358483,
          "variable": "val_valid_ndcg"
         },
         {
          "iteration": 198,
          "value": 0.13545756919599708,
          "variable": "val_valid_ndcg"
         },
         {
          "iteration": 199,
          "value": 0.13559111815394848,
          "variable": "val_valid_ndcg"
         }
        ],
        "data-8bc6338927aed3b7ea28b1627bd44b4e": [
         {
          "iteration": 0,
          "value": 0.10778467302096097,
          "variable": "val_valid_map"
         },
         {
          "iteration": 1,
          "value": 0.10891401303742144,
          "variable": "val_valid_map"
         },
         {
          "iteration": 2,
          "value": 0.10976986058523766,
          "variable": "val_valid_map"
         },
         {
          "iteration": 3,
          "value": 0.10986328518684753,
          "variable": "val_valid_map"
         },
         {
          "iteration": 4,
          "value": 0.10968761645181821,
          "variable": "val_valid_map"
         },
         {
          "iteration": 5,
          "value": 0.11021142224042041,
          "variable": "val_valid_map"
         },
         {
          "iteration": 6,
          "value": 0.11121251223112141,
          "variable": "val_valid_map"
         },
         {
          "iteration": 7,
          "value": 0.11077631699203686,
          "variable": "val_valid_map"
         },
         {
          "iteration": 8,
          "value": 0.11120056898985121,
          "variable": "val_valid_map"
         },
         {
          "iteration": 9,
          "value": 0.11122617375188383,
          "variable": "val_valid_map"
         },
         {
          "iteration": 10,
          "value": 0.11090844961437518,
          "variable": "val_valid_map"
         },
         {
          "iteration": 11,
          "value": 0.11094426848589434,
          "variable": "val_valid_map"
         },
         {
          "iteration": 12,
          "value": 0.11101107855760158,
          "variable": "val_valid_map"
         },
         {
          "iteration": 13,
          "value": 0.1108623311610579,
          "variable": "val_valid_map"
         },
         {
          "iteration": 14,
          "value": 0.1107014598199711,
          "variable": "val_valid_map"
         },
         {
          "iteration": 15,
          "value": 0.11065918206833975,
          "variable": "val_valid_map"
         },
         {
          "iteration": 16,
          "value": 0.11075805510918145,
          "variable": "val_valid_map"
         },
         {
          "iteration": 17,
          "value": 0.11064602109900837,
          "variable": "val_valid_map"
         },
         {
          "iteration": 18,
          "value": 0.1103199766189482,
          "variable": "val_valid_map"
         },
         {
          "iteration": 19,
          "value": 0.10994178881299352,
          "variable": "val_valid_map"
         },
         {
          "iteration": 20,
          "value": 0.1099418241460357,
          "variable": "val_valid_map"
         },
         {
          "iteration": 21,
          "value": 0.10938841095060488,
          "variable": "val_valid_map"
         },
         {
          "iteration": 22,
          "value": 0.10951414122569852,
          "variable": "val_valid_map"
         },
         {
          "iteration": 23,
          "value": 0.11035741492156773,
          "variable": "val_valid_map"
         },
         {
          "iteration": 24,
          "value": 0.11076997942203622,
          "variable": "val_valid_map"
         },
         {
          "iteration": 25,
          "value": 0.11114709074797223,
          "variable": "val_valid_map"
         },
         {
          "iteration": 26,
          "value": 0.11117372008410206,
          "variable": "val_valid_map"
         },
         {
          "iteration": 27,
          "value": 0.11172884339877485,
          "variable": "val_valid_map"
         },
         {
          "iteration": 28,
          "value": 0.1109105389749366,
          "variable": "val_valid_map"
         },
         {
          "iteration": 29,
          "value": 0.11110363993934023,
          "variable": "val_valid_map"
         },
         {
          "iteration": 30,
          "value": 0.1106833534025013,
          "variable": "val_valid_map"
         },
         {
          "iteration": 31,
          "value": 0.11063579983878712,
          "variable": "val_valid_map"
         },
         {
          "iteration": 32,
          "value": 0.11032076631244113,
          "variable": "val_valid_map"
         },
         {
          "iteration": 33,
          "value": 0.11118651417867871,
          "variable": "val_valid_map"
         },
         {
          "iteration": 34,
          "value": 0.11115962161138457,
          "variable": "val_valid_map"
         },
         {
          "iteration": 35,
          "value": 0.11086883067416857,
          "variable": "val_valid_map"
         },
         {
          "iteration": 36,
          "value": 0.11081613733058394,
          "variable": "val_valid_map"
         },
         {
          "iteration": 37,
          "value": 0.11055757954998896,
          "variable": "val_valid_map"
         },
         {
          "iteration": 38,
          "value": 0.11118423225303736,
          "variable": "val_valid_map"
         },
         {
          "iteration": 39,
          "value": 0.11127572598801785,
          "variable": "val_valid_map"
         },
         {
          "iteration": 40,
          "value": 0.11103503141578559,
          "variable": "val_valid_map"
         },
         {
          "iteration": 41,
          "value": 0.1113208174275755,
          "variable": "val_valid_map"
         },
         {
          "iteration": 42,
          "value": 0.11138136942862703,
          "variable": "val_valid_map"
         },
         {
          "iteration": 43,
          "value": 0.11155102691953818,
          "variable": "val_valid_map"
         },
         {
          "iteration": 44,
          "value": 0.11136849053474909,
          "variable": "val_valid_map"
         },
         {
          "iteration": 45,
          "value": 0.1116643947520539,
          "variable": "val_valid_map"
         },
         {
          "iteration": 46,
          "value": 0.11185660650156243,
          "variable": "val_valid_map"
         },
         {
          "iteration": 47,
          "value": 0.11240844384331161,
          "variable": "val_valid_map"
         },
         {
          "iteration": 48,
          "value": 0.11283791226004743,
          "variable": "val_valid_map"
         },
         {
          "iteration": 49,
          "value": 0.11311170800397048,
          "variable": "val_valid_map"
         },
         {
          "iteration": 50,
          "value": 0.11349290912953988,
          "variable": "val_valid_map"
         },
         {
          "iteration": 51,
          "value": 0.11377921512593404,
          "variable": "val_valid_map"
         },
         {
          "iteration": 52,
          "value": 0.11429240400836875,
          "variable": "val_valid_map"
         },
         {
          "iteration": 53,
          "value": 0.114547641071882,
          "variable": "val_valid_map"
         },
         {
          "iteration": 54,
          "value": 0.11447512706939741,
          "variable": "val_valid_map"
         },
         {
          "iteration": 55,
          "value": 0.11400754490005224,
          "variable": "val_valid_map"
         },
         {
          "iteration": 56,
          "value": 0.11436067442836018,
          "variable": "val_valid_map"
         },
         {
          "iteration": 57,
          "value": 0.11402804916919232,
          "variable": "val_valid_map"
         },
         {
          "iteration": 58,
          "value": 0.11374204487771952,
          "variable": "val_valid_map"
         },
         {
          "iteration": 59,
          "value": 0.11347557720674648,
          "variable": "val_valid_map"
         },
         {
          "iteration": 60,
          "value": 0.11348480796401836,
          "variable": "val_valid_map"
         },
         {
          "iteration": 61,
          "value": 0.1134938797226004,
          "variable": "val_valid_map"
         },
         {
          "iteration": 62,
          "value": 0.11390102236774502,
          "variable": "val_valid_map"
         },
         {
          "iteration": 63,
          "value": 0.11398241733038385,
          "variable": "val_valid_map"
         },
         {
          "iteration": 64,
          "value": 0.11410536453952107,
          "variable": "val_valid_map"
         },
         {
          "iteration": 65,
          "value": 0.11407815809703548,
          "variable": "val_valid_map"
         },
         {
          "iteration": 66,
          "value": 0.11411199184046766,
          "variable": "val_valid_map"
         },
         {
          "iteration": 67,
          "value": 0.11417096975448965,
          "variable": "val_valid_map"
         },
         {
          "iteration": 68,
          "value": 0.11406616017367613,
          "variable": "val_valid_map"
         },
         {
          "iteration": 69,
          "value": 0.11413083730740324,
          "variable": "val_valid_map"
         },
         {
          "iteration": 70,
          "value": 0.11394830681145454,
          "variable": "val_valid_map"
         },
         {
          "iteration": 71,
          "value": 0.11401130915898185,
          "variable": "val_valid_map"
         },
         {
          "iteration": 72,
          "value": 0.11414539805408938,
          "variable": "val_valid_map"
         },
         {
          "iteration": 73,
          "value": 0.1137497710362782,
          "variable": "val_valid_map"
         },
         {
          "iteration": 74,
          "value": 0.11333947197269804,
          "variable": "val_valid_map"
         },
         {
          "iteration": 75,
          "value": 0.11326468958890487,
          "variable": "val_valid_map"
         },
         {
          "iteration": 76,
          "value": 0.11326117740038498,
          "variable": "val_valid_map"
         },
         {
          "iteration": 77,
          "value": 0.11332783318447465,
          "variable": "val_valid_map"
         },
         {
          "iteration": 78,
          "value": 0.11335212111767543,
          "variable": "val_valid_map"
         },
         {
          "iteration": 79,
          "value": 0.11354615201409894,
          "variable": "val_valid_map"
         },
         {
          "iteration": 80,
          "value": 0.11354615201409894,
          "variable": "val_valid_map"
         },
         {
          "iteration": 81,
          "value": 0.11354615201409896,
          "variable": "val_valid_map"
         },
         {
          "iteration": 82,
          "value": 0.11329779606055199,
          "variable": "val_valid_map"
         },
         {
          "iteration": 83,
          "value": 0.11344838548636177,
          "variable": "val_valid_map"
         },
         {
          "iteration": 84,
          "value": 0.11355565071360742,
          "variable": "val_valid_map"
         },
         {
          "iteration": 85,
          "value": 0.11320444616308849,
          "variable": "val_valid_map"
         },
         {
          "iteration": 86,
          "value": 0.11350498195334023,
          "variable": "val_valid_map"
         },
         {
          "iteration": 87,
          "value": 0.11348049615510321,
          "variable": "val_valid_map"
         },
         {
          "iteration": 88,
          "value": 0.11346117526245551,
          "variable": "val_valid_map"
         },
         {
          "iteration": 89,
          "value": 0.11346117526245553,
          "variable": "val_valid_map"
         },
         {
          "iteration": 90,
          "value": 0.11344702791236301,
          "variable": "val_valid_map"
         },
         {
          "iteration": 91,
          "value": 0.11348084163373795,
          "variable": "val_valid_map"
         },
         {
          "iteration": 92,
          "value": 0.11348084163373795,
          "variable": "val_valid_map"
         },
         {
          "iteration": 93,
          "value": 0.11351757033109347,
          "variable": "val_valid_map"
         },
         {
          "iteration": 94,
          "value": 0.11378178375397487,
          "variable": "val_valid_map"
         },
         {
          "iteration": 95,
          "value": 0.11375729795573787,
          "variable": "val_valid_map"
         },
         {
          "iteration": 96,
          "value": 0.11372412729573077,
          "variable": "val_valid_map"
         },
         {
          "iteration": 97,
          "value": 0.11371208276640626,
          "variable": "val_valid_map"
         },
         {
          "iteration": 98,
          "value": 0.11369625356350556,
          "variable": "val_valid_map"
         },
         {
          "iteration": 99,
          "value": 0.11370078797058647,
          "variable": "val_valid_map"
         },
         {
          "iteration": 100,
          "value": 0.11364689094803129,
          "variable": "val_valid_map"
         },
         {
          "iteration": 101,
          "value": 0.11341068956099737,
          "variable": "val_valid_map"
         },
         {
          "iteration": 102,
          "value": 0.11361185958272149,
          "variable": "val_valid_map"
         },
         {
          "iteration": 103,
          "value": 0.11353024025526473,
          "variable": "val_valid_map"
         },
         {
          "iteration": 104,
          "value": 0.11353354389470939,
          "variable": "val_valid_map"
         },
         {
          "iteration": 105,
          "value": 0.11360614387426338,
          "variable": "val_valid_map"
         },
         {
          "iteration": 106,
          "value": 0.11359448397034096,
          "variable": "val_valid_map"
         },
         {
          "iteration": 107,
          "value": 0.11352452454680664,
          "variable": "val_valid_map"
         },
         {
          "iteration": 108,
          "value": 0.11350548003706673,
          "variable": "val_valid_map"
         },
         {
          "iteration": 109,
          "value": 0.11375340492749896,
          "variable": "val_valid_map"
         },
         {
          "iteration": 110,
          "value": 0.11366284634036838,
          "variable": "val_valid_map"
         },
         {
          "iteration": 111,
          "value": 0.11366284634036838,
          "variable": "val_valid_map"
         },
         {
          "iteration": 112,
          "value": 0.11358963627695264,
          "variable": "val_valid_map"
         },
         {
          "iteration": 113,
          "value": 0.11374555215887241,
          "variable": "val_valid_map"
         },
         {
          "iteration": 114,
          "value": 0.11369347125468576,
          "variable": "val_valid_map"
         },
         {
          "iteration": 115,
          "value": 0.11364796229634622,
          "variable": "val_valid_map"
         },
         {
          "iteration": 116,
          "value": 0.11361370691194393,
          "variable": "val_valid_map"
         },
         {
          "iteration": 117,
          "value": 0.11377694556685741,
          "variable": "val_valid_map"
         },
         {
          "iteration": 118,
          "value": 0.11396089527333404,
          "variable": "val_valid_map"
         },
         {
          "iteration": 119,
          "value": 0.11400269426224373,
          "variable": "val_valid_map"
         },
         {
          "iteration": 120,
          "value": 0.11407112258728319,
          "variable": "val_valid_map"
         },
         {
          "iteration": 121,
          "value": 0.11409362973515765,
          "variable": "val_valid_map"
         },
         {
          "iteration": 122,
          "value": 0.11432125697062034,
          "variable": "val_valid_map"
         },
         {
          "iteration": 123,
          "value": 0.11451806201561342,
          "variable": "val_valid_map"
         },
         {
          "iteration": 124,
          "value": 0.11363447096307036,
          "variable": "val_valid_map"
         },
         {
          "iteration": 125,
          "value": 0.11327996277310673,
          "variable": "val_valid_map"
         },
         {
          "iteration": 126,
          "value": 0.11340167921460771,
          "variable": "val_valid_map"
         },
         {
          "iteration": 127,
          "value": 0.11350506369605293,
          "variable": "val_valid_map"
         },
         {
          "iteration": 128,
          "value": 0.11340555407156777,
          "variable": "val_valid_map"
         },
         {
          "iteration": 129,
          "value": 0.11339529739417804,
          "variable": "val_valid_map"
         },
         {
          "iteration": 130,
          "value": 0.11336109500933902,
          "variable": "val_valid_map"
         },
         {
          "iteration": 131,
          "value": 0.11280637802465143,
          "variable": "val_valid_map"
         },
         {
          "iteration": 132,
          "value": 0.1132750067250557,
          "variable": "val_valid_map"
         },
         {
          "iteration": 133,
          "value": 0.11379678507004658,
          "variable": "val_valid_map"
         },
         {
          "iteration": 134,
          "value": 0.11379632338496197,
          "variable": "val_valid_map"
         },
         {
          "iteration": 135,
          "value": 0.1138024218680438,
          "variable": "val_valid_map"
         },
         {
          "iteration": 136,
          "value": 0.11377272935345088,
          "variable": "val_valid_map"
         },
         {
          "iteration": 137,
          "value": 0.11448032946727037,
          "variable": "val_valid_map"
         },
         {
          "iteration": 138,
          "value": 0.11381529094718777,
          "variable": "val_valid_map"
         },
         {
          "iteration": 139,
          "value": 0.11384368457989091,
          "variable": "val_valid_map"
         },
         {
          "iteration": 140,
          "value": 0.11481802972906464,
          "variable": "val_valid_map"
         },
         {
          "iteration": 141,
          "value": 0.11460997346567049,
          "variable": "val_valid_map"
         },
         {
          "iteration": 142,
          "value": 0.11460795712672958,
          "variable": "val_valid_map"
         },
         {
          "iteration": 143,
          "value": 0.11456749372681464,
          "variable": "val_valid_map"
         },
         {
          "iteration": 144,
          "value": 0.1143441635781662,
          "variable": "val_valid_map"
         },
         {
          "iteration": 145,
          "value": 0.11484290006857749,
          "variable": "val_valid_map"
         },
         {
          "iteration": 146,
          "value": 0.11487112410267813,
          "variable": "val_valid_map"
         },
         {
          "iteration": 147,
          "value": 0.1148893912854899,
          "variable": "val_valid_map"
         },
         {
          "iteration": 148,
          "value": 0.114889974280686,
          "variable": "val_valid_map"
         },
         {
          "iteration": 149,
          "value": 0.11490328894875093,
          "variable": "val_valid_map"
         },
         {
          "iteration": 150,
          "value": 0.11435763901157305,
          "variable": "val_valid_map"
         },
         {
          "iteration": 151,
          "value": 0.11376409925789618,
          "variable": "val_valid_map"
         },
         {
          "iteration": 152,
          "value": 0.11378046434527009,
          "variable": "val_valid_map"
         },
         {
          "iteration": 153,
          "value": 0.11365493723516902,
          "variable": "val_valid_map"
         },
         {
          "iteration": 154,
          "value": 0.11375443508197344,
          "variable": "val_valid_map"
         },
         {
          "iteration": 155,
          "value": 0.11348318331708797,
          "variable": "val_valid_map"
         },
         {
          "iteration": 156,
          "value": 0.11311753932999444,
          "variable": "val_valid_map"
         },
         {
          "iteration": 157,
          "value": 0.11309935812425201,
          "variable": "val_valid_map"
         },
         {
          "iteration": 158,
          "value": 0.11362572034258289,
          "variable": "val_valid_map"
         },
         {
          "iteration": 159,
          "value": 0.11359625965200565,
          "variable": "val_valid_map"
         },
         {
          "iteration": 160,
          "value": 0.11309684123388009,
          "variable": "val_valid_map"
         },
         {
          "iteration": 161,
          "value": 0.11301349058735607,
          "variable": "val_valid_map"
         },
         {
          "iteration": 162,
          "value": 0.11299395141502552,
          "variable": "val_valid_map"
         },
         {
          "iteration": 163,
          "value": 0.1129984363558474,
          "variable": "val_valid_map"
         },
         {
          "iteration": 164,
          "value": 0.11299898284023323,
          "variable": "val_valid_map"
         },
         {
          "iteration": 165,
          "value": 0.11283277620977589,
          "variable": "val_valid_map"
         },
         {
          "iteration": 166,
          "value": 0.11348362851341956,
          "variable": "val_valid_map"
         },
         {
          "iteration": 167,
          "value": 0.11336936145498015,
          "variable": "val_valid_map"
         },
         {
          "iteration": 168,
          "value": 0.11320612280006664,
          "variable": "val_valid_map"
         },
         {
          "iteration": 169,
          "value": 0.11317600138160047,
          "variable": "val_valid_map"
         },
         {
          "iteration": 170,
          "value": 0.11317600138160046,
          "variable": "val_valid_map"
         },
         {
          "iteration": 171,
          "value": 0.11328076385169104,
          "variable": "val_valid_map"
         },
         {
          "iteration": 172,
          "value": 0.1135400023822322,
          "variable": "val_valid_map"
         },
         {
          "iteration": 173,
          "value": 0.1140695834407065,
          "variable": "val_valid_map"
         },
         {
          "iteration": 174,
          "value": 0.11403216574902829,
          "variable": "val_valid_map"
         },
         {
          "iteration": 175,
          "value": 0.11411378507648504,
          "variable": "val_valid_map"
         },
         {
          "iteration": 176,
          "value": 0.11421741688922558,
          "variable": "val_valid_map"
         },
         {
          "iteration": 177,
          "value": 0.11427046945207246,
          "variable": "val_valid_map"
         },
         {
          "iteration": 178,
          "value": 0.11399462085839819,
          "variable": "val_valid_map"
         },
         {
          "iteration": 179,
          "value": 0.11383412228090649,
          "variable": "val_valid_map"
         },
         {
          "iteration": 180,
          "value": 0.11383412228090649,
          "variable": "val_valid_map"
         },
         {
          "iteration": 181,
          "value": 0.11383004131453364,
          "variable": "val_valid_map"
         },
         {
          "iteration": 182,
          "value": 0.11382314430469834,
          "variable": "val_valid_map"
         },
         {
          "iteration": 183,
          "value": 0.11404192650193302,
          "variable": "val_valid_map"
         },
         {
          "iteration": 184,
          "value": 0.11371150955790199,
          "variable": "val_valid_map"
         },
         {
          "iteration": 185,
          "value": 0.11368406756180181,
          "variable": "val_valid_map"
         },
         {
          "iteration": 186,
          "value": 0.11364585487667433,
          "variable": "val_valid_map"
         },
         {
          "iteration": 187,
          "value": 0.11365751478059673,
          "variable": "val_valid_map"
         },
         {
          "iteration": 188,
          "value": 0.11367640735825522,
          "variable": "val_valid_map"
         },
         {
          "iteration": 189,
          "value": 0.11378529201660117,
          "variable": "val_valid_map"
         },
         {
          "iteration": 190,
          "value": 0.11372972374115044,
          "variable": "val_valid_map"
         },
         {
          "iteration": 191,
          "value": 0.11374651400279868,
          "variable": "val_valid_map"
         },
         {
          "iteration": 192,
          "value": 0.11394406457498196,
          "variable": "val_valid_map"
         },
         {
          "iteration": 193,
          "value": 0.11450703476944092,
          "variable": "val_valid_map"
         },
         {
          "iteration": 194,
          "value": 0.11461401379904483,
          "variable": "val_valid_map"
         },
         {
          "iteration": 195,
          "value": 0.11433227400946958,
          "variable": "val_valid_map"
         },
         {
          "iteration": 196,
          "value": 0.1144889407185359,
          "variable": "val_valid_map"
         },
         {
          "iteration": 197,
          "value": 0.11450946921604772,
          "variable": "val_valid_map"
         },
         {
          "iteration": 198,
          "value": 0.11444546871007856,
          "variable": "val_valid_map"
         },
         {
          "iteration": 199,
          "value": 0.11451776345140695,
          "variable": "val_valid_map"
         }
        ]
       },
       "hconcat": [
        {
         "data": {
          "name": "data-36ae6633c810eef1b3305087d7dfa6f3"
         },
         "encoding": {
          "color": {
           "field": "variable",
           "type": "nominal"
          },
          "x": {
           "field": "iteration",
           "type": "quantitative"
          },
          "y": {
           "field": "value",
           "scale": {
            "domain": [
             0.12,
             0.14
            ]
           },
           "type": "quantitative"
          }
         },
         "mark": "line",
         "selection": {
          "selector013": {
           "bind": "scales",
           "encodings": [
            "x",
            "y"
           ],
           "type": "interval"
          }
         },
         "title": "NDCG@12"
        },
        {
         "data": {
          "name": "data-8bc6338927aed3b7ea28b1627bd44b4e"
         },
         "encoding": {
          "color": {
           "field": "variable",
           "type": "nominal"
          },
          "x": {
           "field": "iteration",
           "type": "quantitative"
          },
          "y": {
           "field": "value",
           "scale": {
            "domain": [
             0.1,
             0.12
            ]
           },
           "type": "quantitative"
          }
         },
         "mark": "line",
         "selection": {
          "selector014": {
           "bind": "scales",
           "encodings": [
            "x",
            "y"
           ],
           "type": "interval"
          }
         },
         "title": "MAP@12"
        }
       ]
      },
      "image/png": "[encoded data removed]",
      "text/plain": [
       "<VegaLite 4 object>\n",
       "\n",
       "If you see this message, it means the renderer has not been properly enabled\n",
       "for the frontend that you are using. For more information, see\n",
       "https://altair-viz.github.io/user_guide/troubleshooting.html\n"
      ]
     },
     "execution_count": 1359,
     "metadata": {},
     "output_type": "execute_result"
    }
   ],
   "source": [
    "alt_ndcg = (\n",
    "    alt.Chart(\n",
    "        df_eval_results[lambda d: d[\"variable\"].isin([\"val_valid_ndcg\"])],\n",
    "        title=\"NDCG@12\",\n",
    "    )\n",
    "    .mark_line()\n",
    "    .encode(\n",
    "        x=\"iteration\",\n",
    "        y=alt.Y(\"value\", scale=alt.Scale(domain=(0.12, 0.14))),\n",
    "        color=\"variable\",\n",
    "    )\n",
    ").interactive()\n",
    "\n",
    "alt_map = (\n",
    "    alt.Chart(\n",
    "        df_eval_results[lambda d: d[\"variable\"].isin([\"val_valid_map\"])],\n",
    "        title=\"MAP@12\",\n",
    "    )\n",
    "    .mark_line()\n",
    "    .encode(\n",
    "        x=\"iteration\",\n",
    "        y=alt.Y(\"value\", scale=alt.Scale(domain=(0.10, 0.12))),\n",
    "        color=\"variable\",\n",
    "    )\n",
    ").interactive()\n",
    "\n",
    "alt_ndcg | alt_map"
   ]
  },
  {
   "cell_type": "code",
   "execution_count": 1343,
   "id": "535d9581-1eb6-484f-a0a1-a03aa3540438",
   "metadata": {},
   "outputs": [
    {
     "data": {
      "text/plain": [
       "<AxesSubplot:title={'center':'Feature importance'}, xlabel='Feature importance', ylabel='Features'>"
      ]
     },
     "execution_count": 1343,
     "metadata": {},
     "output_type": "execute_result"
    },
    {
     "data": {
      "image/png": "[encoded data removed]",
      "text/plain": [
       "<Figure size 360x720 with 1 Axes>"
      ]
     },
     "metadata": {
      "needs_background": "light"
     },
     "output_type": "display_data"
    }
   ],
   "source": [
    "lightgbm.plot_importance(model, figsize=(5, 10), height=0.5)"
   ]
  },
  {
   "cell_type": "markdown",
   "id": "8efd8837-dd91-4783-bbcf-229f7b8f4f96",
   "metadata": {},
   "source": [
    "## SHAP"
   ]
  },
  {
   "cell_type": "code",
   "execution_count": 1344,
   "id": "17bf15dd-7202-491e-a96e-a719ff7a0fa8",
   "metadata": {},
   "outputs": [],
   "source": [
    "explainer = shap.TreeExplainer(model)\n",
    "shap_values = explainer(X_val[features].sample(5000))"
   ]
  },
  {
   "cell_type": "code",
   "execution_count": 1345,
   "id": "11ad35cb-d8a8-482a-a474-3b43db6fffdc",
   "metadata": {},
   "outputs": [
    {
     "data": {
      "image/png": "[encoded data removed]",
      "text/plain": [
       "<Figure size 576x914.4 with 2 Axes>"
      ]
     },
     "metadata": {
      "needs_background": "light"
     },
     "output_type": "display_data"
    }
   ],
   "source": [
    "shap.plots.beeswarm(shap_values, max_display=30)"
   ]
  },
  {
   "cell_type": "markdown",
   "id": "12d73c96-efa4-41fd-b636-0d98919039bc",
   "metadata": {
    "tags": []
   },
   "source": [
    "## Write to MLFlow"
   ]
  },
  {
   "cell_type": "code",
   "execution_count": 1348,
   "id": "fd183537-68c2-466b-a9c1-8b60d0596e33",
   "metadata": {
    "tags": []
   },
   "outputs": [],
   "source": [
    "with mlflow.start_run():\n",
    "    mlflow.log_metric(\"train_map12\", model.best_score_[\"valid_0\"][\"map@12\"])\n",
    "    mlflow.log_metric(\"train_ndcg12\", model.best_score_[\"valid_0\"][\"ndcg@12\"])\n",
    "    mlflow.log_metric(\"val_map12\", model.best_score_[\"valid_1\"][\"map@12\"])\n",
    "    mlflow.log_metric(\"val_ndcg12\", model.best_score_[\"valid_1\"][\"ndcg@12\"])"
   ]
  },
  {
   "cell_type": "markdown",
   "id": "f36ec536-3e49-4a94-968e-d4237e48f9a8",
   "metadata": {},
   "source": [
    "## Cross Validation"
   ]
  },
  {
   "cell_type": "code",
   "execution_count": 1022,
   "id": "65167268-e96b-4a46-a1b2-809d9c245c74",
   "metadata": {},
   "outputs": [
    {
     "data": {
      "text/plain": [
       "<DateArray>\n",
       "[ datetime.date(2020, 4, 1),  datetime.date(2020, 4, 8),\n",
       " datetime.date(2020, 4, 15), datetime.date(2020, 4, 22),\n",
       " datetime.date(2020, 4, 29),  datetime.date(2020, 5, 6),\n",
       " datetime.date(2020, 5, 13), datetime.date(2020, 5, 20),\n",
       " datetime.date(2020, 5, 27),  datetime.date(2020, 6, 3),\n",
       " datetime.date(2020, 6, 10), datetime.date(2020, 6, 17),\n",
       " datetime.date(2020, 6, 24),  datetime.date(2020, 7, 1),\n",
       "  datetime.date(2020, 7, 8), datetime.date(2020, 7, 15),\n",
       " datetime.date(2020, 7, 22), datetime.date(2020, 7, 29),\n",
       "  datetime.date(2020, 8, 5), datetime.date(2020, 8, 12),\n",
       " datetime.date(2020, 8, 19), datetime.date(2020, 8, 26),\n",
       "  datetime.date(2020, 9, 2),  datetime.date(2020, 9, 9)]\n",
       "Length: 24, dtype: dbdate"
      ]
     },
     "execution_count": 1022,
     "metadata": {},
     "output_type": "execute_result"
    }
   ],
   "source": [
    "obs_dates = df_train[\"obs_dat\"].sort_values().unique()\n",
    "obs_dates"
   ]
  },
  {
   "cell_type": "code",
   "execution_count": 1017,
   "id": "d7b5b307-6d34-4fe7-a4d7-7a49acf5bb64",
   "metadata": {},
   "outputs": [
    {
     "data": {
      "text/plain": [
       "(24,)"
      ]
     },
     "execution_count": 1017,
     "metadata": {},
     "output_type": "execute_result"
    }
   ],
   "source": [
    "obs_dates.shape"
   ]
  },
  {
   "cell_type": "code",
   "execution_count": 1049,
   "id": "40b07a6f-723c-4f4f-a022-cf50c3bfc870",
   "metadata": {},
   "outputs": [],
   "source": [
    "tscv = TimeSeriesSplit(5)"
   ]
  },
  {
   "cell_type": "code",
   "execution_count": 1050,
   "id": "6badb53a-aff5-437c-8ac8-a781be0a9bd3",
   "metadata": {},
   "outputs": [
    {
     "name": "stdout",
     "output_type": "stream",
     "text": [
      "(120345, 22)\n",
      "(212252, 22)\n",
      "(319910, 22)\n",
      "(412757, 22)\n",
      "(472965, 22)\n"
     ]
    }
   ],
   "source": [
    "for train_index, test_index in tscv.split(obs_dates):\n",
    "    train = df_train[df_train[\"obs_dat\"].isin(obs_dates[train_index])]\n",
    "    print(train.shape)\n",
    "    test = df_train[df_train[\"obs_dat\"].isin(obs_dates[test_index])]"
   ]
  },
  {
   "cell_type": "code",
   "execution_count": 1006,
   "id": "9838fe38-faf9-44db-9e19-1b136e3d1462",
   "metadata": {},
   "outputs": [
    {
     "data": {
      "text/html": [
       "<div>\n",
       "<style scoped>\n",
       "    .dataframe tbody tr th:only-of-type {\n",
       "        vertical-align: middle;\n",
       "    }\n",
       "\n",
       "    .dataframe tbody tr th {\n",
       "        vertical-align: top;\n",
       "    }\n",
       "\n",
       "    .dataframe thead th {\n",
       "        text-align: right;\n",
       "    }\n",
       "</style>\n",
       "<table border=\"1\" class=\"dataframe\">\n",
       "  <thead>\n",
       "    <tr style=\"text-align: right;\">\n",
       "      <th></th>\n",
       "      <th>obs_dat</th>\n",
       "      <th>customer_short_id</th>\n",
       "      <th>article_id</th>\n",
       "      <th>relevance</th>\n",
       "      <th>article_similarity_score</th>\n",
       "      <th>article_sales_score</th>\n",
       "      <th>prev_purchases_score</th>\n",
       "      <th>article_department_sales_score</th>\n",
       "      <th>feat_customer_age</th>\n",
       "      <th>feat_customer_price_affinity</th>\n",
       "      <th>...</th>\n",
       "      <th>feat_article_stdev_price</th>\n",
       "      <th>feat_article_num_sales</th>\n",
       "      <th>feat_article_num_distinct_customers</th>\n",
       "      <th>feat_article_average_age</th>\n",
       "      <th>feat_article_stdev_age</th>\n",
       "      <th>feat_article_colour_group_code</th>\n",
       "      <th>feat_article_perceived_colour_value_id</th>\n",
       "      <th>feat_article_section_no</th>\n",
       "      <th>feat_article_index_code</th>\n",
       "      <th>feat_article_garment_group_no</th>\n",
       "    </tr>\n",
       "  </thead>\n",
       "  <tbody>\n",
       "    <tr>\n",
       "      <th>0</th>\n",
       "      <td>2020-04-01</td>\n",
       "      <td>193594</td>\n",
       "      <td>848422001</td>\n",
       "      <td>0</td>\n",
       "      <td>0.80</td>\n",
       "      <td>3.00</td>\n",
       "      <td>-1.00</td>\n",
       "      <td>-1.00</td>\n",
       "      <td>24.00</td>\n",
       "      <td>0.03</td>\n",
       "      <td>...</td>\n",
       "      <td>0.01</td>\n",
       "      <td>3</td>\n",
       "      <td>2</td>\n",
       "      <td>35.67</td>\n",
       "      <td>9.81</td>\n",
       "      <td>9</td>\n",
       "      <td>4</td>\n",
       "      <td>15</td>\n",
       "      <td>A</td>\n",
       "      <td>1005</td>\n",
       "    </tr>\n",
       "    <tr>\n",
       "      <th>1</th>\n",
       "      <td>2020-04-01</td>\n",
       "      <td>193594</td>\n",
       "      <td>835704003</td>\n",
       "      <td>0</td>\n",
       "      <td>0.59</td>\n",
       "      <td>3.00</td>\n",
       "      <td>-1.00</td>\n",
       "      <td>-1.00</td>\n",
       "      <td>24.00</td>\n",
       "      <td>0.03</td>\n",
       "      <td>...</td>\n",
       "      <td>0.00</td>\n",
       "      <td>3</td>\n",
       "      <td>2</td>\n",
       "      <td>28.67</td>\n",
       "      <td>2.89</td>\n",
       "      <td>93</td>\n",
       "      <td>2</td>\n",
       "      <td>61</td>\n",
       "      <td>B</td>\n",
       "      <td>1017</td>\n",
       "    </tr>\n",
       "    <tr>\n",
       "      <th>2</th>\n",
       "      <td>2020-04-01</td>\n",
       "      <td>193594</td>\n",
       "      <td>218829002</td>\n",
       "      <td>0</td>\n",
       "      <td>-1.00</td>\n",
       "      <td>-1.00</td>\n",
       "      <td>1.00</td>\n",
       "      <td>-1.00</td>\n",
       "      <td>24.00</td>\n",
       "      <td>0.03</td>\n",
       "      <td>...</td>\n",
       "      <td>0.00</td>\n",
       "      <td>42</td>\n",
       "      <td>39</td>\n",
       "      <td>33.71</td>\n",
       "      <td>12.42</td>\n",
       "      <td>9</td>\n",
       "      <td>4</td>\n",
       "      <td>65</td>\n",
       "      <td>C</td>\n",
       "      <td>1019</td>\n",
       "    </tr>\n",
       "    <tr>\n",
       "      <th>3</th>\n",
       "      <td>2020-04-01</td>\n",
       "      <td>193594</td>\n",
       "      <td>752689002</td>\n",
       "      <td>0</td>\n",
       "      <td>0.36</td>\n",
       "      <td>5.00</td>\n",
       "      <td>-1.00</td>\n",
       "      <td>-1.00</td>\n",
       "      <td>24.00</td>\n",
       "      <td>0.03</td>\n",
       "      <td>...</td>\n",
       "      <td>0.00</td>\n",
       "      <td>36</td>\n",
       "      <td>29</td>\n",
       "      <td>35.17</td>\n",
       "      <td>12.70</td>\n",
       "      <td>9</td>\n",
       "      <td>4</td>\n",
       "      <td>51</td>\n",
       "      <td>D</td>\n",
       "      <td>1017</td>\n",
       "    </tr>\n",
       "    <tr>\n",
       "      <th>4</th>\n",
       "      <td>2020-04-01</td>\n",
       "      <td>193594</td>\n",
       "      <td>706016019</td>\n",
       "      <td>0</td>\n",
       "      <td>0.64</td>\n",
       "      <td>12.00</td>\n",
       "      <td>-1.00</td>\n",
       "      <td>-1.00</td>\n",
       "      <td>24.00</td>\n",
       "      <td>0.03</td>\n",
       "      <td>...</td>\n",
       "      <td>0.00</td>\n",
       "      <td>95</td>\n",
       "      <td>74</td>\n",
       "      <td>35.29</td>\n",
       "      <td>11.91</td>\n",
       "      <td>73</td>\n",
       "      <td>4</td>\n",
       "      <td>53</td>\n",
       "      <td>D</td>\n",
       "      <td>1009</td>\n",
       "    </tr>\n",
       "    <tr>\n",
       "      <th>...</th>\n",
       "      <td>...</td>\n",
       "      <td>...</td>\n",
       "      <td>...</td>\n",
       "      <td>...</td>\n",
       "      <td>...</td>\n",
       "      <td>...</td>\n",
       "      <td>...</td>\n",
       "      <td>...</td>\n",
       "      <td>...</td>\n",
       "      <td>...</td>\n",
       "      <td>...</td>\n",
       "      <td>...</td>\n",
       "      <td>...</td>\n",
       "      <td>...</td>\n",
       "      <td>...</td>\n",
       "      <td>...</td>\n",
       "      <td>...</td>\n",
       "      <td>...</td>\n",
       "      <td>...</td>\n",
       "      <td>...</td>\n",
       "      <td>...</td>\n",
       "    </tr>\n",
       "    <tr>\n",
       "      <th>515511</th>\n",
       "      <td>2020-09-09</td>\n",
       "      <td>348022</td>\n",
       "      <td>720125001</td>\n",
       "      <td>0</td>\n",
       "      <td>0.49</td>\n",
       "      <td>3.00</td>\n",
       "      <td>-1.00</td>\n",
       "      <td>-1.00</td>\n",
       "      <td>32.00</td>\n",
       "      <td>0.04</td>\n",
       "      <td>...</td>\n",
       "      <td>0.00</td>\n",
       "      <td>417</td>\n",
       "      <td>360</td>\n",
       "      <td>33.37</td>\n",
       "      <td>12.90</td>\n",
       "      <td>9</td>\n",
       "      <td>4</td>\n",
       "      <td>5</td>\n",
       "      <td>S</td>\n",
       "      <td>1005</td>\n",
       "    </tr>\n",
       "    <tr>\n",
       "      <th>515512</th>\n",
       "      <td>2020-09-09</td>\n",
       "      <td>348022</td>\n",
       "      <td>718278001</td>\n",
       "      <td>0</td>\n",
       "      <td>0.52</td>\n",
       "      <td>7.00</td>\n",
       "      <td>-1.00</td>\n",
       "      <td>-1.00</td>\n",
       "      <td>32.00</td>\n",
       "      <td>0.04</td>\n",
       "      <td>...</td>\n",
       "      <td>0.00</td>\n",
       "      <td>142</td>\n",
       "      <td>119</td>\n",
       "      <td>34.99</td>\n",
       "      <td>13.66</td>\n",
       "      <td>9</td>\n",
       "      <td>4</td>\n",
       "      <td>51</td>\n",
       "      <td>D</td>\n",
       "      <td>1002</td>\n",
       "    </tr>\n",
       "    <tr>\n",
       "      <th>515513</th>\n",
       "      <td>2020-09-09</td>\n",
       "      <td>348022</td>\n",
       "      <td>833530002</td>\n",
       "      <td>0</td>\n",
       "      <td>0.93</td>\n",
       "      <td>6.00</td>\n",
       "      <td>-1.00</td>\n",
       "      <td>-1.00</td>\n",
       "      <td>32.00</td>\n",
       "      <td>0.04</td>\n",
       "      <td>...</td>\n",
       "      <td>0.00</td>\n",
       "      <td>87</td>\n",
       "      <td>71</td>\n",
       "      <td>31.41</td>\n",
       "      <td>11.65</td>\n",
       "      <td>73</td>\n",
       "      <td>4</td>\n",
       "      <td>60</td>\n",
       "      <td>B</td>\n",
       "      <td>1018</td>\n",
       "    </tr>\n",
       "    <tr>\n",
       "      <th>515514</th>\n",
       "      <td>2020-09-09</td>\n",
       "      <td>348022</td>\n",
       "      <td>841383003</td>\n",
       "      <td>0</td>\n",
       "      <td>0.46</td>\n",
       "      <td>15.00</td>\n",
       "      <td>-1.00</td>\n",
       "      <td>-1.00</td>\n",
       "      <td>32.00</td>\n",
       "      <td>0.04</td>\n",
       "      <td>...</td>\n",
       "      <td>0.00</td>\n",
       "      <td>167</td>\n",
       "      <td>117</td>\n",
       "      <td>39.41</td>\n",
       "      <td>12.71</td>\n",
       "      <td>10</td>\n",
       "      <td>3</td>\n",
       "      <td>16</td>\n",
       "      <td>A</td>\n",
       "      <td>1002</td>\n",
       "    </tr>\n",
       "    <tr>\n",
       "      <th>515515</th>\n",
       "      <td>2020-09-09</td>\n",
       "      <td>348022</td>\n",
       "      <td>832036003</td>\n",
       "      <td>0</td>\n",
       "      <td>0.83</td>\n",
       "      <td>6.00</td>\n",
       "      <td>-1.00</td>\n",
       "      <td>-1.00</td>\n",
       "      <td>32.00</td>\n",
       "      <td>0.04</td>\n",
       "      <td>...</td>\n",
       "      <td>0.00</td>\n",
       "      <td>25</td>\n",
       "      <td>24</td>\n",
       "      <td>33.72</td>\n",
       "      <td>14.72</td>\n",
       "      <td>51</td>\n",
       "      <td>1</td>\n",
       "      <td>61</td>\n",
       "      <td>B</td>\n",
       "      <td>1017</td>\n",
       "    </tr>\n",
       "  </tbody>\n",
       "</table>\n",
       "<p>515516 rows × 22 columns</p>\n",
       "</div>"
      ],
      "text/plain": [
       "           obs_dat  customer_short_id  article_id  relevance  \\\n",
       "0       2020-04-01             193594   848422001          0   \n",
       "1       2020-04-01             193594   835704003          0   \n",
       "2       2020-04-01             193594   218829002          0   \n",
       "3       2020-04-01             193594   752689002          0   \n",
       "4       2020-04-01             193594   706016019          0   \n",
       "...            ...                ...         ...        ...   \n",
       "515511  2020-09-09             348022   720125001          0   \n",
       "515512  2020-09-09             348022   718278001          0   \n",
       "515513  2020-09-09             348022   833530002          0   \n",
       "515514  2020-09-09             348022   841383003          0   \n",
       "515515  2020-09-09             348022   832036003          0   \n",
       "\n",
       "        article_similarity_score  article_sales_score  prev_purchases_score  \\\n",
       "0                           0.80                 3.00                 -1.00   \n",
       "1                           0.59                 3.00                 -1.00   \n",
       "2                          -1.00                -1.00                  1.00   \n",
       "3                           0.36                 5.00                 -1.00   \n",
       "4                           0.64                12.00                 -1.00   \n",
       "...                          ...                  ...                   ...   \n",
       "515511                      0.49                 3.00                 -1.00   \n",
       "515512                      0.52                 7.00                 -1.00   \n",
       "515513                      0.93                 6.00                 -1.00   \n",
       "515514                      0.46                15.00                 -1.00   \n",
       "515515                      0.83                 6.00                 -1.00   \n",
       "\n",
       "        article_department_sales_score  feat_customer_age  \\\n",
       "0                                -1.00              24.00   \n",
       "1                                -1.00              24.00   \n",
       "2                                -1.00              24.00   \n",
       "3                                -1.00              24.00   \n",
       "4                                -1.00              24.00   \n",
       "...                                ...                ...   \n",
       "515511                           -1.00              32.00   \n",
       "515512                           -1.00              32.00   \n",
       "515513                           -1.00              32.00   \n",
       "515514                           -1.00              32.00   \n",
       "515515                           -1.00              32.00   \n",
       "\n",
       "        feat_customer_price_affinity  ...  feat_article_stdev_price  \\\n",
       "0                               0.03  ...                      0.01   \n",
       "1                               0.03  ...                      0.00   \n",
       "2                               0.03  ...                      0.00   \n",
       "3                               0.03  ...                      0.00   \n",
       "4                               0.03  ...                      0.00   \n",
       "...                              ...  ...                       ...   \n",
       "515511                          0.04  ...                      0.00   \n",
       "515512                          0.04  ...                      0.00   \n",
       "515513                          0.04  ...                      0.00   \n",
       "515514                          0.04  ...                      0.00   \n",
       "515515                          0.04  ...                      0.00   \n",
       "\n",
       "        feat_article_num_sales  feat_article_num_distinct_customers  \\\n",
       "0                            3                                    2   \n",
       "1                            3                                    2   \n",
       "2                           42                                   39   \n",
       "3                           36                                   29   \n",
       "4                           95                                   74   \n",
       "...                        ...                                  ...   \n",
       "515511                     417                                  360   \n",
       "515512                     142                                  119   \n",
       "515513                      87                                   71   \n",
       "515514                     167                                  117   \n",
       "515515                      25                                   24   \n",
       "\n",
       "        feat_article_average_age  feat_article_stdev_age  \\\n",
       "0                          35.67                    9.81   \n",
       "1                          28.67                    2.89   \n",
       "2                          33.71                   12.42   \n",
       "3                          35.17                   12.70   \n",
       "4                          35.29                   11.91   \n",
       "...                          ...                     ...   \n",
       "515511                     33.37                   12.90   \n",
       "515512                     34.99                   13.66   \n",
       "515513                     31.41                   11.65   \n",
       "515514                     39.41                   12.71   \n",
       "515515                     33.72                   14.72   \n",
       "\n",
       "        feat_article_colour_group_code  \\\n",
       "0                                    9   \n",
       "1                                   93   \n",
       "2                                    9   \n",
       "3                                    9   \n",
       "4                                   73   \n",
       "...                                ...   \n",
       "515511                               9   \n",
       "515512                               9   \n",
       "515513                              73   \n",
       "515514                              10   \n",
       "515515                              51   \n",
       "\n",
       "        feat_article_perceived_colour_value_id  feat_article_section_no  \\\n",
       "0                                            4                       15   \n",
       "1                                            2                       61   \n",
       "2                                            4                       65   \n",
       "3                                            4                       51   \n",
       "4                                            4                       53   \n",
       "...                                        ...                      ...   \n",
       "515511                                       4                        5   \n",
       "515512                                       4                       51   \n",
       "515513                                       4                       60   \n",
       "515514                                       3                       16   \n",
       "515515                                       1                       61   \n",
       "\n",
       "        feat_article_index_code  feat_article_garment_group_no  \n",
       "0                             A                           1005  \n",
       "1                             B                           1017  \n",
       "2                             C                           1019  \n",
       "3                             D                           1017  \n",
       "4                             D                           1009  \n",
       "...                         ...                            ...  \n",
       "515511                        S                           1005  \n",
       "515512                        D                           1002  \n",
       "515513                        B                           1018  \n",
       "515514                        A                           1002  \n",
       "515515                        B                           1017  \n",
       "\n",
       "[515516 rows x 22 columns]"
      ]
     },
     "execution_count": 1006,
     "metadata": {},
     "output_type": "execute_result"
    }
   ],
   "source": [
    "df_train"
   ]
  },
  {
   "cell_type": "code",
   "execution_count": null,
   "id": "60056085-77c1-4777-bcbe-1a2b8e070a63",
   "metadata": {},
   "outputs": [],
   "source": []
  }
 ],
 "metadata": {
  "kernelspec": {
   "display_name": "Python 3 (ipykernel)",
   "language": "python",
   "name": "python3"
  },
  "language_info": {
   "codemirror_mode": {
    "name": "ipython",
    "version": 3
   },
   "file_extension": ".py",
   "mimetype": "text/x-python",
   "name": "python",
   "nbconvert_exporter": "python",
   "pygments_lexer": "ipython3",
   "version": "3.9.7"
  }
 },
 "nbformat": 4,
 "nbformat_minor": 5
}
