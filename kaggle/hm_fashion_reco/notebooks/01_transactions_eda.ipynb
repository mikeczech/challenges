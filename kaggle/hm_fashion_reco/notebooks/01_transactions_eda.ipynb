{
 "cells": [
  {
   "cell_type": "code",
   "execution_count": 1,
   "id": "806dc5d5-41ae-4487-8e52-ba392ad3cb0e",
   "metadata": {},
   "outputs": [],
   "source": [
    "%load_ext lab_black"
   ]
  },
  {
   "cell_type": "code",
   "execution_count": 2,
   "id": "b05984df-2d5f-48df-b7f1-c08b538f1ec9",
   "metadata": {},
   "outputs": [],
   "source": [
    "import pandas as pd\n",
    "import altair as alt\n",
    "\n",
    "import matplotlib.pyplot as plt"
   ]
  },
  {
   "cell_type": "code",
   "execution_count": 3,
   "id": "bd66e6e1-c749-4dee-b6d4-5908888f6bee",
   "metadata": {},
   "outputs": [],
   "source": [
    "%matplotlib inline\n",
    "%config InlineBackend.figure_format='retina'"
   ]
  },
  {
   "cell_type": "code",
   "execution_count": 4,
   "id": "ccf1c0d6-ebe8-4ef5-9aa5-92ecb5844438",
   "metadata": {},
   "outputs": [],
   "source": [
    "pd.options.display.float_format = \"{:.2f}\".format"
   ]
  },
  {
   "cell_type": "code",
   "execution_count": 5,
   "id": "22692a57-3a27-418f-9732-9d359e51a49c",
   "metadata": {},
   "outputs": [
    {
     "data": {
      "text/plain": [
       "RendererRegistry.enable('mimetype')"
      ]
     },
     "execution_count": 5,
     "metadata": {},
     "output_type": "execute_result"
    }
   ],
   "source": [
    "alt.renderers.enable(\"mimetype\")"
   ]
  },
  {
   "cell_type": "markdown",
   "id": "6edfdf76-c3c6-45cb-ae94-addb07b8719c",
   "metadata": {},
   "source": [
    "# Explore Transactions Data"
   ]
  },
  {
   "cell_type": "code",
   "execution_count": 10,
   "id": "608d1370-c972-4d62-8e46-d3a6107321c8",
   "metadata": {},
   "outputs": [],
   "source": [
    "df = pd.read_csv(\"../data/transactions_train.csv\").assign(\n",
    "    t_dat=lambda d: pd.to_datetime(d[\"t_dat\"])\n",
    ")"
   ]
  },
  {
   "cell_type": "code",
   "execution_count": 57,
   "id": "60273539-cf04-4e25-8183-e356ad135f5e",
   "metadata": {},
   "outputs": [
    {
     "data": {
      "text/html": [
       "<div>\n",
       "<style scoped>\n",
       "    .dataframe tbody tr th:only-of-type {\n",
       "        vertical-align: middle;\n",
       "    }\n",
       "\n",
       "    .dataframe tbody tr th {\n",
       "        vertical-align: top;\n",
       "    }\n",
       "\n",
       "    .dataframe thead th {\n",
       "        text-align: right;\n",
       "    }\n",
       "</style>\n",
       "<table border=\"1\" class=\"dataframe\">\n",
       "  <thead>\n",
       "    <tr style=\"text-align: right;\">\n",
       "      <th></th>\n",
       "      <th>t_dat</th>\n",
       "      <th>customer_id</th>\n",
       "      <th>article_id</th>\n",
       "      <th>price</th>\n",
       "      <th>sales_channel_id</th>\n",
       "    </tr>\n",
       "  </thead>\n",
       "  <tbody>\n",
       "    <tr>\n",
       "      <th>0</th>\n",
       "      <td>2018-09-20</td>\n",
       "      <td>000058a12d5b43e67d225668fa1f8d618c13dc232df0ca...</td>\n",
       "      <td>663713001</td>\n",
       "      <td>0.05</td>\n",
       "      <td>2</td>\n",
       "    </tr>\n",
       "    <tr>\n",
       "      <th>1</th>\n",
       "      <td>2018-09-20</td>\n",
       "      <td>000058a12d5b43e67d225668fa1f8d618c13dc232df0ca...</td>\n",
       "      <td>541518023</td>\n",
       "      <td>0.03</td>\n",
       "      <td>2</td>\n",
       "    </tr>\n",
       "    <tr>\n",
       "      <th>2</th>\n",
       "      <td>2018-09-20</td>\n",
       "      <td>00007d2de826758b65a93dd24ce629ed66842531df6699...</td>\n",
       "      <td>505221004</td>\n",
       "      <td>0.02</td>\n",
       "      <td>2</td>\n",
       "    </tr>\n",
       "    <tr>\n",
       "      <th>3</th>\n",
       "      <td>2018-09-20</td>\n",
       "      <td>00007d2de826758b65a93dd24ce629ed66842531df6699...</td>\n",
       "      <td>685687003</td>\n",
       "      <td>0.02</td>\n",
       "      <td>2</td>\n",
       "    </tr>\n",
       "    <tr>\n",
       "      <th>4</th>\n",
       "      <td>2018-09-20</td>\n",
       "      <td>00007d2de826758b65a93dd24ce629ed66842531df6699...</td>\n",
       "      <td>685687004</td>\n",
       "      <td>0.02</td>\n",
       "      <td>2</td>\n",
       "    </tr>\n",
       "    <tr>\n",
       "      <th>...</th>\n",
       "      <td>...</td>\n",
       "      <td>...</td>\n",
       "      <td>...</td>\n",
       "      <td>...</td>\n",
       "      <td>...</td>\n",
       "    </tr>\n",
       "    <tr>\n",
       "      <th>31788319</th>\n",
       "      <td>2020-09-22</td>\n",
       "      <td>fff2282977442e327b45d8c89afde25617d00124d0f999...</td>\n",
       "      <td>929511001</td>\n",
       "      <td>0.06</td>\n",
       "      <td>2</td>\n",
       "    </tr>\n",
       "    <tr>\n",
       "      <th>31788320</th>\n",
       "      <td>2020-09-22</td>\n",
       "      <td>fff2282977442e327b45d8c89afde25617d00124d0f999...</td>\n",
       "      <td>891322004</td>\n",
       "      <td>0.04</td>\n",
       "      <td>2</td>\n",
       "    </tr>\n",
       "    <tr>\n",
       "      <th>31788321</th>\n",
       "      <td>2020-09-22</td>\n",
       "      <td>fff380805474b287b05cb2a7507b9a013482f7dd0bce0e...</td>\n",
       "      <td>918325001</td>\n",
       "      <td>0.04</td>\n",
       "      <td>1</td>\n",
       "    </tr>\n",
       "    <tr>\n",
       "      <th>31788322</th>\n",
       "      <td>2020-09-22</td>\n",
       "      <td>fff4d3a8b1f3b60af93e78c30a7cb4cf75edaf2590d3e5...</td>\n",
       "      <td>833459002</td>\n",
       "      <td>0.01</td>\n",
       "      <td>1</td>\n",
       "    </tr>\n",
       "    <tr>\n",
       "      <th>31788323</th>\n",
       "      <td>2020-09-22</td>\n",
       "      <td>fffef3b6b73545df065b521e19f64bf6fe93bfd450ab20...</td>\n",
       "      <td>898573003</td>\n",
       "      <td>0.03</td>\n",
       "      <td>2</td>\n",
       "    </tr>\n",
       "  </tbody>\n",
       "</table>\n",
       "<p>31788324 rows × 5 columns</p>\n",
       "</div>"
      ],
      "text/plain": [
       "              t_dat                                        customer_id  \\\n",
       "0        2018-09-20  000058a12d5b43e67d225668fa1f8d618c13dc232df0ca...   \n",
       "1        2018-09-20  000058a12d5b43e67d225668fa1f8d618c13dc232df0ca...   \n",
       "2        2018-09-20  00007d2de826758b65a93dd24ce629ed66842531df6699...   \n",
       "3        2018-09-20  00007d2de826758b65a93dd24ce629ed66842531df6699...   \n",
       "4        2018-09-20  00007d2de826758b65a93dd24ce629ed66842531df6699...   \n",
       "...             ...                                                ...   \n",
       "31788319 2020-09-22  fff2282977442e327b45d8c89afde25617d00124d0f999...   \n",
       "31788320 2020-09-22  fff2282977442e327b45d8c89afde25617d00124d0f999...   \n",
       "31788321 2020-09-22  fff380805474b287b05cb2a7507b9a013482f7dd0bce0e...   \n",
       "31788322 2020-09-22  fff4d3a8b1f3b60af93e78c30a7cb4cf75edaf2590d3e5...   \n",
       "31788323 2020-09-22  fffef3b6b73545df065b521e19f64bf6fe93bfd450ab20...   \n",
       "\n",
       "          article_id  price  sales_channel_id  \n",
       "0          663713001   0.05                 2  \n",
       "1          541518023   0.03                 2  \n",
       "2          505221004   0.02                 2  \n",
       "3          685687003   0.02                 2  \n",
       "4          685687004   0.02                 2  \n",
       "...              ...    ...               ...  \n",
       "31788319   929511001   0.06                 2  \n",
       "31788320   891322004   0.04                 2  \n",
       "31788321   918325001   0.04                 1  \n",
       "31788322   833459002   0.01                 1  \n",
       "31788323   898573003   0.03                 2  \n",
       "\n",
       "[31788324 rows x 5 columns]"
      ]
     },
     "execution_count": 57,
     "metadata": {},
     "output_type": "execute_result"
    }
   ],
   "source": [
    "df"
   ]
  },
  {
   "cell_type": "code",
   "execution_count": 75,
   "id": "12ff0995-8d55-4d5d-adf5-be0755aa9911",
   "metadata": {},
   "outputs": [
    {
     "data": {
      "text/plain": [
       "734"
      ]
     },
     "execution_count": 75,
     "metadata": {},
     "output_type": "execute_result"
    }
   ],
   "source": [
    "df[\"t_dat\"].nunique()"
   ]
  },
  {
   "cell_type": "code",
   "execution_count": 12,
   "id": "79a7a67f-73c2-41a5-abf2-4756c2bbd918",
   "metadata": {},
   "outputs": [
    {
     "data": {
      "text/plain": [
       "t_dat               datetime64[ns]\n",
       "customer_id                 object\n",
       "article_id                   int64\n",
       "price                      float64\n",
       "sales_channel_id             int64\n",
       "dtype: object"
      ]
     },
     "execution_count": 12,
     "metadata": {},
     "output_type": "execute_result"
    }
   ],
   "source": [
    "df.dtypes"
   ]
  },
  {
   "cell_type": "code",
   "execution_count": 35,
   "id": "7e6566d9-40bb-4302-8af1-eed286a2577b",
   "metadata": {},
   "outputs": [
    {
     "data": {
      "text/plain": [
       "t_dat              0.00\n",
       "customer_id        0.00\n",
       "article_id         0.00\n",
       "price              0.00\n",
       "sales_channel_id   0.00\n",
       "dtype: float64"
      ]
     },
     "execution_count": 35,
     "metadata": {},
     "output_type": "execute_result"
    }
   ],
   "source": [
    "df.isna().mean()"
   ]
  },
  {
   "cell_type": "code",
   "execution_count": 42,
   "id": "8df5bd8a-cd04-4814-a8ce-5b728855c014",
   "metadata": {},
   "outputs": [
    {
     "data": {
      "text/plain": [
       "1362281"
      ]
     },
     "execution_count": 42,
     "metadata": {},
     "output_type": "execute_result"
    }
   ],
   "source": [
    "df[\"customer_id\"].nunique()"
   ]
  },
  {
   "cell_type": "markdown",
   "id": "3cbd5816-3be5-438a-a71e-e1417d7d4408",
   "metadata": {},
   "source": [
    "## Price"
   ]
  },
  {
   "cell_type": "code",
   "execution_count": 34,
   "id": "04c31aef-c13a-4464-a848-b1e999b35f20",
   "metadata": {},
   "outputs": [
    {
     "data": {
      "text/plain": [
       "<AxesSubplot:ylabel='Frequency'>"
      ]
     },
     "execution_count": 34,
     "metadata": {},
     "output_type": "execute_result"
    },
    {
     "data": {
      "image/png": "[encoded data removed]",
      "text/plain": [
       "<Figure size 432x288 with 1 Axes>"
      ]
     },
     "metadata": {
      "image/png": {
       "height": 258,
       "width": 385
      },
      "needs_background": "light"
     },
     "output_type": "display_data"
    }
   ],
   "source": [
    "df[\"price\"].plot.hist(bins=50)"
   ]
  },
  {
   "cell_type": "code",
   "execution_count": 37,
   "id": "b541336f-2496-4dfd-b9c5-d476c6054bbb",
   "metadata": {},
   "outputs": [
    {
     "data": {
      "text/html": [
       "<div>\n",
       "<style scoped>\n",
       "    .dataframe tbody tr th:only-of-type {\n",
       "        vertical-align: middle;\n",
       "    }\n",
       "\n",
       "    .dataframe tbody tr th {\n",
       "        vertical-align: top;\n",
       "    }\n",
       "\n",
       "    .dataframe thead th {\n",
       "        text-align: right;\n",
       "    }\n",
       "</style>\n",
       "<table border=\"1\" class=\"dataframe\">\n",
       "  <thead>\n",
       "    <tr style=\"text-align: right;\">\n",
       "      <th></th>\n",
       "      <th>t_dat</th>\n",
       "      <th>customer_id</th>\n",
       "      <th>article_id</th>\n",
       "      <th>price</th>\n",
       "      <th>sales_channel_id</th>\n",
       "    </tr>\n",
       "  </thead>\n",
       "  <tbody>\n",
       "  </tbody>\n",
       "</table>\n",
       "</div>"
      ],
      "text/plain": [
       "Empty DataFrame\n",
       "Columns: [t_dat, customer_id, article_id, price, sales_channel_id]\n",
       "Index: []"
      ]
     },
     "execution_count": 37,
     "metadata": {},
     "output_type": "execute_result"
    }
   ],
   "source": [
    "df[df[\"price\"] <= 0.0]"
   ]
  },
  {
   "cell_type": "markdown",
   "id": "19014191-a8d7-4100-ac82-d072ea8a6464",
   "metadata": {},
   "source": [
    "## Sales Channel"
   ]
  },
  {
   "cell_type": "code",
   "execution_count": 41,
   "id": "4af36633-7b7e-4376-9eff-cd95cfae9d21",
   "metadata": {},
   "outputs": [
    {
     "data": {
      "text/plain": [
       "<AxesSubplot:>"
      ]
     },
     "execution_count": 41,
     "metadata": {},
     "output_type": "execute_result"
    },
    {
     "data": {
      "image/png": "[encoded data removed]",
      "text/plain": [
       "<Figure size 432x288 with 1 Axes>"
      ]
     },
     "metadata": {
      "image/png": {
       "height": 255,
       "width": 372
      },
      "needs_background": "light"
     },
     "output_type": "display_data"
    }
   ],
   "source": [
    "df[\"sales_channel_id\"].value_counts().plot.bar()"
   ]
  },
  {
   "cell_type": "markdown",
   "id": "e3cab88a-669d-47c0-bc00-d14d12e8116c",
   "metadata": {},
   "source": [
    "## Number of Sales / Unique Customers / Revenue over Time"
   ]
  },
  {
   "cell_type": "code",
   "execution_count": 16,
   "id": "6d3151ea-34b5-4162-8620-4e7326afa6ba",
   "metadata": {},
   "outputs": [
    {
     "data": {
      "text/plain": [
       "min   2018-09-20\n",
       "max   2020-09-22\n",
       "Name: t_dat, dtype: datetime64[ns]"
      ]
     },
     "execution_count": 16,
     "metadata": {},
     "output_type": "execute_result"
    }
   ],
   "source": [
    "df[\"t_dat\"].agg([\"min\", \"max\"])"
   ]
  },
  {
   "cell_type": "code",
   "execution_count": 72,
   "id": "0b72379f-cb72-4afe-b8d3-5a064c9719c9",
   "metadata": {},
   "outputs": [],
   "source": [
    "df_sales = (\n",
    "    df.groupby(\"t_dat\")\n",
    "    .agg(\n",
    "        num_sales=(\"article_id\", \"count\"),\n",
    "        num_unique_customers=(\"customer_id\", \"nunique\"),\n",
    "        num_unique_articles=(\"article_id\", \"nunique\"),\n",
    "        revenue=(\"price\", \"sum\"),\n",
    "    )\n",
    "    .reset_index()\n",
    ")"
   ]
  },
  {
   "cell_type": "code",
   "execution_count": 31,
   "id": "b48cb91e-3c95-41ef-bc79-d922385febd9",
   "metadata": {},
   "outputs": [
    {
     "data": {
      "application/vnd.vegalite.v4+json": {
       "$schema": "https://vega.github.io/schema/vega-lite/v4.17.0.json",
       "config": {
        "view": {
         "continuousHeight": 300,
         "continuousWidth": 400
        }
       },
       "data": {
        "name": "data-7672d2c0366f177ce6c00e32a0b5646c"
       },
       "datasets": {
        "data-7672d2c0366f177ce6c00e32a0b5646c": [
         {
          "num_sales": 48399,
          "num_unique_customers": 13987,
          "revenue": 1415.3458474576248,
          "t_dat": "2018-09-20T00:00:00"
         },
         {
          "num_sales": 47543,
          "num_unique_customers": 13932,
          "revenue": 1419.2623050847435,
          "t_dat": "2018-09-21T00:00:00"
         },
         {
          "num_sales": 17635,
          "num_unique_customers": 5481,
          "revenue": 530.4376271186431,
          "t_dat": "2018-09-22T00:00:00"
         },
         {
          "num_sales": 52230,
          "num_unique_customers": 12435,
          "revenue": 1593.78308474576,
          "t_dat": "2018-09-23T00:00:00"
         },
         {
          "num_sales": 45984,
          "num_unique_customers": 12630,
          "revenue": 1407.6096101694893,
          "t_dat": "2018-09-24T00:00:00"
         },
         {
          "num_sales": 43857,
          "num_unique_customers": 12534,
          "revenue": 1322.87981355932,
          "t_dat": "2018-09-25T00:00:00"
         },
         {
          "num_sales": 48224,
          "num_unique_customers": 13925,
          "revenue": 1434.2044576271162,
          "t_dat": "2018-09-26T00:00:00"
         },
         {
          "num_sales": 44261,
          "num_unique_customers": 13331,
          "revenue": 1355.498288135591,
          "t_dat": "2018-09-27T00:00:00"
         },
         {
          "num_sales": 66900,
          "num_unique_customers": 18872,
          "revenue": 2040.2070677966067,
          "t_dat": "2018-09-28T00:00:00"
         },
         {
          "num_sales": 141700,
          "num_unique_customers": 37398,
          "revenue": 4071.3813050847384,
          "t_dat": "2018-09-29T00:00:00"
         },
         {
          "num_sales": 38043,
          "num_unique_customers": 10876,
          "revenue": 1165.030186440676,
          "t_dat": "2018-09-30T00:00:00"
         },
         {
          "num_sales": 38677,
          "num_unique_customers": 11029,
          "revenue": 1201.578220338981,
          "t_dat": "2018-10-01T00:00:00"
         },
         {
          "num_sales": 39932,
          "num_unique_customers": 11685,
          "revenue": 1254.0745423728795,
          "t_dat": "2018-10-02T00:00:00"
         },
         {
          "num_sales": 38387,
          "num_unique_customers": 11434,
          "revenue": 1173.174491525422,
          "t_dat": "2018-10-03T00:00:00"
         },
         {
          "num_sales": 38103,
          "num_unique_customers": 12109,
          "revenue": 1188.8597966101677,
          "t_dat": "2018-10-04T00:00:00"
         },
         {
          "num_sales": 33485,
          "num_unique_customers": 11123,
          "revenue": 1009.3239322033882,
          "t_dat": "2018-10-05T00:00:00"
         },
         {
          "num_sales": 37012,
          "num_unique_customers": 12111,
          "revenue": 1089.794711864405,
          "t_dat": "2018-10-06T00:00:00"
         },
         {
          "num_sales": 32647,
          "num_unique_customers": 9306,
          "revenue": 1010.437423728812,
          "t_dat": "2018-10-07T00:00:00"
         },
         {
          "num_sales": 28241,
          "num_unique_customers": 8473,
          "revenue": 899.0806271186426,
          "t_dat": "2018-10-08T00:00:00"
         },
         {
          "num_sales": 38581,
          "num_unique_customers": 11117,
          "revenue": 1234.8909830508455,
          "t_dat": "2018-10-09T00:00:00"
         },
         {
          "num_sales": 63750,
          "num_unique_customers": 15827,
          "revenue": 1890.0404915254205,
          "t_dat": "2018-10-10T00:00:00"
         },
         {
          "num_sales": 58802,
          "num_unique_customers": 15162,
          "revenue": 1702.1712372881325,
          "t_dat": "2018-10-11T00:00:00"
         },
         {
          "num_sales": 53530,
          "num_unique_customers": 14777,
          "revenue": 1517.4412203389804,
          "t_dat": "2018-10-12T00:00:00"
         },
         {
          "num_sales": 53008,
          "num_unique_customers": 14296,
          "revenue": 1445.4382881355905,
          "t_dat": "2018-10-13T00:00:00"
         },
         {
          "num_sales": 36426,
          "num_unique_customers": 8405,
          "revenue": 1103.066966101693,
          "t_dat": "2018-10-14T00:00:00"
         },
         {
          "num_sales": 33624,
          "num_unique_customers": 9748,
          "revenue": 1061.7233220338967,
          "t_dat": "2018-10-15T00:00:00"
         },
         {
          "num_sales": 48481,
          "num_unique_customers": 12188,
          "revenue": 1566.383864406777,
          "t_dat": "2018-10-16T00:00:00"
         },
         {
          "num_sales": 59231,
          "num_unique_customers": 16092,
          "revenue": 1621.256779661014,
          "t_dat": "2018-10-17T00:00:00"
         },
         {
          "num_sales": 46586,
          "num_unique_customers": 13781,
          "revenue": 1314.0367966101671,
          "t_dat": "2018-10-18T00:00:00"
         },
         {
          "num_sales": 39033,
          "num_unique_customers": 11987,
          "revenue": 1118.8254745762692,
          "t_dat": "2018-10-19T00:00:00"
         },
         {
          "num_sales": 40517,
          "num_unique_customers": 12498,
          "revenue": 1178.4867966101674,
          "t_dat": "2018-10-20T00:00:00"
         },
         {
          "num_sales": 37437,
          "num_unique_customers": 9805,
          "revenue": 1065.632525423727,
          "t_dat": "2018-10-21T00:00:00"
         },
         {
          "num_sales": 43546,
          "num_unique_customers": 12538,
          "revenue": 1286.0609999999979,
          "t_dat": "2018-10-22T00:00:00"
         },
         {
          "num_sales": 49740,
          "num_unique_customers": 14572,
          "revenue": 1469.8397288135568,
          "t_dat": "2018-10-23T00:00:00"
         },
         {
          "num_sales": 64499,
          "num_unique_customers": 18469,
          "revenue": 1841.569186440675,
          "t_dat": "2018-10-24T00:00:00"
         },
         {
          "num_sales": 54487,
          "num_unique_customers": 16519,
          "revenue": 1573.9032881355906,
          "t_dat": "2018-10-25T00:00:00"
         },
         {
          "num_sales": 55390,
          "num_unique_customers": 16908,
          "revenue": 1615.2642033898278,
          "t_dat": "2018-10-26T00:00:00"
         },
         {
          "num_sales": 50649,
          "num_unique_customers": 15718,
          "revenue": 1488.4579999999976,
          "t_dat": "2018-10-27T00:00:00"
         },
         {
          "num_sales": 56271,
          "num_unique_customers": 15090,
          "revenue": 1709.0214406779633,
          "t_dat": "2018-10-28T00:00:00"
         },
         {
          "num_sales": 45952,
          "num_unique_customers": 12940,
          "revenue": 1383.4142542372858,
          "t_dat": "2018-10-29T00:00:00"
         },
         {
          "num_sales": 42392,
          "num_unique_customers": 12265,
          "revenue": 1344.0748983050826,
          "t_dat": "2018-10-30T00:00:00"
         },
         {
          "num_sales": 38624,
          "num_unique_customers": 11869,
          "revenue": 1227.4921186440658,
          "t_dat": "2018-10-31T00:00:00"
         },
         {
          "num_sales": 41119,
          "num_unique_customers": 12866,
          "revenue": 1378.1485084745743,
          "t_dat": "2018-11-01T00:00:00"
         },
         {
          "num_sales": 36103,
          "num_unique_customers": 12150,
          "revenue": 1183.8858305084727,
          "t_dat": "2018-11-02T00:00:00"
         },
         {
          "num_sales": 39899,
          "num_unique_customers": 13175,
          "revenue": 1285.207999999998,
          "t_dat": "2018-11-03T00:00:00"
         },
         {
          "num_sales": 32709,
          "num_unique_customers": 9781,
          "revenue": 1099.9753898305069,
          "t_dat": "2018-11-04T00:00:00"
         },
         {
          "num_sales": 30346,
          "num_unique_customers": 9483,
          "revenue": 1017.4860847457612,
          "t_dat": "2018-11-05T00:00:00"
         },
         {
          "num_sales": 33798,
          "num_unique_customers": 10688,
          "revenue": 1126.0866779661,
          "t_dat": "2018-11-06T00:00:00"
         },
         {
          "num_sales": 35299,
          "num_unique_customers": 11391,
          "revenue": 1190.7924067796594,
          "t_dat": "2018-11-07T00:00:00"
         },
         {
          "num_sales": 32002,
          "num_unique_customers": 10891,
          "revenue": 1039.325576271185,
          "t_dat": "2018-11-08T00:00:00"
         },
         {
          "num_sales": 35259,
          "num_unique_customers": 11953,
          "revenue": 1130.9551016949135,
          "t_dat": "2018-11-09T00:00:00"
         },
         {
          "num_sales": 34598,
          "num_unique_customers": 11736,
          "revenue": 1085.2013559322017,
          "t_dat": "2018-11-10T00:00:00"
         },
         {
          "num_sales": 44899,
          "num_unique_customers": 12537,
          "revenue": 1381.8328813559299,
          "t_dat": "2018-11-11T00:00:00"
         },
         {
          "num_sales": 25777,
          "num_unique_customers": 8305,
          "revenue": 851.4892033898292,
          "t_dat": "2018-11-12T00:00:00"
         },
         {
          "num_sales": 28740,
          "num_unique_customers": 9483,
          "revenue": 939.8085932203376,
          "t_dat": "2018-11-13T00:00:00"
         },
         {
          "num_sales": 35108,
          "num_unique_customers": 11277,
          "revenue": 1170.0965932203374,
          "t_dat": "2018-11-14T00:00:00"
         },
         {
          "num_sales": 38619,
          "num_unique_customers": 12608,
          "revenue": 1215.8466949152523,
          "t_dat": "2018-11-15T00:00:00"
         },
         {
          "num_sales": 38361,
          "num_unique_customers": 12814,
          "revenue": 1178.635779661015,
          "t_dat": "2018-11-16T00:00:00"
         },
         {
          "num_sales": 38817,
          "num_unique_customers": 13103,
          "revenue": 1204.4525932203371,
          "t_dat": "2018-11-17T00:00:00"
         },
         {
          "num_sales": 35871,
          "num_unique_customers": 10563,
          "revenue": 1126.9629661016932,
          "t_dat": "2018-11-18T00:00:00"
         },
         {
          "num_sales": 32984,
          "num_unique_customers": 10248,
          "revenue": 1107.3144915254222,
          "t_dat": "2018-11-19T00:00:00"
         },
         {
          "num_sales": 40454,
          "num_unique_customers": 12798,
          "revenue": 1312.9359830508454,
          "t_dat": "2018-11-20T00:00:00"
         },
         {
          "num_sales": 43132,
          "num_unique_customers": 13475,
          "revenue": 1272.4279322033876,
          "t_dat": "2018-11-21T00:00:00"
         },
         {
          "num_sales": 56174,
          "num_unique_customers": 17618,
          "revenue": 1596.7907288135564,
          "t_dat": "2018-11-22T00:00:00"
         },
         {
          "num_sales": 142018,
          "num_unique_customers": 42300,
          "revenue": 3891.939440677959,
          "t_dat": "2018-11-23T00:00:00"
         },
         {
          "num_sales": 80235,
          "num_unique_customers": 23958,
          "revenue": 2145.9552711864367,
          "t_dat": "2018-11-24T00:00:00"
         },
         {
          "num_sales": 59322,
          "num_unique_customers": 17108,
          "revenue": 1596.1478813559295,
          "t_dat": "2018-11-25T00:00:00"
         },
         {
          "num_sales": 56913,
          "num_unique_customers": 16752,
          "revenue": 1512.9443389830483,
          "t_dat": "2018-11-26T00:00:00"
         },
         {
          "num_sales": 30127,
          "num_unique_customers": 11007,
          "revenue": 979.3970677966087,
          "t_dat": "2018-11-27T00:00:00"
         },
         {
          "num_sales": 29276,
          "num_unique_customers": 10472,
          "revenue": 951.0721864406765,
          "t_dat": "2018-11-28T00:00:00"
         },
         {
          "num_sales": 32096,
          "num_unique_customers": 11395,
          "revenue": 1041.0371864406764,
          "t_dat": "2018-11-29T00:00:00"
         },
         {
          "num_sales": 30564,
          "num_unique_customers": 11264,
          "revenue": 986.8356440677951,
          "t_dat": "2018-11-30T00:00:00"
         },
         {
          "num_sales": 34101,
          "num_unique_customers": 12322,
          "revenue": 1019.3577966101678,
          "t_dat": "2018-12-01T00:00:00"
         },
         {
          "num_sales": 26579,
          "num_unique_customers": 8464,
          "revenue": 843.5171355932191,
          "t_dat": "2018-12-02T00:00:00"
         },
         {
          "num_sales": 27155,
          "num_unique_customers": 9432,
          "revenue": 881.7208305084732,
          "t_dat": "2018-12-03T00:00:00"
         },
         {
          "num_sales": 31834,
          "num_unique_customers": 11034,
          "revenue": 1027.0817966101679,
          "t_dat": "2018-12-04T00:00:00"
         },
         {
          "num_sales": 35693,
          "num_unique_customers": 12338,
          "revenue": 1094.7697966101678,
          "t_dat": "2018-12-05T00:00:00"
         },
         {
          "num_sales": 37284,
          "num_unique_customers": 12901,
          "revenue": 1110.203898305083,
          "t_dat": "2018-12-06T00:00:00"
         },
         {
          "num_sales": 33316,
          "num_unique_customers": 11831,
          "revenue": 985.9137288135577,
          "t_dat": "2018-12-07T00:00:00"
         },
         {
          "num_sales": 37420,
          "num_unique_customers": 12921,
          "revenue": 1070.6389830508456,
          "t_dat": "2018-12-08T00:00:00"
         },
         {
          "num_sales": 34622,
          "num_unique_customers": 10981,
          "revenue": 1075.0479152542357,
          "t_dat": "2018-12-09T00:00:00"
         },
         {
          "num_sales": 30431,
          "num_unique_customers": 10546,
          "revenue": 967.0019322033884,
          "t_dat": "2018-12-10T00:00:00"
         },
         {
          "num_sales": 31051,
          "num_unique_customers": 10820,
          "revenue": 1001.0526610169476,
          "t_dat": "2018-12-11T00:00:00"
         },
         {
          "num_sales": 39436,
          "num_unique_customers": 13526,
          "revenue": 1244.5813559322016,
          "t_dat": "2018-12-12T00:00:00"
         },
         {
          "num_sales": 33145,
          "num_unique_customers": 11984,
          "revenue": 1050.1932203389815,
          "t_dat": "2018-12-13T00:00:00"
         },
         {
          "num_sales": 31201,
          "num_unique_customers": 11596,
          "revenue": 959.1581355932188,
          "t_dat": "2018-12-14T00:00:00"
         },
         {
          "num_sales": 36258,
          "num_unique_customers": 13047,
          "revenue": 1108.516372881354,
          "t_dat": "2018-12-15T00:00:00"
         },
         {
          "num_sales": 32374,
          "num_unique_customers": 10655,
          "revenue": 1021.5836949152526,
          "t_dat": "2018-12-16T00:00:00"
         },
         {
          "num_sales": 34947,
          "num_unique_customers": 11694,
          "revenue": 1049.0600169491508,
          "t_dat": "2018-12-17T00:00:00"
         },
         {
          "num_sales": 39247,
          "num_unique_customers": 13250,
          "revenue": 1149.044627118642,
          "t_dat": "2018-12-18T00:00:00"
         },
         {
          "num_sales": 46619,
          "num_unique_customers": 14969,
          "revenue": 1302.5752881355909,
          "t_dat": "2018-12-19T00:00:00"
         },
         {
          "num_sales": 61022,
          "num_unique_customers": 18764,
          "revenue": 1573.980745762709,
          "t_dat": "2018-12-20T00:00:00"
         },
         {
          "num_sales": 56260,
          "num_unique_customers": 17657,
          "revenue": 1384.4910338983022,
          "t_dat": "2018-12-21T00:00:00"
         },
         {
          "num_sales": 58623,
          "num_unique_customers": 18525,
          "revenue": 1427.0625423728784,
          "t_dat": "2018-12-22T00:00:00"
         },
         {
          "num_sales": 43155,
          "num_unique_customers": 12999,
          "revenue": 1065.188474576269,
          "t_dat": "2018-12-23T00:00:00"
         },
         {
          "num_sales": 38362,
          "num_unique_customers": 13160,
          "revenue": 924.4655084745743,
          "t_dat": "2018-12-24T00:00:00"
         },
         {
          "num_sales": 14799,
          "num_unique_customers": 3851,
          "revenue": 412.6921186440671,
          "t_dat": "2018-12-25T00:00:00"
         },
         {
          "num_sales": 24989,
          "num_unique_customers": 6393,
          "revenue": 656.7592372881344,
          "t_dat": "2018-12-26T00:00:00"
         },
         {
          "num_sales": 52976,
          "num_unique_customers": 15729,
          "revenue": 1355.3183389830483,
          "t_dat": "2018-12-27T00:00:00"
         },
         {
          "num_sales": 46132,
          "num_unique_customers": 14583,
          "revenue": 1205.1966779660995,
          "t_dat": "2018-12-28T00:00:00"
         },
         {
          "num_sales": 42402,
          "num_unique_customers": 13257,
          "revenue": 1096.8025762711843,
          "t_dat": "2018-12-29T00:00:00"
         },
         {
          "num_sales": 33491,
          "num_unique_customers": 9853,
          "revenue": 866.5129491525407,
          "t_dat": "2018-12-30T00:00:00"
         },
         {
          "num_sales": 23903,
          "num_unique_customers": 8151,
          "revenue": 603.0253220338972,
          "t_dat": "2018-12-31T00:00:00"
         },
         {
          "num_sales": 18145,
          "num_unique_customers": 4326,
          "revenue": 512.1223898305076,
          "t_dat": "2019-01-01T00:00:00"
         },
         {
          "num_sales": 44252,
          "num_unique_customers": 12555,
          "revenue": 1141.3896101694893,
          "t_dat": "2019-01-02T00:00:00"
         },
         {
          "num_sales": 47744,
          "num_unique_customers": 14017,
          "revenue": 1224.3121016949128,
          "t_dat": "2019-01-03T00:00:00"
         },
         {
          "num_sales": 43545,
          "num_unique_customers": 12893,
          "revenue": 1124.9399491525403,
          "t_dat": "2019-01-04T00:00:00"
         },
         {
          "num_sales": 44536,
          "num_unique_customers": 13122,
          "revenue": 1144.3482372881335,
          "t_dat": "2019-01-05T00:00:00"
         },
         {
          "num_sales": 37885,
          "num_unique_customers": 9749,
          "revenue": 1001.2752372881338,
          "t_dat": "2019-01-06T00:00:00"
         },
         {
          "num_sales": 34484,
          "num_unique_customers": 9611,
          "revenue": 944.5012881355915,
          "t_dat": "2019-01-07T00:00:00"
         },
         {
          "num_sales": 49228,
          "num_unique_customers": 12544,
          "revenue": 1365.7051186440656,
          "t_dat": "2019-01-08T00:00:00"
         },
         {
          "num_sales": 53309,
          "num_unique_customers": 13699,
          "revenue": 1443.5341525423703,
          "t_dat": "2019-01-09T00:00:00"
         },
         {
          "num_sales": 53180,
          "num_unique_customers": 13878,
          "revenue": 1407.750830508472,
          "t_dat": "2019-01-10T00:00:00"
         },
         {
          "num_sales": 42656,
          "num_unique_customers": 11732,
          "revenue": 1114.877661016947,
          "t_dat": "2019-01-11T00:00:00"
         },
         {
          "num_sales": 44825,
          "num_unique_customers": 12450,
          "revenue": 1164.688474576269,
          "t_dat": "2019-01-12T00:00:00"
         },
         {
          "num_sales": 39612,
          "num_unique_customers": 9461,
          "revenue": 1077.2539322033879,
          "t_dat": "2019-01-13T00:00:00"
         },
         {
          "num_sales": 35715,
          "num_unique_customers": 9629,
          "revenue": 962.2328813559304,
          "t_dat": "2019-01-14T00:00:00"
         },
         {
          "num_sales": 35037,
          "num_unique_customers": 9626,
          "revenue": 937.7501525423712,
          "t_dat": "2019-01-15T00:00:00"
         },
         {
          "num_sales": 46962,
          "num_unique_customers": 12388,
          "revenue": 1268.947474576269,
          "t_dat": "2019-01-16T00:00:00"
         },
         {
          "num_sales": 36013,
          "num_unique_customers": 10418,
          "revenue": 954.6116271186423,
          "t_dat": "2019-01-17T00:00:00"
         },
         {
          "num_sales": 35741,
          "num_unique_customers": 10718,
          "revenue": 948.3974406779644,
          "t_dat": "2019-01-18T00:00:00"
         },
         {
          "num_sales": 38720,
          "num_unique_customers": 11883,
          "revenue": 1006.8851016949134,
          "t_dat": "2019-01-19T00:00:00"
         },
         {
          "num_sales": 34356,
          "num_unique_customers": 8798,
          "revenue": 946.6045932203373,
          "t_dat": "2019-01-20T00:00:00"
         },
         {
          "num_sales": 34553,
          "num_unique_customers": 10025,
          "revenue": 955.1485423728797,
          "t_dat": "2019-01-21T00:00:00"
         },
         {
          "num_sales": 36878,
          "num_unique_customers": 10190,
          "revenue": 1003.4702542372863,
          "t_dat": "2019-01-22T00:00:00"
         },
         {
          "num_sales": 40120,
          "num_unique_customers": 11443,
          "revenue": 1061.181406779659,
          "t_dat": "2019-01-23T00:00:00"
         },
         {
          "num_sales": 42320,
          "num_unique_customers": 12490,
          "revenue": 1097.528999999998,
          "t_dat": "2019-01-24T00:00:00"
         },
         {
          "num_sales": 46825,
          "num_unique_customers": 13904,
          "revenue": 1180.5077796610146,
          "t_dat": "2019-01-25T00:00:00"
         },
         {
          "num_sales": 48158,
          "num_unique_customers": 14271,
          "revenue": 1217.4197118644045,
          "t_dat": "2019-01-26T00:00:00"
         },
         {
          "num_sales": 40605,
          "num_unique_customers": 10548,
          "revenue": 1079.4427288135573,
          "t_dat": "2019-01-27T00:00:00"
         },
         {
          "num_sales": 35705,
          "num_unique_customers": 10202,
          "revenue": 950.2704406779643,
          "t_dat": "2019-01-28T00:00:00"
         },
         {
          "num_sales": 44990,
          "num_unique_customers": 12717,
          "revenue": 1163.3466610169469,
          "t_dat": "2019-01-29T00:00:00"
         },
         {
          "num_sales": 39026,
          "num_unique_customers": 11111,
          "revenue": 1019.95174576271,
          "t_dat": "2019-01-30T00:00:00"
         },
         {
          "num_sales": 38346,
          "num_unique_customers": 11681,
          "revenue": 1029.5849491525405,
          "t_dat": "2019-01-31T00:00:00"
         },
         {
          "num_sales": 41584,
          "num_unique_customers": 11685,
          "revenue": 1094.2213898305065,
          "t_dat": "2019-02-01T00:00:00"
         },
         {
          "num_sales": 43901,
          "num_unique_customers": 12544,
          "revenue": 1139.7230847457606,
          "t_dat": "2019-02-02T00:00:00"
         },
         {
          "num_sales": 45259,
          "num_unique_customers": 10784,
          "revenue": 1198.2719322033877,
          "t_dat": "2019-02-03T00:00:00"
         },
         {
          "num_sales": 33631,
          "num_unique_customers": 9340,
          "revenue": 924.2031186440662,
          "t_dat": "2019-02-04T00:00:00"
         },
         {
          "num_sales": 35743,
          "num_unique_customers": 10491,
          "revenue": 996.0708135593203,
          "t_dat": "2019-02-05T00:00:00"
         },
         {
          "num_sales": 37340,
          "num_unique_customers": 11091,
          "revenue": 1038.6576271186423,
          "t_dat": "2019-02-06T00:00:00"
         },
         {
          "num_sales": 39423,
          "num_unique_customers": 12085,
          "revenue": 1084.7439491525404,
          "t_dat": "2019-02-07T00:00:00"
         },
         {
          "num_sales": 36732,
          "num_unique_customers": 11508,
          "revenue": 1014.070305084744,
          "t_dat": "2019-02-08T00:00:00"
         },
         {
          "num_sales": 41220,
          "num_unique_customers": 13060,
          "revenue": 1112.58981355932,
          "t_dat": "2019-02-09T00:00:00"
         },
         {
          "num_sales": 36967,
          "num_unique_customers": 9765,
          "revenue": 1062.4702372881338,
          "t_dat": "2019-02-10T00:00:00"
         },
         {
          "num_sales": 32624,
          "num_unique_customers": 9334,
          "revenue": 919.1647796610154,
          "t_dat": "2019-02-11T00:00:00"
         },
         {
          "num_sales": 34629,
          "num_unique_customers": 10261,
          "revenue": 987.6935254237271,
          "t_dat": "2019-02-12T00:00:00"
         },
         {
          "num_sales": 33441,
          "num_unique_customers": 9934,
          "revenue": 932.5161016949137,
          "t_dat": "2019-02-13T00:00:00"
         },
         {
          "num_sales": 33707,
          "num_unique_customers": 10563,
          "revenue": 894.8378644067781,
          "t_dat": "2019-02-14T00:00:00"
         },
         {
          "num_sales": 37835,
          "num_unique_customers": 11514,
          "revenue": 1048.5338135593202,
          "t_dat": "2019-02-15T00:00:00"
         },
         {
          "num_sales": 43012,
          "num_unique_customers": 13155,
          "revenue": 1192.539847457625,
          "t_dat": "2019-02-16T00:00:00"
         },
         {
          "num_sales": 33705,
          "num_unique_customers": 8823,
          "revenue": 964.1224745762696,
          "t_dat": "2019-02-17T00:00:00"
         },
         {
          "num_sales": 31761,
          "num_unique_customers": 8975,
          "revenue": 900.1562711864391,
          "t_dat": "2019-02-18T00:00:00"
         },
         {
          "num_sales": 33761,
          "num_unique_customers": 9870,
          "revenue": 954.638271186439,
          "t_dat": "2019-02-19T00:00:00"
         },
         {
          "num_sales": 43688,
          "num_unique_customers": 12635,
          "revenue": 1194.8370847457606,
          "t_dat": "2019-02-20T00:00:00"
         },
         {
          "num_sales": 58728,
          "num_unique_customers": 17574,
          "revenue": 1497.1818474576244,
          "t_dat": "2019-02-21T00:00:00"
         },
         {
          "num_sales": 64026,
          "num_unique_customers": 19551,
          "revenue": 1620.9459661016917,
          "t_dat": "2019-02-22T00:00:00"
         },
         {
          "num_sales": 75668,
          "num_unique_customers": 22084,
          "revenue": 1883.8647966101657,
          "t_dat": "2019-02-23T00:00:00"
         },
         {
          "num_sales": 34618,
          "num_unique_customers": 9765,
          "revenue": 975.5946949152526,
          "t_dat": "2019-02-24T00:00:00"
         },
         {
          "num_sales": 39670,
          "num_unique_customers": 11607,
          "revenue": 1124.588220338981,
          "t_dat": "2019-02-25T00:00:00"
         },
         {
          "num_sales": 43079,
          "num_unique_customers": 13040,
          "revenue": 1232.2099830508455,
          "t_dat": "2019-02-26T00:00:00"
         },
         {
          "num_sales": 45506,
          "num_unique_customers": 13451,
          "revenue": 1273.2129491525402,
          "t_dat": "2019-02-27T00:00:00"
         },
         {
          "num_sales": 41154,
          "num_unique_customers": 12740,
          "revenue": 1166.5610508474556,
          "t_dat": "2019-02-28T00:00:00"
         },
         {
          "num_sales": 42145,
          "num_unique_customers": 12889,
          "revenue": 1172.551559322032,
          "t_dat": "2019-03-01T00:00:00"
         },
         {
          "num_sales": 40748,
          "num_unique_customers": 12382,
          "revenue": 1112.8179830508457,
          "t_dat": "2019-03-02T00:00:00"
         },
         {
          "num_sales": 35154,
          "num_unique_customers": 8785,
          "revenue": 1004.4725084745746,
          "t_dat": "2019-03-03T00:00:00"
         },
         {
          "num_sales": 30308,
          "num_unique_customers": 8420,
          "revenue": 905.8775762711849,
          "t_dat": "2019-03-04T00:00:00"
         },
         {
          "num_sales": 34652,
          "num_unique_customers": 9952,
          "revenue": 1022.0427627118628,
          "t_dat": "2019-03-05T00:00:00"
         },
         {
          "num_sales": 49580,
          "num_unique_customers": 13585,
          "revenue": 1398.386728813557,
          "t_dat": "2019-03-06T00:00:00"
         },
         {
          "num_sales": 44575,
          "num_unique_customers": 12597,
          "revenue": 1256.239440677964,
          "t_dat": "2019-03-07T00:00:00"
         },
         {
          "num_sales": 39791,
          "num_unique_customers": 12057,
          "revenue": 1124.1032881355914,
          "t_dat": "2019-03-08T00:00:00"
         },
         {
          "num_sales": 40750,
          "num_unique_customers": 12091,
          "revenue": 1145.8108474576252,
          "t_dat": "2019-03-09T00:00:00"
         },
         {
          "num_sales": 39697,
          "num_unique_customers": 9645,
          "revenue": 1137.2995762711846,
          "t_dat": "2019-03-10T00:00:00"
         },
         {
          "num_sales": 35607,
          "num_unique_customers": 9469,
          "revenue": 1042.212016949151,
          "t_dat": "2019-03-11T00:00:00"
         },
         {
          "num_sales": 37488,
          "num_unique_customers": 10022,
          "revenue": 1097.7771525423711,
          "t_dat": "2019-03-12T00:00:00"
         },
         {
          "num_sales": 45230,
          "num_unique_customers": 11901,
          "revenue": 1295.0294745762692,
          "t_dat": "2019-03-13T00:00:00"
         },
         {
          "num_sales": 39055,
          "num_unique_customers": 10960,
          "revenue": 1112.1995084745745,
          "t_dat": "2019-03-14T00:00:00"
         },
         {
          "num_sales": 37282,
          "num_unique_customers": 10969,
          "revenue": 1056.1240677966084,
          "t_dat": "2019-03-15T00:00:00"
         },
         {
          "num_sales": 51837,
          "num_unique_customers": 14207,
          "revenue": 1421.5574067796585,
          "t_dat": "2019-03-16T00:00:00"
         },
         {
          "num_sales": 39506,
          "num_unique_customers": 10087,
          "revenue": 1131.572966101693,
          "t_dat": "2019-03-17T00:00:00"
         },
         {
          "num_sales": 31074,
          "num_unique_customers": 8348,
          "revenue": 891.4826610169476,
          "t_dat": "2019-03-18T00:00:00"
         },
         {
          "num_sales": 35556,
          "num_unique_customers": 10200,
          "revenue": 1044.334457627117,
          "t_dat": "2019-03-19T00:00:00"
         },
         {
          "num_sales": 41505,
          "num_unique_customers": 11699,
          "revenue": 1239.924932203388,
          "t_dat": "2019-03-20T00:00:00"
         },
         {
          "num_sales": 41778,
          "num_unique_customers": 12317,
          "revenue": 1402.4353559322014,
          "t_dat": "2019-03-21T00:00:00"
         },
         {
          "num_sales": 43836,
          "num_unique_customers": 13618,
          "revenue": 1295.3227966101674,
          "t_dat": "2019-03-22T00:00:00"
         },
         {
          "num_sales": 44283,
          "num_unique_customers": 13727,
          "revenue": 1265.4963389830486,
          "t_dat": "2019-03-23T00:00:00"
         },
         {
          "num_sales": 40788,
          "num_unique_customers": 10510,
          "revenue": 1205.8810338983033,
          "t_dat": "2019-03-24T00:00:00"
         },
         {
          "num_sales": 37437,
          "num_unique_customers": 10393,
          "revenue": 1141.7002881355913,
          "t_dat": "2019-03-25T00:00:00"
         },
         {
          "num_sales": 47173,
          "num_unique_customers": 12719,
          "revenue": 1438.56394915254,
          "t_dat": "2019-03-26T00:00:00"
         },
         {
          "num_sales": 49139,
          "num_unique_customers": 13183,
          "revenue": 1497.0842711864384,
          "t_dat": "2019-03-27T00:00:00"
         },
         {
          "num_sales": 47074,
          "num_unique_customers": 13348,
          "revenue": 1438.502847457625,
          "t_dat": "2019-03-28T00:00:00"
         },
         {
          "num_sales": 47539,
          "num_unique_customers": 14169,
          "revenue": 1421.036474576269,
          "t_dat": "2019-03-29T00:00:00"
         },
         {
          "num_sales": 49560,
          "num_unique_customers": 14473,
          "revenue": 1441.8075254237265,
          "t_dat": "2019-03-30T00:00:00"
         },
         {
          "num_sales": 46603,
          "num_unique_customers": 11501,
          "revenue": 1389.3723728813536,
          "t_dat": "2019-03-31T00:00:00"
         },
         {
          "num_sales": 43981,
          "num_unique_customers": 11781,
          "revenue": 1342.9218644067776,
          "t_dat": "2019-04-01T00:00:00"
         },
         {
          "num_sales": 42351,
          "num_unique_customers": 11419,
          "revenue": 1290.3167118644049,
          "t_dat": "2019-04-02T00:00:00"
         },
         {
          "num_sales": 44936,
          "num_unique_customers": 12522,
          "revenue": 1360.2897796610148,
          "t_dat": "2019-04-03T00:00:00"
         },
         {
          "num_sales": 42650,
          "num_unique_customers": 12531,
          "revenue": 1290.2533220338962,
          "t_dat": "2019-04-04T00:00:00"
         },
         {
          "num_sales": 40220,
          "num_unique_customers": 12238,
          "revenue": 1186.080338983049,
          "t_dat": "2019-04-05T00:00:00"
         },
         {
          "num_sales": 119601,
          "num_unique_customers": 25693,
          "revenue": 3100.9048983050784,
          "t_dat": "2019-04-06T00:00:00"
         },
         {
          "num_sales": 40873,
          "num_unique_customers": 10219,
          "revenue": 1176.9502542372861,
          "t_dat": "2019-04-07T00:00:00"
         },
         {
          "num_sales": 34419,
          "num_unique_customers": 9356,
          "revenue": 1029.0689661016934,
          "t_dat": "2019-04-08T00:00:00"
         },
         {
          "num_sales": 39942,
          "num_unique_customers": 10849,
          "revenue": 1214.9952881355912,
          "t_dat": "2019-04-09T00:00:00"
         },
         {
          "num_sales": 43708,
          "num_unique_customers": 11517,
          "revenue": 1298.5103898305063,
          "t_dat": "2019-04-10T00:00:00"
         },
         {
          "num_sales": 41695,
          "num_unique_customers": 11718,
          "revenue": 1375.8490847457606,
          "t_dat": "2019-04-11T00:00:00"
         },
         {
          "num_sales": 41923,
          "num_unique_customers": 12146,
          "revenue": 1255.2261016949133,
          "t_dat": "2019-04-12T00:00:00"
         },
         {
          "num_sales": 44852,
          "num_unique_customers": 12958,
          "revenue": 1288.4630677966081,
          "t_dat": "2019-04-13T00:00:00"
         },
         {
          "num_sales": 42322,
          "num_unique_customers": 10270,
          "revenue": 1290.652406779659,
          "t_dat": "2019-04-14T00:00:00"
         },
         {
          "num_sales": 41713,
          "num_unique_customers": 10828,
          "revenue": 1269.7375762711845,
          "t_dat": "2019-04-15T00:00:00"
         },
         {
          "num_sales": 44930,
          "num_unique_customers": 12124,
          "revenue": 1370.9560847457606,
          "t_dat": "2019-04-16T00:00:00"
         },
         {
          "num_sales": 45191,
          "num_unique_customers": 12105,
          "revenue": 1305.7717627118623,
          "t_dat": "2019-04-17T00:00:00"
         },
         {
          "num_sales": 47593,
          "num_unique_customers": 13466,
          "revenue": 1364.7494067796588,
          "t_dat": "2019-04-18T00:00:00"
         },
         {
          "num_sales": 53188,
          "num_unique_customers": 14802,
          "revenue": 1459.77294915254,
          "t_dat": "2019-04-19T00:00:00"
         },
         {
          "num_sales": 55558,
          "num_unique_customers": 15188,
          "revenue": 1503.6065084745737,
          "t_dat": "2019-04-20T00:00:00"
         },
         {
          "num_sales": 32616,
          "num_unique_customers": 6526,
          "revenue": 1000.2112203389814,
          "t_dat": "2019-04-21T00:00:00"
         },
         {
          "num_sales": 45237,
          "num_unique_customers": 9851,
          "revenue": 1313.7510508474554,
          "t_dat": "2019-04-22T00:00:00"
         },
         {
          "num_sales": 61860,
          "num_unique_customers": 15274,
          "revenue": 1775.1010338983021,
          "t_dat": "2019-04-23T00:00:00"
         },
         {
          "num_sales": 80711,
          "num_unique_customers": 20044,
          "revenue": 2223.121186440674,
          "t_dat": "2019-04-24T00:00:00"
         },
         {
          "num_sales": 63624,
          "num_unique_customers": 17472,
          "revenue": 1786.259440677963,
          "t_dat": "2019-04-25T00:00:00"
         },
         {
          "num_sales": 54735,
          "num_unique_customers": 16109,
          "revenue": 1536.428050847455,
          "t_dat": "2019-04-26T00:00:00"
         },
         {
          "num_sales": 29402,
          "num_unique_customers": 7395,
          "revenue": 874.5827288135579,
          "t_dat": "2019-04-27T00:00:00"
         },
         {
          "num_sales": 44907,
          "num_unique_customers": 10819,
          "revenue": 1317.4582372881334,
          "t_dat": "2019-04-28T00:00:00"
         },
         {
          "num_sales": 48190,
          "num_unique_customers": 12561,
          "revenue": 1404.1479999999976,
          "t_dat": "2019-04-29T00:00:00"
         },
         {
          "num_sales": 63526,
          "num_unique_customers": 16026,
          "revenue": 1818.849593220336,
          "t_dat": "2019-04-30T00:00:00"
         },
         {
          "num_sales": 72875,
          "num_unique_customers": 17443,
          "revenue": 2081.6301525423696,
          "t_dat": "2019-05-01T00:00:00"
         },
         {
          "num_sales": 68839,
          "num_unique_customers": 17675,
          "revenue": 1979.070627118641,
          "t_dat": "2019-05-02T00:00:00"
         },
         {
          "num_sales": 55773,
          "num_unique_customers": 15283,
          "revenue": 1565.8851864406754,
          "t_dat": "2019-05-03T00:00:00"
         },
         {
          "num_sales": 52336,
          "num_unique_customers": 14431,
          "revenue": 1457.2200338983027,
          "t_dat": "2019-05-04T00:00:00"
         },
         {
          "num_sales": 41956,
          "num_unique_customers": 9645,
          "revenue": 1214.8036610169472,
          "t_dat": "2019-05-05T00:00:00"
         },
         {
          "num_sales": 39273,
          "num_unique_customers": 9913,
          "revenue": 1149.6396779661,
          "t_dat": "2019-05-06T00:00:00"
         },
         {
          "num_sales": 43795,
          "num_unique_customers": 11392,
          "revenue": 1278.827440677964,
          "t_dat": "2019-05-07T00:00:00"
         },
         {
          "num_sales": 44209,
          "num_unique_customers": 11328,
          "revenue": 1301.614627118642,
          "t_dat": "2019-05-08T00:00:00"
         },
         {
          "num_sales": 38693,
          "num_unique_customers": 11164,
          "revenue": 1108.9204406779643,
          "t_dat": "2019-05-09T00:00:00"
         },
         {
          "num_sales": 41585,
          "num_unique_customers": 12022,
          "revenue": 1201.4842711864387,
          "t_dat": "2019-05-10T00:00:00"
         },
         {
          "num_sales": 42390,
          "num_unique_customers": 12636,
          "revenue": 1166.6957627118625,
          "t_dat": "2019-05-11T00:00:00"
         },
         {
          "num_sales": 33240,
          "num_unique_customers": 8241,
          "revenue": 973.6751016949137,
          "t_dat": "2019-05-12T00:00:00"
         },
         {
          "num_sales": 35508,
          "num_unique_customers": 9224,
          "revenue": 1030.4539491525406,
          "t_dat": "2019-05-13T00:00:00"
         },
         {
          "num_sales": 41100,
          "num_unique_customers": 10864,
          "revenue": 1181.2661016949135,
          "t_dat": "2019-05-14T00:00:00"
         },
         {
          "num_sales": 40695,
          "num_unique_customers": 11298,
          "revenue": 1139.0607966101677,
          "t_dat": "2019-05-15T00:00:00"
         },
         {
          "num_sales": 97320,
          "num_unique_customers": 21566,
          "revenue": 2593.487271186436,
          "t_dat": "2019-05-16T00:00:00"
         },
         {
          "num_sales": 41312,
          "num_unique_customers": 12178,
          "revenue": 1144.0053559322016,
          "t_dat": "2019-05-17T00:00:00"
         },
         {
          "num_sales": 47698,
          "num_unique_customers": 13589,
          "revenue": 1309.2937288135572,
          "t_dat": "2019-05-18T00:00:00"
         },
         {
          "num_sales": 37283,
          "num_unique_customers": 9278,
          "revenue": 1058.5984067796594,
          "t_dat": "2019-05-19T00:00:00"
         },
         {
          "num_sales": 43006,
          "num_unique_customers": 11155,
          "revenue": 1224.379372881354,
          "t_dat": "2019-05-20T00:00:00"
         },
         {
          "num_sales": 43676,
          "num_unique_customers": 11644,
          "revenue": 1269.975627118642,
          "t_dat": "2019-05-21T00:00:00"
         },
         {
          "num_sales": 51126,
          "num_unique_customers": 13661,
          "revenue": 1404.8386610169468,
          "t_dat": "2019-05-22T00:00:00"
         },
         {
          "num_sales": 52773,
          "num_unique_customers": 14788,
          "revenue": 1422.8441186440655,
          "t_dat": "2019-05-23T00:00:00"
         },
         {
          "num_sales": 58066,
          "num_unique_customers": 16347,
          "revenue": 1538.0156101694888,
          "t_dat": "2019-05-24T00:00:00"
         },
         {
          "num_sales": 56786,
          "num_unique_customers": 15876,
          "revenue": 1499.2710677966077,
          "t_dat": "2019-05-25T00:00:00"
         },
         {
          "num_sales": 51913,
          "num_unique_customers": 12823,
          "revenue": 1427.1038813559298,
          "t_dat": "2019-05-26T00:00:00"
         },
         {
          "num_sales": 51676,
          "num_unique_customers": 13067,
          "revenue": 1456.1807627118621,
          "t_dat": "2019-05-27T00:00:00"
         },
         {
          "num_sales": 49568,
          "num_unique_customers": 12795,
          "revenue": 1376.2786440677944,
          "t_dat": "2019-05-28T00:00:00"
         },
         {
          "num_sales": 68148,
          "num_unique_customers": 17110,
          "revenue": 1754.032915254234,
          "t_dat": "2019-05-29T00:00:00"
         },
         {
          "num_sales": 47604,
          "num_unique_customers": 11857,
          "revenue": 1287.1520508474555,
          "t_dat": "2019-05-30T00:00:00"
         },
         {
          "num_sales": 70097,
          "num_unique_customers": 19699,
          "revenue": 1761.7970169491496,
          "t_dat": "2019-05-31T00:00:00"
         },
         {
          "num_sales": 62619,
          "num_unique_customers": 17198,
          "revenue": 1611.5732542372855,
          "t_dat": "2019-06-01T00:00:00"
         },
         {
          "num_sales": 58089,
          "num_unique_customers": 12842,
          "revenue": 1546.3614915254211,
          "t_dat": "2019-06-02T00:00:00"
         },
         {
          "num_sales": 52676,
          "num_unique_customers": 12858,
          "revenue": 1459.8275254237265,
          "t_dat": "2019-06-03T00:00:00"
         },
         {
          "num_sales": 51977,
          "num_unique_customers": 13194,
          "revenue": 1431.9574406779636,
          "t_dat": "2019-06-04T00:00:00"
         },
         {
          "num_sales": 53398,
          "num_unique_customers": 13452,
          "revenue": 1463.007457627116,
          "t_dat": "2019-06-05T00:00:00"
         },
         {
          "num_sales": 51953,
          "num_unique_customers": 13965,
          "revenue": 1414.3634067796586,
          "t_dat": "2019-06-06T00:00:00"
         },
         {
          "num_sales": 48905,
          "num_unique_customers": 13570,
          "revenue": 1310.4709322033875,
          "t_dat": "2019-06-07T00:00:00"
         },
         {
          "num_sales": 46384,
          "num_unique_customers": 12978,
          "revenue": 1224.6763220338962,
          "t_dat": "2019-06-08T00:00:00"
         },
         {
          "num_sales": 29798,
          "num_unique_customers": 6316,
          "revenue": 858.8190338983037,
          "t_dat": "2019-06-09T00:00:00"
         },
         {
          "num_sales": 39561,
          "num_unique_customers": 9815,
          "revenue": 1066.3268474576253,
          "t_dat": "2019-06-10T00:00:00"
         },
         {
          "num_sales": 43337,
          "num_unique_customers": 11215,
          "revenue": 1189.776559322032,
          "t_dat": "2019-06-11T00:00:00"
         },
         {
          "num_sales": 36588,
          "num_unique_customers": 9230,
          "revenue": 991.378118644066,
          "t_dat": "2019-06-12T00:00:00"
         },
         {
          "num_sales": 78012,
          "num_unique_customers": 18287,
          "revenue": 2340.5179322033864,
          "t_dat": "2019-06-13T00:00:00"
         },
         {
          "num_sales": 48555,
          "num_unique_customers": 13683,
          "revenue": 1316.7542711864385,
          "t_dat": "2019-06-14T00:00:00"
         },
         {
          "num_sales": 46705,
          "num_unique_customers": 12968,
          "revenue": 1236.1959491525402,
          "t_dat": "2019-06-15T00:00:00"
         },
         {
          "num_sales": 34579,
          "num_unique_customers": 8381,
          "revenue": 959.0459322033882,
          "t_dat": "2019-06-16T00:00:00"
         },
         {
          "num_sales": 50067,
          "num_unique_customers": 12713,
          "revenue": 1355.3135593220316,
          "t_dat": "2019-06-17T00:00:00"
         },
         {
          "num_sales": 60593,
          "num_unique_customers": 15157,
          "revenue": 1613.838932203387,
          "t_dat": "2019-06-18T00:00:00"
         },
         {
          "num_sales": 104052,
          "num_unique_customers": 22232,
          "revenue": 2476.714254237283,
          "t_dat": "2019-06-19T00:00:00"
         },
         {
          "num_sales": 92778,
          "num_unique_customers": 22019,
          "revenue": 2199.0410338983006,
          "t_dat": "2019-06-20T00:00:00"
         },
         {
          "num_sales": 84136,
          "num_unique_customers": 21213,
          "revenue": 2001.1000677966063,
          "t_dat": "2019-06-21T00:00:00"
         },
         {
          "num_sales": 87802,
          "num_unique_customers": 21865,
          "revenue": 2099.9260847457585,
          "t_dat": "2019-06-22T00:00:00"
         },
         {
          "num_sales": 80648,
          "num_unique_customers": 16854,
          "revenue": 1971.1277627118607,
          "t_dat": "2019-06-23T00:00:00"
         },
         {
          "num_sales": 95110,
          "num_unique_customers": 21425,
          "revenue": 2332.4853728813514,
          "t_dat": "2019-06-24T00:00:00"
         },
         {
          "num_sales": 91365,
          "num_unique_customers": 21622,
          "revenue": 2251.667508474572,
          "t_dat": "2019-06-25T00:00:00"
         },
         {
          "num_sales": 96337,
          "num_unique_customers": 23162,
          "revenue": 2296.185915254233,
          "t_dat": "2019-06-26T00:00:00"
         },
         {
          "num_sales": 82326,
          "num_unique_customers": 21574,
          "revenue": 1936.8426779660979,
          "t_dat": "2019-06-27T00:00:00"
         },
         {
          "num_sales": 74998,
          "num_unique_customers": 20162,
          "revenue": 1758.1444406779626,
          "t_dat": "2019-06-28T00:00:00"
         },
         {
          "num_sales": 63192,
          "num_unique_customers": 16184,
          "revenue": 1487.9686779660988,
          "t_dat": "2019-06-29T00:00:00"
         },
         {
          "num_sales": 59662,
          "num_unique_customers": 13695,
          "revenue": 1447.0091016949125,
          "t_dat": "2019-06-30T00:00:00"
         },
         {
          "num_sales": 72375,
          "num_unique_customers": 17580,
          "revenue": 1784.829796610166,
          "t_dat": "2019-07-01T00:00:00"
         },
         {
          "num_sales": 70056,
          "num_unique_customers": 17979,
          "revenue": 1712.9863050847425,
          "t_dat": "2019-07-02T00:00:00"
         },
         {
          "num_sales": 71255,
          "num_unique_customers": 18288,
          "revenue": 1712.1317457627085,
          "t_dat": "2019-07-03T00:00:00"
         },
         {
          "num_sales": 58684,
          "num_unique_customers": 16643,
          "revenue": 1381.0366440677938,
          "t_dat": "2019-07-04T00:00:00"
         },
         {
          "num_sales": 56127,
          "num_unique_customers": 16160,
          "revenue": 1331.6789322033871,
          "t_dat": "2019-07-05T00:00:00"
         },
         {
          "num_sales": 56162,
          "num_unique_customers": 15446,
          "revenue": 1322.9705932203362,
          "t_dat": "2019-07-06T00:00:00"
         },
         {
          "num_sales": 44867,
          "num_unique_customers": 10696,
          "revenue": 1102.6408983050826,
          "t_dat": "2019-07-07T00:00:00"
         },
         {
          "num_sales": 51888,
          "num_unique_customers": 13434,
          "revenue": 1259.399983050845,
          "t_dat": "2019-07-08T00:00:00"
         },
         {
          "num_sales": 54224,
          "num_unique_customers": 14699,
          "revenue": 1271.1681864406753,
          "t_dat": "2019-07-09T00:00:00"
         },
         {
          "num_sales": 63403,
          "num_unique_customers": 16176,
          "revenue": 1440.0581355932172,
          "t_dat": "2019-07-10T00:00:00"
         },
         {
          "num_sales": 58167,
          "num_unique_customers": 15775,
          "revenue": 1281.313338983048,
          "t_dat": "2019-07-11T00:00:00"
         },
         {
          "num_sales": 49104,
          "num_unique_customers": 13344,
          "revenue": 1095.1994576271163,
          "t_dat": "2019-07-12T00:00:00"
         },
         {
          "num_sales": 52472,
          "num_unique_customers": 14146,
          "revenue": 1166.8786610169466,
          "t_dat": "2019-07-13T00:00:00"
         },
         {
          "num_sales": 45379,
          "num_unique_customers": 10576,
          "revenue": 1056.522135593218,
          "t_dat": "2019-07-14T00:00:00"
         },
         {
          "num_sales": 53061,
          "num_unique_customers": 13502,
          "revenue": 1235.0443389830484,
          "t_dat": "2019-07-15T00:00:00"
         },
         {
          "num_sales": 51589,
          "num_unique_customers": 13481,
          "revenue": 1185.55094915254,
          "t_dat": "2019-07-16T00:00:00"
         },
         {
          "num_sales": 60641,
          "num_unique_customers": 15857,
          "revenue": 1331.4280508474546,
          "t_dat": "2019-07-17T00:00:00"
         },
         {
          "num_sales": 57822,
          "num_unique_customers": 15618,
          "revenue": 1279.2386271186413,
          "t_dat": "2019-07-18T00:00:00"
         },
         {
          "num_sales": 52222,
          "num_unique_customers": 14391,
          "revenue": 1158.621796610167,
          "t_dat": "2019-07-19T00:00:00"
         },
         {
          "num_sales": 47872,
          "num_unique_customers": 12846,
          "revenue": 1064.898762711862,
          "t_dat": "2019-07-20T00:00:00"
         },
         {
          "num_sales": 47870,
          "num_unique_customers": 11264,
          "revenue": 1078.5364745762688,
          "t_dat": "2019-07-21T00:00:00"
         },
         {
          "num_sales": 59218,
          "num_unique_customers": 15273,
          "revenue": 1317.729559322031,
          "t_dat": "2019-07-22T00:00:00"
         },
         {
          "num_sales": 63567,
          "num_unique_customers": 16291,
          "revenue": 1423.7246440677936,
          "t_dat": "2019-07-23T00:00:00"
         },
         {
          "num_sales": 124683,
          "num_unique_customers": 24256,
          "revenue": 2217.252830508469,
          "t_dat": "2019-07-24T00:00:00"
         },
         {
          "num_sales": 64314,
          "num_unique_customers": 16047,
          "revenue": 1338.2121694915222,
          "t_dat": "2019-07-25T00:00:00"
         },
         {
          "num_sales": 57071,
          "num_unique_customers": 14319,
          "revenue": 1180.2526949152516,
          "t_dat": "2019-07-26T00:00:00"
         },
         {
          "num_sales": 55024,
          "num_unique_customers": 14669,
          "revenue": 1147.0197796610144,
          "t_dat": "2019-07-27T00:00:00"
         },
         {
          "num_sales": 47989,
          "num_unique_customers": 11351,
          "revenue": 1031.6514915254213,
          "t_dat": "2019-07-28T00:00:00"
         },
         {
          "num_sales": 54247,
          "num_unique_customers": 13960,
          "revenue": 1170.4532881355906,
          "t_dat": "2019-07-29T00:00:00"
         },
         {
          "num_sales": 50802,
          "num_unique_customers": 13337,
          "revenue": 1123.519389830506,
          "t_dat": "2019-07-30T00:00:00"
         },
         {
          "num_sales": 55339,
          "num_unique_customers": 14202,
          "revenue": 1185.1797118644042,
          "t_dat": "2019-07-31T00:00:00"
         },
         {
          "num_sales": 52371,
          "num_unique_customers": 14197,
          "revenue": 1119.9599661016923,
          "t_dat": "2019-08-01T00:00:00"
         },
         {
          "num_sales": 41438,
          "num_unique_customers": 11717,
          "revenue": 890.1683220338963,
          "t_dat": "2019-08-02T00:00:00"
         },
         {
          "num_sales": 40553,
          "num_unique_customers": 11372,
          "revenue": 884.7249322033879,
          "t_dat": "2019-08-03T00:00:00"
         },
         {
          "num_sales": 34634,
          "num_unique_customers": 8493,
          "revenue": 784.974457627117,
          "t_dat": "2019-08-04T00:00:00"
         },
         {
          "num_sales": 44248,
          "num_unique_customers": 11303,
          "revenue": 1018.8517457627097,
          "t_dat": "2019-08-05T00:00:00"
         },
         {
          "num_sales": 48092,
          "num_unique_customers": 12692,
          "revenue": 1081.1596779660995,
          "t_dat": "2019-08-06T00:00:00"
         },
         {
          "num_sales": 46769,
          "num_unique_customers": 12542,
          "revenue": 1087.540135593218,
          "t_dat": "2019-08-07T00:00:00"
         },
         {
          "num_sales": 45867,
          "num_unique_customers": 12821,
          "revenue": 1059.3899152542351,
          "t_dat": "2019-08-08T00:00:00"
         },
         {
          "num_sales": 39561,
          "num_unique_customers": 10954,
          "revenue": 929.4704745762693,
          "t_dat": "2019-08-09T00:00:00"
         },
         {
          "num_sales": 41323,
          "num_unique_customers": 11620,
          "revenue": 972.6074406779642,
          "t_dat": "2019-08-10T00:00:00"
         },
         {
          "num_sales": 32932,
          "num_unique_customers": 8226,
          "revenue": 819.7877627118629,
          "t_dat": "2019-08-11T00:00:00"
         },
         {
          "num_sales": 39689,
          "num_unique_customers": 10484,
          "revenue": 1010.7411355932185,
          "t_dat": "2019-08-12T00:00:00"
         },
         {
          "num_sales": 45355,
          "num_unique_customers": 12018,
          "revenue": 1105.3955254237267,
          "t_dat": "2019-08-13T00:00:00"
         },
         {
          "num_sales": 53274,
          "num_unique_customers": 13398,
          "revenue": 1185.2061694915228,
          "t_dat": "2019-08-14T00:00:00"
         },
         {
          "num_sales": 51943,
          "num_unique_customers": 13297,
          "revenue": 1156.0950338983027,
          "t_dat": "2019-08-15T00:00:00"
         },
         {
          "num_sales": 45866,
          "num_unique_customers": 12384,
          "revenue": 1033.923288135591,
          "t_dat": "2019-08-16T00:00:00"
         },
         {
          "num_sales": 43572,
          "num_unique_customers": 11733,
          "revenue": 1001.8229830508454,
          "t_dat": "2019-08-17T00:00:00"
         },
         {
          "num_sales": 45329,
          "num_unique_customers": 10292,
          "revenue": 1094.541254237286,
          "t_dat": "2019-08-18T00:00:00"
         },
         {
          "num_sales": 39571,
          "num_unique_customers": 10629,
          "revenue": 988.4832372881336,
          "t_dat": "2019-08-19T00:00:00"
         },
         {
          "num_sales": 41351,
          "num_unique_customers": 11824,
          "revenue": 1085.4184576271166,
          "t_dat": "2019-08-20T00:00:00"
         },
         {
          "num_sales": 42056,
          "num_unique_customers": 12162,
          "revenue": 1117.1952881355912,
          "t_dat": "2019-08-21T00:00:00"
         },
         {
          "num_sales": 40190,
          "num_unique_customers": 12491,
          "revenue": 1058.375932203388,
          "t_dat": "2019-08-22T00:00:00"
         },
         {
          "num_sales": 35626,
          "num_unique_customers": 11631,
          "revenue": 915.3724406779644,
          "t_dat": "2019-08-23T00:00:00"
         },
         {
          "num_sales": 32581,
          "num_unique_customers": 10352,
          "revenue": 841.139423728812,
          "t_dat": "2019-08-24T00:00:00"
         },
         {
          "num_sales": 28313,
          "num_unique_customers": 7821,
          "revenue": 762.7794915254224,
          "t_dat": "2019-08-25T00:00:00"
         },
         {
          "num_sales": 31842,
          "num_unique_customers": 9363,
          "revenue": 892.4742881355917,
          "t_dat": "2019-08-26T00:00:00"
         },
         {
          "num_sales": 31754,
          "num_unique_customers": 9525,
          "revenue": 871.7882542372865,
          "t_dat": "2019-08-27T00:00:00"
         },
         {
          "num_sales": 34884,
          "num_unique_customers": 10426,
          "revenue": 954.7421016949136,
          "t_dat": "2019-08-28T00:00:00"
         },
         {
          "num_sales": 38002,
          "num_unique_customers": 11945,
          "revenue": 1048.6060677966084,
          "t_dat": "2019-08-29T00:00:00"
         },
         {
          "num_sales": 34681,
          "num_unique_customers": 11249,
          "revenue": 959.1170338983034,
          "t_dat": "2019-08-30T00:00:00"
         },
         {
          "num_sales": 29863,
          "num_unique_customers": 9393,
          "revenue": 813.9944915254223,
          "t_dat": "2019-08-31T00:00:00"
         },
         {
          "num_sales": 33228,
          "num_unique_customers": 9171,
          "revenue": 982.552305084744,
          "t_dat": "2019-09-01T00:00:00"
         },
         {
          "num_sales": 33078,
          "num_unique_customers": 9707,
          "revenue": 1032.6766610169475,
          "t_dat": "2019-09-02T00:00:00"
         },
         {
          "num_sales": 33981,
          "num_unique_customers": 9849,
          "revenue": 1060.3185084745746,
          "t_dat": "2019-09-03T00:00:00"
         },
         {
          "num_sales": 34530,
          "num_unique_customers": 10182,
          "revenue": 1086.7353728813541,
          "t_dat": "2019-09-04T00:00:00"
         },
         {
          "num_sales": 43200,
          "num_unique_customers": 13041,
          "revenue": 1549.0567118644046,
          "t_dat": "2019-09-05T00:00:00"
         },
         {
          "num_sales": 38762,
          "num_unique_customers": 12245,
          "revenue": 1240.1380169491506,
          "t_dat": "2019-09-06T00:00:00"
         },
         {
          "num_sales": 39480,
          "num_unique_customers": 12413,
          "revenue": 1226.4416101694896,
          "t_dat": "2019-09-07T00:00:00"
         },
         {
          "num_sales": 37052,
          "num_unique_customers": 9936,
          "revenue": 1182.8484576271169,
          "t_dat": "2019-09-08T00:00:00"
         },
         {
          "num_sales": 33377,
          "num_unique_customers": 9621,
          "revenue": 1101.3542033898289,
          "t_dat": "2019-09-09T00:00:00"
         },
         {
          "num_sales": 37719,
          "num_unique_customers": 10793,
          "revenue": 1241.737372881354,
          "t_dat": "2019-09-10T00:00:00"
         },
         {
          "num_sales": 36096,
          "num_unique_customers": 10500,
          "revenue": 1204.9480677966083,
          "t_dat": "2019-09-11T00:00:00"
         },
         {
          "num_sales": 35417,
          "num_unique_customers": 11275,
          "revenue": 1148.4454067796592,
          "t_dat": "2019-09-12T00:00:00"
         },
         {
          "num_sales": 36761,
          "num_unique_customers": 12010,
          "revenue": 1211.0869152542355,
          "t_dat": "2019-09-13T00:00:00"
         },
         {
          "num_sales": 35936,
          "num_unique_customers": 11896,
          "revenue": 1134.619966101693,
          "t_dat": "2019-09-14T00:00:00"
         },
         {
          "num_sales": 31112,
          "num_unique_customers": 8615,
          "revenue": 1026.869237288134,
          "t_dat": "2019-09-15T00:00:00"
         },
         {
          "num_sales": 33716,
          "num_unique_customers": 9773,
          "revenue": 1164.2393220338965,
          "t_dat": "2019-09-16T00:00:00"
         },
         {
          "num_sales": 37008,
          "num_unique_customers": 10857,
          "revenue": 1283.9132033898286,
          "t_dat": "2019-09-17T00:00:00"
         },
         {
          "num_sales": 39063,
          "num_unique_customers": 11871,
          "revenue": 1333.731406779659,
          "t_dat": "2019-09-18T00:00:00"
         },
         {
          "num_sales": 36491,
          "num_unique_customers": 11669,
          "revenue": 1230.0396101694896,
          "t_dat": "2019-09-19T00:00:00"
         },
         {
          "num_sales": 31508,
          "num_unique_customers": 11019,
          "revenue": 1023.6388813559306,
          "t_dat": "2019-09-20T00:00:00"
         },
         {
          "num_sales": 20542,
          "num_unique_customers": 7485,
          "revenue": 655.6502711864396,
          "t_dat": "2019-09-21T00:00:00"
         },
         {
          "num_sales": 33950,
          "num_unique_customers": 9369,
          "revenue": 1168.962271186439,
          "t_dat": "2019-09-22T00:00:00"
         },
         {
          "num_sales": 34076,
          "num_unique_customers": 9766,
          "revenue": 1197.5768305084728,
          "t_dat": "2019-09-23T00:00:00"
         },
         {
          "num_sales": 36702,
          "num_unique_customers": 10975,
          "revenue": 1262.190152542371,
          "t_dat": "2019-09-24T00:00:00"
         },
         {
          "num_sales": 41256,
          "num_unique_customers": 12497,
          "revenue": 1415.247220338981,
          "t_dat": "2019-09-25T00:00:00"
         },
         {
          "num_sales": 37128,
          "num_unique_customers": 11757,
          "revenue": 1325.1101016949133,
          "t_dat": "2019-09-26T00:00:00"
         },
         {
          "num_sales": 35597,
          "num_unique_customers": 12208,
          "revenue": 1187.1600677966082,
          "t_dat": "2019-09-27T00:00:00"
         },
         {
          "num_sales": 198622,
          "num_unique_customers": 42062,
          "revenue": 6161.6030677966,
          "t_dat": "2019-09-28T00:00:00"
         },
         {
          "num_sales": 40043,
          "num_unique_customers": 11192,
          "revenue": 1359.990254237286,
          "t_dat": "2019-09-29T00:00:00"
         },
         {
          "num_sales": 31747,
          "num_unique_customers": 9744,
          "revenue": 1105.1683898305068,
          "t_dat": "2019-09-30T00:00:00"
         },
         {
          "num_sales": 40412,
          "num_unique_customers": 12277,
          "revenue": 1437.1608644067776,
          "t_dat": "2019-10-01T00:00:00"
         },
         {
          "num_sales": 63452,
          "num_unique_customers": 17246,
          "revenue": 1928.3217288135563,
          "t_dat": "2019-10-02T00:00:00"
         },
         {
          "num_sales": 50775,
          "num_unique_customers": 15203,
          "revenue": 1567.3220847457603,
          "t_dat": "2019-10-03T00:00:00"
         },
         {
          "num_sales": 43558,
          "num_unique_customers": 13320,
          "revenue": 1380.9482711864384,
          "t_dat": "2019-10-04T00:00:00"
         },
         {
          "num_sales": 43387,
          "num_unique_customers": 14440,
          "revenue": 1327.061779661015,
          "t_dat": "2019-10-05T00:00:00"
         },
         {
          "num_sales": 42390,
          "num_unique_customers": 11417,
          "revenue": 1332.6384576271166,
          "t_dat": "2019-10-06T00:00:00"
         },
         {
          "num_sales": 39091,
          "num_unique_customers": 11434,
          "revenue": 1261.8524576271168,
          "t_dat": "2019-10-07T00:00:00"
         },
         {
          "num_sales": 37840,
          "num_unique_customers": 11329,
          "revenue": 1247.9563898305066,
          "t_dat": "2019-10-08T00:00:00"
         },
         {
          "num_sales": 44476,
          "num_unique_customers": 13069,
          "revenue": 1414.9638135593198,
          "t_dat": "2019-10-09T00:00:00"
         },
         {
          "num_sales": 38121,
          "num_unique_customers": 11946,
          "revenue": 1198.6797627118626,
          "t_dat": "2019-10-10T00:00:00"
         },
         {
          "num_sales": 32866,
          "num_unique_customers": 10724,
          "revenue": 1031.0618813559306,
          "t_dat": "2019-10-11T00:00:00"
         },
         {
          "num_sales": 36954,
          "num_unique_customers": 12449,
          "revenue": 1154.5268644067778,
          "t_dat": "2019-10-12T00:00:00"
         },
         {
          "num_sales": 33358,
          "num_unique_customers": 9442,
          "revenue": 1027.680644067795,
          "t_dat": "2019-10-13T00:00:00"
         },
         {
          "num_sales": 31945,
          "num_unique_customers": 9644,
          "revenue": 999.3247457627103,
          "t_dat": "2019-10-14T00:00:00"
         },
         {
          "num_sales": 34410,
          "num_unique_customers": 10981,
          "revenue": 1102.7700338983034,
          "t_dat": "2019-10-15T00:00:00"
         },
         {
          "num_sales": 37522,
          "num_unique_customers": 11667,
          "revenue": 1182.1400338983033,
          "t_dat": "2019-10-16T00:00:00"
         },
         {
          "num_sales": 31801,
          "num_unique_customers": 11059,
          "revenue": 998.3453220338968,
          "t_dat": "2019-10-17T00:00:00"
         },
         {
          "num_sales": 29189,
          "num_unique_customers": 10521,
          "revenue": 919.0261186440664,
          "t_dat": "2019-10-18T00:00:00"
         },
         {
          "num_sales": 32588,
          "num_unique_customers": 11591,
          "revenue": 1032.0394576271171,
          "t_dat": "2019-10-19T00:00:00"
         },
         {
          "num_sales": 27989,
          "num_unique_customers": 8422,
          "revenue": 929.3257966101681,
          "t_dat": "2019-10-20T00:00:00"
         },
         {
          "num_sales": 31697,
          "num_unique_customers": 10349,
          "revenue": 1051.1994915254222,
          "t_dat": "2019-10-21T00:00:00"
         },
         {
          "num_sales": 35293,
          "num_unique_customers": 11858,
          "revenue": 1148.1024745762695,
          "t_dat": "2019-10-22T00:00:00"
         },
         {
          "num_sales": 37008,
          "num_unique_customers": 12452,
          "revenue": 1216.9202711864389,
          "t_dat": "2019-10-23T00:00:00"
         },
         {
          "num_sales": 37675,
          "num_unique_customers": 13158,
          "revenue": 1221.2819661016931,
          "t_dat": "2019-10-24T00:00:00"
         },
         {
          "num_sales": 37261,
          "num_unique_customers": 13462,
          "revenue": 1204.8221016949135,
          "t_dat": "2019-10-25T00:00:00"
         },
         {
          "num_sales": 34845,
          "num_unique_customers": 12379,
          "revenue": 1119.1237457627103,
          "t_dat": "2019-10-26T00:00:00"
         },
         {
          "num_sales": 33399,
          "num_unique_customers": 10457,
          "revenue": 1122.22261016949,
          "t_dat": "2019-10-27T00:00:00"
         },
         {
          "num_sales": 29691,
          "num_unique_customers": 9556,
          "revenue": 1040.8022711864392,
          "t_dat": "2019-10-28T00:00:00"
         },
         {
          "num_sales": 30235,
          "num_unique_customers": 9912,
          "revenue": 1052.175796610168,
          "t_dat": "2019-10-29T00:00:00"
         },
         {
          "num_sales": 34411,
          "num_unique_customers": 11200,
          "revenue": 1191.619491525422,
          "t_dat": "2019-10-30T00:00:00"
         },
         {
          "num_sales": 33133,
          "num_unique_customers": 11219,
          "revenue": 1146.291864406778,
          "t_dat": "2019-10-31T00:00:00"
         },
         {
          "num_sales": 32518,
          "num_unique_customers": 11380,
          "revenue": 1118.763237288134,
          "t_dat": "2019-11-01T00:00:00"
         },
         {
          "num_sales": 35299,
          "num_unique_customers": 12569,
          "revenue": 1208.7732033898287,
          "t_dat": "2019-11-02T00:00:00"
         },
         {
          "num_sales": 84406,
          "num_unique_customers": 20415,
          "revenue": 2738.4624576271144,
          "t_dat": "2019-11-03T00:00:00"
         },
         {
          "num_sales": 28038,
          "num_unique_customers": 8981,
          "revenue": 974.1735932203376,
          "t_dat": "2019-11-04T00:00:00"
         },
         {
          "num_sales": 28336,
          "num_unique_customers": 9462,
          "revenue": 987.2824745762698,
          "t_dat": "2019-11-05T00:00:00"
         },
         {
          "num_sales": 29694,
          "num_unique_customers": 10382,
          "revenue": 1009.4259661016935,
          "t_dat": "2019-11-06T00:00:00"
         },
         {
          "num_sales": 28221,
          "num_unique_customers": 9865,
          "revenue": 965.6569322033885,
          "t_dat": "2019-11-07T00:00:00"
         },
         {
          "num_sales": 30760,
          "num_unique_customers": 11392,
          "revenue": 1036.3715084745747,
          "t_dat": "2019-11-08T00:00:00"
         },
         {
          "num_sales": 31131,
          "num_unique_customers": 11451,
          "revenue": 1039.170983050846,
          "t_dat": "2019-11-09T00:00:00"
         },
         {
          "num_sales": 25462,
          "num_unique_customers": 8305,
          "revenue": 888.7046271186429,
          "t_dat": "2019-11-10T00:00:00"
         },
         {
          "num_sales": 41049,
          "num_unique_customers": 12479,
          "revenue": 1412.9390169491505,
          "t_dat": "2019-11-11T00:00:00"
         },
         {
          "num_sales": 25201,
          "num_unique_customers": 8713,
          "revenue": 897.3929152542361,
          "t_dat": "2019-11-12T00:00:00"
         },
         {
          "num_sales": 27669,
          "num_unique_customers": 9442,
          "revenue": 957.5164406779647,
          "t_dat": "2019-11-13T00:00:00"
         },
         {
          "num_sales": 28256,
          "num_unique_customers": 10171,
          "revenue": 985.5495762711851,
          "t_dat": "2019-11-14T00:00:00"
         },
         {
          "num_sales": 28366,
          "num_unique_customers": 10646,
          "revenue": 968.8953050847443,
          "t_dat": "2019-11-15T00:00:00"
         },
         {
          "num_sales": 31297,
          "num_unique_customers": 11765,
          "revenue": 1058.694644067795,
          "t_dat": "2019-11-16T00:00:00"
         },
         {
          "num_sales": 25967,
          "num_unique_customers": 8401,
          "revenue": 921.0244576271174,
          "t_dat": "2019-11-17T00:00:00"
         },
         {
          "num_sales": 23989,
          "num_unique_customers": 7955,
          "revenue": 867.4640338983039,
          "t_dat": "2019-11-18T00:00:00"
         },
         {
          "num_sales": 25831,
          "num_unique_customers": 8728,
          "revenue": 913.2263389830496,
          "t_dat": "2019-11-19T00:00:00"
         },
         {
          "num_sales": 29013,
          "num_unique_customers": 10265,
          "revenue": 1009.168355932202,
          "t_dat": "2019-11-20T00:00:00"
         },
         {
          "num_sales": 28532,
          "num_unique_customers": 10474,
          "revenue": 985.61254237288,
          "t_dat": "2019-11-21T00:00:00"
         },
         {
          "num_sales": 30161,
          "num_unique_customers": 11350,
          "revenue": 1007.4625084745747,
          "t_dat": "2019-11-22T00:00:00"
         },
         {
          "num_sales": 31419,
          "num_unique_customers": 11825,
          "revenue": 1019.1101525423713,
          "t_dat": "2019-11-23T00:00:00"
         },
         {
          "num_sales": 25957,
          "num_unique_customers": 8939,
          "revenue": 868.946728813558,
          "t_dat": "2019-11-24T00:00:00"
         },
         {
          "num_sales": 38160,
          "num_unique_customers": 12595,
          "revenue": 1199.4700169491507,
          "t_dat": "2019-11-25T00:00:00"
         },
         {
          "num_sales": 37160,
          "num_unique_customers": 12499,
          "revenue": 1174.0162372881337,
          "t_dat": "2019-11-26T00:00:00"
         },
         {
          "num_sales": 33628,
          "num_unique_customers": 12361,
          "revenue": 1245.9616271186424,
          "t_dat": "2019-11-27T00:00:00"
         },
         {
          "num_sales": 106257,
          "num_unique_customers": 28428,
          "revenue": 3103.027932203385,
          "t_dat": "2019-11-28T00:00:00"
         },
         {
          "num_sales": 160875,
          "num_unique_customers": 47643,
          "revenue": 4444.3423898305,
          "t_dat": "2019-11-29T00:00:00"
         },
         {
          "num_sales": 65381,
          "num_unique_customers": 20796,
          "revenue": 1847.813796610166,
          "t_dat": "2019-11-30T00:00:00"
         },
         {
          "num_sales": 68468,
          "num_unique_customers": 19270,
          "revenue": 1806.6985762711834,
          "t_dat": "2019-12-01T00:00:00"
         },
         {
          "num_sales": 60843,
          "num_unique_customers": 18013,
          "revenue": 1626.0400508474547,
          "t_dat": "2019-12-02T00:00:00"
         },
         {
          "num_sales": 22951,
          "num_unique_customers": 8785,
          "revenue": 768.7769152542361,
          "t_dat": "2019-12-03T00:00:00"
         },
         {
          "num_sales": 25105,
          "num_unique_customers": 9615,
          "revenue": 855.7742542372869,
          "t_dat": "2019-12-04T00:00:00"
         },
         {
          "num_sales": 22457,
          "num_unique_customers": 8909,
          "revenue": 758.9953559322023,
          "t_dat": "2019-12-05T00:00:00"
         },
         {
          "num_sales": 24432,
          "num_unique_customers": 9602,
          "revenue": 789.9276440677954,
          "t_dat": "2019-12-06T00:00:00"
         },
         {
          "num_sales": 28188,
          "num_unique_customers": 11094,
          "revenue": 897.8043220338969,
          "t_dat": "2019-12-07T00:00:00"
         },
         {
          "num_sales": 23345,
          "num_unique_customers": 8224,
          "revenue": 793.053881355931,
          "t_dat": "2019-12-08T00:00:00"
         },
         {
          "num_sales": 24980,
          "num_unique_customers": 9070,
          "revenue": 849.9100169491514,
          "t_dat": "2019-12-09T00:00:00"
         },
         {
          "num_sales": 28309,
          "num_unique_customers": 10276,
          "revenue": 940.922915254236,
          "t_dat": "2019-12-10T00:00:00"
         },
         {
          "num_sales": 31451,
          "num_unique_customers": 11561,
          "revenue": 1025.8241186440664,
          "t_dat": "2019-12-11T00:00:00"
         },
         {
          "num_sales": 31493,
          "num_unique_customers": 12253,
          "revenue": 1006.9618305084732,
          "t_dat": "2019-12-12T00:00:00"
         },
         {
          "num_sales": 28924,
          "num_unique_customers": 11141,
          "revenue": 925.9741355932191,
          "t_dat": "2019-12-13T00:00:00"
         },
         {
          "num_sales": 32329,
          "num_unique_customers": 12459,
          "revenue": 987.6616440677952,
          "t_dat": "2019-12-14T00:00:00"
         },
         {
          "num_sales": 28747,
          "num_unique_customers": 10032,
          "revenue": 915.2002372881343,
          "t_dat": "2019-12-15T00:00:00"
         },
         {
          "num_sales": 30041,
          "num_unique_customers": 10706,
          "revenue": 922.2252711864394,
          "t_dat": "2019-12-16T00:00:00"
         },
         {
          "num_sales": 33931,
          "num_unique_customers": 12239,
          "revenue": 968.299983050846,
          "t_dat": "2019-12-17T00:00:00"
         },
         {
          "num_sales": 66070,
          "num_unique_customers": 19751,
          "revenue": 1684.5459830508444,
          "t_dat": "2019-12-18T00:00:00"
         },
         {
          "num_sales": 53330,
          "num_unique_customers": 17140,
          "revenue": 1326.879915254235,
          "t_dat": "2019-12-19T00:00:00"
         },
         {
          "num_sales": 52454,
          "num_unique_customers": 17960,
          "revenue": 1242.2328305084723,
          "t_dat": "2019-12-20T00:00:00"
         },
         {
          "num_sales": 56187,
          "num_unique_customers": 19024,
          "revenue": 1362.9191186440653,
          "t_dat": "2019-12-21T00:00:00"
         },
         {
          "num_sales": 46731,
          "num_unique_customers": 14770,
          "revenue": 1158.312474576269,
          "t_dat": "2019-12-22T00:00:00"
         },
         {
          "num_sales": 51240,
          "num_unique_customers": 17140,
          "revenue": 1208.1923050847433,
          "t_dat": "2019-12-23T00:00:00"
         },
         {
          "num_sales": 37927,
          "num_unique_customers": 13149,
          "revenue": 907.8097796610151,
          "t_dat": "2019-12-24T00:00:00"
         },
         {
          "num_sales": 13637,
          "num_unique_customers": 3854,
          "revenue": 408.18927118644,
          "t_dat": "2019-12-25T00:00:00"
         },
         {
          "num_sales": 20328,
          "num_unique_customers": 6088,
          "revenue": 553.3544576271177,
          "t_dat": "2019-12-26T00:00:00"
         },
         {
          "num_sales": 40678,
          "num_unique_customers": 13916,
          "revenue": 1059.405847457625,
          "t_dat": "2019-12-27T00:00:00"
         },
         {
          "num_sales": 39513,
          "num_unique_customers": 13324,
          "revenue": 1039.74081355932,
          "t_dat": "2019-12-28T00:00:00"
         },
         {
          "num_sales": 34918,
          "num_unique_customers": 10859,
          "revenue": 943.241898305083,
          "t_dat": "2019-12-29T00:00:00"
         },
         {
          "num_sales": 34915,
          "num_unique_customers": 12297,
          "revenue": 908.9407288135576,
          "t_dat": "2019-12-30T00:00:00"
         },
         {
          "num_sales": 24393,
          "num_unique_customers": 8882,
          "revenue": 623.775881355931,
          "t_dat": "2019-12-31T00:00:00"
         },
         {
          "num_sales": 12760,
          "num_unique_customers": 3484,
          "revenue": 384.8911355932197,
          "t_dat": "2020-01-01T00:00:00"
         },
         {
          "num_sales": 44864,
          "num_unique_customers": 13836,
          "revenue": 1161.7539491525401,
          "t_dat": "2020-01-02T00:00:00"
         },
         {
          "num_sales": 46190,
          "num_unique_customers": 13940,
          "revenue": 1151.6487457627095,
          "t_dat": "2020-01-03T00:00:00"
         },
         {
          "num_sales": 44507,
          "num_unique_customers": 13519,
          "revenue": 1123.3146779660995,
          "t_dat": "2020-01-04T00:00:00"
         },
         {
          "num_sales": 34813,
          "num_unique_customers": 9696,
          "revenue": 909.635271186439,
          "t_dat": "2020-01-05T00:00:00"
         },
         {
          "num_sales": 29430,
          "num_unique_customers": 9047,
          "revenue": 793.7943220338968,
          "t_dat": "2020-01-06T00:00:00"
         },
         {
          "num_sales": 29251,
          "num_unique_customers": 9077,
          "revenue": 794.4936949152528,
          "t_dat": "2020-01-07T00:00:00"
         },
         {
          "num_sales": 38700,
          "num_unique_customers": 11281,
          "revenue": 991.6767966101676,
          "t_dat": "2020-01-08T00:00:00"
         },
         {
          "num_sales": 36746,
          "num_unique_customers": 10879,
          "revenue": 940.1402033898287,
          "t_dat": "2020-01-09T00:00:00"
         },
         {
          "num_sales": 34590,
          "num_unique_customers": 10725,
          "revenue": 892.5211525423712,
          "t_dat": "2020-01-10T00:00:00"
         },
         {
          "num_sales": 36101,
          "num_unique_customers": 11691,
          "revenue": 927.8257966101677,
          "t_dat": "2020-01-11T00:00:00"
         },
         {
          "num_sales": 34899,
          "num_unique_customers": 9322,
          "revenue": 941.895898305083,
          "t_dat": "2020-01-12T00:00:00"
         },
         {
          "num_sales": 31333,
          "num_unique_customers": 8885,
          "revenue": 837.942203389829,
          "t_dat": "2020-01-13T00:00:00"
         },
         {
          "num_sales": 32103,
          "num_unique_customers": 9090,
          "revenue": 859.7936610169477,
          "t_dat": "2020-01-14T00:00:00"
         },
         {
          "num_sales": 32972,
          "num_unique_customers": 9413,
          "revenue": 876.0490338983035,
          "t_dat": "2020-01-15T00:00:00"
         },
         {
          "num_sales": 33827,
          "num_unique_customers": 10452,
          "revenue": 894.1049999999984,
          "t_dat": "2020-01-16T00:00:00"
         },
         {
          "num_sales": 31236,
          "num_unique_customers": 9893,
          "revenue": 818.4341694915239,
          "t_dat": "2020-01-17T00:00:00"
         },
         {
          "num_sales": 34025,
          "num_unique_customers": 10897,
          "revenue": 883.1991694915238,
          "t_dat": "2020-01-18T00:00:00"
         },
         {
          "num_sales": 29787,
          "num_unique_customers": 7978,
          "revenue": 801.7902033898291,
          "t_dat": "2020-01-19T00:00:00"
         },
         {
          "num_sales": 29107,
          "num_unique_customers": 8659,
          "revenue": 779.988694915253,
          "t_dat": "2020-01-20T00:00:00"
         },
         {
          "num_sales": 25632,
          "num_unique_customers": 8025,
          "revenue": 693.6894237288124,
          "t_dat": "2020-01-21T00:00:00"
         },
         {
          "num_sales": 34075,
          "num_unique_customers": 10148,
          "revenue": 927.8641186440663,
          "t_dat": "2020-01-22T00:00:00"
         },
         {
          "num_sales": 36257,
          "num_unique_customers": 11402,
          "revenue": 981.1125932203373,
          "t_dat": "2020-01-23T00:00:00"
         },
         {
          "num_sales": 38920,
          "num_unique_customers": 12672,
          "revenue": 1047.5912033898287,
          "t_dat": "2020-01-24T00:00:00"
         },
         {
          "num_sales": 43377,
          "num_unique_customers": 13961,
          "revenue": 1155.7170508474555,
          "t_dat": "2020-01-25T00:00:00"
         },
         {
          "num_sales": 43586,
          "num_unique_customers": 12660,
          "revenue": 1261.9679661016928,
          "t_dat": "2020-01-26T00:00:00"
         },
         {
          "num_sales": 35427,
          "num_unique_customers": 10445,
          "revenue": 1003.5246610169474,
          "t_dat": "2020-01-27T00:00:00"
         },
         {
          "num_sales": 33689,
          "num_unique_customers": 10271,
          "revenue": 941.5572542372867,
          "t_dat": "2020-01-28T00:00:00"
         },
         {
          "num_sales": 36833,
          "num_unique_customers": 11449,
          "revenue": 1035.102457627117,
          "t_dat": "2020-01-29T00:00:00"
         },
         {
          "num_sales": 36058,
          "num_unique_customers": 12031,
          "revenue": 1000.2999322033882,
          "t_dat": "2020-01-30T00:00:00"
         },
         {
          "num_sales": 35259,
          "num_unique_customers": 11914,
          "revenue": 980.263050847456,
          "t_dat": "2020-01-31T00:00:00"
         },
         {
          "num_sales": 38017,
          "num_unique_customers": 12590,
          "revenue": 1046.330525423727,
          "t_dat": "2020-02-01T00:00:00"
         },
         {
          "num_sales": 31387,
          "num_unique_customers": 8831,
          "revenue": 911.4704237288122,
          "t_dat": "2020-02-02T00:00:00"
         },
         {
          "num_sales": 31845,
          "num_unique_customers": 9727,
          "revenue": 913.9196440677952,
          "t_dat": "2020-02-03T00:00:00"
         },
         {
          "num_sales": 30914,
          "num_unique_customers": 9541,
          "revenue": 888.818508474575,
          "t_dat": "2020-02-04T00:00:00"
         },
         {
          "num_sales": 36030,
          "num_unique_customers": 11511,
          "revenue": 1031.7167627118629,
          "t_dat": "2020-02-05T00:00:00"
         },
         {
          "num_sales": 41058,
          "num_unique_customers": 12929,
          "revenue": 1139.3065084745745,
          "t_dat": "2020-02-06T00:00:00"
         },
         {
          "num_sales": 38144,
          "num_unique_customers": 12753,
          "revenue": 1041.4222203389813,
          "t_dat": "2020-02-07T00:00:00"
         },
         {
          "num_sales": 39288,
          "num_unique_customers": 12882,
          "revenue": 1075.7725084745746,
          "t_dat": "2020-02-08T00:00:00"
         },
         {
          "num_sales": 33788,
          "num_unique_customers": 8975,
          "revenue": 984.3282203389816,
          "t_dat": "2020-02-09T00:00:00"
         },
         {
          "num_sales": 30260,
          "num_unique_customers": 9231,
          "revenue": 860.6827457627105,
          "t_dat": "2020-02-10T00:00:00"
         },
         {
          "num_sales": 31588,
          "num_unique_customers": 9920,
          "revenue": 907.1728474576257,
          "t_dat": "2020-02-11T00:00:00"
         },
         {
          "num_sales": 29543,
          "num_unique_customers": 9822,
          "revenue": 844.824881355931,
          "t_dat": "2020-02-12T00:00:00"
         },
         {
          "num_sales": 35157,
          "num_unique_customers": 11121,
          "revenue": 1030.278644067795,
          "t_dat": "2020-02-13T00:00:00"
         },
         {
          "num_sales": 32158,
          "num_unique_customers": 10962,
          "revenue": 900.8352372881342,
          "t_dat": "2020-02-14T00:00:00"
         },
         {
          "num_sales": 37570,
          "num_unique_customers": 12605,
          "revenue": 1041.9955423728798,
          "t_dat": "2020-02-15T00:00:00"
         },
         {
          "num_sales": 32814,
          "num_unique_customers": 9009,
          "revenue": 960.8380847457613,
          "t_dat": "2020-02-16T00:00:00"
         },
         {
          "num_sales": 32415,
          "num_unique_customers": 9728,
          "revenue": 927.0687457627104,
          "t_dat": "2020-02-17T00:00:00"
         },
         {
          "num_sales": 33069,
          "num_unique_customers": 10508,
          "revenue": 940.213796610168,
          "t_dat": "2020-02-18T00:00:00"
         },
         {
          "num_sales": 26943,
          "num_unique_customers": 9048,
          "revenue": 748.2798983050835,
          "t_dat": "2020-02-19T00:00:00"
         },
         {
          "num_sales": 39201,
          "num_unique_customers": 12713,
          "revenue": 1219.9056101694896,
          "t_dat": "2020-02-20T00:00:00"
         },
         {
          "num_sales": 34720,
          "num_unique_customers": 11639,
          "revenue": 968.8737796610153,
          "t_dat": "2020-02-21T00:00:00"
         },
         {
          "num_sales": 34562,
          "num_unique_customers": 10991,
          "revenue": 981.6192203389814,
          "t_dat": "2020-02-22T00:00:00"
         },
         {
          "num_sales": 29957,
          "num_unique_customers": 7984,
          "revenue": 888.319796610168,
          "t_dat": "2020-02-23T00:00:00"
         },
         {
          "num_sales": 30865,
          "num_unique_customers": 8982,
          "revenue": 923.7790677966087,
          "t_dat": "2020-02-24T00:00:00"
         },
         {
          "num_sales": 35114,
          "num_unique_customers": 10862,
          "revenue": 1026.1117118644052,
          "t_dat": "2020-02-25T00:00:00"
         },
         {
          "num_sales": 38859,
          "num_unique_customers": 12119,
          "revenue": 1157.7318305084727,
          "t_dat": "2020-02-26T00:00:00"
         },
         {
          "num_sales": 41095,
          "num_unique_customers": 12889,
          "revenue": 1235.899593220337,
          "t_dat": "2020-02-27T00:00:00"
         },
         {
          "num_sales": 35822,
          "num_unique_customers": 11855,
          "revenue": 1038.640423728812,
          "t_dat": "2020-02-28T00:00:00"
         },
         {
          "num_sales": 39676,
          "num_unique_customers": 13084,
          "revenue": 1156.7200338983032,
          "t_dat": "2020-02-29T00:00:00"
         },
         {
          "num_sales": 37082,
          "num_unique_customers": 10433,
          "revenue": 1129.321050847456,
          "t_dat": "2020-03-01T00:00:00"
         },
         {
          "num_sales": 30941,
          "num_unique_customers": 9183,
          "revenue": 934.817135593219,
          "t_dat": "2020-03-02T00:00:00"
         },
         {
          "num_sales": 36802,
          "num_unique_customers": 10905,
          "revenue": 1095.026050847456,
          "t_dat": "2020-03-03T00:00:00"
         },
         {
          "num_sales": 56629,
          "num_unique_customers": 15208,
          "revenue": 1562.9251525423701,
          "t_dat": "2020-03-04T00:00:00"
         },
         {
          "num_sales": 46043,
          "num_unique_customers": 13067,
          "revenue": 1262.9607457627096,
          "t_dat": "2020-03-05T00:00:00"
         },
         {
          "num_sales": 40139,
          "num_unique_customers": 12427,
          "revenue": 1108.457525423727,
          "t_dat": "2020-03-06T00:00:00"
         },
         {
          "num_sales": 44794,
          "num_unique_customers": 14047,
          "revenue": 1248.627033898303,
          "t_dat": "2020-03-07T00:00:00"
         },
         {
          "num_sales": 39775,
          "num_unique_customers": 10420,
          "revenue": 1129.814152542371,
          "t_dat": "2020-03-08T00:00:00"
         },
         {
          "num_sales": 37516,
          "num_unique_customers": 10131,
          "revenue": 1061.8138305084728,
          "t_dat": "2020-03-09T00:00:00"
         },
         {
          "num_sales": 34895,
          "num_unique_customers": 9728,
          "revenue": 1004.773644067795,
          "t_dat": "2020-03-10T00:00:00"
         },
         {
          "num_sales": 41503,
          "num_unique_customers": 12168,
          "revenue": 1186.646779661015,
          "t_dat": "2020-03-11T00:00:00"
         },
         {
          "num_sales": 32748,
          "num_unique_customers": 10174,
          "revenue": 941.31561016949,
          "t_dat": "2020-03-12T00:00:00"
         },
         {
          "num_sales": 29159,
          "num_unique_customers": 9051,
          "revenue": 836.1156101694902,
          "t_dat": "2020-03-13T00:00:00"
         },
         {
          "num_sales": 33680,
          "num_unique_customers": 10691,
          "revenue": 963.3604067796595,
          "t_dat": "2020-03-14T00:00:00"
         },
         {
          "num_sales": 25601,
          "num_unique_customers": 6617,
          "revenue": 716.5800847457615,
          "t_dat": "2020-03-15T00:00:00"
         },
         {
          "num_sales": 19385,
          "num_unique_customers": 5613,
          "revenue": 565.9536271186431,
          "t_dat": "2020-03-16T00:00:00"
         },
         {
          "num_sales": 23792,
          "num_unique_customers": 7201,
          "revenue": 706.3706440677954,
          "t_dat": "2020-03-17T00:00:00"
         },
         {
          "num_sales": 27091,
          "num_unique_customers": 8067,
          "revenue": 803.3477627118631,
          "t_dat": "2020-03-18T00:00:00"
         },
         {
          "num_sales": 24810,
          "num_unique_customers": 7159,
          "revenue": 741.6106779661005,
          "t_dat": "2020-03-19T00:00:00"
         },
         {
          "num_sales": 25830,
          "num_unique_customers": 7229,
          "revenue": 765.0278644067783,
          "t_dat": "2020-03-20T00:00:00"
         },
         {
          "num_sales": 27792,
          "num_unique_customers": 7345,
          "revenue": 798.45754237288,
          "t_dat": "2020-03-21T00:00:00"
         },
         {
          "num_sales": 34956,
          "num_unique_customers": 9248,
          "revenue": 990.2839661016932,
          "t_dat": "2020-03-22T00:00:00"
         },
         {
          "num_sales": 25907,
          "num_unique_customers": 6638,
          "revenue": 744.8288644067784,
          "t_dat": "2020-03-23T00:00:00"
         },
         {
          "num_sales": 32432,
          "num_unique_customers": 8194,
          "revenue": 923.3997627118629,
          "t_dat": "2020-03-24T00:00:00"
         },
         {
          "num_sales": 34904,
          "num_unique_customers": 8748,
          "revenue": 1004.0425423728797,
          "t_dat": "2020-03-25T00:00:00"
         },
         {
          "num_sales": 35264,
          "num_unique_customers": 9019,
          "revenue": 1087.2209322033882,
          "t_dat": "2020-03-26T00:00:00"
         },
         {
          "num_sales": 31779,
          "num_unique_customers": 7992,
          "revenue": 953.6560169491511,
          "t_dat": "2020-03-27T00:00:00"
         },
         {
          "num_sales": 31114,
          "num_unique_customers": 7662,
          "revenue": 917.7002711864392,
          "t_dat": "2020-03-28T00:00:00"
         },
         {
          "num_sales": 34443,
          "num_unique_customers": 7892,
          "revenue": 1008.5635084745746,
          "t_dat": "2020-03-29T00:00:00"
         },
         {
          "num_sales": 36648,
          "num_unique_customers": 9213,
          "revenue": 1067.1376949152525,
          "t_dat": "2020-03-30T00:00:00"
         },
         {
          "num_sales": 34298,
          "num_unique_customers": 8614,
          "revenue": 1014.0481694915238,
          "t_dat": "2020-03-31T00:00:00"
         },
         {
          "num_sales": 39518,
          "num_unique_customers": 10010,
          "revenue": 1142.6307288135574,
          "t_dat": "2020-04-01T00:00:00"
         },
         {
          "num_sales": 39040,
          "num_unique_customers": 9966,
          "revenue": 1155.1111355932185,
          "t_dat": "2020-04-02T00:00:00"
         },
         {
          "num_sales": 55966,
          "num_unique_customers": 12203,
          "revenue": 1576.8348135593192,
          "t_dat": "2020-04-03T00:00:00"
         },
         {
          "num_sales": 80500,
          "num_unique_customers": 16443,
          "revenue": 2104.113186440674,
          "t_dat": "2020-04-04T00:00:00"
         },
         {
          "num_sales": 36027,
          "num_unique_customers": 8245,
          "revenue": 1042.2498135593203,
          "t_dat": "2020-04-05T00:00:00"
         },
         {
          "num_sales": 41962,
          "num_unique_customers": 10098,
          "revenue": 1226.3557118644048,
          "t_dat": "2020-04-06T00:00:00"
         },
         {
          "num_sales": 44270,
          "num_unique_customers": 10280,
          "revenue": 1278.2241525423708,
          "t_dat": "2020-04-07T00:00:00"
         },
         {
          "num_sales": 52965,
          "num_unique_customers": 12183,
          "revenue": 1519.2174067796584,
          "t_dat": "2020-04-08T00:00:00"
         },
         {
          "num_sales": 50991,
          "num_unique_customers": 11716,
          "revenue": 1465.6001186440653,
          "t_dat": "2020-04-09T00:00:00"
         },
         {
          "num_sales": 41889,
          "num_unique_customers": 9397,
          "revenue": 1222.231559322032,
          "t_dat": "2020-04-10T00:00:00"
         },
         {
          "num_sales": 162799,
          "num_unique_customers": 28510,
          "revenue": 3961.9877627118553,
          "t_dat": "2020-04-11T00:00:00"
         },
         {
          "num_sales": 31418,
          "num_unique_customers": 6839,
          "revenue": 915.6819322033883,
          "t_dat": "2020-04-12T00:00:00"
         },
         {
          "num_sales": 32744,
          "num_unique_customers": 7035,
          "revenue": 978.4312881355917,
          "t_dat": "2020-04-13T00:00:00"
         },
         {
          "num_sales": 29072,
          "num_unique_customers": 6972,
          "revenue": 869.6631186440665,
          "t_dat": "2020-04-14T00:00:00"
         },
         {
          "num_sales": 33366,
          "num_unique_customers": 8382,
          "revenue": 1002.8206101694899,
          "t_dat": "2020-04-15T00:00:00"
         },
         {
          "num_sales": 34359,
          "num_unique_customers": 8597,
          "revenue": 1030.1811016949137,
          "t_dat": "2020-04-16T00:00:00"
         },
         {
          "num_sales": 32475,
          "num_unique_customers": 8000,
          "revenue": 971.150203389829,
          "t_dat": "2020-04-17T00:00:00"
         },
         {
          "num_sales": 32065,
          "num_unique_customers": 7787,
          "revenue": 967.8233559322018,
          "t_dat": "2020-04-18T00:00:00"
         },
         {
          "num_sales": 29562,
          "num_unique_customers": 6804,
          "revenue": 879.9908813559308,
          "t_dat": "2020-04-19T00:00:00"
         },
         {
          "num_sales": 36744,
          "num_unique_customers": 8907,
          "revenue": 1068.935118644066,
          "t_dat": "2020-04-20T00:00:00"
         },
         {
          "num_sales": 30862,
          "num_unique_customers": 7589,
          "revenue": 916.9764745762698,
          "t_dat": "2020-04-21T00:00:00"
         },
         {
          "num_sales": 37893,
          "num_unique_customers": 9398,
          "revenue": 1129.318305084744,
          "t_dat": "2020-04-22T00:00:00"
         },
         {
          "num_sales": 44438,
          "num_unique_customers": 11086,
          "revenue": 1316.8854237288115,
          "t_dat": "2020-04-23T00:00:00"
         },
         {
          "num_sales": 41437,
          "num_unique_customers": 10175,
          "revenue": 1218.3786440677945,
          "t_dat": "2020-04-24T00:00:00"
         },
         {
          "num_sales": 51396,
          "num_unique_customers": 11799,
          "revenue": 1361.939271186438,
          "t_dat": "2020-04-25T00:00:00"
         },
         {
          "num_sales": 59238,
          "num_unique_customers": 12927,
          "revenue": 1522.5410847457595,
          "t_dat": "2020-04-26T00:00:00"
         },
         {
          "num_sales": 27850,
          "num_unique_customers": 6674,
          "revenue": 789.3087627118632,
          "t_dat": "2020-04-27T00:00:00"
         },
         {
          "num_sales": 35644,
          "num_unique_customers": 9277,
          "revenue": 1026.5647457627103,
          "t_dat": "2020-04-28T00:00:00"
         },
         {
          "num_sales": 36390,
          "num_unique_customers": 9627,
          "revenue": 1052.836355932202,
          "t_dat": "2020-04-29T00:00:00"
         },
         {
          "num_sales": 38002,
          "num_unique_customers": 10114,
          "revenue": 1094.5025932203375,
          "t_dat": "2020-04-30T00:00:00"
         },
         {
          "num_sales": 32182,
          "num_unique_customers": 8277,
          "revenue": 940.824135593219,
          "t_dat": "2020-05-01T00:00:00"
         },
         {
          "num_sales": 27822,
          "num_unique_customers": 7041,
          "revenue": 815.8016779661006,
          "t_dat": "2020-05-02T00:00:00"
         },
         {
          "num_sales": 25087,
          "num_unique_customers": 6068,
          "revenue": 735.3857457627108,
          "t_dat": "2020-05-03T00:00:00"
         },
         {
          "num_sales": 28126,
          "num_unique_customers": 7372,
          "revenue": 818.7111525423717,
          "t_dat": "2020-05-04T00:00:00"
         },
         {
          "num_sales": 25874,
          "num_unique_customers": 6448,
          "revenue": 752.2998135593209,
          "t_dat": "2020-05-05T00:00:00"
         },
         {
          "num_sales": 34129,
          "num_unique_customers": 9701,
          "revenue": 955.3670847457612,
          "t_dat": "2020-05-06T00:00:00"
         },
         {
          "num_sales": 37864,
          "num_unique_customers": 10477,
          "revenue": 1061.7915423728798,
          "t_dat": "2020-05-07T00:00:00"
         },
         {
          "num_sales": 43071,
          "num_unique_customers": 11780,
          "revenue": 1170.8911694915237,
          "t_dat": "2020-05-08T00:00:00"
         },
         {
          "num_sales": 43018,
          "num_unique_customers": 12075,
          "revenue": 1162.6160508474559,
          "t_dat": "2020-05-09T00:00:00"
         },
         {
          "num_sales": 26039,
          "num_unique_customers": 6242,
          "revenue": 770.1803728813549,
          "t_dat": "2020-05-10T00:00:00"
         },
         {
          "num_sales": 37795,
          "num_unique_customers": 10358,
          "revenue": 1058.534491525422,
          "t_dat": "2020-05-11T00:00:00"
         },
         {
          "num_sales": 37670,
          "num_unique_customers": 10302,
          "revenue": 1048.2912372881337,
          "t_dat": "2020-05-12T00:00:00"
         },
         {
          "num_sales": 41121,
          "num_unique_customers": 11289,
          "revenue": 1140.7255423728793,
          "t_dat": "2020-05-13T00:00:00"
         },
         {
          "num_sales": 45407,
          "num_unique_customers": 12435,
          "revenue": 1259.9599322033878,
          "t_dat": "2020-05-14T00:00:00"
         },
         {
          "num_sales": 42451,
          "num_unique_customers": 12077,
          "revenue": 1152.4351694915235,
          "t_dat": "2020-05-15T00:00:00"
         },
         {
          "num_sales": 41721,
          "num_unique_customers": 11618,
          "revenue": 1116.5138983050829,
          "t_dat": "2020-05-16T00:00:00"
         },
         {
          "num_sales": 34390,
          "num_unique_customers": 8454,
          "revenue": 950.6213220338967,
          "t_dat": "2020-05-17T00:00:00"
         },
         {
          "num_sales": 44982,
          "num_unique_customers": 11863,
          "revenue": 1226.4624915254217,
          "t_dat": "2020-05-18T00:00:00"
         },
         {
          "num_sales": 49952,
          "num_unique_customers": 13182,
          "revenue": 1331.3666271186419,
          "t_dat": "2020-05-19T00:00:00"
         },
         {
          "num_sales": 58890,
          "num_unique_customers": 15750,
          "revenue": 1543.6521016949125,
          "t_dat": "2020-05-20T00:00:00"
         },
         {
          "num_sales": 48272,
          "num_unique_customers": 11593,
          "revenue": 1290.650694915252,
          "t_dat": "2020-05-21T00:00:00"
         },
         {
          "num_sales": 67789,
          "num_unique_customers": 17295,
          "revenue": 1737.1373559322003,
          "t_dat": "2020-05-22T00:00:00"
         },
         {
          "num_sales": 62966,
          "num_unique_customers": 16567,
          "revenue": 1629.9805762711835,
          "t_dat": "2020-05-23T00:00:00"
         },
         {
          "num_sales": 41785,
          "num_unique_customers": 10407,
          "revenue": 1184.2836949152522,
          "t_dat": "2020-05-24T00:00:00"
         },
         {
          "num_sales": 51475,
          "num_unique_customers": 13906,
          "revenue": 1381.3000169491502,
          "t_dat": "2020-05-25T00:00:00"
         },
         {
          "num_sales": 56595,
          "num_unique_customers": 15194,
          "revenue": 1523.1479322033872,
          "t_dat": "2020-05-26T00:00:00"
         },
         {
          "num_sales": 62439,
          "num_unique_customers": 17109,
          "revenue": 1665.7546610169463,
          "t_dat": "2020-05-27T00:00:00"
         },
         {
          "num_sales": 60745,
          "num_unique_customers": 16991,
          "revenue": 1644.9591864406752,
          "t_dat": "2020-05-28T00:00:00"
         },
         {
          "num_sales": 59463,
          "num_unique_customers": 16473,
          "revenue": 1563.8377288135566,
          "t_dat": "2020-05-29T00:00:00"
         },
         {
          "num_sales": 60861,
          "num_unique_customers": 16758,
          "revenue": 1564.1618135593192,
          "t_dat": "2020-05-30T00:00:00"
         },
         {
          "num_sales": 31834,
          "num_unique_customers": 7639,
          "revenue": 948.0491525423714,
          "t_dat": "2020-05-31T00:00:00"
         },
         {
          "num_sales": 43084,
          "num_unique_customers": 11218,
          "revenue": 1232.2898305084725,
          "t_dat": "2020-06-01T00:00:00"
         },
         {
          "num_sales": 44666,
          "num_unique_customers": 12366,
          "revenue": 1198.8877118644048,
          "t_dat": "2020-06-02T00:00:00"
         },
         {
          "num_sales": 53187,
          "num_unique_customers": 14747,
          "revenue": 1420.1546949152516,
          "t_dat": "2020-06-03T00:00:00"
         },
         {
          "num_sales": 50470,
          "num_unique_customers": 14438,
          "revenue": 1386.138203389828,
          "t_dat": "2020-06-04T00:00:00"
         },
         {
          "num_sales": 44470,
          "num_unique_customers": 13068,
          "revenue": 1179.4080169491506,
          "t_dat": "2020-06-05T00:00:00"
         },
         {
          "num_sales": 48649,
          "num_unique_customers": 14181,
          "revenue": 1239.7503728813535,
          "t_dat": "2020-06-06T00:00:00"
         },
         {
          "num_sales": 36733,
          "num_unique_customers": 10041,
          "revenue": 1049.220016949151,
          "t_dat": "2020-06-07T00:00:00"
         },
         {
          "num_sales": 38117,
          "num_unique_customers": 11436,
          "revenue": 1079.4796779660999,
          "t_dat": "2020-06-08T00:00:00"
         },
         {
          "num_sales": 39370,
          "num_unique_customers": 11939,
          "revenue": 1058.2374237288118,
          "t_dat": "2020-06-09T00:00:00"
         },
         {
          "num_sales": 42585,
          "num_unique_customers": 12752,
          "revenue": 1133.3058644067776,
          "t_dat": "2020-06-10T00:00:00"
         },
         {
          "num_sales": 44044,
          "num_unique_customers": 13133,
          "revenue": 1150.1526779660996,
          "t_dat": "2020-06-11T00:00:00"
         },
         {
          "num_sales": 43804,
          "num_unique_customers": 13152,
          "revenue": 1110.5238644067776,
          "t_dat": "2020-06-12T00:00:00"
         },
         {
          "num_sales": 46088,
          "num_unique_customers": 13464,
          "revenue": 1159.8153050847436,
          "t_dat": "2020-06-13T00:00:00"
         },
         {
          "num_sales": 32087,
          "num_unique_customers": 8637,
          "revenue": 880.3205762711849,
          "t_dat": "2020-06-14T00:00:00"
         },
         {
          "num_sales": 40427,
          "num_unique_customers": 11892,
          "revenue": 1048.5014067796592,
          "t_dat": "2020-06-15T00:00:00"
         },
         {
          "num_sales": 49855,
          "num_unique_customers": 14762,
          "revenue": 1292.0448305084724,
          "t_dat": "2020-06-16T00:00:00"
         },
         {
          "num_sales": 110981,
          "num_unique_customers": 26247,
          "revenue": 2540.113406779656,
          "t_dat": "2020-06-17T00:00:00"
         },
         {
          "num_sales": 84563,
          "num_unique_customers": 21668,
          "revenue": 1916.1871355932167,
          "t_dat": "2020-06-18T00:00:00"
         },
         {
          "num_sales": 77241,
          "num_unique_customers": 20673,
          "revenue": 1755.304762711861,
          "t_dat": "2020-06-19T00:00:00"
         },
         {
          "num_sales": 67788,
          "num_unique_customers": 18293,
          "revenue": 1533.4146949152512,
          "t_dat": "2020-06-20T00:00:00"
         },
         {
          "num_sales": 56469,
          "num_unique_customers": 13476,
          "revenue": 1369.5237288135568,
          "t_dat": "2020-06-21T00:00:00"
         },
         {
          "num_sales": 75334,
          "num_unique_customers": 19912,
          "revenue": 1776.1568813559288,
          "t_dat": "2020-06-22T00:00:00"
         },
         {
          "num_sales": 77067,
          "num_unique_customers": 20689,
          "revenue": 1803.5380847457593,
          "t_dat": "2020-06-23T00:00:00"
         },
         {
          "num_sales": 98790,
          "num_unique_customers": 24751,
          "revenue": 2195.581728813555,
          "t_dat": "2020-06-24T00:00:00"
         },
         {
          "num_sales": 88684,
          "num_unique_customers": 23052,
          "revenue": 1976.2762033898266,
          "t_dat": "2020-06-25T00:00:00"
         },
         {
          "num_sales": 77452,
          "num_unique_customers": 20274,
          "revenue": 1726.0800847457592,
          "t_dat": "2020-06-26T00:00:00"
         },
         {
          "num_sales": 74671,
          "num_unique_customers": 20053,
          "revenue": 1676.1384406779628,
          "t_dat": "2020-06-27T00:00:00"
         },
         {
          "num_sales": 63485,
          "num_unique_customers": 16205,
          "revenue": 1458.1629152542346,
          "t_dat": "2020-06-28T00:00:00"
         },
         {
          "num_sales": 53193,
          "num_unique_customers": 14927,
          "revenue": 1259.7523220338958,
          "t_dat": "2020-06-29T00:00:00"
         },
         {
          "num_sales": 61153,
          "num_unique_customers": 16857,
          "revenue": 1450.8982033898276,
          "t_dat": "2020-06-30T00:00:00"
         },
         {
          "num_sales": 59443,
          "num_unique_customers": 16730,
          "revenue": 1395.5045423728786,
          "t_dat": "2020-07-01T00:00:00"
         },
         {
          "num_sales": 55884,
          "num_unique_customers": 16174,
          "revenue": 1295.346423728811,
          "t_dat": "2020-07-02T00:00:00"
         },
         {
          "num_sales": 51212,
          "num_unique_customers": 15498,
          "revenue": 1175.587915254235,
          "t_dat": "2020-07-03T00:00:00"
         },
         {
          "num_sales": 46408,
          "num_unique_customers": 13701,
          "revenue": 1095.8934237288115,
          "t_dat": "2020-07-04T00:00:00"
         },
         {
          "num_sales": 38401,
          "num_unique_customers": 10202,
          "revenue": 936.9381355932186,
          "t_dat": "2020-07-05T00:00:00"
         },
         {
          "num_sales": 40933,
          "num_unique_customers": 12115,
          "revenue": 999.5495932203371,
          "t_dat": "2020-07-06T00:00:00"
         },
         {
          "num_sales": 45138,
          "num_unique_customers": 13509,
          "revenue": 1079.2765084745743,
          "t_dat": "2020-07-07T00:00:00"
         },
         {
          "num_sales": 49839,
          "num_unique_customers": 14475,
          "revenue": 1191.3086779660994,
          "t_dat": "2020-07-08T00:00:00"
         },
         {
          "num_sales": 43016,
          "num_unique_customers": 12984,
          "revenue": 1016.7820677966082,
          "t_dat": "2020-07-09T00:00:00"
         },
         {
          "num_sales": 43922,
          "num_unique_customers": 13667,
          "revenue": 1026.2698813559302,
          "t_dat": "2020-07-10T00:00:00"
         },
         {
          "num_sales": 40292,
          "num_unique_customers": 12361,
          "revenue": 948.1258135593201,
          "t_dat": "2020-07-11T00:00:00"
         },
         {
          "num_sales": 29794,
          "num_unique_customers": 8395,
          "revenue": 729.082728813558,
          "t_dat": "2020-07-12T00:00:00"
         },
         {
          "num_sales": 41095,
          "num_unique_customers": 12156,
          "revenue": 987.1953559322016,
          "t_dat": "2020-07-13T00:00:00"
         },
         {
          "num_sales": 38714,
          "num_unique_customers": 11892,
          "revenue": 927.3981864406762,
          "t_dat": "2020-07-14T00:00:00"
         },
         {
          "num_sales": 51387,
          "num_unique_customers": 15532,
          "revenue": 1212.0864067796585,
          "t_dat": "2020-07-15T00:00:00"
         },
         {
          "num_sales": 45465,
          "num_unique_customers": 13922,
          "revenue": 1079.9237966101673,
          "t_dat": "2020-07-16T00:00:00"
         },
         {
          "num_sales": 42666,
          "num_unique_customers": 13429,
          "revenue": 991.5458813559302,
          "t_dat": "2020-07-17T00:00:00"
         },
         {
          "num_sales": 37666,
          "num_unique_customers": 11775,
          "revenue": 883.2640169491508,
          "t_dat": "2020-07-18T00:00:00"
         },
         {
          "num_sales": 28801,
          "num_unique_customers": 7962,
          "revenue": 702.2081016949139,
          "t_dat": "2020-07-19T00:00:00"
         },
         {
          "num_sales": 40657,
          "num_unique_customers": 12286,
          "revenue": 977.8743220338964,
          "t_dat": "2020-07-20T00:00:00"
         },
         {
          "num_sales": 42886,
          "num_unique_customers": 13335,
          "revenue": 1035.6935084745744,
          "t_dat": "2020-07-21T00:00:00"
         },
         {
          "num_sales": 46368,
          "num_unique_customers": 14170,
          "revenue": 1138.997101694913,
          "t_dat": "2020-07-22T00:00:00"
         },
         {
          "num_sales": 44976,
          "num_unique_customers": 14250,
          "revenue": 1097.8659491525402,
          "t_dat": "2020-07-23T00:00:00"
         },
         {
          "num_sales": 46496,
          "num_unique_customers": 14537,
          "revenue": 1132.1814067796588,
          "t_dat": "2020-07-24T00:00:00"
         },
         {
          "num_sales": 41058,
          "num_unique_customers": 12672,
          "revenue": 1001.3311694915235,
          "t_dat": "2020-07-25T00:00:00"
         },
         {
          "num_sales": 33688,
          "num_unique_customers": 9979,
          "revenue": 839.0154406779645,
          "t_dat": "2020-07-26T00:00:00"
         },
         {
          "num_sales": 40196,
          "num_unique_customers": 12143,
          "revenue": 1008.4934745762694,
          "t_dat": "2020-07-27T00:00:00"
         },
         {
          "num_sales": 46687,
          "num_unique_customers": 14273,
          "revenue": 1156.3632372881334,
          "t_dat": "2020-07-28T00:00:00"
         },
         {
          "num_sales": 47998,
          "num_unique_customers": 14974,
          "revenue": 1188.4460508474554,
          "t_dat": "2020-07-29T00:00:00"
         },
         {
          "num_sales": 51712,
          "num_unique_customers": 15841,
          "revenue": 1203.5094915254213,
          "t_dat": "2020-07-30T00:00:00"
         },
         {
          "num_sales": 38704,
          "num_unique_customers": 11508,
          "revenue": 909.9485593220321,
          "t_dat": "2020-07-31T00:00:00"
         },
         {
          "num_sales": 41958,
          "num_unique_customers": 12564,
          "revenue": 972.5820847457608,
          "t_dat": "2020-08-01T00:00:00"
         },
         {
          "num_sales": 38806,
          "num_unique_customers": 10646,
          "revenue": 908.5920508474558,
          "t_dat": "2020-08-02T00:00:00"
         },
         {
          "num_sales": 45416,
          "num_unique_customers": 13593,
          "revenue": 1084.6743050847438,
          "t_dat": "2020-08-03T00:00:00"
         },
         {
          "num_sales": 54875,
          "num_unique_customers": 16413,
          "revenue": 1320.90601694915,
          "t_dat": "2020-08-04T00:00:00"
         },
         {
          "num_sales": 53207,
          "num_unique_customers": 15669,
          "revenue": 1292.0098813559298,
          "t_dat": "2020-08-05T00:00:00"
         },
         {
          "num_sales": 52430,
          "num_unique_customers": 15676,
          "revenue": 1249.6357118644044,
          "t_dat": "2020-08-06T00:00:00"
         },
         {
          "num_sales": 43193,
          "num_unique_customers": 13023,
          "revenue": 1021.438372881354,
          "t_dat": "2020-08-07T00:00:00"
         },
         {
          "num_sales": 33685,
          "num_unique_customers": 10448,
          "revenue": 805.3482203389815,
          "t_dat": "2020-08-08T00:00:00"
         },
         {
          "num_sales": 27024,
          "num_unique_customers": 7434,
          "revenue": 670.4555593220326,
          "t_dat": "2020-08-09T00:00:00"
         },
         {
          "num_sales": 36909,
          "num_unique_customers": 10799,
          "revenue": 904.000271186439,
          "t_dat": "2020-08-10T00:00:00"
         },
         {
          "num_sales": 42713,
          "num_unique_customers": 12392,
          "revenue": 1048.3872711864387,
          "t_dat": "2020-08-11T00:00:00"
         },
         {
          "num_sales": 71072,
          "num_unique_customers": 17899,
          "revenue": 1734.5777118644032,
          "t_dat": "2020-08-12T00:00:00"
         },
         {
          "num_sales": 39349,
          "num_unique_customers": 12651,
          "revenue": 976.4912372881338,
          "t_dat": "2020-08-13T00:00:00"
         },
         {
          "num_sales": 35305,
          "num_unique_customers": 11687,
          "revenue": 881.1799491525408,
          "t_dat": "2020-08-14T00:00:00"
         },
         {
          "num_sales": 29427,
          "num_unique_customers": 10051,
          "revenue": 746.726949152541,
          "t_dat": "2020-08-15T00:00:00"
         },
         {
          "num_sales": 22613,
          "num_unique_customers": 6809,
          "revenue": 630.6714915254227,
          "t_dat": "2020-08-16T00:00:00"
         },
         {
          "num_sales": 32532,
          "num_unique_customers": 10303,
          "revenue": 881.4353050847442,
          "t_dat": "2020-08-17T00:00:00"
         },
         {
          "num_sales": 34913,
          "num_unique_customers": 11231,
          "revenue": 946.4056610169474,
          "t_dat": "2020-08-18T00:00:00"
         },
         {
          "num_sales": 37284,
          "num_unique_customers": 11838,
          "revenue": 1008.1653559322016,
          "t_dat": "2020-08-19T00:00:00"
         },
         {
          "num_sales": 37926,
          "num_unique_customers": 12435,
          "revenue": 1040.0443559322016,
          "t_dat": "2020-08-20T00:00:00"
         },
         {
          "num_sales": 33913,
          "num_unique_customers": 11331,
          "revenue": 924.4278474576255,
          "t_dat": "2020-08-21T00:00:00"
         },
         {
          "num_sales": 34978,
          "num_unique_customers": 11454,
          "revenue": 982.2143728813543,
          "t_dat": "2020-08-22T00:00:00"
         },
         {
          "num_sales": 33031,
          "num_unique_customers": 9350,
          "revenue": 979.5989322033882,
          "t_dat": "2020-08-23T00:00:00"
         },
         {
          "num_sales": 37672,
          "num_unique_customers": 11719,
          "revenue": 1131.8903220338964,
          "t_dat": "2020-08-24T00:00:00"
         },
         {
          "num_sales": 41840,
          "num_unique_customers": 13108,
          "revenue": 1292.9948983050826,
          "t_dat": "2020-08-25T00:00:00"
         },
         {
          "num_sales": 46027,
          "num_unique_customers": 14128,
          "revenue": 1465.7214406779638,
          "t_dat": "2020-08-26T00:00:00"
         },
         {
          "num_sales": 44403,
          "num_unique_customers": 14584,
          "revenue": 1367.6294576271164,
          "t_dat": "2020-08-27T00:00:00"
         },
         {
          "num_sales": 39546,
          "num_unique_customers": 13385,
          "revenue": 1207.5714406779641,
          "t_dat": "2020-08-28T00:00:00"
         },
         {
          "num_sales": 41175,
          "num_unique_customers": 13358,
          "revenue": 1271.873288135591,
          "t_dat": "2020-08-29T00:00:00"
         },
         {
          "num_sales": 35862,
          "num_unique_customers": 10700,
          "revenue": 1145.319423728812,
          "t_dat": "2020-08-30T00:00:00"
         },
         {
          "num_sales": 38108,
          "num_unique_customers": 11878,
          "revenue": 1237.5300677966084,
          "t_dat": "2020-08-31T00:00:00"
         },
         {
          "num_sales": 38060,
          "num_unique_customers": 12323,
          "revenue": 1228.6411864406762,
          "t_dat": "2020-09-01T00:00:00"
         },
         {
          "num_sales": 32722,
          "num_unique_customers": 11157,
          "revenue": 1042.202389830507,
          "t_dat": "2020-09-02T00:00:00"
         },
         {
          "num_sales": 40441,
          "num_unique_customers": 13184,
          "revenue": 1324.5482033898286,
          "t_dat": "2020-09-03T00:00:00"
         },
         {
          "num_sales": 39203,
          "num_unique_customers": 13221,
          "revenue": 1230.0161355932185,
          "t_dat": "2020-09-04T00:00:00"
         },
         {
          "num_sales": 43002,
          "num_unique_customers": 14149,
          "revenue": 1352.46388135593,
          "t_dat": "2020-09-05T00:00:00"
         },
         {
          "num_sales": 34961,
          "num_unique_customers": 10426,
          "revenue": 1139.1364745762694,
          "t_dat": "2020-09-06T00:00:00"
         },
         {
          "num_sales": 37913,
          "num_unique_customers": 11716,
          "revenue": 1278.7032881355913,
          "t_dat": "2020-09-07T00:00:00"
         },
         {
          "num_sales": 36415,
          "num_unique_customers": 11422,
          "revenue": 1243.4895762711847,
          "t_dat": "2020-09-08T00:00:00"
         },
         {
          "num_sales": 41626,
          "num_unique_customers": 13075,
          "revenue": 1425.310847457625,
          "t_dat": "2020-09-09T00:00:00"
         },
         {
          "num_sales": 40261,
          "num_unique_customers": 13172,
          "revenue": 1344.2379491525403,
          "t_dat": "2020-09-10T00:00:00"
         },
         {
          "num_sales": 37561,
          "num_unique_customers": 12731,
          "revenue": 1282.8984745762693,
          "t_dat": "2020-09-11T00:00:00"
         },
         {
          "num_sales": 40271,
          "num_unique_customers": 13186,
          "revenue": 1311.20381355932,
          "t_dat": "2020-09-12T00:00:00"
         },
         {
          "num_sales": 39528,
          "num_unique_customers": 11423,
          "revenue": 1394.6976440677947,
          "t_dat": "2020-09-13T00:00:00"
         },
         {
          "num_sales": 29941,
          "num_unique_customers": 9286,
          "revenue": 1042.0790847457613,
          "t_dat": "2020-09-14T00:00:00"
         },
         {
          "num_sales": 26053,
          "num_unique_customers": 8287,
          "revenue": 874.8922203389818,
          "t_dat": "2020-09-15T00:00:00"
         },
         {
          "num_sales": 27028,
          "num_unique_customers": 8752,
          "revenue": 890.2108474576257,
          "t_dat": "2020-09-16T00:00:00"
         },
         {
          "num_sales": 40718,
          "num_unique_customers": 13203,
          "revenue": 1418.2773050847438,
          "t_dat": "2020-09-17T00:00:00"
         },
         {
          "num_sales": 39284,
          "num_unique_customers": 12924,
          "revenue": 1363.8581186440658,
          "t_dat": "2020-09-18T00:00:00"
         },
         {
          "num_sales": 36796,
          "num_unique_customers": 12233,
          "revenue": 1227.471305084744,
          "t_dat": "2020-09-19T00:00:00"
         },
         {
          "num_sales": 31489,
          "num_unique_customers": 9384,
          "revenue": 1116.0710677966085,
          "t_dat": "2020-09-20T00:00:00"
         },
         {
          "num_sales": 32130,
          "num_unique_customers": 10119,
          "revenue": 1139.598050847456,
          "t_dat": "2020-09-21T00:00:00"
         },
         {
          "num_sales": 32866,
          "num_unique_customers": 10528,
          "revenue": 1133.4184237288118,
          "t_dat": "2020-09-22T00:00:00"
         }
        ]
       },
       "encoding": {
        "tooltip": [
         {
          "field": "t_dat",
          "type": "temporal"
         }
        ],
        "x": {
         "field": "t_dat",
         "type": "temporal"
        },
        "y": {
         "field": "num_sales",
         "type": "quantitative"
        }
       },
       "mark": "line",
       "width": 700
      },
      "image/png": "[encoded data removed]",
      "text/plain": [
       "<VegaLite 4 object>\n",
       "\n",
       "If you see this message, it means the renderer has not been properly enabled\n",
       "for the frontend that you are using. For more information, see\n",
       "https://altair-viz.github.io/user_guide/troubleshooting.html\n"
      ]
     },
     "execution_count": 31,
     "metadata": {},
     "output_type": "execute_result"
    }
   ],
   "source": [
    "alt.Chart(df_sales).mark_line().encode(\n",
    "    x=\"t_dat\", y=\"num_sales\", tooltip=[\"t_dat\"]\n",
    ").properties(width=700)"
   ]
  },
  {
   "cell_type": "code",
   "execution_count": 32,
   "id": "f02d7fd3-2bbc-40ae-9ef6-9cd09f0e8202",
   "metadata": {},
   "outputs": [
    {
     "data": {
      "application/vnd.vegalite.v4+json": {
       "$schema": "https://vega.github.io/schema/vega-lite/v4.17.0.json",
       "config": {
        "view": {
         "continuousHeight": 300,
         "continuousWidth": 400
        }
       },
       "data": {
        "name": "data-7672d2c0366f177ce6c00e32a0b5646c"
       },
       "datasets": {
        "data-7672d2c0366f177ce6c00e32a0b5646c": [
         {
          "num_sales": 48399,
          "num_unique_customers": 13987,
          "revenue": 1415.3458474576248,
          "t_dat": "2018-09-20T00:00:00"
         },
         {
          "num_sales": 47543,
          "num_unique_customers": 13932,
          "revenue": 1419.2623050847435,
          "t_dat": "2018-09-21T00:00:00"
         },
         {
          "num_sales": 17635,
          "num_unique_customers": 5481,
          "revenue": 530.4376271186431,
          "t_dat": "2018-09-22T00:00:00"
         },
         {
          "num_sales": 52230,
          "num_unique_customers": 12435,
          "revenue": 1593.78308474576,
          "t_dat": "2018-09-23T00:00:00"
         },
         {
          "num_sales": 45984,
          "num_unique_customers": 12630,
          "revenue": 1407.6096101694893,
          "t_dat": "2018-09-24T00:00:00"
         },
         {
          "num_sales": 43857,
          "num_unique_customers": 12534,
          "revenue": 1322.87981355932,
          "t_dat": "2018-09-25T00:00:00"
         },
         {
          "num_sales": 48224,
          "num_unique_customers": 13925,
          "revenue": 1434.2044576271162,
          "t_dat": "2018-09-26T00:00:00"
         },
         {
          "num_sales": 44261,
          "num_unique_customers": 13331,
          "revenue": 1355.498288135591,
          "t_dat": "2018-09-27T00:00:00"
         },
         {
          "num_sales": 66900,
          "num_unique_customers": 18872,
          "revenue": 2040.2070677966067,
          "t_dat": "2018-09-28T00:00:00"
         },
         {
          "num_sales": 141700,
          "num_unique_customers": 37398,
          "revenue": 4071.3813050847384,
          "t_dat": "2018-09-29T00:00:00"
         },
         {
          "num_sales": 38043,
          "num_unique_customers": 10876,
          "revenue": 1165.030186440676,
          "t_dat": "2018-09-30T00:00:00"
         },
         {
          "num_sales": 38677,
          "num_unique_customers": 11029,
          "revenue": 1201.578220338981,
          "t_dat": "2018-10-01T00:00:00"
         },
         {
          "num_sales": 39932,
          "num_unique_customers": 11685,
          "revenue": 1254.0745423728795,
          "t_dat": "2018-10-02T00:00:00"
         },
         {
          "num_sales": 38387,
          "num_unique_customers": 11434,
          "revenue": 1173.174491525422,
          "t_dat": "2018-10-03T00:00:00"
         },
         {
          "num_sales": 38103,
          "num_unique_customers": 12109,
          "revenue": 1188.8597966101677,
          "t_dat": "2018-10-04T00:00:00"
         },
         {
          "num_sales": 33485,
          "num_unique_customers": 11123,
          "revenue": 1009.3239322033882,
          "t_dat": "2018-10-05T00:00:00"
         },
         {
          "num_sales": 37012,
          "num_unique_customers": 12111,
          "revenue": 1089.794711864405,
          "t_dat": "2018-10-06T00:00:00"
         },
         {
          "num_sales": 32647,
          "num_unique_customers": 9306,
          "revenue": 1010.437423728812,
          "t_dat": "2018-10-07T00:00:00"
         },
         {
          "num_sales": 28241,
          "num_unique_customers": 8473,
          "revenue": 899.0806271186426,
          "t_dat": "2018-10-08T00:00:00"
         },
         {
          "num_sales": 38581,
          "num_unique_customers": 11117,
          "revenue": 1234.8909830508455,
          "t_dat": "2018-10-09T00:00:00"
         },
         {
          "num_sales": 63750,
          "num_unique_customers": 15827,
          "revenue": 1890.0404915254205,
          "t_dat": "2018-10-10T00:00:00"
         },
         {
          "num_sales": 58802,
          "num_unique_customers": 15162,
          "revenue": 1702.1712372881325,
          "t_dat": "2018-10-11T00:00:00"
         },
         {
          "num_sales": 53530,
          "num_unique_customers": 14777,
          "revenue": 1517.4412203389804,
          "t_dat": "2018-10-12T00:00:00"
         },
         {
          "num_sales": 53008,
          "num_unique_customers": 14296,
          "revenue": 1445.4382881355905,
          "t_dat": "2018-10-13T00:00:00"
         },
         {
          "num_sales": 36426,
          "num_unique_customers": 8405,
          "revenue": 1103.066966101693,
          "t_dat": "2018-10-14T00:00:00"
         },
         {
          "num_sales": 33624,
          "num_unique_customers": 9748,
          "revenue": 1061.7233220338967,
          "t_dat": "2018-10-15T00:00:00"
         },
         {
          "num_sales": 48481,
          "num_unique_customers": 12188,
          "revenue": 1566.383864406777,
          "t_dat": "2018-10-16T00:00:00"
         },
         {
          "num_sales": 59231,
          "num_unique_customers": 16092,
          "revenue": 1621.256779661014,
          "t_dat": "2018-10-17T00:00:00"
         },
         {
          "num_sales": 46586,
          "num_unique_customers": 13781,
          "revenue": 1314.0367966101671,
          "t_dat": "2018-10-18T00:00:00"
         },
         {
          "num_sales": 39033,
          "num_unique_customers": 11987,
          "revenue": 1118.8254745762692,
          "t_dat": "2018-10-19T00:00:00"
         },
         {
          "num_sales": 40517,
          "num_unique_customers": 12498,
          "revenue": 1178.4867966101674,
          "t_dat": "2018-10-20T00:00:00"
         },
         {
          "num_sales": 37437,
          "num_unique_customers": 9805,
          "revenue": 1065.632525423727,
          "t_dat": "2018-10-21T00:00:00"
         },
         {
          "num_sales": 43546,
          "num_unique_customers": 12538,
          "revenue": 1286.0609999999979,
          "t_dat": "2018-10-22T00:00:00"
         },
         {
          "num_sales": 49740,
          "num_unique_customers": 14572,
          "revenue": 1469.8397288135568,
          "t_dat": "2018-10-23T00:00:00"
         },
         {
          "num_sales": 64499,
          "num_unique_customers": 18469,
          "revenue": 1841.569186440675,
          "t_dat": "2018-10-24T00:00:00"
         },
         {
          "num_sales": 54487,
          "num_unique_customers": 16519,
          "revenue": 1573.9032881355906,
          "t_dat": "2018-10-25T00:00:00"
         },
         {
          "num_sales": 55390,
          "num_unique_customers": 16908,
          "revenue": 1615.2642033898278,
          "t_dat": "2018-10-26T00:00:00"
         },
         {
          "num_sales": 50649,
          "num_unique_customers": 15718,
          "revenue": 1488.4579999999976,
          "t_dat": "2018-10-27T00:00:00"
         },
         {
          "num_sales": 56271,
          "num_unique_customers": 15090,
          "revenue": 1709.0214406779633,
          "t_dat": "2018-10-28T00:00:00"
         },
         {
          "num_sales": 45952,
          "num_unique_customers": 12940,
          "revenue": 1383.4142542372858,
          "t_dat": "2018-10-29T00:00:00"
         },
         {
          "num_sales": 42392,
          "num_unique_customers": 12265,
          "revenue": 1344.0748983050826,
          "t_dat": "2018-10-30T00:00:00"
         },
         {
          "num_sales": 38624,
          "num_unique_customers": 11869,
          "revenue": 1227.4921186440658,
          "t_dat": "2018-10-31T00:00:00"
         },
         {
          "num_sales": 41119,
          "num_unique_customers": 12866,
          "revenue": 1378.1485084745743,
          "t_dat": "2018-11-01T00:00:00"
         },
         {
          "num_sales": 36103,
          "num_unique_customers": 12150,
          "revenue": 1183.8858305084727,
          "t_dat": "2018-11-02T00:00:00"
         },
         {
          "num_sales": 39899,
          "num_unique_customers": 13175,
          "revenue": 1285.207999999998,
          "t_dat": "2018-11-03T00:00:00"
         },
         {
          "num_sales": 32709,
          "num_unique_customers": 9781,
          "revenue": 1099.9753898305069,
          "t_dat": "2018-11-04T00:00:00"
         },
         {
          "num_sales": 30346,
          "num_unique_customers": 9483,
          "revenue": 1017.4860847457612,
          "t_dat": "2018-11-05T00:00:00"
         },
         {
          "num_sales": 33798,
          "num_unique_customers": 10688,
          "revenue": 1126.0866779661,
          "t_dat": "2018-11-06T00:00:00"
         },
         {
          "num_sales": 35299,
          "num_unique_customers": 11391,
          "revenue": 1190.7924067796594,
          "t_dat": "2018-11-07T00:00:00"
         },
         {
          "num_sales": 32002,
          "num_unique_customers": 10891,
          "revenue": 1039.325576271185,
          "t_dat": "2018-11-08T00:00:00"
         },
         {
          "num_sales": 35259,
          "num_unique_customers": 11953,
          "revenue": 1130.9551016949135,
          "t_dat": "2018-11-09T00:00:00"
         },
         {
          "num_sales": 34598,
          "num_unique_customers": 11736,
          "revenue": 1085.2013559322017,
          "t_dat": "2018-11-10T00:00:00"
         },
         {
          "num_sales": 44899,
          "num_unique_customers": 12537,
          "revenue": 1381.8328813559299,
          "t_dat": "2018-11-11T00:00:00"
         },
         {
          "num_sales": 25777,
          "num_unique_customers": 8305,
          "revenue": 851.4892033898292,
          "t_dat": "2018-11-12T00:00:00"
         },
         {
          "num_sales": 28740,
          "num_unique_customers": 9483,
          "revenue": 939.8085932203376,
          "t_dat": "2018-11-13T00:00:00"
         },
         {
          "num_sales": 35108,
          "num_unique_customers": 11277,
          "revenue": 1170.0965932203374,
          "t_dat": "2018-11-14T00:00:00"
         },
         {
          "num_sales": 38619,
          "num_unique_customers": 12608,
          "revenue": 1215.8466949152523,
          "t_dat": "2018-11-15T00:00:00"
         },
         {
          "num_sales": 38361,
          "num_unique_customers": 12814,
          "revenue": 1178.635779661015,
          "t_dat": "2018-11-16T00:00:00"
         },
         {
          "num_sales": 38817,
          "num_unique_customers": 13103,
          "revenue": 1204.4525932203371,
          "t_dat": "2018-11-17T00:00:00"
         },
         {
          "num_sales": 35871,
          "num_unique_customers": 10563,
          "revenue": 1126.9629661016932,
          "t_dat": "2018-11-18T00:00:00"
         },
         {
          "num_sales": 32984,
          "num_unique_customers": 10248,
          "revenue": 1107.3144915254222,
          "t_dat": "2018-11-19T00:00:00"
         },
         {
          "num_sales": 40454,
          "num_unique_customers": 12798,
          "revenue": 1312.9359830508454,
          "t_dat": "2018-11-20T00:00:00"
         },
         {
          "num_sales": 43132,
          "num_unique_customers": 13475,
          "revenue": 1272.4279322033876,
          "t_dat": "2018-11-21T00:00:00"
         },
         {
          "num_sales": 56174,
          "num_unique_customers": 17618,
          "revenue": 1596.7907288135564,
          "t_dat": "2018-11-22T00:00:00"
         },
         {
          "num_sales": 142018,
          "num_unique_customers": 42300,
          "revenue": 3891.939440677959,
          "t_dat": "2018-11-23T00:00:00"
         },
         {
          "num_sales": 80235,
          "num_unique_customers": 23958,
          "revenue": 2145.9552711864367,
          "t_dat": "2018-11-24T00:00:00"
         },
         {
          "num_sales": 59322,
          "num_unique_customers": 17108,
          "revenue": 1596.1478813559295,
          "t_dat": "2018-11-25T00:00:00"
         },
         {
          "num_sales": 56913,
          "num_unique_customers": 16752,
          "revenue": 1512.9443389830483,
          "t_dat": "2018-11-26T00:00:00"
         },
         {
          "num_sales": 30127,
          "num_unique_customers": 11007,
          "revenue": 979.3970677966087,
          "t_dat": "2018-11-27T00:00:00"
         },
         {
          "num_sales": 29276,
          "num_unique_customers": 10472,
          "revenue": 951.0721864406765,
          "t_dat": "2018-11-28T00:00:00"
         },
         {
          "num_sales": 32096,
          "num_unique_customers": 11395,
          "revenue": 1041.0371864406764,
          "t_dat": "2018-11-29T00:00:00"
         },
         {
          "num_sales": 30564,
          "num_unique_customers": 11264,
          "revenue": 986.8356440677951,
          "t_dat": "2018-11-30T00:00:00"
         },
         {
          "num_sales": 34101,
          "num_unique_customers": 12322,
          "revenue": 1019.3577966101678,
          "t_dat": "2018-12-01T00:00:00"
         },
         {
          "num_sales": 26579,
          "num_unique_customers": 8464,
          "revenue": 843.5171355932191,
          "t_dat": "2018-12-02T00:00:00"
         },
         {
          "num_sales": 27155,
          "num_unique_customers": 9432,
          "revenue": 881.7208305084732,
          "t_dat": "2018-12-03T00:00:00"
         },
         {
          "num_sales": 31834,
          "num_unique_customers": 11034,
          "revenue": 1027.0817966101679,
          "t_dat": "2018-12-04T00:00:00"
         },
         {
          "num_sales": 35693,
          "num_unique_customers": 12338,
          "revenue": 1094.7697966101678,
          "t_dat": "2018-12-05T00:00:00"
         },
         {
          "num_sales": 37284,
          "num_unique_customers": 12901,
          "revenue": 1110.203898305083,
          "t_dat": "2018-12-06T00:00:00"
         },
         {
          "num_sales": 33316,
          "num_unique_customers": 11831,
          "revenue": 985.9137288135577,
          "t_dat": "2018-12-07T00:00:00"
         },
         {
          "num_sales": 37420,
          "num_unique_customers": 12921,
          "revenue": 1070.6389830508456,
          "t_dat": "2018-12-08T00:00:00"
         },
         {
          "num_sales": 34622,
          "num_unique_customers": 10981,
          "revenue": 1075.0479152542357,
          "t_dat": "2018-12-09T00:00:00"
         },
         {
          "num_sales": 30431,
          "num_unique_customers": 10546,
          "revenue": 967.0019322033884,
          "t_dat": "2018-12-10T00:00:00"
         },
         {
          "num_sales": 31051,
          "num_unique_customers": 10820,
          "revenue": 1001.0526610169476,
          "t_dat": "2018-12-11T00:00:00"
         },
         {
          "num_sales": 39436,
          "num_unique_customers": 13526,
          "revenue": 1244.5813559322016,
          "t_dat": "2018-12-12T00:00:00"
         },
         {
          "num_sales": 33145,
          "num_unique_customers": 11984,
          "revenue": 1050.1932203389815,
          "t_dat": "2018-12-13T00:00:00"
         },
         {
          "num_sales": 31201,
          "num_unique_customers": 11596,
          "revenue": 959.1581355932188,
          "t_dat": "2018-12-14T00:00:00"
         },
         {
          "num_sales": 36258,
          "num_unique_customers": 13047,
          "revenue": 1108.516372881354,
          "t_dat": "2018-12-15T00:00:00"
         },
         {
          "num_sales": 32374,
          "num_unique_customers": 10655,
          "revenue": 1021.5836949152526,
          "t_dat": "2018-12-16T00:00:00"
         },
         {
          "num_sales": 34947,
          "num_unique_customers": 11694,
          "revenue": 1049.0600169491508,
          "t_dat": "2018-12-17T00:00:00"
         },
         {
          "num_sales": 39247,
          "num_unique_customers": 13250,
          "revenue": 1149.044627118642,
          "t_dat": "2018-12-18T00:00:00"
         },
         {
          "num_sales": 46619,
          "num_unique_customers": 14969,
          "revenue": 1302.5752881355909,
          "t_dat": "2018-12-19T00:00:00"
         },
         {
          "num_sales": 61022,
          "num_unique_customers": 18764,
          "revenue": 1573.980745762709,
          "t_dat": "2018-12-20T00:00:00"
         },
         {
          "num_sales": 56260,
          "num_unique_customers": 17657,
          "revenue": 1384.4910338983022,
          "t_dat": "2018-12-21T00:00:00"
         },
         {
          "num_sales": 58623,
          "num_unique_customers": 18525,
          "revenue": 1427.0625423728784,
          "t_dat": "2018-12-22T00:00:00"
         },
         {
          "num_sales": 43155,
          "num_unique_customers": 12999,
          "revenue": 1065.188474576269,
          "t_dat": "2018-12-23T00:00:00"
         },
         {
          "num_sales": 38362,
          "num_unique_customers": 13160,
          "revenue": 924.4655084745743,
          "t_dat": "2018-12-24T00:00:00"
         },
         {
          "num_sales": 14799,
          "num_unique_customers": 3851,
          "revenue": 412.6921186440671,
          "t_dat": "2018-12-25T00:00:00"
         },
         {
          "num_sales": 24989,
          "num_unique_customers": 6393,
          "revenue": 656.7592372881344,
          "t_dat": "2018-12-26T00:00:00"
         },
         {
          "num_sales": 52976,
          "num_unique_customers": 15729,
          "revenue": 1355.3183389830483,
          "t_dat": "2018-12-27T00:00:00"
         },
         {
          "num_sales": 46132,
          "num_unique_customers": 14583,
          "revenue": 1205.1966779660995,
          "t_dat": "2018-12-28T00:00:00"
         },
         {
          "num_sales": 42402,
          "num_unique_customers": 13257,
          "revenue": 1096.8025762711843,
          "t_dat": "2018-12-29T00:00:00"
         },
         {
          "num_sales": 33491,
          "num_unique_customers": 9853,
          "revenue": 866.5129491525407,
          "t_dat": "2018-12-30T00:00:00"
         },
         {
          "num_sales": 23903,
          "num_unique_customers": 8151,
          "revenue": 603.0253220338972,
          "t_dat": "2018-12-31T00:00:00"
         },
         {
          "num_sales": 18145,
          "num_unique_customers": 4326,
          "revenue": 512.1223898305076,
          "t_dat": "2019-01-01T00:00:00"
         },
         {
          "num_sales": 44252,
          "num_unique_customers": 12555,
          "revenue": 1141.3896101694893,
          "t_dat": "2019-01-02T00:00:00"
         },
         {
          "num_sales": 47744,
          "num_unique_customers": 14017,
          "revenue": 1224.3121016949128,
          "t_dat": "2019-01-03T00:00:00"
         },
         {
          "num_sales": 43545,
          "num_unique_customers": 12893,
          "revenue": 1124.9399491525403,
          "t_dat": "2019-01-04T00:00:00"
         },
         {
          "num_sales": 44536,
          "num_unique_customers": 13122,
          "revenue": 1144.3482372881335,
          "t_dat": "2019-01-05T00:00:00"
         },
         {
          "num_sales": 37885,
          "num_unique_customers": 9749,
          "revenue": 1001.2752372881338,
          "t_dat": "2019-01-06T00:00:00"
         },
         {
          "num_sales": 34484,
          "num_unique_customers": 9611,
          "revenue": 944.5012881355915,
          "t_dat": "2019-01-07T00:00:00"
         },
         {
          "num_sales": 49228,
          "num_unique_customers": 12544,
          "revenue": 1365.7051186440656,
          "t_dat": "2019-01-08T00:00:00"
         },
         {
          "num_sales": 53309,
          "num_unique_customers": 13699,
          "revenue": 1443.5341525423703,
          "t_dat": "2019-01-09T00:00:00"
         },
         {
          "num_sales": 53180,
          "num_unique_customers": 13878,
          "revenue": 1407.750830508472,
          "t_dat": "2019-01-10T00:00:00"
         },
         {
          "num_sales": 42656,
          "num_unique_customers": 11732,
          "revenue": 1114.877661016947,
          "t_dat": "2019-01-11T00:00:00"
         },
         {
          "num_sales": 44825,
          "num_unique_customers": 12450,
          "revenue": 1164.688474576269,
          "t_dat": "2019-01-12T00:00:00"
         },
         {
          "num_sales": 39612,
          "num_unique_customers": 9461,
          "revenue": 1077.2539322033879,
          "t_dat": "2019-01-13T00:00:00"
         },
         {
          "num_sales": 35715,
          "num_unique_customers": 9629,
          "revenue": 962.2328813559304,
          "t_dat": "2019-01-14T00:00:00"
         },
         {
          "num_sales": 35037,
          "num_unique_customers": 9626,
          "revenue": 937.7501525423712,
          "t_dat": "2019-01-15T00:00:00"
         },
         {
          "num_sales": 46962,
          "num_unique_customers": 12388,
          "revenue": 1268.947474576269,
          "t_dat": "2019-01-16T00:00:00"
         },
         {
          "num_sales": 36013,
          "num_unique_customers": 10418,
          "revenue": 954.6116271186423,
          "t_dat": "2019-01-17T00:00:00"
         },
         {
          "num_sales": 35741,
          "num_unique_customers": 10718,
          "revenue": 948.3974406779644,
          "t_dat": "2019-01-18T00:00:00"
         },
         {
          "num_sales": 38720,
          "num_unique_customers": 11883,
          "revenue": 1006.8851016949134,
          "t_dat": "2019-01-19T00:00:00"
         },
         {
          "num_sales": 34356,
          "num_unique_customers": 8798,
          "revenue": 946.6045932203373,
          "t_dat": "2019-01-20T00:00:00"
         },
         {
          "num_sales": 34553,
          "num_unique_customers": 10025,
          "revenue": 955.1485423728797,
          "t_dat": "2019-01-21T00:00:00"
         },
         {
          "num_sales": 36878,
          "num_unique_customers": 10190,
          "revenue": 1003.4702542372863,
          "t_dat": "2019-01-22T00:00:00"
         },
         {
          "num_sales": 40120,
          "num_unique_customers": 11443,
          "revenue": 1061.181406779659,
          "t_dat": "2019-01-23T00:00:00"
         },
         {
          "num_sales": 42320,
          "num_unique_customers": 12490,
          "revenue": 1097.528999999998,
          "t_dat": "2019-01-24T00:00:00"
         },
         {
          "num_sales": 46825,
          "num_unique_customers": 13904,
          "revenue": 1180.5077796610146,
          "t_dat": "2019-01-25T00:00:00"
         },
         {
          "num_sales": 48158,
          "num_unique_customers": 14271,
          "revenue": 1217.4197118644045,
          "t_dat": "2019-01-26T00:00:00"
         },
         {
          "num_sales": 40605,
          "num_unique_customers": 10548,
          "revenue": 1079.4427288135573,
          "t_dat": "2019-01-27T00:00:00"
         },
         {
          "num_sales": 35705,
          "num_unique_customers": 10202,
          "revenue": 950.2704406779643,
          "t_dat": "2019-01-28T00:00:00"
         },
         {
          "num_sales": 44990,
          "num_unique_customers": 12717,
          "revenue": 1163.3466610169469,
          "t_dat": "2019-01-29T00:00:00"
         },
         {
          "num_sales": 39026,
          "num_unique_customers": 11111,
          "revenue": 1019.95174576271,
          "t_dat": "2019-01-30T00:00:00"
         },
         {
          "num_sales": 38346,
          "num_unique_customers": 11681,
          "revenue": 1029.5849491525405,
          "t_dat": "2019-01-31T00:00:00"
         },
         {
          "num_sales": 41584,
          "num_unique_customers": 11685,
          "revenue": 1094.2213898305065,
          "t_dat": "2019-02-01T00:00:00"
         },
         {
          "num_sales": 43901,
          "num_unique_customers": 12544,
          "revenue": 1139.7230847457606,
          "t_dat": "2019-02-02T00:00:00"
         },
         {
          "num_sales": 45259,
          "num_unique_customers": 10784,
          "revenue": 1198.2719322033877,
          "t_dat": "2019-02-03T00:00:00"
         },
         {
          "num_sales": 33631,
          "num_unique_customers": 9340,
          "revenue": 924.2031186440662,
          "t_dat": "2019-02-04T00:00:00"
         },
         {
          "num_sales": 35743,
          "num_unique_customers": 10491,
          "revenue": 996.0708135593203,
          "t_dat": "2019-02-05T00:00:00"
         },
         {
          "num_sales": 37340,
          "num_unique_customers": 11091,
          "revenue": 1038.6576271186423,
          "t_dat": "2019-02-06T00:00:00"
         },
         {
          "num_sales": 39423,
          "num_unique_customers": 12085,
          "revenue": 1084.7439491525404,
          "t_dat": "2019-02-07T00:00:00"
         },
         {
          "num_sales": 36732,
          "num_unique_customers": 11508,
          "revenue": 1014.070305084744,
          "t_dat": "2019-02-08T00:00:00"
         },
         {
          "num_sales": 41220,
          "num_unique_customers": 13060,
          "revenue": 1112.58981355932,
          "t_dat": "2019-02-09T00:00:00"
         },
         {
          "num_sales": 36967,
          "num_unique_customers": 9765,
          "revenue": 1062.4702372881338,
          "t_dat": "2019-02-10T00:00:00"
         },
         {
          "num_sales": 32624,
          "num_unique_customers": 9334,
          "revenue": 919.1647796610154,
          "t_dat": "2019-02-11T00:00:00"
         },
         {
          "num_sales": 34629,
          "num_unique_customers": 10261,
          "revenue": 987.6935254237271,
          "t_dat": "2019-02-12T00:00:00"
         },
         {
          "num_sales": 33441,
          "num_unique_customers": 9934,
          "revenue": 932.5161016949137,
          "t_dat": "2019-02-13T00:00:00"
         },
         {
          "num_sales": 33707,
          "num_unique_customers": 10563,
          "revenue": 894.8378644067781,
          "t_dat": "2019-02-14T00:00:00"
         },
         {
          "num_sales": 37835,
          "num_unique_customers": 11514,
          "revenue": 1048.5338135593202,
          "t_dat": "2019-02-15T00:00:00"
         },
         {
          "num_sales": 43012,
          "num_unique_customers": 13155,
          "revenue": 1192.539847457625,
          "t_dat": "2019-02-16T00:00:00"
         },
         {
          "num_sales": 33705,
          "num_unique_customers": 8823,
          "revenue": 964.1224745762696,
          "t_dat": "2019-02-17T00:00:00"
         },
         {
          "num_sales": 31761,
          "num_unique_customers": 8975,
          "revenue": 900.1562711864391,
          "t_dat": "2019-02-18T00:00:00"
         },
         {
          "num_sales": 33761,
          "num_unique_customers": 9870,
          "revenue": 954.638271186439,
          "t_dat": "2019-02-19T00:00:00"
         },
         {
          "num_sales": 43688,
          "num_unique_customers": 12635,
          "revenue": 1194.8370847457606,
          "t_dat": "2019-02-20T00:00:00"
         },
         {
          "num_sales": 58728,
          "num_unique_customers": 17574,
          "revenue": 1497.1818474576244,
          "t_dat": "2019-02-21T00:00:00"
         },
         {
          "num_sales": 64026,
          "num_unique_customers": 19551,
          "revenue": 1620.9459661016917,
          "t_dat": "2019-02-22T00:00:00"
         },
         {
          "num_sales": 75668,
          "num_unique_customers": 22084,
          "revenue": 1883.8647966101657,
          "t_dat": "2019-02-23T00:00:00"
         },
         {
          "num_sales": 34618,
          "num_unique_customers": 9765,
          "revenue": 975.5946949152526,
          "t_dat": "2019-02-24T00:00:00"
         },
         {
          "num_sales": 39670,
          "num_unique_customers": 11607,
          "revenue": 1124.588220338981,
          "t_dat": "2019-02-25T00:00:00"
         },
         {
          "num_sales": 43079,
          "num_unique_customers": 13040,
          "revenue": 1232.2099830508455,
          "t_dat": "2019-02-26T00:00:00"
         },
         {
          "num_sales": 45506,
          "num_unique_customers": 13451,
          "revenue": 1273.2129491525402,
          "t_dat": "2019-02-27T00:00:00"
         },
         {
          "num_sales": 41154,
          "num_unique_customers": 12740,
          "revenue": 1166.5610508474556,
          "t_dat": "2019-02-28T00:00:00"
         },
         {
          "num_sales": 42145,
          "num_unique_customers": 12889,
          "revenue": 1172.551559322032,
          "t_dat": "2019-03-01T00:00:00"
         },
         {
          "num_sales": 40748,
          "num_unique_customers": 12382,
          "revenue": 1112.8179830508457,
          "t_dat": "2019-03-02T00:00:00"
         },
         {
          "num_sales": 35154,
          "num_unique_customers": 8785,
          "revenue": 1004.4725084745746,
          "t_dat": "2019-03-03T00:00:00"
         },
         {
          "num_sales": 30308,
          "num_unique_customers": 8420,
          "revenue": 905.8775762711849,
          "t_dat": "2019-03-04T00:00:00"
         },
         {
          "num_sales": 34652,
          "num_unique_customers": 9952,
          "revenue": 1022.0427627118628,
          "t_dat": "2019-03-05T00:00:00"
         },
         {
          "num_sales": 49580,
          "num_unique_customers": 13585,
          "revenue": 1398.386728813557,
          "t_dat": "2019-03-06T00:00:00"
         },
         {
          "num_sales": 44575,
          "num_unique_customers": 12597,
          "revenue": 1256.239440677964,
          "t_dat": "2019-03-07T00:00:00"
         },
         {
          "num_sales": 39791,
          "num_unique_customers": 12057,
          "revenue": 1124.1032881355914,
          "t_dat": "2019-03-08T00:00:00"
         },
         {
          "num_sales": 40750,
          "num_unique_customers": 12091,
          "revenue": 1145.8108474576252,
          "t_dat": "2019-03-09T00:00:00"
         },
         {
          "num_sales": 39697,
          "num_unique_customers": 9645,
          "revenue": 1137.2995762711846,
          "t_dat": "2019-03-10T00:00:00"
         },
         {
          "num_sales": 35607,
          "num_unique_customers": 9469,
          "revenue": 1042.212016949151,
          "t_dat": "2019-03-11T00:00:00"
         },
         {
          "num_sales": 37488,
          "num_unique_customers": 10022,
          "revenue": 1097.7771525423711,
          "t_dat": "2019-03-12T00:00:00"
         },
         {
          "num_sales": 45230,
          "num_unique_customers": 11901,
          "revenue": 1295.0294745762692,
          "t_dat": "2019-03-13T00:00:00"
         },
         {
          "num_sales": 39055,
          "num_unique_customers": 10960,
          "revenue": 1112.1995084745745,
          "t_dat": "2019-03-14T00:00:00"
         },
         {
          "num_sales": 37282,
          "num_unique_customers": 10969,
          "revenue": 1056.1240677966084,
          "t_dat": "2019-03-15T00:00:00"
         },
         {
          "num_sales": 51837,
          "num_unique_customers": 14207,
          "revenue": 1421.5574067796585,
          "t_dat": "2019-03-16T00:00:00"
         },
         {
          "num_sales": 39506,
          "num_unique_customers": 10087,
          "revenue": 1131.572966101693,
          "t_dat": "2019-03-17T00:00:00"
         },
         {
          "num_sales": 31074,
          "num_unique_customers": 8348,
          "revenue": 891.4826610169476,
          "t_dat": "2019-03-18T00:00:00"
         },
         {
          "num_sales": 35556,
          "num_unique_customers": 10200,
          "revenue": 1044.334457627117,
          "t_dat": "2019-03-19T00:00:00"
         },
         {
          "num_sales": 41505,
          "num_unique_customers": 11699,
          "revenue": 1239.924932203388,
          "t_dat": "2019-03-20T00:00:00"
         },
         {
          "num_sales": 41778,
          "num_unique_customers": 12317,
          "revenue": 1402.4353559322014,
          "t_dat": "2019-03-21T00:00:00"
         },
         {
          "num_sales": 43836,
          "num_unique_customers": 13618,
          "revenue": 1295.3227966101674,
          "t_dat": "2019-03-22T00:00:00"
         },
         {
          "num_sales": 44283,
          "num_unique_customers": 13727,
          "revenue": 1265.4963389830486,
          "t_dat": "2019-03-23T00:00:00"
         },
         {
          "num_sales": 40788,
          "num_unique_customers": 10510,
          "revenue": 1205.8810338983033,
          "t_dat": "2019-03-24T00:00:00"
         },
         {
          "num_sales": 37437,
          "num_unique_customers": 10393,
          "revenue": 1141.7002881355913,
          "t_dat": "2019-03-25T00:00:00"
         },
         {
          "num_sales": 47173,
          "num_unique_customers": 12719,
          "revenue": 1438.56394915254,
          "t_dat": "2019-03-26T00:00:00"
         },
         {
          "num_sales": 49139,
          "num_unique_customers": 13183,
          "revenue": 1497.0842711864384,
          "t_dat": "2019-03-27T00:00:00"
         },
         {
          "num_sales": 47074,
          "num_unique_customers": 13348,
          "revenue": 1438.502847457625,
          "t_dat": "2019-03-28T00:00:00"
         },
         {
          "num_sales": 47539,
          "num_unique_customers": 14169,
          "revenue": 1421.036474576269,
          "t_dat": "2019-03-29T00:00:00"
         },
         {
          "num_sales": 49560,
          "num_unique_customers": 14473,
          "revenue": 1441.8075254237265,
          "t_dat": "2019-03-30T00:00:00"
         },
         {
          "num_sales": 46603,
          "num_unique_customers": 11501,
          "revenue": 1389.3723728813536,
          "t_dat": "2019-03-31T00:00:00"
         },
         {
          "num_sales": 43981,
          "num_unique_customers": 11781,
          "revenue": 1342.9218644067776,
          "t_dat": "2019-04-01T00:00:00"
         },
         {
          "num_sales": 42351,
          "num_unique_customers": 11419,
          "revenue": 1290.3167118644049,
          "t_dat": "2019-04-02T00:00:00"
         },
         {
          "num_sales": 44936,
          "num_unique_customers": 12522,
          "revenue": 1360.2897796610148,
          "t_dat": "2019-04-03T00:00:00"
         },
         {
          "num_sales": 42650,
          "num_unique_customers": 12531,
          "revenue": 1290.2533220338962,
          "t_dat": "2019-04-04T00:00:00"
         },
         {
          "num_sales": 40220,
          "num_unique_customers": 12238,
          "revenue": 1186.080338983049,
          "t_dat": "2019-04-05T00:00:00"
         },
         {
          "num_sales": 119601,
          "num_unique_customers": 25693,
          "revenue": 3100.9048983050784,
          "t_dat": "2019-04-06T00:00:00"
         },
         {
          "num_sales": 40873,
          "num_unique_customers": 10219,
          "revenue": 1176.9502542372861,
          "t_dat": "2019-04-07T00:00:00"
         },
         {
          "num_sales": 34419,
          "num_unique_customers": 9356,
          "revenue": 1029.0689661016934,
          "t_dat": "2019-04-08T00:00:00"
         },
         {
          "num_sales": 39942,
          "num_unique_customers": 10849,
          "revenue": 1214.9952881355912,
          "t_dat": "2019-04-09T00:00:00"
         },
         {
          "num_sales": 43708,
          "num_unique_customers": 11517,
          "revenue": 1298.5103898305063,
          "t_dat": "2019-04-10T00:00:00"
         },
         {
          "num_sales": 41695,
          "num_unique_customers": 11718,
          "revenue": 1375.8490847457606,
          "t_dat": "2019-04-11T00:00:00"
         },
         {
          "num_sales": 41923,
          "num_unique_customers": 12146,
          "revenue": 1255.2261016949133,
          "t_dat": "2019-04-12T00:00:00"
         },
         {
          "num_sales": 44852,
          "num_unique_customers": 12958,
          "revenue": 1288.4630677966081,
          "t_dat": "2019-04-13T00:00:00"
         },
         {
          "num_sales": 42322,
          "num_unique_customers": 10270,
          "revenue": 1290.652406779659,
          "t_dat": "2019-04-14T00:00:00"
         },
         {
          "num_sales": 41713,
          "num_unique_customers": 10828,
          "revenue": 1269.7375762711845,
          "t_dat": "2019-04-15T00:00:00"
         },
         {
          "num_sales": 44930,
          "num_unique_customers": 12124,
          "revenue": 1370.9560847457606,
          "t_dat": "2019-04-16T00:00:00"
         },
         {
          "num_sales": 45191,
          "num_unique_customers": 12105,
          "revenue": 1305.7717627118623,
          "t_dat": "2019-04-17T00:00:00"
         },
         {
          "num_sales": 47593,
          "num_unique_customers": 13466,
          "revenue": 1364.7494067796588,
          "t_dat": "2019-04-18T00:00:00"
         },
         {
          "num_sales": 53188,
          "num_unique_customers": 14802,
          "revenue": 1459.77294915254,
          "t_dat": "2019-04-19T00:00:00"
         },
         {
          "num_sales": 55558,
          "num_unique_customers": 15188,
          "revenue": 1503.6065084745737,
          "t_dat": "2019-04-20T00:00:00"
         },
         {
          "num_sales": 32616,
          "num_unique_customers": 6526,
          "revenue": 1000.2112203389814,
          "t_dat": "2019-04-21T00:00:00"
         },
         {
          "num_sales": 45237,
          "num_unique_customers": 9851,
          "revenue": 1313.7510508474554,
          "t_dat": "2019-04-22T00:00:00"
         },
         {
          "num_sales": 61860,
          "num_unique_customers": 15274,
          "revenue": 1775.1010338983021,
          "t_dat": "2019-04-23T00:00:00"
         },
         {
          "num_sales": 80711,
          "num_unique_customers": 20044,
          "revenue": 2223.121186440674,
          "t_dat": "2019-04-24T00:00:00"
         },
         {
          "num_sales": 63624,
          "num_unique_customers": 17472,
          "revenue": 1786.259440677963,
          "t_dat": "2019-04-25T00:00:00"
         },
         {
          "num_sales": 54735,
          "num_unique_customers": 16109,
          "revenue": 1536.428050847455,
          "t_dat": "2019-04-26T00:00:00"
         },
         {
          "num_sales": 29402,
          "num_unique_customers": 7395,
          "revenue": 874.5827288135579,
          "t_dat": "2019-04-27T00:00:00"
         },
         {
          "num_sales": 44907,
          "num_unique_customers": 10819,
          "revenue": 1317.4582372881334,
          "t_dat": "2019-04-28T00:00:00"
         },
         {
          "num_sales": 48190,
          "num_unique_customers": 12561,
          "revenue": 1404.1479999999976,
          "t_dat": "2019-04-29T00:00:00"
         },
         {
          "num_sales": 63526,
          "num_unique_customers": 16026,
          "revenue": 1818.849593220336,
          "t_dat": "2019-04-30T00:00:00"
         },
         {
          "num_sales": 72875,
          "num_unique_customers": 17443,
          "revenue": 2081.6301525423696,
          "t_dat": "2019-05-01T00:00:00"
         },
         {
          "num_sales": 68839,
          "num_unique_customers": 17675,
          "revenue": 1979.070627118641,
          "t_dat": "2019-05-02T00:00:00"
         },
         {
          "num_sales": 55773,
          "num_unique_customers": 15283,
          "revenue": 1565.8851864406754,
          "t_dat": "2019-05-03T00:00:00"
         },
         {
          "num_sales": 52336,
          "num_unique_customers": 14431,
          "revenue": 1457.2200338983027,
          "t_dat": "2019-05-04T00:00:00"
         },
         {
          "num_sales": 41956,
          "num_unique_customers": 9645,
          "revenue": 1214.8036610169472,
          "t_dat": "2019-05-05T00:00:00"
         },
         {
          "num_sales": 39273,
          "num_unique_customers": 9913,
          "revenue": 1149.6396779661,
          "t_dat": "2019-05-06T00:00:00"
         },
         {
          "num_sales": 43795,
          "num_unique_customers": 11392,
          "revenue": 1278.827440677964,
          "t_dat": "2019-05-07T00:00:00"
         },
         {
          "num_sales": 44209,
          "num_unique_customers": 11328,
          "revenue": 1301.614627118642,
          "t_dat": "2019-05-08T00:00:00"
         },
         {
          "num_sales": 38693,
          "num_unique_customers": 11164,
          "revenue": 1108.9204406779643,
          "t_dat": "2019-05-09T00:00:00"
         },
         {
          "num_sales": 41585,
          "num_unique_customers": 12022,
          "revenue": 1201.4842711864387,
          "t_dat": "2019-05-10T00:00:00"
         },
         {
          "num_sales": 42390,
          "num_unique_customers": 12636,
          "revenue": 1166.6957627118625,
          "t_dat": "2019-05-11T00:00:00"
         },
         {
          "num_sales": 33240,
          "num_unique_customers": 8241,
          "revenue": 973.6751016949137,
          "t_dat": "2019-05-12T00:00:00"
         },
         {
          "num_sales": 35508,
          "num_unique_customers": 9224,
          "revenue": 1030.4539491525406,
          "t_dat": "2019-05-13T00:00:00"
         },
         {
          "num_sales": 41100,
          "num_unique_customers": 10864,
          "revenue": 1181.2661016949135,
          "t_dat": "2019-05-14T00:00:00"
         },
         {
          "num_sales": 40695,
          "num_unique_customers": 11298,
          "revenue": 1139.0607966101677,
          "t_dat": "2019-05-15T00:00:00"
         },
         {
          "num_sales": 97320,
          "num_unique_customers": 21566,
          "revenue": 2593.487271186436,
          "t_dat": "2019-05-16T00:00:00"
         },
         {
          "num_sales": 41312,
          "num_unique_customers": 12178,
          "revenue": 1144.0053559322016,
          "t_dat": "2019-05-17T00:00:00"
         },
         {
          "num_sales": 47698,
          "num_unique_customers": 13589,
          "revenue": 1309.2937288135572,
          "t_dat": "2019-05-18T00:00:00"
         },
         {
          "num_sales": 37283,
          "num_unique_customers": 9278,
          "revenue": 1058.5984067796594,
          "t_dat": "2019-05-19T00:00:00"
         },
         {
          "num_sales": 43006,
          "num_unique_customers": 11155,
          "revenue": 1224.379372881354,
          "t_dat": "2019-05-20T00:00:00"
         },
         {
          "num_sales": 43676,
          "num_unique_customers": 11644,
          "revenue": 1269.975627118642,
          "t_dat": "2019-05-21T00:00:00"
         },
         {
          "num_sales": 51126,
          "num_unique_customers": 13661,
          "revenue": 1404.8386610169468,
          "t_dat": "2019-05-22T00:00:00"
         },
         {
          "num_sales": 52773,
          "num_unique_customers": 14788,
          "revenue": 1422.8441186440655,
          "t_dat": "2019-05-23T00:00:00"
         },
         {
          "num_sales": 58066,
          "num_unique_customers": 16347,
          "revenue": 1538.0156101694888,
          "t_dat": "2019-05-24T00:00:00"
         },
         {
          "num_sales": 56786,
          "num_unique_customers": 15876,
          "revenue": 1499.2710677966077,
          "t_dat": "2019-05-25T00:00:00"
         },
         {
          "num_sales": 51913,
          "num_unique_customers": 12823,
          "revenue": 1427.1038813559298,
          "t_dat": "2019-05-26T00:00:00"
         },
         {
          "num_sales": 51676,
          "num_unique_customers": 13067,
          "revenue": 1456.1807627118621,
          "t_dat": "2019-05-27T00:00:00"
         },
         {
          "num_sales": 49568,
          "num_unique_customers": 12795,
          "revenue": 1376.2786440677944,
          "t_dat": "2019-05-28T00:00:00"
         },
         {
          "num_sales": 68148,
          "num_unique_customers": 17110,
          "revenue": 1754.032915254234,
          "t_dat": "2019-05-29T00:00:00"
         },
         {
          "num_sales": 47604,
          "num_unique_customers": 11857,
          "revenue": 1287.1520508474555,
          "t_dat": "2019-05-30T00:00:00"
         },
         {
          "num_sales": 70097,
          "num_unique_customers": 19699,
          "revenue": 1761.7970169491496,
          "t_dat": "2019-05-31T00:00:00"
         },
         {
          "num_sales": 62619,
          "num_unique_customers": 17198,
          "revenue": 1611.5732542372855,
          "t_dat": "2019-06-01T00:00:00"
         },
         {
          "num_sales": 58089,
          "num_unique_customers": 12842,
          "revenue": 1546.3614915254211,
          "t_dat": "2019-06-02T00:00:00"
         },
         {
          "num_sales": 52676,
          "num_unique_customers": 12858,
          "revenue": 1459.8275254237265,
          "t_dat": "2019-06-03T00:00:00"
         },
         {
          "num_sales": 51977,
          "num_unique_customers": 13194,
          "revenue": 1431.9574406779636,
          "t_dat": "2019-06-04T00:00:00"
         },
         {
          "num_sales": 53398,
          "num_unique_customers": 13452,
          "revenue": 1463.007457627116,
          "t_dat": "2019-06-05T00:00:00"
         },
         {
          "num_sales": 51953,
          "num_unique_customers": 13965,
          "revenue": 1414.3634067796586,
          "t_dat": "2019-06-06T00:00:00"
         },
         {
          "num_sales": 48905,
          "num_unique_customers": 13570,
          "revenue": 1310.4709322033875,
          "t_dat": "2019-06-07T00:00:00"
         },
         {
          "num_sales": 46384,
          "num_unique_customers": 12978,
          "revenue": 1224.6763220338962,
          "t_dat": "2019-06-08T00:00:00"
         },
         {
          "num_sales": 29798,
          "num_unique_customers": 6316,
          "revenue": 858.8190338983037,
          "t_dat": "2019-06-09T00:00:00"
         },
         {
          "num_sales": 39561,
          "num_unique_customers": 9815,
          "revenue": 1066.3268474576253,
          "t_dat": "2019-06-10T00:00:00"
         },
         {
          "num_sales": 43337,
          "num_unique_customers": 11215,
          "revenue": 1189.776559322032,
          "t_dat": "2019-06-11T00:00:00"
         },
         {
          "num_sales": 36588,
          "num_unique_customers": 9230,
          "revenue": 991.378118644066,
          "t_dat": "2019-06-12T00:00:00"
         },
         {
          "num_sales": 78012,
          "num_unique_customers": 18287,
          "revenue": 2340.5179322033864,
          "t_dat": "2019-06-13T00:00:00"
         },
         {
          "num_sales": 48555,
          "num_unique_customers": 13683,
          "revenue": 1316.7542711864385,
          "t_dat": "2019-06-14T00:00:00"
         },
         {
          "num_sales": 46705,
          "num_unique_customers": 12968,
          "revenue": 1236.1959491525402,
          "t_dat": "2019-06-15T00:00:00"
         },
         {
          "num_sales": 34579,
          "num_unique_customers": 8381,
          "revenue": 959.0459322033882,
          "t_dat": "2019-06-16T00:00:00"
         },
         {
          "num_sales": 50067,
          "num_unique_customers": 12713,
          "revenue": 1355.3135593220316,
          "t_dat": "2019-06-17T00:00:00"
         },
         {
          "num_sales": 60593,
          "num_unique_customers": 15157,
          "revenue": 1613.838932203387,
          "t_dat": "2019-06-18T00:00:00"
         },
         {
          "num_sales": 104052,
          "num_unique_customers": 22232,
          "revenue": 2476.714254237283,
          "t_dat": "2019-06-19T00:00:00"
         },
         {
          "num_sales": 92778,
          "num_unique_customers": 22019,
          "revenue": 2199.0410338983006,
          "t_dat": "2019-06-20T00:00:00"
         },
         {
          "num_sales": 84136,
          "num_unique_customers": 21213,
          "revenue": 2001.1000677966063,
          "t_dat": "2019-06-21T00:00:00"
         },
         {
          "num_sales": 87802,
          "num_unique_customers": 21865,
          "revenue": 2099.9260847457585,
          "t_dat": "2019-06-22T00:00:00"
         },
         {
          "num_sales": 80648,
          "num_unique_customers": 16854,
          "revenue": 1971.1277627118607,
          "t_dat": "2019-06-23T00:00:00"
         },
         {
          "num_sales": 95110,
          "num_unique_customers": 21425,
          "revenue": 2332.4853728813514,
          "t_dat": "2019-06-24T00:00:00"
         },
         {
          "num_sales": 91365,
          "num_unique_customers": 21622,
          "revenue": 2251.667508474572,
          "t_dat": "2019-06-25T00:00:00"
         },
         {
          "num_sales": 96337,
          "num_unique_customers": 23162,
          "revenue": 2296.185915254233,
          "t_dat": "2019-06-26T00:00:00"
         },
         {
          "num_sales": 82326,
          "num_unique_customers": 21574,
          "revenue": 1936.8426779660979,
          "t_dat": "2019-06-27T00:00:00"
         },
         {
          "num_sales": 74998,
          "num_unique_customers": 20162,
          "revenue": 1758.1444406779626,
          "t_dat": "2019-06-28T00:00:00"
         },
         {
          "num_sales": 63192,
          "num_unique_customers": 16184,
          "revenue": 1487.9686779660988,
          "t_dat": "2019-06-29T00:00:00"
         },
         {
          "num_sales": 59662,
          "num_unique_customers": 13695,
          "revenue": 1447.0091016949125,
          "t_dat": "2019-06-30T00:00:00"
         },
         {
          "num_sales": 72375,
          "num_unique_customers": 17580,
          "revenue": 1784.829796610166,
          "t_dat": "2019-07-01T00:00:00"
         },
         {
          "num_sales": 70056,
          "num_unique_customers": 17979,
          "revenue": 1712.9863050847425,
          "t_dat": "2019-07-02T00:00:00"
         },
         {
          "num_sales": 71255,
          "num_unique_customers": 18288,
          "revenue": 1712.1317457627085,
          "t_dat": "2019-07-03T00:00:00"
         },
         {
          "num_sales": 58684,
          "num_unique_customers": 16643,
          "revenue": 1381.0366440677938,
          "t_dat": "2019-07-04T00:00:00"
         },
         {
          "num_sales": 56127,
          "num_unique_customers": 16160,
          "revenue": 1331.6789322033871,
          "t_dat": "2019-07-05T00:00:00"
         },
         {
          "num_sales": 56162,
          "num_unique_customers": 15446,
          "revenue": 1322.9705932203362,
          "t_dat": "2019-07-06T00:00:00"
         },
         {
          "num_sales": 44867,
          "num_unique_customers": 10696,
          "revenue": 1102.6408983050826,
          "t_dat": "2019-07-07T00:00:00"
         },
         {
          "num_sales": 51888,
          "num_unique_customers": 13434,
          "revenue": 1259.399983050845,
          "t_dat": "2019-07-08T00:00:00"
         },
         {
          "num_sales": 54224,
          "num_unique_customers": 14699,
          "revenue": 1271.1681864406753,
          "t_dat": "2019-07-09T00:00:00"
         },
         {
          "num_sales": 63403,
          "num_unique_customers": 16176,
          "revenue": 1440.0581355932172,
          "t_dat": "2019-07-10T00:00:00"
         },
         {
          "num_sales": 58167,
          "num_unique_customers": 15775,
          "revenue": 1281.313338983048,
          "t_dat": "2019-07-11T00:00:00"
         },
         {
          "num_sales": 49104,
          "num_unique_customers": 13344,
          "revenue": 1095.1994576271163,
          "t_dat": "2019-07-12T00:00:00"
         },
         {
          "num_sales": 52472,
          "num_unique_customers": 14146,
          "revenue": 1166.8786610169466,
          "t_dat": "2019-07-13T00:00:00"
         },
         {
          "num_sales": 45379,
          "num_unique_customers": 10576,
          "revenue": 1056.522135593218,
          "t_dat": "2019-07-14T00:00:00"
         },
         {
          "num_sales": 53061,
          "num_unique_customers": 13502,
          "revenue": 1235.0443389830484,
          "t_dat": "2019-07-15T00:00:00"
         },
         {
          "num_sales": 51589,
          "num_unique_customers": 13481,
          "revenue": 1185.55094915254,
          "t_dat": "2019-07-16T00:00:00"
         },
         {
          "num_sales": 60641,
          "num_unique_customers": 15857,
          "revenue": 1331.4280508474546,
          "t_dat": "2019-07-17T00:00:00"
         },
         {
          "num_sales": 57822,
          "num_unique_customers": 15618,
          "revenue": 1279.2386271186413,
          "t_dat": "2019-07-18T00:00:00"
         },
         {
          "num_sales": 52222,
          "num_unique_customers": 14391,
          "revenue": 1158.621796610167,
          "t_dat": "2019-07-19T00:00:00"
         },
         {
          "num_sales": 47872,
          "num_unique_customers": 12846,
          "revenue": 1064.898762711862,
          "t_dat": "2019-07-20T00:00:00"
         },
         {
          "num_sales": 47870,
          "num_unique_customers": 11264,
          "revenue": 1078.5364745762688,
          "t_dat": "2019-07-21T00:00:00"
         },
         {
          "num_sales": 59218,
          "num_unique_customers": 15273,
          "revenue": 1317.729559322031,
          "t_dat": "2019-07-22T00:00:00"
         },
         {
          "num_sales": 63567,
          "num_unique_customers": 16291,
          "revenue": 1423.7246440677936,
          "t_dat": "2019-07-23T00:00:00"
         },
         {
          "num_sales": 124683,
          "num_unique_customers": 24256,
          "revenue": 2217.252830508469,
          "t_dat": "2019-07-24T00:00:00"
         },
         {
          "num_sales": 64314,
          "num_unique_customers": 16047,
          "revenue": 1338.2121694915222,
          "t_dat": "2019-07-25T00:00:00"
         },
         {
          "num_sales": 57071,
          "num_unique_customers": 14319,
          "revenue": 1180.2526949152516,
          "t_dat": "2019-07-26T00:00:00"
         },
         {
          "num_sales": 55024,
          "num_unique_customers": 14669,
          "revenue": 1147.0197796610144,
          "t_dat": "2019-07-27T00:00:00"
         },
         {
          "num_sales": 47989,
          "num_unique_customers": 11351,
          "revenue": 1031.6514915254213,
          "t_dat": "2019-07-28T00:00:00"
         },
         {
          "num_sales": 54247,
          "num_unique_customers": 13960,
          "revenue": 1170.4532881355906,
          "t_dat": "2019-07-29T00:00:00"
         },
         {
          "num_sales": 50802,
          "num_unique_customers": 13337,
          "revenue": 1123.519389830506,
          "t_dat": "2019-07-30T00:00:00"
         },
         {
          "num_sales": 55339,
          "num_unique_customers": 14202,
          "revenue": 1185.1797118644042,
          "t_dat": "2019-07-31T00:00:00"
         },
         {
          "num_sales": 52371,
          "num_unique_customers": 14197,
          "revenue": 1119.9599661016923,
          "t_dat": "2019-08-01T00:00:00"
         },
         {
          "num_sales": 41438,
          "num_unique_customers": 11717,
          "revenue": 890.1683220338963,
          "t_dat": "2019-08-02T00:00:00"
         },
         {
          "num_sales": 40553,
          "num_unique_customers": 11372,
          "revenue": 884.7249322033879,
          "t_dat": "2019-08-03T00:00:00"
         },
         {
          "num_sales": 34634,
          "num_unique_customers": 8493,
          "revenue": 784.974457627117,
          "t_dat": "2019-08-04T00:00:00"
         },
         {
          "num_sales": 44248,
          "num_unique_customers": 11303,
          "revenue": 1018.8517457627097,
          "t_dat": "2019-08-05T00:00:00"
         },
         {
          "num_sales": 48092,
          "num_unique_customers": 12692,
          "revenue": 1081.1596779660995,
          "t_dat": "2019-08-06T00:00:00"
         },
         {
          "num_sales": 46769,
          "num_unique_customers": 12542,
          "revenue": 1087.540135593218,
          "t_dat": "2019-08-07T00:00:00"
         },
         {
          "num_sales": 45867,
          "num_unique_customers": 12821,
          "revenue": 1059.3899152542351,
          "t_dat": "2019-08-08T00:00:00"
         },
         {
          "num_sales": 39561,
          "num_unique_customers": 10954,
          "revenue": 929.4704745762693,
          "t_dat": "2019-08-09T00:00:00"
         },
         {
          "num_sales": 41323,
          "num_unique_customers": 11620,
          "revenue": 972.6074406779642,
          "t_dat": "2019-08-10T00:00:00"
         },
         {
          "num_sales": 32932,
          "num_unique_customers": 8226,
          "revenue": 819.7877627118629,
          "t_dat": "2019-08-11T00:00:00"
         },
         {
          "num_sales": 39689,
          "num_unique_customers": 10484,
          "revenue": 1010.7411355932185,
          "t_dat": "2019-08-12T00:00:00"
         },
         {
          "num_sales": 45355,
          "num_unique_customers": 12018,
          "revenue": 1105.3955254237267,
          "t_dat": "2019-08-13T00:00:00"
         },
         {
          "num_sales": 53274,
          "num_unique_customers": 13398,
          "revenue": 1185.2061694915228,
          "t_dat": "2019-08-14T00:00:00"
         },
         {
          "num_sales": 51943,
          "num_unique_customers": 13297,
          "revenue": 1156.0950338983027,
          "t_dat": "2019-08-15T00:00:00"
         },
         {
          "num_sales": 45866,
          "num_unique_customers": 12384,
          "revenue": 1033.923288135591,
          "t_dat": "2019-08-16T00:00:00"
         },
         {
          "num_sales": 43572,
          "num_unique_customers": 11733,
          "revenue": 1001.8229830508454,
          "t_dat": "2019-08-17T00:00:00"
         },
         {
          "num_sales": 45329,
          "num_unique_customers": 10292,
          "revenue": 1094.541254237286,
          "t_dat": "2019-08-18T00:00:00"
         },
         {
          "num_sales": 39571,
          "num_unique_customers": 10629,
          "revenue": 988.4832372881336,
          "t_dat": "2019-08-19T00:00:00"
         },
         {
          "num_sales": 41351,
          "num_unique_customers": 11824,
          "revenue": 1085.4184576271166,
          "t_dat": "2019-08-20T00:00:00"
         },
         {
          "num_sales": 42056,
          "num_unique_customers": 12162,
          "revenue": 1117.1952881355912,
          "t_dat": "2019-08-21T00:00:00"
         },
         {
          "num_sales": 40190,
          "num_unique_customers": 12491,
          "revenue": 1058.375932203388,
          "t_dat": "2019-08-22T00:00:00"
         },
         {
          "num_sales": 35626,
          "num_unique_customers": 11631,
          "revenue": 915.3724406779644,
          "t_dat": "2019-08-23T00:00:00"
         },
         {
          "num_sales": 32581,
          "num_unique_customers": 10352,
          "revenue": 841.139423728812,
          "t_dat": "2019-08-24T00:00:00"
         },
         {
          "num_sales": 28313,
          "num_unique_customers": 7821,
          "revenue": 762.7794915254224,
          "t_dat": "2019-08-25T00:00:00"
         },
         {
          "num_sales": 31842,
          "num_unique_customers": 9363,
          "revenue": 892.4742881355917,
          "t_dat": "2019-08-26T00:00:00"
         },
         {
          "num_sales": 31754,
          "num_unique_customers": 9525,
          "revenue": 871.7882542372865,
          "t_dat": "2019-08-27T00:00:00"
         },
         {
          "num_sales": 34884,
          "num_unique_customers": 10426,
          "revenue": 954.7421016949136,
          "t_dat": "2019-08-28T00:00:00"
         },
         {
          "num_sales": 38002,
          "num_unique_customers": 11945,
          "revenue": 1048.6060677966084,
          "t_dat": "2019-08-29T00:00:00"
         },
         {
          "num_sales": 34681,
          "num_unique_customers": 11249,
          "revenue": 959.1170338983034,
          "t_dat": "2019-08-30T00:00:00"
         },
         {
          "num_sales": 29863,
          "num_unique_customers": 9393,
          "revenue": 813.9944915254223,
          "t_dat": "2019-08-31T00:00:00"
         },
         {
          "num_sales": 33228,
          "num_unique_customers": 9171,
          "revenue": 982.552305084744,
          "t_dat": "2019-09-01T00:00:00"
         },
         {
          "num_sales": 33078,
          "num_unique_customers": 9707,
          "revenue": 1032.6766610169475,
          "t_dat": "2019-09-02T00:00:00"
         },
         {
          "num_sales": 33981,
          "num_unique_customers": 9849,
          "revenue": 1060.3185084745746,
          "t_dat": "2019-09-03T00:00:00"
         },
         {
          "num_sales": 34530,
          "num_unique_customers": 10182,
          "revenue": 1086.7353728813541,
          "t_dat": "2019-09-04T00:00:00"
         },
         {
          "num_sales": 43200,
          "num_unique_customers": 13041,
          "revenue": 1549.0567118644046,
          "t_dat": "2019-09-05T00:00:00"
         },
         {
          "num_sales": 38762,
          "num_unique_customers": 12245,
          "revenue": 1240.1380169491506,
          "t_dat": "2019-09-06T00:00:00"
         },
         {
          "num_sales": 39480,
          "num_unique_customers": 12413,
          "revenue": 1226.4416101694896,
          "t_dat": "2019-09-07T00:00:00"
         },
         {
          "num_sales": 37052,
          "num_unique_customers": 9936,
          "revenue": 1182.8484576271169,
          "t_dat": "2019-09-08T00:00:00"
         },
         {
          "num_sales": 33377,
          "num_unique_customers": 9621,
          "revenue": 1101.3542033898289,
          "t_dat": "2019-09-09T00:00:00"
         },
         {
          "num_sales": 37719,
          "num_unique_customers": 10793,
          "revenue": 1241.737372881354,
          "t_dat": "2019-09-10T00:00:00"
         },
         {
          "num_sales": 36096,
          "num_unique_customers": 10500,
          "revenue": 1204.9480677966083,
          "t_dat": "2019-09-11T00:00:00"
         },
         {
          "num_sales": 35417,
          "num_unique_customers": 11275,
          "revenue": 1148.4454067796592,
          "t_dat": "2019-09-12T00:00:00"
         },
         {
          "num_sales": 36761,
          "num_unique_customers": 12010,
          "revenue": 1211.0869152542355,
          "t_dat": "2019-09-13T00:00:00"
         },
         {
          "num_sales": 35936,
          "num_unique_customers": 11896,
          "revenue": 1134.619966101693,
          "t_dat": "2019-09-14T00:00:00"
         },
         {
          "num_sales": 31112,
          "num_unique_customers": 8615,
          "revenue": 1026.869237288134,
          "t_dat": "2019-09-15T00:00:00"
         },
         {
          "num_sales": 33716,
          "num_unique_customers": 9773,
          "revenue": 1164.2393220338965,
          "t_dat": "2019-09-16T00:00:00"
         },
         {
          "num_sales": 37008,
          "num_unique_customers": 10857,
          "revenue": 1283.9132033898286,
          "t_dat": "2019-09-17T00:00:00"
         },
         {
          "num_sales": 39063,
          "num_unique_customers": 11871,
          "revenue": 1333.731406779659,
          "t_dat": "2019-09-18T00:00:00"
         },
         {
          "num_sales": 36491,
          "num_unique_customers": 11669,
          "revenue": 1230.0396101694896,
          "t_dat": "2019-09-19T00:00:00"
         },
         {
          "num_sales": 31508,
          "num_unique_customers": 11019,
          "revenue": 1023.6388813559306,
          "t_dat": "2019-09-20T00:00:00"
         },
         {
          "num_sales": 20542,
          "num_unique_customers": 7485,
          "revenue": 655.6502711864396,
          "t_dat": "2019-09-21T00:00:00"
         },
         {
          "num_sales": 33950,
          "num_unique_customers": 9369,
          "revenue": 1168.962271186439,
          "t_dat": "2019-09-22T00:00:00"
         },
         {
          "num_sales": 34076,
          "num_unique_customers": 9766,
          "revenue": 1197.5768305084728,
          "t_dat": "2019-09-23T00:00:00"
         },
         {
          "num_sales": 36702,
          "num_unique_customers": 10975,
          "revenue": 1262.190152542371,
          "t_dat": "2019-09-24T00:00:00"
         },
         {
          "num_sales": 41256,
          "num_unique_customers": 12497,
          "revenue": 1415.247220338981,
          "t_dat": "2019-09-25T00:00:00"
         },
         {
          "num_sales": 37128,
          "num_unique_customers": 11757,
          "revenue": 1325.1101016949133,
          "t_dat": "2019-09-26T00:00:00"
         },
         {
          "num_sales": 35597,
          "num_unique_customers": 12208,
          "revenue": 1187.1600677966082,
          "t_dat": "2019-09-27T00:00:00"
         },
         {
          "num_sales": 198622,
          "num_unique_customers": 42062,
          "revenue": 6161.6030677966,
          "t_dat": "2019-09-28T00:00:00"
         },
         {
          "num_sales": 40043,
          "num_unique_customers": 11192,
          "revenue": 1359.990254237286,
          "t_dat": "2019-09-29T00:00:00"
         },
         {
          "num_sales": 31747,
          "num_unique_customers": 9744,
          "revenue": 1105.1683898305068,
          "t_dat": "2019-09-30T00:00:00"
         },
         {
          "num_sales": 40412,
          "num_unique_customers": 12277,
          "revenue": 1437.1608644067776,
          "t_dat": "2019-10-01T00:00:00"
         },
         {
          "num_sales": 63452,
          "num_unique_customers": 17246,
          "revenue": 1928.3217288135563,
          "t_dat": "2019-10-02T00:00:00"
         },
         {
          "num_sales": 50775,
          "num_unique_customers": 15203,
          "revenue": 1567.3220847457603,
          "t_dat": "2019-10-03T00:00:00"
         },
         {
          "num_sales": 43558,
          "num_unique_customers": 13320,
          "revenue": 1380.9482711864384,
          "t_dat": "2019-10-04T00:00:00"
         },
         {
          "num_sales": 43387,
          "num_unique_customers": 14440,
          "revenue": 1327.061779661015,
          "t_dat": "2019-10-05T00:00:00"
         },
         {
          "num_sales": 42390,
          "num_unique_customers": 11417,
          "revenue": 1332.6384576271166,
          "t_dat": "2019-10-06T00:00:00"
         },
         {
          "num_sales": 39091,
          "num_unique_customers": 11434,
          "revenue": 1261.8524576271168,
          "t_dat": "2019-10-07T00:00:00"
         },
         {
          "num_sales": 37840,
          "num_unique_customers": 11329,
          "revenue": 1247.9563898305066,
          "t_dat": "2019-10-08T00:00:00"
         },
         {
          "num_sales": 44476,
          "num_unique_customers": 13069,
          "revenue": 1414.9638135593198,
          "t_dat": "2019-10-09T00:00:00"
         },
         {
          "num_sales": 38121,
          "num_unique_customers": 11946,
          "revenue": 1198.6797627118626,
          "t_dat": "2019-10-10T00:00:00"
         },
         {
          "num_sales": 32866,
          "num_unique_customers": 10724,
          "revenue": 1031.0618813559306,
          "t_dat": "2019-10-11T00:00:00"
         },
         {
          "num_sales": 36954,
          "num_unique_customers": 12449,
          "revenue": 1154.5268644067778,
          "t_dat": "2019-10-12T00:00:00"
         },
         {
          "num_sales": 33358,
          "num_unique_customers": 9442,
          "revenue": 1027.680644067795,
          "t_dat": "2019-10-13T00:00:00"
         },
         {
          "num_sales": 31945,
          "num_unique_customers": 9644,
          "revenue": 999.3247457627103,
          "t_dat": "2019-10-14T00:00:00"
         },
         {
          "num_sales": 34410,
          "num_unique_customers": 10981,
          "revenue": 1102.7700338983034,
          "t_dat": "2019-10-15T00:00:00"
         },
         {
          "num_sales": 37522,
          "num_unique_customers": 11667,
          "revenue": 1182.1400338983033,
          "t_dat": "2019-10-16T00:00:00"
         },
         {
          "num_sales": 31801,
          "num_unique_customers": 11059,
          "revenue": 998.3453220338968,
          "t_dat": "2019-10-17T00:00:00"
         },
         {
          "num_sales": 29189,
          "num_unique_customers": 10521,
          "revenue": 919.0261186440664,
          "t_dat": "2019-10-18T00:00:00"
         },
         {
          "num_sales": 32588,
          "num_unique_customers": 11591,
          "revenue": 1032.0394576271171,
          "t_dat": "2019-10-19T00:00:00"
         },
         {
          "num_sales": 27989,
          "num_unique_customers": 8422,
          "revenue": 929.3257966101681,
          "t_dat": "2019-10-20T00:00:00"
         },
         {
          "num_sales": 31697,
          "num_unique_customers": 10349,
          "revenue": 1051.1994915254222,
          "t_dat": "2019-10-21T00:00:00"
         },
         {
          "num_sales": 35293,
          "num_unique_customers": 11858,
          "revenue": 1148.1024745762695,
          "t_dat": "2019-10-22T00:00:00"
         },
         {
          "num_sales": 37008,
          "num_unique_customers": 12452,
          "revenue": 1216.9202711864389,
          "t_dat": "2019-10-23T00:00:00"
         },
         {
          "num_sales": 37675,
          "num_unique_customers": 13158,
          "revenue": 1221.2819661016931,
          "t_dat": "2019-10-24T00:00:00"
         },
         {
          "num_sales": 37261,
          "num_unique_customers": 13462,
          "revenue": 1204.8221016949135,
          "t_dat": "2019-10-25T00:00:00"
         },
         {
          "num_sales": 34845,
          "num_unique_customers": 12379,
          "revenue": 1119.1237457627103,
          "t_dat": "2019-10-26T00:00:00"
         },
         {
          "num_sales": 33399,
          "num_unique_customers": 10457,
          "revenue": 1122.22261016949,
          "t_dat": "2019-10-27T00:00:00"
         },
         {
          "num_sales": 29691,
          "num_unique_customers": 9556,
          "revenue": 1040.8022711864392,
          "t_dat": "2019-10-28T00:00:00"
         },
         {
          "num_sales": 30235,
          "num_unique_customers": 9912,
          "revenue": 1052.175796610168,
          "t_dat": "2019-10-29T00:00:00"
         },
         {
          "num_sales": 34411,
          "num_unique_customers": 11200,
          "revenue": 1191.619491525422,
          "t_dat": "2019-10-30T00:00:00"
         },
         {
          "num_sales": 33133,
          "num_unique_customers": 11219,
          "revenue": 1146.291864406778,
          "t_dat": "2019-10-31T00:00:00"
         },
         {
          "num_sales": 32518,
          "num_unique_customers": 11380,
          "revenue": 1118.763237288134,
          "t_dat": "2019-11-01T00:00:00"
         },
         {
          "num_sales": 35299,
          "num_unique_customers": 12569,
          "revenue": 1208.7732033898287,
          "t_dat": "2019-11-02T00:00:00"
         },
         {
          "num_sales": 84406,
          "num_unique_customers": 20415,
          "revenue": 2738.4624576271144,
          "t_dat": "2019-11-03T00:00:00"
         },
         {
          "num_sales": 28038,
          "num_unique_customers": 8981,
          "revenue": 974.1735932203376,
          "t_dat": "2019-11-04T00:00:00"
         },
         {
          "num_sales": 28336,
          "num_unique_customers": 9462,
          "revenue": 987.2824745762698,
          "t_dat": "2019-11-05T00:00:00"
         },
         {
          "num_sales": 29694,
          "num_unique_customers": 10382,
          "revenue": 1009.4259661016935,
          "t_dat": "2019-11-06T00:00:00"
         },
         {
          "num_sales": 28221,
          "num_unique_customers": 9865,
          "revenue": 965.6569322033885,
          "t_dat": "2019-11-07T00:00:00"
         },
         {
          "num_sales": 30760,
          "num_unique_customers": 11392,
          "revenue": 1036.3715084745747,
          "t_dat": "2019-11-08T00:00:00"
         },
         {
          "num_sales": 31131,
          "num_unique_customers": 11451,
          "revenue": 1039.170983050846,
          "t_dat": "2019-11-09T00:00:00"
         },
         {
          "num_sales": 25462,
          "num_unique_customers": 8305,
          "revenue": 888.7046271186429,
          "t_dat": "2019-11-10T00:00:00"
         },
         {
          "num_sales": 41049,
          "num_unique_customers": 12479,
          "revenue": 1412.9390169491505,
          "t_dat": "2019-11-11T00:00:00"
         },
         {
          "num_sales": 25201,
          "num_unique_customers": 8713,
          "revenue": 897.3929152542361,
          "t_dat": "2019-11-12T00:00:00"
         },
         {
          "num_sales": 27669,
          "num_unique_customers": 9442,
          "revenue": 957.5164406779647,
          "t_dat": "2019-11-13T00:00:00"
         },
         {
          "num_sales": 28256,
          "num_unique_customers": 10171,
          "revenue": 985.5495762711851,
          "t_dat": "2019-11-14T00:00:00"
         },
         {
          "num_sales": 28366,
          "num_unique_customers": 10646,
          "revenue": 968.8953050847443,
          "t_dat": "2019-11-15T00:00:00"
         },
         {
          "num_sales": 31297,
          "num_unique_customers": 11765,
          "revenue": 1058.694644067795,
          "t_dat": "2019-11-16T00:00:00"
         },
         {
          "num_sales": 25967,
          "num_unique_customers": 8401,
          "revenue": 921.0244576271174,
          "t_dat": "2019-11-17T00:00:00"
         },
         {
          "num_sales": 23989,
          "num_unique_customers": 7955,
          "revenue": 867.4640338983039,
          "t_dat": "2019-11-18T00:00:00"
         },
         {
          "num_sales": 25831,
          "num_unique_customers": 8728,
          "revenue": 913.2263389830496,
          "t_dat": "2019-11-19T00:00:00"
         },
         {
          "num_sales": 29013,
          "num_unique_customers": 10265,
          "revenue": 1009.168355932202,
          "t_dat": "2019-11-20T00:00:00"
         },
         {
          "num_sales": 28532,
          "num_unique_customers": 10474,
          "revenue": 985.61254237288,
          "t_dat": "2019-11-21T00:00:00"
         },
         {
          "num_sales": 30161,
          "num_unique_customers": 11350,
          "revenue": 1007.4625084745747,
          "t_dat": "2019-11-22T00:00:00"
         },
         {
          "num_sales": 31419,
          "num_unique_customers": 11825,
          "revenue": 1019.1101525423713,
          "t_dat": "2019-11-23T00:00:00"
         },
         {
          "num_sales": 25957,
          "num_unique_customers": 8939,
          "revenue": 868.946728813558,
          "t_dat": "2019-11-24T00:00:00"
         },
         {
          "num_sales": 38160,
          "num_unique_customers": 12595,
          "revenue": 1199.4700169491507,
          "t_dat": "2019-11-25T00:00:00"
         },
         {
          "num_sales": 37160,
          "num_unique_customers": 12499,
          "revenue": 1174.0162372881337,
          "t_dat": "2019-11-26T00:00:00"
         },
         {
          "num_sales": 33628,
          "num_unique_customers": 12361,
          "revenue": 1245.9616271186424,
          "t_dat": "2019-11-27T00:00:00"
         },
         {
          "num_sales": 106257,
          "num_unique_customers": 28428,
          "revenue": 3103.027932203385,
          "t_dat": "2019-11-28T00:00:00"
         },
         {
          "num_sales": 160875,
          "num_unique_customers": 47643,
          "revenue": 4444.3423898305,
          "t_dat": "2019-11-29T00:00:00"
         },
         {
          "num_sales": 65381,
          "num_unique_customers": 20796,
          "revenue": 1847.813796610166,
          "t_dat": "2019-11-30T00:00:00"
         },
         {
          "num_sales": 68468,
          "num_unique_customers": 19270,
          "revenue": 1806.6985762711834,
          "t_dat": "2019-12-01T00:00:00"
         },
         {
          "num_sales": 60843,
          "num_unique_customers": 18013,
          "revenue": 1626.0400508474547,
          "t_dat": "2019-12-02T00:00:00"
         },
         {
          "num_sales": 22951,
          "num_unique_customers": 8785,
          "revenue": 768.7769152542361,
          "t_dat": "2019-12-03T00:00:00"
         },
         {
          "num_sales": 25105,
          "num_unique_customers": 9615,
          "revenue": 855.7742542372869,
          "t_dat": "2019-12-04T00:00:00"
         },
         {
          "num_sales": 22457,
          "num_unique_customers": 8909,
          "revenue": 758.9953559322023,
          "t_dat": "2019-12-05T00:00:00"
         },
         {
          "num_sales": 24432,
          "num_unique_customers": 9602,
          "revenue": 789.9276440677954,
          "t_dat": "2019-12-06T00:00:00"
         },
         {
          "num_sales": 28188,
          "num_unique_customers": 11094,
          "revenue": 897.8043220338969,
          "t_dat": "2019-12-07T00:00:00"
         },
         {
          "num_sales": 23345,
          "num_unique_customers": 8224,
          "revenue": 793.053881355931,
          "t_dat": "2019-12-08T00:00:00"
         },
         {
          "num_sales": 24980,
          "num_unique_customers": 9070,
          "revenue": 849.9100169491514,
          "t_dat": "2019-12-09T00:00:00"
         },
         {
          "num_sales": 28309,
          "num_unique_customers": 10276,
          "revenue": 940.922915254236,
          "t_dat": "2019-12-10T00:00:00"
         },
         {
          "num_sales": 31451,
          "num_unique_customers": 11561,
          "revenue": 1025.8241186440664,
          "t_dat": "2019-12-11T00:00:00"
         },
         {
          "num_sales": 31493,
          "num_unique_customers": 12253,
          "revenue": 1006.9618305084732,
          "t_dat": "2019-12-12T00:00:00"
         },
         {
          "num_sales": 28924,
          "num_unique_customers": 11141,
          "revenue": 925.9741355932191,
          "t_dat": "2019-12-13T00:00:00"
         },
         {
          "num_sales": 32329,
          "num_unique_customers": 12459,
          "revenue": 987.6616440677952,
          "t_dat": "2019-12-14T00:00:00"
         },
         {
          "num_sales": 28747,
          "num_unique_customers": 10032,
          "revenue": 915.2002372881343,
          "t_dat": "2019-12-15T00:00:00"
         },
         {
          "num_sales": 30041,
          "num_unique_customers": 10706,
          "revenue": 922.2252711864394,
          "t_dat": "2019-12-16T00:00:00"
         },
         {
          "num_sales": 33931,
          "num_unique_customers": 12239,
          "revenue": 968.299983050846,
          "t_dat": "2019-12-17T00:00:00"
         },
         {
          "num_sales": 66070,
          "num_unique_customers": 19751,
          "revenue": 1684.5459830508444,
          "t_dat": "2019-12-18T00:00:00"
         },
         {
          "num_sales": 53330,
          "num_unique_customers": 17140,
          "revenue": 1326.879915254235,
          "t_dat": "2019-12-19T00:00:00"
         },
         {
          "num_sales": 52454,
          "num_unique_customers": 17960,
          "revenue": 1242.2328305084723,
          "t_dat": "2019-12-20T00:00:00"
         },
         {
          "num_sales": 56187,
          "num_unique_customers": 19024,
          "revenue": 1362.9191186440653,
          "t_dat": "2019-12-21T00:00:00"
         },
         {
          "num_sales": 46731,
          "num_unique_customers": 14770,
          "revenue": 1158.312474576269,
          "t_dat": "2019-12-22T00:00:00"
         },
         {
          "num_sales": 51240,
          "num_unique_customers": 17140,
          "revenue": 1208.1923050847433,
          "t_dat": "2019-12-23T00:00:00"
         },
         {
          "num_sales": 37927,
          "num_unique_customers": 13149,
          "revenue": 907.8097796610151,
          "t_dat": "2019-12-24T00:00:00"
         },
         {
          "num_sales": 13637,
          "num_unique_customers": 3854,
          "revenue": 408.18927118644,
          "t_dat": "2019-12-25T00:00:00"
         },
         {
          "num_sales": 20328,
          "num_unique_customers": 6088,
          "revenue": 553.3544576271177,
          "t_dat": "2019-12-26T00:00:00"
         },
         {
          "num_sales": 40678,
          "num_unique_customers": 13916,
          "revenue": 1059.405847457625,
          "t_dat": "2019-12-27T00:00:00"
         },
         {
          "num_sales": 39513,
          "num_unique_customers": 13324,
          "revenue": 1039.74081355932,
          "t_dat": "2019-12-28T00:00:00"
         },
         {
          "num_sales": 34918,
          "num_unique_customers": 10859,
          "revenue": 943.241898305083,
          "t_dat": "2019-12-29T00:00:00"
         },
         {
          "num_sales": 34915,
          "num_unique_customers": 12297,
          "revenue": 908.9407288135576,
          "t_dat": "2019-12-30T00:00:00"
         },
         {
          "num_sales": 24393,
          "num_unique_customers": 8882,
          "revenue": 623.775881355931,
          "t_dat": "2019-12-31T00:00:00"
         },
         {
          "num_sales": 12760,
          "num_unique_customers": 3484,
          "revenue": 384.8911355932197,
          "t_dat": "2020-01-01T00:00:00"
         },
         {
          "num_sales": 44864,
          "num_unique_customers": 13836,
          "revenue": 1161.7539491525401,
          "t_dat": "2020-01-02T00:00:00"
         },
         {
          "num_sales": 46190,
          "num_unique_customers": 13940,
          "revenue": 1151.6487457627095,
          "t_dat": "2020-01-03T00:00:00"
         },
         {
          "num_sales": 44507,
          "num_unique_customers": 13519,
          "revenue": 1123.3146779660995,
          "t_dat": "2020-01-04T00:00:00"
         },
         {
          "num_sales": 34813,
          "num_unique_customers": 9696,
          "revenue": 909.635271186439,
          "t_dat": "2020-01-05T00:00:00"
         },
         {
          "num_sales": 29430,
          "num_unique_customers": 9047,
          "revenue": 793.7943220338968,
          "t_dat": "2020-01-06T00:00:00"
         },
         {
          "num_sales": 29251,
          "num_unique_customers": 9077,
          "revenue": 794.4936949152528,
          "t_dat": "2020-01-07T00:00:00"
         },
         {
          "num_sales": 38700,
          "num_unique_customers": 11281,
          "revenue": 991.6767966101676,
          "t_dat": "2020-01-08T00:00:00"
         },
         {
          "num_sales": 36746,
          "num_unique_customers": 10879,
          "revenue": 940.1402033898287,
          "t_dat": "2020-01-09T00:00:00"
         },
         {
          "num_sales": 34590,
          "num_unique_customers": 10725,
          "revenue": 892.5211525423712,
          "t_dat": "2020-01-10T00:00:00"
         },
         {
          "num_sales": 36101,
          "num_unique_customers": 11691,
          "revenue": 927.8257966101677,
          "t_dat": "2020-01-11T00:00:00"
         },
         {
          "num_sales": 34899,
          "num_unique_customers": 9322,
          "revenue": 941.895898305083,
          "t_dat": "2020-01-12T00:00:00"
         },
         {
          "num_sales": 31333,
          "num_unique_customers": 8885,
          "revenue": 837.942203389829,
          "t_dat": "2020-01-13T00:00:00"
         },
         {
          "num_sales": 32103,
          "num_unique_customers": 9090,
          "revenue": 859.7936610169477,
          "t_dat": "2020-01-14T00:00:00"
         },
         {
          "num_sales": 32972,
          "num_unique_customers": 9413,
          "revenue": 876.0490338983035,
          "t_dat": "2020-01-15T00:00:00"
         },
         {
          "num_sales": 33827,
          "num_unique_customers": 10452,
          "revenue": 894.1049999999984,
          "t_dat": "2020-01-16T00:00:00"
         },
         {
          "num_sales": 31236,
          "num_unique_customers": 9893,
          "revenue": 818.4341694915239,
          "t_dat": "2020-01-17T00:00:00"
         },
         {
          "num_sales": 34025,
          "num_unique_customers": 10897,
          "revenue": 883.1991694915238,
          "t_dat": "2020-01-18T00:00:00"
         },
         {
          "num_sales": 29787,
          "num_unique_customers": 7978,
          "revenue": 801.7902033898291,
          "t_dat": "2020-01-19T00:00:00"
         },
         {
          "num_sales": 29107,
          "num_unique_customers": 8659,
          "revenue": 779.988694915253,
          "t_dat": "2020-01-20T00:00:00"
         },
         {
          "num_sales": 25632,
          "num_unique_customers": 8025,
          "revenue": 693.6894237288124,
          "t_dat": "2020-01-21T00:00:00"
         },
         {
          "num_sales": 34075,
          "num_unique_customers": 10148,
          "revenue": 927.8641186440663,
          "t_dat": "2020-01-22T00:00:00"
         },
         {
          "num_sales": 36257,
          "num_unique_customers": 11402,
          "revenue": 981.1125932203373,
          "t_dat": "2020-01-23T00:00:00"
         },
         {
          "num_sales": 38920,
          "num_unique_customers": 12672,
          "revenue": 1047.5912033898287,
          "t_dat": "2020-01-24T00:00:00"
         },
         {
          "num_sales": 43377,
          "num_unique_customers": 13961,
          "revenue": 1155.7170508474555,
          "t_dat": "2020-01-25T00:00:00"
         },
         {
          "num_sales": 43586,
          "num_unique_customers": 12660,
          "revenue": 1261.9679661016928,
          "t_dat": "2020-01-26T00:00:00"
         },
         {
          "num_sales": 35427,
          "num_unique_customers": 10445,
          "revenue": 1003.5246610169474,
          "t_dat": "2020-01-27T00:00:00"
         },
         {
          "num_sales": 33689,
          "num_unique_customers": 10271,
          "revenue": 941.5572542372867,
          "t_dat": "2020-01-28T00:00:00"
         },
         {
          "num_sales": 36833,
          "num_unique_customers": 11449,
          "revenue": 1035.102457627117,
          "t_dat": "2020-01-29T00:00:00"
         },
         {
          "num_sales": 36058,
          "num_unique_customers": 12031,
          "revenue": 1000.2999322033882,
          "t_dat": "2020-01-30T00:00:00"
         },
         {
          "num_sales": 35259,
          "num_unique_customers": 11914,
          "revenue": 980.263050847456,
          "t_dat": "2020-01-31T00:00:00"
         },
         {
          "num_sales": 38017,
          "num_unique_customers": 12590,
          "revenue": 1046.330525423727,
          "t_dat": "2020-02-01T00:00:00"
         },
         {
          "num_sales": 31387,
          "num_unique_customers": 8831,
          "revenue": 911.4704237288122,
          "t_dat": "2020-02-02T00:00:00"
         },
         {
          "num_sales": 31845,
          "num_unique_customers": 9727,
          "revenue": 913.9196440677952,
          "t_dat": "2020-02-03T00:00:00"
         },
         {
          "num_sales": 30914,
          "num_unique_customers": 9541,
          "revenue": 888.818508474575,
          "t_dat": "2020-02-04T00:00:00"
         },
         {
          "num_sales": 36030,
          "num_unique_customers": 11511,
          "revenue": 1031.7167627118629,
          "t_dat": "2020-02-05T00:00:00"
         },
         {
          "num_sales": 41058,
          "num_unique_customers": 12929,
          "revenue": 1139.3065084745745,
          "t_dat": "2020-02-06T00:00:00"
         },
         {
          "num_sales": 38144,
          "num_unique_customers": 12753,
          "revenue": 1041.4222203389813,
          "t_dat": "2020-02-07T00:00:00"
         },
         {
          "num_sales": 39288,
          "num_unique_customers": 12882,
          "revenue": 1075.7725084745746,
          "t_dat": "2020-02-08T00:00:00"
         },
         {
          "num_sales": 33788,
          "num_unique_customers": 8975,
          "revenue": 984.3282203389816,
          "t_dat": "2020-02-09T00:00:00"
         },
         {
          "num_sales": 30260,
          "num_unique_customers": 9231,
          "revenue": 860.6827457627105,
          "t_dat": "2020-02-10T00:00:00"
         },
         {
          "num_sales": 31588,
          "num_unique_customers": 9920,
          "revenue": 907.1728474576257,
          "t_dat": "2020-02-11T00:00:00"
         },
         {
          "num_sales": 29543,
          "num_unique_customers": 9822,
          "revenue": 844.824881355931,
          "t_dat": "2020-02-12T00:00:00"
         },
         {
          "num_sales": 35157,
          "num_unique_customers": 11121,
          "revenue": 1030.278644067795,
          "t_dat": "2020-02-13T00:00:00"
         },
         {
          "num_sales": 32158,
          "num_unique_customers": 10962,
          "revenue": 900.8352372881342,
          "t_dat": "2020-02-14T00:00:00"
         },
         {
          "num_sales": 37570,
          "num_unique_customers": 12605,
          "revenue": 1041.9955423728798,
          "t_dat": "2020-02-15T00:00:00"
         },
         {
          "num_sales": 32814,
          "num_unique_customers": 9009,
          "revenue": 960.8380847457613,
          "t_dat": "2020-02-16T00:00:00"
         },
         {
          "num_sales": 32415,
          "num_unique_customers": 9728,
          "revenue": 927.0687457627104,
          "t_dat": "2020-02-17T00:00:00"
         },
         {
          "num_sales": 33069,
          "num_unique_customers": 10508,
          "revenue": 940.213796610168,
          "t_dat": "2020-02-18T00:00:00"
         },
         {
          "num_sales": 26943,
          "num_unique_customers": 9048,
          "revenue": 748.2798983050835,
          "t_dat": "2020-02-19T00:00:00"
         },
         {
          "num_sales": 39201,
          "num_unique_customers": 12713,
          "revenue": 1219.9056101694896,
          "t_dat": "2020-02-20T00:00:00"
         },
         {
          "num_sales": 34720,
          "num_unique_customers": 11639,
          "revenue": 968.8737796610153,
          "t_dat": "2020-02-21T00:00:00"
         },
         {
          "num_sales": 34562,
          "num_unique_customers": 10991,
          "revenue": 981.6192203389814,
          "t_dat": "2020-02-22T00:00:00"
         },
         {
          "num_sales": 29957,
          "num_unique_customers": 7984,
          "revenue": 888.319796610168,
          "t_dat": "2020-02-23T00:00:00"
         },
         {
          "num_sales": 30865,
          "num_unique_customers": 8982,
          "revenue": 923.7790677966087,
          "t_dat": "2020-02-24T00:00:00"
         },
         {
          "num_sales": 35114,
          "num_unique_customers": 10862,
          "revenue": 1026.1117118644052,
          "t_dat": "2020-02-25T00:00:00"
         },
         {
          "num_sales": 38859,
          "num_unique_customers": 12119,
          "revenue": 1157.7318305084727,
          "t_dat": "2020-02-26T00:00:00"
         },
         {
          "num_sales": 41095,
          "num_unique_customers": 12889,
          "revenue": 1235.899593220337,
          "t_dat": "2020-02-27T00:00:00"
         },
         {
          "num_sales": 35822,
          "num_unique_customers": 11855,
          "revenue": 1038.640423728812,
          "t_dat": "2020-02-28T00:00:00"
         },
         {
          "num_sales": 39676,
          "num_unique_customers": 13084,
          "revenue": 1156.7200338983032,
          "t_dat": "2020-02-29T00:00:00"
         },
         {
          "num_sales": 37082,
          "num_unique_customers": 10433,
          "revenue": 1129.321050847456,
          "t_dat": "2020-03-01T00:00:00"
         },
         {
          "num_sales": 30941,
          "num_unique_customers": 9183,
          "revenue": 934.817135593219,
          "t_dat": "2020-03-02T00:00:00"
         },
         {
          "num_sales": 36802,
          "num_unique_customers": 10905,
          "revenue": 1095.026050847456,
          "t_dat": "2020-03-03T00:00:00"
         },
         {
          "num_sales": 56629,
          "num_unique_customers": 15208,
          "revenue": 1562.9251525423701,
          "t_dat": "2020-03-04T00:00:00"
         },
         {
          "num_sales": 46043,
          "num_unique_customers": 13067,
          "revenue": 1262.9607457627096,
          "t_dat": "2020-03-05T00:00:00"
         },
         {
          "num_sales": 40139,
          "num_unique_customers": 12427,
          "revenue": 1108.457525423727,
          "t_dat": "2020-03-06T00:00:00"
         },
         {
          "num_sales": 44794,
          "num_unique_customers": 14047,
          "revenue": 1248.627033898303,
          "t_dat": "2020-03-07T00:00:00"
         },
         {
          "num_sales": 39775,
          "num_unique_customers": 10420,
          "revenue": 1129.814152542371,
          "t_dat": "2020-03-08T00:00:00"
         },
         {
          "num_sales": 37516,
          "num_unique_customers": 10131,
          "revenue": 1061.8138305084728,
          "t_dat": "2020-03-09T00:00:00"
         },
         {
          "num_sales": 34895,
          "num_unique_customers": 9728,
          "revenue": 1004.773644067795,
          "t_dat": "2020-03-10T00:00:00"
         },
         {
          "num_sales": 41503,
          "num_unique_customers": 12168,
          "revenue": 1186.646779661015,
          "t_dat": "2020-03-11T00:00:00"
         },
         {
          "num_sales": 32748,
          "num_unique_customers": 10174,
          "revenue": 941.31561016949,
          "t_dat": "2020-03-12T00:00:00"
         },
         {
          "num_sales": 29159,
          "num_unique_customers": 9051,
          "revenue": 836.1156101694902,
          "t_dat": "2020-03-13T00:00:00"
         },
         {
          "num_sales": 33680,
          "num_unique_customers": 10691,
          "revenue": 963.3604067796595,
          "t_dat": "2020-03-14T00:00:00"
         },
         {
          "num_sales": 25601,
          "num_unique_customers": 6617,
          "revenue": 716.5800847457615,
          "t_dat": "2020-03-15T00:00:00"
         },
         {
          "num_sales": 19385,
          "num_unique_customers": 5613,
          "revenue": 565.9536271186431,
          "t_dat": "2020-03-16T00:00:00"
         },
         {
          "num_sales": 23792,
          "num_unique_customers": 7201,
          "revenue": 706.3706440677954,
          "t_dat": "2020-03-17T00:00:00"
         },
         {
          "num_sales": 27091,
          "num_unique_customers": 8067,
          "revenue": 803.3477627118631,
          "t_dat": "2020-03-18T00:00:00"
         },
         {
          "num_sales": 24810,
          "num_unique_customers": 7159,
          "revenue": 741.6106779661005,
          "t_dat": "2020-03-19T00:00:00"
         },
         {
          "num_sales": 25830,
          "num_unique_customers": 7229,
          "revenue": 765.0278644067783,
          "t_dat": "2020-03-20T00:00:00"
         },
         {
          "num_sales": 27792,
          "num_unique_customers": 7345,
          "revenue": 798.45754237288,
          "t_dat": "2020-03-21T00:00:00"
         },
         {
          "num_sales": 34956,
          "num_unique_customers": 9248,
          "revenue": 990.2839661016932,
          "t_dat": "2020-03-22T00:00:00"
         },
         {
          "num_sales": 25907,
          "num_unique_customers": 6638,
          "revenue": 744.8288644067784,
          "t_dat": "2020-03-23T00:00:00"
         },
         {
          "num_sales": 32432,
          "num_unique_customers": 8194,
          "revenue": 923.3997627118629,
          "t_dat": "2020-03-24T00:00:00"
         },
         {
          "num_sales": 34904,
          "num_unique_customers": 8748,
          "revenue": 1004.0425423728797,
          "t_dat": "2020-03-25T00:00:00"
         },
         {
          "num_sales": 35264,
          "num_unique_customers": 9019,
          "revenue": 1087.2209322033882,
          "t_dat": "2020-03-26T00:00:00"
         },
         {
          "num_sales": 31779,
          "num_unique_customers": 7992,
          "revenue": 953.6560169491511,
          "t_dat": "2020-03-27T00:00:00"
         },
         {
          "num_sales": 31114,
          "num_unique_customers": 7662,
          "revenue": 917.7002711864392,
          "t_dat": "2020-03-28T00:00:00"
         },
         {
          "num_sales": 34443,
          "num_unique_customers": 7892,
          "revenue": 1008.5635084745746,
          "t_dat": "2020-03-29T00:00:00"
         },
         {
          "num_sales": 36648,
          "num_unique_customers": 9213,
          "revenue": 1067.1376949152525,
          "t_dat": "2020-03-30T00:00:00"
         },
         {
          "num_sales": 34298,
          "num_unique_customers": 8614,
          "revenue": 1014.0481694915238,
          "t_dat": "2020-03-31T00:00:00"
         },
         {
          "num_sales": 39518,
          "num_unique_customers": 10010,
          "revenue": 1142.6307288135574,
          "t_dat": "2020-04-01T00:00:00"
         },
         {
          "num_sales": 39040,
          "num_unique_customers": 9966,
          "revenue": 1155.1111355932185,
          "t_dat": "2020-04-02T00:00:00"
         },
         {
          "num_sales": 55966,
          "num_unique_customers": 12203,
          "revenue": 1576.8348135593192,
          "t_dat": "2020-04-03T00:00:00"
         },
         {
          "num_sales": 80500,
          "num_unique_customers": 16443,
          "revenue": 2104.113186440674,
          "t_dat": "2020-04-04T00:00:00"
         },
         {
          "num_sales": 36027,
          "num_unique_customers": 8245,
          "revenue": 1042.2498135593203,
          "t_dat": "2020-04-05T00:00:00"
         },
         {
          "num_sales": 41962,
          "num_unique_customers": 10098,
          "revenue": 1226.3557118644048,
          "t_dat": "2020-04-06T00:00:00"
         },
         {
          "num_sales": 44270,
          "num_unique_customers": 10280,
          "revenue": 1278.2241525423708,
          "t_dat": "2020-04-07T00:00:00"
         },
         {
          "num_sales": 52965,
          "num_unique_customers": 12183,
          "revenue": 1519.2174067796584,
          "t_dat": "2020-04-08T00:00:00"
         },
         {
          "num_sales": 50991,
          "num_unique_customers": 11716,
          "revenue": 1465.6001186440653,
          "t_dat": "2020-04-09T00:00:00"
         },
         {
          "num_sales": 41889,
          "num_unique_customers": 9397,
          "revenue": 1222.231559322032,
          "t_dat": "2020-04-10T00:00:00"
         },
         {
          "num_sales": 162799,
          "num_unique_customers": 28510,
          "revenue": 3961.9877627118553,
          "t_dat": "2020-04-11T00:00:00"
         },
         {
          "num_sales": 31418,
          "num_unique_customers": 6839,
          "revenue": 915.6819322033883,
          "t_dat": "2020-04-12T00:00:00"
         },
         {
          "num_sales": 32744,
          "num_unique_customers": 7035,
          "revenue": 978.4312881355917,
          "t_dat": "2020-04-13T00:00:00"
         },
         {
          "num_sales": 29072,
          "num_unique_customers": 6972,
          "revenue": 869.6631186440665,
          "t_dat": "2020-04-14T00:00:00"
         },
         {
          "num_sales": 33366,
          "num_unique_customers": 8382,
          "revenue": 1002.8206101694899,
          "t_dat": "2020-04-15T00:00:00"
         },
         {
          "num_sales": 34359,
          "num_unique_customers": 8597,
          "revenue": 1030.1811016949137,
          "t_dat": "2020-04-16T00:00:00"
         },
         {
          "num_sales": 32475,
          "num_unique_customers": 8000,
          "revenue": 971.150203389829,
          "t_dat": "2020-04-17T00:00:00"
         },
         {
          "num_sales": 32065,
          "num_unique_customers": 7787,
          "revenue": 967.8233559322018,
          "t_dat": "2020-04-18T00:00:00"
         },
         {
          "num_sales": 29562,
          "num_unique_customers": 6804,
          "revenue": 879.9908813559308,
          "t_dat": "2020-04-19T00:00:00"
         },
         {
          "num_sales": 36744,
          "num_unique_customers": 8907,
          "revenue": 1068.935118644066,
          "t_dat": "2020-04-20T00:00:00"
         },
         {
          "num_sales": 30862,
          "num_unique_customers": 7589,
          "revenue": 916.9764745762698,
          "t_dat": "2020-04-21T00:00:00"
         },
         {
          "num_sales": 37893,
          "num_unique_customers": 9398,
          "revenue": 1129.318305084744,
          "t_dat": "2020-04-22T00:00:00"
         },
         {
          "num_sales": 44438,
          "num_unique_customers": 11086,
          "revenue": 1316.8854237288115,
          "t_dat": "2020-04-23T00:00:00"
         },
         {
          "num_sales": 41437,
          "num_unique_customers": 10175,
          "revenue": 1218.3786440677945,
          "t_dat": "2020-04-24T00:00:00"
         },
         {
          "num_sales": 51396,
          "num_unique_customers": 11799,
          "revenue": 1361.939271186438,
          "t_dat": "2020-04-25T00:00:00"
         },
         {
          "num_sales": 59238,
          "num_unique_customers": 12927,
          "revenue": 1522.5410847457595,
          "t_dat": "2020-04-26T00:00:00"
         },
         {
          "num_sales": 27850,
          "num_unique_customers": 6674,
          "revenue": 789.3087627118632,
          "t_dat": "2020-04-27T00:00:00"
         },
         {
          "num_sales": 35644,
          "num_unique_customers": 9277,
          "revenue": 1026.5647457627103,
          "t_dat": "2020-04-28T00:00:00"
         },
         {
          "num_sales": 36390,
          "num_unique_customers": 9627,
          "revenue": 1052.836355932202,
          "t_dat": "2020-04-29T00:00:00"
         },
         {
          "num_sales": 38002,
          "num_unique_customers": 10114,
          "revenue": 1094.5025932203375,
          "t_dat": "2020-04-30T00:00:00"
         },
         {
          "num_sales": 32182,
          "num_unique_customers": 8277,
          "revenue": 940.824135593219,
          "t_dat": "2020-05-01T00:00:00"
         },
         {
          "num_sales": 27822,
          "num_unique_customers": 7041,
          "revenue": 815.8016779661006,
          "t_dat": "2020-05-02T00:00:00"
         },
         {
          "num_sales": 25087,
          "num_unique_customers": 6068,
          "revenue": 735.3857457627108,
          "t_dat": "2020-05-03T00:00:00"
         },
         {
          "num_sales": 28126,
          "num_unique_customers": 7372,
          "revenue": 818.7111525423717,
          "t_dat": "2020-05-04T00:00:00"
         },
         {
          "num_sales": 25874,
          "num_unique_customers": 6448,
          "revenue": 752.2998135593209,
          "t_dat": "2020-05-05T00:00:00"
         },
         {
          "num_sales": 34129,
          "num_unique_customers": 9701,
          "revenue": 955.3670847457612,
          "t_dat": "2020-05-06T00:00:00"
         },
         {
          "num_sales": 37864,
          "num_unique_customers": 10477,
          "revenue": 1061.7915423728798,
          "t_dat": "2020-05-07T00:00:00"
         },
         {
          "num_sales": 43071,
          "num_unique_customers": 11780,
          "revenue": 1170.8911694915237,
          "t_dat": "2020-05-08T00:00:00"
         },
         {
          "num_sales": 43018,
          "num_unique_customers": 12075,
          "revenue": 1162.6160508474559,
          "t_dat": "2020-05-09T00:00:00"
         },
         {
          "num_sales": 26039,
          "num_unique_customers": 6242,
          "revenue": 770.1803728813549,
          "t_dat": "2020-05-10T00:00:00"
         },
         {
          "num_sales": 37795,
          "num_unique_customers": 10358,
          "revenue": 1058.534491525422,
          "t_dat": "2020-05-11T00:00:00"
         },
         {
          "num_sales": 37670,
          "num_unique_customers": 10302,
          "revenue": 1048.2912372881337,
          "t_dat": "2020-05-12T00:00:00"
         },
         {
          "num_sales": 41121,
          "num_unique_customers": 11289,
          "revenue": 1140.7255423728793,
          "t_dat": "2020-05-13T00:00:00"
         },
         {
          "num_sales": 45407,
          "num_unique_customers": 12435,
          "revenue": 1259.9599322033878,
          "t_dat": "2020-05-14T00:00:00"
         },
         {
          "num_sales": 42451,
          "num_unique_customers": 12077,
          "revenue": 1152.4351694915235,
          "t_dat": "2020-05-15T00:00:00"
         },
         {
          "num_sales": 41721,
          "num_unique_customers": 11618,
          "revenue": 1116.5138983050829,
          "t_dat": "2020-05-16T00:00:00"
         },
         {
          "num_sales": 34390,
          "num_unique_customers": 8454,
          "revenue": 950.6213220338967,
          "t_dat": "2020-05-17T00:00:00"
         },
         {
          "num_sales": 44982,
          "num_unique_customers": 11863,
          "revenue": 1226.4624915254217,
          "t_dat": "2020-05-18T00:00:00"
         },
         {
          "num_sales": 49952,
          "num_unique_customers": 13182,
          "revenue": 1331.3666271186419,
          "t_dat": "2020-05-19T00:00:00"
         },
         {
          "num_sales": 58890,
          "num_unique_customers": 15750,
          "revenue": 1543.6521016949125,
          "t_dat": "2020-05-20T00:00:00"
         },
         {
          "num_sales": 48272,
          "num_unique_customers": 11593,
          "revenue": 1290.650694915252,
          "t_dat": "2020-05-21T00:00:00"
         },
         {
          "num_sales": 67789,
          "num_unique_customers": 17295,
          "revenue": 1737.1373559322003,
          "t_dat": "2020-05-22T00:00:00"
         },
         {
          "num_sales": 62966,
          "num_unique_customers": 16567,
          "revenue": 1629.9805762711835,
          "t_dat": "2020-05-23T00:00:00"
         },
         {
          "num_sales": 41785,
          "num_unique_customers": 10407,
          "revenue": 1184.2836949152522,
          "t_dat": "2020-05-24T00:00:00"
         },
         {
          "num_sales": 51475,
          "num_unique_customers": 13906,
          "revenue": 1381.3000169491502,
          "t_dat": "2020-05-25T00:00:00"
         },
         {
          "num_sales": 56595,
          "num_unique_customers": 15194,
          "revenue": 1523.1479322033872,
          "t_dat": "2020-05-26T00:00:00"
         },
         {
          "num_sales": 62439,
          "num_unique_customers": 17109,
          "revenue": 1665.7546610169463,
          "t_dat": "2020-05-27T00:00:00"
         },
         {
          "num_sales": 60745,
          "num_unique_customers": 16991,
          "revenue": 1644.9591864406752,
          "t_dat": "2020-05-28T00:00:00"
         },
         {
          "num_sales": 59463,
          "num_unique_customers": 16473,
          "revenue": 1563.8377288135566,
          "t_dat": "2020-05-29T00:00:00"
         },
         {
          "num_sales": 60861,
          "num_unique_customers": 16758,
          "revenue": 1564.1618135593192,
          "t_dat": "2020-05-30T00:00:00"
         },
         {
          "num_sales": 31834,
          "num_unique_customers": 7639,
          "revenue": 948.0491525423714,
          "t_dat": "2020-05-31T00:00:00"
         },
         {
          "num_sales": 43084,
          "num_unique_customers": 11218,
          "revenue": 1232.2898305084725,
          "t_dat": "2020-06-01T00:00:00"
         },
         {
          "num_sales": 44666,
          "num_unique_customers": 12366,
          "revenue": 1198.8877118644048,
          "t_dat": "2020-06-02T00:00:00"
         },
         {
          "num_sales": 53187,
          "num_unique_customers": 14747,
          "revenue": 1420.1546949152516,
          "t_dat": "2020-06-03T00:00:00"
         },
         {
          "num_sales": 50470,
          "num_unique_customers": 14438,
          "revenue": 1386.138203389828,
          "t_dat": "2020-06-04T00:00:00"
         },
         {
          "num_sales": 44470,
          "num_unique_customers": 13068,
          "revenue": 1179.4080169491506,
          "t_dat": "2020-06-05T00:00:00"
         },
         {
          "num_sales": 48649,
          "num_unique_customers": 14181,
          "revenue": 1239.7503728813535,
          "t_dat": "2020-06-06T00:00:00"
         },
         {
          "num_sales": 36733,
          "num_unique_customers": 10041,
          "revenue": 1049.220016949151,
          "t_dat": "2020-06-07T00:00:00"
         },
         {
          "num_sales": 38117,
          "num_unique_customers": 11436,
          "revenue": 1079.4796779660999,
          "t_dat": "2020-06-08T00:00:00"
         },
         {
          "num_sales": 39370,
          "num_unique_customers": 11939,
          "revenue": 1058.2374237288118,
          "t_dat": "2020-06-09T00:00:00"
         },
         {
          "num_sales": 42585,
          "num_unique_customers": 12752,
          "revenue": 1133.3058644067776,
          "t_dat": "2020-06-10T00:00:00"
         },
         {
          "num_sales": 44044,
          "num_unique_customers": 13133,
          "revenue": 1150.1526779660996,
          "t_dat": "2020-06-11T00:00:00"
         },
         {
          "num_sales": 43804,
          "num_unique_customers": 13152,
          "revenue": 1110.5238644067776,
          "t_dat": "2020-06-12T00:00:00"
         },
         {
          "num_sales": 46088,
          "num_unique_customers": 13464,
          "revenue": 1159.8153050847436,
          "t_dat": "2020-06-13T00:00:00"
         },
         {
          "num_sales": 32087,
          "num_unique_customers": 8637,
          "revenue": 880.3205762711849,
          "t_dat": "2020-06-14T00:00:00"
         },
         {
          "num_sales": 40427,
          "num_unique_customers": 11892,
          "revenue": 1048.5014067796592,
          "t_dat": "2020-06-15T00:00:00"
         },
         {
          "num_sales": 49855,
          "num_unique_customers": 14762,
          "revenue": 1292.0448305084724,
          "t_dat": "2020-06-16T00:00:00"
         },
         {
          "num_sales": 110981,
          "num_unique_customers": 26247,
          "revenue": 2540.113406779656,
          "t_dat": "2020-06-17T00:00:00"
         },
         {
          "num_sales": 84563,
          "num_unique_customers": 21668,
          "revenue": 1916.1871355932167,
          "t_dat": "2020-06-18T00:00:00"
         },
         {
          "num_sales": 77241,
          "num_unique_customers": 20673,
          "revenue": 1755.304762711861,
          "t_dat": "2020-06-19T00:00:00"
         },
         {
          "num_sales": 67788,
          "num_unique_customers": 18293,
          "revenue": 1533.4146949152512,
          "t_dat": "2020-06-20T00:00:00"
         },
         {
          "num_sales": 56469,
          "num_unique_customers": 13476,
          "revenue": 1369.5237288135568,
          "t_dat": "2020-06-21T00:00:00"
         },
         {
          "num_sales": 75334,
          "num_unique_customers": 19912,
          "revenue": 1776.1568813559288,
          "t_dat": "2020-06-22T00:00:00"
         },
         {
          "num_sales": 77067,
          "num_unique_customers": 20689,
          "revenue": 1803.5380847457593,
          "t_dat": "2020-06-23T00:00:00"
         },
         {
          "num_sales": 98790,
          "num_unique_customers": 24751,
          "revenue": 2195.581728813555,
          "t_dat": "2020-06-24T00:00:00"
         },
         {
          "num_sales": 88684,
          "num_unique_customers": 23052,
          "revenue": 1976.2762033898266,
          "t_dat": "2020-06-25T00:00:00"
         },
         {
          "num_sales": 77452,
          "num_unique_customers": 20274,
          "revenue": 1726.0800847457592,
          "t_dat": "2020-06-26T00:00:00"
         },
         {
          "num_sales": 74671,
          "num_unique_customers": 20053,
          "revenue": 1676.1384406779628,
          "t_dat": "2020-06-27T00:00:00"
         },
         {
          "num_sales": 63485,
          "num_unique_customers": 16205,
          "revenue": 1458.1629152542346,
          "t_dat": "2020-06-28T00:00:00"
         },
         {
          "num_sales": 53193,
          "num_unique_customers": 14927,
          "revenue": 1259.7523220338958,
          "t_dat": "2020-06-29T00:00:00"
         },
         {
          "num_sales": 61153,
          "num_unique_customers": 16857,
          "revenue": 1450.8982033898276,
          "t_dat": "2020-06-30T00:00:00"
         },
         {
          "num_sales": 59443,
          "num_unique_customers": 16730,
          "revenue": 1395.5045423728786,
          "t_dat": "2020-07-01T00:00:00"
         },
         {
          "num_sales": 55884,
          "num_unique_customers": 16174,
          "revenue": 1295.346423728811,
          "t_dat": "2020-07-02T00:00:00"
         },
         {
          "num_sales": 51212,
          "num_unique_customers": 15498,
          "revenue": 1175.587915254235,
          "t_dat": "2020-07-03T00:00:00"
         },
         {
          "num_sales": 46408,
          "num_unique_customers": 13701,
          "revenue": 1095.8934237288115,
          "t_dat": "2020-07-04T00:00:00"
         },
         {
          "num_sales": 38401,
          "num_unique_customers": 10202,
          "revenue": 936.9381355932186,
          "t_dat": "2020-07-05T00:00:00"
         },
         {
          "num_sales": 40933,
          "num_unique_customers": 12115,
          "revenue": 999.5495932203371,
          "t_dat": "2020-07-06T00:00:00"
         },
         {
          "num_sales": 45138,
          "num_unique_customers": 13509,
          "revenue": 1079.2765084745743,
          "t_dat": "2020-07-07T00:00:00"
         },
         {
          "num_sales": 49839,
          "num_unique_customers": 14475,
          "revenue": 1191.3086779660994,
          "t_dat": "2020-07-08T00:00:00"
         },
         {
          "num_sales": 43016,
          "num_unique_customers": 12984,
          "revenue": 1016.7820677966082,
          "t_dat": "2020-07-09T00:00:00"
         },
         {
          "num_sales": 43922,
          "num_unique_customers": 13667,
          "revenue": 1026.2698813559302,
          "t_dat": "2020-07-10T00:00:00"
         },
         {
          "num_sales": 40292,
          "num_unique_customers": 12361,
          "revenue": 948.1258135593201,
          "t_dat": "2020-07-11T00:00:00"
         },
         {
          "num_sales": 29794,
          "num_unique_customers": 8395,
          "revenue": 729.082728813558,
          "t_dat": "2020-07-12T00:00:00"
         },
         {
          "num_sales": 41095,
          "num_unique_customers": 12156,
          "revenue": 987.1953559322016,
          "t_dat": "2020-07-13T00:00:00"
         },
         {
          "num_sales": 38714,
          "num_unique_customers": 11892,
          "revenue": 927.3981864406762,
          "t_dat": "2020-07-14T00:00:00"
         },
         {
          "num_sales": 51387,
          "num_unique_customers": 15532,
          "revenue": 1212.0864067796585,
          "t_dat": "2020-07-15T00:00:00"
         },
         {
          "num_sales": 45465,
          "num_unique_customers": 13922,
          "revenue": 1079.9237966101673,
          "t_dat": "2020-07-16T00:00:00"
         },
         {
          "num_sales": 42666,
          "num_unique_customers": 13429,
          "revenue": 991.5458813559302,
          "t_dat": "2020-07-17T00:00:00"
         },
         {
          "num_sales": 37666,
          "num_unique_customers": 11775,
          "revenue": 883.2640169491508,
          "t_dat": "2020-07-18T00:00:00"
         },
         {
          "num_sales": 28801,
          "num_unique_customers": 7962,
          "revenue": 702.2081016949139,
          "t_dat": "2020-07-19T00:00:00"
         },
         {
          "num_sales": 40657,
          "num_unique_customers": 12286,
          "revenue": 977.8743220338964,
          "t_dat": "2020-07-20T00:00:00"
         },
         {
          "num_sales": 42886,
          "num_unique_customers": 13335,
          "revenue": 1035.6935084745744,
          "t_dat": "2020-07-21T00:00:00"
         },
         {
          "num_sales": 46368,
          "num_unique_customers": 14170,
          "revenue": 1138.997101694913,
          "t_dat": "2020-07-22T00:00:00"
         },
         {
          "num_sales": 44976,
          "num_unique_customers": 14250,
          "revenue": 1097.8659491525402,
          "t_dat": "2020-07-23T00:00:00"
         },
         {
          "num_sales": 46496,
          "num_unique_customers": 14537,
          "revenue": 1132.1814067796588,
          "t_dat": "2020-07-24T00:00:00"
         },
         {
          "num_sales": 41058,
          "num_unique_customers": 12672,
          "revenue": 1001.3311694915235,
          "t_dat": "2020-07-25T00:00:00"
         },
         {
          "num_sales": 33688,
          "num_unique_customers": 9979,
          "revenue": 839.0154406779645,
          "t_dat": "2020-07-26T00:00:00"
         },
         {
          "num_sales": 40196,
          "num_unique_customers": 12143,
          "revenue": 1008.4934745762694,
          "t_dat": "2020-07-27T00:00:00"
         },
         {
          "num_sales": 46687,
          "num_unique_customers": 14273,
          "revenue": 1156.3632372881334,
          "t_dat": "2020-07-28T00:00:00"
         },
         {
          "num_sales": 47998,
          "num_unique_customers": 14974,
          "revenue": 1188.4460508474554,
          "t_dat": "2020-07-29T00:00:00"
         },
         {
          "num_sales": 51712,
          "num_unique_customers": 15841,
          "revenue": 1203.5094915254213,
          "t_dat": "2020-07-30T00:00:00"
         },
         {
          "num_sales": 38704,
          "num_unique_customers": 11508,
          "revenue": 909.9485593220321,
          "t_dat": "2020-07-31T00:00:00"
         },
         {
          "num_sales": 41958,
          "num_unique_customers": 12564,
          "revenue": 972.5820847457608,
          "t_dat": "2020-08-01T00:00:00"
         },
         {
          "num_sales": 38806,
          "num_unique_customers": 10646,
          "revenue": 908.5920508474558,
          "t_dat": "2020-08-02T00:00:00"
         },
         {
          "num_sales": 45416,
          "num_unique_customers": 13593,
          "revenue": 1084.6743050847438,
          "t_dat": "2020-08-03T00:00:00"
         },
         {
          "num_sales": 54875,
          "num_unique_customers": 16413,
          "revenue": 1320.90601694915,
          "t_dat": "2020-08-04T00:00:00"
         },
         {
          "num_sales": 53207,
          "num_unique_customers": 15669,
          "revenue": 1292.0098813559298,
          "t_dat": "2020-08-05T00:00:00"
         },
         {
          "num_sales": 52430,
          "num_unique_customers": 15676,
          "revenue": 1249.6357118644044,
          "t_dat": "2020-08-06T00:00:00"
         },
         {
          "num_sales": 43193,
          "num_unique_customers": 13023,
          "revenue": 1021.438372881354,
          "t_dat": "2020-08-07T00:00:00"
         },
         {
          "num_sales": 33685,
          "num_unique_customers": 10448,
          "revenue": 805.3482203389815,
          "t_dat": "2020-08-08T00:00:00"
         },
         {
          "num_sales": 27024,
          "num_unique_customers": 7434,
          "revenue": 670.4555593220326,
          "t_dat": "2020-08-09T00:00:00"
         },
         {
          "num_sales": 36909,
          "num_unique_customers": 10799,
          "revenue": 904.000271186439,
          "t_dat": "2020-08-10T00:00:00"
         },
         {
          "num_sales": 42713,
          "num_unique_customers": 12392,
          "revenue": 1048.3872711864387,
          "t_dat": "2020-08-11T00:00:00"
         },
         {
          "num_sales": 71072,
          "num_unique_customers": 17899,
          "revenue": 1734.5777118644032,
          "t_dat": "2020-08-12T00:00:00"
         },
         {
          "num_sales": 39349,
          "num_unique_customers": 12651,
          "revenue": 976.4912372881338,
          "t_dat": "2020-08-13T00:00:00"
         },
         {
          "num_sales": 35305,
          "num_unique_customers": 11687,
          "revenue": 881.1799491525408,
          "t_dat": "2020-08-14T00:00:00"
         },
         {
          "num_sales": 29427,
          "num_unique_customers": 10051,
          "revenue": 746.726949152541,
          "t_dat": "2020-08-15T00:00:00"
         },
         {
          "num_sales": 22613,
          "num_unique_customers": 6809,
          "revenue": 630.6714915254227,
          "t_dat": "2020-08-16T00:00:00"
         },
         {
          "num_sales": 32532,
          "num_unique_customers": 10303,
          "revenue": 881.4353050847442,
          "t_dat": "2020-08-17T00:00:00"
         },
         {
          "num_sales": 34913,
          "num_unique_customers": 11231,
          "revenue": 946.4056610169474,
          "t_dat": "2020-08-18T00:00:00"
         },
         {
          "num_sales": 37284,
          "num_unique_customers": 11838,
          "revenue": 1008.1653559322016,
          "t_dat": "2020-08-19T00:00:00"
         },
         {
          "num_sales": 37926,
          "num_unique_customers": 12435,
          "revenue": 1040.0443559322016,
          "t_dat": "2020-08-20T00:00:00"
         },
         {
          "num_sales": 33913,
          "num_unique_customers": 11331,
          "revenue": 924.4278474576255,
          "t_dat": "2020-08-21T00:00:00"
         },
         {
          "num_sales": 34978,
          "num_unique_customers": 11454,
          "revenue": 982.2143728813543,
          "t_dat": "2020-08-22T00:00:00"
         },
         {
          "num_sales": 33031,
          "num_unique_customers": 9350,
          "revenue": 979.5989322033882,
          "t_dat": "2020-08-23T00:00:00"
         },
         {
          "num_sales": 37672,
          "num_unique_customers": 11719,
          "revenue": 1131.8903220338964,
          "t_dat": "2020-08-24T00:00:00"
         },
         {
          "num_sales": 41840,
          "num_unique_customers": 13108,
          "revenue": 1292.9948983050826,
          "t_dat": "2020-08-25T00:00:00"
         },
         {
          "num_sales": 46027,
          "num_unique_customers": 14128,
          "revenue": 1465.7214406779638,
          "t_dat": "2020-08-26T00:00:00"
         },
         {
          "num_sales": 44403,
          "num_unique_customers": 14584,
          "revenue": 1367.6294576271164,
          "t_dat": "2020-08-27T00:00:00"
         },
         {
          "num_sales": 39546,
          "num_unique_customers": 13385,
          "revenue": 1207.5714406779641,
          "t_dat": "2020-08-28T00:00:00"
         },
         {
          "num_sales": 41175,
          "num_unique_customers": 13358,
          "revenue": 1271.873288135591,
          "t_dat": "2020-08-29T00:00:00"
         },
         {
          "num_sales": 35862,
          "num_unique_customers": 10700,
          "revenue": 1145.319423728812,
          "t_dat": "2020-08-30T00:00:00"
         },
         {
          "num_sales": 38108,
          "num_unique_customers": 11878,
          "revenue": 1237.5300677966084,
          "t_dat": "2020-08-31T00:00:00"
         },
         {
          "num_sales": 38060,
          "num_unique_customers": 12323,
          "revenue": 1228.6411864406762,
          "t_dat": "2020-09-01T00:00:00"
         },
         {
          "num_sales": 32722,
          "num_unique_customers": 11157,
          "revenue": 1042.202389830507,
          "t_dat": "2020-09-02T00:00:00"
         },
         {
          "num_sales": 40441,
          "num_unique_customers": 13184,
          "revenue": 1324.5482033898286,
          "t_dat": "2020-09-03T00:00:00"
         },
         {
          "num_sales": 39203,
          "num_unique_customers": 13221,
          "revenue": 1230.0161355932185,
          "t_dat": "2020-09-04T00:00:00"
         },
         {
          "num_sales": 43002,
          "num_unique_customers": 14149,
          "revenue": 1352.46388135593,
          "t_dat": "2020-09-05T00:00:00"
         },
         {
          "num_sales": 34961,
          "num_unique_customers": 10426,
          "revenue": 1139.1364745762694,
          "t_dat": "2020-09-06T00:00:00"
         },
         {
          "num_sales": 37913,
          "num_unique_customers": 11716,
          "revenue": 1278.7032881355913,
          "t_dat": "2020-09-07T00:00:00"
         },
         {
          "num_sales": 36415,
          "num_unique_customers": 11422,
          "revenue": 1243.4895762711847,
          "t_dat": "2020-09-08T00:00:00"
         },
         {
          "num_sales": 41626,
          "num_unique_customers": 13075,
          "revenue": 1425.310847457625,
          "t_dat": "2020-09-09T00:00:00"
         },
         {
          "num_sales": 40261,
          "num_unique_customers": 13172,
          "revenue": 1344.2379491525403,
          "t_dat": "2020-09-10T00:00:00"
         },
         {
          "num_sales": 37561,
          "num_unique_customers": 12731,
          "revenue": 1282.8984745762693,
          "t_dat": "2020-09-11T00:00:00"
         },
         {
          "num_sales": 40271,
          "num_unique_customers": 13186,
          "revenue": 1311.20381355932,
          "t_dat": "2020-09-12T00:00:00"
         },
         {
          "num_sales": 39528,
          "num_unique_customers": 11423,
          "revenue": 1394.6976440677947,
          "t_dat": "2020-09-13T00:00:00"
         },
         {
          "num_sales": 29941,
          "num_unique_customers": 9286,
          "revenue": 1042.0790847457613,
          "t_dat": "2020-09-14T00:00:00"
         },
         {
          "num_sales": 26053,
          "num_unique_customers": 8287,
          "revenue": 874.8922203389818,
          "t_dat": "2020-09-15T00:00:00"
         },
         {
          "num_sales": 27028,
          "num_unique_customers": 8752,
          "revenue": 890.2108474576257,
          "t_dat": "2020-09-16T00:00:00"
         },
         {
          "num_sales": 40718,
          "num_unique_customers": 13203,
          "revenue": 1418.2773050847438,
          "t_dat": "2020-09-17T00:00:00"
         },
         {
          "num_sales": 39284,
          "num_unique_customers": 12924,
          "revenue": 1363.8581186440658,
          "t_dat": "2020-09-18T00:00:00"
         },
         {
          "num_sales": 36796,
          "num_unique_customers": 12233,
          "revenue": 1227.471305084744,
          "t_dat": "2020-09-19T00:00:00"
         },
         {
          "num_sales": 31489,
          "num_unique_customers": 9384,
          "revenue": 1116.0710677966085,
          "t_dat": "2020-09-20T00:00:00"
         },
         {
          "num_sales": 32130,
          "num_unique_customers": 10119,
          "revenue": 1139.598050847456,
          "t_dat": "2020-09-21T00:00:00"
         },
         {
          "num_sales": 32866,
          "num_unique_customers": 10528,
          "revenue": 1133.4184237288118,
          "t_dat": "2020-09-22T00:00:00"
         }
        ]
       },
       "encoding": {
        "tooltip": [
         {
          "field": "t_dat",
          "type": "temporal"
         }
        ],
        "x": {
         "field": "t_dat",
         "type": "temporal"
        },
        "y": {
         "field": "num_unique_customers",
         "type": "quantitative"
        }
       },
       "mark": "line",
       "width": 700
      },
      "image/png": "[encoded data removed]",
      "text/plain": [
       "<VegaLite 4 object>\n",
       "\n",
       "If you see this message, it means the renderer has not been properly enabled\n",
       "for the frontend that you are using. For more information, see\n",
       "https://altair-viz.github.io/user_guide/troubleshooting.html\n"
      ]
     },
     "execution_count": 32,
     "metadata": {},
     "output_type": "execute_result"
    }
   ],
   "source": [
    "alt.Chart(df_sales).mark_line().encode(\n",
    "    x=\"t_dat\", y=\"num_unique_customers\", tooltip=[\"t_dat\"]\n",
    ").properties(width=700)"
   ]
  },
  {
   "cell_type": "code",
   "execution_count": 73,
   "id": "76775b36-cdda-4fce-8764-9bd205e66816",
   "metadata": {},
   "outputs": [
    {
     "data": {
      "application/vnd.vegalite.v4+json": {
       "$schema": "https://vega.github.io/schema/vega-lite/v4.17.0.json",
       "config": {
        "view": {
         "continuousHeight": 300,
         "continuousWidth": 400
        }
       },
       "data": {
        "name": "data-7cd6a2be985d45646b02d0ce67852e63"
       },
       "datasets": {
        "data-7cd6a2be985d45646b02d0ce67852e63": [
         {
          "num_sales": 48399,
          "num_unique_articles": 11542,
          "num_unique_customers": 13987,
          "revenue": 1415.3458474576248,
          "t_dat": "2018-09-20T00:00:00"
         },
         {
          "num_sales": 47543,
          "num_unique_articles": 11631,
          "num_unique_customers": 13932,
          "revenue": 1419.2623050847435,
          "t_dat": "2018-09-21T00:00:00"
         },
         {
          "num_sales": 17635,
          "num_unique_articles": 6814,
          "num_unique_customers": 5481,
          "revenue": 530.4376271186431,
          "t_dat": "2018-09-22T00:00:00"
         },
         {
          "num_sales": 52230,
          "num_unique_articles": 11673,
          "num_unique_customers": 12435,
          "revenue": 1593.78308474576,
          "t_dat": "2018-09-23T00:00:00"
         },
         {
          "num_sales": 45984,
          "num_unique_articles": 11598,
          "num_unique_customers": 12630,
          "revenue": 1407.6096101694893,
          "t_dat": "2018-09-24T00:00:00"
         },
         {
          "num_sales": 43857,
          "num_unique_articles": 11474,
          "num_unique_customers": 12534,
          "revenue": 1322.87981355932,
          "t_dat": "2018-09-25T00:00:00"
         },
         {
          "num_sales": 48224,
          "num_unique_articles": 12162,
          "num_unique_customers": 13925,
          "revenue": 1434.2044576271162,
          "t_dat": "2018-09-26T00:00:00"
         },
         {
          "num_sales": 44261,
          "num_unique_articles": 11582,
          "num_unique_customers": 13331,
          "revenue": 1355.498288135591,
          "t_dat": "2018-09-27T00:00:00"
         },
         {
          "num_sales": 66900,
          "num_unique_articles": 13196,
          "num_unique_customers": 18872,
          "revenue": 2040.2070677966067,
          "t_dat": "2018-09-28T00:00:00"
         },
         {
          "num_sales": 141700,
          "num_unique_articles": 16238,
          "num_unique_customers": 37398,
          "revenue": 4071.3813050847384,
          "t_dat": "2018-09-29T00:00:00"
         },
         {
          "num_sales": 38043,
          "num_unique_articles": 10418,
          "num_unique_customers": 10876,
          "revenue": 1165.030186440676,
          "t_dat": "2018-09-30T00:00:00"
         },
         {
          "num_sales": 38677,
          "num_unique_articles": 10803,
          "num_unique_customers": 11029,
          "revenue": 1201.578220338981,
          "t_dat": "2018-10-01T00:00:00"
         },
         {
          "num_sales": 39932,
          "num_unique_articles": 10811,
          "num_unique_customers": 11685,
          "revenue": 1254.0745423728795,
          "t_dat": "2018-10-02T00:00:00"
         },
         {
          "num_sales": 38387,
          "num_unique_articles": 10737,
          "num_unique_customers": 11434,
          "revenue": 1173.174491525422,
          "t_dat": "2018-10-03T00:00:00"
         },
         {
          "num_sales": 38103,
          "num_unique_articles": 10355,
          "num_unique_customers": 12109,
          "revenue": 1188.8597966101677,
          "t_dat": "2018-10-04T00:00:00"
         },
         {
          "num_sales": 33485,
          "num_unique_articles": 9668,
          "num_unique_customers": 11123,
          "revenue": 1009.3239322033882,
          "t_dat": "2018-10-05T00:00:00"
         },
         {
          "num_sales": 37012,
          "num_unique_articles": 10028,
          "num_unique_customers": 12111,
          "revenue": 1089.794711864405,
          "t_dat": "2018-10-06T00:00:00"
         },
         {
          "num_sales": 32647,
          "num_unique_articles": 9539,
          "num_unique_customers": 9306,
          "revenue": 1010.437423728812,
          "t_dat": "2018-10-07T00:00:00"
         },
         {
          "num_sales": 28241,
          "num_unique_articles": 8814,
          "num_unique_customers": 8473,
          "revenue": 899.0806271186426,
          "t_dat": "2018-10-08T00:00:00"
         },
         {
          "num_sales": 38581,
          "num_unique_articles": 10778,
          "num_unique_customers": 11117,
          "revenue": 1234.8909830508455,
          "t_dat": "2018-10-09T00:00:00"
         },
         {
          "num_sales": 63750,
          "num_unique_articles": 13992,
          "num_unique_customers": 15827,
          "revenue": 1890.0404915254205,
          "t_dat": "2018-10-10T00:00:00"
         },
         {
          "num_sales": 58802,
          "num_unique_articles": 13328,
          "num_unique_customers": 15162,
          "revenue": 1702.1712372881325,
          "t_dat": "2018-10-11T00:00:00"
         },
         {
          "num_sales": 53530,
          "num_unique_articles": 13473,
          "num_unique_customers": 14777,
          "revenue": 1517.4412203389804,
          "t_dat": "2018-10-12T00:00:00"
         },
         {
          "num_sales": 53008,
          "num_unique_articles": 12738,
          "num_unique_customers": 14296,
          "revenue": 1445.4382881355905,
          "t_dat": "2018-10-13T00:00:00"
         },
         {
          "num_sales": 36426,
          "num_unique_articles": 10186,
          "num_unique_customers": 8405,
          "revenue": 1103.066966101693,
          "t_dat": "2018-10-14T00:00:00"
         },
         {
          "num_sales": 33624,
          "num_unique_articles": 10377,
          "num_unique_customers": 9748,
          "revenue": 1061.7233220338967,
          "t_dat": "2018-10-15T00:00:00"
         },
         {
          "num_sales": 48481,
          "num_unique_articles": 12280,
          "num_unique_customers": 12188,
          "revenue": 1566.383864406777,
          "t_dat": "2018-10-16T00:00:00"
         },
         {
          "num_sales": 59231,
          "num_unique_articles": 13449,
          "num_unique_customers": 16092,
          "revenue": 1621.256779661014,
          "t_dat": "2018-10-17T00:00:00"
         },
         {
          "num_sales": 46586,
          "num_unique_articles": 11681,
          "num_unique_customers": 13781,
          "revenue": 1314.0367966101671,
          "t_dat": "2018-10-18T00:00:00"
         },
         {
          "num_sales": 39033,
          "num_unique_articles": 10906,
          "num_unique_customers": 11987,
          "revenue": 1118.8254745762692,
          "t_dat": "2018-10-19T00:00:00"
         },
         {
          "num_sales": 40517,
          "num_unique_articles": 11124,
          "num_unique_customers": 12498,
          "revenue": 1178.4867966101674,
          "t_dat": "2018-10-20T00:00:00"
         },
         {
          "num_sales": 37437,
          "num_unique_articles": 10511,
          "num_unique_customers": 9805,
          "revenue": 1065.632525423727,
          "t_dat": "2018-10-21T00:00:00"
         },
         {
          "num_sales": 43546,
          "num_unique_articles": 11498,
          "num_unique_customers": 12538,
          "revenue": 1286.0609999999979,
          "t_dat": "2018-10-22T00:00:00"
         },
         {
          "num_sales": 49740,
          "num_unique_articles": 12457,
          "num_unique_customers": 14572,
          "revenue": 1469.8397288135568,
          "t_dat": "2018-10-23T00:00:00"
         },
         {
          "num_sales": 64499,
          "num_unique_articles": 13684,
          "num_unique_customers": 18469,
          "revenue": 1841.569186440675,
          "t_dat": "2018-10-24T00:00:00"
         },
         {
          "num_sales": 54487,
          "num_unique_articles": 12558,
          "num_unique_customers": 16519,
          "revenue": 1573.9032881355906,
          "t_dat": "2018-10-25T00:00:00"
         },
         {
          "num_sales": 55390,
          "num_unique_articles": 12849,
          "num_unique_customers": 16908,
          "revenue": 1615.2642033898278,
          "t_dat": "2018-10-26T00:00:00"
         },
         {
          "num_sales": 50649,
          "num_unique_articles": 12171,
          "num_unique_customers": 15718,
          "revenue": 1488.4579999999976,
          "t_dat": "2018-10-27T00:00:00"
         },
         {
          "num_sales": 56271,
          "num_unique_articles": 12667,
          "num_unique_customers": 15090,
          "revenue": 1709.0214406779633,
          "t_dat": "2018-10-28T00:00:00"
         },
         {
          "num_sales": 45952,
          "num_unique_articles": 11902,
          "num_unique_customers": 12940,
          "revenue": 1383.4142542372858,
          "t_dat": "2018-10-29T00:00:00"
         },
         {
          "num_sales": 42392,
          "num_unique_articles": 11231,
          "num_unique_customers": 12265,
          "revenue": 1344.0748983050826,
          "t_dat": "2018-10-30T00:00:00"
         },
         {
          "num_sales": 38624,
          "num_unique_articles": 10610,
          "num_unique_customers": 11869,
          "revenue": 1227.4921186440658,
          "t_dat": "2018-10-31T00:00:00"
         },
         {
          "num_sales": 41119,
          "num_unique_articles": 10899,
          "num_unique_customers": 12866,
          "revenue": 1378.1485084745743,
          "t_dat": "2018-11-01T00:00:00"
         },
         {
          "num_sales": 36103,
          "num_unique_articles": 10235,
          "num_unique_customers": 12150,
          "revenue": 1183.8858305084727,
          "t_dat": "2018-11-02T00:00:00"
         },
         {
          "num_sales": 39899,
          "num_unique_articles": 10680,
          "num_unique_customers": 13175,
          "revenue": 1285.207999999998,
          "t_dat": "2018-11-03T00:00:00"
         },
         {
          "num_sales": 32709,
          "num_unique_articles": 9979,
          "num_unique_customers": 9781,
          "revenue": 1099.9753898305069,
          "t_dat": "2018-11-04T00:00:00"
         },
         {
          "num_sales": 30346,
          "num_unique_articles": 9621,
          "num_unique_customers": 9483,
          "revenue": 1017.4860847457612,
          "t_dat": "2018-11-05T00:00:00"
         },
         {
          "num_sales": 33798,
          "num_unique_articles": 10144,
          "num_unique_customers": 10688,
          "revenue": 1126.0866779661,
          "t_dat": "2018-11-06T00:00:00"
         },
         {
          "num_sales": 35299,
          "num_unique_articles": 10366,
          "num_unique_customers": 11391,
          "revenue": 1190.7924067796594,
          "t_dat": "2018-11-07T00:00:00"
         },
         {
          "num_sales": 32002,
          "num_unique_articles": 9856,
          "num_unique_customers": 10891,
          "revenue": 1039.325576271185,
          "t_dat": "2018-11-08T00:00:00"
         },
         {
          "num_sales": 35259,
          "num_unique_articles": 10184,
          "num_unique_customers": 11953,
          "revenue": 1130.9551016949135,
          "t_dat": "2018-11-09T00:00:00"
         },
         {
          "num_sales": 34598,
          "num_unique_articles": 10084,
          "num_unique_customers": 11736,
          "revenue": 1085.2013559322017,
          "t_dat": "2018-11-10T00:00:00"
         },
         {
          "num_sales": 44899,
          "num_unique_articles": 11483,
          "num_unique_customers": 12537,
          "revenue": 1381.8328813559299,
          "t_dat": "2018-11-11T00:00:00"
         },
         {
          "num_sales": 25777,
          "num_unique_articles": 8698,
          "num_unique_customers": 8305,
          "revenue": 851.4892033898292,
          "t_dat": "2018-11-12T00:00:00"
         },
         {
          "num_sales": 28740,
          "num_unique_articles": 9279,
          "num_unique_customers": 9483,
          "revenue": 939.8085932203376,
          "t_dat": "2018-11-13T00:00:00"
         },
         {
          "num_sales": 35108,
          "num_unique_articles": 10381,
          "num_unique_customers": 11277,
          "revenue": 1170.0965932203374,
          "t_dat": "2018-11-14T00:00:00"
         },
         {
          "num_sales": 38619,
          "num_unique_articles": 10682,
          "num_unique_customers": 12608,
          "revenue": 1215.8466949152523,
          "t_dat": "2018-11-15T00:00:00"
         },
         {
          "num_sales": 38361,
          "num_unique_articles": 10761,
          "num_unique_customers": 12814,
          "revenue": 1178.635779661015,
          "t_dat": "2018-11-16T00:00:00"
         },
         {
          "num_sales": 38817,
          "num_unique_articles": 10550,
          "num_unique_customers": 13103,
          "revenue": 1204.4525932203371,
          "t_dat": "2018-11-17T00:00:00"
         },
         {
          "num_sales": 35871,
          "num_unique_articles": 10131,
          "num_unique_customers": 10563,
          "revenue": 1126.9629661016932,
          "t_dat": "2018-11-18T00:00:00"
         },
         {
          "num_sales": 32984,
          "num_unique_articles": 9741,
          "num_unique_customers": 10248,
          "revenue": 1107.3144915254222,
          "t_dat": "2018-11-19T00:00:00"
         },
         {
          "num_sales": 40454,
          "num_unique_articles": 10808,
          "num_unique_customers": 12798,
          "revenue": 1312.9359830508454,
          "t_dat": "2018-11-20T00:00:00"
         },
         {
          "num_sales": 43132,
          "num_unique_articles": 10836,
          "num_unique_customers": 13475,
          "revenue": 1272.4279322033876,
          "t_dat": "2018-11-21T00:00:00"
         },
         {
          "num_sales": 56174,
          "num_unique_articles": 12461,
          "num_unique_customers": 17618,
          "revenue": 1596.7907288135564,
          "t_dat": "2018-11-22T00:00:00"
         },
         {
          "num_sales": 142018,
          "num_unique_articles": 17231,
          "num_unique_customers": 42300,
          "revenue": 3891.939440677959,
          "t_dat": "2018-11-23T00:00:00"
         },
         {
          "num_sales": 80235,
          "num_unique_articles": 14701,
          "num_unique_customers": 23958,
          "revenue": 2145.9552711864367,
          "t_dat": "2018-11-24T00:00:00"
         },
         {
          "num_sales": 59322,
          "num_unique_articles": 11084,
          "num_unique_customers": 17108,
          "revenue": 1596.1478813559295,
          "t_dat": "2018-11-25T00:00:00"
         },
         {
          "num_sales": 56913,
          "num_unique_articles": 10987,
          "num_unique_customers": 16752,
          "revenue": 1512.9443389830483,
          "t_dat": "2018-11-26T00:00:00"
         },
         {
          "num_sales": 30127,
          "num_unique_articles": 9872,
          "num_unique_customers": 11007,
          "revenue": 979.3970677966087,
          "t_dat": "2018-11-27T00:00:00"
         },
         {
          "num_sales": 29276,
          "num_unique_articles": 9839,
          "num_unique_customers": 10472,
          "revenue": 951.0721864406765,
          "t_dat": "2018-11-28T00:00:00"
         },
         {
          "num_sales": 32096,
          "num_unique_articles": 10223,
          "num_unique_customers": 11395,
          "revenue": 1041.0371864406764,
          "t_dat": "2018-11-29T00:00:00"
         },
         {
          "num_sales": 30564,
          "num_unique_articles": 9899,
          "num_unique_customers": 11264,
          "revenue": 986.8356440677951,
          "t_dat": "2018-11-30T00:00:00"
         },
         {
          "num_sales": 34101,
          "num_unique_articles": 10303,
          "num_unique_customers": 12322,
          "revenue": 1019.3577966101678,
          "t_dat": "2018-12-01T00:00:00"
         },
         {
          "num_sales": 26579,
          "num_unique_articles": 9238,
          "num_unique_customers": 8464,
          "revenue": 843.5171355932191,
          "t_dat": "2018-12-02T00:00:00"
         },
         {
          "num_sales": 27155,
          "num_unique_articles": 9159,
          "num_unique_customers": 9432,
          "revenue": 881.7208305084732,
          "t_dat": "2018-12-03T00:00:00"
         },
         {
          "num_sales": 31834,
          "num_unique_articles": 9957,
          "num_unique_customers": 11034,
          "revenue": 1027.0817966101679,
          "t_dat": "2018-12-04T00:00:00"
         },
         {
          "num_sales": 35693,
          "num_unique_articles": 11040,
          "num_unique_customers": 12338,
          "revenue": 1094.7697966101678,
          "t_dat": "2018-12-05T00:00:00"
         },
         {
          "num_sales": 37284,
          "num_unique_articles": 11334,
          "num_unique_customers": 12901,
          "revenue": 1110.203898305083,
          "t_dat": "2018-12-06T00:00:00"
         },
         {
          "num_sales": 33316,
          "num_unique_articles": 10944,
          "num_unique_customers": 11831,
          "revenue": 985.9137288135577,
          "t_dat": "2018-12-07T00:00:00"
         },
         {
          "num_sales": 37420,
          "num_unique_articles": 11631,
          "num_unique_customers": 12921,
          "revenue": 1070.6389830508456,
          "t_dat": "2018-12-08T00:00:00"
         },
         {
          "num_sales": 34622,
          "num_unique_articles": 10794,
          "num_unique_customers": 10981,
          "revenue": 1075.0479152542357,
          "t_dat": "2018-12-09T00:00:00"
         },
         {
          "num_sales": 30431,
          "num_unique_articles": 9904,
          "num_unique_customers": 10546,
          "revenue": 967.0019322033884,
          "t_dat": "2018-12-10T00:00:00"
         },
         {
          "num_sales": 31051,
          "num_unique_articles": 10119,
          "num_unique_customers": 10820,
          "revenue": 1001.0526610169476,
          "t_dat": "2018-12-11T00:00:00"
         },
         {
          "num_sales": 39436,
          "num_unique_articles": 11217,
          "num_unique_customers": 13526,
          "revenue": 1244.5813559322016,
          "t_dat": "2018-12-12T00:00:00"
         },
         {
          "num_sales": 33145,
          "num_unique_articles": 10289,
          "num_unique_customers": 11984,
          "revenue": 1050.1932203389815,
          "t_dat": "2018-12-13T00:00:00"
         },
         {
          "num_sales": 31201,
          "num_unique_articles": 10058,
          "num_unique_customers": 11596,
          "revenue": 959.1581355932188,
          "t_dat": "2018-12-14T00:00:00"
         },
         {
          "num_sales": 36258,
          "num_unique_articles": 10824,
          "num_unique_customers": 13047,
          "revenue": 1108.516372881354,
          "t_dat": "2018-12-15T00:00:00"
         },
         {
          "num_sales": 32374,
          "num_unique_articles": 10100,
          "num_unique_customers": 10655,
          "revenue": 1021.5836949152526,
          "t_dat": "2018-12-16T00:00:00"
         },
         {
          "num_sales": 34947,
          "num_unique_articles": 10527,
          "num_unique_customers": 11694,
          "revenue": 1049.0600169491508,
          "t_dat": "2018-12-17T00:00:00"
         },
         {
          "num_sales": 39247,
          "num_unique_articles": 11301,
          "num_unique_customers": 13250,
          "revenue": 1149.044627118642,
          "t_dat": "2018-12-18T00:00:00"
         },
         {
          "num_sales": 46619,
          "num_unique_articles": 12379,
          "num_unique_customers": 14969,
          "revenue": 1302.5752881355909,
          "t_dat": "2018-12-19T00:00:00"
         },
         {
          "num_sales": 61022,
          "num_unique_articles": 13510,
          "num_unique_customers": 18764,
          "revenue": 1573.980745762709,
          "t_dat": "2018-12-20T00:00:00"
         },
         {
          "num_sales": 56260,
          "num_unique_articles": 12811,
          "num_unique_customers": 17657,
          "revenue": 1384.4910338983022,
          "t_dat": "2018-12-21T00:00:00"
         },
         {
          "num_sales": 58623,
          "num_unique_articles": 13342,
          "num_unique_customers": 18525,
          "revenue": 1427.0625423728784,
          "t_dat": "2018-12-22T00:00:00"
         },
         {
          "num_sales": 43155,
          "num_unique_articles": 11652,
          "num_unique_customers": 12999,
          "revenue": 1065.188474576269,
          "t_dat": "2018-12-23T00:00:00"
         },
         {
          "num_sales": 38362,
          "num_unique_articles": 10569,
          "num_unique_customers": 13160,
          "revenue": 924.4655084745743,
          "t_dat": "2018-12-24T00:00:00"
         },
         {
          "num_sales": 14799,
          "num_unique_articles": 5630,
          "num_unique_customers": 3851,
          "revenue": 412.6921186440671,
          "t_dat": "2018-12-25T00:00:00"
         },
         {
          "num_sales": 24989,
          "num_unique_articles": 8652,
          "num_unique_customers": 6393,
          "revenue": 656.7592372881344,
          "t_dat": "2018-12-26T00:00:00"
         },
         {
          "num_sales": 52976,
          "num_unique_articles": 12768,
          "num_unique_customers": 15729,
          "revenue": 1355.3183389830483,
          "t_dat": "2018-12-27T00:00:00"
         },
         {
          "num_sales": 46132,
          "num_unique_articles": 11923,
          "num_unique_customers": 14583,
          "revenue": 1205.1966779660995,
          "t_dat": "2018-12-28T00:00:00"
         },
         {
          "num_sales": 42402,
          "num_unique_articles": 11645,
          "num_unique_customers": 13257,
          "revenue": 1096.8025762711843,
          "t_dat": "2018-12-29T00:00:00"
         },
         {
          "num_sales": 33491,
          "num_unique_articles": 10388,
          "num_unique_customers": 9853,
          "revenue": 866.5129491525407,
          "t_dat": "2018-12-30T00:00:00"
         },
         {
          "num_sales": 23903,
          "num_unique_articles": 8527,
          "num_unique_customers": 8151,
          "revenue": 603.0253220338972,
          "t_dat": "2018-12-31T00:00:00"
         },
         {
          "num_sales": 18145,
          "num_unique_articles": 6627,
          "num_unique_customers": 4326,
          "revenue": 512.1223898305076,
          "t_dat": "2019-01-01T00:00:00"
         },
         {
          "num_sales": 44252,
          "num_unique_articles": 11841,
          "num_unique_customers": 12555,
          "revenue": 1141.3896101694893,
          "t_dat": "2019-01-02T00:00:00"
         },
         {
          "num_sales": 47744,
          "num_unique_articles": 12264,
          "num_unique_customers": 14017,
          "revenue": 1224.3121016949128,
          "t_dat": "2019-01-03T00:00:00"
         },
         {
          "num_sales": 43545,
          "num_unique_articles": 11702,
          "num_unique_customers": 12893,
          "revenue": 1124.9399491525403,
          "t_dat": "2019-01-04T00:00:00"
         },
         {
          "num_sales": 44536,
          "num_unique_articles": 11869,
          "num_unique_customers": 13122,
          "revenue": 1144.3482372881335,
          "t_dat": "2019-01-05T00:00:00"
         },
         {
          "num_sales": 37885,
          "num_unique_articles": 10557,
          "num_unique_customers": 9749,
          "revenue": 1001.2752372881338,
          "t_dat": "2019-01-06T00:00:00"
         },
         {
          "num_sales": 34484,
          "num_unique_articles": 9890,
          "num_unique_customers": 9611,
          "revenue": 944.5012881355915,
          "t_dat": "2019-01-07T00:00:00"
         },
         {
          "num_sales": 49228,
          "num_unique_articles": 10983,
          "num_unique_customers": 12544,
          "revenue": 1365.7051186440656,
          "t_dat": "2019-01-08T00:00:00"
         },
         {
          "num_sales": 53309,
          "num_unique_articles": 11478,
          "num_unique_customers": 13699,
          "revenue": 1443.5341525423703,
          "t_dat": "2019-01-09T00:00:00"
         },
         {
          "num_sales": 53180,
          "num_unique_articles": 11740,
          "num_unique_customers": 13878,
          "revenue": 1407.750830508472,
          "t_dat": "2019-01-10T00:00:00"
         },
         {
          "num_sales": 42656,
          "num_unique_articles": 10924,
          "num_unique_customers": 11732,
          "revenue": 1114.877661016947,
          "t_dat": "2019-01-11T00:00:00"
         },
         {
          "num_sales": 44825,
          "num_unique_articles": 11390,
          "num_unique_customers": 12450,
          "revenue": 1164.688474576269,
          "t_dat": "2019-01-12T00:00:00"
         },
         {
          "num_sales": 39612,
          "num_unique_articles": 10131,
          "num_unique_customers": 9461,
          "revenue": 1077.2539322033879,
          "t_dat": "2019-01-13T00:00:00"
         },
         {
          "num_sales": 35715,
          "num_unique_articles": 10073,
          "num_unique_customers": 9629,
          "revenue": 962.2328813559304,
          "t_dat": "2019-01-14T00:00:00"
         },
         {
          "num_sales": 35037,
          "num_unique_articles": 9935,
          "num_unique_customers": 9626,
          "revenue": 937.7501525423712,
          "t_dat": "2019-01-15T00:00:00"
         },
         {
          "num_sales": 46962,
          "num_unique_articles": 11240,
          "num_unique_customers": 12388,
          "revenue": 1268.947474576269,
          "t_dat": "2019-01-16T00:00:00"
         },
         {
          "num_sales": 36013,
          "num_unique_articles": 10203,
          "num_unique_customers": 10418,
          "revenue": 954.6116271186423,
          "t_dat": "2019-01-17T00:00:00"
         },
         {
          "num_sales": 35741,
          "num_unique_articles": 10315,
          "num_unique_customers": 10718,
          "revenue": 948.3974406779644,
          "t_dat": "2019-01-18T00:00:00"
         },
         {
          "num_sales": 38720,
          "num_unique_articles": 10979,
          "num_unique_customers": 11883,
          "revenue": 1006.8851016949134,
          "t_dat": "2019-01-19T00:00:00"
         },
         {
          "num_sales": 34356,
          "num_unique_articles": 9740,
          "num_unique_customers": 8798,
          "revenue": 946.6045932203373,
          "t_dat": "2019-01-20T00:00:00"
         },
         {
          "num_sales": 34553,
          "num_unique_articles": 10088,
          "num_unique_customers": 10025,
          "revenue": 955.1485423728797,
          "t_dat": "2019-01-21T00:00:00"
         },
         {
          "num_sales": 36878,
          "num_unique_articles": 10231,
          "num_unique_customers": 10190,
          "revenue": 1003.4702542372863,
          "t_dat": "2019-01-22T00:00:00"
         },
         {
          "num_sales": 40120,
          "num_unique_articles": 10806,
          "num_unique_customers": 11443,
          "revenue": 1061.181406779659,
          "t_dat": "2019-01-23T00:00:00"
         },
         {
          "num_sales": 42320,
          "num_unique_articles": 11045,
          "num_unique_customers": 12490,
          "revenue": 1097.528999999998,
          "t_dat": "2019-01-24T00:00:00"
         },
         {
          "num_sales": 46825,
          "num_unique_articles": 11737,
          "num_unique_customers": 13904,
          "revenue": 1180.5077796610146,
          "t_dat": "2019-01-25T00:00:00"
         },
         {
          "num_sales": 48158,
          "num_unique_articles": 12057,
          "num_unique_customers": 14271,
          "revenue": 1217.4197118644045,
          "t_dat": "2019-01-26T00:00:00"
         },
         {
          "num_sales": 40605,
          "num_unique_articles": 10719,
          "num_unique_customers": 10548,
          "revenue": 1079.4427288135573,
          "t_dat": "2019-01-27T00:00:00"
         },
         {
          "num_sales": 35705,
          "num_unique_articles": 9983,
          "num_unique_customers": 10202,
          "revenue": 950.2704406779643,
          "t_dat": "2019-01-28T00:00:00"
         },
         {
          "num_sales": 44990,
          "num_unique_articles": 11523,
          "num_unique_customers": 12717,
          "revenue": 1163.3466610169469,
          "t_dat": "2019-01-29T00:00:00"
         },
         {
          "num_sales": 39026,
          "num_unique_articles": 10941,
          "num_unique_customers": 11111,
          "revenue": 1019.95174576271,
          "t_dat": "2019-01-30T00:00:00"
         },
         {
          "num_sales": 38346,
          "num_unique_articles": 10859,
          "num_unique_customers": 11681,
          "revenue": 1029.5849491525405,
          "t_dat": "2019-01-31T00:00:00"
         },
         {
          "num_sales": 41584,
          "num_unique_articles": 11796,
          "num_unique_customers": 11685,
          "revenue": 1094.2213898305065,
          "t_dat": "2019-02-01T00:00:00"
         },
         {
          "num_sales": 43901,
          "num_unique_articles": 12054,
          "num_unique_customers": 12544,
          "revenue": 1139.7230847457606,
          "t_dat": "2019-02-02T00:00:00"
         },
         {
          "num_sales": 45259,
          "num_unique_articles": 12037,
          "num_unique_customers": 10784,
          "revenue": 1198.2719322033877,
          "t_dat": "2019-02-03T00:00:00"
         },
         {
          "num_sales": 33631,
          "num_unique_articles": 9933,
          "num_unique_customers": 9340,
          "revenue": 924.2031186440662,
          "t_dat": "2019-02-04T00:00:00"
         },
         {
          "num_sales": 35743,
          "num_unique_articles": 10416,
          "num_unique_customers": 10491,
          "revenue": 996.0708135593203,
          "t_dat": "2019-02-05T00:00:00"
         },
         {
          "num_sales": 37340,
          "num_unique_articles": 10629,
          "num_unique_customers": 11091,
          "revenue": 1038.6576271186423,
          "t_dat": "2019-02-06T00:00:00"
         },
         {
          "num_sales": 39423,
          "num_unique_articles": 11061,
          "num_unique_customers": 12085,
          "revenue": 1084.7439491525404,
          "t_dat": "2019-02-07T00:00:00"
         },
         {
          "num_sales": 36732,
          "num_unique_articles": 10833,
          "num_unique_customers": 11508,
          "revenue": 1014.070305084744,
          "t_dat": "2019-02-08T00:00:00"
         },
         {
          "num_sales": 41220,
          "num_unique_articles": 11311,
          "num_unique_customers": 13060,
          "revenue": 1112.58981355932,
          "t_dat": "2019-02-09T00:00:00"
         },
         {
          "num_sales": 36967,
          "num_unique_articles": 10029,
          "num_unique_customers": 9765,
          "revenue": 1062.4702372881338,
          "t_dat": "2019-02-10T00:00:00"
         },
         {
          "num_sales": 32624,
          "num_unique_articles": 9339,
          "num_unique_customers": 9334,
          "revenue": 919.1647796610154,
          "t_dat": "2019-02-11T00:00:00"
         },
         {
          "num_sales": 34629,
          "num_unique_articles": 10189,
          "num_unique_customers": 10261,
          "revenue": 987.6935254237271,
          "t_dat": "2019-02-12T00:00:00"
         },
         {
          "num_sales": 33441,
          "num_unique_articles": 10263,
          "num_unique_customers": 9934,
          "revenue": 932.5161016949137,
          "t_dat": "2019-02-13T00:00:00"
         },
         {
          "num_sales": 33707,
          "num_unique_articles": 9977,
          "num_unique_customers": 10563,
          "revenue": 894.8378644067781,
          "t_dat": "2019-02-14T00:00:00"
         },
         {
          "num_sales": 37835,
          "num_unique_articles": 10573,
          "num_unique_customers": 11514,
          "revenue": 1048.5338135593202,
          "t_dat": "2019-02-15T00:00:00"
         },
         {
          "num_sales": 43012,
          "num_unique_articles": 11230,
          "num_unique_customers": 13155,
          "revenue": 1192.539847457625,
          "t_dat": "2019-02-16T00:00:00"
         },
         {
          "num_sales": 33705,
          "num_unique_articles": 9746,
          "num_unique_customers": 8823,
          "revenue": 964.1224745762696,
          "t_dat": "2019-02-17T00:00:00"
         },
         {
          "num_sales": 31761,
          "num_unique_articles": 9360,
          "num_unique_customers": 8975,
          "revenue": 900.1562711864391,
          "t_dat": "2019-02-18T00:00:00"
         },
         {
          "num_sales": 33761,
          "num_unique_articles": 9894,
          "num_unique_customers": 9870,
          "revenue": 954.638271186439,
          "t_dat": "2019-02-19T00:00:00"
         },
         {
          "num_sales": 43688,
          "num_unique_articles": 11319,
          "num_unique_customers": 12635,
          "revenue": 1194.8370847457606,
          "t_dat": "2019-02-20T00:00:00"
         },
         {
          "num_sales": 58728,
          "num_unique_articles": 13019,
          "num_unique_customers": 17574,
          "revenue": 1497.1818474576244,
          "t_dat": "2019-02-21T00:00:00"
         },
         {
          "num_sales": 64026,
          "num_unique_articles": 13293,
          "num_unique_customers": 19551,
          "revenue": 1620.9459661016917,
          "t_dat": "2019-02-22T00:00:00"
         },
         {
          "num_sales": 75668,
          "num_unique_articles": 14074,
          "num_unique_customers": 22084,
          "revenue": 1883.8647966101657,
          "t_dat": "2019-02-23T00:00:00"
         },
         {
          "num_sales": 34618,
          "num_unique_articles": 9762,
          "num_unique_customers": 9765,
          "revenue": 975.5946949152526,
          "t_dat": "2019-02-24T00:00:00"
         },
         {
          "num_sales": 39670,
          "num_unique_articles": 10656,
          "num_unique_customers": 11607,
          "revenue": 1124.588220338981,
          "t_dat": "2019-02-25T00:00:00"
         },
         {
          "num_sales": 43079,
          "num_unique_articles": 11025,
          "num_unique_customers": 13040,
          "revenue": 1232.2099830508455,
          "t_dat": "2019-02-26T00:00:00"
         },
         {
          "num_sales": 45506,
          "num_unique_articles": 11248,
          "num_unique_customers": 13451,
          "revenue": 1273.2129491525402,
          "t_dat": "2019-02-27T00:00:00"
         },
         {
          "num_sales": 41154,
          "num_unique_articles": 10782,
          "num_unique_customers": 12740,
          "revenue": 1166.5610508474556,
          "t_dat": "2019-02-28T00:00:00"
         },
         {
          "num_sales": 42145,
          "num_unique_articles": 10728,
          "num_unique_customers": 12889,
          "revenue": 1172.551559322032,
          "t_dat": "2019-03-01T00:00:00"
         },
         {
          "num_sales": 40748,
          "num_unique_articles": 10624,
          "num_unique_customers": 12382,
          "revenue": 1112.8179830508457,
          "t_dat": "2019-03-02T00:00:00"
         },
         {
          "num_sales": 35154,
          "num_unique_articles": 9065,
          "num_unique_customers": 8785,
          "revenue": 1004.4725084745746,
          "t_dat": "2019-03-03T00:00:00"
         },
         {
          "num_sales": 30308,
          "num_unique_articles": 8543,
          "num_unique_customers": 8420,
          "revenue": 905.8775762711849,
          "t_dat": "2019-03-04T00:00:00"
         },
         {
          "num_sales": 34652,
          "num_unique_articles": 9224,
          "num_unique_customers": 9952,
          "revenue": 1022.0427627118628,
          "t_dat": "2019-03-05T00:00:00"
         },
         {
          "num_sales": 49580,
          "num_unique_articles": 11221,
          "num_unique_customers": 13585,
          "revenue": 1398.386728813557,
          "t_dat": "2019-03-06T00:00:00"
         },
         {
          "num_sales": 44575,
          "num_unique_articles": 10705,
          "num_unique_customers": 12597,
          "revenue": 1256.239440677964,
          "t_dat": "2019-03-07T00:00:00"
         },
         {
          "num_sales": 39791,
          "num_unique_articles": 10304,
          "num_unique_customers": 12057,
          "revenue": 1124.1032881355914,
          "t_dat": "2019-03-08T00:00:00"
         },
         {
          "num_sales": 40750,
          "num_unique_articles": 10529,
          "num_unique_customers": 12091,
          "revenue": 1145.8108474576252,
          "t_dat": "2019-03-09T00:00:00"
         },
         {
          "num_sales": 39697,
          "num_unique_articles": 9682,
          "num_unique_customers": 9645,
          "revenue": 1137.2995762711846,
          "t_dat": "2019-03-10T00:00:00"
         },
         {
          "num_sales": 35607,
          "num_unique_articles": 9091,
          "num_unique_customers": 9469,
          "revenue": 1042.212016949151,
          "t_dat": "2019-03-11T00:00:00"
         },
         {
          "num_sales": 37488,
          "num_unique_articles": 9694,
          "num_unique_customers": 10022,
          "revenue": 1097.7771525423711,
          "t_dat": "2019-03-12T00:00:00"
         },
         {
          "num_sales": 45230,
          "num_unique_articles": 10704,
          "num_unique_customers": 11901,
          "revenue": 1295.0294745762692,
          "t_dat": "2019-03-13T00:00:00"
         },
         {
          "num_sales": 39055,
          "num_unique_articles": 10026,
          "num_unique_customers": 10960,
          "revenue": 1112.1995084745745,
          "t_dat": "2019-03-14T00:00:00"
         },
         {
          "num_sales": 37282,
          "num_unique_articles": 10127,
          "num_unique_customers": 10969,
          "revenue": 1056.1240677966084,
          "t_dat": "2019-03-15T00:00:00"
         },
         {
          "num_sales": 51837,
          "num_unique_articles": 12213,
          "num_unique_customers": 14207,
          "revenue": 1421.5574067796585,
          "t_dat": "2019-03-16T00:00:00"
         },
         {
          "num_sales": 39506,
          "num_unique_articles": 9747,
          "num_unique_customers": 10087,
          "revenue": 1131.572966101693,
          "t_dat": "2019-03-17T00:00:00"
         },
         {
          "num_sales": 31074,
          "num_unique_articles": 8593,
          "num_unique_customers": 8348,
          "revenue": 891.4826610169476,
          "t_dat": "2019-03-18T00:00:00"
         },
         {
          "num_sales": 35556,
          "num_unique_articles": 9421,
          "num_unique_customers": 10200,
          "revenue": 1044.334457627117,
          "t_dat": "2019-03-19T00:00:00"
         },
         {
          "num_sales": 41505,
          "num_unique_articles": 10396,
          "num_unique_customers": 11699,
          "revenue": 1239.924932203388,
          "t_dat": "2019-03-20T00:00:00"
         },
         {
          "num_sales": 41778,
          "num_unique_articles": 10060,
          "num_unique_customers": 12317,
          "revenue": 1402.4353559322014,
          "t_dat": "2019-03-21T00:00:00"
         },
         {
          "num_sales": 43836,
          "num_unique_articles": 10474,
          "num_unique_customers": 13618,
          "revenue": 1295.3227966101674,
          "t_dat": "2019-03-22T00:00:00"
         },
         {
          "num_sales": 44283,
          "num_unique_articles": 10832,
          "num_unique_customers": 13727,
          "revenue": 1265.4963389830486,
          "t_dat": "2019-03-23T00:00:00"
         },
         {
          "num_sales": 40788,
          "num_unique_articles": 10046,
          "num_unique_customers": 10510,
          "revenue": 1205.8810338983033,
          "t_dat": "2019-03-24T00:00:00"
         },
         {
          "num_sales": 37437,
          "num_unique_articles": 9610,
          "num_unique_customers": 10393,
          "revenue": 1141.7002881355913,
          "t_dat": "2019-03-25T00:00:00"
         },
         {
          "num_sales": 47173,
          "num_unique_articles": 10503,
          "num_unique_customers": 12719,
          "revenue": 1438.56394915254,
          "t_dat": "2019-03-26T00:00:00"
         },
         {
          "num_sales": 49139,
          "num_unique_articles": 11125,
          "num_unique_customers": 13183,
          "revenue": 1497.0842711864384,
          "t_dat": "2019-03-27T00:00:00"
         },
         {
          "num_sales": 47074,
          "num_unique_articles": 10773,
          "num_unique_customers": 13348,
          "revenue": 1438.502847457625,
          "t_dat": "2019-03-28T00:00:00"
         },
         {
          "num_sales": 47539,
          "num_unique_articles": 10895,
          "num_unique_customers": 14169,
          "revenue": 1421.036474576269,
          "t_dat": "2019-03-29T00:00:00"
         },
         {
          "num_sales": 49560,
          "num_unique_articles": 11182,
          "num_unique_customers": 14473,
          "revenue": 1441.8075254237265,
          "t_dat": "2019-03-30T00:00:00"
         },
         {
          "num_sales": 46603,
          "num_unique_articles": 10909,
          "num_unique_customers": 11501,
          "revenue": 1389.3723728813536,
          "t_dat": "2019-03-31T00:00:00"
         },
         {
          "num_sales": 43981,
          "num_unique_articles": 10241,
          "num_unique_customers": 11781,
          "revenue": 1342.9218644067776,
          "t_dat": "2019-04-01T00:00:00"
         },
         {
          "num_sales": 42351,
          "num_unique_articles": 10174,
          "num_unique_customers": 11419,
          "revenue": 1290.3167118644049,
          "t_dat": "2019-04-02T00:00:00"
         },
         {
          "num_sales": 44936,
          "num_unique_articles": 10698,
          "num_unique_customers": 12522,
          "revenue": 1360.2897796610148,
          "t_dat": "2019-04-03T00:00:00"
         },
         {
          "num_sales": 42650,
          "num_unique_articles": 10383,
          "num_unique_customers": 12531,
          "revenue": 1290.2533220338962,
          "t_dat": "2019-04-04T00:00:00"
         },
         {
          "num_sales": 40220,
          "num_unique_articles": 10069,
          "num_unique_customers": 12238,
          "revenue": 1186.080338983049,
          "t_dat": "2019-04-05T00:00:00"
         },
         {
          "num_sales": 119601,
          "num_unique_articles": 14904,
          "num_unique_customers": 25693,
          "revenue": 3100.9048983050784,
          "t_dat": "2019-04-06T00:00:00"
         },
         {
          "num_sales": 40873,
          "num_unique_articles": 9951,
          "num_unique_customers": 10219,
          "revenue": 1176.9502542372861,
          "t_dat": "2019-04-07T00:00:00"
         },
         {
          "num_sales": 34419,
          "num_unique_articles": 9121,
          "num_unique_customers": 9356,
          "revenue": 1029.0689661016934,
          "t_dat": "2019-04-08T00:00:00"
         },
         {
          "num_sales": 39942,
          "num_unique_articles": 10127,
          "num_unique_customers": 10849,
          "revenue": 1214.9952881355912,
          "t_dat": "2019-04-09T00:00:00"
         },
         {
          "num_sales": 43708,
          "num_unique_articles": 10751,
          "num_unique_customers": 11517,
          "revenue": 1298.5103898305063,
          "t_dat": "2019-04-10T00:00:00"
         },
         {
          "num_sales": 41695,
          "num_unique_articles": 10109,
          "num_unique_customers": 11718,
          "revenue": 1375.8490847457606,
          "t_dat": "2019-04-11T00:00:00"
         },
         {
          "num_sales": 41923,
          "num_unique_articles": 10506,
          "num_unique_customers": 12146,
          "revenue": 1255.2261016949133,
          "t_dat": "2019-04-12T00:00:00"
         },
         {
          "num_sales": 44852,
          "num_unique_articles": 10900,
          "num_unique_customers": 12958,
          "revenue": 1288.4630677966081,
          "t_dat": "2019-04-13T00:00:00"
         },
         {
          "num_sales": 42322,
          "num_unique_articles": 10303,
          "num_unique_customers": 10270,
          "revenue": 1290.652406779659,
          "t_dat": "2019-04-14T00:00:00"
         },
         {
          "num_sales": 41713,
          "num_unique_articles": 10196,
          "num_unique_customers": 10828,
          "revenue": 1269.7375762711845,
          "t_dat": "2019-04-15T00:00:00"
         },
         {
          "num_sales": 44930,
          "num_unique_articles": 10622,
          "num_unique_customers": 12124,
          "revenue": 1370.9560847457606,
          "t_dat": "2019-04-16T00:00:00"
         },
         {
          "num_sales": 45191,
          "num_unique_articles": 11371,
          "num_unique_customers": 12105,
          "revenue": 1305.7717627118623,
          "t_dat": "2019-04-17T00:00:00"
         },
         {
          "num_sales": 47593,
          "num_unique_articles": 11565,
          "num_unique_customers": 13466,
          "revenue": 1364.7494067796588,
          "t_dat": "2019-04-18T00:00:00"
         },
         {
          "num_sales": 53188,
          "num_unique_articles": 11962,
          "num_unique_customers": 14802,
          "revenue": 1459.77294915254,
          "t_dat": "2019-04-19T00:00:00"
         },
         {
          "num_sales": 55558,
          "num_unique_articles": 11983,
          "num_unique_customers": 15188,
          "revenue": 1503.6065084745737,
          "t_dat": "2019-04-20T00:00:00"
         },
         {
          "num_sales": 32616,
          "num_unique_articles": 7707,
          "num_unique_customers": 6526,
          "revenue": 1000.2112203389814,
          "t_dat": "2019-04-21T00:00:00"
         },
         {
          "num_sales": 45237,
          "num_unique_articles": 9810,
          "num_unique_customers": 9851,
          "revenue": 1313.7510508474554,
          "t_dat": "2019-04-22T00:00:00"
         },
         {
          "num_sales": 61860,
          "num_unique_articles": 11777,
          "num_unique_customers": 15274,
          "revenue": 1775.1010338983021,
          "t_dat": "2019-04-23T00:00:00"
         },
         {
          "num_sales": 80711,
          "num_unique_articles": 13179,
          "num_unique_customers": 20044,
          "revenue": 2223.121186440674,
          "t_dat": "2019-04-24T00:00:00"
         },
         {
          "num_sales": 63624,
          "num_unique_articles": 12249,
          "num_unique_customers": 17472,
          "revenue": 1786.259440677963,
          "t_dat": "2019-04-25T00:00:00"
         },
         {
          "num_sales": 54735,
          "num_unique_articles": 11590,
          "num_unique_customers": 16109,
          "revenue": 1536.428050847455,
          "t_dat": "2019-04-26T00:00:00"
         },
         {
          "num_sales": 29402,
          "num_unique_articles": 8977,
          "num_unique_customers": 7395,
          "revenue": 874.5827288135579,
          "t_dat": "2019-04-27T00:00:00"
         },
         {
          "num_sales": 44907,
          "num_unique_articles": 10641,
          "num_unique_customers": 10819,
          "revenue": 1317.4582372881334,
          "t_dat": "2019-04-28T00:00:00"
         },
         {
          "num_sales": 48190,
          "num_unique_articles": 10873,
          "num_unique_customers": 12561,
          "revenue": 1404.1479999999976,
          "t_dat": "2019-04-29T00:00:00"
         },
         {
          "num_sales": 63526,
          "num_unique_articles": 14007,
          "num_unique_customers": 16026,
          "revenue": 1818.849593220336,
          "t_dat": "2019-04-30T00:00:00"
         },
         {
          "num_sales": 72875,
          "num_unique_articles": 13327,
          "num_unique_customers": 17443,
          "revenue": 2081.6301525423696,
          "t_dat": "2019-05-01T00:00:00"
         },
         {
          "num_sales": 68839,
          "num_unique_articles": 12866,
          "num_unique_customers": 17675,
          "revenue": 1979.070627118641,
          "t_dat": "2019-05-02T00:00:00"
         },
         {
          "num_sales": 55773,
          "num_unique_articles": 11740,
          "num_unique_customers": 15283,
          "revenue": 1565.8851864406754,
          "t_dat": "2019-05-03T00:00:00"
         },
         {
          "num_sales": 52336,
          "num_unique_articles": 11539,
          "num_unique_customers": 14431,
          "revenue": 1457.2200338983027,
          "t_dat": "2019-05-04T00:00:00"
         },
         {
          "num_sales": 41956,
          "num_unique_articles": 10207,
          "num_unique_customers": 9645,
          "revenue": 1214.8036610169472,
          "t_dat": "2019-05-05T00:00:00"
         },
         {
          "num_sales": 39273,
          "num_unique_articles": 9892,
          "num_unique_customers": 9913,
          "revenue": 1149.6396779661,
          "t_dat": "2019-05-06T00:00:00"
         },
         {
          "num_sales": 43795,
          "num_unique_articles": 10513,
          "num_unique_customers": 11392,
          "revenue": 1278.827440677964,
          "t_dat": "2019-05-07T00:00:00"
         },
         {
          "num_sales": 44209,
          "num_unique_articles": 10502,
          "num_unique_customers": 11328,
          "revenue": 1301.614627118642,
          "t_dat": "2019-05-08T00:00:00"
         },
         {
          "num_sales": 38693,
          "num_unique_articles": 10026,
          "num_unique_customers": 11164,
          "revenue": 1108.9204406779643,
          "t_dat": "2019-05-09T00:00:00"
         },
         {
          "num_sales": 41585,
          "num_unique_articles": 10266,
          "num_unique_customers": 12022,
          "revenue": 1201.4842711864387,
          "t_dat": "2019-05-10T00:00:00"
         },
         {
          "num_sales": 42390,
          "num_unique_articles": 10601,
          "num_unique_customers": 12636,
          "revenue": 1166.6957627118625,
          "t_dat": "2019-05-11T00:00:00"
         },
         {
          "num_sales": 33240,
          "num_unique_articles": 9273,
          "num_unique_customers": 8241,
          "revenue": 973.6751016949137,
          "t_dat": "2019-05-12T00:00:00"
         },
         {
          "num_sales": 35508,
          "num_unique_articles": 9398,
          "num_unique_customers": 9224,
          "revenue": 1030.4539491525406,
          "t_dat": "2019-05-13T00:00:00"
         },
         {
          "num_sales": 41100,
          "num_unique_articles": 10188,
          "num_unique_customers": 10864,
          "revenue": 1181.2661016949135,
          "t_dat": "2019-05-14T00:00:00"
         },
         {
          "num_sales": 40695,
          "num_unique_articles": 9986,
          "num_unique_customers": 11298,
          "revenue": 1139.0607966101677,
          "t_dat": "2019-05-15T00:00:00"
         },
         {
          "num_sales": 97320,
          "num_unique_articles": 14528,
          "num_unique_customers": 21566,
          "revenue": 2593.487271186436,
          "t_dat": "2019-05-16T00:00:00"
         },
         {
          "num_sales": 41312,
          "num_unique_articles": 10601,
          "num_unique_customers": 12178,
          "revenue": 1144.0053559322016,
          "t_dat": "2019-05-17T00:00:00"
         },
         {
          "num_sales": 47698,
          "num_unique_articles": 11073,
          "num_unique_customers": 13589,
          "revenue": 1309.2937288135572,
          "t_dat": "2019-05-18T00:00:00"
         },
         {
          "num_sales": 37283,
          "num_unique_articles": 9888,
          "num_unique_customers": 9278,
          "revenue": 1058.5984067796594,
          "t_dat": "2019-05-19T00:00:00"
         },
         {
          "num_sales": 43006,
          "num_unique_articles": 10518,
          "num_unique_customers": 11155,
          "revenue": 1224.379372881354,
          "t_dat": "2019-05-20T00:00:00"
         },
         {
          "num_sales": 43676,
          "num_unique_articles": 10763,
          "num_unique_customers": 11644,
          "revenue": 1269.975627118642,
          "t_dat": "2019-05-21T00:00:00"
         },
         {
          "num_sales": 51126,
          "num_unique_articles": 12451,
          "num_unique_customers": 13661,
          "revenue": 1404.8386610169468,
          "t_dat": "2019-05-22T00:00:00"
         },
         {
          "num_sales": 52773,
          "num_unique_articles": 12666,
          "num_unique_customers": 14788,
          "revenue": 1422.8441186440655,
          "t_dat": "2019-05-23T00:00:00"
         },
         {
          "num_sales": 58066,
          "num_unique_articles": 13082,
          "num_unique_customers": 16347,
          "revenue": 1538.0156101694888,
          "t_dat": "2019-05-24T00:00:00"
         },
         {
          "num_sales": 56786,
          "num_unique_articles": 13316,
          "num_unique_customers": 15876,
          "revenue": 1499.2710677966077,
          "t_dat": "2019-05-25T00:00:00"
         },
         {
          "num_sales": 51913,
          "num_unique_articles": 12250,
          "num_unique_customers": 12823,
          "revenue": 1427.1038813559298,
          "t_dat": "2019-05-26T00:00:00"
         },
         {
          "num_sales": 51676,
          "num_unique_articles": 11426,
          "num_unique_customers": 13067,
          "revenue": 1456.1807627118621,
          "t_dat": "2019-05-27T00:00:00"
         },
         {
          "num_sales": 49568,
          "num_unique_articles": 11371,
          "num_unique_customers": 12795,
          "revenue": 1376.2786440677944,
          "t_dat": "2019-05-28T00:00:00"
         },
         {
          "num_sales": 68148,
          "num_unique_articles": 12194,
          "num_unique_customers": 17110,
          "revenue": 1754.032915254234,
          "t_dat": "2019-05-29T00:00:00"
         },
         {
          "num_sales": 47604,
          "num_unique_articles": 11712,
          "num_unique_customers": 11857,
          "revenue": 1287.1520508474555,
          "t_dat": "2019-05-30T00:00:00"
         },
         {
          "num_sales": 70097,
          "num_unique_articles": 13705,
          "num_unique_customers": 19699,
          "revenue": 1761.7970169491496,
          "t_dat": "2019-05-31T00:00:00"
         },
         {
          "num_sales": 62619,
          "num_unique_articles": 12542,
          "num_unique_customers": 17198,
          "revenue": 1611.5732542372855,
          "t_dat": "2019-06-01T00:00:00"
         },
         {
          "num_sales": 58089,
          "num_unique_articles": 11284,
          "num_unique_customers": 12842,
          "revenue": 1546.3614915254211,
          "t_dat": "2019-06-02T00:00:00"
         },
         {
          "num_sales": 52676,
          "num_unique_articles": 11254,
          "num_unique_customers": 12858,
          "revenue": 1459.8275254237265,
          "t_dat": "2019-06-03T00:00:00"
         },
         {
          "num_sales": 51977,
          "num_unique_articles": 11170,
          "num_unique_customers": 13194,
          "revenue": 1431.9574406779636,
          "t_dat": "2019-06-04T00:00:00"
         },
         {
          "num_sales": 53398,
          "num_unique_articles": 11795,
          "num_unique_customers": 13452,
          "revenue": 1463.007457627116,
          "t_dat": "2019-06-05T00:00:00"
         },
         {
          "num_sales": 51953,
          "num_unique_articles": 11409,
          "num_unique_customers": 13965,
          "revenue": 1414.3634067796586,
          "t_dat": "2019-06-06T00:00:00"
         },
         {
          "num_sales": 48905,
          "num_unique_articles": 11372,
          "num_unique_customers": 13570,
          "revenue": 1310.4709322033875,
          "t_dat": "2019-06-07T00:00:00"
         },
         {
          "num_sales": 46384,
          "num_unique_articles": 11264,
          "num_unique_customers": 12978,
          "revenue": 1224.6763220338962,
          "t_dat": "2019-06-08T00:00:00"
         },
         {
          "num_sales": 29798,
          "num_unique_articles": 8505,
          "num_unique_customers": 6316,
          "revenue": 858.8190338983037,
          "t_dat": "2019-06-09T00:00:00"
         },
         {
          "num_sales": 39561,
          "num_unique_articles": 9849,
          "num_unique_customers": 9815,
          "revenue": 1066.3268474576253,
          "t_dat": "2019-06-10T00:00:00"
         },
         {
          "num_sales": 43337,
          "num_unique_articles": 10376,
          "num_unique_customers": 11215,
          "revenue": 1189.776559322032,
          "t_dat": "2019-06-11T00:00:00"
         },
         {
          "num_sales": 36588,
          "num_unique_articles": 9308,
          "num_unique_customers": 9230,
          "revenue": 991.378118644066,
          "t_dat": "2019-06-12T00:00:00"
         },
         {
          "num_sales": 78012,
          "num_unique_articles": 10973,
          "num_unique_customers": 18287,
          "revenue": 2340.5179322033864,
          "t_dat": "2019-06-13T00:00:00"
         },
         {
          "num_sales": 48555,
          "num_unique_articles": 11185,
          "num_unique_customers": 13683,
          "revenue": 1316.7542711864385,
          "t_dat": "2019-06-14T00:00:00"
         },
         {
          "num_sales": 46705,
          "num_unique_articles": 11267,
          "num_unique_customers": 12968,
          "revenue": 1236.1959491525402,
          "t_dat": "2019-06-15T00:00:00"
         },
         {
          "num_sales": 34579,
          "num_unique_articles": 9507,
          "num_unique_customers": 8381,
          "revenue": 959.0459322033882,
          "t_dat": "2019-06-16T00:00:00"
         },
         {
          "num_sales": 50067,
          "num_unique_articles": 11051,
          "num_unique_customers": 12713,
          "revenue": 1355.3135593220316,
          "t_dat": "2019-06-17T00:00:00"
         },
         {
          "num_sales": 60593,
          "num_unique_articles": 11946,
          "num_unique_customers": 15157,
          "revenue": 1613.838932203387,
          "t_dat": "2019-06-18T00:00:00"
         },
         {
          "num_sales": 104052,
          "num_unique_articles": 15268,
          "num_unique_customers": 22232,
          "revenue": 2476.714254237283,
          "t_dat": "2019-06-19T00:00:00"
         },
         {
          "num_sales": 92778,
          "num_unique_articles": 14312,
          "num_unique_customers": 22019,
          "revenue": 2199.0410338983006,
          "t_dat": "2019-06-20T00:00:00"
         },
         {
          "num_sales": 84136,
          "num_unique_articles": 13975,
          "num_unique_customers": 21213,
          "revenue": 2001.1000677966063,
          "t_dat": "2019-06-21T00:00:00"
         },
         {
          "num_sales": 87802,
          "num_unique_articles": 14019,
          "num_unique_customers": 21865,
          "revenue": 2099.9260847457585,
          "t_dat": "2019-06-22T00:00:00"
         },
         {
          "num_sales": 80648,
          "num_unique_articles": 12524,
          "num_unique_customers": 16854,
          "revenue": 1971.1277627118607,
          "t_dat": "2019-06-23T00:00:00"
         },
         {
          "num_sales": 95110,
          "num_unique_articles": 13207,
          "num_unique_customers": 21425,
          "revenue": 2332.4853728813514,
          "t_dat": "2019-06-24T00:00:00"
         },
         {
          "num_sales": 91365,
          "num_unique_articles": 12697,
          "num_unique_customers": 21622,
          "revenue": 2251.667508474572,
          "t_dat": "2019-06-25T00:00:00"
         },
         {
          "num_sales": 96337,
          "num_unique_articles": 13953,
          "num_unique_customers": 23162,
          "revenue": 2296.185915254233,
          "t_dat": "2019-06-26T00:00:00"
         },
         {
          "num_sales": 82326,
          "num_unique_articles": 13286,
          "num_unique_customers": 21574,
          "revenue": 1936.8426779660979,
          "t_dat": "2019-06-27T00:00:00"
         },
         {
          "num_sales": 74998,
          "num_unique_articles": 12903,
          "num_unique_customers": 20162,
          "revenue": 1758.1444406779626,
          "t_dat": "2019-06-28T00:00:00"
         },
         {
          "num_sales": 63192,
          "num_unique_articles": 12091,
          "num_unique_customers": 16184,
          "revenue": 1487.9686779660988,
          "t_dat": "2019-06-29T00:00:00"
         },
         {
          "num_sales": 59662,
          "num_unique_articles": 11962,
          "num_unique_customers": 13695,
          "revenue": 1447.0091016949125,
          "t_dat": "2019-06-30T00:00:00"
         },
         {
          "num_sales": 72375,
          "num_unique_articles": 12792,
          "num_unique_customers": 17580,
          "revenue": 1784.829796610166,
          "t_dat": "2019-07-01T00:00:00"
         },
         {
          "num_sales": 70056,
          "num_unique_articles": 12919,
          "num_unique_customers": 17979,
          "revenue": 1712.9863050847425,
          "t_dat": "2019-07-02T00:00:00"
         },
         {
          "num_sales": 71255,
          "num_unique_articles": 13305,
          "num_unique_customers": 18288,
          "revenue": 1712.1317457627085,
          "t_dat": "2019-07-03T00:00:00"
         },
         {
          "num_sales": 58684,
          "num_unique_articles": 12180,
          "num_unique_customers": 16643,
          "revenue": 1381.0366440677938,
          "t_dat": "2019-07-04T00:00:00"
         },
         {
          "num_sales": 56127,
          "num_unique_articles": 12132,
          "num_unique_customers": 16160,
          "revenue": 1331.6789322033871,
          "t_dat": "2019-07-05T00:00:00"
         },
         {
          "num_sales": 56162,
          "num_unique_articles": 12372,
          "num_unique_customers": 15446,
          "revenue": 1322.9705932203362,
          "t_dat": "2019-07-06T00:00:00"
         },
         {
          "num_sales": 44867,
          "num_unique_articles": 11016,
          "num_unique_customers": 10696,
          "revenue": 1102.6408983050826,
          "t_dat": "2019-07-07T00:00:00"
         },
         {
          "num_sales": 51888,
          "num_unique_articles": 11558,
          "num_unique_customers": 13434,
          "revenue": 1259.399983050845,
          "t_dat": "2019-07-08T00:00:00"
         },
         {
          "num_sales": 54224,
          "num_unique_articles": 11887,
          "num_unique_customers": 14699,
          "revenue": 1271.1681864406753,
          "t_dat": "2019-07-09T00:00:00"
         },
         {
          "num_sales": 63403,
          "num_unique_articles": 12905,
          "num_unique_customers": 16176,
          "revenue": 1440.0581355932172,
          "t_dat": "2019-07-10T00:00:00"
         },
         {
          "num_sales": 58167,
          "num_unique_articles": 12291,
          "num_unique_customers": 15775,
          "revenue": 1281.313338983048,
          "t_dat": "2019-07-11T00:00:00"
         },
         {
          "num_sales": 49104,
          "num_unique_articles": 11533,
          "num_unique_customers": 13344,
          "revenue": 1095.1994576271163,
          "t_dat": "2019-07-12T00:00:00"
         },
         {
          "num_sales": 52472,
          "num_unique_articles": 12150,
          "num_unique_customers": 14146,
          "revenue": 1166.8786610169466,
          "t_dat": "2019-07-13T00:00:00"
         },
         {
          "num_sales": 45379,
          "num_unique_articles": 11069,
          "num_unique_customers": 10576,
          "revenue": 1056.522135593218,
          "t_dat": "2019-07-14T00:00:00"
         },
         {
          "num_sales": 53061,
          "num_unique_articles": 11838,
          "num_unique_customers": 13502,
          "revenue": 1235.0443389830484,
          "t_dat": "2019-07-15T00:00:00"
         },
         {
          "num_sales": 51589,
          "num_unique_articles": 11707,
          "num_unique_customers": 13481,
          "revenue": 1185.55094915254,
          "t_dat": "2019-07-16T00:00:00"
         },
         {
          "num_sales": 60641,
          "num_unique_articles": 12578,
          "num_unique_customers": 15857,
          "revenue": 1331.4280508474546,
          "t_dat": "2019-07-17T00:00:00"
         },
         {
          "num_sales": 57822,
          "num_unique_articles": 12312,
          "num_unique_customers": 15618,
          "revenue": 1279.2386271186413,
          "t_dat": "2019-07-18T00:00:00"
         },
         {
          "num_sales": 52222,
          "num_unique_articles": 11992,
          "num_unique_customers": 14391,
          "revenue": 1158.621796610167,
          "t_dat": "2019-07-19T00:00:00"
         },
         {
          "num_sales": 47872,
          "num_unique_articles": 11747,
          "num_unique_customers": 12846,
          "revenue": 1064.898762711862,
          "t_dat": "2019-07-20T00:00:00"
         },
         {
          "num_sales": 47870,
          "num_unique_articles": 10971,
          "num_unique_customers": 11264,
          "revenue": 1078.5364745762688,
          "t_dat": "2019-07-21T00:00:00"
         },
         {
          "num_sales": 59218,
          "num_unique_articles": 11919,
          "num_unique_customers": 15273,
          "revenue": 1317.729559322031,
          "t_dat": "2019-07-22T00:00:00"
         },
         {
          "num_sales": 63567,
          "num_unique_articles": 12053,
          "num_unique_customers": 16291,
          "revenue": 1423.7246440677936,
          "t_dat": "2019-07-23T00:00:00"
         },
         {
          "num_sales": 124683,
          "num_unique_articles": 14814,
          "num_unique_customers": 24256,
          "revenue": 2217.252830508469,
          "t_dat": "2019-07-24T00:00:00"
         },
         {
          "num_sales": 64314,
          "num_unique_articles": 11882,
          "num_unique_customers": 16047,
          "revenue": 1338.2121694915222,
          "t_dat": "2019-07-25T00:00:00"
         },
         {
          "num_sales": 57071,
          "num_unique_articles": 11711,
          "num_unique_customers": 14319,
          "revenue": 1180.2526949152516,
          "t_dat": "2019-07-26T00:00:00"
         },
         {
          "num_sales": 55024,
          "num_unique_articles": 11964,
          "num_unique_customers": 14669,
          "revenue": 1147.0197796610144,
          "t_dat": "2019-07-27T00:00:00"
         },
         {
          "num_sales": 47989,
          "num_unique_articles": 11200,
          "num_unique_customers": 11351,
          "revenue": 1031.6514915254213,
          "t_dat": "2019-07-28T00:00:00"
         },
         {
          "num_sales": 54247,
          "num_unique_articles": 11592,
          "num_unique_customers": 13960,
          "revenue": 1170.4532881355906,
          "t_dat": "2019-07-29T00:00:00"
         },
         {
          "num_sales": 50802,
          "num_unique_articles": 11524,
          "num_unique_customers": 13337,
          "revenue": 1123.519389830506,
          "t_dat": "2019-07-30T00:00:00"
         },
         {
          "num_sales": 55339,
          "num_unique_articles": 12407,
          "num_unique_customers": 14202,
          "revenue": 1185.1797118644042,
          "t_dat": "2019-07-31T00:00:00"
         },
         {
          "num_sales": 52371,
          "num_unique_articles": 12319,
          "num_unique_customers": 14197,
          "revenue": 1119.9599661016923,
          "t_dat": "2019-08-01T00:00:00"
         },
         {
          "num_sales": 41438,
          "num_unique_articles": 11101,
          "num_unique_customers": 11717,
          "revenue": 890.1683220338963,
          "t_dat": "2019-08-02T00:00:00"
         },
         {
          "num_sales": 40553,
          "num_unique_articles": 11249,
          "num_unique_customers": 11372,
          "revenue": 884.7249322033879,
          "t_dat": "2019-08-03T00:00:00"
         },
         {
          "num_sales": 34634,
          "num_unique_articles": 9952,
          "num_unique_customers": 8493,
          "revenue": 784.974457627117,
          "t_dat": "2019-08-04T00:00:00"
         },
         {
          "num_sales": 44248,
          "num_unique_articles": 11140,
          "num_unique_customers": 11303,
          "revenue": 1018.8517457627097,
          "t_dat": "2019-08-05T00:00:00"
         },
         {
          "num_sales": 48092,
          "num_unique_articles": 11683,
          "num_unique_customers": 12692,
          "revenue": 1081.1596779660995,
          "t_dat": "2019-08-06T00:00:00"
         },
         {
          "num_sales": 46769,
          "num_unique_articles": 11464,
          "num_unique_customers": 12542,
          "revenue": 1087.540135593218,
          "t_dat": "2019-08-07T00:00:00"
         },
         {
          "num_sales": 45867,
          "num_unique_articles": 11457,
          "num_unique_customers": 12821,
          "revenue": 1059.3899152542351,
          "t_dat": "2019-08-08T00:00:00"
         },
         {
          "num_sales": 39561,
          "num_unique_articles": 10780,
          "num_unique_customers": 10954,
          "revenue": 929.4704745762693,
          "t_dat": "2019-08-09T00:00:00"
         },
         {
          "num_sales": 41323,
          "num_unique_articles": 11190,
          "num_unique_customers": 11620,
          "revenue": 972.6074406779642,
          "t_dat": "2019-08-10T00:00:00"
         },
         {
          "num_sales": 32932,
          "num_unique_articles": 9623,
          "num_unique_customers": 8226,
          "revenue": 819.7877627118629,
          "t_dat": "2019-08-11T00:00:00"
         },
         {
          "num_sales": 39689,
          "num_unique_articles": 10421,
          "num_unique_customers": 10484,
          "revenue": 1010.7411355932185,
          "t_dat": "2019-08-12T00:00:00"
         },
         {
          "num_sales": 45355,
          "num_unique_articles": 11130,
          "num_unique_customers": 12018,
          "revenue": 1105.3955254237267,
          "t_dat": "2019-08-13T00:00:00"
         },
         {
          "num_sales": 53274,
          "num_unique_articles": 12275,
          "num_unique_customers": 13398,
          "revenue": 1185.2061694915228,
          "t_dat": "2019-08-14T00:00:00"
         },
         {
          "num_sales": 51943,
          "num_unique_articles": 12401,
          "num_unique_customers": 13297,
          "revenue": 1156.0950338983027,
          "t_dat": "2019-08-15T00:00:00"
         },
         {
          "num_sales": 45866,
          "num_unique_articles": 11957,
          "num_unique_customers": 12384,
          "revenue": 1033.923288135591,
          "t_dat": "2019-08-16T00:00:00"
         },
         {
          "num_sales": 43572,
          "num_unique_articles": 11526,
          "num_unique_customers": 11733,
          "revenue": 1001.8229830508454,
          "t_dat": "2019-08-17T00:00:00"
         },
         {
          "num_sales": 45329,
          "num_unique_articles": 10996,
          "num_unique_customers": 10292,
          "revenue": 1094.541254237286,
          "t_dat": "2019-08-18T00:00:00"
         },
         {
          "num_sales": 39571,
          "num_unique_articles": 10697,
          "num_unique_customers": 10629,
          "revenue": 988.4832372881336,
          "t_dat": "2019-08-19T00:00:00"
         },
         {
          "num_sales": 41351,
          "num_unique_articles": 10631,
          "num_unique_customers": 11824,
          "revenue": 1085.4184576271166,
          "t_dat": "2019-08-20T00:00:00"
         },
         {
          "num_sales": 42056,
          "num_unique_articles": 10601,
          "num_unique_customers": 12162,
          "revenue": 1117.1952881355912,
          "t_dat": "2019-08-21T00:00:00"
         },
         {
          "num_sales": 40190,
          "num_unique_articles": 10405,
          "num_unique_customers": 12491,
          "revenue": 1058.375932203388,
          "t_dat": "2019-08-22T00:00:00"
         },
         {
          "num_sales": 35626,
          "num_unique_articles": 9854,
          "num_unique_customers": 11631,
          "revenue": 915.3724406779644,
          "t_dat": "2019-08-23T00:00:00"
         },
         {
          "num_sales": 32581,
          "num_unique_articles": 9416,
          "num_unique_customers": 10352,
          "revenue": 841.139423728812,
          "t_dat": "2019-08-24T00:00:00"
         },
         {
          "num_sales": 28313,
          "num_unique_articles": 8672,
          "num_unique_customers": 7821,
          "revenue": 762.7794915254224,
          "t_dat": "2019-08-25T00:00:00"
         },
         {
          "num_sales": 31842,
          "num_unique_articles": 9196,
          "num_unique_customers": 9363,
          "revenue": 892.4742881355917,
          "t_dat": "2019-08-26T00:00:00"
         },
         {
          "num_sales": 31754,
          "num_unique_articles": 9311,
          "num_unique_customers": 9525,
          "revenue": 871.7882542372865,
          "t_dat": "2019-08-27T00:00:00"
         },
         {
          "num_sales": 34884,
          "num_unique_articles": 9847,
          "num_unique_customers": 10426,
          "revenue": 954.7421016949136,
          "t_dat": "2019-08-28T00:00:00"
         },
         {
          "num_sales": 38002,
          "num_unique_articles": 10105,
          "num_unique_customers": 11945,
          "revenue": 1048.6060677966084,
          "t_dat": "2019-08-29T00:00:00"
         },
         {
          "num_sales": 34681,
          "num_unique_articles": 9809,
          "num_unique_customers": 11249,
          "revenue": 959.1170338983034,
          "t_dat": "2019-08-30T00:00:00"
         },
         {
          "num_sales": 29863,
          "num_unique_articles": 9185,
          "num_unique_customers": 9393,
          "revenue": 813.9944915254223,
          "t_dat": "2019-08-31T00:00:00"
         },
         {
          "num_sales": 33228,
          "num_unique_articles": 9206,
          "num_unique_customers": 9171,
          "revenue": 982.552305084744,
          "t_dat": "2019-09-01T00:00:00"
         },
         {
          "num_sales": 33078,
          "num_unique_articles": 8901,
          "num_unique_customers": 9707,
          "revenue": 1032.6766610169475,
          "t_dat": "2019-09-02T00:00:00"
         },
         {
          "num_sales": 33981,
          "num_unique_articles": 8858,
          "num_unique_customers": 9849,
          "revenue": 1060.3185084745746,
          "t_dat": "2019-09-03T00:00:00"
         },
         {
          "num_sales": 34530,
          "num_unique_articles": 8913,
          "num_unique_customers": 10182,
          "revenue": 1086.7353728813541,
          "t_dat": "2019-09-04T00:00:00"
         },
         {
          "num_sales": 43200,
          "num_unique_articles": 10188,
          "num_unique_customers": 13041,
          "revenue": 1549.0567118644046,
          "t_dat": "2019-09-05T00:00:00"
         },
         {
          "num_sales": 38762,
          "num_unique_articles": 9633,
          "num_unique_customers": 12245,
          "revenue": 1240.1380169491506,
          "t_dat": "2019-09-06T00:00:00"
         },
         {
          "num_sales": 39480,
          "num_unique_articles": 9845,
          "num_unique_customers": 12413,
          "revenue": 1226.4416101694896,
          "t_dat": "2019-09-07T00:00:00"
         },
         {
          "num_sales": 37052,
          "num_unique_articles": 9668,
          "num_unique_customers": 9936,
          "revenue": 1182.8484576271169,
          "t_dat": "2019-09-08T00:00:00"
         },
         {
          "num_sales": 33377,
          "num_unique_articles": 8465,
          "num_unique_customers": 9621,
          "revenue": 1101.3542033898289,
          "t_dat": "2019-09-09T00:00:00"
         },
         {
          "num_sales": 37719,
          "num_unique_articles": 9099,
          "num_unique_customers": 10793,
          "revenue": 1241.737372881354,
          "t_dat": "2019-09-10T00:00:00"
         },
         {
          "num_sales": 36096,
          "num_unique_articles": 8845,
          "num_unique_customers": 10500,
          "revenue": 1204.9480677966083,
          "t_dat": "2019-09-11T00:00:00"
         },
         {
          "num_sales": 35417,
          "num_unique_articles": 8789,
          "num_unique_customers": 11275,
          "revenue": 1148.4454067796592,
          "t_dat": "2019-09-12T00:00:00"
         },
         {
          "num_sales": 36761,
          "num_unique_articles": 9143,
          "num_unique_customers": 12010,
          "revenue": 1211.0869152542355,
          "t_dat": "2019-09-13T00:00:00"
         },
         {
          "num_sales": 35936,
          "num_unique_articles": 9207,
          "num_unique_customers": 11896,
          "revenue": 1134.619966101693,
          "t_dat": "2019-09-14T00:00:00"
         },
         {
          "num_sales": 31112,
          "num_unique_articles": 8567,
          "num_unique_customers": 8615,
          "revenue": 1026.869237288134,
          "t_dat": "2019-09-15T00:00:00"
         },
         {
          "num_sales": 33716,
          "num_unique_articles": 8503,
          "num_unique_customers": 9773,
          "revenue": 1164.2393220338965,
          "t_dat": "2019-09-16T00:00:00"
         },
         {
          "num_sales": 37008,
          "num_unique_articles": 8961,
          "num_unique_customers": 10857,
          "revenue": 1283.9132033898286,
          "t_dat": "2019-09-17T00:00:00"
         },
         {
          "num_sales": 39063,
          "num_unique_articles": 9226,
          "num_unique_customers": 11871,
          "revenue": 1333.731406779659,
          "t_dat": "2019-09-18T00:00:00"
         },
         {
          "num_sales": 36491,
          "num_unique_articles": 8846,
          "num_unique_customers": 11669,
          "revenue": 1230.0396101694896,
          "t_dat": "2019-09-19T00:00:00"
         },
         {
          "num_sales": 31508,
          "num_unique_articles": 8239,
          "num_unique_customers": 11019,
          "revenue": 1023.6388813559306,
          "t_dat": "2019-09-20T00:00:00"
         },
         {
          "num_sales": 20542,
          "num_unique_articles": 6586,
          "num_unique_customers": 7485,
          "revenue": 655.6502711864396,
          "t_dat": "2019-09-21T00:00:00"
         },
         {
          "num_sales": 33950,
          "num_unique_articles": 8837,
          "num_unique_customers": 9369,
          "revenue": 1168.962271186439,
          "t_dat": "2019-09-22T00:00:00"
         },
         {
          "num_sales": 34076,
          "num_unique_articles": 8537,
          "num_unique_customers": 9766,
          "revenue": 1197.5768305084728,
          "t_dat": "2019-09-23T00:00:00"
         },
         {
          "num_sales": 36702,
          "num_unique_articles": 8608,
          "num_unique_customers": 10975,
          "revenue": 1262.190152542371,
          "t_dat": "2019-09-24T00:00:00"
         },
         {
          "num_sales": 41256,
          "num_unique_articles": 9280,
          "num_unique_customers": 12497,
          "revenue": 1415.247220338981,
          "t_dat": "2019-09-25T00:00:00"
         },
         {
          "num_sales": 37128,
          "num_unique_articles": 8699,
          "num_unique_customers": 11757,
          "revenue": 1325.1101016949133,
          "t_dat": "2019-09-26T00:00:00"
         },
         {
          "num_sales": 35597,
          "num_unique_articles": 8806,
          "num_unique_customers": 12208,
          "revenue": 1187.1600677966082,
          "t_dat": "2019-09-27T00:00:00"
         },
         {
          "num_sales": 198622,
          "num_unique_articles": 16132,
          "num_unique_customers": 42062,
          "revenue": 6161.6030677966,
          "t_dat": "2019-09-28T00:00:00"
         },
         {
          "num_sales": 40043,
          "num_unique_articles": 9161,
          "num_unique_customers": 11192,
          "revenue": 1359.990254237286,
          "t_dat": "2019-09-29T00:00:00"
         },
         {
          "num_sales": 31747,
          "num_unique_articles": 8307,
          "num_unique_customers": 9744,
          "revenue": 1105.1683898305068,
          "t_dat": "2019-09-30T00:00:00"
         },
         {
          "num_sales": 40412,
          "num_unique_articles": 9323,
          "num_unique_customers": 12277,
          "revenue": 1437.1608644067776,
          "t_dat": "2019-10-01T00:00:00"
         },
         {
          "num_sales": 63452,
          "num_unique_articles": 11953,
          "num_unique_customers": 17246,
          "revenue": 1928.3217288135563,
          "t_dat": "2019-10-02T00:00:00"
         },
         {
          "num_sales": 50775,
          "num_unique_articles": 10777,
          "num_unique_customers": 15203,
          "revenue": 1567.3220847457603,
          "t_dat": "2019-10-03T00:00:00"
         },
         {
          "num_sales": 43558,
          "num_unique_articles": 9924,
          "num_unique_customers": 13320,
          "revenue": 1380.9482711864384,
          "t_dat": "2019-10-04T00:00:00"
         },
         {
          "num_sales": 43387,
          "num_unique_articles": 9967,
          "num_unique_customers": 14440,
          "revenue": 1327.061779661015,
          "t_dat": "2019-10-05T00:00:00"
         },
         {
          "num_sales": 42390,
          "num_unique_articles": 9937,
          "num_unique_customers": 11417,
          "revenue": 1332.6384576271166,
          "t_dat": "2019-10-06T00:00:00"
         },
         {
          "num_sales": 39091,
          "num_unique_articles": 9388,
          "num_unique_customers": 11434,
          "revenue": 1261.8524576271168,
          "t_dat": "2019-10-07T00:00:00"
         },
         {
          "num_sales": 37840,
          "num_unique_articles": 9337,
          "num_unique_customers": 11329,
          "revenue": 1247.9563898305066,
          "t_dat": "2019-10-08T00:00:00"
         },
         {
          "num_sales": 44476,
          "num_unique_articles": 10362,
          "num_unique_customers": 13069,
          "revenue": 1414.9638135593198,
          "t_dat": "2019-10-09T00:00:00"
         },
         {
          "num_sales": 38121,
          "num_unique_articles": 9367,
          "num_unique_customers": 11946,
          "revenue": 1198.6797627118626,
          "t_dat": "2019-10-10T00:00:00"
         },
         {
          "num_sales": 32866,
          "num_unique_articles": 8869,
          "num_unique_customers": 10724,
          "revenue": 1031.0618813559306,
          "t_dat": "2019-10-11T00:00:00"
         },
         {
          "num_sales": 36954,
          "num_unique_articles": 9284,
          "num_unique_customers": 12449,
          "revenue": 1154.5268644067778,
          "t_dat": "2019-10-12T00:00:00"
         },
         {
          "num_sales": 33358,
          "num_unique_articles": 9273,
          "num_unique_customers": 9442,
          "revenue": 1027.680644067795,
          "t_dat": "2019-10-13T00:00:00"
         },
         {
          "num_sales": 31945,
          "num_unique_articles": 8832,
          "num_unique_customers": 9644,
          "revenue": 999.3247457627103,
          "t_dat": "2019-10-14T00:00:00"
         },
         {
          "num_sales": 34410,
          "num_unique_articles": 9291,
          "num_unique_customers": 10981,
          "revenue": 1102.7700338983034,
          "t_dat": "2019-10-15T00:00:00"
         },
         {
          "num_sales": 37522,
          "num_unique_articles": 9564,
          "num_unique_customers": 11667,
          "revenue": 1182.1400338983033,
          "t_dat": "2019-10-16T00:00:00"
         },
         {
          "num_sales": 31801,
          "num_unique_articles": 8641,
          "num_unique_customers": 11059,
          "revenue": 998.3453220338968,
          "t_dat": "2019-10-17T00:00:00"
         },
         {
          "num_sales": 29189,
          "num_unique_articles": 8259,
          "num_unique_customers": 10521,
          "revenue": 919.0261186440664,
          "t_dat": "2019-10-18T00:00:00"
         },
         {
          "num_sales": 32588,
          "num_unique_articles": 8646,
          "num_unique_customers": 11591,
          "revenue": 1032.0394576271171,
          "t_dat": "2019-10-19T00:00:00"
         },
         {
          "num_sales": 27989,
          "num_unique_articles": 7965,
          "num_unique_customers": 8422,
          "revenue": 929.3257966101681,
          "t_dat": "2019-10-20T00:00:00"
         },
         {
          "num_sales": 31697,
          "num_unique_articles": 8424,
          "num_unique_customers": 10349,
          "revenue": 1051.1994915254222,
          "t_dat": "2019-10-21T00:00:00"
         },
         {
          "num_sales": 35293,
          "num_unique_articles": 8992,
          "num_unique_customers": 11858,
          "revenue": 1148.1024745762695,
          "t_dat": "2019-10-22T00:00:00"
         },
         {
          "num_sales": 37008,
          "num_unique_articles": 9114,
          "num_unique_customers": 12452,
          "revenue": 1216.9202711864389,
          "t_dat": "2019-10-23T00:00:00"
         },
         {
          "num_sales": 37675,
          "num_unique_articles": 9110,
          "num_unique_customers": 13158,
          "revenue": 1221.2819661016931,
          "t_dat": "2019-10-24T00:00:00"
         },
         {
          "num_sales": 37261,
          "num_unique_articles": 9109,
          "num_unique_customers": 13462,
          "revenue": 1204.8221016949135,
          "t_dat": "2019-10-25T00:00:00"
         },
         {
          "num_sales": 34845,
          "num_unique_articles": 8955,
          "num_unique_customers": 12379,
          "revenue": 1119.1237457627103,
          "t_dat": "2019-10-26T00:00:00"
         },
         {
          "num_sales": 33399,
          "num_unique_articles": 8563,
          "num_unique_customers": 10457,
          "revenue": 1122.22261016949,
          "t_dat": "2019-10-27T00:00:00"
         },
         {
          "num_sales": 29691,
          "num_unique_articles": 8089,
          "num_unique_customers": 9556,
          "revenue": 1040.8022711864392,
          "t_dat": "2019-10-28T00:00:00"
         },
         {
          "num_sales": 30235,
          "num_unique_articles": 8305,
          "num_unique_customers": 9912,
          "revenue": 1052.175796610168,
          "t_dat": "2019-10-29T00:00:00"
         },
         {
          "num_sales": 34411,
          "num_unique_articles": 8866,
          "num_unique_customers": 11200,
          "revenue": 1191.619491525422,
          "t_dat": "2019-10-30T00:00:00"
         },
         {
          "num_sales": 33133,
          "num_unique_articles": 8660,
          "num_unique_customers": 11219,
          "revenue": 1146.291864406778,
          "t_dat": "2019-10-31T00:00:00"
         },
         {
          "num_sales": 32518,
          "num_unique_articles": 8683,
          "num_unique_customers": 11380,
          "revenue": 1118.763237288134,
          "t_dat": "2019-11-01T00:00:00"
         },
         {
          "num_sales": 35299,
          "num_unique_articles": 9043,
          "num_unique_customers": 12569,
          "revenue": 1208.7732033898287,
          "t_dat": "2019-11-02T00:00:00"
         },
         {
          "num_sales": 84406,
          "num_unique_articles": 11698,
          "num_unique_customers": 20415,
          "revenue": 2738.4624576271144,
          "t_dat": "2019-11-03T00:00:00"
         },
         {
          "num_sales": 28038,
          "num_unique_articles": 8162,
          "num_unique_customers": 8981,
          "revenue": 974.1735932203376,
          "t_dat": "2019-11-04T00:00:00"
         },
         {
          "num_sales": 28336,
          "num_unique_articles": 8253,
          "num_unique_customers": 9462,
          "revenue": 987.2824745762698,
          "t_dat": "2019-11-05T00:00:00"
         },
         {
          "num_sales": 29694,
          "num_unique_articles": 8483,
          "num_unique_customers": 10382,
          "revenue": 1009.4259661016935,
          "t_dat": "2019-11-06T00:00:00"
         },
         {
          "num_sales": 28221,
          "num_unique_articles": 8119,
          "num_unique_customers": 9865,
          "revenue": 965.6569322033885,
          "t_dat": "2019-11-07T00:00:00"
         },
         {
          "num_sales": 30760,
          "num_unique_articles": 8538,
          "num_unique_customers": 11392,
          "revenue": 1036.3715084745747,
          "t_dat": "2019-11-08T00:00:00"
         },
         {
          "num_sales": 31131,
          "num_unique_articles": 8576,
          "num_unique_customers": 11451,
          "revenue": 1039.170983050846,
          "t_dat": "2019-11-09T00:00:00"
         },
         {
          "num_sales": 25462,
          "num_unique_articles": 7822,
          "num_unique_customers": 8305,
          "revenue": 888.7046271186429,
          "t_dat": "2019-11-10T00:00:00"
         },
         {
          "num_sales": 41049,
          "num_unique_articles": 9196,
          "num_unique_customers": 12479,
          "revenue": 1412.9390169491505,
          "t_dat": "2019-11-11T00:00:00"
         },
         {
          "num_sales": 25201,
          "num_unique_articles": 7704,
          "num_unique_customers": 8713,
          "revenue": 897.3929152542361,
          "t_dat": "2019-11-12T00:00:00"
         },
         {
          "num_sales": 27669,
          "num_unique_articles": 8058,
          "num_unique_customers": 9442,
          "revenue": 957.5164406779647,
          "t_dat": "2019-11-13T00:00:00"
         },
         {
          "num_sales": 28256,
          "num_unique_articles": 8048,
          "num_unique_customers": 10171,
          "revenue": 985.5495762711851,
          "t_dat": "2019-11-14T00:00:00"
         },
         {
          "num_sales": 28366,
          "num_unique_articles": 8042,
          "num_unique_customers": 10646,
          "revenue": 968.8953050847443,
          "t_dat": "2019-11-15T00:00:00"
         },
         {
          "num_sales": 31297,
          "num_unique_articles": 8534,
          "num_unique_customers": 11765,
          "revenue": 1058.694644067795,
          "t_dat": "2019-11-16T00:00:00"
         },
         {
          "num_sales": 25967,
          "num_unique_articles": 8060,
          "num_unique_customers": 8401,
          "revenue": 921.0244576271174,
          "t_dat": "2019-11-17T00:00:00"
         },
         {
          "num_sales": 23989,
          "num_unique_articles": 7551,
          "num_unique_customers": 7955,
          "revenue": 867.4640338983039,
          "t_dat": "2019-11-18T00:00:00"
         },
         {
          "num_sales": 25831,
          "num_unique_articles": 7833,
          "num_unique_customers": 8728,
          "revenue": 913.2263389830496,
          "t_dat": "2019-11-19T00:00:00"
         },
         {
          "num_sales": 29013,
          "num_unique_articles": 8257,
          "num_unique_customers": 10265,
          "revenue": 1009.168355932202,
          "t_dat": "2019-11-20T00:00:00"
         },
         {
          "num_sales": 28532,
          "num_unique_articles": 8201,
          "num_unique_customers": 10474,
          "revenue": 985.61254237288,
          "t_dat": "2019-11-21T00:00:00"
         },
         {
          "num_sales": 30161,
          "num_unique_articles": 8253,
          "num_unique_customers": 11350,
          "revenue": 1007.4625084745747,
          "t_dat": "2019-11-22T00:00:00"
         },
         {
          "num_sales": 31419,
          "num_unique_articles": 8611,
          "num_unique_customers": 11825,
          "revenue": 1019.1101525423713,
          "t_dat": "2019-11-23T00:00:00"
         },
         {
          "num_sales": 25957,
          "num_unique_articles": 7898,
          "num_unique_customers": 8939,
          "revenue": 868.946728813558,
          "t_dat": "2019-11-24T00:00:00"
         },
         {
          "num_sales": 38160,
          "num_unique_articles": 8214,
          "num_unique_customers": 12595,
          "revenue": 1199.4700169491507,
          "t_dat": "2019-11-25T00:00:00"
         },
         {
          "num_sales": 37160,
          "num_unique_articles": 8409,
          "num_unique_customers": 12499,
          "revenue": 1174.0162372881337,
          "t_dat": "2019-11-26T00:00:00"
         },
         {
          "num_sales": 33628,
          "num_unique_articles": 8722,
          "num_unique_customers": 12361,
          "revenue": 1245.9616271186424,
          "t_dat": "2019-11-27T00:00:00"
         },
         {
          "num_sales": 106257,
          "num_unique_articles": 13665,
          "num_unique_customers": 28428,
          "revenue": 3103.027932203385,
          "t_dat": "2019-11-28T00:00:00"
         },
         {
          "num_sales": 160875,
          "num_unique_articles": 15392,
          "num_unique_customers": 47643,
          "revenue": 4444.3423898305,
          "t_dat": "2019-11-29T00:00:00"
         },
         {
          "num_sales": 65381,
          "num_unique_articles": 11700,
          "num_unique_customers": 20796,
          "revenue": 1847.813796610166,
          "t_dat": "2019-11-30T00:00:00"
         },
         {
          "num_sales": 68468,
          "num_unique_articles": 9019,
          "num_unique_customers": 19270,
          "revenue": 1806.6985762711834,
          "t_dat": "2019-12-01T00:00:00"
         },
         {
          "num_sales": 60843,
          "num_unique_articles": 8943,
          "num_unique_customers": 18013,
          "revenue": 1626.0400508474547,
          "t_dat": "2019-12-02T00:00:00"
         },
         {
          "num_sales": 22951,
          "num_unique_articles": 7499,
          "num_unique_customers": 8785,
          "revenue": 768.7769152542361,
          "t_dat": "2019-12-03T00:00:00"
         },
         {
          "num_sales": 25105,
          "num_unique_articles": 7906,
          "num_unique_customers": 9615,
          "revenue": 855.7742542372869,
          "t_dat": "2019-12-04T00:00:00"
         },
         {
          "num_sales": 22457,
          "num_unique_articles": 7271,
          "num_unique_customers": 8909,
          "revenue": 758.9953559322023,
          "t_dat": "2019-12-05T00:00:00"
         },
         {
          "num_sales": 24432,
          "num_unique_articles": 7638,
          "num_unique_customers": 9602,
          "revenue": 789.9276440677954,
          "t_dat": "2019-12-06T00:00:00"
         },
         {
          "num_sales": 28188,
          "num_unique_articles": 8093,
          "num_unique_customers": 11094,
          "revenue": 897.8043220338969,
          "t_dat": "2019-12-07T00:00:00"
         },
         {
          "num_sales": 23345,
          "num_unique_articles": 7332,
          "num_unique_customers": 8224,
          "revenue": 793.053881355931,
          "t_dat": "2019-12-08T00:00:00"
         },
         {
          "num_sales": 24980,
          "num_unique_articles": 7666,
          "num_unique_customers": 9070,
          "revenue": 849.9100169491514,
          "t_dat": "2019-12-09T00:00:00"
         },
         {
          "num_sales": 28309,
          "num_unique_articles": 8286,
          "num_unique_customers": 10276,
          "revenue": 940.922915254236,
          "t_dat": "2019-12-10T00:00:00"
         },
         {
          "num_sales": 31451,
          "num_unique_articles": 8790,
          "num_unique_customers": 11561,
          "revenue": 1025.8241186440664,
          "t_dat": "2019-12-11T00:00:00"
         },
         {
          "num_sales": 31493,
          "num_unique_articles": 8459,
          "num_unique_customers": 12253,
          "revenue": 1006.9618305084732,
          "t_dat": "2019-12-12T00:00:00"
         },
         {
          "num_sales": 28924,
          "num_unique_articles": 8281,
          "num_unique_customers": 11141,
          "revenue": 925.9741355932191,
          "t_dat": "2019-12-13T00:00:00"
         },
         {
          "num_sales": 32329,
          "num_unique_articles": 8754,
          "num_unique_customers": 12459,
          "revenue": 987.6616440677952,
          "t_dat": "2019-12-14T00:00:00"
         },
         {
          "num_sales": 28747,
          "num_unique_articles": 8307,
          "num_unique_customers": 10032,
          "revenue": 915.2002372881343,
          "t_dat": "2019-12-15T00:00:00"
         },
         {
          "num_sales": 30041,
          "num_unique_articles": 8711,
          "num_unique_customers": 10706,
          "revenue": 922.2252711864394,
          "t_dat": "2019-12-16T00:00:00"
         },
         {
          "num_sales": 33931,
          "num_unique_articles": 9429,
          "num_unique_customers": 12239,
          "revenue": 968.299983050846,
          "t_dat": "2019-12-17T00:00:00"
         },
         {
          "num_sales": 66070,
          "num_unique_articles": 11641,
          "num_unique_customers": 19751,
          "revenue": 1684.5459830508444,
          "t_dat": "2019-12-18T00:00:00"
         },
         {
          "num_sales": 53330,
          "num_unique_articles": 10819,
          "num_unique_customers": 17140,
          "revenue": 1326.879915254235,
          "t_dat": "2019-12-19T00:00:00"
         },
         {
          "num_sales": 52454,
          "num_unique_articles": 10687,
          "num_unique_customers": 17960,
          "revenue": 1242.2328305084723,
          "t_dat": "2019-12-20T00:00:00"
         },
         {
          "num_sales": 56187,
          "num_unique_articles": 11237,
          "num_unique_customers": 19024,
          "revenue": 1362.9191186440653,
          "t_dat": "2019-12-21T00:00:00"
         },
         {
          "num_sales": 46731,
          "num_unique_articles": 10615,
          "num_unique_customers": 14770,
          "revenue": 1158.312474576269,
          "t_dat": "2019-12-22T00:00:00"
         },
         {
          "num_sales": 51240,
          "num_unique_articles": 10948,
          "num_unique_customers": 17140,
          "revenue": 1208.1923050847433,
          "t_dat": "2019-12-23T00:00:00"
         },
         {
          "num_sales": 37927,
          "num_unique_articles": 9545,
          "num_unique_customers": 13149,
          "revenue": 907.8097796610151,
          "t_dat": "2019-12-24T00:00:00"
         },
         {
          "num_sales": 13637,
          "num_unique_articles": 4660,
          "num_unique_customers": 3854,
          "revenue": 408.18927118644,
          "t_dat": "2019-12-25T00:00:00"
         },
         {
          "num_sales": 20328,
          "num_unique_articles": 6815,
          "num_unique_customers": 6088,
          "revenue": 553.3544576271177,
          "t_dat": "2019-12-26T00:00:00"
         },
         {
          "num_sales": 40678,
          "num_unique_articles": 10956,
          "num_unique_customers": 13916,
          "revenue": 1059.405847457625,
          "t_dat": "2019-12-27T00:00:00"
         },
         {
          "num_sales": 39513,
          "num_unique_articles": 10603,
          "num_unique_customers": 13324,
          "revenue": 1039.74081355932,
          "t_dat": "2019-12-28T00:00:00"
         },
         {
          "num_sales": 34918,
          "num_unique_articles": 9800,
          "num_unique_customers": 10859,
          "revenue": 943.241898305083,
          "t_dat": "2019-12-29T00:00:00"
         },
         {
          "num_sales": 34915,
          "num_unique_articles": 9462,
          "num_unique_customers": 12297,
          "revenue": 908.9407288135576,
          "t_dat": "2019-12-30T00:00:00"
         },
         {
          "num_sales": 24393,
          "num_unique_articles": 7836,
          "num_unique_customers": 8882,
          "revenue": 623.775881355931,
          "t_dat": "2019-12-31T00:00:00"
         },
         {
          "num_sales": 12760,
          "num_unique_articles": 4761,
          "num_unique_customers": 3484,
          "revenue": 384.8911355932197,
          "t_dat": "2020-01-01T00:00:00"
         },
         {
          "num_sales": 44864,
          "num_unique_articles": 10366,
          "num_unique_customers": 13836,
          "revenue": 1161.7539491525401,
          "t_dat": "2020-01-02T00:00:00"
         },
         {
          "num_sales": 46190,
          "num_unique_articles": 10400,
          "num_unique_customers": 13940,
          "revenue": 1151.6487457627095,
          "t_dat": "2020-01-03T00:00:00"
         },
         {
          "num_sales": 44507,
          "num_unique_articles": 10491,
          "num_unique_customers": 13519,
          "revenue": 1123.3146779660995,
          "t_dat": "2020-01-04T00:00:00"
         },
         {
          "num_sales": 34813,
          "num_unique_articles": 8927,
          "num_unique_customers": 9696,
          "revenue": 909.635271186439,
          "t_dat": "2020-01-05T00:00:00"
         },
         {
          "num_sales": 29430,
          "num_unique_articles": 8220,
          "num_unique_customers": 9047,
          "revenue": 793.7943220338968,
          "t_dat": "2020-01-06T00:00:00"
         },
         {
          "num_sales": 29251,
          "num_unique_articles": 8211,
          "num_unique_customers": 9077,
          "revenue": 794.4936949152528,
          "t_dat": "2020-01-07T00:00:00"
         },
         {
          "num_sales": 38700,
          "num_unique_articles": 9344,
          "num_unique_customers": 11281,
          "revenue": 991.6767966101676,
          "t_dat": "2020-01-08T00:00:00"
         },
         {
          "num_sales": 36746,
          "num_unique_articles": 9384,
          "num_unique_customers": 10879,
          "revenue": 940.1402033898287,
          "t_dat": "2020-01-09T00:00:00"
         },
         {
          "num_sales": 34590,
          "num_unique_articles": 9276,
          "num_unique_customers": 10725,
          "revenue": 892.5211525423712,
          "t_dat": "2020-01-10T00:00:00"
         },
         {
          "num_sales": 36101,
          "num_unique_articles": 9607,
          "num_unique_customers": 11691,
          "revenue": 927.8257966101677,
          "t_dat": "2020-01-11T00:00:00"
         },
         {
          "num_sales": 34899,
          "num_unique_articles": 8909,
          "num_unique_customers": 9322,
          "revenue": 941.895898305083,
          "t_dat": "2020-01-12T00:00:00"
         },
         {
          "num_sales": 31333,
          "num_unique_articles": 8480,
          "num_unique_customers": 8885,
          "revenue": 837.942203389829,
          "t_dat": "2020-01-13T00:00:00"
         },
         {
          "num_sales": 32103,
          "num_unique_articles": 8550,
          "num_unique_customers": 9090,
          "revenue": 859.7936610169477,
          "t_dat": "2020-01-14T00:00:00"
         },
         {
          "num_sales": 32972,
          "num_unique_articles": 8772,
          "num_unique_customers": 9413,
          "revenue": 876.0490338983035,
          "t_dat": "2020-01-15T00:00:00"
         },
         {
          "num_sales": 33827,
          "num_unique_articles": 8977,
          "num_unique_customers": 10452,
          "revenue": 894.1049999999984,
          "t_dat": "2020-01-16T00:00:00"
         },
         {
          "num_sales": 31236,
          "num_unique_articles": 8993,
          "num_unique_customers": 9893,
          "revenue": 818.4341694915239,
          "t_dat": "2020-01-17T00:00:00"
         },
         {
          "num_sales": 34025,
          "num_unique_articles": 9460,
          "num_unique_customers": 10897,
          "revenue": 883.1991694915238,
          "t_dat": "2020-01-18T00:00:00"
         },
         {
          "num_sales": 29787,
          "num_unique_articles": 8315,
          "num_unique_customers": 7978,
          "revenue": 801.7902033898291,
          "t_dat": "2020-01-19T00:00:00"
         },
         {
          "num_sales": 29107,
          "num_unique_articles": 8356,
          "num_unique_customers": 8659,
          "revenue": 779.988694915253,
          "t_dat": "2020-01-20T00:00:00"
         },
         {
          "num_sales": 25632,
          "num_unique_articles": 7756,
          "num_unique_customers": 8025,
          "revenue": 693.6894237288124,
          "t_dat": "2020-01-21T00:00:00"
         },
         {
          "num_sales": 34075,
          "num_unique_articles": 9130,
          "num_unique_customers": 10148,
          "revenue": 927.8641186440663,
          "t_dat": "2020-01-22T00:00:00"
         },
         {
          "num_sales": 36257,
          "num_unique_articles": 9578,
          "num_unique_customers": 11402,
          "revenue": 981.1125932203373,
          "t_dat": "2020-01-23T00:00:00"
         },
         {
          "num_sales": 38920,
          "num_unique_articles": 9819,
          "num_unique_customers": 12672,
          "revenue": 1047.5912033898287,
          "t_dat": "2020-01-24T00:00:00"
         },
         {
          "num_sales": 43377,
          "num_unique_articles": 10468,
          "num_unique_customers": 13961,
          "revenue": 1155.7170508474555,
          "t_dat": "2020-01-25T00:00:00"
         },
         {
          "num_sales": 43586,
          "num_unique_articles": 10078,
          "num_unique_customers": 12660,
          "revenue": 1261.9679661016928,
          "t_dat": "2020-01-26T00:00:00"
         },
         {
          "num_sales": 35427,
          "num_unique_articles": 9208,
          "num_unique_customers": 10445,
          "revenue": 1003.5246610169474,
          "t_dat": "2020-01-27T00:00:00"
         },
         {
          "num_sales": 33689,
          "num_unique_articles": 9162,
          "num_unique_customers": 10271,
          "revenue": 941.5572542372867,
          "t_dat": "2020-01-28T00:00:00"
         },
         {
          "num_sales": 36833,
          "num_unique_articles": 9565,
          "num_unique_customers": 11449,
          "revenue": 1035.102457627117,
          "t_dat": "2020-01-29T00:00:00"
         },
         {
          "num_sales": 36058,
          "num_unique_articles": 9362,
          "num_unique_customers": 12031,
          "revenue": 1000.2999322033882,
          "t_dat": "2020-01-30T00:00:00"
         },
         {
          "num_sales": 35259,
          "num_unique_articles": 9218,
          "num_unique_customers": 11914,
          "revenue": 980.263050847456,
          "t_dat": "2020-01-31T00:00:00"
         },
         {
          "num_sales": 38017,
          "num_unique_articles": 9566,
          "num_unique_customers": 12590,
          "revenue": 1046.330525423727,
          "t_dat": "2020-02-01T00:00:00"
         },
         {
          "num_sales": 31387,
          "num_unique_articles": 8368,
          "num_unique_customers": 8831,
          "revenue": 911.4704237288122,
          "t_dat": "2020-02-02T00:00:00"
         },
         {
          "num_sales": 31845,
          "num_unique_articles": 8649,
          "num_unique_customers": 9727,
          "revenue": 913.9196440677952,
          "t_dat": "2020-02-03T00:00:00"
         },
         {
          "num_sales": 30914,
          "num_unique_articles": 8351,
          "num_unique_customers": 9541,
          "revenue": 888.818508474575,
          "t_dat": "2020-02-04T00:00:00"
         },
         {
          "num_sales": 36030,
          "num_unique_articles": 9399,
          "num_unique_customers": 11511,
          "revenue": 1031.7167627118629,
          "t_dat": "2020-02-05T00:00:00"
         },
         {
          "num_sales": 41058,
          "num_unique_articles": 11130,
          "num_unique_customers": 12929,
          "revenue": 1139.3065084745745,
          "t_dat": "2020-02-06T00:00:00"
         },
         {
          "num_sales": 38144,
          "num_unique_articles": 10924,
          "num_unique_customers": 12753,
          "revenue": 1041.4222203389813,
          "t_dat": "2020-02-07T00:00:00"
         },
         {
          "num_sales": 39288,
          "num_unique_articles": 10881,
          "num_unique_customers": 12882,
          "revenue": 1075.7725084745746,
          "t_dat": "2020-02-08T00:00:00"
         },
         {
          "num_sales": 33788,
          "num_unique_articles": 9569,
          "num_unique_customers": 8975,
          "revenue": 984.3282203389816,
          "t_dat": "2020-02-09T00:00:00"
         },
         {
          "num_sales": 30260,
          "num_unique_articles": 8892,
          "num_unique_customers": 9231,
          "revenue": 860.6827457627105,
          "t_dat": "2020-02-10T00:00:00"
         },
         {
          "num_sales": 31588,
          "num_unique_articles": 9115,
          "num_unique_customers": 9920,
          "revenue": 907.1728474576257,
          "t_dat": "2020-02-11T00:00:00"
         },
         {
          "num_sales": 29543,
          "num_unique_articles": 8672,
          "num_unique_customers": 9822,
          "revenue": 844.824881355931,
          "t_dat": "2020-02-12T00:00:00"
         },
         {
          "num_sales": 35157,
          "num_unique_articles": 10148,
          "num_unique_customers": 11121,
          "revenue": 1030.278644067795,
          "t_dat": "2020-02-13T00:00:00"
         },
         {
          "num_sales": 32158,
          "num_unique_articles": 9731,
          "num_unique_customers": 10962,
          "revenue": 900.8352372881342,
          "t_dat": "2020-02-14T00:00:00"
         },
         {
          "num_sales": 37570,
          "num_unique_articles": 10275,
          "num_unique_customers": 12605,
          "revenue": 1041.9955423728798,
          "t_dat": "2020-02-15T00:00:00"
         },
         {
          "num_sales": 32814,
          "num_unique_articles": 8906,
          "num_unique_customers": 9009,
          "revenue": 960.8380847457613,
          "t_dat": "2020-02-16T00:00:00"
         },
         {
          "num_sales": 32415,
          "num_unique_articles": 9204,
          "num_unique_customers": 9728,
          "revenue": 927.0687457627104,
          "t_dat": "2020-02-17T00:00:00"
         },
         {
          "num_sales": 33069,
          "num_unique_articles": 9491,
          "num_unique_customers": 10508,
          "revenue": 940.213796610168,
          "t_dat": "2020-02-18T00:00:00"
         },
         {
          "num_sales": 26943,
          "num_unique_articles": 8628,
          "num_unique_customers": 9048,
          "revenue": 748.2798983050835,
          "t_dat": "2020-02-19T00:00:00"
         },
         {
          "num_sales": 39201,
          "num_unique_articles": 10545,
          "num_unique_customers": 12713,
          "revenue": 1219.9056101694896,
          "t_dat": "2020-02-20T00:00:00"
         },
         {
          "num_sales": 34720,
          "num_unique_articles": 9714,
          "num_unique_customers": 11639,
          "revenue": 968.8737796610153,
          "t_dat": "2020-02-21T00:00:00"
         },
         {
          "num_sales": 34562,
          "num_unique_articles": 9662,
          "num_unique_customers": 10991,
          "revenue": 981.6192203389814,
          "t_dat": "2020-02-22T00:00:00"
         },
         {
          "num_sales": 29957,
          "num_unique_articles": 8515,
          "num_unique_customers": 7984,
          "revenue": 888.319796610168,
          "t_dat": "2020-02-23T00:00:00"
         },
         {
          "num_sales": 30865,
          "num_unique_articles": 8669,
          "num_unique_customers": 8982,
          "revenue": 923.7790677966087,
          "t_dat": "2020-02-24T00:00:00"
         },
         {
          "num_sales": 35114,
          "num_unique_articles": 9573,
          "num_unique_customers": 10862,
          "revenue": 1026.1117118644052,
          "t_dat": "2020-02-25T00:00:00"
         },
         {
          "num_sales": 38859,
          "num_unique_articles": 9924,
          "num_unique_customers": 12119,
          "revenue": 1157.7318305084727,
          "t_dat": "2020-02-26T00:00:00"
         },
         {
          "num_sales": 41095,
          "num_unique_articles": 10250,
          "num_unique_customers": 12889,
          "revenue": 1235.899593220337,
          "t_dat": "2020-02-27T00:00:00"
         },
         {
          "num_sales": 35822,
          "num_unique_articles": 9552,
          "num_unique_customers": 11855,
          "revenue": 1038.640423728812,
          "t_dat": "2020-02-28T00:00:00"
         },
         {
          "num_sales": 39676,
          "num_unique_articles": 10014,
          "num_unique_customers": 13084,
          "revenue": 1156.7200338983032,
          "t_dat": "2020-02-29T00:00:00"
         },
         {
          "num_sales": 37082,
          "num_unique_articles": 9584,
          "num_unique_customers": 10433,
          "revenue": 1129.321050847456,
          "t_dat": "2020-03-01T00:00:00"
         },
         {
          "num_sales": 30941,
          "num_unique_articles": 8486,
          "num_unique_customers": 9183,
          "revenue": 934.817135593219,
          "t_dat": "2020-03-02T00:00:00"
         },
         {
          "num_sales": 36802,
          "num_unique_articles": 9694,
          "num_unique_customers": 10905,
          "revenue": 1095.026050847456,
          "t_dat": "2020-03-03T00:00:00"
         },
         {
          "num_sales": 56629,
          "num_unique_articles": 11250,
          "num_unique_customers": 15208,
          "revenue": 1562.9251525423701,
          "t_dat": "2020-03-04T00:00:00"
         },
         {
          "num_sales": 46043,
          "num_unique_articles": 10541,
          "num_unique_customers": 13067,
          "revenue": 1262.9607457627096,
          "t_dat": "2020-03-05T00:00:00"
         },
         {
          "num_sales": 40139,
          "num_unique_articles": 10374,
          "num_unique_customers": 12427,
          "revenue": 1108.457525423727,
          "t_dat": "2020-03-06T00:00:00"
         },
         {
          "num_sales": 44794,
          "num_unique_articles": 10667,
          "num_unique_customers": 14047,
          "revenue": 1248.627033898303,
          "t_dat": "2020-03-07T00:00:00"
         },
         {
          "num_sales": 39775,
          "num_unique_articles": 9774,
          "num_unique_customers": 10420,
          "revenue": 1129.814152542371,
          "t_dat": "2020-03-08T00:00:00"
         },
         {
          "num_sales": 37516,
          "num_unique_articles": 9360,
          "num_unique_customers": 10131,
          "revenue": 1061.8138305084728,
          "t_dat": "2020-03-09T00:00:00"
         },
         {
          "num_sales": 34895,
          "num_unique_articles": 9277,
          "num_unique_customers": 9728,
          "revenue": 1004.773644067795,
          "t_dat": "2020-03-10T00:00:00"
         },
         {
          "num_sales": 41503,
          "num_unique_articles": 9988,
          "num_unique_customers": 12168,
          "revenue": 1186.646779661015,
          "t_dat": "2020-03-11T00:00:00"
         },
         {
          "num_sales": 32748,
          "num_unique_articles": 9291,
          "num_unique_customers": 10174,
          "revenue": 941.31561016949,
          "t_dat": "2020-03-12T00:00:00"
         },
         {
          "num_sales": 29159,
          "num_unique_articles": 8866,
          "num_unique_customers": 9051,
          "revenue": 836.1156101694902,
          "t_dat": "2020-03-13T00:00:00"
         },
         {
          "num_sales": 33680,
          "num_unique_articles": 9442,
          "num_unique_customers": 10691,
          "revenue": 963.3604067796595,
          "t_dat": "2020-03-14T00:00:00"
         },
         {
          "num_sales": 25601,
          "num_unique_articles": 7957,
          "num_unique_customers": 6617,
          "revenue": 716.5800847457615,
          "t_dat": "2020-03-15T00:00:00"
         },
         {
          "num_sales": 19385,
          "num_unique_articles": 6743,
          "num_unique_customers": 5613,
          "revenue": 565.9536271186431,
          "t_dat": "2020-03-16T00:00:00"
         },
         {
          "num_sales": 23792,
          "num_unique_articles": 7593,
          "num_unique_customers": 7201,
          "revenue": 706.3706440677954,
          "t_dat": "2020-03-17T00:00:00"
         },
         {
          "num_sales": 27091,
          "num_unique_articles": 8056,
          "num_unique_customers": 8067,
          "revenue": 803.3477627118631,
          "t_dat": "2020-03-18T00:00:00"
         },
         {
          "num_sales": 24810,
          "num_unique_articles": 7557,
          "num_unique_customers": 7159,
          "revenue": 741.6106779661005,
          "t_dat": "2020-03-19T00:00:00"
         },
         {
          "num_sales": 25830,
          "num_unique_articles": 7100,
          "num_unique_customers": 7229,
          "revenue": 765.0278644067783,
          "t_dat": "2020-03-20T00:00:00"
         },
         {
          "num_sales": 27792,
          "num_unique_articles": 7079,
          "num_unique_customers": 7345,
          "revenue": 798.45754237288,
          "t_dat": "2020-03-21T00:00:00"
         },
         {
          "num_sales": 34956,
          "num_unique_articles": 7467,
          "num_unique_customers": 9248,
          "revenue": 990.2839661016932,
          "t_dat": "2020-03-22T00:00:00"
         },
         {
          "num_sales": 25907,
          "num_unique_articles": 6524,
          "num_unique_customers": 6638,
          "revenue": 744.8288644067784,
          "t_dat": "2020-03-23T00:00:00"
         },
         {
          "num_sales": 32432,
          "num_unique_articles": 7324,
          "num_unique_customers": 8194,
          "revenue": 923.3997627118629,
          "t_dat": "2020-03-24T00:00:00"
         },
         {
          "num_sales": 34904,
          "num_unique_articles": 7536,
          "num_unique_customers": 8748,
          "revenue": 1004.0425423728797,
          "t_dat": "2020-03-25T00:00:00"
         },
         {
          "num_sales": 35264,
          "num_unique_articles": 7790,
          "num_unique_customers": 9019,
          "revenue": 1087.2209322033882,
          "t_dat": "2020-03-26T00:00:00"
         },
         {
          "num_sales": 31779,
          "num_unique_articles": 7621,
          "num_unique_customers": 7992,
          "revenue": 953.6560169491511,
          "t_dat": "2020-03-27T00:00:00"
         },
         {
          "num_sales": 31114,
          "num_unique_articles": 7267,
          "num_unique_customers": 7662,
          "revenue": 917.7002711864392,
          "t_dat": "2020-03-28T00:00:00"
         },
         {
          "num_sales": 34443,
          "num_unique_articles": 7404,
          "num_unique_customers": 7892,
          "revenue": 1008.5635084745746,
          "t_dat": "2020-03-29T00:00:00"
         },
         {
          "num_sales": 36648,
          "num_unique_articles": 7684,
          "num_unique_customers": 9213,
          "revenue": 1067.1376949152525,
          "t_dat": "2020-03-30T00:00:00"
         },
         {
          "num_sales": 34298,
          "num_unique_articles": 7523,
          "num_unique_customers": 8614,
          "revenue": 1014.0481694915238,
          "t_dat": "2020-03-31T00:00:00"
         },
         {
          "num_sales": 39518,
          "num_unique_articles": 7992,
          "num_unique_customers": 10010,
          "revenue": 1142.6307288135574,
          "t_dat": "2020-04-01T00:00:00"
         },
         {
          "num_sales": 39040,
          "num_unique_articles": 7906,
          "num_unique_customers": 9966,
          "revenue": 1155.1111355932185,
          "t_dat": "2020-04-02T00:00:00"
         },
         {
          "num_sales": 55966,
          "num_unique_articles": 9053,
          "num_unique_customers": 12203,
          "revenue": 1576.8348135593192,
          "t_dat": "2020-04-03T00:00:00"
         },
         {
          "num_sales": 80500,
          "num_unique_articles": 9754,
          "num_unique_customers": 16443,
          "revenue": 2104.113186440674,
          "t_dat": "2020-04-04T00:00:00"
         },
         {
          "num_sales": 36027,
          "num_unique_articles": 7271,
          "num_unique_customers": 8245,
          "revenue": 1042.2498135593203,
          "t_dat": "2020-04-05T00:00:00"
         },
         {
          "num_sales": 41962,
          "num_unique_articles": 7870,
          "num_unique_customers": 10098,
          "revenue": 1226.3557118644048,
          "t_dat": "2020-04-06T00:00:00"
         },
         {
          "num_sales": 44270,
          "num_unique_articles": 8228,
          "num_unique_customers": 10280,
          "revenue": 1278.2241525423708,
          "t_dat": "2020-04-07T00:00:00"
         },
         {
          "num_sales": 52965,
          "num_unique_articles": 8731,
          "num_unique_customers": 12183,
          "revenue": 1519.2174067796584,
          "t_dat": "2020-04-08T00:00:00"
         },
         {
          "num_sales": 50991,
          "num_unique_articles": 8423,
          "num_unique_customers": 11716,
          "revenue": 1465.6001186440653,
          "t_dat": "2020-04-09T00:00:00"
         },
         {
          "num_sales": 41889,
          "num_unique_articles": 7719,
          "num_unique_customers": 9397,
          "revenue": 1222.231559322032,
          "t_dat": "2020-04-10T00:00:00"
         },
         {
          "num_sales": 162799,
          "num_unique_articles": 11821,
          "num_unique_customers": 28510,
          "revenue": 3961.9877627118553,
          "t_dat": "2020-04-11T00:00:00"
         },
         {
          "num_sales": 31418,
          "num_unique_articles": 6366,
          "num_unique_customers": 6839,
          "revenue": 915.6819322033883,
          "t_dat": "2020-04-12T00:00:00"
         },
         {
          "num_sales": 32744,
          "num_unique_articles": 6696,
          "num_unique_customers": 7035,
          "revenue": 978.4312881355917,
          "t_dat": "2020-04-13T00:00:00"
         },
         {
          "num_sales": 29072,
          "num_unique_articles": 6616,
          "num_unique_customers": 6972,
          "revenue": 869.6631186440665,
          "t_dat": "2020-04-14T00:00:00"
         },
         {
          "num_sales": 33366,
          "num_unique_articles": 6975,
          "num_unique_customers": 8382,
          "revenue": 1002.8206101694899,
          "t_dat": "2020-04-15T00:00:00"
         },
         {
          "num_sales": 34359,
          "num_unique_articles": 7128,
          "num_unique_customers": 8597,
          "revenue": 1030.1811016949137,
          "t_dat": "2020-04-16T00:00:00"
         },
         {
          "num_sales": 32475,
          "num_unique_articles": 7149,
          "num_unique_customers": 8000,
          "revenue": 971.150203389829,
          "t_dat": "2020-04-17T00:00:00"
         },
         {
          "num_sales": 32065,
          "num_unique_articles": 7170,
          "num_unique_customers": 7787,
          "revenue": 967.8233559322018,
          "t_dat": "2020-04-18T00:00:00"
         },
         {
          "num_sales": 29562,
          "num_unique_articles": 6516,
          "num_unique_customers": 6804,
          "revenue": 879.9908813559308,
          "t_dat": "2020-04-19T00:00:00"
         },
         {
          "num_sales": 36744,
          "num_unique_articles": 7255,
          "num_unique_customers": 8907,
          "revenue": 1068.935118644066,
          "t_dat": "2020-04-20T00:00:00"
         },
         {
          "num_sales": 30862,
          "num_unique_articles": 6731,
          "num_unique_customers": 7589,
          "revenue": 916.9764745762698,
          "t_dat": "2020-04-21T00:00:00"
         },
         {
          "num_sales": 37893,
          "num_unique_articles": 7566,
          "num_unique_customers": 9398,
          "revenue": 1129.318305084744,
          "t_dat": "2020-04-22T00:00:00"
         },
         {
          "num_sales": 44438,
          "num_unique_articles": 8145,
          "num_unique_customers": 11086,
          "revenue": 1316.8854237288115,
          "t_dat": "2020-04-23T00:00:00"
         },
         {
          "num_sales": 41437,
          "num_unique_articles": 7766,
          "num_unique_customers": 10175,
          "revenue": 1218.3786440677945,
          "t_dat": "2020-04-24T00:00:00"
         },
         {
          "num_sales": 51396,
          "num_unique_articles": 8275,
          "num_unique_customers": 11799,
          "revenue": 1361.939271186438,
          "t_dat": "2020-04-25T00:00:00"
         },
         {
          "num_sales": 59238,
          "num_unique_articles": 8105,
          "num_unique_customers": 12927,
          "revenue": 1522.5410847457595,
          "t_dat": "2020-04-26T00:00:00"
         },
         {
          "num_sales": 27850,
          "num_unique_articles": 6069,
          "num_unique_customers": 6674,
          "revenue": 789.3087627118632,
          "t_dat": "2020-04-27T00:00:00"
         },
         {
          "num_sales": 35644,
          "num_unique_articles": 7228,
          "num_unique_customers": 9277,
          "revenue": 1026.5647457627103,
          "t_dat": "2020-04-28T00:00:00"
         },
         {
          "num_sales": 36390,
          "num_unique_articles": 7442,
          "num_unique_customers": 9627,
          "revenue": 1052.836355932202,
          "t_dat": "2020-04-29T00:00:00"
         },
         {
          "num_sales": 38002,
          "num_unique_articles": 7854,
          "num_unique_customers": 10114,
          "revenue": 1094.5025932203375,
          "t_dat": "2020-04-30T00:00:00"
         },
         {
          "num_sales": 32182,
          "num_unique_articles": 7366,
          "num_unique_customers": 8277,
          "revenue": 940.824135593219,
          "t_dat": "2020-05-01T00:00:00"
         },
         {
          "num_sales": 27822,
          "num_unique_articles": 6926,
          "num_unique_customers": 7041,
          "revenue": 815.8016779661006,
          "t_dat": "2020-05-02T00:00:00"
         },
         {
          "num_sales": 25087,
          "num_unique_articles": 6234,
          "num_unique_customers": 6068,
          "revenue": 735.3857457627108,
          "t_dat": "2020-05-03T00:00:00"
         },
         {
          "num_sales": 28126,
          "num_unique_articles": 6916,
          "num_unique_customers": 7372,
          "revenue": 818.7111525423717,
          "t_dat": "2020-05-04T00:00:00"
         },
         {
          "num_sales": 25874,
          "num_unique_articles": 6465,
          "num_unique_customers": 6448,
          "revenue": 752.2998135593209,
          "t_dat": "2020-05-05T00:00:00"
         },
         {
          "num_sales": 34129,
          "num_unique_articles": 8657,
          "num_unique_customers": 9701,
          "revenue": 955.3670847457612,
          "t_dat": "2020-05-06T00:00:00"
         },
         {
          "num_sales": 37864,
          "num_unique_articles": 9232,
          "num_unique_customers": 10477,
          "revenue": 1061.7915423728798,
          "t_dat": "2020-05-07T00:00:00"
         },
         {
          "num_sales": 43071,
          "num_unique_articles": 9794,
          "num_unique_customers": 11780,
          "revenue": 1170.8911694915237,
          "t_dat": "2020-05-08T00:00:00"
         },
         {
          "num_sales": 43018,
          "num_unique_articles": 9894,
          "num_unique_customers": 12075,
          "revenue": 1162.6160508474559,
          "t_dat": "2020-05-09T00:00:00"
         },
         {
          "num_sales": 26039,
          "num_unique_articles": 6133,
          "num_unique_customers": 6242,
          "revenue": 770.1803728813549,
          "t_dat": "2020-05-10T00:00:00"
         },
         {
          "num_sales": 37795,
          "num_unique_articles": 9180,
          "num_unique_customers": 10358,
          "revenue": 1058.534491525422,
          "t_dat": "2020-05-11T00:00:00"
         },
         {
          "num_sales": 37670,
          "num_unique_articles": 9395,
          "num_unique_customers": 10302,
          "revenue": 1048.2912372881337,
          "t_dat": "2020-05-12T00:00:00"
         },
         {
          "num_sales": 41121,
          "num_unique_articles": 9950,
          "num_unique_customers": 11289,
          "revenue": 1140.7255423728793,
          "t_dat": "2020-05-13T00:00:00"
         },
         {
          "num_sales": 45407,
          "num_unique_articles": 10219,
          "num_unique_customers": 12435,
          "revenue": 1259.9599322033878,
          "t_dat": "2020-05-14T00:00:00"
         },
         {
          "num_sales": 42451,
          "num_unique_articles": 10117,
          "num_unique_customers": 12077,
          "revenue": 1152.4351694915235,
          "t_dat": "2020-05-15T00:00:00"
         },
         {
          "num_sales": 41721,
          "num_unique_articles": 10222,
          "num_unique_customers": 11618,
          "revenue": 1116.5138983050829,
          "t_dat": "2020-05-16T00:00:00"
         },
         {
          "num_sales": 34390,
          "num_unique_articles": 8385,
          "num_unique_customers": 8454,
          "revenue": 950.6213220338967,
          "t_dat": "2020-05-17T00:00:00"
         },
         {
          "num_sales": 44982,
          "num_unique_articles": 9908,
          "num_unique_customers": 11863,
          "revenue": 1226.4624915254217,
          "t_dat": "2020-05-18T00:00:00"
         },
         {
          "num_sales": 49952,
          "num_unique_articles": 10592,
          "num_unique_customers": 13182,
          "revenue": 1331.3666271186419,
          "t_dat": "2020-05-19T00:00:00"
         },
         {
          "num_sales": 58890,
          "num_unique_articles": 11316,
          "num_unique_customers": 15750,
          "revenue": 1543.6521016949125,
          "t_dat": "2020-05-20T00:00:00"
         },
         {
          "num_sales": 48272,
          "num_unique_articles": 9640,
          "num_unique_customers": 11593,
          "revenue": 1290.650694915252,
          "t_dat": "2020-05-21T00:00:00"
         },
         {
          "num_sales": 67789,
          "num_unique_articles": 12110,
          "num_unique_customers": 17295,
          "revenue": 1737.1373559322003,
          "t_dat": "2020-05-22T00:00:00"
         },
         {
          "num_sales": 62966,
          "num_unique_articles": 12145,
          "num_unique_customers": 16567,
          "revenue": 1629.9805762711835,
          "t_dat": "2020-05-23T00:00:00"
         },
         {
          "num_sales": 41785,
          "num_unique_articles": 9640,
          "num_unique_customers": 10407,
          "revenue": 1184.2836949152522,
          "t_dat": "2020-05-24T00:00:00"
         },
         {
          "num_sales": 51475,
          "num_unique_articles": 10846,
          "num_unique_customers": 13906,
          "revenue": 1381.3000169491502,
          "t_dat": "2020-05-25T00:00:00"
         },
         {
          "num_sales": 56595,
          "num_unique_articles": 11313,
          "num_unique_customers": 15194,
          "revenue": 1523.1479322033872,
          "t_dat": "2020-05-26T00:00:00"
         },
         {
          "num_sales": 62439,
          "num_unique_articles": 11892,
          "num_unique_customers": 17109,
          "revenue": 1665.7546610169463,
          "t_dat": "2020-05-27T00:00:00"
         },
         {
          "num_sales": 60745,
          "num_unique_articles": 11718,
          "num_unique_customers": 16991,
          "revenue": 1644.9591864406752,
          "t_dat": "2020-05-28T00:00:00"
         },
         {
          "num_sales": 59463,
          "num_unique_articles": 11750,
          "num_unique_customers": 16473,
          "revenue": 1563.8377288135566,
          "t_dat": "2020-05-29T00:00:00"
         },
         {
          "num_sales": 60861,
          "num_unique_articles": 11897,
          "num_unique_customers": 16758,
          "revenue": 1564.1618135593192,
          "t_dat": "2020-05-30T00:00:00"
         },
         {
          "num_sales": 31834,
          "num_unique_articles": 7137,
          "num_unique_customers": 7639,
          "revenue": 948.0491525423714,
          "t_dat": "2020-05-31T00:00:00"
         },
         {
          "num_sales": 43084,
          "num_unique_articles": 9611,
          "num_unique_customers": 11218,
          "revenue": 1232.2898305084725,
          "t_dat": "2020-06-01T00:00:00"
         },
         {
          "num_sales": 44666,
          "num_unique_articles": 10241,
          "num_unique_customers": 12366,
          "revenue": 1198.8877118644048,
          "t_dat": "2020-06-02T00:00:00"
         },
         {
          "num_sales": 53187,
          "num_unique_articles": 11365,
          "num_unique_customers": 14747,
          "revenue": 1420.1546949152516,
          "t_dat": "2020-06-03T00:00:00"
         },
         {
          "num_sales": 50470,
          "num_unique_articles": 11277,
          "num_unique_customers": 14438,
          "revenue": 1386.138203389828,
          "t_dat": "2020-06-04T00:00:00"
         },
         {
          "num_sales": 44470,
          "num_unique_articles": 11113,
          "num_unique_customers": 13068,
          "revenue": 1179.4080169491506,
          "t_dat": "2020-06-05T00:00:00"
         },
         {
          "num_sales": 48649,
          "num_unique_articles": 11592,
          "num_unique_customers": 14181,
          "revenue": 1239.7503728813535,
          "t_dat": "2020-06-06T00:00:00"
         },
         {
          "num_sales": 36733,
          "num_unique_articles": 9731,
          "num_unique_customers": 10041,
          "revenue": 1049.220016949151,
          "t_dat": "2020-06-07T00:00:00"
         },
         {
          "num_sales": 38117,
          "num_unique_articles": 10107,
          "num_unique_customers": 11436,
          "revenue": 1079.4796779660999,
          "t_dat": "2020-06-08T00:00:00"
         },
         {
          "num_sales": 39370,
          "num_unique_articles": 10483,
          "num_unique_customers": 11939,
          "revenue": 1058.2374237288118,
          "t_dat": "2020-06-09T00:00:00"
         },
         {
          "num_sales": 42585,
          "num_unique_articles": 10975,
          "num_unique_customers": 12752,
          "revenue": 1133.3058644067776,
          "t_dat": "2020-06-10T00:00:00"
         },
         {
          "num_sales": 44044,
          "num_unique_articles": 11145,
          "num_unique_customers": 13133,
          "revenue": 1150.1526779660996,
          "t_dat": "2020-06-11T00:00:00"
         },
         {
          "num_sales": 43804,
          "num_unique_articles": 11125,
          "num_unique_customers": 13152,
          "revenue": 1110.5238644067776,
          "t_dat": "2020-06-12T00:00:00"
         },
         {
          "num_sales": 46088,
          "num_unique_articles": 11281,
          "num_unique_customers": 13464,
          "revenue": 1159.8153050847436,
          "t_dat": "2020-06-13T00:00:00"
         },
         {
          "num_sales": 32087,
          "num_unique_articles": 9087,
          "num_unique_customers": 8637,
          "revenue": 880.3205762711849,
          "t_dat": "2020-06-14T00:00:00"
         },
         {
          "num_sales": 40427,
          "num_unique_articles": 10105,
          "num_unique_customers": 11892,
          "revenue": 1048.5014067796592,
          "t_dat": "2020-06-15T00:00:00"
         },
         {
          "num_sales": 49855,
          "num_unique_articles": 11464,
          "num_unique_customers": 14762,
          "revenue": 1292.0448305084724,
          "t_dat": "2020-06-16T00:00:00"
         },
         {
          "num_sales": 110981,
          "num_unique_articles": 14244,
          "num_unique_customers": 26247,
          "revenue": 2540.113406779656,
          "t_dat": "2020-06-17T00:00:00"
         },
         {
          "num_sales": 84563,
          "num_unique_articles": 13396,
          "num_unique_customers": 21668,
          "revenue": 1916.1871355932167,
          "t_dat": "2020-06-18T00:00:00"
         },
         {
          "num_sales": 77241,
          "num_unique_articles": 13239,
          "num_unique_customers": 20673,
          "revenue": 1755.304762711861,
          "t_dat": "2020-06-19T00:00:00"
         },
         {
          "num_sales": 67788,
          "num_unique_articles": 12412,
          "num_unique_customers": 18293,
          "revenue": 1533.4146949152512,
          "t_dat": "2020-06-20T00:00:00"
         },
         {
          "num_sales": 56469,
          "num_unique_articles": 10038,
          "num_unique_customers": 13476,
          "revenue": 1369.5237288135568,
          "t_dat": "2020-06-21T00:00:00"
         },
         {
          "num_sales": 75334,
          "num_unique_articles": 11992,
          "num_unique_customers": 19912,
          "revenue": 1776.1568813559288,
          "t_dat": "2020-06-22T00:00:00"
         },
         {
          "num_sales": 77067,
          "num_unique_articles": 12326,
          "num_unique_customers": 20689,
          "revenue": 1803.5380847457593,
          "t_dat": "2020-06-23T00:00:00"
         },
         {
          "num_sales": 98790,
          "num_unique_articles": 13124,
          "num_unique_customers": 24751,
          "revenue": 2195.581728813555,
          "t_dat": "2020-06-24T00:00:00"
         },
         {
          "num_sales": 88684,
          "num_unique_articles": 12871,
          "num_unique_customers": 23052,
          "revenue": 1976.2762033898266,
          "t_dat": "2020-06-25T00:00:00"
         },
         {
          "num_sales": 77452,
          "num_unique_articles": 12490,
          "num_unique_customers": 20274,
          "revenue": 1726.0800847457592,
          "t_dat": "2020-06-26T00:00:00"
         },
         {
          "num_sales": 74671,
          "num_unique_articles": 12778,
          "num_unique_customers": 20053,
          "revenue": 1676.1384406779628,
          "t_dat": "2020-06-27T00:00:00"
         },
         {
          "num_sales": 63485,
          "num_unique_articles": 11033,
          "num_unique_customers": 16205,
          "revenue": 1458.1629152542346,
          "t_dat": "2020-06-28T00:00:00"
         },
         {
          "num_sales": 53193,
          "num_unique_articles": 11102,
          "num_unique_customers": 14927,
          "revenue": 1259.7523220338958,
          "t_dat": "2020-06-29T00:00:00"
         },
         {
          "num_sales": 61153,
          "num_unique_articles": 12020,
          "num_unique_customers": 16857,
          "revenue": 1450.8982033898276,
          "t_dat": "2020-06-30T00:00:00"
         },
         {
          "num_sales": 59443,
          "num_unique_articles": 12127,
          "num_unique_customers": 16730,
          "revenue": 1395.5045423728786,
          "t_dat": "2020-07-01T00:00:00"
         },
         {
          "num_sales": 55884,
          "num_unique_articles": 11664,
          "num_unique_customers": 16174,
          "revenue": 1295.346423728811,
          "t_dat": "2020-07-02T00:00:00"
         },
         {
          "num_sales": 51212,
          "num_unique_articles": 11657,
          "num_unique_customers": 15498,
          "revenue": 1175.587915254235,
          "t_dat": "2020-07-03T00:00:00"
         },
         {
          "num_sales": 46408,
          "num_unique_articles": 11130,
          "num_unique_customers": 13701,
          "revenue": 1095.8934237288115,
          "t_dat": "2020-07-04T00:00:00"
         },
         {
          "num_sales": 38401,
          "num_unique_articles": 9290,
          "num_unique_customers": 10202,
          "revenue": 936.9381355932186,
          "t_dat": "2020-07-05T00:00:00"
         },
         {
          "num_sales": 40933,
          "num_unique_articles": 10224,
          "num_unique_customers": 12115,
          "revenue": 999.5495932203371,
          "t_dat": "2020-07-06T00:00:00"
         },
         {
          "num_sales": 45138,
          "num_unique_articles": 10942,
          "num_unique_customers": 13509,
          "revenue": 1079.2765084745743,
          "t_dat": "2020-07-07T00:00:00"
         },
         {
          "num_sales": 49839,
          "num_unique_articles": 11194,
          "num_unique_customers": 14475,
          "revenue": 1191.3086779660994,
          "t_dat": "2020-07-08T00:00:00"
         },
         {
          "num_sales": 43016,
          "num_unique_articles": 10614,
          "num_unique_customers": 12984,
          "revenue": 1016.7820677966082,
          "t_dat": "2020-07-09T00:00:00"
         },
         {
          "num_sales": 43922,
          "num_unique_articles": 10969,
          "num_unique_customers": 13667,
          "revenue": 1026.2698813559302,
          "t_dat": "2020-07-10T00:00:00"
         },
         {
          "num_sales": 40292,
          "num_unique_articles": 10471,
          "num_unique_customers": 12361,
          "revenue": 948.1258135593201,
          "t_dat": "2020-07-11T00:00:00"
         },
         {
          "num_sales": 29794,
          "num_unique_articles": 8465,
          "num_unique_customers": 8395,
          "revenue": 729.082728813558,
          "t_dat": "2020-07-12T00:00:00"
         },
         {
          "num_sales": 41095,
          "num_unique_articles": 10123,
          "num_unique_customers": 12156,
          "revenue": 987.1953559322016,
          "t_dat": "2020-07-13T00:00:00"
         },
         {
          "num_sales": 38714,
          "num_unique_articles": 10329,
          "num_unique_customers": 11892,
          "revenue": 927.3981864406762,
          "t_dat": "2020-07-14T00:00:00"
         },
         {
          "num_sales": 51387,
          "num_unique_articles": 11299,
          "num_unique_customers": 15532,
          "revenue": 1212.0864067796585,
          "t_dat": "2020-07-15T00:00:00"
         },
         {
          "num_sales": 45465,
          "num_unique_articles": 10828,
          "num_unique_customers": 13922,
          "revenue": 1079.9237966101673,
          "t_dat": "2020-07-16T00:00:00"
         },
         {
          "num_sales": 42666,
          "num_unique_articles": 10701,
          "num_unique_customers": 13429,
          "revenue": 991.5458813559302,
          "t_dat": "2020-07-17T00:00:00"
         },
         {
          "num_sales": 37666,
          "num_unique_articles": 10130,
          "num_unique_customers": 11775,
          "revenue": 883.2640169491508,
          "t_dat": "2020-07-18T00:00:00"
         },
         {
          "num_sales": 28801,
          "num_unique_articles": 8041,
          "num_unique_customers": 7962,
          "revenue": 702.2081016949139,
          "t_dat": "2020-07-19T00:00:00"
         },
         {
          "num_sales": 40657,
          "num_unique_articles": 10264,
          "num_unique_customers": 12286,
          "revenue": 977.8743220338964,
          "t_dat": "2020-07-20T00:00:00"
         },
         {
          "num_sales": 42886,
          "num_unique_articles": 10747,
          "num_unique_customers": 13335,
          "revenue": 1035.6935084745744,
          "t_dat": "2020-07-21T00:00:00"
         },
         {
          "num_sales": 46368,
          "num_unique_articles": 11011,
          "num_unique_customers": 14170,
          "revenue": 1138.997101694913,
          "t_dat": "2020-07-22T00:00:00"
         },
         {
          "num_sales": 44976,
          "num_unique_articles": 10891,
          "num_unique_customers": 14250,
          "revenue": 1097.8659491525402,
          "t_dat": "2020-07-23T00:00:00"
         },
         {
          "num_sales": 46496,
          "num_unique_articles": 11245,
          "num_unique_customers": 14537,
          "revenue": 1132.1814067796588,
          "t_dat": "2020-07-24T00:00:00"
         },
         {
          "num_sales": 41058,
          "num_unique_articles": 10913,
          "num_unique_customers": 12672,
          "revenue": 1001.3311694915235,
          "t_dat": "2020-07-25T00:00:00"
         },
         {
          "num_sales": 33688,
          "num_unique_articles": 9133,
          "num_unique_customers": 9979,
          "revenue": 839.0154406779645,
          "t_dat": "2020-07-26T00:00:00"
         },
         {
          "num_sales": 40196,
          "num_unique_articles": 10414,
          "num_unique_customers": 12143,
          "revenue": 1008.4934745762694,
          "t_dat": "2020-07-27T00:00:00"
         },
         {
          "num_sales": 46687,
          "num_unique_articles": 11064,
          "num_unique_customers": 14273,
          "revenue": 1156.3632372881334,
          "t_dat": "2020-07-28T00:00:00"
         },
         {
          "num_sales": 47998,
          "num_unique_articles": 11225,
          "num_unique_customers": 14974,
          "revenue": 1188.4460508474554,
          "t_dat": "2020-07-29T00:00:00"
         },
         {
          "num_sales": 51712,
          "num_unique_articles": 11321,
          "num_unique_customers": 15841,
          "revenue": 1203.5094915254213,
          "t_dat": "2020-07-30T00:00:00"
         },
         {
          "num_sales": 38704,
          "num_unique_articles": 9992,
          "num_unique_customers": 11508,
          "revenue": 909.9485593220321,
          "t_dat": "2020-07-31T00:00:00"
         },
         {
          "num_sales": 41958,
          "num_unique_articles": 10185,
          "num_unique_customers": 12564,
          "revenue": 972.5820847457608,
          "t_dat": "2020-08-01T00:00:00"
         },
         {
          "num_sales": 38806,
          "num_unique_articles": 8584,
          "num_unique_customers": 10646,
          "revenue": 908.5920508474558,
          "t_dat": "2020-08-02T00:00:00"
         },
         {
          "num_sales": 45416,
          "num_unique_articles": 10324,
          "num_unique_customers": 13593,
          "revenue": 1084.6743050847438,
          "t_dat": "2020-08-03T00:00:00"
         },
         {
          "num_sales": 54875,
          "num_unique_articles": 11255,
          "num_unique_customers": 16413,
          "revenue": 1320.90601694915,
          "t_dat": "2020-08-04T00:00:00"
         },
         {
          "num_sales": 53207,
          "num_unique_articles": 10683,
          "num_unique_customers": 15669,
          "revenue": 1292.0098813559298,
          "t_dat": "2020-08-05T00:00:00"
         },
         {
          "num_sales": 52430,
          "num_unique_articles": 10918,
          "num_unique_customers": 15676,
          "revenue": 1249.6357118644044,
          "t_dat": "2020-08-06T00:00:00"
         },
         {
          "num_sales": 43193,
          "num_unique_articles": 10201,
          "num_unique_customers": 13023,
          "revenue": 1021.438372881354,
          "t_dat": "2020-08-07T00:00:00"
         },
         {
          "num_sales": 33685,
          "num_unique_articles": 8876,
          "num_unique_customers": 10448,
          "revenue": 805.3482203389815,
          "t_dat": "2020-08-08T00:00:00"
         },
         {
          "num_sales": 27024,
          "num_unique_articles": 7004,
          "num_unique_customers": 7434,
          "revenue": 670.4555593220326,
          "t_dat": "2020-08-09T00:00:00"
         },
         {
          "num_sales": 36909,
          "num_unique_articles": 8813,
          "num_unique_customers": 10799,
          "revenue": 904.000271186439,
          "t_dat": "2020-08-10T00:00:00"
         },
         {
          "num_sales": 42713,
          "num_unique_articles": 9922,
          "num_unique_customers": 12392,
          "revenue": 1048.3872711864387,
          "t_dat": "2020-08-11T00:00:00"
         },
         {
          "num_sales": 71072,
          "num_unique_articles": 11620,
          "num_unique_customers": 17899,
          "revenue": 1734.5777118644032,
          "t_dat": "2020-08-12T00:00:00"
         },
         {
          "num_sales": 39349,
          "num_unique_articles": 9751,
          "num_unique_customers": 12651,
          "revenue": 976.4912372881338,
          "t_dat": "2020-08-13T00:00:00"
         },
         {
          "num_sales": 35305,
          "num_unique_articles": 9603,
          "num_unique_customers": 11687,
          "revenue": 881.1799491525408,
          "t_dat": "2020-08-14T00:00:00"
         },
         {
          "num_sales": 29427,
          "num_unique_articles": 8659,
          "num_unique_customers": 10051,
          "revenue": 746.726949152541,
          "t_dat": "2020-08-15T00:00:00"
         },
         {
          "num_sales": 22613,
          "num_unique_articles": 6990,
          "num_unique_customers": 6809,
          "revenue": 630.6714915254227,
          "t_dat": "2020-08-16T00:00:00"
         },
         {
          "num_sales": 32532,
          "num_unique_articles": 8918,
          "num_unique_customers": 10303,
          "revenue": 881.4353050847442,
          "t_dat": "2020-08-17T00:00:00"
         },
         {
          "num_sales": 34913,
          "num_unique_articles": 9454,
          "num_unique_customers": 11231,
          "revenue": 946.4056610169474,
          "t_dat": "2020-08-18T00:00:00"
         },
         {
          "num_sales": 37284,
          "num_unique_articles": 9688,
          "num_unique_customers": 11838,
          "revenue": 1008.1653559322016,
          "t_dat": "2020-08-19T00:00:00"
         },
         {
          "num_sales": 37926,
          "num_unique_articles": 9872,
          "num_unique_customers": 12435,
          "revenue": 1040.0443559322016,
          "t_dat": "2020-08-20T00:00:00"
         },
         {
          "num_sales": 33913,
          "num_unique_articles": 9450,
          "num_unique_customers": 11331,
          "revenue": 924.4278474576255,
          "t_dat": "2020-08-21T00:00:00"
         },
         {
          "num_sales": 34978,
          "num_unique_articles": 9417,
          "num_unique_customers": 11454,
          "revenue": 982.2143728813543,
          "t_dat": "2020-08-22T00:00:00"
         },
         {
          "num_sales": 33031,
          "num_unique_articles": 8972,
          "num_unique_customers": 9350,
          "revenue": 979.5989322033882,
          "t_dat": "2020-08-23T00:00:00"
         },
         {
          "num_sales": 37672,
          "num_unique_articles": 9301,
          "num_unique_customers": 11719,
          "revenue": 1131.8903220338964,
          "t_dat": "2020-08-24T00:00:00"
         },
         {
          "num_sales": 41840,
          "num_unique_articles": 9470,
          "num_unique_customers": 13108,
          "revenue": 1292.9948983050826,
          "t_dat": "2020-08-25T00:00:00"
         },
         {
          "num_sales": 46027,
          "num_unique_articles": 9905,
          "num_unique_customers": 14128,
          "revenue": 1465.7214406779638,
          "t_dat": "2020-08-26T00:00:00"
         },
         {
          "num_sales": 44403,
          "num_unique_articles": 9904,
          "num_unique_customers": 14584,
          "revenue": 1367.6294576271164,
          "t_dat": "2020-08-27T00:00:00"
         },
         {
          "num_sales": 39546,
          "num_unique_articles": 9673,
          "num_unique_customers": 13385,
          "revenue": 1207.5714406779641,
          "t_dat": "2020-08-28T00:00:00"
         },
         {
          "num_sales": 41175,
          "num_unique_articles": 9673,
          "num_unique_customers": 13358,
          "revenue": 1271.873288135591,
          "t_dat": "2020-08-29T00:00:00"
         },
         {
          "num_sales": 35862,
          "num_unique_articles": 8514,
          "num_unique_customers": 10700,
          "revenue": 1145.319423728812,
          "t_dat": "2020-08-30T00:00:00"
         },
         {
          "num_sales": 38108,
          "num_unique_articles": 8800,
          "num_unique_customers": 11878,
          "revenue": 1237.5300677966084,
          "t_dat": "2020-08-31T00:00:00"
         },
         {
          "num_sales": 38060,
          "num_unique_articles": 8927,
          "num_unique_customers": 12323,
          "revenue": 1228.6411864406762,
          "t_dat": "2020-09-01T00:00:00"
         },
         {
          "num_sales": 32722,
          "num_unique_articles": 8609,
          "num_unique_customers": 11157,
          "revenue": 1042.202389830507,
          "t_dat": "2020-09-02T00:00:00"
         },
         {
          "num_sales": 40441,
          "num_unique_articles": 9187,
          "num_unique_customers": 13184,
          "revenue": 1324.5482033898286,
          "t_dat": "2020-09-03T00:00:00"
         },
         {
          "num_sales": 39203,
          "num_unique_articles": 9636,
          "num_unique_customers": 13221,
          "revenue": 1230.0161355932185,
          "t_dat": "2020-09-04T00:00:00"
         },
         {
          "num_sales": 43002,
          "num_unique_articles": 9896,
          "num_unique_customers": 14149,
          "revenue": 1352.46388135593,
          "t_dat": "2020-09-05T00:00:00"
         },
         {
          "num_sales": 34961,
          "num_unique_articles": 8746,
          "num_unique_customers": 10426,
          "revenue": 1139.1364745762694,
          "t_dat": "2020-09-06T00:00:00"
         },
         {
          "num_sales": 37913,
          "num_unique_articles": 8511,
          "num_unique_customers": 11716,
          "revenue": 1278.7032881355913,
          "t_dat": "2020-09-07T00:00:00"
         },
         {
          "num_sales": 36415,
          "num_unique_articles": 8138,
          "num_unique_customers": 11422,
          "revenue": 1243.4895762711847,
          "t_dat": "2020-09-08T00:00:00"
         },
         {
          "num_sales": 41626,
          "num_unique_articles": 8977,
          "num_unique_customers": 13075,
          "revenue": 1425.310847457625,
          "t_dat": "2020-09-09T00:00:00"
         },
         {
          "num_sales": 40261,
          "num_unique_articles": 8915,
          "num_unique_customers": 13172,
          "revenue": 1344.2379491525403,
          "t_dat": "2020-09-10T00:00:00"
         },
         {
          "num_sales": 37561,
          "num_unique_articles": 8580,
          "num_unique_customers": 12731,
          "revenue": 1282.8984745762693,
          "t_dat": "2020-09-11T00:00:00"
         },
         {
          "num_sales": 40271,
          "num_unique_articles": 8949,
          "num_unique_customers": 13186,
          "revenue": 1311.20381355932,
          "t_dat": "2020-09-12T00:00:00"
         },
         {
          "num_sales": 39528,
          "num_unique_articles": 8844,
          "num_unique_customers": 11423,
          "revenue": 1394.6976440677947,
          "t_dat": "2020-09-13T00:00:00"
         },
         {
          "num_sales": 29941,
          "num_unique_articles": 7861,
          "num_unique_customers": 9286,
          "revenue": 1042.0790847457613,
          "t_dat": "2020-09-14T00:00:00"
         },
         {
          "num_sales": 26053,
          "num_unique_articles": 7617,
          "num_unique_customers": 8287,
          "revenue": 874.8922203389818,
          "t_dat": "2020-09-15T00:00:00"
         },
         {
          "num_sales": 27028,
          "num_unique_articles": 7461,
          "num_unique_customers": 8752,
          "revenue": 890.2108474576257,
          "t_dat": "2020-09-16T00:00:00"
         },
         {
          "num_sales": 40718,
          "num_unique_articles": 8772,
          "num_unique_customers": 13203,
          "revenue": 1418.2773050847438,
          "t_dat": "2020-09-17T00:00:00"
         },
         {
          "num_sales": 39284,
          "num_unique_articles": 8947,
          "num_unique_customers": 12924,
          "revenue": 1363.8581186440658,
          "t_dat": "2020-09-18T00:00:00"
         },
         {
          "num_sales": 36796,
          "num_unique_articles": 8864,
          "num_unique_customers": 12233,
          "revenue": 1227.471305084744,
          "t_dat": "2020-09-19T00:00:00"
         },
         {
          "num_sales": 31489,
          "num_unique_articles": 7678,
          "num_unique_customers": 9384,
          "revenue": 1116.0710677966085,
          "t_dat": "2020-09-20T00:00:00"
         },
         {
          "num_sales": 32130,
          "num_unique_articles": 7745,
          "num_unique_customers": 10119,
          "revenue": 1139.598050847456,
          "t_dat": "2020-09-21T00:00:00"
         },
         {
          "num_sales": 32866,
          "num_unique_articles": 7971,
          "num_unique_customers": 10528,
          "revenue": 1133.4184237288118,
          "t_dat": "2020-09-22T00:00:00"
         }
        ]
       },
       "encoding": {
        "tooltip": [
         {
          "field": "t_dat",
          "type": "temporal"
         }
        ],
        "x": {
         "field": "t_dat",
         "type": "temporal"
        },
        "y": {
         "field": "num_unique_articles",
         "type": "quantitative"
        }
       },
       "mark": "line",
       "width": 700
      },
      "image/png": "[encoded data removed]",
      "text/plain": [
       "<VegaLite 4 object>\n",
       "\n",
       "If you see this message, it means the renderer has not been properly enabled\n",
       "for the frontend that you are using. For more information, see\n",
       "https://altair-viz.github.io/user_guide/troubleshooting.html\n"
      ]
     },
     "execution_count": 73,
     "metadata": {},
     "output_type": "execute_result"
    }
   ],
   "source": [
    "alt.Chart(df_sales).mark_line().encode(\n",
    "    x=\"t_dat\", y=\"num_unique_articles\", tooltip=[\"t_dat\"]\n",
    ").properties(width=700)"
   ]
  },
  {
   "cell_type": "code",
   "execution_count": 33,
   "id": "4c87eff2-e795-47ed-87b7-da8bbdce324d",
   "metadata": {},
   "outputs": [
    {
     "data": {
      "application/vnd.vegalite.v4+json": {
       "$schema": "https://vega.github.io/schema/vega-lite/v4.17.0.json",
       "config": {
        "view": {
         "continuousHeight": 300,
         "continuousWidth": 400
        }
       },
       "data": {
        "name": "data-7672d2c0366f177ce6c00e32a0b5646c"
       },
       "datasets": {
        "data-7672d2c0366f177ce6c00e32a0b5646c": [
         {
          "num_sales": 48399,
          "num_unique_customers": 13987,
          "revenue": 1415.3458474576248,
          "t_dat": "2018-09-20T00:00:00"
         },
         {
          "num_sales": 47543,
          "num_unique_customers": 13932,
          "revenue": 1419.2623050847435,
          "t_dat": "2018-09-21T00:00:00"
         },
         {
          "num_sales": 17635,
          "num_unique_customers": 5481,
          "revenue": 530.4376271186431,
          "t_dat": "2018-09-22T00:00:00"
         },
         {
          "num_sales": 52230,
          "num_unique_customers": 12435,
          "revenue": 1593.78308474576,
          "t_dat": "2018-09-23T00:00:00"
         },
         {
          "num_sales": 45984,
          "num_unique_customers": 12630,
          "revenue": 1407.6096101694893,
          "t_dat": "2018-09-24T00:00:00"
         },
         {
          "num_sales": 43857,
          "num_unique_customers": 12534,
          "revenue": 1322.87981355932,
          "t_dat": "2018-09-25T00:00:00"
         },
         {
          "num_sales": 48224,
          "num_unique_customers": 13925,
          "revenue": 1434.2044576271162,
          "t_dat": "2018-09-26T00:00:00"
         },
         {
          "num_sales": 44261,
          "num_unique_customers": 13331,
          "revenue": 1355.498288135591,
          "t_dat": "2018-09-27T00:00:00"
         },
         {
          "num_sales": 66900,
          "num_unique_customers": 18872,
          "revenue": 2040.2070677966067,
          "t_dat": "2018-09-28T00:00:00"
         },
         {
          "num_sales": 141700,
          "num_unique_customers": 37398,
          "revenue": 4071.3813050847384,
          "t_dat": "2018-09-29T00:00:00"
         },
         {
          "num_sales": 38043,
          "num_unique_customers": 10876,
          "revenue": 1165.030186440676,
          "t_dat": "2018-09-30T00:00:00"
         },
         {
          "num_sales": 38677,
          "num_unique_customers": 11029,
          "revenue": 1201.578220338981,
          "t_dat": "2018-10-01T00:00:00"
         },
         {
          "num_sales": 39932,
          "num_unique_customers": 11685,
          "revenue": 1254.0745423728795,
          "t_dat": "2018-10-02T00:00:00"
         },
         {
          "num_sales": 38387,
          "num_unique_customers": 11434,
          "revenue": 1173.174491525422,
          "t_dat": "2018-10-03T00:00:00"
         },
         {
          "num_sales": 38103,
          "num_unique_customers": 12109,
          "revenue": 1188.8597966101677,
          "t_dat": "2018-10-04T00:00:00"
         },
         {
          "num_sales": 33485,
          "num_unique_customers": 11123,
          "revenue": 1009.3239322033882,
          "t_dat": "2018-10-05T00:00:00"
         },
         {
          "num_sales": 37012,
          "num_unique_customers": 12111,
          "revenue": 1089.794711864405,
          "t_dat": "2018-10-06T00:00:00"
         },
         {
          "num_sales": 32647,
          "num_unique_customers": 9306,
          "revenue": 1010.437423728812,
          "t_dat": "2018-10-07T00:00:00"
         },
         {
          "num_sales": 28241,
          "num_unique_customers": 8473,
          "revenue": 899.0806271186426,
          "t_dat": "2018-10-08T00:00:00"
         },
         {
          "num_sales": 38581,
          "num_unique_customers": 11117,
          "revenue": 1234.8909830508455,
          "t_dat": "2018-10-09T00:00:00"
         },
         {
          "num_sales": 63750,
          "num_unique_customers": 15827,
          "revenue": 1890.0404915254205,
          "t_dat": "2018-10-10T00:00:00"
         },
         {
          "num_sales": 58802,
          "num_unique_customers": 15162,
          "revenue": 1702.1712372881325,
          "t_dat": "2018-10-11T00:00:00"
         },
         {
          "num_sales": 53530,
          "num_unique_customers": 14777,
          "revenue": 1517.4412203389804,
          "t_dat": "2018-10-12T00:00:00"
         },
         {
          "num_sales": 53008,
          "num_unique_customers": 14296,
          "revenue": 1445.4382881355905,
          "t_dat": "2018-10-13T00:00:00"
         },
         {
          "num_sales": 36426,
          "num_unique_customers": 8405,
          "revenue": 1103.066966101693,
          "t_dat": "2018-10-14T00:00:00"
         },
         {
          "num_sales": 33624,
          "num_unique_customers": 9748,
          "revenue": 1061.7233220338967,
          "t_dat": "2018-10-15T00:00:00"
         },
         {
          "num_sales": 48481,
          "num_unique_customers": 12188,
          "revenue": 1566.383864406777,
          "t_dat": "2018-10-16T00:00:00"
         },
         {
          "num_sales": 59231,
          "num_unique_customers": 16092,
          "revenue": 1621.256779661014,
          "t_dat": "2018-10-17T00:00:00"
         },
         {
          "num_sales": 46586,
          "num_unique_customers": 13781,
          "revenue": 1314.0367966101671,
          "t_dat": "2018-10-18T00:00:00"
         },
         {
          "num_sales": 39033,
          "num_unique_customers": 11987,
          "revenue": 1118.8254745762692,
          "t_dat": "2018-10-19T00:00:00"
         },
         {
          "num_sales": 40517,
          "num_unique_customers": 12498,
          "revenue": 1178.4867966101674,
          "t_dat": "2018-10-20T00:00:00"
         },
         {
          "num_sales": 37437,
          "num_unique_customers": 9805,
          "revenue": 1065.632525423727,
          "t_dat": "2018-10-21T00:00:00"
         },
         {
          "num_sales": 43546,
          "num_unique_customers": 12538,
          "revenue": 1286.0609999999979,
          "t_dat": "2018-10-22T00:00:00"
         },
         {
          "num_sales": 49740,
          "num_unique_customers": 14572,
          "revenue": 1469.8397288135568,
          "t_dat": "2018-10-23T00:00:00"
         },
         {
          "num_sales": 64499,
          "num_unique_customers": 18469,
          "revenue": 1841.569186440675,
          "t_dat": "2018-10-24T00:00:00"
         },
         {
          "num_sales": 54487,
          "num_unique_customers": 16519,
          "revenue": 1573.9032881355906,
          "t_dat": "2018-10-25T00:00:00"
         },
         {
          "num_sales": 55390,
          "num_unique_customers": 16908,
          "revenue": 1615.2642033898278,
          "t_dat": "2018-10-26T00:00:00"
         },
         {
          "num_sales": 50649,
          "num_unique_customers": 15718,
          "revenue": 1488.4579999999976,
          "t_dat": "2018-10-27T00:00:00"
         },
         {
          "num_sales": 56271,
          "num_unique_customers": 15090,
          "revenue": 1709.0214406779633,
          "t_dat": "2018-10-28T00:00:00"
         },
         {
          "num_sales": 45952,
          "num_unique_customers": 12940,
          "revenue": 1383.4142542372858,
          "t_dat": "2018-10-29T00:00:00"
         },
         {
          "num_sales": 42392,
          "num_unique_customers": 12265,
          "revenue": 1344.0748983050826,
          "t_dat": "2018-10-30T00:00:00"
         },
         {
          "num_sales": 38624,
          "num_unique_customers": 11869,
          "revenue": 1227.4921186440658,
          "t_dat": "2018-10-31T00:00:00"
         },
         {
          "num_sales": 41119,
          "num_unique_customers": 12866,
          "revenue": 1378.1485084745743,
          "t_dat": "2018-11-01T00:00:00"
         },
         {
          "num_sales": 36103,
          "num_unique_customers": 12150,
          "revenue": 1183.8858305084727,
          "t_dat": "2018-11-02T00:00:00"
         },
         {
          "num_sales": 39899,
          "num_unique_customers": 13175,
          "revenue": 1285.207999999998,
          "t_dat": "2018-11-03T00:00:00"
         },
         {
          "num_sales": 32709,
          "num_unique_customers": 9781,
          "revenue": 1099.9753898305069,
          "t_dat": "2018-11-04T00:00:00"
         },
         {
          "num_sales": 30346,
          "num_unique_customers": 9483,
          "revenue": 1017.4860847457612,
          "t_dat": "2018-11-05T00:00:00"
         },
         {
          "num_sales": 33798,
          "num_unique_customers": 10688,
          "revenue": 1126.0866779661,
          "t_dat": "2018-11-06T00:00:00"
         },
         {
          "num_sales": 35299,
          "num_unique_customers": 11391,
          "revenue": 1190.7924067796594,
          "t_dat": "2018-11-07T00:00:00"
         },
         {
          "num_sales": 32002,
          "num_unique_customers": 10891,
          "revenue": 1039.325576271185,
          "t_dat": "2018-11-08T00:00:00"
         },
         {
          "num_sales": 35259,
          "num_unique_customers": 11953,
          "revenue": 1130.9551016949135,
          "t_dat": "2018-11-09T00:00:00"
         },
         {
          "num_sales": 34598,
          "num_unique_customers": 11736,
          "revenue": 1085.2013559322017,
          "t_dat": "2018-11-10T00:00:00"
         },
         {
          "num_sales": 44899,
          "num_unique_customers": 12537,
          "revenue": 1381.8328813559299,
          "t_dat": "2018-11-11T00:00:00"
         },
         {
          "num_sales": 25777,
          "num_unique_customers": 8305,
          "revenue": 851.4892033898292,
          "t_dat": "2018-11-12T00:00:00"
         },
         {
          "num_sales": 28740,
          "num_unique_customers": 9483,
          "revenue": 939.8085932203376,
          "t_dat": "2018-11-13T00:00:00"
         },
         {
          "num_sales": 35108,
          "num_unique_customers": 11277,
          "revenue": 1170.0965932203374,
          "t_dat": "2018-11-14T00:00:00"
         },
         {
          "num_sales": 38619,
          "num_unique_customers": 12608,
          "revenue": 1215.8466949152523,
          "t_dat": "2018-11-15T00:00:00"
         },
         {
          "num_sales": 38361,
          "num_unique_customers": 12814,
          "revenue": 1178.635779661015,
          "t_dat": "2018-11-16T00:00:00"
         },
         {
          "num_sales": 38817,
          "num_unique_customers": 13103,
          "revenue": 1204.4525932203371,
          "t_dat": "2018-11-17T00:00:00"
         },
         {
          "num_sales": 35871,
          "num_unique_customers": 10563,
          "revenue": 1126.9629661016932,
          "t_dat": "2018-11-18T00:00:00"
         },
         {
          "num_sales": 32984,
          "num_unique_customers": 10248,
          "revenue": 1107.3144915254222,
          "t_dat": "2018-11-19T00:00:00"
         },
         {
          "num_sales": 40454,
          "num_unique_customers": 12798,
          "revenue": 1312.9359830508454,
          "t_dat": "2018-11-20T00:00:00"
         },
         {
          "num_sales": 43132,
          "num_unique_customers": 13475,
          "revenue": 1272.4279322033876,
          "t_dat": "2018-11-21T00:00:00"
         },
         {
          "num_sales": 56174,
          "num_unique_customers": 17618,
          "revenue": 1596.7907288135564,
          "t_dat": "2018-11-22T00:00:00"
         },
         {
          "num_sales": 142018,
          "num_unique_customers": 42300,
          "revenue": 3891.939440677959,
          "t_dat": "2018-11-23T00:00:00"
         },
         {
          "num_sales": 80235,
          "num_unique_customers": 23958,
          "revenue": 2145.9552711864367,
          "t_dat": "2018-11-24T00:00:00"
         },
         {
          "num_sales": 59322,
          "num_unique_customers": 17108,
          "revenue": 1596.1478813559295,
          "t_dat": "2018-11-25T00:00:00"
         },
         {
          "num_sales": 56913,
          "num_unique_customers": 16752,
          "revenue": 1512.9443389830483,
          "t_dat": "2018-11-26T00:00:00"
         },
         {
          "num_sales": 30127,
          "num_unique_customers": 11007,
          "revenue": 979.3970677966087,
          "t_dat": "2018-11-27T00:00:00"
         },
         {
          "num_sales": 29276,
          "num_unique_customers": 10472,
          "revenue": 951.0721864406765,
          "t_dat": "2018-11-28T00:00:00"
         },
         {
          "num_sales": 32096,
          "num_unique_customers": 11395,
          "revenue": 1041.0371864406764,
          "t_dat": "2018-11-29T00:00:00"
         },
         {
          "num_sales": 30564,
          "num_unique_customers": 11264,
          "revenue": 986.8356440677951,
          "t_dat": "2018-11-30T00:00:00"
         },
         {
          "num_sales": 34101,
          "num_unique_customers": 12322,
          "revenue": 1019.3577966101678,
          "t_dat": "2018-12-01T00:00:00"
         },
         {
          "num_sales": 26579,
          "num_unique_customers": 8464,
          "revenue": 843.5171355932191,
          "t_dat": "2018-12-02T00:00:00"
         },
         {
          "num_sales": 27155,
          "num_unique_customers": 9432,
          "revenue": 881.7208305084732,
          "t_dat": "2018-12-03T00:00:00"
         },
         {
          "num_sales": 31834,
          "num_unique_customers": 11034,
          "revenue": 1027.0817966101679,
          "t_dat": "2018-12-04T00:00:00"
         },
         {
          "num_sales": 35693,
          "num_unique_customers": 12338,
          "revenue": 1094.7697966101678,
          "t_dat": "2018-12-05T00:00:00"
         },
         {
          "num_sales": 37284,
          "num_unique_customers": 12901,
          "revenue": 1110.203898305083,
          "t_dat": "2018-12-06T00:00:00"
         },
         {
          "num_sales": 33316,
          "num_unique_customers": 11831,
          "revenue": 985.9137288135577,
          "t_dat": "2018-12-07T00:00:00"
         },
         {
          "num_sales": 37420,
          "num_unique_customers": 12921,
          "revenue": 1070.6389830508456,
          "t_dat": "2018-12-08T00:00:00"
         },
         {
          "num_sales": 34622,
          "num_unique_customers": 10981,
          "revenue": 1075.0479152542357,
          "t_dat": "2018-12-09T00:00:00"
         },
         {
          "num_sales": 30431,
          "num_unique_customers": 10546,
          "revenue": 967.0019322033884,
          "t_dat": "2018-12-10T00:00:00"
         },
         {
          "num_sales": 31051,
          "num_unique_customers": 10820,
          "revenue": 1001.0526610169476,
          "t_dat": "2018-12-11T00:00:00"
         },
         {
          "num_sales": 39436,
          "num_unique_customers": 13526,
          "revenue": 1244.5813559322016,
          "t_dat": "2018-12-12T00:00:00"
         },
         {
          "num_sales": 33145,
          "num_unique_customers": 11984,
          "revenue": 1050.1932203389815,
          "t_dat": "2018-12-13T00:00:00"
         },
         {
          "num_sales": 31201,
          "num_unique_customers": 11596,
          "revenue": 959.1581355932188,
          "t_dat": "2018-12-14T00:00:00"
         },
         {
          "num_sales": 36258,
          "num_unique_customers": 13047,
          "revenue": 1108.516372881354,
          "t_dat": "2018-12-15T00:00:00"
         },
         {
          "num_sales": 32374,
          "num_unique_customers": 10655,
          "revenue": 1021.5836949152526,
          "t_dat": "2018-12-16T00:00:00"
         },
         {
          "num_sales": 34947,
          "num_unique_customers": 11694,
          "revenue": 1049.0600169491508,
          "t_dat": "2018-12-17T00:00:00"
         },
         {
          "num_sales": 39247,
          "num_unique_customers": 13250,
          "revenue": 1149.044627118642,
          "t_dat": "2018-12-18T00:00:00"
         },
         {
          "num_sales": 46619,
          "num_unique_customers": 14969,
          "revenue": 1302.5752881355909,
          "t_dat": "2018-12-19T00:00:00"
         },
         {
          "num_sales": 61022,
          "num_unique_customers": 18764,
          "revenue": 1573.980745762709,
          "t_dat": "2018-12-20T00:00:00"
         },
         {
          "num_sales": 56260,
          "num_unique_customers": 17657,
          "revenue": 1384.4910338983022,
          "t_dat": "2018-12-21T00:00:00"
         },
         {
          "num_sales": 58623,
          "num_unique_customers": 18525,
          "revenue": 1427.0625423728784,
          "t_dat": "2018-12-22T00:00:00"
         },
         {
          "num_sales": 43155,
          "num_unique_customers": 12999,
          "revenue": 1065.188474576269,
          "t_dat": "2018-12-23T00:00:00"
         },
         {
          "num_sales": 38362,
          "num_unique_customers": 13160,
          "revenue": 924.4655084745743,
          "t_dat": "2018-12-24T00:00:00"
         },
         {
          "num_sales": 14799,
          "num_unique_customers": 3851,
          "revenue": 412.6921186440671,
          "t_dat": "2018-12-25T00:00:00"
         },
         {
          "num_sales": 24989,
          "num_unique_customers": 6393,
          "revenue": 656.7592372881344,
          "t_dat": "2018-12-26T00:00:00"
         },
         {
          "num_sales": 52976,
          "num_unique_customers": 15729,
          "revenue": 1355.3183389830483,
          "t_dat": "2018-12-27T00:00:00"
         },
         {
          "num_sales": 46132,
          "num_unique_customers": 14583,
          "revenue": 1205.1966779660995,
          "t_dat": "2018-12-28T00:00:00"
         },
         {
          "num_sales": 42402,
          "num_unique_customers": 13257,
          "revenue": 1096.8025762711843,
          "t_dat": "2018-12-29T00:00:00"
         },
         {
          "num_sales": 33491,
          "num_unique_customers": 9853,
          "revenue": 866.5129491525407,
          "t_dat": "2018-12-30T00:00:00"
         },
         {
          "num_sales": 23903,
          "num_unique_customers": 8151,
          "revenue": 603.0253220338972,
          "t_dat": "2018-12-31T00:00:00"
         },
         {
          "num_sales": 18145,
          "num_unique_customers": 4326,
          "revenue": 512.1223898305076,
          "t_dat": "2019-01-01T00:00:00"
         },
         {
          "num_sales": 44252,
          "num_unique_customers": 12555,
          "revenue": 1141.3896101694893,
          "t_dat": "2019-01-02T00:00:00"
         },
         {
          "num_sales": 47744,
          "num_unique_customers": 14017,
          "revenue": 1224.3121016949128,
          "t_dat": "2019-01-03T00:00:00"
         },
         {
          "num_sales": 43545,
          "num_unique_customers": 12893,
          "revenue": 1124.9399491525403,
          "t_dat": "2019-01-04T00:00:00"
         },
         {
          "num_sales": 44536,
          "num_unique_customers": 13122,
          "revenue": 1144.3482372881335,
          "t_dat": "2019-01-05T00:00:00"
         },
         {
          "num_sales": 37885,
          "num_unique_customers": 9749,
          "revenue": 1001.2752372881338,
          "t_dat": "2019-01-06T00:00:00"
         },
         {
          "num_sales": 34484,
          "num_unique_customers": 9611,
          "revenue": 944.5012881355915,
          "t_dat": "2019-01-07T00:00:00"
         },
         {
          "num_sales": 49228,
          "num_unique_customers": 12544,
          "revenue": 1365.7051186440656,
          "t_dat": "2019-01-08T00:00:00"
         },
         {
          "num_sales": 53309,
          "num_unique_customers": 13699,
          "revenue": 1443.5341525423703,
          "t_dat": "2019-01-09T00:00:00"
         },
         {
          "num_sales": 53180,
          "num_unique_customers": 13878,
          "revenue": 1407.750830508472,
          "t_dat": "2019-01-10T00:00:00"
         },
         {
          "num_sales": 42656,
          "num_unique_customers": 11732,
          "revenue": 1114.877661016947,
          "t_dat": "2019-01-11T00:00:00"
         },
         {
          "num_sales": 44825,
          "num_unique_customers": 12450,
          "revenue": 1164.688474576269,
          "t_dat": "2019-01-12T00:00:00"
         },
         {
          "num_sales": 39612,
          "num_unique_customers": 9461,
          "revenue": 1077.2539322033879,
          "t_dat": "2019-01-13T00:00:00"
         },
         {
          "num_sales": 35715,
          "num_unique_customers": 9629,
          "revenue": 962.2328813559304,
          "t_dat": "2019-01-14T00:00:00"
         },
         {
          "num_sales": 35037,
          "num_unique_customers": 9626,
          "revenue": 937.7501525423712,
          "t_dat": "2019-01-15T00:00:00"
         },
         {
          "num_sales": 46962,
          "num_unique_customers": 12388,
          "revenue": 1268.947474576269,
          "t_dat": "2019-01-16T00:00:00"
         },
         {
          "num_sales": 36013,
          "num_unique_customers": 10418,
          "revenue": 954.6116271186423,
          "t_dat": "2019-01-17T00:00:00"
         },
         {
          "num_sales": 35741,
          "num_unique_customers": 10718,
          "revenue": 948.3974406779644,
          "t_dat": "2019-01-18T00:00:00"
         },
         {
          "num_sales": 38720,
          "num_unique_customers": 11883,
          "revenue": 1006.8851016949134,
          "t_dat": "2019-01-19T00:00:00"
         },
         {
          "num_sales": 34356,
          "num_unique_customers": 8798,
          "revenue": 946.6045932203373,
          "t_dat": "2019-01-20T00:00:00"
         },
         {
          "num_sales": 34553,
          "num_unique_customers": 10025,
          "revenue": 955.1485423728797,
          "t_dat": "2019-01-21T00:00:00"
         },
         {
          "num_sales": 36878,
          "num_unique_customers": 10190,
          "revenue": 1003.4702542372863,
          "t_dat": "2019-01-22T00:00:00"
         },
         {
          "num_sales": 40120,
          "num_unique_customers": 11443,
          "revenue": 1061.181406779659,
          "t_dat": "2019-01-23T00:00:00"
         },
         {
          "num_sales": 42320,
          "num_unique_customers": 12490,
          "revenue": 1097.528999999998,
          "t_dat": "2019-01-24T00:00:00"
         },
         {
          "num_sales": 46825,
          "num_unique_customers": 13904,
          "revenue": 1180.5077796610146,
          "t_dat": "2019-01-25T00:00:00"
         },
         {
          "num_sales": 48158,
          "num_unique_customers": 14271,
          "revenue": 1217.4197118644045,
          "t_dat": "2019-01-26T00:00:00"
         },
         {
          "num_sales": 40605,
          "num_unique_customers": 10548,
          "revenue": 1079.4427288135573,
          "t_dat": "2019-01-27T00:00:00"
         },
         {
          "num_sales": 35705,
          "num_unique_customers": 10202,
          "revenue": 950.2704406779643,
          "t_dat": "2019-01-28T00:00:00"
         },
         {
          "num_sales": 44990,
          "num_unique_customers": 12717,
          "revenue": 1163.3466610169469,
          "t_dat": "2019-01-29T00:00:00"
         },
         {
          "num_sales": 39026,
          "num_unique_customers": 11111,
          "revenue": 1019.95174576271,
          "t_dat": "2019-01-30T00:00:00"
         },
         {
          "num_sales": 38346,
          "num_unique_customers": 11681,
          "revenue": 1029.5849491525405,
          "t_dat": "2019-01-31T00:00:00"
         },
         {
          "num_sales": 41584,
          "num_unique_customers": 11685,
          "revenue": 1094.2213898305065,
          "t_dat": "2019-02-01T00:00:00"
         },
         {
          "num_sales": 43901,
          "num_unique_customers": 12544,
          "revenue": 1139.7230847457606,
          "t_dat": "2019-02-02T00:00:00"
         },
         {
          "num_sales": 45259,
          "num_unique_customers": 10784,
          "revenue": 1198.2719322033877,
          "t_dat": "2019-02-03T00:00:00"
         },
         {
          "num_sales": 33631,
          "num_unique_customers": 9340,
          "revenue": 924.2031186440662,
          "t_dat": "2019-02-04T00:00:00"
         },
         {
          "num_sales": 35743,
          "num_unique_customers": 10491,
          "revenue": 996.0708135593203,
          "t_dat": "2019-02-05T00:00:00"
         },
         {
          "num_sales": 37340,
          "num_unique_customers": 11091,
          "revenue": 1038.6576271186423,
          "t_dat": "2019-02-06T00:00:00"
         },
         {
          "num_sales": 39423,
          "num_unique_customers": 12085,
          "revenue": 1084.7439491525404,
          "t_dat": "2019-02-07T00:00:00"
         },
         {
          "num_sales": 36732,
          "num_unique_customers": 11508,
          "revenue": 1014.070305084744,
          "t_dat": "2019-02-08T00:00:00"
         },
         {
          "num_sales": 41220,
          "num_unique_customers": 13060,
          "revenue": 1112.58981355932,
          "t_dat": "2019-02-09T00:00:00"
         },
         {
          "num_sales": 36967,
          "num_unique_customers": 9765,
          "revenue": 1062.4702372881338,
          "t_dat": "2019-02-10T00:00:00"
         },
         {
          "num_sales": 32624,
          "num_unique_customers": 9334,
          "revenue": 919.1647796610154,
          "t_dat": "2019-02-11T00:00:00"
         },
         {
          "num_sales": 34629,
          "num_unique_customers": 10261,
          "revenue": 987.6935254237271,
          "t_dat": "2019-02-12T00:00:00"
         },
         {
          "num_sales": 33441,
          "num_unique_customers": 9934,
          "revenue": 932.5161016949137,
          "t_dat": "2019-02-13T00:00:00"
         },
         {
          "num_sales": 33707,
          "num_unique_customers": 10563,
          "revenue": 894.8378644067781,
          "t_dat": "2019-02-14T00:00:00"
         },
         {
          "num_sales": 37835,
          "num_unique_customers": 11514,
          "revenue": 1048.5338135593202,
          "t_dat": "2019-02-15T00:00:00"
         },
         {
          "num_sales": 43012,
          "num_unique_customers": 13155,
          "revenue": 1192.539847457625,
          "t_dat": "2019-02-16T00:00:00"
         },
         {
          "num_sales": 33705,
          "num_unique_customers": 8823,
          "revenue": 964.1224745762696,
          "t_dat": "2019-02-17T00:00:00"
         },
         {
          "num_sales": 31761,
          "num_unique_customers": 8975,
          "revenue": 900.1562711864391,
          "t_dat": "2019-02-18T00:00:00"
         },
         {
          "num_sales": 33761,
          "num_unique_customers": 9870,
          "revenue": 954.638271186439,
          "t_dat": "2019-02-19T00:00:00"
         },
         {
          "num_sales": 43688,
          "num_unique_customers": 12635,
          "revenue": 1194.8370847457606,
          "t_dat": "2019-02-20T00:00:00"
         },
         {
          "num_sales": 58728,
          "num_unique_customers": 17574,
          "revenue": 1497.1818474576244,
          "t_dat": "2019-02-21T00:00:00"
         },
         {
          "num_sales": 64026,
          "num_unique_customers": 19551,
          "revenue": 1620.9459661016917,
          "t_dat": "2019-02-22T00:00:00"
         },
         {
          "num_sales": 75668,
          "num_unique_customers": 22084,
          "revenue": 1883.8647966101657,
          "t_dat": "2019-02-23T00:00:00"
         },
         {
          "num_sales": 34618,
          "num_unique_customers": 9765,
          "revenue": 975.5946949152526,
          "t_dat": "2019-02-24T00:00:00"
         },
         {
          "num_sales": 39670,
          "num_unique_customers": 11607,
          "revenue": 1124.588220338981,
          "t_dat": "2019-02-25T00:00:00"
         },
         {
          "num_sales": 43079,
          "num_unique_customers": 13040,
          "revenue": 1232.2099830508455,
          "t_dat": "2019-02-26T00:00:00"
         },
         {
          "num_sales": 45506,
          "num_unique_customers": 13451,
          "revenue": 1273.2129491525402,
          "t_dat": "2019-02-27T00:00:00"
         },
         {
          "num_sales": 41154,
          "num_unique_customers": 12740,
          "revenue": 1166.5610508474556,
          "t_dat": "2019-02-28T00:00:00"
         },
         {
          "num_sales": 42145,
          "num_unique_customers": 12889,
          "revenue": 1172.551559322032,
          "t_dat": "2019-03-01T00:00:00"
         },
         {
          "num_sales": 40748,
          "num_unique_customers": 12382,
          "revenue": 1112.8179830508457,
          "t_dat": "2019-03-02T00:00:00"
         },
         {
          "num_sales": 35154,
          "num_unique_customers": 8785,
          "revenue": 1004.4725084745746,
          "t_dat": "2019-03-03T00:00:00"
         },
         {
          "num_sales": 30308,
          "num_unique_customers": 8420,
          "revenue": 905.8775762711849,
          "t_dat": "2019-03-04T00:00:00"
         },
         {
          "num_sales": 34652,
          "num_unique_customers": 9952,
          "revenue": 1022.0427627118628,
          "t_dat": "2019-03-05T00:00:00"
         },
         {
          "num_sales": 49580,
          "num_unique_customers": 13585,
          "revenue": 1398.386728813557,
          "t_dat": "2019-03-06T00:00:00"
         },
         {
          "num_sales": 44575,
          "num_unique_customers": 12597,
          "revenue": 1256.239440677964,
          "t_dat": "2019-03-07T00:00:00"
         },
         {
          "num_sales": 39791,
          "num_unique_customers": 12057,
          "revenue": 1124.1032881355914,
          "t_dat": "2019-03-08T00:00:00"
         },
         {
          "num_sales": 40750,
          "num_unique_customers": 12091,
          "revenue": 1145.8108474576252,
          "t_dat": "2019-03-09T00:00:00"
         },
         {
          "num_sales": 39697,
          "num_unique_customers": 9645,
          "revenue": 1137.2995762711846,
          "t_dat": "2019-03-10T00:00:00"
         },
         {
          "num_sales": 35607,
          "num_unique_customers": 9469,
          "revenue": 1042.212016949151,
          "t_dat": "2019-03-11T00:00:00"
         },
         {
          "num_sales": 37488,
          "num_unique_customers": 10022,
          "revenue": 1097.7771525423711,
          "t_dat": "2019-03-12T00:00:00"
         },
         {
          "num_sales": 45230,
          "num_unique_customers": 11901,
          "revenue": 1295.0294745762692,
          "t_dat": "2019-03-13T00:00:00"
         },
         {
          "num_sales": 39055,
          "num_unique_customers": 10960,
          "revenue": 1112.1995084745745,
          "t_dat": "2019-03-14T00:00:00"
         },
         {
          "num_sales": 37282,
          "num_unique_customers": 10969,
          "revenue": 1056.1240677966084,
          "t_dat": "2019-03-15T00:00:00"
         },
         {
          "num_sales": 51837,
          "num_unique_customers": 14207,
          "revenue": 1421.5574067796585,
          "t_dat": "2019-03-16T00:00:00"
         },
         {
          "num_sales": 39506,
          "num_unique_customers": 10087,
          "revenue": 1131.572966101693,
          "t_dat": "2019-03-17T00:00:00"
         },
         {
          "num_sales": 31074,
          "num_unique_customers": 8348,
          "revenue": 891.4826610169476,
          "t_dat": "2019-03-18T00:00:00"
         },
         {
          "num_sales": 35556,
          "num_unique_customers": 10200,
          "revenue": 1044.334457627117,
          "t_dat": "2019-03-19T00:00:00"
         },
         {
          "num_sales": 41505,
          "num_unique_customers": 11699,
          "revenue": 1239.924932203388,
          "t_dat": "2019-03-20T00:00:00"
         },
         {
          "num_sales": 41778,
          "num_unique_customers": 12317,
          "revenue": 1402.4353559322014,
          "t_dat": "2019-03-21T00:00:00"
         },
         {
          "num_sales": 43836,
          "num_unique_customers": 13618,
          "revenue": 1295.3227966101674,
          "t_dat": "2019-03-22T00:00:00"
         },
         {
          "num_sales": 44283,
          "num_unique_customers": 13727,
          "revenue": 1265.4963389830486,
          "t_dat": "2019-03-23T00:00:00"
         },
         {
          "num_sales": 40788,
          "num_unique_customers": 10510,
          "revenue": 1205.8810338983033,
          "t_dat": "2019-03-24T00:00:00"
         },
         {
          "num_sales": 37437,
          "num_unique_customers": 10393,
          "revenue": 1141.7002881355913,
          "t_dat": "2019-03-25T00:00:00"
         },
         {
          "num_sales": 47173,
          "num_unique_customers": 12719,
          "revenue": 1438.56394915254,
          "t_dat": "2019-03-26T00:00:00"
         },
         {
          "num_sales": 49139,
          "num_unique_customers": 13183,
          "revenue": 1497.0842711864384,
          "t_dat": "2019-03-27T00:00:00"
         },
         {
          "num_sales": 47074,
          "num_unique_customers": 13348,
          "revenue": 1438.502847457625,
          "t_dat": "2019-03-28T00:00:00"
         },
         {
          "num_sales": 47539,
          "num_unique_customers": 14169,
          "revenue": 1421.036474576269,
          "t_dat": "2019-03-29T00:00:00"
         },
         {
          "num_sales": 49560,
          "num_unique_customers": 14473,
          "revenue": 1441.8075254237265,
          "t_dat": "2019-03-30T00:00:00"
         },
         {
          "num_sales": 46603,
          "num_unique_customers": 11501,
          "revenue": 1389.3723728813536,
          "t_dat": "2019-03-31T00:00:00"
         },
         {
          "num_sales": 43981,
          "num_unique_customers": 11781,
          "revenue": 1342.9218644067776,
          "t_dat": "2019-04-01T00:00:00"
         },
         {
          "num_sales": 42351,
          "num_unique_customers": 11419,
          "revenue": 1290.3167118644049,
          "t_dat": "2019-04-02T00:00:00"
         },
         {
          "num_sales": 44936,
          "num_unique_customers": 12522,
          "revenue": 1360.2897796610148,
          "t_dat": "2019-04-03T00:00:00"
         },
         {
          "num_sales": 42650,
          "num_unique_customers": 12531,
          "revenue": 1290.2533220338962,
          "t_dat": "2019-04-04T00:00:00"
         },
         {
          "num_sales": 40220,
          "num_unique_customers": 12238,
          "revenue": 1186.080338983049,
          "t_dat": "2019-04-05T00:00:00"
         },
         {
          "num_sales": 119601,
          "num_unique_customers": 25693,
          "revenue": 3100.9048983050784,
          "t_dat": "2019-04-06T00:00:00"
         },
         {
          "num_sales": 40873,
          "num_unique_customers": 10219,
          "revenue": 1176.9502542372861,
          "t_dat": "2019-04-07T00:00:00"
         },
         {
          "num_sales": 34419,
          "num_unique_customers": 9356,
          "revenue": 1029.0689661016934,
          "t_dat": "2019-04-08T00:00:00"
         },
         {
          "num_sales": 39942,
          "num_unique_customers": 10849,
          "revenue": 1214.9952881355912,
          "t_dat": "2019-04-09T00:00:00"
         },
         {
          "num_sales": 43708,
          "num_unique_customers": 11517,
          "revenue": 1298.5103898305063,
          "t_dat": "2019-04-10T00:00:00"
         },
         {
          "num_sales": 41695,
          "num_unique_customers": 11718,
          "revenue": 1375.8490847457606,
          "t_dat": "2019-04-11T00:00:00"
         },
         {
          "num_sales": 41923,
          "num_unique_customers": 12146,
          "revenue": 1255.2261016949133,
          "t_dat": "2019-04-12T00:00:00"
         },
         {
          "num_sales": 44852,
          "num_unique_customers": 12958,
          "revenue": 1288.4630677966081,
          "t_dat": "2019-04-13T00:00:00"
         },
         {
          "num_sales": 42322,
          "num_unique_customers": 10270,
          "revenue": 1290.652406779659,
          "t_dat": "2019-04-14T00:00:00"
         },
         {
          "num_sales": 41713,
          "num_unique_customers": 10828,
          "revenue": 1269.7375762711845,
          "t_dat": "2019-04-15T00:00:00"
         },
         {
          "num_sales": 44930,
          "num_unique_customers": 12124,
          "revenue": 1370.9560847457606,
          "t_dat": "2019-04-16T00:00:00"
         },
         {
          "num_sales": 45191,
          "num_unique_customers": 12105,
          "revenue": 1305.7717627118623,
          "t_dat": "2019-04-17T00:00:00"
         },
         {
          "num_sales": 47593,
          "num_unique_customers": 13466,
          "revenue": 1364.7494067796588,
          "t_dat": "2019-04-18T00:00:00"
         },
         {
          "num_sales": 53188,
          "num_unique_customers": 14802,
          "revenue": 1459.77294915254,
          "t_dat": "2019-04-19T00:00:00"
         },
         {
          "num_sales": 55558,
          "num_unique_customers": 15188,
          "revenue": 1503.6065084745737,
          "t_dat": "2019-04-20T00:00:00"
         },
         {
          "num_sales": 32616,
          "num_unique_customers": 6526,
          "revenue": 1000.2112203389814,
          "t_dat": "2019-04-21T00:00:00"
         },
         {
          "num_sales": 45237,
          "num_unique_customers": 9851,
          "revenue": 1313.7510508474554,
          "t_dat": "2019-04-22T00:00:00"
         },
         {
          "num_sales": 61860,
          "num_unique_customers": 15274,
          "revenue": 1775.1010338983021,
          "t_dat": "2019-04-23T00:00:00"
         },
         {
          "num_sales": 80711,
          "num_unique_customers": 20044,
          "revenue": 2223.121186440674,
          "t_dat": "2019-04-24T00:00:00"
         },
         {
          "num_sales": 63624,
          "num_unique_customers": 17472,
          "revenue": 1786.259440677963,
          "t_dat": "2019-04-25T00:00:00"
         },
         {
          "num_sales": 54735,
          "num_unique_customers": 16109,
          "revenue": 1536.428050847455,
          "t_dat": "2019-04-26T00:00:00"
         },
         {
          "num_sales": 29402,
          "num_unique_customers": 7395,
          "revenue": 874.5827288135579,
          "t_dat": "2019-04-27T00:00:00"
         },
         {
          "num_sales": 44907,
          "num_unique_customers": 10819,
          "revenue": 1317.4582372881334,
          "t_dat": "2019-04-28T00:00:00"
         },
         {
          "num_sales": 48190,
          "num_unique_customers": 12561,
          "revenue": 1404.1479999999976,
          "t_dat": "2019-04-29T00:00:00"
         },
         {
          "num_sales": 63526,
          "num_unique_customers": 16026,
          "revenue": 1818.849593220336,
          "t_dat": "2019-04-30T00:00:00"
         },
         {
          "num_sales": 72875,
          "num_unique_customers": 17443,
          "revenue": 2081.6301525423696,
          "t_dat": "2019-05-01T00:00:00"
         },
         {
          "num_sales": 68839,
          "num_unique_customers": 17675,
          "revenue": 1979.070627118641,
          "t_dat": "2019-05-02T00:00:00"
         },
         {
          "num_sales": 55773,
          "num_unique_customers": 15283,
          "revenue": 1565.8851864406754,
          "t_dat": "2019-05-03T00:00:00"
         },
         {
          "num_sales": 52336,
          "num_unique_customers": 14431,
          "revenue": 1457.2200338983027,
          "t_dat": "2019-05-04T00:00:00"
         },
         {
          "num_sales": 41956,
          "num_unique_customers": 9645,
          "revenue": 1214.8036610169472,
          "t_dat": "2019-05-05T00:00:00"
         },
         {
          "num_sales": 39273,
          "num_unique_customers": 9913,
          "revenue": 1149.6396779661,
          "t_dat": "2019-05-06T00:00:00"
         },
         {
          "num_sales": 43795,
          "num_unique_customers": 11392,
          "revenue": 1278.827440677964,
          "t_dat": "2019-05-07T00:00:00"
         },
         {
          "num_sales": 44209,
          "num_unique_customers": 11328,
          "revenue": 1301.614627118642,
          "t_dat": "2019-05-08T00:00:00"
         },
         {
          "num_sales": 38693,
          "num_unique_customers": 11164,
          "revenue": 1108.9204406779643,
          "t_dat": "2019-05-09T00:00:00"
         },
         {
          "num_sales": 41585,
          "num_unique_customers": 12022,
          "revenue": 1201.4842711864387,
          "t_dat": "2019-05-10T00:00:00"
         },
         {
          "num_sales": 42390,
          "num_unique_customers": 12636,
          "revenue": 1166.6957627118625,
          "t_dat": "2019-05-11T00:00:00"
         },
         {
          "num_sales": 33240,
          "num_unique_customers": 8241,
          "revenue": 973.6751016949137,
          "t_dat": "2019-05-12T00:00:00"
         },
         {
          "num_sales": 35508,
          "num_unique_customers": 9224,
          "revenue": 1030.4539491525406,
          "t_dat": "2019-05-13T00:00:00"
         },
         {
          "num_sales": 41100,
          "num_unique_customers": 10864,
          "revenue": 1181.2661016949135,
          "t_dat": "2019-05-14T00:00:00"
         },
         {
          "num_sales": 40695,
          "num_unique_customers": 11298,
          "revenue": 1139.0607966101677,
          "t_dat": "2019-05-15T00:00:00"
         },
         {
          "num_sales": 97320,
          "num_unique_customers": 21566,
          "revenue": 2593.487271186436,
          "t_dat": "2019-05-16T00:00:00"
         },
         {
          "num_sales": 41312,
          "num_unique_customers": 12178,
          "revenue": 1144.0053559322016,
          "t_dat": "2019-05-17T00:00:00"
         },
         {
          "num_sales": 47698,
          "num_unique_customers": 13589,
          "revenue": 1309.2937288135572,
          "t_dat": "2019-05-18T00:00:00"
         },
         {
          "num_sales": 37283,
          "num_unique_customers": 9278,
          "revenue": 1058.5984067796594,
          "t_dat": "2019-05-19T00:00:00"
         },
         {
          "num_sales": 43006,
          "num_unique_customers": 11155,
          "revenue": 1224.379372881354,
          "t_dat": "2019-05-20T00:00:00"
         },
         {
          "num_sales": 43676,
          "num_unique_customers": 11644,
          "revenue": 1269.975627118642,
          "t_dat": "2019-05-21T00:00:00"
         },
         {
          "num_sales": 51126,
          "num_unique_customers": 13661,
          "revenue": 1404.8386610169468,
          "t_dat": "2019-05-22T00:00:00"
         },
         {
          "num_sales": 52773,
          "num_unique_customers": 14788,
          "revenue": 1422.8441186440655,
          "t_dat": "2019-05-23T00:00:00"
         },
         {
          "num_sales": 58066,
          "num_unique_customers": 16347,
          "revenue": 1538.0156101694888,
          "t_dat": "2019-05-24T00:00:00"
         },
         {
          "num_sales": 56786,
          "num_unique_customers": 15876,
          "revenue": 1499.2710677966077,
          "t_dat": "2019-05-25T00:00:00"
         },
         {
          "num_sales": 51913,
          "num_unique_customers": 12823,
          "revenue": 1427.1038813559298,
          "t_dat": "2019-05-26T00:00:00"
         },
         {
          "num_sales": 51676,
          "num_unique_customers": 13067,
          "revenue": 1456.1807627118621,
          "t_dat": "2019-05-27T00:00:00"
         },
         {
          "num_sales": 49568,
          "num_unique_customers": 12795,
          "revenue": 1376.2786440677944,
          "t_dat": "2019-05-28T00:00:00"
         },
         {
          "num_sales": 68148,
          "num_unique_customers": 17110,
          "revenue": 1754.032915254234,
          "t_dat": "2019-05-29T00:00:00"
         },
         {
          "num_sales": 47604,
          "num_unique_customers": 11857,
          "revenue": 1287.1520508474555,
          "t_dat": "2019-05-30T00:00:00"
         },
         {
          "num_sales": 70097,
          "num_unique_customers": 19699,
          "revenue": 1761.7970169491496,
          "t_dat": "2019-05-31T00:00:00"
         },
         {
          "num_sales": 62619,
          "num_unique_customers": 17198,
          "revenue": 1611.5732542372855,
          "t_dat": "2019-06-01T00:00:00"
         },
         {
          "num_sales": 58089,
          "num_unique_customers": 12842,
          "revenue": 1546.3614915254211,
          "t_dat": "2019-06-02T00:00:00"
         },
         {
          "num_sales": 52676,
          "num_unique_customers": 12858,
          "revenue": 1459.8275254237265,
          "t_dat": "2019-06-03T00:00:00"
         },
         {
          "num_sales": 51977,
          "num_unique_customers": 13194,
          "revenue": 1431.9574406779636,
          "t_dat": "2019-06-04T00:00:00"
         },
         {
          "num_sales": 53398,
          "num_unique_customers": 13452,
          "revenue": 1463.007457627116,
          "t_dat": "2019-06-05T00:00:00"
         },
         {
          "num_sales": 51953,
          "num_unique_customers": 13965,
          "revenue": 1414.3634067796586,
          "t_dat": "2019-06-06T00:00:00"
         },
         {
          "num_sales": 48905,
          "num_unique_customers": 13570,
          "revenue": 1310.4709322033875,
          "t_dat": "2019-06-07T00:00:00"
         },
         {
          "num_sales": 46384,
          "num_unique_customers": 12978,
          "revenue": 1224.6763220338962,
          "t_dat": "2019-06-08T00:00:00"
         },
         {
          "num_sales": 29798,
          "num_unique_customers": 6316,
          "revenue": 858.8190338983037,
          "t_dat": "2019-06-09T00:00:00"
         },
         {
          "num_sales": 39561,
          "num_unique_customers": 9815,
          "revenue": 1066.3268474576253,
          "t_dat": "2019-06-10T00:00:00"
         },
         {
          "num_sales": 43337,
          "num_unique_customers": 11215,
          "revenue": 1189.776559322032,
          "t_dat": "2019-06-11T00:00:00"
         },
         {
          "num_sales": 36588,
          "num_unique_customers": 9230,
          "revenue": 991.378118644066,
          "t_dat": "2019-06-12T00:00:00"
         },
         {
          "num_sales": 78012,
          "num_unique_customers": 18287,
          "revenue": 2340.5179322033864,
          "t_dat": "2019-06-13T00:00:00"
         },
         {
          "num_sales": 48555,
          "num_unique_customers": 13683,
          "revenue": 1316.7542711864385,
          "t_dat": "2019-06-14T00:00:00"
         },
         {
          "num_sales": 46705,
          "num_unique_customers": 12968,
          "revenue": 1236.1959491525402,
          "t_dat": "2019-06-15T00:00:00"
         },
         {
          "num_sales": 34579,
          "num_unique_customers": 8381,
          "revenue": 959.0459322033882,
          "t_dat": "2019-06-16T00:00:00"
         },
         {
          "num_sales": 50067,
          "num_unique_customers": 12713,
          "revenue": 1355.3135593220316,
          "t_dat": "2019-06-17T00:00:00"
         },
         {
          "num_sales": 60593,
          "num_unique_customers": 15157,
          "revenue": 1613.838932203387,
          "t_dat": "2019-06-18T00:00:00"
         },
         {
          "num_sales": 104052,
          "num_unique_customers": 22232,
          "revenue": 2476.714254237283,
          "t_dat": "2019-06-19T00:00:00"
         },
         {
          "num_sales": 92778,
          "num_unique_customers": 22019,
          "revenue": 2199.0410338983006,
          "t_dat": "2019-06-20T00:00:00"
         },
         {
          "num_sales": 84136,
          "num_unique_customers": 21213,
          "revenue": 2001.1000677966063,
          "t_dat": "2019-06-21T00:00:00"
         },
         {
          "num_sales": 87802,
          "num_unique_customers": 21865,
          "revenue": 2099.9260847457585,
          "t_dat": "2019-06-22T00:00:00"
         },
         {
          "num_sales": 80648,
          "num_unique_customers": 16854,
          "revenue": 1971.1277627118607,
          "t_dat": "2019-06-23T00:00:00"
         },
         {
          "num_sales": 95110,
          "num_unique_customers": 21425,
          "revenue": 2332.4853728813514,
          "t_dat": "2019-06-24T00:00:00"
         },
         {
          "num_sales": 91365,
          "num_unique_customers": 21622,
          "revenue": 2251.667508474572,
          "t_dat": "2019-06-25T00:00:00"
         },
         {
          "num_sales": 96337,
          "num_unique_customers": 23162,
          "revenue": 2296.185915254233,
          "t_dat": "2019-06-26T00:00:00"
         },
         {
          "num_sales": 82326,
          "num_unique_customers": 21574,
          "revenue": 1936.8426779660979,
          "t_dat": "2019-06-27T00:00:00"
         },
         {
          "num_sales": 74998,
          "num_unique_customers": 20162,
          "revenue": 1758.1444406779626,
          "t_dat": "2019-06-28T00:00:00"
         },
         {
          "num_sales": 63192,
          "num_unique_customers": 16184,
          "revenue": 1487.9686779660988,
          "t_dat": "2019-06-29T00:00:00"
         },
         {
          "num_sales": 59662,
          "num_unique_customers": 13695,
          "revenue": 1447.0091016949125,
          "t_dat": "2019-06-30T00:00:00"
         },
         {
          "num_sales": 72375,
          "num_unique_customers": 17580,
          "revenue": 1784.829796610166,
          "t_dat": "2019-07-01T00:00:00"
         },
         {
          "num_sales": 70056,
          "num_unique_customers": 17979,
          "revenue": 1712.9863050847425,
          "t_dat": "2019-07-02T00:00:00"
         },
         {
          "num_sales": 71255,
          "num_unique_customers": 18288,
          "revenue": 1712.1317457627085,
          "t_dat": "2019-07-03T00:00:00"
         },
         {
          "num_sales": 58684,
          "num_unique_customers": 16643,
          "revenue": 1381.0366440677938,
          "t_dat": "2019-07-04T00:00:00"
         },
         {
          "num_sales": 56127,
          "num_unique_customers": 16160,
          "revenue": 1331.6789322033871,
          "t_dat": "2019-07-05T00:00:00"
         },
         {
          "num_sales": 56162,
          "num_unique_customers": 15446,
          "revenue": 1322.9705932203362,
          "t_dat": "2019-07-06T00:00:00"
         },
         {
          "num_sales": 44867,
          "num_unique_customers": 10696,
          "revenue": 1102.6408983050826,
          "t_dat": "2019-07-07T00:00:00"
         },
         {
          "num_sales": 51888,
          "num_unique_customers": 13434,
          "revenue": 1259.399983050845,
          "t_dat": "2019-07-08T00:00:00"
         },
         {
          "num_sales": 54224,
          "num_unique_customers": 14699,
          "revenue": 1271.1681864406753,
          "t_dat": "2019-07-09T00:00:00"
         },
         {
          "num_sales": 63403,
          "num_unique_customers": 16176,
          "revenue": 1440.0581355932172,
          "t_dat": "2019-07-10T00:00:00"
         },
         {
          "num_sales": 58167,
          "num_unique_customers": 15775,
          "revenue": 1281.313338983048,
          "t_dat": "2019-07-11T00:00:00"
         },
         {
          "num_sales": 49104,
          "num_unique_customers": 13344,
          "revenue": 1095.1994576271163,
          "t_dat": "2019-07-12T00:00:00"
         },
         {
          "num_sales": 52472,
          "num_unique_customers": 14146,
          "revenue": 1166.8786610169466,
          "t_dat": "2019-07-13T00:00:00"
         },
         {
          "num_sales": 45379,
          "num_unique_customers": 10576,
          "revenue": 1056.522135593218,
          "t_dat": "2019-07-14T00:00:00"
         },
         {
          "num_sales": 53061,
          "num_unique_customers": 13502,
          "revenue": 1235.0443389830484,
          "t_dat": "2019-07-15T00:00:00"
         },
         {
          "num_sales": 51589,
          "num_unique_customers": 13481,
          "revenue": 1185.55094915254,
          "t_dat": "2019-07-16T00:00:00"
         },
         {
          "num_sales": 60641,
          "num_unique_customers": 15857,
          "revenue": 1331.4280508474546,
          "t_dat": "2019-07-17T00:00:00"
         },
         {
          "num_sales": 57822,
          "num_unique_customers": 15618,
          "revenue": 1279.2386271186413,
          "t_dat": "2019-07-18T00:00:00"
         },
         {
          "num_sales": 52222,
          "num_unique_customers": 14391,
          "revenue": 1158.621796610167,
          "t_dat": "2019-07-19T00:00:00"
         },
         {
          "num_sales": 47872,
          "num_unique_customers": 12846,
          "revenue": 1064.898762711862,
          "t_dat": "2019-07-20T00:00:00"
         },
         {
          "num_sales": 47870,
          "num_unique_customers": 11264,
          "revenue": 1078.5364745762688,
          "t_dat": "2019-07-21T00:00:00"
         },
         {
          "num_sales": 59218,
          "num_unique_customers": 15273,
          "revenue": 1317.729559322031,
          "t_dat": "2019-07-22T00:00:00"
         },
         {
          "num_sales": 63567,
          "num_unique_customers": 16291,
          "revenue": 1423.7246440677936,
          "t_dat": "2019-07-23T00:00:00"
         },
         {
          "num_sales": 124683,
          "num_unique_customers": 24256,
          "revenue": 2217.252830508469,
          "t_dat": "2019-07-24T00:00:00"
         },
         {
          "num_sales": 64314,
          "num_unique_customers": 16047,
          "revenue": 1338.2121694915222,
          "t_dat": "2019-07-25T00:00:00"
         },
         {
          "num_sales": 57071,
          "num_unique_customers": 14319,
          "revenue": 1180.2526949152516,
          "t_dat": "2019-07-26T00:00:00"
         },
         {
          "num_sales": 55024,
          "num_unique_customers": 14669,
          "revenue": 1147.0197796610144,
          "t_dat": "2019-07-27T00:00:00"
         },
         {
          "num_sales": 47989,
          "num_unique_customers": 11351,
          "revenue": 1031.6514915254213,
          "t_dat": "2019-07-28T00:00:00"
         },
         {
          "num_sales": 54247,
          "num_unique_customers": 13960,
          "revenue": 1170.4532881355906,
          "t_dat": "2019-07-29T00:00:00"
         },
         {
          "num_sales": 50802,
          "num_unique_customers": 13337,
          "revenue": 1123.519389830506,
          "t_dat": "2019-07-30T00:00:00"
         },
         {
          "num_sales": 55339,
          "num_unique_customers": 14202,
          "revenue": 1185.1797118644042,
          "t_dat": "2019-07-31T00:00:00"
         },
         {
          "num_sales": 52371,
          "num_unique_customers": 14197,
          "revenue": 1119.9599661016923,
          "t_dat": "2019-08-01T00:00:00"
         },
         {
          "num_sales": 41438,
          "num_unique_customers": 11717,
          "revenue": 890.1683220338963,
          "t_dat": "2019-08-02T00:00:00"
         },
         {
          "num_sales": 40553,
          "num_unique_customers": 11372,
          "revenue": 884.7249322033879,
          "t_dat": "2019-08-03T00:00:00"
         },
         {
          "num_sales": 34634,
          "num_unique_customers": 8493,
          "revenue": 784.974457627117,
          "t_dat": "2019-08-04T00:00:00"
         },
         {
          "num_sales": 44248,
          "num_unique_customers": 11303,
          "revenue": 1018.8517457627097,
          "t_dat": "2019-08-05T00:00:00"
         },
         {
          "num_sales": 48092,
          "num_unique_customers": 12692,
          "revenue": 1081.1596779660995,
          "t_dat": "2019-08-06T00:00:00"
         },
         {
          "num_sales": 46769,
          "num_unique_customers": 12542,
          "revenue": 1087.540135593218,
          "t_dat": "2019-08-07T00:00:00"
         },
         {
          "num_sales": 45867,
          "num_unique_customers": 12821,
          "revenue": 1059.3899152542351,
          "t_dat": "2019-08-08T00:00:00"
         },
         {
          "num_sales": 39561,
          "num_unique_customers": 10954,
          "revenue": 929.4704745762693,
          "t_dat": "2019-08-09T00:00:00"
         },
         {
          "num_sales": 41323,
          "num_unique_customers": 11620,
          "revenue": 972.6074406779642,
          "t_dat": "2019-08-10T00:00:00"
         },
         {
          "num_sales": 32932,
          "num_unique_customers": 8226,
          "revenue": 819.7877627118629,
          "t_dat": "2019-08-11T00:00:00"
         },
         {
          "num_sales": 39689,
          "num_unique_customers": 10484,
          "revenue": 1010.7411355932185,
          "t_dat": "2019-08-12T00:00:00"
         },
         {
          "num_sales": 45355,
          "num_unique_customers": 12018,
          "revenue": 1105.3955254237267,
          "t_dat": "2019-08-13T00:00:00"
         },
         {
          "num_sales": 53274,
          "num_unique_customers": 13398,
          "revenue": 1185.2061694915228,
          "t_dat": "2019-08-14T00:00:00"
         },
         {
          "num_sales": 51943,
          "num_unique_customers": 13297,
          "revenue": 1156.0950338983027,
          "t_dat": "2019-08-15T00:00:00"
         },
         {
          "num_sales": 45866,
          "num_unique_customers": 12384,
          "revenue": 1033.923288135591,
          "t_dat": "2019-08-16T00:00:00"
         },
         {
          "num_sales": 43572,
          "num_unique_customers": 11733,
          "revenue": 1001.8229830508454,
          "t_dat": "2019-08-17T00:00:00"
         },
         {
          "num_sales": 45329,
          "num_unique_customers": 10292,
          "revenue": 1094.541254237286,
          "t_dat": "2019-08-18T00:00:00"
         },
         {
          "num_sales": 39571,
          "num_unique_customers": 10629,
          "revenue": 988.4832372881336,
          "t_dat": "2019-08-19T00:00:00"
         },
         {
          "num_sales": 41351,
          "num_unique_customers": 11824,
          "revenue": 1085.4184576271166,
          "t_dat": "2019-08-20T00:00:00"
         },
         {
          "num_sales": 42056,
          "num_unique_customers": 12162,
          "revenue": 1117.1952881355912,
          "t_dat": "2019-08-21T00:00:00"
         },
         {
          "num_sales": 40190,
          "num_unique_customers": 12491,
          "revenue": 1058.375932203388,
          "t_dat": "2019-08-22T00:00:00"
         },
         {
          "num_sales": 35626,
          "num_unique_customers": 11631,
          "revenue": 915.3724406779644,
          "t_dat": "2019-08-23T00:00:00"
         },
         {
          "num_sales": 32581,
          "num_unique_customers": 10352,
          "revenue": 841.139423728812,
          "t_dat": "2019-08-24T00:00:00"
         },
         {
          "num_sales": 28313,
          "num_unique_customers": 7821,
          "revenue": 762.7794915254224,
          "t_dat": "2019-08-25T00:00:00"
         },
         {
          "num_sales": 31842,
          "num_unique_customers": 9363,
          "revenue": 892.4742881355917,
          "t_dat": "2019-08-26T00:00:00"
         },
         {
          "num_sales": 31754,
          "num_unique_customers": 9525,
          "revenue": 871.7882542372865,
          "t_dat": "2019-08-27T00:00:00"
         },
         {
          "num_sales": 34884,
          "num_unique_customers": 10426,
          "revenue": 954.7421016949136,
          "t_dat": "2019-08-28T00:00:00"
         },
         {
          "num_sales": 38002,
          "num_unique_customers": 11945,
          "revenue": 1048.6060677966084,
          "t_dat": "2019-08-29T00:00:00"
         },
         {
          "num_sales": 34681,
          "num_unique_customers": 11249,
          "revenue": 959.1170338983034,
          "t_dat": "2019-08-30T00:00:00"
         },
         {
          "num_sales": 29863,
          "num_unique_customers": 9393,
          "revenue": 813.9944915254223,
          "t_dat": "2019-08-31T00:00:00"
         },
         {
          "num_sales": 33228,
          "num_unique_customers": 9171,
          "revenue": 982.552305084744,
          "t_dat": "2019-09-01T00:00:00"
         },
         {
          "num_sales": 33078,
          "num_unique_customers": 9707,
          "revenue": 1032.6766610169475,
          "t_dat": "2019-09-02T00:00:00"
         },
         {
          "num_sales": 33981,
          "num_unique_customers": 9849,
          "revenue": 1060.3185084745746,
          "t_dat": "2019-09-03T00:00:00"
         },
         {
          "num_sales": 34530,
          "num_unique_customers": 10182,
          "revenue": 1086.7353728813541,
          "t_dat": "2019-09-04T00:00:00"
         },
         {
          "num_sales": 43200,
          "num_unique_customers": 13041,
          "revenue": 1549.0567118644046,
          "t_dat": "2019-09-05T00:00:00"
         },
         {
          "num_sales": 38762,
          "num_unique_customers": 12245,
          "revenue": 1240.1380169491506,
          "t_dat": "2019-09-06T00:00:00"
         },
         {
          "num_sales": 39480,
          "num_unique_customers": 12413,
          "revenue": 1226.4416101694896,
          "t_dat": "2019-09-07T00:00:00"
         },
         {
          "num_sales": 37052,
          "num_unique_customers": 9936,
          "revenue": 1182.8484576271169,
          "t_dat": "2019-09-08T00:00:00"
         },
         {
          "num_sales": 33377,
          "num_unique_customers": 9621,
          "revenue": 1101.3542033898289,
          "t_dat": "2019-09-09T00:00:00"
         },
         {
          "num_sales": 37719,
          "num_unique_customers": 10793,
          "revenue": 1241.737372881354,
          "t_dat": "2019-09-10T00:00:00"
         },
         {
          "num_sales": 36096,
          "num_unique_customers": 10500,
          "revenue": 1204.9480677966083,
          "t_dat": "2019-09-11T00:00:00"
         },
         {
          "num_sales": 35417,
          "num_unique_customers": 11275,
          "revenue": 1148.4454067796592,
          "t_dat": "2019-09-12T00:00:00"
         },
         {
          "num_sales": 36761,
          "num_unique_customers": 12010,
          "revenue": 1211.0869152542355,
          "t_dat": "2019-09-13T00:00:00"
         },
         {
          "num_sales": 35936,
          "num_unique_customers": 11896,
          "revenue": 1134.619966101693,
          "t_dat": "2019-09-14T00:00:00"
         },
         {
          "num_sales": 31112,
          "num_unique_customers": 8615,
          "revenue": 1026.869237288134,
          "t_dat": "2019-09-15T00:00:00"
         },
         {
          "num_sales": 33716,
          "num_unique_customers": 9773,
          "revenue": 1164.2393220338965,
          "t_dat": "2019-09-16T00:00:00"
         },
         {
          "num_sales": 37008,
          "num_unique_customers": 10857,
          "revenue": 1283.9132033898286,
          "t_dat": "2019-09-17T00:00:00"
         },
         {
          "num_sales": 39063,
          "num_unique_customers": 11871,
          "revenue": 1333.731406779659,
          "t_dat": "2019-09-18T00:00:00"
         },
         {
          "num_sales": 36491,
          "num_unique_customers": 11669,
          "revenue": 1230.0396101694896,
          "t_dat": "2019-09-19T00:00:00"
         },
         {
          "num_sales": 31508,
          "num_unique_customers": 11019,
          "revenue": 1023.6388813559306,
          "t_dat": "2019-09-20T00:00:00"
         },
         {
          "num_sales": 20542,
          "num_unique_customers": 7485,
          "revenue": 655.6502711864396,
          "t_dat": "2019-09-21T00:00:00"
         },
         {
          "num_sales": 33950,
          "num_unique_customers": 9369,
          "revenue": 1168.962271186439,
          "t_dat": "2019-09-22T00:00:00"
         },
         {
          "num_sales": 34076,
          "num_unique_customers": 9766,
          "revenue": 1197.5768305084728,
          "t_dat": "2019-09-23T00:00:00"
         },
         {
          "num_sales": 36702,
          "num_unique_customers": 10975,
          "revenue": 1262.190152542371,
          "t_dat": "2019-09-24T00:00:00"
         },
         {
          "num_sales": 41256,
          "num_unique_customers": 12497,
          "revenue": 1415.247220338981,
          "t_dat": "2019-09-25T00:00:00"
         },
         {
          "num_sales": 37128,
          "num_unique_customers": 11757,
          "revenue": 1325.1101016949133,
          "t_dat": "2019-09-26T00:00:00"
         },
         {
          "num_sales": 35597,
          "num_unique_customers": 12208,
          "revenue": 1187.1600677966082,
          "t_dat": "2019-09-27T00:00:00"
         },
         {
          "num_sales": 198622,
          "num_unique_customers": 42062,
          "revenue": 6161.6030677966,
          "t_dat": "2019-09-28T00:00:00"
         },
         {
          "num_sales": 40043,
          "num_unique_customers": 11192,
          "revenue": 1359.990254237286,
          "t_dat": "2019-09-29T00:00:00"
         },
         {
          "num_sales": 31747,
          "num_unique_customers": 9744,
          "revenue": 1105.1683898305068,
          "t_dat": "2019-09-30T00:00:00"
         },
         {
          "num_sales": 40412,
          "num_unique_customers": 12277,
          "revenue": 1437.1608644067776,
          "t_dat": "2019-10-01T00:00:00"
         },
         {
          "num_sales": 63452,
          "num_unique_customers": 17246,
          "revenue": 1928.3217288135563,
          "t_dat": "2019-10-02T00:00:00"
         },
         {
          "num_sales": 50775,
          "num_unique_customers": 15203,
          "revenue": 1567.3220847457603,
          "t_dat": "2019-10-03T00:00:00"
         },
         {
          "num_sales": 43558,
          "num_unique_customers": 13320,
          "revenue": 1380.9482711864384,
          "t_dat": "2019-10-04T00:00:00"
         },
         {
          "num_sales": 43387,
          "num_unique_customers": 14440,
          "revenue": 1327.061779661015,
          "t_dat": "2019-10-05T00:00:00"
         },
         {
          "num_sales": 42390,
          "num_unique_customers": 11417,
          "revenue": 1332.6384576271166,
          "t_dat": "2019-10-06T00:00:00"
         },
         {
          "num_sales": 39091,
          "num_unique_customers": 11434,
          "revenue": 1261.8524576271168,
          "t_dat": "2019-10-07T00:00:00"
         },
         {
          "num_sales": 37840,
          "num_unique_customers": 11329,
          "revenue": 1247.9563898305066,
          "t_dat": "2019-10-08T00:00:00"
         },
         {
          "num_sales": 44476,
          "num_unique_customers": 13069,
          "revenue": 1414.9638135593198,
          "t_dat": "2019-10-09T00:00:00"
         },
         {
          "num_sales": 38121,
          "num_unique_customers": 11946,
          "revenue": 1198.6797627118626,
          "t_dat": "2019-10-10T00:00:00"
         },
         {
          "num_sales": 32866,
          "num_unique_customers": 10724,
          "revenue": 1031.0618813559306,
          "t_dat": "2019-10-11T00:00:00"
         },
         {
          "num_sales": 36954,
          "num_unique_customers": 12449,
          "revenue": 1154.5268644067778,
          "t_dat": "2019-10-12T00:00:00"
         },
         {
          "num_sales": 33358,
          "num_unique_customers": 9442,
          "revenue": 1027.680644067795,
          "t_dat": "2019-10-13T00:00:00"
         },
         {
          "num_sales": 31945,
          "num_unique_customers": 9644,
          "revenue": 999.3247457627103,
          "t_dat": "2019-10-14T00:00:00"
         },
         {
          "num_sales": 34410,
          "num_unique_customers": 10981,
          "revenue": 1102.7700338983034,
          "t_dat": "2019-10-15T00:00:00"
         },
         {
          "num_sales": 37522,
          "num_unique_customers": 11667,
          "revenue": 1182.1400338983033,
          "t_dat": "2019-10-16T00:00:00"
         },
         {
          "num_sales": 31801,
          "num_unique_customers": 11059,
          "revenue": 998.3453220338968,
          "t_dat": "2019-10-17T00:00:00"
         },
         {
          "num_sales": 29189,
          "num_unique_customers": 10521,
          "revenue": 919.0261186440664,
          "t_dat": "2019-10-18T00:00:00"
         },
         {
          "num_sales": 32588,
          "num_unique_customers": 11591,
          "revenue": 1032.0394576271171,
          "t_dat": "2019-10-19T00:00:00"
         },
         {
          "num_sales": 27989,
          "num_unique_customers": 8422,
          "revenue": 929.3257966101681,
          "t_dat": "2019-10-20T00:00:00"
         },
         {
          "num_sales": 31697,
          "num_unique_customers": 10349,
          "revenue": 1051.1994915254222,
          "t_dat": "2019-10-21T00:00:00"
         },
         {
          "num_sales": 35293,
          "num_unique_customers": 11858,
          "revenue": 1148.1024745762695,
          "t_dat": "2019-10-22T00:00:00"
         },
         {
          "num_sales": 37008,
          "num_unique_customers": 12452,
          "revenue": 1216.9202711864389,
          "t_dat": "2019-10-23T00:00:00"
         },
         {
          "num_sales": 37675,
          "num_unique_customers": 13158,
          "revenue": 1221.2819661016931,
          "t_dat": "2019-10-24T00:00:00"
         },
         {
          "num_sales": 37261,
          "num_unique_customers": 13462,
          "revenue": 1204.8221016949135,
          "t_dat": "2019-10-25T00:00:00"
         },
         {
          "num_sales": 34845,
          "num_unique_customers": 12379,
          "revenue": 1119.1237457627103,
          "t_dat": "2019-10-26T00:00:00"
         },
         {
          "num_sales": 33399,
          "num_unique_customers": 10457,
          "revenue": 1122.22261016949,
          "t_dat": "2019-10-27T00:00:00"
         },
         {
          "num_sales": 29691,
          "num_unique_customers": 9556,
          "revenue": 1040.8022711864392,
          "t_dat": "2019-10-28T00:00:00"
         },
         {
          "num_sales": 30235,
          "num_unique_customers": 9912,
          "revenue": 1052.175796610168,
          "t_dat": "2019-10-29T00:00:00"
         },
         {
          "num_sales": 34411,
          "num_unique_customers": 11200,
          "revenue": 1191.619491525422,
          "t_dat": "2019-10-30T00:00:00"
         },
         {
          "num_sales": 33133,
          "num_unique_customers": 11219,
          "revenue": 1146.291864406778,
          "t_dat": "2019-10-31T00:00:00"
         },
         {
          "num_sales": 32518,
          "num_unique_customers": 11380,
          "revenue": 1118.763237288134,
          "t_dat": "2019-11-01T00:00:00"
         },
         {
          "num_sales": 35299,
          "num_unique_customers": 12569,
          "revenue": 1208.7732033898287,
          "t_dat": "2019-11-02T00:00:00"
         },
         {
          "num_sales": 84406,
          "num_unique_customers": 20415,
          "revenue": 2738.4624576271144,
          "t_dat": "2019-11-03T00:00:00"
         },
         {
          "num_sales": 28038,
          "num_unique_customers": 8981,
          "revenue": 974.1735932203376,
          "t_dat": "2019-11-04T00:00:00"
         },
         {
          "num_sales": 28336,
          "num_unique_customers": 9462,
          "revenue": 987.2824745762698,
          "t_dat": "2019-11-05T00:00:00"
         },
         {
          "num_sales": 29694,
          "num_unique_customers": 10382,
          "revenue": 1009.4259661016935,
          "t_dat": "2019-11-06T00:00:00"
         },
         {
          "num_sales": 28221,
          "num_unique_customers": 9865,
          "revenue": 965.6569322033885,
          "t_dat": "2019-11-07T00:00:00"
         },
         {
          "num_sales": 30760,
          "num_unique_customers": 11392,
          "revenue": 1036.3715084745747,
          "t_dat": "2019-11-08T00:00:00"
         },
         {
          "num_sales": 31131,
          "num_unique_customers": 11451,
          "revenue": 1039.170983050846,
          "t_dat": "2019-11-09T00:00:00"
         },
         {
          "num_sales": 25462,
          "num_unique_customers": 8305,
          "revenue": 888.7046271186429,
          "t_dat": "2019-11-10T00:00:00"
         },
         {
          "num_sales": 41049,
          "num_unique_customers": 12479,
          "revenue": 1412.9390169491505,
          "t_dat": "2019-11-11T00:00:00"
         },
         {
          "num_sales": 25201,
          "num_unique_customers": 8713,
          "revenue": 897.3929152542361,
          "t_dat": "2019-11-12T00:00:00"
         },
         {
          "num_sales": 27669,
          "num_unique_customers": 9442,
          "revenue": 957.5164406779647,
          "t_dat": "2019-11-13T00:00:00"
         },
         {
          "num_sales": 28256,
          "num_unique_customers": 10171,
          "revenue": 985.5495762711851,
          "t_dat": "2019-11-14T00:00:00"
         },
         {
          "num_sales": 28366,
          "num_unique_customers": 10646,
          "revenue": 968.8953050847443,
          "t_dat": "2019-11-15T00:00:00"
         },
         {
          "num_sales": 31297,
          "num_unique_customers": 11765,
          "revenue": 1058.694644067795,
          "t_dat": "2019-11-16T00:00:00"
         },
         {
          "num_sales": 25967,
          "num_unique_customers": 8401,
          "revenue": 921.0244576271174,
          "t_dat": "2019-11-17T00:00:00"
         },
         {
          "num_sales": 23989,
          "num_unique_customers": 7955,
          "revenue": 867.4640338983039,
          "t_dat": "2019-11-18T00:00:00"
         },
         {
          "num_sales": 25831,
          "num_unique_customers": 8728,
          "revenue": 913.2263389830496,
          "t_dat": "2019-11-19T00:00:00"
         },
         {
          "num_sales": 29013,
          "num_unique_customers": 10265,
          "revenue": 1009.168355932202,
          "t_dat": "2019-11-20T00:00:00"
         },
         {
          "num_sales": 28532,
          "num_unique_customers": 10474,
          "revenue": 985.61254237288,
          "t_dat": "2019-11-21T00:00:00"
         },
         {
          "num_sales": 30161,
          "num_unique_customers": 11350,
          "revenue": 1007.4625084745747,
          "t_dat": "2019-11-22T00:00:00"
         },
         {
          "num_sales": 31419,
          "num_unique_customers": 11825,
          "revenue": 1019.1101525423713,
          "t_dat": "2019-11-23T00:00:00"
         },
         {
          "num_sales": 25957,
          "num_unique_customers": 8939,
          "revenue": 868.946728813558,
          "t_dat": "2019-11-24T00:00:00"
         },
         {
          "num_sales": 38160,
          "num_unique_customers": 12595,
          "revenue": 1199.4700169491507,
          "t_dat": "2019-11-25T00:00:00"
         },
         {
          "num_sales": 37160,
          "num_unique_customers": 12499,
          "revenue": 1174.0162372881337,
          "t_dat": "2019-11-26T00:00:00"
         },
         {
          "num_sales": 33628,
          "num_unique_customers": 12361,
          "revenue": 1245.9616271186424,
          "t_dat": "2019-11-27T00:00:00"
         },
         {
          "num_sales": 106257,
          "num_unique_customers": 28428,
          "revenue": 3103.027932203385,
          "t_dat": "2019-11-28T00:00:00"
         },
         {
          "num_sales": 160875,
          "num_unique_customers": 47643,
          "revenue": 4444.3423898305,
          "t_dat": "2019-11-29T00:00:00"
         },
         {
          "num_sales": 65381,
          "num_unique_customers": 20796,
          "revenue": 1847.813796610166,
          "t_dat": "2019-11-30T00:00:00"
         },
         {
          "num_sales": 68468,
          "num_unique_customers": 19270,
          "revenue": 1806.6985762711834,
          "t_dat": "2019-12-01T00:00:00"
         },
         {
          "num_sales": 60843,
          "num_unique_customers": 18013,
          "revenue": 1626.0400508474547,
          "t_dat": "2019-12-02T00:00:00"
         },
         {
          "num_sales": 22951,
          "num_unique_customers": 8785,
          "revenue": 768.7769152542361,
          "t_dat": "2019-12-03T00:00:00"
         },
         {
          "num_sales": 25105,
          "num_unique_customers": 9615,
          "revenue": 855.7742542372869,
          "t_dat": "2019-12-04T00:00:00"
         },
         {
          "num_sales": 22457,
          "num_unique_customers": 8909,
          "revenue": 758.9953559322023,
          "t_dat": "2019-12-05T00:00:00"
         },
         {
          "num_sales": 24432,
          "num_unique_customers": 9602,
          "revenue": 789.9276440677954,
          "t_dat": "2019-12-06T00:00:00"
         },
         {
          "num_sales": 28188,
          "num_unique_customers": 11094,
          "revenue": 897.8043220338969,
          "t_dat": "2019-12-07T00:00:00"
         },
         {
          "num_sales": 23345,
          "num_unique_customers": 8224,
          "revenue": 793.053881355931,
          "t_dat": "2019-12-08T00:00:00"
         },
         {
          "num_sales": 24980,
          "num_unique_customers": 9070,
          "revenue": 849.9100169491514,
          "t_dat": "2019-12-09T00:00:00"
         },
         {
          "num_sales": 28309,
          "num_unique_customers": 10276,
          "revenue": 940.922915254236,
          "t_dat": "2019-12-10T00:00:00"
         },
         {
          "num_sales": 31451,
          "num_unique_customers": 11561,
          "revenue": 1025.8241186440664,
          "t_dat": "2019-12-11T00:00:00"
         },
         {
          "num_sales": 31493,
          "num_unique_customers": 12253,
          "revenue": 1006.9618305084732,
          "t_dat": "2019-12-12T00:00:00"
         },
         {
          "num_sales": 28924,
          "num_unique_customers": 11141,
          "revenue": 925.9741355932191,
          "t_dat": "2019-12-13T00:00:00"
         },
         {
          "num_sales": 32329,
          "num_unique_customers": 12459,
          "revenue": 987.6616440677952,
          "t_dat": "2019-12-14T00:00:00"
         },
         {
          "num_sales": 28747,
          "num_unique_customers": 10032,
          "revenue": 915.2002372881343,
          "t_dat": "2019-12-15T00:00:00"
         },
         {
          "num_sales": 30041,
          "num_unique_customers": 10706,
          "revenue": 922.2252711864394,
          "t_dat": "2019-12-16T00:00:00"
         },
         {
          "num_sales": 33931,
          "num_unique_customers": 12239,
          "revenue": 968.299983050846,
          "t_dat": "2019-12-17T00:00:00"
         },
         {
          "num_sales": 66070,
          "num_unique_customers": 19751,
          "revenue": 1684.5459830508444,
          "t_dat": "2019-12-18T00:00:00"
         },
         {
          "num_sales": 53330,
          "num_unique_customers": 17140,
          "revenue": 1326.879915254235,
          "t_dat": "2019-12-19T00:00:00"
         },
         {
          "num_sales": 52454,
          "num_unique_customers": 17960,
          "revenue": 1242.2328305084723,
          "t_dat": "2019-12-20T00:00:00"
         },
         {
          "num_sales": 56187,
          "num_unique_customers": 19024,
          "revenue": 1362.9191186440653,
          "t_dat": "2019-12-21T00:00:00"
         },
         {
          "num_sales": 46731,
          "num_unique_customers": 14770,
          "revenue": 1158.312474576269,
          "t_dat": "2019-12-22T00:00:00"
         },
         {
          "num_sales": 51240,
          "num_unique_customers": 17140,
          "revenue": 1208.1923050847433,
          "t_dat": "2019-12-23T00:00:00"
         },
         {
          "num_sales": 37927,
          "num_unique_customers": 13149,
          "revenue": 907.8097796610151,
          "t_dat": "2019-12-24T00:00:00"
         },
         {
          "num_sales": 13637,
          "num_unique_customers": 3854,
          "revenue": 408.18927118644,
          "t_dat": "2019-12-25T00:00:00"
         },
         {
          "num_sales": 20328,
          "num_unique_customers": 6088,
          "revenue": 553.3544576271177,
          "t_dat": "2019-12-26T00:00:00"
         },
         {
          "num_sales": 40678,
          "num_unique_customers": 13916,
          "revenue": 1059.405847457625,
          "t_dat": "2019-12-27T00:00:00"
         },
         {
          "num_sales": 39513,
          "num_unique_customers": 13324,
          "revenue": 1039.74081355932,
          "t_dat": "2019-12-28T00:00:00"
         },
         {
          "num_sales": 34918,
          "num_unique_customers": 10859,
          "revenue": 943.241898305083,
          "t_dat": "2019-12-29T00:00:00"
         },
         {
          "num_sales": 34915,
          "num_unique_customers": 12297,
          "revenue": 908.9407288135576,
          "t_dat": "2019-12-30T00:00:00"
         },
         {
          "num_sales": 24393,
          "num_unique_customers": 8882,
          "revenue": 623.775881355931,
          "t_dat": "2019-12-31T00:00:00"
         },
         {
          "num_sales": 12760,
          "num_unique_customers": 3484,
          "revenue": 384.8911355932197,
          "t_dat": "2020-01-01T00:00:00"
         },
         {
          "num_sales": 44864,
          "num_unique_customers": 13836,
          "revenue": 1161.7539491525401,
          "t_dat": "2020-01-02T00:00:00"
         },
         {
          "num_sales": 46190,
          "num_unique_customers": 13940,
          "revenue": 1151.6487457627095,
          "t_dat": "2020-01-03T00:00:00"
         },
         {
          "num_sales": 44507,
          "num_unique_customers": 13519,
          "revenue": 1123.3146779660995,
          "t_dat": "2020-01-04T00:00:00"
         },
         {
          "num_sales": 34813,
          "num_unique_customers": 9696,
          "revenue": 909.635271186439,
          "t_dat": "2020-01-05T00:00:00"
         },
         {
          "num_sales": 29430,
          "num_unique_customers": 9047,
          "revenue": 793.7943220338968,
          "t_dat": "2020-01-06T00:00:00"
         },
         {
          "num_sales": 29251,
          "num_unique_customers": 9077,
          "revenue": 794.4936949152528,
          "t_dat": "2020-01-07T00:00:00"
         },
         {
          "num_sales": 38700,
          "num_unique_customers": 11281,
          "revenue": 991.6767966101676,
          "t_dat": "2020-01-08T00:00:00"
         },
         {
          "num_sales": 36746,
          "num_unique_customers": 10879,
          "revenue": 940.1402033898287,
          "t_dat": "2020-01-09T00:00:00"
         },
         {
          "num_sales": 34590,
          "num_unique_customers": 10725,
          "revenue": 892.5211525423712,
          "t_dat": "2020-01-10T00:00:00"
         },
         {
          "num_sales": 36101,
          "num_unique_customers": 11691,
          "revenue": 927.8257966101677,
          "t_dat": "2020-01-11T00:00:00"
         },
         {
          "num_sales": 34899,
          "num_unique_customers": 9322,
          "revenue": 941.895898305083,
          "t_dat": "2020-01-12T00:00:00"
         },
         {
          "num_sales": 31333,
          "num_unique_customers": 8885,
          "revenue": 837.942203389829,
          "t_dat": "2020-01-13T00:00:00"
         },
         {
          "num_sales": 32103,
          "num_unique_customers": 9090,
          "revenue": 859.7936610169477,
          "t_dat": "2020-01-14T00:00:00"
         },
         {
          "num_sales": 32972,
          "num_unique_customers": 9413,
          "revenue": 876.0490338983035,
          "t_dat": "2020-01-15T00:00:00"
         },
         {
          "num_sales": 33827,
          "num_unique_customers": 10452,
          "revenue": 894.1049999999984,
          "t_dat": "2020-01-16T00:00:00"
         },
         {
          "num_sales": 31236,
          "num_unique_customers": 9893,
          "revenue": 818.4341694915239,
          "t_dat": "2020-01-17T00:00:00"
         },
         {
          "num_sales": 34025,
          "num_unique_customers": 10897,
          "revenue": 883.1991694915238,
          "t_dat": "2020-01-18T00:00:00"
         },
         {
          "num_sales": 29787,
          "num_unique_customers": 7978,
          "revenue": 801.7902033898291,
          "t_dat": "2020-01-19T00:00:00"
         },
         {
          "num_sales": 29107,
          "num_unique_customers": 8659,
          "revenue": 779.988694915253,
          "t_dat": "2020-01-20T00:00:00"
         },
         {
          "num_sales": 25632,
          "num_unique_customers": 8025,
          "revenue": 693.6894237288124,
          "t_dat": "2020-01-21T00:00:00"
         },
         {
          "num_sales": 34075,
          "num_unique_customers": 10148,
          "revenue": 927.8641186440663,
          "t_dat": "2020-01-22T00:00:00"
         },
         {
          "num_sales": 36257,
          "num_unique_customers": 11402,
          "revenue": 981.1125932203373,
          "t_dat": "2020-01-23T00:00:00"
         },
         {
          "num_sales": 38920,
          "num_unique_customers": 12672,
          "revenue": 1047.5912033898287,
          "t_dat": "2020-01-24T00:00:00"
         },
         {
          "num_sales": 43377,
          "num_unique_customers": 13961,
          "revenue": 1155.7170508474555,
          "t_dat": "2020-01-25T00:00:00"
         },
         {
          "num_sales": 43586,
          "num_unique_customers": 12660,
          "revenue": 1261.9679661016928,
          "t_dat": "2020-01-26T00:00:00"
         },
         {
          "num_sales": 35427,
          "num_unique_customers": 10445,
          "revenue": 1003.5246610169474,
          "t_dat": "2020-01-27T00:00:00"
         },
         {
          "num_sales": 33689,
          "num_unique_customers": 10271,
          "revenue": 941.5572542372867,
          "t_dat": "2020-01-28T00:00:00"
         },
         {
          "num_sales": 36833,
          "num_unique_customers": 11449,
          "revenue": 1035.102457627117,
          "t_dat": "2020-01-29T00:00:00"
         },
         {
          "num_sales": 36058,
          "num_unique_customers": 12031,
          "revenue": 1000.2999322033882,
          "t_dat": "2020-01-30T00:00:00"
         },
         {
          "num_sales": 35259,
          "num_unique_customers": 11914,
          "revenue": 980.263050847456,
          "t_dat": "2020-01-31T00:00:00"
         },
         {
          "num_sales": 38017,
          "num_unique_customers": 12590,
          "revenue": 1046.330525423727,
          "t_dat": "2020-02-01T00:00:00"
         },
         {
          "num_sales": 31387,
          "num_unique_customers": 8831,
          "revenue": 911.4704237288122,
          "t_dat": "2020-02-02T00:00:00"
         },
         {
          "num_sales": 31845,
          "num_unique_customers": 9727,
          "revenue": 913.9196440677952,
          "t_dat": "2020-02-03T00:00:00"
         },
         {
          "num_sales": 30914,
          "num_unique_customers": 9541,
          "revenue": 888.818508474575,
          "t_dat": "2020-02-04T00:00:00"
         },
         {
          "num_sales": 36030,
          "num_unique_customers": 11511,
          "revenue": 1031.7167627118629,
          "t_dat": "2020-02-05T00:00:00"
         },
         {
          "num_sales": 41058,
          "num_unique_customers": 12929,
          "revenue": 1139.3065084745745,
          "t_dat": "2020-02-06T00:00:00"
         },
         {
          "num_sales": 38144,
          "num_unique_customers": 12753,
          "revenue": 1041.4222203389813,
          "t_dat": "2020-02-07T00:00:00"
         },
         {
          "num_sales": 39288,
          "num_unique_customers": 12882,
          "revenue": 1075.7725084745746,
          "t_dat": "2020-02-08T00:00:00"
         },
         {
          "num_sales": 33788,
          "num_unique_customers": 8975,
          "revenue": 984.3282203389816,
          "t_dat": "2020-02-09T00:00:00"
         },
         {
          "num_sales": 30260,
          "num_unique_customers": 9231,
          "revenue": 860.6827457627105,
          "t_dat": "2020-02-10T00:00:00"
         },
         {
          "num_sales": 31588,
          "num_unique_customers": 9920,
          "revenue": 907.1728474576257,
          "t_dat": "2020-02-11T00:00:00"
         },
         {
          "num_sales": 29543,
          "num_unique_customers": 9822,
          "revenue": 844.824881355931,
          "t_dat": "2020-02-12T00:00:00"
         },
         {
          "num_sales": 35157,
          "num_unique_customers": 11121,
          "revenue": 1030.278644067795,
          "t_dat": "2020-02-13T00:00:00"
         },
         {
          "num_sales": 32158,
          "num_unique_customers": 10962,
          "revenue": 900.8352372881342,
          "t_dat": "2020-02-14T00:00:00"
         },
         {
          "num_sales": 37570,
          "num_unique_customers": 12605,
          "revenue": 1041.9955423728798,
          "t_dat": "2020-02-15T00:00:00"
         },
         {
          "num_sales": 32814,
          "num_unique_customers": 9009,
          "revenue": 960.8380847457613,
          "t_dat": "2020-02-16T00:00:00"
         },
         {
          "num_sales": 32415,
          "num_unique_customers": 9728,
          "revenue": 927.0687457627104,
          "t_dat": "2020-02-17T00:00:00"
         },
         {
          "num_sales": 33069,
          "num_unique_customers": 10508,
          "revenue": 940.213796610168,
          "t_dat": "2020-02-18T00:00:00"
         },
         {
          "num_sales": 26943,
          "num_unique_customers": 9048,
          "revenue": 748.2798983050835,
          "t_dat": "2020-02-19T00:00:00"
         },
         {
          "num_sales": 39201,
          "num_unique_customers": 12713,
          "revenue": 1219.9056101694896,
          "t_dat": "2020-02-20T00:00:00"
         },
         {
          "num_sales": 34720,
          "num_unique_customers": 11639,
          "revenue": 968.8737796610153,
          "t_dat": "2020-02-21T00:00:00"
         },
         {
          "num_sales": 34562,
          "num_unique_customers": 10991,
          "revenue": 981.6192203389814,
          "t_dat": "2020-02-22T00:00:00"
         },
         {
          "num_sales": 29957,
          "num_unique_customers": 7984,
          "revenue": 888.319796610168,
          "t_dat": "2020-02-23T00:00:00"
         },
         {
          "num_sales": 30865,
          "num_unique_customers": 8982,
          "revenue": 923.7790677966087,
          "t_dat": "2020-02-24T00:00:00"
         },
         {
          "num_sales": 35114,
          "num_unique_customers": 10862,
          "revenue": 1026.1117118644052,
          "t_dat": "2020-02-25T00:00:00"
         },
         {
          "num_sales": 38859,
          "num_unique_customers": 12119,
          "revenue": 1157.7318305084727,
          "t_dat": "2020-02-26T00:00:00"
         },
         {
          "num_sales": 41095,
          "num_unique_customers": 12889,
          "revenue": 1235.899593220337,
          "t_dat": "2020-02-27T00:00:00"
         },
         {
          "num_sales": 35822,
          "num_unique_customers": 11855,
          "revenue": 1038.640423728812,
          "t_dat": "2020-02-28T00:00:00"
         },
         {
          "num_sales": 39676,
          "num_unique_customers": 13084,
          "revenue": 1156.7200338983032,
          "t_dat": "2020-02-29T00:00:00"
         },
         {
          "num_sales": 37082,
          "num_unique_customers": 10433,
          "revenue": 1129.321050847456,
          "t_dat": "2020-03-01T00:00:00"
         },
         {
          "num_sales": 30941,
          "num_unique_customers": 9183,
          "revenue": 934.817135593219,
          "t_dat": "2020-03-02T00:00:00"
         },
         {
          "num_sales": 36802,
          "num_unique_customers": 10905,
          "revenue": 1095.026050847456,
          "t_dat": "2020-03-03T00:00:00"
         },
         {
          "num_sales": 56629,
          "num_unique_customers": 15208,
          "revenue": 1562.9251525423701,
          "t_dat": "2020-03-04T00:00:00"
         },
         {
          "num_sales": 46043,
          "num_unique_customers": 13067,
          "revenue": 1262.9607457627096,
          "t_dat": "2020-03-05T00:00:00"
         },
         {
          "num_sales": 40139,
          "num_unique_customers": 12427,
          "revenue": 1108.457525423727,
          "t_dat": "2020-03-06T00:00:00"
         },
         {
          "num_sales": 44794,
          "num_unique_customers": 14047,
          "revenue": 1248.627033898303,
          "t_dat": "2020-03-07T00:00:00"
         },
         {
          "num_sales": 39775,
          "num_unique_customers": 10420,
          "revenue": 1129.814152542371,
          "t_dat": "2020-03-08T00:00:00"
         },
         {
          "num_sales": 37516,
          "num_unique_customers": 10131,
          "revenue": 1061.8138305084728,
          "t_dat": "2020-03-09T00:00:00"
         },
         {
          "num_sales": 34895,
          "num_unique_customers": 9728,
          "revenue": 1004.773644067795,
          "t_dat": "2020-03-10T00:00:00"
         },
         {
          "num_sales": 41503,
          "num_unique_customers": 12168,
          "revenue": 1186.646779661015,
          "t_dat": "2020-03-11T00:00:00"
         },
         {
          "num_sales": 32748,
          "num_unique_customers": 10174,
          "revenue": 941.31561016949,
          "t_dat": "2020-03-12T00:00:00"
         },
         {
          "num_sales": 29159,
          "num_unique_customers": 9051,
          "revenue": 836.1156101694902,
          "t_dat": "2020-03-13T00:00:00"
         },
         {
          "num_sales": 33680,
          "num_unique_customers": 10691,
          "revenue": 963.3604067796595,
          "t_dat": "2020-03-14T00:00:00"
         },
         {
          "num_sales": 25601,
          "num_unique_customers": 6617,
          "revenue": 716.5800847457615,
          "t_dat": "2020-03-15T00:00:00"
         },
         {
          "num_sales": 19385,
          "num_unique_customers": 5613,
          "revenue": 565.9536271186431,
          "t_dat": "2020-03-16T00:00:00"
         },
         {
          "num_sales": 23792,
          "num_unique_customers": 7201,
          "revenue": 706.3706440677954,
          "t_dat": "2020-03-17T00:00:00"
         },
         {
          "num_sales": 27091,
          "num_unique_customers": 8067,
          "revenue": 803.3477627118631,
          "t_dat": "2020-03-18T00:00:00"
         },
         {
          "num_sales": 24810,
          "num_unique_customers": 7159,
          "revenue": 741.6106779661005,
          "t_dat": "2020-03-19T00:00:00"
         },
         {
          "num_sales": 25830,
          "num_unique_customers": 7229,
          "revenue": 765.0278644067783,
          "t_dat": "2020-03-20T00:00:00"
         },
         {
          "num_sales": 27792,
          "num_unique_customers": 7345,
          "revenue": 798.45754237288,
          "t_dat": "2020-03-21T00:00:00"
         },
         {
          "num_sales": 34956,
          "num_unique_customers": 9248,
          "revenue": 990.2839661016932,
          "t_dat": "2020-03-22T00:00:00"
         },
         {
          "num_sales": 25907,
          "num_unique_customers": 6638,
          "revenue": 744.8288644067784,
          "t_dat": "2020-03-23T00:00:00"
         },
         {
          "num_sales": 32432,
          "num_unique_customers": 8194,
          "revenue": 923.3997627118629,
          "t_dat": "2020-03-24T00:00:00"
         },
         {
          "num_sales": 34904,
          "num_unique_customers": 8748,
          "revenue": 1004.0425423728797,
          "t_dat": "2020-03-25T00:00:00"
         },
         {
          "num_sales": 35264,
          "num_unique_customers": 9019,
          "revenue": 1087.2209322033882,
          "t_dat": "2020-03-26T00:00:00"
         },
         {
          "num_sales": 31779,
          "num_unique_customers": 7992,
          "revenue": 953.6560169491511,
          "t_dat": "2020-03-27T00:00:00"
         },
         {
          "num_sales": 31114,
          "num_unique_customers": 7662,
          "revenue": 917.7002711864392,
          "t_dat": "2020-03-28T00:00:00"
         },
         {
          "num_sales": 34443,
          "num_unique_customers": 7892,
          "revenue": 1008.5635084745746,
          "t_dat": "2020-03-29T00:00:00"
         },
         {
          "num_sales": 36648,
          "num_unique_customers": 9213,
          "revenue": 1067.1376949152525,
          "t_dat": "2020-03-30T00:00:00"
         },
         {
          "num_sales": 34298,
          "num_unique_customers": 8614,
          "revenue": 1014.0481694915238,
          "t_dat": "2020-03-31T00:00:00"
         },
         {
          "num_sales": 39518,
          "num_unique_customers": 10010,
          "revenue": 1142.6307288135574,
          "t_dat": "2020-04-01T00:00:00"
         },
         {
          "num_sales": 39040,
          "num_unique_customers": 9966,
          "revenue": 1155.1111355932185,
          "t_dat": "2020-04-02T00:00:00"
         },
         {
          "num_sales": 55966,
          "num_unique_customers": 12203,
          "revenue": 1576.8348135593192,
          "t_dat": "2020-04-03T00:00:00"
         },
         {
          "num_sales": 80500,
          "num_unique_customers": 16443,
          "revenue": 2104.113186440674,
          "t_dat": "2020-04-04T00:00:00"
         },
         {
          "num_sales": 36027,
          "num_unique_customers": 8245,
          "revenue": 1042.2498135593203,
          "t_dat": "2020-04-05T00:00:00"
         },
         {
          "num_sales": 41962,
          "num_unique_customers": 10098,
          "revenue": 1226.3557118644048,
          "t_dat": "2020-04-06T00:00:00"
         },
         {
          "num_sales": 44270,
          "num_unique_customers": 10280,
          "revenue": 1278.2241525423708,
          "t_dat": "2020-04-07T00:00:00"
         },
         {
          "num_sales": 52965,
          "num_unique_customers": 12183,
          "revenue": 1519.2174067796584,
          "t_dat": "2020-04-08T00:00:00"
         },
         {
          "num_sales": 50991,
          "num_unique_customers": 11716,
          "revenue": 1465.6001186440653,
          "t_dat": "2020-04-09T00:00:00"
         },
         {
          "num_sales": 41889,
          "num_unique_customers": 9397,
          "revenue": 1222.231559322032,
          "t_dat": "2020-04-10T00:00:00"
         },
         {
          "num_sales": 162799,
          "num_unique_customers": 28510,
          "revenue": 3961.9877627118553,
          "t_dat": "2020-04-11T00:00:00"
         },
         {
          "num_sales": 31418,
          "num_unique_customers": 6839,
          "revenue": 915.6819322033883,
          "t_dat": "2020-04-12T00:00:00"
         },
         {
          "num_sales": 32744,
          "num_unique_customers": 7035,
          "revenue": 978.4312881355917,
          "t_dat": "2020-04-13T00:00:00"
         },
         {
          "num_sales": 29072,
          "num_unique_customers": 6972,
          "revenue": 869.6631186440665,
          "t_dat": "2020-04-14T00:00:00"
         },
         {
          "num_sales": 33366,
          "num_unique_customers": 8382,
          "revenue": 1002.8206101694899,
          "t_dat": "2020-04-15T00:00:00"
         },
         {
          "num_sales": 34359,
          "num_unique_customers": 8597,
          "revenue": 1030.1811016949137,
          "t_dat": "2020-04-16T00:00:00"
         },
         {
          "num_sales": 32475,
          "num_unique_customers": 8000,
          "revenue": 971.150203389829,
          "t_dat": "2020-04-17T00:00:00"
         },
         {
          "num_sales": 32065,
          "num_unique_customers": 7787,
          "revenue": 967.8233559322018,
          "t_dat": "2020-04-18T00:00:00"
         },
         {
          "num_sales": 29562,
          "num_unique_customers": 6804,
          "revenue": 879.9908813559308,
          "t_dat": "2020-04-19T00:00:00"
         },
         {
          "num_sales": 36744,
          "num_unique_customers": 8907,
          "revenue": 1068.935118644066,
          "t_dat": "2020-04-20T00:00:00"
         },
         {
          "num_sales": 30862,
          "num_unique_customers": 7589,
          "revenue": 916.9764745762698,
          "t_dat": "2020-04-21T00:00:00"
         },
         {
          "num_sales": 37893,
          "num_unique_customers": 9398,
          "revenue": 1129.318305084744,
          "t_dat": "2020-04-22T00:00:00"
         },
         {
          "num_sales": 44438,
          "num_unique_customers": 11086,
          "revenue": 1316.8854237288115,
          "t_dat": "2020-04-23T00:00:00"
         },
         {
          "num_sales": 41437,
          "num_unique_customers": 10175,
          "revenue": 1218.3786440677945,
          "t_dat": "2020-04-24T00:00:00"
         },
         {
          "num_sales": 51396,
          "num_unique_customers": 11799,
          "revenue": 1361.939271186438,
          "t_dat": "2020-04-25T00:00:00"
         },
         {
          "num_sales": 59238,
          "num_unique_customers": 12927,
          "revenue": 1522.5410847457595,
          "t_dat": "2020-04-26T00:00:00"
         },
         {
          "num_sales": 27850,
          "num_unique_customers": 6674,
          "revenue": 789.3087627118632,
          "t_dat": "2020-04-27T00:00:00"
         },
         {
          "num_sales": 35644,
          "num_unique_customers": 9277,
          "revenue": 1026.5647457627103,
          "t_dat": "2020-04-28T00:00:00"
         },
         {
          "num_sales": 36390,
          "num_unique_customers": 9627,
          "revenue": 1052.836355932202,
          "t_dat": "2020-04-29T00:00:00"
         },
         {
          "num_sales": 38002,
          "num_unique_customers": 10114,
          "revenue": 1094.5025932203375,
          "t_dat": "2020-04-30T00:00:00"
         },
         {
          "num_sales": 32182,
          "num_unique_customers": 8277,
          "revenue": 940.824135593219,
          "t_dat": "2020-05-01T00:00:00"
         },
         {
          "num_sales": 27822,
          "num_unique_customers": 7041,
          "revenue": 815.8016779661006,
          "t_dat": "2020-05-02T00:00:00"
         },
         {
          "num_sales": 25087,
          "num_unique_customers": 6068,
          "revenue": 735.3857457627108,
          "t_dat": "2020-05-03T00:00:00"
         },
         {
          "num_sales": 28126,
          "num_unique_customers": 7372,
          "revenue": 818.7111525423717,
          "t_dat": "2020-05-04T00:00:00"
         },
         {
          "num_sales": 25874,
          "num_unique_customers": 6448,
          "revenue": 752.2998135593209,
          "t_dat": "2020-05-05T00:00:00"
         },
         {
          "num_sales": 34129,
          "num_unique_customers": 9701,
          "revenue": 955.3670847457612,
          "t_dat": "2020-05-06T00:00:00"
         },
         {
          "num_sales": 37864,
          "num_unique_customers": 10477,
          "revenue": 1061.7915423728798,
          "t_dat": "2020-05-07T00:00:00"
         },
         {
          "num_sales": 43071,
          "num_unique_customers": 11780,
          "revenue": 1170.8911694915237,
          "t_dat": "2020-05-08T00:00:00"
         },
         {
          "num_sales": 43018,
          "num_unique_customers": 12075,
          "revenue": 1162.6160508474559,
          "t_dat": "2020-05-09T00:00:00"
         },
         {
          "num_sales": 26039,
          "num_unique_customers": 6242,
          "revenue": 770.1803728813549,
          "t_dat": "2020-05-10T00:00:00"
         },
         {
          "num_sales": 37795,
          "num_unique_customers": 10358,
          "revenue": 1058.534491525422,
          "t_dat": "2020-05-11T00:00:00"
         },
         {
          "num_sales": 37670,
          "num_unique_customers": 10302,
          "revenue": 1048.2912372881337,
          "t_dat": "2020-05-12T00:00:00"
         },
         {
          "num_sales": 41121,
          "num_unique_customers": 11289,
          "revenue": 1140.7255423728793,
          "t_dat": "2020-05-13T00:00:00"
         },
         {
          "num_sales": 45407,
          "num_unique_customers": 12435,
          "revenue": 1259.9599322033878,
          "t_dat": "2020-05-14T00:00:00"
         },
         {
          "num_sales": 42451,
          "num_unique_customers": 12077,
          "revenue": 1152.4351694915235,
          "t_dat": "2020-05-15T00:00:00"
         },
         {
          "num_sales": 41721,
          "num_unique_customers": 11618,
          "revenue": 1116.5138983050829,
          "t_dat": "2020-05-16T00:00:00"
         },
         {
          "num_sales": 34390,
          "num_unique_customers": 8454,
          "revenue": 950.6213220338967,
          "t_dat": "2020-05-17T00:00:00"
         },
         {
          "num_sales": 44982,
          "num_unique_customers": 11863,
          "revenue": 1226.4624915254217,
          "t_dat": "2020-05-18T00:00:00"
         },
         {
          "num_sales": 49952,
          "num_unique_customers": 13182,
          "revenue": 1331.3666271186419,
          "t_dat": "2020-05-19T00:00:00"
         },
         {
          "num_sales": 58890,
          "num_unique_customers": 15750,
          "revenue": 1543.6521016949125,
          "t_dat": "2020-05-20T00:00:00"
         },
         {
          "num_sales": 48272,
          "num_unique_customers": 11593,
          "revenue": 1290.650694915252,
          "t_dat": "2020-05-21T00:00:00"
         },
         {
          "num_sales": 67789,
          "num_unique_customers": 17295,
          "revenue": 1737.1373559322003,
          "t_dat": "2020-05-22T00:00:00"
         },
         {
          "num_sales": 62966,
          "num_unique_customers": 16567,
          "revenue": 1629.9805762711835,
          "t_dat": "2020-05-23T00:00:00"
         },
         {
          "num_sales": 41785,
          "num_unique_customers": 10407,
          "revenue": 1184.2836949152522,
          "t_dat": "2020-05-24T00:00:00"
         },
         {
          "num_sales": 51475,
          "num_unique_customers": 13906,
          "revenue": 1381.3000169491502,
          "t_dat": "2020-05-25T00:00:00"
         },
         {
          "num_sales": 56595,
          "num_unique_customers": 15194,
          "revenue": 1523.1479322033872,
          "t_dat": "2020-05-26T00:00:00"
         },
         {
          "num_sales": 62439,
          "num_unique_customers": 17109,
          "revenue": 1665.7546610169463,
          "t_dat": "2020-05-27T00:00:00"
         },
         {
          "num_sales": 60745,
          "num_unique_customers": 16991,
          "revenue": 1644.9591864406752,
          "t_dat": "2020-05-28T00:00:00"
         },
         {
          "num_sales": 59463,
          "num_unique_customers": 16473,
          "revenue": 1563.8377288135566,
          "t_dat": "2020-05-29T00:00:00"
         },
         {
          "num_sales": 60861,
          "num_unique_customers": 16758,
          "revenue": 1564.1618135593192,
          "t_dat": "2020-05-30T00:00:00"
         },
         {
          "num_sales": 31834,
          "num_unique_customers": 7639,
          "revenue": 948.0491525423714,
          "t_dat": "2020-05-31T00:00:00"
         },
         {
          "num_sales": 43084,
          "num_unique_customers": 11218,
          "revenue": 1232.2898305084725,
          "t_dat": "2020-06-01T00:00:00"
         },
         {
          "num_sales": 44666,
          "num_unique_customers": 12366,
          "revenue": 1198.8877118644048,
          "t_dat": "2020-06-02T00:00:00"
         },
         {
          "num_sales": 53187,
          "num_unique_customers": 14747,
          "revenue": 1420.1546949152516,
          "t_dat": "2020-06-03T00:00:00"
         },
         {
          "num_sales": 50470,
          "num_unique_customers": 14438,
          "revenue": 1386.138203389828,
          "t_dat": "2020-06-04T00:00:00"
         },
         {
          "num_sales": 44470,
          "num_unique_customers": 13068,
          "revenue": 1179.4080169491506,
          "t_dat": "2020-06-05T00:00:00"
         },
         {
          "num_sales": 48649,
          "num_unique_customers": 14181,
          "revenue": 1239.7503728813535,
          "t_dat": "2020-06-06T00:00:00"
         },
         {
          "num_sales": 36733,
          "num_unique_customers": 10041,
          "revenue": 1049.220016949151,
          "t_dat": "2020-06-07T00:00:00"
         },
         {
          "num_sales": 38117,
          "num_unique_customers": 11436,
          "revenue": 1079.4796779660999,
          "t_dat": "2020-06-08T00:00:00"
         },
         {
          "num_sales": 39370,
          "num_unique_customers": 11939,
          "revenue": 1058.2374237288118,
          "t_dat": "2020-06-09T00:00:00"
         },
         {
          "num_sales": 42585,
          "num_unique_customers": 12752,
          "revenue": 1133.3058644067776,
          "t_dat": "2020-06-10T00:00:00"
         },
         {
          "num_sales": 44044,
          "num_unique_customers": 13133,
          "revenue": 1150.1526779660996,
          "t_dat": "2020-06-11T00:00:00"
         },
         {
          "num_sales": 43804,
          "num_unique_customers": 13152,
          "revenue": 1110.5238644067776,
          "t_dat": "2020-06-12T00:00:00"
         },
         {
          "num_sales": 46088,
          "num_unique_customers": 13464,
          "revenue": 1159.8153050847436,
          "t_dat": "2020-06-13T00:00:00"
         },
         {
          "num_sales": 32087,
          "num_unique_customers": 8637,
          "revenue": 880.3205762711849,
          "t_dat": "2020-06-14T00:00:00"
         },
         {
          "num_sales": 40427,
          "num_unique_customers": 11892,
          "revenue": 1048.5014067796592,
          "t_dat": "2020-06-15T00:00:00"
         },
         {
          "num_sales": 49855,
          "num_unique_customers": 14762,
          "revenue": 1292.0448305084724,
          "t_dat": "2020-06-16T00:00:00"
         },
         {
          "num_sales": 110981,
          "num_unique_customers": 26247,
          "revenue": 2540.113406779656,
          "t_dat": "2020-06-17T00:00:00"
         },
         {
          "num_sales": 84563,
          "num_unique_customers": 21668,
          "revenue": 1916.1871355932167,
          "t_dat": "2020-06-18T00:00:00"
         },
         {
          "num_sales": 77241,
          "num_unique_customers": 20673,
          "revenue": 1755.304762711861,
          "t_dat": "2020-06-19T00:00:00"
         },
         {
          "num_sales": 67788,
          "num_unique_customers": 18293,
          "revenue": 1533.4146949152512,
          "t_dat": "2020-06-20T00:00:00"
         },
         {
          "num_sales": 56469,
          "num_unique_customers": 13476,
          "revenue": 1369.5237288135568,
          "t_dat": "2020-06-21T00:00:00"
         },
         {
          "num_sales": 75334,
          "num_unique_customers": 19912,
          "revenue": 1776.1568813559288,
          "t_dat": "2020-06-22T00:00:00"
         },
         {
          "num_sales": 77067,
          "num_unique_customers": 20689,
          "revenue": 1803.5380847457593,
          "t_dat": "2020-06-23T00:00:00"
         },
         {
          "num_sales": 98790,
          "num_unique_customers": 24751,
          "revenue": 2195.581728813555,
          "t_dat": "2020-06-24T00:00:00"
         },
         {
          "num_sales": 88684,
          "num_unique_customers": 23052,
          "revenue": 1976.2762033898266,
          "t_dat": "2020-06-25T00:00:00"
         },
         {
          "num_sales": 77452,
          "num_unique_customers": 20274,
          "revenue": 1726.0800847457592,
          "t_dat": "2020-06-26T00:00:00"
         },
         {
          "num_sales": 74671,
          "num_unique_customers": 20053,
          "revenue": 1676.1384406779628,
          "t_dat": "2020-06-27T00:00:00"
         },
         {
          "num_sales": 63485,
          "num_unique_customers": 16205,
          "revenue": 1458.1629152542346,
          "t_dat": "2020-06-28T00:00:00"
         },
         {
          "num_sales": 53193,
          "num_unique_customers": 14927,
          "revenue": 1259.7523220338958,
          "t_dat": "2020-06-29T00:00:00"
         },
         {
          "num_sales": 61153,
          "num_unique_customers": 16857,
          "revenue": 1450.8982033898276,
          "t_dat": "2020-06-30T00:00:00"
         },
         {
          "num_sales": 59443,
          "num_unique_customers": 16730,
          "revenue": 1395.5045423728786,
          "t_dat": "2020-07-01T00:00:00"
         },
         {
          "num_sales": 55884,
          "num_unique_customers": 16174,
          "revenue": 1295.346423728811,
          "t_dat": "2020-07-02T00:00:00"
         },
         {
          "num_sales": 51212,
          "num_unique_customers": 15498,
          "revenue": 1175.587915254235,
          "t_dat": "2020-07-03T00:00:00"
         },
         {
          "num_sales": 46408,
          "num_unique_customers": 13701,
          "revenue": 1095.8934237288115,
          "t_dat": "2020-07-04T00:00:00"
         },
         {
          "num_sales": 38401,
          "num_unique_customers": 10202,
          "revenue": 936.9381355932186,
          "t_dat": "2020-07-05T00:00:00"
         },
         {
          "num_sales": 40933,
          "num_unique_customers": 12115,
          "revenue": 999.5495932203371,
          "t_dat": "2020-07-06T00:00:00"
         },
         {
          "num_sales": 45138,
          "num_unique_customers": 13509,
          "revenue": 1079.2765084745743,
          "t_dat": "2020-07-07T00:00:00"
         },
         {
          "num_sales": 49839,
          "num_unique_customers": 14475,
          "revenue": 1191.3086779660994,
          "t_dat": "2020-07-08T00:00:00"
         },
         {
          "num_sales": 43016,
          "num_unique_customers": 12984,
          "revenue": 1016.7820677966082,
          "t_dat": "2020-07-09T00:00:00"
         },
         {
          "num_sales": 43922,
          "num_unique_customers": 13667,
          "revenue": 1026.2698813559302,
          "t_dat": "2020-07-10T00:00:00"
         },
         {
          "num_sales": 40292,
          "num_unique_customers": 12361,
          "revenue": 948.1258135593201,
          "t_dat": "2020-07-11T00:00:00"
         },
         {
          "num_sales": 29794,
          "num_unique_customers": 8395,
          "revenue": 729.082728813558,
          "t_dat": "2020-07-12T00:00:00"
         },
         {
          "num_sales": 41095,
          "num_unique_customers": 12156,
          "revenue": 987.1953559322016,
          "t_dat": "2020-07-13T00:00:00"
         },
         {
          "num_sales": 38714,
          "num_unique_customers": 11892,
          "revenue": 927.3981864406762,
          "t_dat": "2020-07-14T00:00:00"
         },
         {
          "num_sales": 51387,
          "num_unique_customers": 15532,
          "revenue": 1212.0864067796585,
          "t_dat": "2020-07-15T00:00:00"
         },
         {
          "num_sales": 45465,
          "num_unique_customers": 13922,
          "revenue": 1079.9237966101673,
          "t_dat": "2020-07-16T00:00:00"
         },
         {
          "num_sales": 42666,
          "num_unique_customers": 13429,
          "revenue": 991.5458813559302,
          "t_dat": "2020-07-17T00:00:00"
         },
         {
          "num_sales": 37666,
          "num_unique_customers": 11775,
          "revenue": 883.2640169491508,
          "t_dat": "2020-07-18T00:00:00"
         },
         {
          "num_sales": 28801,
          "num_unique_customers": 7962,
          "revenue": 702.2081016949139,
          "t_dat": "2020-07-19T00:00:00"
         },
         {
          "num_sales": 40657,
          "num_unique_customers": 12286,
          "revenue": 977.8743220338964,
          "t_dat": "2020-07-20T00:00:00"
         },
         {
          "num_sales": 42886,
          "num_unique_customers": 13335,
          "revenue": 1035.6935084745744,
          "t_dat": "2020-07-21T00:00:00"
         },
         {
          "num_sales": 46368,
          "num_unique_customers": 14170,
          "revenue": 1138.997101694913,
          "t_dat": "2020-07-22T00:00:00"
         },
         {
          "num_sales": 44976,
          "num_unique_customers": 14250,
          "revenue": 1097.8659491525402,
          "t_dat": "2020-07-23T00:00:00"
         },
         {
          "num_sales": 46496,
          "num_unique_customers": 14537,
          "revenue": 1132.1814067796588,
          "t_dat": "2020-07-24T00:00:00"
         },
         {
          "num_sales": 41058,
          "num_unique_customers": 12672,
          "revenue": 1001.3311694915235,
          "t_dat": "2020-07-25T00:00:00"
         },
         {
          "num_sales": 33688,
          "num_unique_customers": 9979,
          "revenue": 839.0154406779645,
          "t_dat": "2020-07-26T00:00:00"
         },
         {
          "num_sales": 40196,
          "num_unique_customers": 12143,
          "revenue": 1008.4934745762694,
          "t_dat": "2020-07-27T00:00:00"
         },
         {
          "num_sales": 46687,
          "num_unique_customers": 14273,
          "revenue": 1156.3632372881334,
          "t_dat": "2020-07-28T00:00:00"
         },
         {
          "num_sales": 47998,
          "num_unique_customers": 14974,
          "revenue": 1188.4460508474554,
          "t_dat": "2020-07-29T00:00:00"
         },
         {
          "num_sales": 51712,
          "num_unique_customers": 15841,
          "revenue": 1203.5094915254213,
          "t_dat": "2020-07-30T00:00:00"
         },
         {
          "num_sales": 38704,
          "num_unique_customers": 11508,
          "revenue": 909.9485593220321,
          "t_dat": "2020-07-31T00:00:00"
         },
         {
          "num_sales": 41958,
          "num_unique_customers": 12564,
          "revenue": 972.5820847457608,
          "t_dat": "2020-08-01T00:00:00"
         },
         {
          "num_sales": 38806,
          "num_unique_customers": 10646,
          "revenue": 908.5920508474558,
          "t_dat": "2020-08-02T00:00:00"
         },
         {
          "num_sales": 45416,
          "num_unique_customers": 13593,
          "revenue": 1084.6743050847438,
          "t_dat": "2020-08-03T00:00:00"
         },
         {
          "num_sales": 54875,
          "num_unique_customers": 16413,
          "revenue": 1320.90601694915,
          "t_dat": "2020-08-04T00:00:00"
         },
         {
          "num_sales": 53207,
          "num_unique_customers": 15669,
          "revenue": 1292.0098813559298,
          "t_dat": "2020-08-05T00:00:00"
         },
         {
          "num_sales": 52430,
          "num_unique_customers": 15676,
          "revenue": 1249.6357118644044,
          "t_dat": "2020-08-06T00:00:00"
         },
         {
          "num_sales": 43193,
          "num_unique_customers": 13023,
          "revenue": 1021.438372881354,
          "t_dat": "2020-08-07T00:00:00"
         },
         {
          "num_sales": 33685,
          "num_unique_customers": 10448,
          "revenue": 805.3482203389815,
          "t_dat": "2020-08-08T00:00:00"
         },
         {
          "num_sales": 27024,
          "num_unique_customers": 7434,
          "revenue": 670.4555593220326,
          "t_dat": "2020-08-09T00:00:00"
         },
         {
          "num_sales": 36909,
          "num_unique_customers": 10799,
          "revenue": 904.000271186439,
          "t_dat": "2020-08-10T00:00:00"
         },
         {
          "num_sales": 42713,
          "num_unique_customers": 12392,
          "revenue": 1048.3872711864387,
          "t_dat": "2020-08-11T00:00:00"
         },
         {
          "num_sales": 71072,
          "num_unique_customers": 17899,
          "revenue": 1734.5777118644032,
          "t_dat": "2020-08-12T00:00:00"
         },
         {
          "num_sales": 39349,
          "num_unique_customers": 12651,
          "revenue": 976.4912372881338,
          "t_dat": "2020-08-13T00:00:00"
         },
         {
          "num_sales": 35305,
          "num_unique_customers": 11687,
          "revenue": 881.1799491525408,
          "t_dat": "2020-08-14T00:00:00"
         },
         {
          "num_sales": 29427,
          "num_unique_customers": 10051,
          "revenue": 746.726949152541,
          "t_dat": "2020-08-15T00:00:00"
         },
         {
          "num_sales": 22613,
          "num_unique_customers": 6809,
          "revenue": 630.6714915254227,
          "t_dat": "2020-08-16T00:00:00"
         },
         {
          "num_sales": 32532,
          "num_unique_customers": 10303,
          "revenue": 881.4353050847442,
          "t_dat": "2020-08-17T00:00:00"
         },
         {
          "num_sales": 34913,
          "num_unique_customers": 11231,
          "revenue": 946.4056610169474,
          "t_dat": "2020-08-18T00:00:00"
         },
         {
          "num_sales": 37284,
          "num_unique_customers": 11838,
          "revenue": 1008.1653559322016,
          "t_dat": "2020-08-19T00:00:00"
         },
         {
          "num_sales": 37926,
          "num_unique_customers": 12435,
          "revenue": 1040.0443559322016,
          "t_dat": "2020-08-20T00:00:00"
         },
         {
          "num_sales": 33913,
          "num_unique_customers": 11331,
          "revenue": 924.4278474576255,
          "t_dat": "2020-08-21T00:00:00"
         },
         {
          "num_sales": 34978,
          "num_unique_customers": 11454,
          "revenue": 982.2143728813543,
          "t_dat": "2020-08-22T00:00:00"
         },
         {
          "num_sales": 33031,
          "num_unique_customers": 9350,
          "revenue": 979.5989322033882,
          "t_dat": "2020-08-23T00:00:00"
         },
         {
          "num_sales": 37672,
          "num_unique_customers": 11719,
          "revenue": 1131.8903220338964,
          "t_dat": "2020-08-24T00:00:00"
         },
         {
          "num_sales": 41840,
          "num_unique_customers": 13108,
          "revenue": 1292.9948983050826,
          "t_dat": "2020-08-25T00:00:00"
         },
         {
          "num_sales": 46027,
          "num_unique_customers": 14128,
          "revenue": 1465.7214406779638,
          "t_dat": "2020-08-26T00:00:00"
         },
         {
          "num_sales": 44403,
          "num_unique_customers": 14584,
          "revenue": 1367.6294576271164,
          "t_dat": "2020-08-27T00:00:00"
         },
         {
          "num_sales": 39546,
          "num_unique_customers": 13385,
          "revenue": 1207.5714406779641,
          "t_dat": "2020-08-28T00:00:00"
         },
         {
          "num_sales": 41175,
          "num_unique_customers": 13358,
          "revenue": 1271.873288135591,
          "t_dat": "2020-08-29T00:00:00"
         },
         {
          "num_sales": 35862,
          "num_unique_customers": 10700,
          "revenue": 1145.319423728812,
          "t_dat": "2020-08-30T00:00:00"
         },
         {
          "num_sales": 38108,
          "num_unique_customers": 11878,
          "revenue": 1237.5300677966084,
          "t_dat": "2020-08-31T00:00:00"
         },
         {
          "num_sales": 38060,
          "num_unique_customers": 12323,
          "revenue": 1228.6411864406762,
          "t_dat": "2020-09-01T00:00:00"
         },
         {
          "num_sales": 32722,
          "num_unique_customers": 11157,
          "revenue": 1042.202389830507,
          "t_dat": "2020-09-02T00:00:00"
         },
         {
          "num_sales": 40441,
          "num_unique_customers": 13184,
          "revenue": 1324.5482033898286,
          "t_dat": "2020-09-03T00:00:00"
         },
         {
          "num_sales": 39203,
          "num_unique_customers": 13221,
          "revenue": 1230.0161355932185,
          "t_dat": "2020-09-04T00:00:00"
         },
         {
          "num_sales": 43002,
          "num_unique_customers": 14149,
          "revenue": 1352.46388135593,
          "t_dat": "2020-09-05T00:00:00"
         },
         {
          "num_sales": 34961,
          "num_unique_customers": 10426,
          "revenue": 1139.1364745762694,
          "t_dat": "2020-09-06T00:00:00"
         },
         {
          "num_sales": 37913,
          "num_unique_customers": 11716,
          "revenue": 1278.7032881355913,
          "t_dat": "2020-09-07T00:00:00"
         },
         {
          "num_sales": 36415,
          "num_unique_customers": 11422,
          "revenue": 1243.4895762711847,
          "t_dat": "2020-09-08T00:00:00"
         },
         {
          "num_sales": 41626,
          "num_unique_customers": 13075,
          "revenue": 1425.310847457625,
          "t_dat": "2020-09-09T00:00:00"
         },
         {
          "num_sales": 40261,
          "num_unique_customers": 13172,
          "revenue": 1344.2379491525403,
          "t_dat": "2020-09-10T00:00:00"
         },
         {
          "num_sales": 37561,
          "num_unique_customers": 12731,
          "revenue": 1282.8984745762693,
          "t_dat": "2020-09-11T00:00:00"
         },
         {
          "num_sales": 40271,
          "num_unique_customers": 13186,
          "revenue": 1311.20381355932,
          "t_dat": "2020-09-12T00:00:00"
         },
         {
          "num_sales": 39528,
          "num_unique_customers": 11423,
          "revenue": 1394.6976440677947,
          "t_dat": "2020-09-13T00:00:00"
         },
         {
          "num_sales": 29941,
          "num_unique_customers": 9286,
          "revenue": 1042.0790847457613,
          "t_dat": "2020-09-14T00:00:00"
         },
         {
          "num_sales": 26053,
          "num_unique_customers": 8287,
          "revenue": 874.8922203389818,
          "t_dat": "2020-09-15T00:00:00"
         },
         {
          "num_sales": 27028,
          "num_unique_customers": 8752,
          "revenue": 890.2108474576257,
          "t_dat": "2020-09-16T00:00:00"
         },
         {
          "num_sales": 40718,
          "num_unique_customers": 13203,
          "revenue": 1418.2773050847438,
          "t_dat": "2020-09-17T00:00:00"
         },
         {
          "num_sales": 39284,
          "num_unique_customers": 12924,
          "revenue": 1363.8581186440658,
          "t_dat": "2020-09-18T00:00:00"
         },
         {
          "num_sales": 36796,
          "num_unique_customers": 12233,
          "revenue": 1227.471305084744,
          "t_dat": "2020-09-19T00:00:00"
         },
         {
          "num_sales": 31489,
          "num_unique_customers": 9384,
          "revenue": 1116.0710677966085,
          "t_dat": "2020-09-20T00:00:00"
         },
         {
          "num_sales": 32130,
          "num_unique_customers": 10119,
          "revenue": 1139.598050847456,
          "t_dat": "2020-09-21T00:00:00"
         },
         {
          "num_sales": 32866,
          "num_unique_customers": 10528,
          "revenue": 1133.4184237288118,
          "t_dat": "2020-09-22T00:00:00"
         }
        ]
       },
       "encoding": {
        "tooltip": [
         {
          "field": "t_dat",
          "type": "temporal"
         }
        ],
        "x": {
         "field": "t_dat",
         "type": "temporal"
        },
        "y": {
         "field": "revenue",
         "type": "quantitative"
        }
       },
       "mark": "line",
       "width": 700
      },
      "image/png": "[encoded data removed]",
      "text/plain": [
       "<VegaLite 4 object>\n",
       "\n",
       "If you see this message, it means the renderer has not been properly enabled\n",
       "for the frontend that you are using. For more information, see\n",
       "https://altair-viz.github.io/user_guide/troubleshooting.html\n"
      ]
     },
     "execution_count": 33,
     "metadata": {},
     "output_type": "execute_result"
    }
   ],
   "source": [
    "alt.Chart(df_sales).mark_line().encode(\n",
    "    x=\"t_dat\", y=\"revenue\", tooltip=[\"t_dat\"]\n",
    ").properties(width=700)"
   ]
  },
  {
   "cell_type": "markdown",
   "id": "f0fe40b1-80c7-4468-95dc-c49b79f0e137",
   "metadata": {},
   "source": [
    "## Customer-Article Sales Relationship"
   ]
  },
  {
   "cell_type": "code",
   "execution_count": 52,
   "id": "bb37e88a-f5b1-4c41-a4c4-0ec12371eb4e",
   "metadata": {},
   "outputs": [],
   "source": [
    "df_customer_sales = df.groupby(\"customer_id\").agg(\n",
    "    num_sales=(\"article_id\", \"count\"), num_unique_articles=(\"article_id\", \"nunique\")\n",
    ")"
   ]
  },
  {
   "cell_type": "code",
   "execution_count": 53,
   "id": "cf0b5a21-36d0-46f5-93d0-a86a3449cd6f",
   "metadata": {},
   "outputs": [
    {
     "data": {
      "text/html": [
       "<div>\n",
       "<style scoped>\n",
       "    .dataframe tbody tr th:only-of-type {\n",
       "        vertical-align: middle;\n",
       "    }\n",
       "\n",
       "    .dataframe tbody tr th {\n",
       "        vertical-align: top;\n",
       "    }\n",
       "\n",
       "    .dataframe thead th {\n",
       "        text-align: right;\n",
       "    }\n",
       "</style>\n",
       "<table border=\"1\" class=\"dataframe\">\n",
       "  <thead>\n",
       "    <tr style=\"text-align: right;\">\n",
       "      <th></th>\n",
       "      <th>num_sales</th>\n",
       "      <th>num_unique_articles</th>\n",
       "    </tr>\n",
       "  </thead>\n",
       "  <tbody>\n",
       "    <tr>\n",
       "      <th>count</th>\n",
       "      <td>1362281.00</td>\n",
       "      <td>1362281.00</td>\n",
       "    </tr>\n",
       "    <tr>\n",
       "      <th>mean</th>\n",
       "      <td>23.33</td>\n",
       "      <td>20.04</td>\n",
       "    </tr>\n",
       "    <tr>\n",
       "      <th>std</th>\n",
       "      <td>39.24</td>\n",
       "      <td>31.98</td>\n",
       "    </tr>\n",
       "    <tr>\n",
       "      <th>min</th>\n",
       "      <td>1.00</td>\n",
       "      <td>1.00</td>\n",
       "    </tr>\n",
       "    <tr>\n",
       "      <th>25%</th>\n",
       "      <td>3.00</td>\n",
       "      <td>3.00</td>\n",
       "    </tr>\n",
       "    <tr>\n",
       "      <th>50%</th>\n",
       "      <td>9.00</td>\n",
       "      <td>8.00</td>\n",
       "    </tr>\n",
       "    <tr>\n",
       "      <th>75%</th>\n",
       "      <td>27.00</td>\n",
       "      <td>24.00</td>\n",
       "    </tr>\n",
       "    <tr>\n",
       "      <th>max</th>\n",
       "      <td>1895.00</td>\n",
       "      <td>1346.00</td>\n",
       "    </tr>\n",
       "  </tbody>\n",
       "</table>\n",
       "</div>"
      ],
      "text/plain": [
       "       num_sales  num_unique_articles\n",
       "count 1362281.00           1362281.00\n",
       "mean       23.33                20.04\n",
       "std        39.24                31.98\n",
       "min         1.00                 1.00\n",
       "25%         3.00                 3.00\n",
       "50%         9.00                 8.00\n",
       "75%        27.00                24.00\n",
       "max      1895.00              1346.00"
      ]
     },
     "execution_count": 53,
     "metadata": {},
     "output_type": "execute_result"
    }
   ],
   "source": [
    "df_customer_sales.describe()"
   ]
  },
  {
   "cell_type": "code",
   "execution_count": 59,
   "id": "f364a8b3-e5df-4022-b213-ac7c3132f3b8",
   "metadata": {},
   "outputs": [
    {
     "data": {
      "text/plain": [
       "<AxesSubplot:title={'center':'Number of Unique Articles'}, ylabel='Frequency'>"
      ]
     },
     "execution_count": 59,
     "metadata": {},
     "output_type": "execute_result"
    },
    {
     "data": {
      "image/png": "[encoded data removed]",
      "text/plain": [
       "<Figure size 936x360 with 2 Axes>"
      ]
     },
     "metadata": {
      "image/png": {
       "height": 318,
       "width": 798
      },
      "needs_background": "light"
     },
     "output_type": "display_data"
    }
   ],
   "source": [
    "fig, axs = plt.subplots(1, 2, figsize=(13, 5))\n",
    "\n",
    "df_customer_sales[\"num_sales\"][lambda d: d < 100].plot.hist(\n",
    "    bins=50, ax=axs[0], title=\"Number of Sales\"\n",
    ")\n",
    "df_customer_sales[\"num_unique_articles\"][lambda d: d < 100].plot.hist(\n",
    "    bins=50, ax=axs[1], title=\"Number of Unique Articles\"\n",
    ")"
   ]
  },
  {
   "cell_type": "markdown",
   "id": "5912860b-2e1a-41bf-b90f-89caa2788648",
   "metadata": {},
   "source": [
    "## Article-Customer Relationship"
   ]
  },
  {
   "cell_type": "code",
   "execution_count": 58,
   "id": "1ad2bcc8-7c5c-4953-8ed4-268923489533",
   "metadata": {},
   "outputs": [],
   "source": [
    "df_article_customer = df.groupby(\"article_id\").agg(\n",
    "    num_unique_customers=(\"customer_id\", \"nunique\")\n",
    ")"
   ]
  },
  {
   "cell_type": "code",
   "execution_count": 63,
   "id": "8d03d5bb-2de9-4d3c-99f8-4a50b0bbdad6",
   "metadata": {},
   "outputs": [
    {
     "data": {
      "text/html": [
       "<div>\n",
       "<style scoped>\n",
       "    .dataframe tbody tr th:only-of-type {\n",
       "        vertical-align: middle;\n",
       "    }\n",
       "\n",
       "    .dataframe tbody tr th {\n",
       "        vertical-align: top;\n",
       "    }\n",
       "\n",
       "    .dataframe thead th {\n",
       "        text-align: right;\n",
       "    }\n",
       "</style>\n",
       "<table border=\"1\" class=\"dataframe\">\n",
       "  <thead>\n",
       "    <tr style=\"text-align: right;\">\n",
       "      <th></th>\n",
       "      <th>num_unique_customers</th>\n",
       "    </tr>\n",
       "  </thead>\n",
       "  <tbody>\n",
       "    <tr>\n",
       "      <th>count</th>\n",
       "      <td>104547.00</td>\n",
       "    </tr>\n",
       "    <tr>\n",
       "      <th>mean</th>\n",
       "      <td>261.19</td>\n",
       "    </tr>\n",
       "    <tr>\n",
       "      <th>std</th>\n",
       "      <td>637.91</td>\n",
       "    </tr>\n",
       "    <tr>\n",
       "      <th>min</th>\n",
       "      <td>1.00</td>\n",
       "    </tr>\n",
       "    <tr>\n",
       "      <th>25%</th>\n",
       "      <td>12.00</td>\n",
       "    </tr>\n",
       "    <tr>\n",
       "      <th>50%</th>\n",
       "      <td>58.00</td>\n",
       "    </tr>\n",
       "    <tr>\n",
       "      <th>75%</th>\n",
       "      <td>250.00</td>\n",
       "    </tr>\n",
       "    <tr>\n",
       "      <th>max</th>\n",
       "      <td>32251.00</td>\n",
       "    </tr>\n",
       "  </tbody>\n",
       "</table>\n",
       "</div>"
      ],
      "text/plain": [
       "       num_unique_customers\n",
       "count             104547.00\n",
       "mean                 261.19\n",
       "std                  637.91\n",
       "min                    1.00\n",
       "25%                   12.00\n",
       "50%                   58.00\n",
       "75%                  250.00\n",
       "max                32251.00"
      ]
     },
     "execution_count": 63,
     "metadata": {},
     "output_type": "execute_result"
    }
   ],
   "source": [
    "df_article_customer.describe()"
   ]
  },
  {
   "cell_type": "code",
   "execution_count": 68,
   "id": "c6f8c3bc-d89c-4aff-b339-426b46bda5f9",
   "metadata": {},
   "outputs": [
    {
     "data": {
      "text/plain": [
       "<AxesSubplot:ylabel='Frequency'>"
      ]
     },
     "execution_count": 68,
     "metadata": {},
     "output_type": "execute_result"
    },
    {
     "data": {
      "image/png": "[encoded data removed]",
      "text/plain": [
       "<Figure size 432x360 with 1 Axes>"
      ]
     },
     "metadata": {
      "image/png": {
       "height": 302,
       "width": 387
      },
      "needs_background": "light"
     },
     "output_type": "display_data"
    }
   ],
   "source": [
    "df_article_customer.plot.hist(bins=50, log=True, figsize=(6, 5))"
   ]
  },
  {
   "cell_type": "code",
   "execution_count": 71,
   "id": "b58d30b0-1155-47ed-81be-ed4af767e087",
   "metadata": {},
   "outputs": [
    {
     "data": {
      "text/html": [
       "<div>\n",
       "<style scoped>\n",
       "    .dataframe tbody tr th:only-of-type {\n",
       "        vertical-align: middle;\n",
       "    }\n",
       "\n",
       "    .dataframe tbody tr th {\n",
       "        vertical-align: top;\n",
       "    }\n",
       "\n",
       "    .dataframe thead th {\n",
       "        text-align: right;\n",
       "    }\n",
       "</style>\n",
       "<table border=\"1\" class=\"dataframe\">\n",
       "  <thead>\n",
       "    <tr style=\"text-align: right;\">\n",
       "      <th></th>\n",
       "      <th>num_unique_customers</th>\n",
       "    </tr>\n",
       "    <tr>\n",
       "      <th>article_id</th>\n",
       "      <th></th>\n",
       "    </tr>\n",
       "  </thead>\n",
       "  <tbody>\n",
       "    <tr>\n",
       "      <th>706016001</th>\n",
       "      <td>32251</td>\n",
       "    </tr>\n",
       "    <tr>\n",
       "      <th>372860001</th>\n",
       "      <td>25559</td>\n",
       "    </tr>\n",
       "    <tr>\n",
       "      <th>706016002</th>\n",
       "      <td>25485</td>\n",
       "    </tr>\n",
       "  </tbody>\n",
       "</table>\n",
       "</div>"
      ],
      "text/plain": [
       "            num_unique_customers\n",
       "article_id                      \n",
       "706016001                  32251\n",
       "372860001                  25559\n",
       "706016002                  25485"
      ]
     },
     "execution_count": 71,
     "metadata": {},
     "output_type": "execute_result"
    }
   ],
   "source": [
    "df_article_customer.sort_values(\"num_unique_customers\", ascending=False).head(3)"
   ]
  },
  {
   "cell_type": "markdown",
   "id": "63864dfb-e170-4779-8c50-c1d12170e199",
   "metadata": {},
   "source": [
    "## Training Data Draft"
   ]
  },
  {
   "cell_type": "code",
   "execution_count": 77,
   "id": "e6ddde89-a1a5-470e-84cd-2e356ec59829",
   "metadata": {},
   "outputs": [],
   "source": [
    "START_TRAIN_DATE = \"2018-09-20\"\n",
    "END_TRAIN_DATE = \"2020-03-31\"\n",
    "START_TRAIN_LABELS_DATE = \"2020-04-01\"\n",
    "END_TRAIN_LABELS_DATE = \"2020-04-07\"\n",
    "START_VAL_LABELS_DATE = \"2020-04-08\"\n",
    "END_VAL_LABELS_DATE = \"2020-04-14\""
   ]
  },
  {
   "cell_type": "code",
   "execution_count": 85,
   "id": "c40d4c2d-ba64-4577-889b-06c2c28ac836",
   "metadata": {},
   "outputs": [],
   "source": [
    "df_train_feat = df[lambda d: d[\"t_dat\"] <= END_TRAIN_DATE]"
   ]
  },
  {
   "cell_type": "code",
   "execution_count": 95,
   "id": "2fcc39a9-6e09-4046-8571-723b6545778a",
   "metadata": {},
   "outputs": [],
   "source": [
    "df_train_ground_truth = df[\n",
    "    lambda d: (d[\"t_dat\"] >= START_TRAIN_LABELS_DATE)\n",
    "    & (d[\"t_dat\"] <= END_TRAIN_LABELS_DATE)\n",
    "]"
   ]
  },
  {
   "cell_type": "code",
   "execution_count": 111,
   "id": "22a013d1-af02-4000-8968-fe8706ec2813",
   "metadata": {},
   "outputs": [],
   "source": [
    "df_feat_price_affinity = (\n",
    "    df_train_feat.groupby(\"customer_id\")\n",
    "    .agg(price_affinity=(\"price\", \"median\"))\n",
    "    .reset_index()\n",
    ")"
   ]
  },
  {
   "cell_type": "code",
   "execution_count": 112,
   "id": "03916e06-04d6-46b1-b201-5f3862bc52f1",
   "metadata": {},
   "outputs": [
    {
     "data": {
      "text/plain": [
       "<AxesSubplot:ylabel='Frequency'>"
      ]
     },
     "execution_count": 112,
     "metadata": {},
     "output_type": "execute_result"
    },
    {
     "data": {
      "image/png": "[encoded data removed]",
      "text/plain": [
       "<Figure size 432x288 with 1 Axes>"
      ]
     },
     "metadata": {
      "image/png": {
       "height": 248,
       "width": 408
      },
      "needs_background": "light"
     },
     "output_type": "display_data"
    }
   ],
   "source": [
    "df_feat_price_affinity.plot.hist(y=\"price_affinity\", bins=100)"
   ]
  },
  {
   "cell_type": "code",
   "execution_count": 113,
   "id": "0b7164ba-fdd6-492c-8712-fea5614f2c00",
   "metadata": {},
   "outputs": [
    {
     "data": {
      "text/plain": [
       "23934157    2\n",
       "23934158    2\n",
       "23934159    2\n",
       "23934160    2\n",
       "23934161    2\n",
       "           ..\n",
       "24271435    1\n",
       "24271436    1\n",
       "24271437    1\n",
       "24271438    1\n",
       "24271439    1\n",
       "Name: t_dat, Length: 337283, dtype: int64"
      ]
     },
     "execution_count": 113,
     "metadata": {},
     "output_type": "execute_result"
    }
   ],
   "source": [
    "df_train_ground_truth[\"t_dat\"].dt.dayofweek"
   ]
  },
  {
   "cell_type": "code",
   "execution_count": 115,
   "id": "cc0eb916-3cff-454b-aa5d-8b1762a22ecf",
   "metadata": {},
   "outputs": [
    {
     "data": {
      "text/html": [
       "<div>\n",
       "<style scoped>\n",
       "    .dataframe tbody tr th:only-of-type {\n",
       "        vertical-align: middle;\n",
       "    }\n",
       "\n",
       "    .dataframe tbody tr th {\n",
       "        vertical-align: top;\n",
       "    }\n",
       "\n",
       "    .dataframe thead th {\n",
       "        text-align: right;\n",
       "    }\n",
       "</style>\n",
       "<table border=\"1\" class=\"dataframe\">\n",
       "  <thead>\n",
       "    <tr style=\"text-align: right;\">\n",
       "      <th></th>\n",
       "      <th>customer_id</th>\n",
       "      <th>price_affinity</th>\n",
       "      <th>price</th>\n",
       "      <th>dayofweek</th>\n",
       "      <th>month</th>\n",
       "      <th>label</th>\n",
       "    </tr>\n",
       "  </thead>\n",
       "  <tbody>\n",
       "    <tr>\n",
       "      <th>0</th>\n",
       "      <td>000058a12d5b43e67d225668fa1f8d618c13dc232df0ca...</td>\n",
       "      <td>0.03</td>\n",
       "      <td>0.07</td>\n",
       "      <td>2</td>\n",
       "      <td>4</td>\n",
       "      <td>1</td>\n",
       "    </tr>\n",
       "    <tr>\n",
       "      <th>1</th>\n",
       "      <td>000058a12d5b43e67d225668fa1f8d618c13dc232df0ca...</td>\n",
       "      <td>0.03</td>\n",
       "      <td>0.07</td>\n",
       "      <td>2</td>\n",
       "      <td>4</td>\n",
       "      <td>1</td>\n",
       "    </tr>\n",
       "    <tr>\n",
       "      <th>2</th>\n",
       "      <td>000563485cbb7850b0a93c6606f89c5b961c6647d1bd48...</td>\n",
       "      <td>0.02</td>\n",
       "      <td>0.04</td>\n",
       "      <td>2</td>\n",
       "      <td>4</td>\n",
       "      <td>1</td>\n",
       "    </tr>\n",
       "    <tr>\n",
       "      <th>3</th>\n",
       "      <td>000563485cbb7850b0a93c6606f89c5b961c6647d1bd48...</td>\n",
       "      <td>0.02</td>\n",
       "      <td>0.04</td>\n",
       "      <td>2</td>\n",
       "      <td>4</td>\n",
       "      <td>1</td>\n",
       "    </tr>\n",
       "    <tr>\n",
       "      <th>4</th>\n",
       "      <td>00083cda041544b2fbb0e0d2905ad17da7cf1007526fb4...</td>\n",
       "      <td>0.02</td>\n",
       "      <td>0.02</td>\n",
       "      <td>2</td>\n",
       "      <td>4</td>\n",
       "      <td>1</td>\n",
       "    </tr>\n",
       "    <tr>\n",
       "      <th>...</th>\n",
       "      <td>...</td>\n",
       "      <td>...</td>\n",
       "      <td>...</td>\n",
       "      <td>...</td>\n",
       "      <td>...</td>\n",
       "      <td>...</td>\n",
       "    </tr>\n",
       "    <tr>\n",
       "      <th>337278</th>\n",
       "      <td>fffc04eab174fa4aff0f96a64bc3cbd69755fa02b6a7f8...</td>\n",
       "      <td>0.02</td>\n",
       "      <td>0.03</td>\n",
       "      <td>2</td>\n",
       "      <td>4</td>\n",
       "      <td>1</td>\n",
       "    </tr>\n",
       "    <tr>\n",
       "      <th>337279</th>\n",
       "      <td>fffc04eab174fa4aff0f96a64bc3cbd69755fa02b6a7f8...</td>\n",
       "      <td>0.02</td>\n",
       "      <td>0.01</td>\n",
       "      <td>2</td>\n",
       "      <td>4</td>\n",
       "      <td>1</td>\n",
       "    </tr>\n",
       "    <tr>\n",
       "      <th>337280</th>\n",
       "      <td>fffc04eab174fa4aff0f96a64bc3cbd69755fa02b6a7f8...</td>\n",
       "      <td>0.02</td>\n",
       "      <td>0.03</td>\n",
       "      <td>2</td>\n",
       "      <td>4</td>\n",
       "      <td>1</td>\n",
       "    </tr>\n",
       "    <tr>\n",
       "      <th>337281</th>\n",
       "      <td>fffc04eab174fa4aff0f96a64bc3cbd69755fa02b6a7f8...</td>\n",
       "      <td>0.02</td>\n",
       "      <td>0.02</td>\n",
       "      <td>2</td>\n",
       "      <td>4</td>\n",
       "      <td>1</td>\n",
       "    </tr>\n",
       "    <tr>\n",
       "      <th>337282</th>\n",
       "      <td>fffc04eab174fa4aff0f96a64bc3cbd69755fa02b6a7f8...</td>\n",
       "      <td>0.02</td>\n",
       "      <td>0.02</td>\n",
       "      <td>2</td>\n",
       "      <td>4</td>\n",
       "      <td>1</td>\n",
       "    </tr>\n",
       "  </tbody>\n",
       "</table>\n",
       "<p>337283 rows × 6 columns</p>\n",
       "</div>"
      ],
      "text/plain": [
       "                                              customer_id  price_affinity  \\\n",
       "0       000058a12d5b43e67d225668fa1f8d618c13dc232df0ca...            0.03   \n",
       "1       000058a12d5b43e67d225668fa1f8d618c13dc232df0ca...            0.03   \n",
       "2       000563485cbb7850b0a93c6606f89c5b961c6647d1bd48...            0.02   \n",
       "3       000563485cbb7850b0a93c6606f89c5b961c6647d1bd48...            0.02   \n",
       "4       00083cda041544b2fbb0e0d2905ad17da7cf1007526fb4...            0.02   \n",
       "...                                                   ...             ...   \n",
       "337278  fffc04eab174fa4aff0f96a64bc3cbd69755fa02b6a7f8...            0.02   \n",
       "337279  fffc04eab174fa4aff0f96a64bc3cbd69755fa02b6a7f8...            0.02   \n",
       "337280  fffc04eab174fa4aff0f96a64bc3cbd69755fa02b6a7f8...            0.02   \n",
       "337281  fffc04eab174fa4aff0f96a64bc3cbd69755fa02b6a7f8...            0.02   \n",
       "337282  fffc04eab174fa4aff0f96a64bc3cbd69755fa02b6a7f8...            0.02   \n",
       "\n",
       "        price  dayofweek  month  label  \n",
       "0        0.07          2      4      1  \n",
       "1        0.07          2      4      1  \n",
       "2        0.04          2      4      1  \n",
       "3        0.04          2      4      1  \n",
       "4        0.02          2      4      1  \n",
       "...       ...        ...    ...    ...  \n",
       "337278   0.03          2      4      1  \n",
       "337279   0.01          2      4      1  \n",
       "337280   0.03          2      4      1  \n",
       "337281   0.02          2      4      1  \n",
       "337282   0.02          2      4      1  \n",
       "\n",
       "[337283 rows x 6 columns]"
      ]
     },
     "execution_count": 115,
     "metadata": {},
     "output_type": "execute_result"
    }
   ],
   "source": [
    "df_train_ground_truth.merge(\n",
    "    df_feat_price_affinity, on=\"customer_id\", how=\"left\"\n",
    ").assign(\n",
    "    label=1,\n",
    "    dayofweek=lambda d: d[\"t_dat\"].min().dayofweek,\n",
    "    month=lambda d: d[\"t_dat\"].min().month,\n",
    ")[\n",
    "    [\"customer_id\", \"price_affinity\", \"price\", \"dayofweek\", \"month\", \"label\"]\n",
    "]"
   ]
  },
  {
   "cell_type": "code",
   "execution_count": null,
   "id": "87d8ce9c-1ee6-4f8e-90da-3dcf2474fc54",
   "metadata": {},
   "outputs": [],
   "source": []
  }
 ],
 "metadata": {
  "kernelspec": {
   "display_name": "Python 3 (ipykernel)",
   "language": "python",
   "name": "python3"
  },
  "language_info": {
   "codemirror_mode": {
    "name": "ipython",
    "version": 3
   },
   "file_extension": ".py",
   "mimetype": "text/x-python",
   "name": "python",
   "nbconvert_exporter": "python",
   "pygments_lexer": "ipython3",
   "version": "3.9.7"
  }
 },
 "nbformat": 4,
 "nbformat_minor": 5
}
