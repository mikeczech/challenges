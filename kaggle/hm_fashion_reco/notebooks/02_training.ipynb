{
 "cells": [
  {
   "cell_type": "code",
   "execution_count": 98,
   "id": "a15ba158-2451-4824-9854-d5f595749a6a",
   "metadata": {},
   "outputs": [
    {
     "name": "stdout",
     "output_type": "stream",
     "text": [
      "The google.cloud.bigquery extension is already loaded. To reload it, use:\n",
      "  %reload_ext google.cloud.bigquery\n"
     ]
    }
   ],
   "source": [
    "%load_ext google.cloud.bigquery"
   ]
  },
  {
   "cell_type": "code",
   "execution_count": 127,
   "id": "a2682c4f-27a7-41f3-addf-06560e1f9a30",
   "metadata": {},
   "outputs": [],
   "source": [
    "%load_ext lab_black"
   ]
  },
  {
   "cell_type": "code",
   "execution_count": 107,
   "id": "9797f0ed-d6fc-422a-993c-335ed84e6dad",
   "metadata": {},
   "outputs": [
    {
     "name": "stdout",
     "output_type": "stream",
     "text": [
      "The autoreload extension is already loaded. To reload it, use:\n",
      "  %reload_ext autoreload\n"
     ]
    }
   ],
   "source": [
    "%load_ext autoreload\n",
    "%autoreload"
   ]
  },
  {
   "cell_type": "code",
   "execution_count": 108,
   "id": "87f3e2b8-d6aa-460a-ac33-9b02b75896f4",
   "metadata": {},
   "outputs": [],
   "source": [
    "import pandas as pd\n",
    "import lightgbm\n",
    "\n",
    "import matplotlib.pyplot as plt\n",
    "from sklearn.preprocessing import LabelEncoder\n",
    "\n",
    "from hm_fashion.model import get_ranker_pipeline"
   ]
  },
  {
   "cell_type": "code",
   "execution_count": 101,
   "id": "424a21b8-0ef8-4911-82e2-3b4d73f06ccf",
   "metadata": {},
   "outputs": [],
   "source": [
    "pd.options.display.float_format = \"{:.2f}\".format"
   ]
  },
  {
   "cell_type": "markdown",
   "id": "d6fec4fd-2df9-43db-93cb-c3321f276e4f",
   "metadata": {},
   "source": [
    "## Load Training Data"
   ]
  },
  {
   "cell_type": "code",
   "execution_count": 156,
   "id": "173e9ee9-ead1-4197-a0fa-750abf6f45c8",
   "metadata": {},
   "outputs": [
    {
     "name": "stderr",
     "output_type": "stream",
     "text": [
      "Query complete after 0.00s: 100%|█| 4/4 [00:00<00:00, 2225.69query\n",
      "Downloading: 100%|████████████████| 2/2 [00:03<00:00,  1.59s/rows]\n"
     ]
    }
   ],
   "source": [
    "%%bigquery training_data_size --project zenscr-seefood-dev\n",
    "\n",
    "SELECT \n",
    "    obs_dat,\n",
    "    COUNT(DISTINCT customer_id) AS num_customers,\n",
    "    COUNT(DISTINCT article_id) AS num_articles,\n",
    "    COUNT(*) AS num_rows\n",
    "FROM hm_kaggle_reco.training_data_sample t\n",
    "GROUP BY obs_dat"
   ]
  },
  {
   "cell_type": "code",
   "execution_count": 157,
   "id": "519bb40b-03a5-40f6-8239-07d5a28c26f6",
   "metadata": {},
   "outputs": [
    {
     "data": {
      "text/html": [
       "<div>\n",
       "<style scoped>\n",
       "    .dataframe tbody tr th:only-of-type {\n",
       "        vertical-align: middle;\n",
       "    }\n",
       "\n",
       "    .dataframe tbody tr th {\n",
       "        vertical-align: top;\n",
       "    }\n",
       "\n",
       "    .dataframe thead th {\n",
       "        text-align: right;\n",
       "    }\n",
       "</style>\n",
       "<table border=\"1\" class=\"dataframe\">\n",
       "  <thead>\n",
       "    <tr style=\"text-align: right;\">\n",
       "      <th></th>\n",
       "      <th>obs_dat</th>\n",
       "      <th>num_customers</th>\n",
       "      <th>num_articles</th>\n",
       "      <th>num_rows</th>\n",
       "    </tr>\n",
       "  </thead>\n",
       "  <tbody>\n",
       "    <tr>\n",
       "      <th>0</th>\n",
       "      <td>2020-04-08</td>\n",
       "      <td>1591</td>\n",
       "      <td>20478</td>\n",
       "      <td>31771263</td>\n",
       "    </tr>\n",
       "    <tr>\n",
       "      <th>1</th>\n",
       "      <td>2020-04-01</td>\n",
       "      <td>1482</td>\n",
       "      <td>20404</td>\n",
       "      <td>29594523</td>\n",
       "    </tr>\n",
       "  </tbody>\n",
       "</table>\n",
       "</div>"
      ],
      "text/plain": [
       "      obs_dat  num_customers  num_articles  num_rows\n",
       "0  2020-04-08           1591         20478  31771263\n",
       "1  2020-04-01           1482         20404  29594523"
      ]
     },
     "execution_count": 157,
     "metadata": {},
     "output_type": "execute_result"
    }
   ],
   "source": [
    "training_data_size"
   ]
  },
  {
   "cell_type": "code",
   "execution_count": 158,
   "id": "24166572-91b7-4737-8d55-d0cd23a5b3c8",
   "metadata": {
    "tags": []
   },
   "outputs": [
    {
     "name": "stderr",
     "output_type": "stream",
     "text": [
      "Query complete after 0.00s: 100%|█| 33/33 [00:00<00:00, 10370.27qu\n",
      "Downloading: 100%|█| 61365786/61365786 [00:55<00:00, 1097474.30row\n"
     ]
    }
   ],
   "source": [
    "%%bigquery training_data --project zenscr-seefood-dev\n",
    "\n",
    "SELECT \n",
    "    t.obs_dat,\n",
    "    t.customer_id,\n",
    "    article_id,\n",
    "    score,\n",
    "    relevance,\n",
    "    feat_price_affinity,\n",
    "    feat_dark_affinity,\n",
    "    feat_dusty_light_affinity\n",
    "FROM hm_kaggle_reco.training_data_sample t\n",
    "LEFT JOIN hm_kaggle_reco.feat_customer fc\n",
    "       ON t.obs_dat = fc.obs_dat AND t.customer_id = fc.customer_id\n",
    "ORDER BY customer_id, relevance DESC"
   ]
  },
  {
   "cell_type": "code",
   "execution_count": 159,
   "id": "cca19e50-22f6-4e20-8823-771ec87cc47c",
   "metadata": {},
   "outputs": [
    {
     "data": {
      "text/html": [
       "<div>\n",
       "<style scoped>\n",
       "    .dataframe tbody tr th:only-of-type {\n",
       "        vertical-align: middle;\n",
       "    }\n",
       "\n",
       "    .dataframe tbody tr th {\n",
       "        vertical-align: top;\n",
       "    }\n",
       "\n",
       "    .dataframe thead th {\n",
       "        text-align: right;\n",
       "    }\n",
       "</style>\n",
       "<table border=\"1\" class=\"dataframe\">\n",
       "  <thead>\n",
       "    <tr style=\"text-align: right;\">\n",
       "      <th></th>\n",
       "      <th>obs_dat</th>\n",
       "      <th>customer_id</th>\n",
       "      <th>article_id</th>\n",
       "      <th>score</th>\n",
       "      <th>relevance</th>\n",
       "      <th>feat_price_affinity</th>\n",
       "      <th>feat_dark_affinity</th>\n",
       "      <th>feat_dusty_light_affinity</th>\n",
       "    </tr>\n",
       "  </thead>\n",
       "  <tbody>\n",
       "    <tr>\n",
       "      <th>0</th>\n",
       "      <td>2020-04-08</td>\n",
       "      <td>001dcccfc98e5305bd3759ebef9f7a027c9c09933acd8f994d47a77dba1ac66b</td>\n",
       "      <td>887911002</td>\n",
       "      <td>371.00</td>\n",
       "      <td>1</td>\n",
       "      <td>NaN</td>\n",
       "      <td>NaN</td>\n",
       "      <td>NaN</td>\n",
       "    </tr>\n",
       "    <tr>\n",
       "      <th>1</th>\n",
       "      <td>2020-04-08</td>\n",
       "      <td>001dcccfc98e5305bd3759ebef9f7a027c9c09933acd8f994d47a77dba1ac66b</td>\n",
       "      <td>830360001</td>\n",
       "      <td>89.00</td>\n",
       "      <td>1</td>\n",
       "      <td>NaN</td>\n",
       "      <td>NaN</td>\n",
       "      <td>NaN</td>\n",
       "    </tr>\n",
       "    <tr>\n",
       "      <th>2</th>\n",
       "      <td>2020-04-08</td>\n",
       "      <td>001dcccfc98e5305bd3759ebef9f7a027c9c09933acd8f994d47a77dba1ac66b</td>\n",
       "      <td>777018003</td>\n",
       "      <td>3.00</td>\n",
       "      <td>1</td>\n",
       "      <td>NaN</td>\n",
       "      <td>NaN</td>\n",
       "      <td>NaN</td>\n",
       "    </tr>\n",
       "    <tr>\n",
       "      <th>3</th>\n",
       "      <td>2020-04-08</td>\n",
       "      <td>001dcccfc98e5305bd3759ebef9f7a027c9c09933acd8f994d47a77dba1ac66b</td>\n",
       "      <td>703761009</td>\n",
       "      <td>8.00</td>\n",
       "      <td>1</td>\n",
       "      <td>NaN</td>\n",
       "      <td>NaN</td>\n",
       "      <td>NaN</td>\n",
       "    </tr>\n",
       "    <tr>\n",
       "      <th>4</th>\n",
       "      <td>2020-04-08</td>\n",
       "      <td>001dcccfc98e5305bd3759ebef9f7a027c9c09933acd8f994d47a77dba1ac66b</td>\n",
       "      <td>887949002</td>\n",
       "      <td>250.00</td>\n",
       "      <td>1</td>\n",
       "      <td>NaN</td>\n",
       "      <td>NaN</td>\n",
       "      <td>NaN</td>\n",
       "    </tr>\n",
       "    <tr>\n",
       "      <th>...</th>\n",
       "      <td>...</td>\n",
       "      <td>...</td>\n",
       "      <td>...</td>\n",
       "      <td>...</td>\n",
       "      <td>...</td>\n",
       "      <td>...</td>\n",
       "      <td>...</td>\n",
       "      <td>...</td>\n",
       "    </tr>\n",
       "    <tr>\n",
       "      <th>61365781</th>\n",
       "      <td>2020-04-01</td>\n",
       "      <td>ffe997b92b39a1b292cb0eb43c9b89e3b650481dcb4ea09abdfc51026e11a084</td>\n",
       "      <td>832616001</td>\n",
       "      <td>28.00</td>\n",
       "      <td>0</td>\n",
       "      <td>NaN</td>\n",
       "      <td>NaN</td>\n",
       "      <td>NaN</td>\n",
       "    </tr>\n",
       "    <tr>\n",
       "      <th>61365782</th>\n",
       "      <td>2020-04-01</td>\n",
       "      <td>ffe997b92b39a1b292cb0eb43c9b89e3b650481dcb4ea09abdfc51026e11a084</td>\n",
       "      <td>858568001</td>\n",
       "      <td>7.00</td>\n",
       "      <td>0</td>\n",
       "      <td>NaN</td>\n",
       "      <td>NaN</td>\n",
       "      <td>NaN</td>\n",
       "    </tr>\n",
       "    <tr>\n",
       "      <th>61365783</th>\n",
       "      <td>2020-04-01</td>\n",
       "      <td>ffe997b92b39a1b292cb0eb43c9b89e3b650481dcb4ea09abdfc51026e11a084</td>\n",
       "      <td>923134007</td>\n",
       "      <td>133.00</td>\n",
       "      <td>0</td>\n",
       "      <td>NaN</td>\n",
       "      <td>NaN</td>\n",
       "      <td>NaN</td>\n",
       "    </tr>\n",
       "    <tr>\n",
       "      <th>61365784</th>\n",
       "      <td>2020-04-01</td>\n",
       "      <td>ffe997b92b39a1b292cb0eb43c9b89e3b650481dcb4ea09abdfc51026e11a084</td>\n",
       "      <td>847237002</td>\n",
       "      <td>3.00</td>\n",
       "      <td>0</td>\n",
       "      <td>NaN</td>\n",
       "      <td>NaN</td>\n",
       "      <td>NaN</td>\n",
       "    </tr>\n",
       "    <tr>\n",
       "      <th>61365785</th>\n",
       "      <td>2020-04-01</td>\n",
       "      <td>ffe997b92b39a1b292cb0eb43c9b89e3b650481dcb4ea09abdfc51026e11a084</td>\n",
       "      <td>880059003</td>\n",
       "      <td>248.00</td>\n",
       "      <td>0</td>\n",
       "      <td>NaN</td>\n",
       "      <td>NaN</td>\n",
       "      <td>NaN</td>\n",
       "    </tr>\n",
       "  </tbody>\n",
       "</table>\n",
       "<p>61365786 rows × 8 columns</p>\n",
       "</div>"
      ],
      "text/plain": [
       "             obs_dat  \\\n",
       "0         2020-04-08   \n",
       "1         2020-04-08   \n",
       "2         2020-04-08   \n",
       "3         2020-04-08   \n",
       "4         2020-04-08   \n",
       "...              ...   \n",
       "61365781  2020-04-01   \n",
       "61365782  2020-04-01   \n",
       "61365783  2020-04-01   \n",
       "61365784  2020-04-01   \n",
       "61365785  2020-04-01   \n",
       "\n",
       "                                                               customer_id  \\\n",
       "0         001dcccfc98e5305bd3759ebef9f7a027c9c09933acd8f994d47a77dba1ac66b   \n",
       "1         001dcccfc98e5305bd3759ebef9f7a027c9c09933acd8f994d47a77dba1ac66b   \n",
       "2         001dcccfc98e5305bd3759ebef9f7a027c9c09933acd8f994d47a77dba1ac66b   \n",
       "3         001dcccfc98e5305bd3759ebef9f7a027c9c09933acd8f994d47a77dba1ac66b   \n",
       "4         001dcccfc98e5305bd3759ebef9f7a027c9c09933acd8f994d47a77dba1ac66b   \n",
       "...                                                                    ...   \n",
       "61365781  ffe997b92b39a1b292cb0eb43c9b89e3b650481dcb4ea09abdfc51026e11a084   \n",
       "61365782  ffe997b92b39a1b292cb0eb43c9b89e3b650481dcb4ea09abdfc51026e11a084   \n",
       "61365783  ffe997b92b39a1b292cb0eb43c9b89e3b650481dcb4ea09abdfc51026e11a084   \n",
       "61365784  ffe997b92b39a1b292cb0eb43c9b89e3b650481dcb4ea09abdfc51026e11a084   \n",
       "61365785  ffe997b92b39a1b292cb0eb43c9b89e3b650481dcb4ea09abdfc51026e11a084   \n",
       "\n",
       "          article_id  score  relevance  feat_price_affinity  \\\n",
       "0         887911002  371.00  1         NaN                    \n",
       "1         830360001  89.00   1         NaN                    \n",
       "2         777018003  3.00    1         NaN                    \n",
       "3         703761009  8.00    1         NaN                    \n",
       "4         887949002  250.00  1         NaN                    \n",
       "...             ...     ... ..          ..                    \n",
       "61365781  832616001  28.00   0         NaN                    \n",
       "61365782  858568001  7.00    0         NaN                    \n",
       "61365783  923134007  133.00  0         NaN                    \n",
       "61365784  847237002  3.00    0         NaN                    \n",
       "61365785  880059003  248.00  0         NaN                    \n",
       "\n",
       "          feat_dark_affinity  feat_dusty_light_affinity  \n",
       "0        NaN                 NaN                         \n",
       "1        NaN                 NaN                         \n",
       "2        NaN                 NaN                         \n",
       "3        NaN                 NaN                         \n",
       "4        NaN                 NaN                         \n",
       "...       ..                  ..                         \n",
       "61365781 NaN                 NaN                         \n",
       "61365782 NaN                 NaN                         \n",
       "61365783 NaN                 NaN                         \n",
       "61365784 NaN                 NaN                         \n",
       "61365785 NaN                 NaN                         \n",
       "\n",
       "[61365786 rows x 8 columns]"
      ]
     },
     "metadata": {},
     "output_type": "display_data"
    }
   ],
   "source": [
    "with pd.option_context(\"display.max_colwidth\", -1):\n",
    "    display(training_data)"
   ]
  },
  {
   "cell_type": "code",
   "execution_count": 160,
   "id": "9d87cfee-3d35-4f52-b3e8-1e686b0f8107",
   "metadata": {},
   "outputs": [
    {
     "data": {
      "text/plain": [
       "obs_dat                     0.00\n",
       "customer_id                 0.00\n",
       "article_id                  0.00\n",
       "score                       0.00\n",
       "relevance                   0.00\n",
       "feat_price_affinity         0.14\n",
       "feat_dark_affinity          0.14\n",
       "feat_dusty_light_affinity   0.14\n",
       "dtype: float64"
      ]
     },
     "execution_count": 160,
     "metadata": {},
     "output_type": "execute_result"
    }
   ],
   "source": [
    "training_data.isna().mean()"
   ]
  },
  {
   "cell_type": "code",
   "execution_count": 161,
   "id": "236d0045-4b74-4aa4-8e6e-a4fc13a0365f",
   "metadata": {},
   "outputs": [],
   "source": [
    "training_data.to_parquet(\"training_data.parquet\")"
   ]
  },
  {
   "cell_type": "markdown",
   "id": "9b7a830a-54ca-4c62-b064-42d16cb42702",
   "metadata": {},
   "source": [
    "## Explore Training Data"
   ]
  },
  {
   "cell_type": "code",
   "execution_count": 168,
   "id": "7ea99f84-1be5-456c-a203-e3710cef86e2",
   "metadata": {},
   "outputs": [
    {
     "data": {
      "text/plain": [
       "0    61352345\n",
       "1       13441\n",
       "Name: relevance, dtype: Int64"
      ]
     },
     "execution_count": 168,
     "metadata": {},
     "output_type": "execute_result"
    }
   ],
   "source": [
    "training_data[\"relevance\"].value_counts()"
   ]
  },
  {
   "cell_type": "code",
   "execution_count": 162,
   "id": "2486666c-c888-4a57-b288-9eb19220c840",
   "metadata": {},
   "outputs": [
    {
     "data": {
      "text/plain": [
       "count   61365786.00\n",
       "mean         115.41\n",
       "std          179.45\n",
       "min           -1.00\n",
       "25%           11.00\n",
       "50%           47.00\n",
       "75%          142.00\n",
       "max         3491.00\n",
       "Name: score, dtype: float64"
      ]
     },
     "execution_count": 162,
     "metadata": {},
     "output_type": "execute_result"
    }
   ],
   "source": [
    "training_data[\"score\"].describe()"
   ]
  },
  {
   "cell_type": "code",
   "execution_count": 163,
   "id": "b17bf853-8d17-48c4-8345-62f347a0630f",
   "metadata": {},
   "outputs": [
    {
     "data": {
      "text/plain": [
       "<AxesSubplot:ylabel='Frequency'>"
      ]
     },
     "execution_count": 163,
     "metadata": {},
     "output_type": "execute_result"
    },
    {
     "data": {
      "image/png": "[encoded data removed]",
      "text/plain": [
       "<Figure size 1080x360 with 2 Axes>"
      ]
     },
     "metadata": {
      "needs_background": "light"
     },
     "output_type": "display_data"
    }
   ],
   "source": [
    "fig, axs = plt.subplots(1, 2, figsize=(15, 5))\n",
    "\n",
    "training_data[\"relevance\"].plot.hist(log=True, ax=axs[0])\n",
    "\n",
    "training_data[lambda d: d[\"relevance\"] == 1][\"score\"].plot.hist(\n",
    "    density=True, bins=100, ax=axs[1]\n",
    ")\n",
    "training_data[lambda d: d[\"relevance\"] == 0][\"score\"].plot.hist(\n",
    "    density=True, alpha=0.5, bins=100, ax=axs[1]\n",
    ")"
   ]
  },
  {
   "cell_type": "code",
   "execution_count": 167,
   "id": "c8b7d6df-4d90-4043-a0ac-940ce2e8a1aa",
   "metadata": {},
   "outputs": [
    {
     "data": {
      "text/plain": [
       "(61365786, 8)"
      ]
     },
     "execution_count": 167,
     "metadata": {},
     "output_type": "execute_result"
    }
   ],
   "source": [
    "training_data.shape"
   ]
  },
  {
   "cell_type": "code",
   "execution_count": 166,
   "id": "61327e67-73d3-4113-a9ce-ecadb6e09e4a",
   "metadata": {},
   "outputs": [
    {
     "data": {
      "text/plain": [
       "0    12392\n",
       "1     1049\n",
       "Name: score, dtype: int64"
      ]
     },
     "execution_count": 166,
     "metadata": {},
     "output_type": "execute_result"
    }
   ],
   "source": [
    "training_data[lambda d: d[\"relevance\"] == 1][\"score\"].map(\n",
    "    lambda r: 1 if r == -1 else 0\n",
    ").value_counts()"
   ]
  },
  {
   "cell_type": "markdown",
   "id": "834a946d-bef4-498a-8e43-fc98faa47f02",
   "metadata": {},
   "source": [
    "## Model Training"
   ]
  },
  {
   "cell_type": "code",
   "execution_count": 169,
   "id": "5a04f7d4-2e22-4b98-ad45-87668190b7c7",
   "metadata": {},
   "outputs": [],
   "source": [
    "pipe = get_ranker_pipeline()"
   ]
  },
  {
   "cell_type": "code",
   "execution_count": 170,
   "id": "924f5542-c198-490e-8456-6902413bafce",
   "metadata": {},
   "outputs": [],
   "source": [
    "model = pipe[-1]"
   ]
  },
  {
   "cell_type": "code",
   "execution_count": 171,
   "id": "ff852cd7-332e-4559-9075-cead45d8b59c",
   "metadata": {},
   "outputs": [
    {
     "data": {
      "text/plain": [
       "Pipeline(steps=[('features',\n",
       "                 Pipeline(steps=[('to_dataframe',\n",
       "                                  FunctionTransformer(func=<function to_dataframe at 0x13cccbb80>,\n",
       "                                                      kw_args={'col_labels': ['score',\n",
       "                                                                              'feat_price_affinity',\n",
       "                                                                              'feat_dark_affinity',\n",
       "                                                                              'feat_dusty_light_affinity']}))])),\n",
       "                ('ranker', LGBMRanker(metric='ndcg', objective='lambdarank'))])"
      ]
     },
     "execution_count": 171,
     "metadata": {},
     "output_type": "execute_result"
    }
   ],
   "source": [
    "pipe"
   ]
  },
  {
   "cell_type": "code",
   "execution_count": 175,
   "id": "367154de-26ab-4d10-8598-d4b6656d83dd",
   "metadata": {},
   "outputs": [
    {
     "data": {
      "text/html": [
       "<div>\n",
       "<style scoped>\n",
       "    .dataframe tbody tr th:only-of-type {\n",
       "        vertical-align: middle;\n",
       "    }\n",
       "\n",
       "    .dataframe tbody tr th {\n",
       "        vertical-align: top;\n",
       "    }\n",
       "\n",
       "    .dataframe thead th {\n",
       "        text-align: right;\n",
       "    }\n",
       "</style>\n",
       "<table border=\"1\" class=\"dataframe\">\n",
       "  <thead>\n",
       "    <tr style=\"text-align: right;\">\n",
       "      <th></th>\n",
       "      <th>obs_dat</th>\n",
       "      <th>customer_id</th>\n",
       "      <th>article_id</th>\n",
       "      <th>score</th>\n",
       "      <th>relevance</th>\n",
       "      <th>feat_price_affinity</th>\n",
       "      <th>feat_dark_affinity</th>\n",
       "      <th>feat_dusty_light_affinity</th>\n",
       "    </tr>\n",
       "  </thead>\n",
       "  <tbody>\n",
       "    <tr>\n",
       "      <th>0</th>\n",
       "      <td>2020-04-08</td>\n",
       "      <td>001dcccfc98e5305bd3759ebef9f7a027c9c09933acd8f...</td>\n",
       "      <td>887911002</td>\n",
       "      <td>371.00</td>\n",
       "      <td>1</td>\n",
       "      <td>NaN</td>\n",
       "      <td>NaN</td>\n",
       "      <td>NaN</td>\n",
       "    </tr>\n",
       "    <tr>\n",
       "      <th>1</th>\n",
       "      <td>2020-04-08</td>\n",
       "      <td>001dcccfc98e5305bd3759ebef9f7a027c9c09933acd8f...</td>\n",
       "      <td>830360001</td>\n",
       "      <td>89.00</td>\n",
       "      <td>1</td>\n",
       "      <td>NaN</td>\n",
       "      <td>NaN</td>\n",
       "      <td>NaN</td>\n",
       "    </tr>\n",
       "    <tr>\n",
       "      <th>2</th>\n",
       "      <td>2020-04-08</td>\n",
       "      <td>001dcccfc98e5305bd3759ebef9f7a027c9c09933acd8f...</td>\n",
       "      <td>777018003</td>\n",
       "      <td>3.00</td>\n",
       "      <td>1</td>\n",
       "      <td>NaN</td>\n",
       "      <td>NaN</td>\n",
       "      <td>NaN</td>\n",
       "    </tr>\n",
       "    <tr>\n",
       "      <th>3</th>\n",
       "      <td>2020-04-08</td>\n",
       "      <td>001dcccfc98e5305bd3759ebef9f7a027c9c09933acd8f...</td>\n",
       "      <td>703761009</td>\n",
       "      <td>8.00</td>\n",
       "      <td>1</td>\n",
       "      <td>NaN</td>\n",
       "      <td>NaN</td>\n",
       "      <td>NaN</td>\n",
       "    </tr>\n",
       "    <tr>\n",
       "      <th>4</th>\n",
       "      <td>2020-04-08</td>\n",
       "      <td>001dcccfc98e5305bd3759ebef9f7a027c9c09933acd8f...</td>\n",
       "      <td>887949002</td>\n",
       "      <td>250.00</td>\n",
       "      <td>1</td>\n",
       "      <td>NaN</td>\n",
       "      <td>NaN</td>\n",
       "      <td>NaN</td>\n",
       "    </tr>\n",
       "  </tbody>\n",
       "</table>\n",
       "</div>"
      ],
      "text/plain": [
       "      obs_dat                                        customer_id  article_id  \\\n",
       "0  2020-04-08  001dcccfc98e5305bd3759ebef9f7a027c9c09933acd8f...   887911002   \n",
       "1  2020-04-08  001dcccfc98e5305bd3759ebef9f7a027c9c09933acd8f...   830360001   \n",
       "2  2020-04-08  001dcccfc98e5305bd3759ebef9f7a027c9c09933acd8f...   777018003   \n",
       "3  2020-04-08  001dcccfc98e5305bd3759ebef9f7a027c9c09933acd8f...   703761009   \n",
       "4  2020-04-08  001dcccfc98e5305bd3759ebef9f7a027c9c09933acd8f...   887949002   \n",
       "\n",
       "   score  relevance  feat_price_affinity  feat_dark_affinity  \\\n",
       "0 371.00          1                  NaN                 NaN   \n",
       "1  89.00          1                  NaN                 NaN   \n",
       "2   3.00          1                  NaN                 NaN   \n",
       "3   8.00          1                  NaN                 NaN   \n",
       "4 250.00          1                  NaN                 NaN   \n",
       "\n",
       "   feat_dusty_light_affinity  \n",
       "0                        NaN  \n",
       "1                        NaN  \n",
       "2                        NaN  \n",
       "3                        NaN  \n",
       "4                        NaN  "
      ]
     },
     "execution_count": 175,
     "metadata": {},
     "output_type": "execute_result"
    }
   ],
   "source": [
    "training_data.head(5)"
   ]
  },
  {
   "cell_type": "code",
   "execution_count": 180,
   "id": "f1c629f0-bada-4c40-9b61-52766f9b6db1",
   "metadata": {},
   "outputs": [
    {
     "data": {
      "text/plain": [
       "obs_dat                       dbdate\n",
       "customer_id                   object\n",
       "article_id                     Int64\n",
       "score                        float64\n",
       "relevance                      Int64\n",
       "feat_price_affinity          float64\n",
       "feat_dark_affinity           float64\n",
       "feat_dusty_light_affinity    float64\n",
       "dtype: object"
      ]
     },
     "execution_count": 180,
     "metadata": {},
     "output_type": "execute_result"
    }
   ],
   "source": [
    "training_data.dtypes"
   ]
  },
  {
   "cell_type": "code",
   "execution_count": 165,
   "id": "4a5738d4-249a-4f1e-888a-3c3bbb8952d2",
   "metadata": {},
   "outputs": [
    {
     "data": {
      "text/plain": [
       "<AxesSubplot:ylabel='Frequency'>"
      ]
     },
     "execution_count": 165,
     "metadata": {},
     "output_type": "execute_result"
    },
    {
     "data": {
      "image/png": "[encoded data removed]",
      "text/plain": [
       "<Figure size 504x360 with 1 Axes>"
      ]
     },
     "metadata": {
      "needs_background": "light"
     },
     "output_type": "display_data"
    }
   ],
   "source": [
    "training_data.groupby(\"customer_id\").agg(count=(\"article_id\", \"count\")).plot.hist(\n",
    "    bins=50, figsize=(7, 5)\n",
    ")"
   ]
  },
  {
   "cell_type": "code",
   "execution_count": 186,
   "id": "9dbb2398-d146-47be-9ae9-12f9fac6c8fe",
   "metadata": {},
   "outputs": [],
   "source": [
    "import datetime"
   ]
  },
  {
   "cell_type": "code",
   "execution_count": 185,
   "id": "3fae27bf-4cdf-4b1f-8ee5-f430b2a6f376",
   "metadata": {},
   "outputs": [
    {
     "data": {
      "text/plain": [
       "obs_dat                       dbdate\n",
       "customer_id                   object\n",
       "article_id                     Int64\n",
       "score                        float64\n",
       "relevance                      Int64\n",
       "feat_price_affinity          float64\n",
       "feat_dark_affinity           float64\n",
       "feat_dusty_light_affinity    float64\n",
       "dtype: object"
      ]
     },
     "execution_count": 185,
     "metadata": {},
     "output_type": "execute_result"
    }
   ],
   "source": [
    "training_data.dtypes"
   ]
  },
  {
   "cell_type": "code",
   "execution_count": 197,
   "id": "0ac08959-7251-47fc-abe5-ac109327f7d0",
   "metadata": {},
   "outputs": [
    {
     "data": {
      "text/plain": [
       "<DateArray>\n",
       "[datetime.date(2020, 4, 8), datetime.date(2020, 4, 1)]\n",
       "Length: 2, dtype: dbdate"
      ]
     },
     "execution_count": 197,
     "metadata": {},
     "output_type": "execute_result"
    }
   ],
   "source": [
    "dates = training_data[\"obs_dat\"].unique()\n",
    "dates"
   ]
  },
  {
   "cell_type": "code",
   "execution_count": 205,
   "id": "c2392d2b-3d88-42a5-b61b-d26a4b72922a",
   "metadata": {},
   "outputs": [
    {
     "data": {
      "text/plain": [
       "((1487625, 4), 1487625, 1482)"
      ]
     },
     "execution_count": 205,
     "metadata": {},
     "output_type": "execute_result"
    }
   ],
   "source": [
    "df_train = (\n",
    "    training_data[lambda d: (d[\"score\"] >= 0) & (d[\"obs_dat\"] == dates[1])]\n",
    "    .groupby(\"customer_id\")\n",
    "    .apply(\n",
    "        lambda g: pd.concat(\n",
    "            [\n",
    "                g[lambda d: d[\"relevance\"] == 1],\n",
    "                g[lambda d: d[\"relevance\"] == 0].sample(1000),\n",
    "            ]\n",
    "        ).sample(frac=1)\n",
    "    )\n",
    "    .reset_index(drop=True)\n",
    ")\n",
    "X_train = pipe[:-1].fit_transform(df_train)\n",
    "y_train = df_train[\"relevance\"].astype(\"int32\")\n",
    "qids_train = df_train.groupby(\"customer_id\")[\"customer_id\"].count().to_numpy()\n",
    "\n",
    "X_train.shape, len(y_train), len(qids_train)"
   ]
  },
  {
   "cell_type": "code",
   "execution_count": 206,
   "id": "68375133-93b6-47f0-bb45-3da6a31dc0cd",
   "metadata": {},
   "outputs": [
    {
     "data": {
      "text/plain": [
       "((1597767, 4), 1597767, 1591)"
      ]
     },
     "execution_count": 206,
     "metadata": {},
     "output_type": "execute_result"
    }
   ],
   "source": [
    "df_val = (\n",
    "    training_data[lambda d: (d[\"score\"] >= 0) & (d[\"obs_dat\"] == dates[0])]\n",
    "    .groupby(\"customer_id\")\n",
    "    .apply(\n",
    "        lambda g: pd.concat(\n",
    "            [\n",
    "                g[lambda d: d[\"relevance\"] == 1],\n",
    "                g[lambda d: d[\"relevance\"] == 0].sample(1000),\n",
    "            ]\n",
    "        ).sample(frac=1)\n",
    "    )\n",
    "    .reset_index(drop=True)\n",
    ")\n",
    "X_val = pipe[:-1].fit_transform(df_val)\n",
    "y_val = df_val[\"relevance\"].astype(\"int32\")\n",
    "qids_val = df_val.groupby(\"customer_id\")[\"customer_id\"].count().to_numpy()\n",
    "\n",
    "X_val.shape, len(y_val), len(qids_val)"
   ]
  },
  {
   "cell_type": "code",
   "execution_count": 207,
   "id": "ac178b28-fe12-4307-a38f-9b385bf855cd",
   "metadata": {},
   "outputs": [
    {
     "data": {
      "text/plain": [
       "0    1482000\n",
       "1       5625\n",
       "Name: relevance, dtype: Int64"
      ]
     },
     "execution_count": 207,
     "metadata": {},
     "output_type": "execute_result"
    }
   ],
   "source": [
    "df_train[\"relevance\"].value_counts()"
   ]
  },
  {
   "cell_type": "code",
   "execution_count": 208,
   "id": "58e1bc2a-3072-406c-8fb1-93c18d317944",
   "metadata": {},
   "outputs": [
    {
     "name": "stdout",
     "output_type": "stream",
     "text": [
      "[1]\tvalid_0's ndcg@12: 0.095238\n",
      "[2]\tvalid_0's ndcg@12: 0.108235\n",
      "[3]\tvalid_0's ndcg@12: 0.110809\n",
      "[4]\tvalid_0's ndcg@12: 0.111232\n",
      "[5]\tvalid_0's ndcg@12: 0.111126\n",
      "[6]\tvalid_0's ndcg@12: 0.112759\n",
      "[7]\tvalid_0's ndcg@12: 0.112777\n",
      "[8]\tvalid_0's ndcg@12: 0.11452\n",
      "[9]\tvalid_0's ndcg@12: 0.115258\n",
      "[10]\tvalid_0's ndcg@12: 0.112846\n",
      "[11]\tvalid_0's ndcg@12: 0.113376\n",
      "[12]\tvalid_0's ndcg@12: 0.113829\n",
      "[13]\tvalid_0's ndcg@12: 0.114482\n",
      "[14]\tvalid_0's ndcg@12: 0.113379\n",
      "[15]\tvalid_0's ndcg@12: 0.112574\n",
      "[16]\tvalid_0's ndcg@12: 0.112557\n",
      "[17]\tvalid_0's ndcg@12: 0.112765\n",
      "[18]\tvalid_0's ndcg@12: 0.112947\n",
      "[19]\tvalid_0's ndcg@12: 0.112572\n",
      "[20]\tvalid_0's ndcg@12: 0.112531\n",
      "[21]\tvalid_0's ndcg@12: 0.112361\n",
      "[22]\tvalid_0's ndcg@12: 0.112295\n",
      "[23]\tvalid_0's ndcg@12: 0.112295\n",
      "[24]\tvalid_0's ndcg@12: 0.11024\n",
      "[25]\tvalid_0's ndcg@12: 0.109087\n",
      "[26]\tvalid_0's ndcg@12: 0.110038\n",
      "[27]\tvalid_0's ndcg@12: 0.110959\n",
      "[28]\tvalid_0's ndcg@12: 0.109993\n",
      "[29]\tvalid_0's ndcg@12: 0.1091\n",
      "[30]\tvalid_0's ndcg@12: 0.110291\n",
      "[31]\tvalid_0's ndcg@12: 0.110358\n",
      "[32]\tvalid_0's ndcg@12: 0.110708\n",
      "[33]\tvalid_0's ndcg@12: 0.110098\n",
      "[34]\tvalid_0's ndcg@12: 0.110267\n",
      "[35]\tvalid_0's ndcg@12: 0.110974\n",
      "[36]\tvalid_0's ndcg@12: 0.111036\n",
      "[37]\tvalid_0's ndcg@12: 0.111405\n",
      "[38]\tvalid_0's ndcg@12: 0.111648\n",
      "[39]\tvalid_0's ndcg@12: 0.111093\n",
      "[40]\tvalid_0's ndcg@12: 0.110759\n",
      "[41]\tvalid_0's ndcg@12: 0.110753\n",
      "[42]\tvalid_0's ndcg@12: 0.110521\n",
      "[43]\tvalid_0's ndcg@12: 0.1104\n",
      "[44]\tvalid_0's ndcg@12: 0.109876\n",
      "[45]\tvalid_0's ndcg@12: 0.110179\n",
      "[46]\tvalid_0's ndcg@12: 0.110054\n",
      "[47]\tvalid_0's ndcg@12: 0.110193\n",
      "[48]\tvalid_0's ndcg@12: 0.110196\n",
      "[49]\tvalid_0's ndcg@12: 0.110087\n",
      "[50]\tvalid_0's ndcg@12: 0.10972\n",
      "[51]\tvalid_0's ndcg@12: 0.110102\n",
      "[52]\tvalid_0's ndcg@12: 0.110013\n",
      "[53]\tvalid_0's ndcg@12: 0.109833\n",
      "[54]\tvalid_0's ndcg@12: 0.109658\n",
      "[55]\tvalid_0's ndcg@12: 0.110074\n",
      "[56]\tvalid_0's ndcg@12: 0.110082\n",
      "[57]\tvalid_0's ndcg@12: 0.109621\n",
      "[58]\tvalid_0's ndcg@12: 0.109776\n",
      "[59]\tvalid_0's ndcg@12: 0.109776\n",
      "[60]\tvalid_0's ndcg@12: 0.109503\n",
      "[61]\tvalid_0's ndcg@12: 0.109575\n",
      "[62]\tvalid_0's ndcg@12: 0.109575\n",
      "[63]\tvalid_0's ndcg@12: 0.109414\n",
      "[64]\tvalid_0's ndcg@12: 0.109537\n",
      "[65]\tvalid_0's ndcg@12: 0.109344\n",
      "[66]\tvalid_0's ndcg@12: 0.109239\n",
      "[67]\tvalid_0's ndcg@12: 0.10932\n",
      "[68]\tvalid_0's ndcg@12: 0.109357\n",
      "[69]\tvalid_0's ndcg@12: 0.109175\n",
      "[70]\tvalid_0's ndcg@12: 0.108961\n",
      "[71]\tvalid_0's ndcg@12: 0.108907\n",
      "[72]\tvalid_0's ndcg@12: 0.108717\n",
      "[73]\tvalid_0's ndcg@12: 0.108717\n",
      "[74]\tvalid_0's ndcg@12: 0.107684\n",
      "[75]\tvalid_0's ndcg@12: 0.106876\n",
      "[76]\tvalid_0's ndcg@12: 0.106858\n",
      "[77]\tvalid_0's ndcg@12: 0.107247\n",
      "[78]\tvalid_0's ndcg@12: 0.107078\n",
      "[79]\tvalid_0's ndcg@12: 0.105306\n",
      "[80]\tvalid_0's ndcg@12: 0.105158\n",
      "[81]\tvalid_0's ndcg@12: 0.104009\n",
      "[82]\tvalid_0's ndcg@12: 0.103749\n",
      "[83]\tvalid_0's ndcg@12: 0.103752\n",
      "[84]\tvalid_0's ndcg@12: 0.104027\n",
      "[85]\tvalid_0's ndcg@12: 0.103671\n",
      "[86]\tvalid_0's ndcg@12: 0.103481\n",
      "[87]\tvalid_0's ndcg@12: 0.103238\n",
      "[88]\tvalid_0's ndcg@12: 0.103508\n",
      "[89]\tvalid_0's ndcg@12: 0.103397\n",
      "[90]\tvalid_0's ndcg@12: 0.102946\n",
      "[91]\tvalid_0's ndcg@12: 0.102668\n",
      "[92]\tvalid_0's ndcg@12: 0.103157\n",
      "[93]\tvalid_0's ndcg@12: 0.103636\n",
      "[94]\tvalid_0's ndcg@12: 0.10346\n",
      "[95]\tvalid_0's ndcg@12: 0.103129\n",
      "[96]\tvalid_0's ndcg@12: 0.103225\n",
      "[97]\tvalid_0's ndcg@12: 0.103488\n",
      "[98]\tvalid_0's ndcg@12: 0.103663\n",
      "[99]\tvalid_0's ndcg@12: 0.103219\n",
      "[100]\tvalid_0's ndcg@12: 0.104013\n"
     ]
    },
    {
     "data": {
      "text/plain": [
       "LGBMRanker(metric='ndcg', objective='lambdarank')"
      ]
     },
     "execution_count": 208,
     "metadata": {},
     "output_type": "execute_result"
    }
   ],
   "source": [
    "model.fit(\n",
    "    X=X_train,\n",
    "    y=y_train,\n",
    "    group=qids_train,\n",
    "    eval_set=[(X_val, y_val)],\n",
    "    eval_group=[qids_val],\n",
    "    eval_at=12,\n",
    "    callbacks=[lightgbm.log_evaluation()],\n",
    ")"
   ]
  },
  {
   "cell_type": "code",
   "execution_count": 209,
   "id": "2f1a4e14-123d-4891-b99e-1eb6470c5606",
   "metadata": {},
   "outputs": [
    {
     "data": {
      "text/plain": [
       "<AxesSubplot:title={'center':'Feature importance'}, xlabel='Feature importance', ylabel='Features'>"
      ]
     },
     "execution_count": 209,
     "metadata": {},
     "output_type": "execute_result"
    },
    {
     "data": {
      "image/png": "[encoded data removed]",
      "text/plain": [
       "<Figure size 432x288 with 1 Axes>"
      ]
     },
     "metadata": {
      "needs_background": "light"
     },
     "output_type": "display_data"
    }
   ],
   "source": [
    "lightgbm.plot_importance(model)"
   ]
  },
  {
   "cell_type": "code",
   "execution_count": null,
   "id": "17bf15dd-7202-491e-a96e-a719ff7a0fa8",
   "metadata": {},
   "outputs": [],
   "source": []
  }
 ],
 "metadata": {
  "kernelspec": {
   "display_name": "Python 3 (ipykernel)",
   "language": "python",
   "name": "python3"
  },
  "language_info": {
   "codemirror_mode": {
    "name": "ipython",
    "version": 3
   },
   "file_extension": ".py",
   "mimetype": "text/x-python",
   "name": "python",
   "nbconvert_exporter": "python",
   "pygments_lexer": "ipython3",
   "version": "3.9.7"
  }
 },
 "nbformat": 4,
 "nbformat_minor": 5
}
