{
 "cells": [
  {
   "cell_type": "code",
   "execution_count": 5,
   "id": "a15ba158-2451-4824-9854-d5f595749a6a",
   "metadata": {},
   "outputs": [],
   "source": [
    "%load_ext google.cloud.bigquery"
   ]
  },
  {
   "cell_type": "code",
   "execution_count": 32,
   "id": "87f3e2b8-d6aa-460a-ac33-9b02b75896f4",
   "metadata": {},
   "outputs": [],
   "source": [
    "import pandas as pd\n",
    "import lightgbm\n",
    "\n",
    "import matplotlib.pyplot as plt\n",
    "from sklearn.preprocessing import LabelEncoder\n",
    "\n",
    "from hm_fashion.model import get_lgm_ranker_pipeline"
   ]
  },
  {
   "cell_type": "code",
   "execution_count": 2,
   "id": "424a21b8-0ef8-4911-82e2-3b4d73f06ccf",
   "metadata": {},
   "outputs": [],
   "source": [
    "pd.options.display.float_format = \"{:.2f}\".format"
   ]
  },
  {
   "cell_type": "markdown",
   "id": "d6fec4fd-2df9-43db-93cb-c3321f276e4f",
   "metadata": {},
   "source": [
    "## Load Training Data"
   ]
  },
  {
   "cell_type": "code",
   "execution_count": 6,
   "id": "24166572-91b7-4737-8d55-d0cd23a5b3c8",
   "metadata": {},
   "outputs": [
    {
     "name": "stderr",
     "output_type": "stream",
     "text": [
      "Query complete after 0.02s: 100%|███████████████████| 1/1 [00:00<00:00, 384.16query/s]\n",
      "Downloading: 100%|████████████████████| 9288179/9288179 [00:21<00:00, 424911.16rows/s]\n"
     ]
    }
   ],
   "source": [
    "%%bigquery training_data --project zenscr-seefood-dev\n",
    "\n",
    "SELECT \n",
    "    t.obs_dat,\n",
    "    t.customer_id,\n",
    "    article_id,\n",
    "    rank,\n",
    "    relevance,\n",
    "    feat_price_affinity,\n",
    "    feat_dark_affinity,\n",
    "    feat_dusty_light_affinity\n",
    "FROM hm_kaggle_reco.training_data_sample t\n",
    "LEFT JOIN hm_kaggle_reco.feat_customer fc\n",
    "       ON t.obs_dat = fc.obs_dat AND t.customer_id = fc.customer_id\n",
    "ORDER BY customer_id, relevance DESC"
   ]
  },
  {
   "cell_type": "code",
   "execution_count": 7,
   "id": "cca19e50-22f6-4e20-8823-771ec87cc47c",
   "metadata": {},
   "outputs": [
    {
     "data": {
      "text/html": [
       "<div>\n",
       "<style scoped>\n",
       "    .dataframe tbody tr th:only-of-type {\n",
       "        vertical-align: middle;\n",
       "    }\n",
       "\n",
       "    .dataframe tbody tr th {\n",
       "        vertical-align: top;\n",
       "    }\n",
       "\n",
       "    .dataframe thead th {\n",
       "        text-align: right;\n",
       "    }\n",
       "</style>\n",
       "<table border=\"1\" class=\"dataframe\">\n",
       "  <thead>\n",
       "    <tr style=\"text-align: right;\">\n",
       "      <th></th>\n",
       "      <th>obs_dat</th>\n",
       "      <th>customer_id</th>\n",
       "      <th>article_id</th>\n",
       "      <th>rank</th>\n",
       "      <th>relevance</th>\n",
       "      <th>feat_price_affinity</th>\n",
       "      <th>feat_dark_affinity</th>\n",
       "      <th>feat_dusty_light_affinity</th>\n",
       "    </tr>\n",
       "  </thead>\n",
       "  <tbody>\n",
       "    <tr>\n",
       "      <th>0</th>\n",
       "      <td>2020-04-01</td>\n",
       "      <td>0004ee708acad44b15ee324daffef7b379a1fdfd9826f39a3aabda9dacaea176</td>\n",
       "      <td>699923099</td>\n",
       "      <td>16</td>\n",
       "      <td>1</td>\n",
       "      <td>0.03</td>\n",
       "      <td>0.62</td>\n",
       "      <td>0.12</td>\n",
       "    </tr>\n",
       "    <tr>\n",
       "      <th>1</th>\n",
       "      <td>2020-04-01</td>\n",
       "      <td>0004ee708acad44b15ee324daffef7b379a1fdfd9826f39a3aabda9dacaea176</td>\n",
       "      <td>656868001</td>\n",
       "      <td>52</td>\n",
       "      <td>1</td>\n",
       "      <td>0.03</td>\n",
       "      <td>0.62</td>\n",
       "      <td>0.12</td>\n",
       "    </tr>\n",
       "    <tr>\n",
       "      <th>2</th>\n",
       "      <td>2020-04-01</td>\n",
       "      <td>0004ee708acad44b15ee324daffef7b379a1fdfd9826f39a3aabda9dacaea176</td>\n",
       "      <td>575347003</td>\n",
       "      <td>17</td>\n",
       "      <td>1</td>\n",
       "      <td>0.03</td>\n",
       "      <td>0.62</td>\n",
       "      <td>0.12</td>\n",
       "    </tr>\n",
       "    <tr>\n",
       "      <th>3</th>\n",
       "      <td>2020-04-01</td>\n",
       "      <td>0004ee708acad44b15ee324daffef7b379a1fdfd9826f39a3aabda9dacaea176</td>\n",
       "      <td>730013007</td>\n",
       "      <td>-1</td>\n",
       "      <td>1</td>\n",
       "      <td>0.03</td>\n",
       "      <td>0.62</td>\n",
       "      <td>0.12</td>\n",
       "    </tr>\n",
       "    <tr>\n",
       "      <th>4</th>\n",
       "      <td>2020-04-01</td>\n",
       "      <td>0004ee708acad44b15ee324daffef7b379a1fdfd9826f39a3aabda9dacaea176</td>\n",
       "      <td>609485015</td>\n",
       "      <td>15</td>\n",
       "      <td>1</td>\n",
       "      <td>0.03</td>\n",
       "      <td>0.62</td>\n",
       "      <td>0.12</td>\n",
       "    </tr>\n",
       "    <tr>\n",
       "      <th>...</th>\n",
       "      <td>...</td>\n",
       "      <td>...</td>\n",
       "      <td>...</td>\n",
       "      <td>...</td>\n",
       "      <td>...</td>\n",
       "      <td>...</td>\n",
       "      <td>...</td>\n",
       "      <td>...</td>\n",
       "    </tr>\n",
       "    <tr>\n",
       "      <th>9288174</th>\n",
       "      <td>2020-04-01</td>\n",
       "      <td>fff2c4204fac63f93aec10ed657958d372efe948de1492e451e23d6e0be4a3c0</td>\n",
       "      <td>759814012</td>\n",
       "      <td>97</td>\n",
       "      <td>0</td>\n",
       "      <td>0.02</td>\n",
       "      <td>0.53</td>\n",
       "      <td>0.23</td>\n",
       "    </tr>\n",
       "    <tr>\n",
       "      <th>9288175</th>\n",
       "      <td>2020-04-01</td>\n",
       "      <td>fff2c4204fac63f93aec10ed657958d372efe948de1492e451e23d6e0be4a3c0</td>\n",
       "      <td>810231001</td>\n",
       "      <td>90</td>\n",
       "      <td>0</td>\n",
       "      <td>0.02</td>\n",
       "      <td>0.53</td>\n",
       "      <td>0.23</td>\n",
       "    </tr>\n",
       "    <tr>\n",
       "      <th>9288176</th>\n",
       "      <td>2020-04-01</td>\n",
       "      <td>fff2c4204fac63f93aec10ed657958d372efe948de1492e451e23d6e0be4a3c0</td>\n",
       "      <td>731710001</td>\n",
       "      <td>80</td>\n",
       "      <td>0</td>\n",
       "      <td>0.02</td>\n",
       "      <td>0.53</td>\n",
       "      <td>0.23</td>\n",
       "    </tr>\n",
       "    <tr>\n",
       "      <th>9288177</th>\n",
       "      <td>2020-04-01</td>\n",
       "      <td>fff2c4204fac63f93aec10ed657958d372efe948de1492e451e23d6e0be4a3c0</td>\n",
       "      <td>755575003</td>\n",
       "      <td>66</td>\n",
       "      <td>0</td>\n",
       "      <td>0.02</td>\n",
       "      <td>0.53</td>\n",
       "      <td>0.23</td>\n",
       "    </tr>\n",
       "    <tr>\n",
       "      <th>9288178</th>\n",
       "      <td>2020-04-01</td>\n",
       "      <td>fff2c4204fac63f93aec10ed657958d372efe948de1492e451e23d6e0be4a3c0</td>\n",
       "      <td>818768003</td>\n",
       "      <td>57</td>\n",
       "      <td>0</td>\n",
       "      <td>0.02</td>\n",
       "      <td>0.53</td>\n",
       "      <td>0.23</td>\n",
       "    </tr>\n",
       "  </tbody>\n",
       "</table>\n",
       "<p>9288179 rows × 8 columns</p>\n",
       "</div>"
      ],
      "text/plain": [
       "            obs_dat  \\\n",
       "0        2020-04-01   \n",
       "1        2020-04-01   \n",
       "2        2020-04-01   \n",
       "3        2020-04-01   \n",
       "4        2020-04-01   \n",
       "...             ...   \n",
       "9288174  2020-04-01   \n",
       "9288175  2020-04-01   \n",
       "9288176  2020-04-01   \n",
       "9288177  2020-04-01   \n",
       "9288178  2020-04-01   \n",
       "\n",
       "                                                              customer_id  \\\n",
       "0        0004ee708acad44b15ee324daffef7b379a1fdfd9826f39a3aabda9dacaea176   \n",
       "1        0004ee708acad44b15ee324daffef7b379a1fdfd9826f39a3aabda9dacaea176   \n",
       "2        0004ee708acad44b15ee324daffef7b379a1fdfd9826f39a3aabda9dacaea176   \n",
       "3        0004ee708acad44b15ee324daffef7b379a1fdfd9826f39a3aabda9dacaea176   \n",
       "4        0004ee708acad44b15ee324daffef7b379a1fdfd9826f39a3aabda9dacaea176   \n",
       "...                                                                   ...   \n",
       "9288174  fff2c4204fac63f93aec10ed657958d372efe948de1492e451e23d6e0be4a3c0   \n",
       "9288175  fff2c4204fac63f93aec10ed657958d372efe948de1492e451e23d6e0be4a3c0   \n",
       "9288176  fff2c4204fac63f93aec10ed657958d372efe948de1492e451e23d6e0be4a3c0   \n",
       "9288177  fff2c4204fac63f93aec10ed657958d372efe948de1492e451e23d6e0be4a3c0   \n",
       "9288178  fff2c4204fac63f93aec10ed657958d372efe948de1492e451e23d6e0be4a3c0   \n",
       "\n",
       "         article_id  rank  relevance  feat_price_affinity  feat_dark_affinity  \\\n",
       "0        699923099   16    1         0.03                 0.62                  \n",
       "1        656868001   52    1         0.03                 0.62                  \n",
       "2        575347003   17    1         0.03                 0.62                  \n",
       "3        730013007   -1    1         0.03                 0.62                  \n",
       "4        609485015   15    1         0.03                 0.62                  \n",
       "...            ...   ..   ..          ...                  ...                  \n",
       "9288174  759814012   97    0         0.02                 0.53                  \n",
       "9288175  810231001   90    0         0.02                 0.53                  \n",
       "9288176  731710001   80    0         0.02                 0.53                  \n",
       "9288177  755575003   66    0         0.02                 0.53                  \n",
       "9288178  818768003   57    0         0.02                 0.53                  \n",
       "\n",
       "         feat_dusty_light_affinity  \n",
       "0       0.12                        \n",
       "1       0.12                        \n",
       "2       0.12                        \n",
       "3       0.12                        \n",
       "4       0.12                        \n",
       "...      ...                        \n",
       "9288174 0.23                        \n",
       "9288175 0.23                        \n",
       "9288176 0.23                        \n",
       "9288177 0.23                        \n",
       "9288178 0.23                        \n",
       "\n",
       "[9288179 rows x 8 columns]"
      ]
     },
     "metadata": {},
     "output_type": "display_data"
    }
   ],
   "source": [
    "with pd.option_context(\"display.max_colwidth\", -1):\n",
    "    display(training_data)"
   ]
  },
  {
   "cell_type": "code",
   "execution_count": 8,
   "id": "ba2bb16a-c8e8-40c7-8ca3-039a5060315c",
   "metadata": {},
   "outputs": [
    {
     "data": {
      "text/html": [
       "<div>\n",
       "<style scoped>\n",
       "    .dataframe tbody tr th:only-of-type {\n",
       "        vertical-align: middle;\n",
       "    }\n",
       "\n",
       "    .dataframe tbody tr th {\n",
       "        vertical-align: top;\n",
       "    }\n",
       "\n",
       "    .dataframe thead th {\n",
       "        text-align: right;\n",
       "    }\n",
       "</style>\n",
       "<table border=\"1\" class=\"dataframe\">\n",
       "  <thead>\n",
       "    <tr style=\"text-align: right;\">\n",
       "      <th></th>\n",
       "      <th>obs_dat</th>\n",
       "      <th>customer_id</th>\n",
       "      <th>article_id</th>\n",
       "      <th>rank</th>\n",
       "      <th>relevance</th>\n",
       "      <th>feat_price_affinity</th>\n",
       "      <th>feat_dark_affinity</th>\n",
       "      <th>feat_dusty_light_affinity</th>\n",
       "    </tr>\n",
       "  </thead>\n",
       "  <tbody>\n",
       "    <tr>\n",
       "      <th>0</th>\n",
       "      <td>2020-04-01</td>\n",
       "      <td>0004ee708acad44b15ee324daffef7b379a1fdfd9826f3...</td>\n",
       "      <td>699923099</td>\n",
       "      <td>16</td>\n",
       "      <td>1</td>\n",
       "      <td>0.03</td>\n",
       "      <td>0.62</td>\n",
       "      <td>0.12</td>\n",
       "    </tr>\n",
       "    <tr>\n",
       "      <th>1</th>\n",
       "      <td>2020-04-01</td>\n",
       "      <td>0004ee708acad44b15ee324daffef7b379a1fdfd9826f3...</td>\n",
       "      <td>656868001</td>\n",
       "      <td>52</td>\n",
       "      <td>1</td>\n",
       "      <td>0.03</td>\n",
       "      <td>0.62</td>\n",
       "      <td>0.12</td>\n",
       "    </tr>\n",
       "    <tr>\n",
       "      <th>2</th>\n",
       "      <td>2020-04-01</td>\n",
       "      <td>0004ee708acad44b15ee324daffef7b379a1fdfd9826f3...</td>\n",
       "      <td>575347003</td>\n",
       "      <td>17</td>\n",
       "      <td>1</td>\n",
       "      <td>0.03</td>\n",
       "      <td>0.62</td>\n",
       "      <td>0.12</td>\n",
       "    </tr>\n",
       "    <tr>\n",
       "      <th>3</th>\n",
       "      <td>2020-04-01</td>\n",
       "      <td>0004ee708acad44b15ee324daffef7b379a1fdfd9826f3...</td>\n",
       "      <td>730013007</td>\n",
       "      <td>-1</td>\n",
       "      <td>1</td>\n",
       "      <td>0.03</td>\n",
       "      <td>0.62</td>\n",
       "      <td>0.12</td>\n",
       "    </tr>\n",
       "    <tr>\n",
       "      <th>4</th>\n",
       "      <td>2020-04-01</td>\n",
       "      <td>0004ee708acad44b15ee324daffef7b379a1fdfd9826f3...</td>\n",
       "      <td>609485015</td>\n",
       "      <td>15</td>\n",
       "      <td>1</td>\n",
       "      <td>0.03</td>\n",
       "      <td>0.62</td>\n",
       "      <td>0.12</td>\n",
       "    </tr>\n",
       "    <tr>\n",
       "      <th>5</th>\n",
       "      <td>2020-04-01</td>\n",
       "      <td>0004ee708acad44b15ee324daffef7b379a1fdfd9826f3...</td>\n",
       "      <td>747899001</td>\n",
       "      <td>-1</td>\n",
       "      <td>1</td>\n",
       "      <td>0.03</td>\n",
       "      <td>0.62</td>\n",
       "      <td>0.12</td>\n",
       "    </tr>\n",
       "    <tr>\n",
       "      <th>6</th>\n",
       "      <td>2020-04-01</td>\n",
       "      <td>0004ee708acad44b15ee324daffef7b379a1fdfd9826f3...</td>\n",
       "      <td>685811002</td>\n",
       "      <td>35</td>\n",
       "      <td>0</td>\n",
       "      <td>0.03</td>\n",
       "      <td>0.62</td>\n",
       "      <td>0.12</td>\n",
       "    </tr>\n",
       "    <tr>\n",
       "      <th>7</th>\n",
       "      <td>2020-04-01</td>\n",
       "      <td>0004ee708acad44b15ee324daffef7b379a1fdfd9826f3...</td>\n",
       "      <td>825109001</td>\n",
       "      <td>34</td>\n",
       "      <td>0</td>\n",
       "      <td>0.03</td>\n",
       "      <td>0.62</td>\n",
       "      <td>0.12</td>\n",
       "    </tr>\n",
       "    <tr>\n",
       "      <th>8</th>\n",
       "      <td>2020-04-01</td>\n",
       "      <td>0004ee708acad44b15ee324daffef7b379a1fdfd9826f3...</td>\n",
       "      <td>790904003</td>\n",
       "      <td>13</td>\n",
       "      <td>0</td>\n",
       "      <td>0.03</td>\n",
       "      <td>0.62</td>\n",
       "      <td>0.12</td>\n",
       "    </tr>\n",
       "    <tr>\n",
       "      <th>9</th>\n",
       "      <td>2020-04-01</td>\n",
       "      <td>0004ee708acad44b15ee324daffef7b379a1fdfd9826f3...</td>\n",
       "      <td>767754004</td>\n",
       "      <td>12</td>\n",
       "      <td>0</td>\n",
       "      <td>0.03</td>\n",
       "      <td>0.62</td>\n",
       "      <td>0.12</td>\n",
       "    </tr>\n",
       "    <tr>\n",
       "      <th>10</th>\n",
       "      <td>2020-04-01</td>\n",
       "      <td>0004ee708acad44b15ee324daffef7b379a1fdfd9826f3...</td>\n",
       "      <td>801204005</td>\n",
       "      <td>19</td>\n",
       "      <td>0</td>\n",
       "      <td>0.03</td>\n",
       "      <td>0.62</td>\n",
       "      <td>0.12</td>\n",
       "    </tr>\n",
       "    <tr>\n",
       "      <th>11</th>\n",
       "      <td>2020-04-01</td>\n",
       "      <td>0004ee708acad44b15ee324daffef7b379a1fdfd9826f3...</td>\n",
       "      <td>699923008</td>\n",
       "      <td>7</td>\n",
       "      <td>0</td>\n",
       "      <td>0.03</td>\n",
       "      <td>0.62</td>\n",
       "      <td>0.12</td>\n",
       "    </tr>\n",
       "    <tr>\n",
       "      <th>12</th>\n",
       "      <td>2020-04-01</td>\n",
       "      <td>0004ee708acad44b15ee324daffef7b379a1fdfd9826f3...</td>\n",
       "      <td>589549018</td>\n",
       "      <td>33</td>\n",
       "      <td>0</td>\n",
       "      <td>0.03</td>\n",
       "      <td>0.62</td>\n",
       "      <td>0.12</td>\n",
       "    </tr>\n",
       "    <tr>\n",
       "      <th>13</th>\n",
       "      <td>2020-04-01</td>\n",
       "      <td>0004ee708acad44b15ee324daffef7b379a1fdfd9826f3...</td>\n",
       "      <td>533404021</td>\n",
       "      <td>14</td>\n",
       "      <td>0</td>\n",
       "      <td>0.03</td>\n",
       "      <td>0.62</td>\n",
       "      <td>0.12</td>\n",
       "    </tr>\n",
       "    <tr>\n",
       "      <th>14</th>\n",
       "      <td>2020-04-01</td>\n",
       "      <td>0004ee708acad44b15ee324daffef7b379a1fdfd9826f3...</td>\n",
       "      <td>813193001</td>\n",
       "      <td>14</td>\n",
       "      <td>0</td>\n",
       "      <td>0.03</td>\n",
       "      <td>0.62</td>\n",
       "      <td>0.12</td>\n",
       "    </tr>\n",
       "    <tr>\n",
       "      <th>15</th>\n",
       "      <td>2020-04-01</td>\n",
       "      <td>0004ee708acad44b15ee324daffef7b379a1fdfd9826f3...</td>\n",
       "      <td>697920021</td>\n",
       "      <td>55</td>\n",
       "      <td>0</td>\n",
       "      <td>0.03</td>\n",
       "      <td>0.62</td>\n",
       "      <td>0.12</td>\n",
       "    </tr>\n",
       "    <tr>\n",
       "      <th>16</th>\n",
       "      <td>2020-04-01</td>\n",
       "      <td>0004ee708acad44b15ee324daffef7b379a1fdfd9826f3...</td>\n",
       "      <td>570002053</td>\n",
       "      <td>56</td>\n",
       "      <td>0</td>\n",
       "      <td>0.03</td>\n",
       "      <td>0.62</td>\n",
       "      <td>0.12</td>\n",
       "    </tr>\n",
       "    <tr>\n",
       "      <th>17</th>\n",
       "      <td>2020-04-01</td>\n",
       "      <td>0004ee708acad44b15ee324daffef7b379a1fdfd9826f3...</td>\n",
       "      <td>523404034</td>\n",
       "      <td>15</td>\n",
       "      <td>0</td>\n",
       "      <td>0.03</td>\n",
       "      <td>0.62</td>\n",
       "      <td>0.12</td>\n",
       "    </tr>\n",
       "    <tr>\n",
       "      <th>18</th>\n",
       "      <td>2020-04-01</td>\n",
       "      <td>0004ee708acad44b15ee324daffef7b379a1fdfd9826f3...</td>\n",
       "      <td>685813003</td>\n",
       "      <td>15</td>\n",
       "      <td>0</td>\n",
       "      <td>0.03</td>\n",
       "      <td>0.62</td>\n",
       "      <td>0.12</td>\n",
       "    </tr>\n",
       "    <tr>\n",
       "      <th>19</th>\n",
       "      <td>2020-04-01</td>\n",
       "      <td>0004ee708acad44b15ee324daffef7b379a1fdfd9826f3...</td>\n",
       "      <td>611020027</td>\n",
       "      <td>33</td>\n",
       "      <td>0</td>\n",
       "      <td>0.03</td>\n",
       "      <td>0.62</td>\n",
       "      <td>0.12</td>\n",
       "    </tr>\n",
       "  </tbody>\n",
       "</table>\n",
       "</div>"
      ],
      "text/plain": [
       "       obs_dat                                        customer_id  article_id  \\\n",
       "0   2020-04-01  0004ee708acad44b15ee324daffef7b379a1fdfd9826f3...   699923099   \n",
       "1   2020-04-01  0004ee708acad44b15ee324daffef7b379a1fdfd9826f3...   656868001   \n",
       "2   2020-04-01  0004ee708acad44b15ee324daffef7b379a1fdfd9826f3...   575347003   \n",
       "3   2020-04-01  0004ee708acad44b15ee324daffef7b379a1fdfd9826f3...   730013007   \n",
       "4   2020-04-01  0004ee708acad44b15ee324daffef7b379a1fdfd9826f3...   609485015   \n",
       "5   2020-04-01  0004ee708acad44b15ee324daffef7b379a1fdfd9826f3...   747899001   \n",
       "6   2020-04-01  0004ee708acad44b15ee324daffef7b379a1fdfd9826f3...   685811002   \n",
       "7   2020-04-01  0004ee708acad44b15ee324daffef7b379a1fdfd9826f3...   825109001   \n",
       "8   2020-04-01  0004ee708acad44b15ee324daffef7b379a1fdfd9826f3...   790904003   \n",
       "9   2020-04-01  0004ee708acad44b15ee324daffef7b379a1fdfd9826f3...   767754004   \n",
       "10  2020-04-01  0004ee708acad44b15ee324daffef7b379a1fdfd9826f3...   801204005   \n",
       "11  2020-04-01  0004ee708acad44b15ee324daffef7b379a1fdfd9826f3...   699923008   \n",
       "12  2020-04-01  0004ee708acad44b15ee324daffef7b379a1fdfd9826f3...   589549018   \n",
       "13  2020-04-01  0004ee708acad44b15ee324daffef7b379a1fdfd9826f3...   533404021   \n",
       "14  2020-04-01  0004ee708acad44b15ee324daffef7b379a1fdfd9826f3...   813193001   \n",
       "15  2020-04-01  0004ee708acad44b15ee324daffef7b379a1fdfd9826f3...   697920021   \n",
       "16  2020-04-01  0004ee708acad44b15ee324daffef7b379a1fdfd9826f3...   570002053   \n",
       "17  2020-04-01  0004ee708acad44b15ee324daffef7b379a1fdfd9826f3...   523404034   \n",
       "18  2020-04-01  0004ee708acad44b15ee324daffef7b379a1fdfd9826f3...   685813003   \n",
       "19  2020-04-01  0004ee708acad44b15ee324daffef7b379a1fdfd9826f3...   611020027   \n",
       "\n",
       "    rank  relevance  feat_price_affinity  feat_dark_affinity  \\\n",
       "0     16          1                 0.03                0.62   \n",
       "1     52          1                 0.03                0.62   \n",
       "2     17          1                 0.03                0.62   \n",
       "3     -1          1                 0.03                0.62   \n",
       "4     15          1                 0.03                0.62   \n",
       "5     -1          1                 0.03                0.62   \n",
       "6     35          0                 0.03                0.62   \n",
       "7     34          0                 0.03                0.62   \n",
       "8     13          0                 0.03                0.62   \n",
       "9     12          0                 0.03                0.62   \n",
       "10    19          0                 0.03                0.62   \n",
       "11     7          0                 0.03                0.62   \n",
       "12    33          0                 0.03                0.62   \n",
       "13    14          0                 0.03                0.62   \n",
       "14    14          0                 0.03                0.62   \n",
       "15    55          0                 0.03                0.62   \n",
       "16    56          0                 0.03                0.62   \n",
       "17    15          0                 0.03                0.62   \n",
       "18    15          0                 0.03                0.62   \n",
       "19    33          0                 0.03                0.62   \n",
       "\n",
       "    feat_dusty_light_affinity  \n",
       "0                        0.12  \n",
       "1                        0.12  \n",
       "2                        0.12  \n",
       "3                        0.12  \n",
       "4                        0.12  \n",
       "5                        0.12  \n",
       "6                        0.12  \n",
       "7                        0.12  \n",
       "8                        0.12  \n",
       "9                        0.12  \n",
       "10                       0.12  \n",
       "11                       0.12  \n",
       "12                       0.12  \n",
       "13                       0.12  \n",
       "14                       0.12  \n",
       "15                       0.12  \n",
       "16                       0.12  \n",
       "17                       0.12  \n",
       "18                       0.12  \n",
       "19                       0.12  "
      ]
     },
     "execution_count": 8,
     "metadata": {},
     "output_type": "execute_result"
    }
   ],
   "source": [
    "training_data[lambda d: d[\"customer_id\"] == \"0004ee708acad44b15ee324daffef7b379a1fdfd9826f39a3aabda9dacaea176\"].head(20)"
   ]
  },
  {
   "cell_type": "code",
   "execution_count": 9,
   "id": "9d87cfee-3d35-4f52-b3e8-1e686b0f8107",
   "metadata": {},
   "outputs": [
    {
     "data": {
      "text/plain": [
       "obs_dat                     0.00\n",
       "customer_id                 0.00\n",
       "article_id                  0.00\n",
       "rank                        0.00\n",
       "relevance                   0.00\n",
       "feat_price_affinity         0.13\n",
       "feat_dark_affinity          0.13\n",
       "feat_dusty_light_affinity   0.13\n",
       "dtype: float64"
      ]
     },
     "execution_count": 9,
     "metadata": {},
     "output_type": "execute_result"
    }
   ],
   "source": [
    "training_data.isna().mean()"
   ]
  },
  {
   "cell_type": "markdown",
   "id": "9b7a830a-54ca-4c62-b064-42d16cb42702",
   "metadata": {},
   "source": [
    "## Explore Training Data"
   ]
  },
  {
   "cell_type": "code",
   "execution_count": 10,
   "id": "ac178b28-fe12-4307-a38f-9b385bf855cd",
   "metadata": {},
   "outputs": [
    {
     "data": {
      "text/plain": [
       "0    9267795\n",
       "1      20384\n",
       "Name: relevance, dtype: Int64"
      ]
     },
     "execution_count": 10,
     "metadata": {},
     "output_type": "execute_result"
    }
   ],
   "source": [
    "training_data[\"relevance\"].value_counts()"
   ]
  },
  {
   "cell_type": "code",
   "execution_count": 11,
   "id": "2486666c-c888-4a57-b288-9eb19220c840",
   "metadata": {},
   "outputs": [
    {
     "data": {
      "text/plain": [
       "count   9288179.00\n",
       "mean        105.78\n",
       "std          41.71\n",
       "min          -1.00\n",
       "25%          82.00\n",
       "50%         115.00\n",
       "75%         141.00\n",
       "max         159.00\n",
       "Name: rank, dtype: float64"
      ]
     },
     "execution_count": 11,
     "metadata": {},
     "output_type": "execute_result"
    }
   ],
   "source": [
    "training_data[\"rank\"].describe()"
   ]
  },
  {
   "cell_type": "code",
   "execution_count": 12,
   "id": "b17bf853-8d17-48c4-8345-62f347a0630f",
   "metadata": {},
   "outputs": [
    {
     "data": {
      "text/plain": [
       "<AxesSubplot:ylabel='Frequency'>"
      ]
     },
     "execution_count": 12,
     "metadata": {},
     "output_type": "execute_result"
    },
    {
     "data": {
      "image/png": "[encoded data removed]",
      "text/plain": [
       "<Figure size 1080x360 with 2 Axes>"
      ]
     },
     "metadata": {
      "needs_background": "light"
     },
     "output_type": "display_data"
    }
   ],
   "source": [
    "fig, axs = plt.subplots(1, 2, figsize=(15, 5))\n",
    "\n",
    "training_data[\"relevance\"].plot.hist(log=True, ax=axs[0])\n",
    "\n",
    "training_data[lambda d: d[\"relevance\"] == 1][\"rank\"].plot.hist(density=True, bins=100, ax=axs[1])\n",
    "training_data[lambda d: d[\"relevance\"] == 0][\"rank\"].plot.hist(density=True, alpha=0.5, bins=100, ax=axs[1])"
   ]
  },
  {
   "cell_type": "code",
   "execution_count": 13,
   "id": "61327e67-73d3-4113-a9ce-ecadb6e09e4a",
   "metadata": {},
   "outputs": [
    {
     "data": {
      "text/plain": [
       "0    19106\n",
       "1     1278\n",
       "Name: rank, dtype: int64"
      ]
     },
     "execution_count": 13,
     "metadata": {},
     "output_type": "execute_result"
    }
   ],
   "source": [
    "training_data[lambda d: d[\"relevance\"] == 1][\"rank\"].map(lambda r: 1 if r == -1 else 0).value_counts()"
   ]
  },
  {
   "cell_type": "code",
   "execution_count": 14,
   "id": "4a5738d4-249a-4f1e-888a-3c3bbb8952d2",
   "metadata": {},
   "outputs": [
    {
     "data": {
      "text/plain": [
       "<AxesSubplot:ylabel='Frequency'>"
      ]
     },
     "execution_count": 14,
     "metadata": {},
     "output_type": "execute_result"
    },
    {
     "data": {
      "image/png": "[encoded data removed]",
      "text/plain": [
       "<Figure size 504x360 with 1 Axes>"
      ]
     },
     "metadata": {
      "needs_background": "light"
     },
     "output_type": "display_data"
    }
   ],
   "source": [
    "training_data.groupby(\"customer_id\").agg(count=(\"article_id\", \"count\")).plot.hist(bins=50, figsize=(7, 5))"
   ]
  },
  {
   "cell_type": "markdown",
   "id": "834a946d-bef4-498a-8e43-fc98faa47f02",
   "metadata": {},
   "source": [
    "## Model Training"
   ]
  },
  {
   "cell_type": "code",
   "execution_count": 15,
   "id": "5a04f7d4-2e22-4b98-ad45-87668190b7c7",
   "metadata": {},
   "outputs": [],
   "source": [
    "pipe = get_lgm_ranker_pipeline()"
   ]
  },
  {
   "cell_type": "code",
   "execution_count": 22,
   "id": "924f5542-c198-490e-8456-6902413bafce",
   "metadata": {},
   "outputs": [],
   "source": [
    "model = pipe[-1]"
   ]
  },
  {
   "cell_type": "code",
   "execution_count": 21,
   "id": "ff852cd7-332e-4559-9075-cead45d8b59c",
   "metadata": {},
   "outputs": [
    {
     "data": {
      "text/plain": [
       "Pipeline(steps=[('features',\n",
       "                 Pipeline(steps=[('to_dataframe',\n",
       "                                  FunctionTransformer(func=<function to_dataframe at 0x12fa0faf0>,\n",
       "                                                      kw_args={'col_labels': ['feat_price_affinity',\n",
       "                                                                              'feat_dark_affinity',\n",
       "                                                                              'feat_dusty_light_affinity']}))])),\n",
       "                ('ranker', LGBMRanker(metric='ndcg', objective='lambdarank'))])"
      ]
     },
     "execution_count": 21,
     "metadata": {},
     "output_type": "execute_result"
    }
   ],
   "source": [
    "pipe"
   ]
  },
  {
   "cell_type": "code",
   "execution_count": 51,
   "id": "c2392d2b-3d88-42a5-b61b-d26a4b72922a",
   "metadata": {},
   "outputs": [
    {
     "data": {
      "text/plain": [
       "((9288179, 3), 9288179, 5000)"
      ]
     },
     "execution_count": 51,
     "metadata": {},
     "output_type": "execute_result"
    }
   ],
   "source": [
    "X_train = pipe[:-1].fit_transform(training_data)\n",
    "y_train = training_data[\"relevance\"]\n",
    "qids_train = training_data.groupby(\"customer_id\")[\"customer_id\"].count().to_numpy()\n",
    "\n",
    "X_train.shape, len(y_train), len(qids_train)"
   ]
  },
  {
   "cell_type": "code",
   "execution_count": 48,
   "id": "58e1bc2a-3072-406c-8fb1-93c18d317944",
   "metadata": {},
   "outputs": [
    {
     "data": {
      "text/plain": [
       "LGBMRanker(metric='ndcg', objective='lambdarank')"
      ]
     },
     "execution_count": 48,
     "metadata": {},
     "output_type": "execute_result"
    }
   ],
   "source": [
    "model.fit(\n",
    "    X=X_train,\n",
    "    y=y_train,\n",
    "    group=qids_train,\n",
    "    # eval_set=[(X_validation, y_validation)],\n",
    "    # eval_group=[qids_validation],\n",
    "    # eval_at=10,\n",
    "    callbacks=[lightgbm.log_evaluation()],\n",
    ")"
   ]
  }
 ],
 "metadata": {
  "kernelspec": {
   "display_name": "Python 3 (ipykernel)",
   "language": "python",
   "name": "python3"
  },
  "language_info": {
   "codemirror_mode": {
    "name": "ipython",
    "version": 3
   },
   "file_extension": ".py",
   "mimetype": "text/x-python",
   "name": "python",
   "nbconvert_exporter": "python",
   "pygments_lexer": "ipython3",
   "version": "3.9.7"
  }
 },
 "nbformat": 4,
 "nbformat_minor": 5
}
