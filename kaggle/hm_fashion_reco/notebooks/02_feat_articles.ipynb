{
 "cells": [
  {
   "cell_type": "code",
   "execution_count": 1,
   "id": "4822a4eb-828c-44e6-8157-12f9b51ccd6e",
   "metadata": {},
   "outputs": [],
   "source": [
    "%load_ext google.cloud.bigquery"
   ]
  },
  {
   "cell_type": "code",
   "execution_count": 39,
   "id": "60f6a4bf-a970-4fd9-aeea-41c47a3133d8",
   "metadata": {},
   "outputs": [],
   "source": [
    "%load_ext lab_black"
   ]
  },
  {
   "cell_type": "code",
   "execution_count": 44,
   "id": "4d338fe2-e56a-46e0-8858-99568269a398",
   "metadata": {},
   "outputs": [],
   "source": [
    "import altair as alt\n",
    "import pandas as pd"
   ]
  },
  {
   "cell_type": "code",
   "execution_count": 84,
   "id": "403ea713-1837-4332-945e-e835650cc5f6",
   "metadata": {},
   "outputs": [],
   "source": [
    "pd.options.display.float_format = \"{:.2f}\".format"
   ]
  },
  {
   "cell_type": "code",
   "execution_count": 25,
   "id": "102f38d9-11a8-44e0-bebd-527108740e8c",
   "metadata": {},
   "outputs": [
    {
     "name": "stderr",
     "output_type": "stream",
     "text": [
      "Query complete after 0.00s: 100%|████| 5/5 [00:00<00:00, 2092.76query/s]\n",
      "Downloading: 100%|█████████| 105542/105542 [00:01<00:00, 59929.49rows/s]\n"
     ]
    }
   ],
   "source": [
    "%%bigquery df_article_first_dat --project zenscr-seefood-dev\n",
    "\n",
    "WITH first_appearance AS (\n",
    "  SELECT\n",
    "    article_id,\n",
    "    MIN(t_dat) first_appearance_t_dat\n",
    "  FROM `zenscr-seefood-dev.hm_kaggle.transactions` trans\n",
    "  GROUP BY article_id\n",
    ")\n",
    "SELECT\n",
    "  article_id,\n",
    "  first_appearance_t_dat\n",
    "FROM `zenscr-seefood-dev.hm_kaggle.articles`\n",
    "LEFT JOIN first_appearance\n",
    "USING (article_id)\n",
    "ORDER BY first_appearance_t_dat ASC"
   ]
  },
  {
   "cell_type": "code",
   "execution_count": 46,
   "id": "4e76a202-b94f-423a-8776-746431f87d16",
   "metadata": {},
   "outputs": [],
   "source": [
    "df_article_first_dat[\"first_appearance_t_dat\"] = pd.to_datetime(\n",
    "    df_article_first_dat[\"first_appearance_t_dat\"]\n",
    ")"
   ]
  },
  {
   "cell_type": "code",
   "execution_count": 50,
   "id": "9c2c4dea-a41a-4e09-adde-c47becff5c55",
   "metadata": {},
   "outputs": [
    {
     "data": {
      "text/html": [
       "\n",
       "<div id=\"altair-viz-4f8118e79b7d42eaa4be0d64bcc0985c\"></div>\n",
       "<script type=\"text/javascript\">\n",
       "  var VEGA_DEBUG = (typeof VEGA_DEBUG == \"undefined\") ? {} : VEGA_DEBUG;\n",
       "  (function(spec, embedOpt){\n",
       "    let outputDiv = document.currentScript.previousElementSibling;\n",
       "    if (outputDiv.id !== \"altair-viz-4f8118e79b7d42eaa4be0d64bcc0985c\") {\n",
       "      outputDiv = document.getElementById(\"altair-viz-4f8118e79b7d42eaa4be0d64bcc0985c\");\n",
       "    }\n",
       "    const paths = {\n",
       "      \"vega\": \"https://cdn.jsdelivr.net/npm//vega@5?noext\",\n",
       "      \"vega-lib\": \"https://cdn.jsdelivr.net/npm//vega-lib?noext\",\n",
       "      \"vega-lite\": \"https://cdn.jsdelivr.net/npm//vega-lite@4.17.0?noext\",\n",
       "      \"vega-embed\": \"https://cdn.jsdelivr.net/npm//vega-embed@6?noext\",\n",
       "    };\n",
       "\n",
       "    function maybeLoadScript(lib, version) {\n",
       "      var key = `${lib.replace(\"-\", \"\")}_version`;\n",
       "      return (VEGA_DEBUG[key] == version) ?\n",
       "        Promise.resolve(paths[lib]) :\n",
       "        new Promise(function(resolve, reject) {\n",
       "          var s = document.createElement('script');\n",
       "          document.getElementsByTagName(\"head\")[0].appendChild(s);\n",
       "          s.async = true;\n",
       "          s.onload = () => {\n",
       "            VEGA_DEBUG[key] = version;\n",
       "            return resolve(paths[lib]);\n",
       "          };\n",
       "          s.onerror = () => reject(`Error loading script: ${paths[lib]}`);\n",
       "          s.src = paths[lib];\n",
       "        });\n",
       "    }\n",
       "\n",
       "    function showError(err) {\n",
       "      outputDiv.innerHTML = `<div class=\"error\" style=\"color:red;\">${err}</div>`;\n",
       "      throw err;\n",
       "    }\n",
       "\n",
       "    function displayChart(vegaEmbed) {\n",
       "      vegaEmbed(outputDiv, spec, embedOpt)\n",
       "        .catch(err => showError(`Javascript Error: ${err.message}<br>This usually means there's a typo in your chart specification. See the javascript console for the full traceback.`));\n",
       "    }\n",
       "\n",
       "    if(typeof define === \"function\" && define.amd) {\n",
       "      requirejs.config({paths});\n",
       "      require([\"vega-embed\"], displayChart, err => showError(`Error loading script: ${err.message}`));\n",
       "    } else {\n",
       "      maybeLoadScript(\"vega\", \"5\")\n",
       "        .then(() => maybeLoadScript(\"vega-lite\", \"4.17.0\"))\n",
       "        .then(() => maybeLoadScript(\"vega-embed\", \"6\"))\n",
       "        .catch(showError)\n",
       "        .then(() => displayChart(vegaEmbed));\n",
       "    }\n",
       "  })({\"config\": {\"view\": {\"continuousWidth\": 400, \"continuousHeight\": 300}}, \"data\": {\"name\": \"data-bbf534022885bf689bb08824fb9361c7\"}, \"mark\": \"line\", \"encoding\": {\"tooltip\": [{\"field\": \"first_appearance_t_dat\", \"type\": \"quantitative\"}], \"x\": {\"field\": \"index\", \"type\": \"temporal\"}, \"y\": {\"field\": \"first_appearance_t_dat\", \"type\": \"quantitative\"}}, \"selection\": {\"selector001\": {\"type\": \"interval\", \"bind\": \"scales\", \"encodings\": [\"x\", \"y\"]}}, \"width\": 900, \"$schema\": \"https://vega.github.io/schema/vega-lite/v4.17.0.json\", \"datasets\": {\"data-bbf534022885bf689bb08824fb9361c7\": [{\"index\": \"2018-09-20T00:00:00\", \"first_appearance_t_dat\": 11542}, {\"index\": \"2018-09-21T00:00:00\", \"first_appearance_t_dat\": 3819}, {\"index\": \"2018-09-23T00:00:00\", \"first_appearance_t_dat\": 2182}, {\"index\": \"2018-09-24T00:00:00\", \"first_appearance_t_dat\": 1421}, {\"index\": \"2018-09-29T00:00:00\", \"first_appearance_t_dat\": 1356}, {\"index\": \"2018-09-26T00:00:00\", \"first_appearance_t_dat\": 1142}, {\"index\": \"2018-09-25T00:00:00\", \"first_appearance_t_dat\": 1134}, {\"index\": \"2018-09-28T00:00:00\", \"first_appearance_t_dat\": 1002}, {\"index\": \"2018-09-27T00:00:00\", \"first_appearance_t_dat\": 916}, {\"index\": \"2018-09-22T00:00:00\", \"first_appearance_t_dat\": 907}, {\"index\": \"2018-10-12T00:00:00\", \"first_appearance_t_dat\": 838}, {\"index\": \"2018-10-13T00:00:00\", \"first_appearance_t_dat\": 607}, {\"index\": \"2018-10-10T00:00:00\", \"first_appearance_t_dat\": 605}, {\"index\": \"2018-10-11T00:00:00\", \"first_appearance_t_dat\": 468}, {\"index\": \"2018-10-17T00:00:00\", \"first_appearance_t_dat\": 467}, {\"index\": \"2019-09-28T00:00:00\", \"first_appearance_t_dat\": 414}, {\"index\": \"2018-10-01T00:00:00\", \"first_appearance_t_dat\": 384}, {\"index\": \"2018-10-03T00:00:00\", \"first_appearance_t_dat\": 381}, {\"index\": \"2018-10-04T00:00:00\", \"first_appearance_t_dat\": 356}, {\"index\": \"2018-10-16T00:00:00\", \"first_appearance_t_dat\": 347}, {\"index\": \"2018-10-02T00:00:00\", \"first_appearance_t_dat\": 317}, {\"index\": \"2019-04-06T00:00:00\", \"first_appearance_t_dat\": 314}, {\"index\": \"2018-10-15T00:00:00\", \"first_appearance_t_dat\": 307}, {\"index\": \"2018-10-14T00:00:00\", \"first_appearance_t_dat\": 303}, {\"index\": \"2020-09-07T00:00:00\", \"first_appearance_t_dat\": 300}, {\"index\": \"2018-10-09T00:00:00\", \"first_appearance_t_dat\": 299}, {\"index\": \"2018-10-18T00:00:00\", \"first_appearance_t_dat\": 299}, {\"index\": \"2018-10-06T00:00:00\", \"first_appearance_t_dat\": 291}, {\"index\": \"2018-10-05T00:00:00\", \"first_appearance_t_dat\": 284}, {\"index\": \"2018-09-30T00:00:00\", \"first_appearance_t_dat\": 277}, {\"index\": \"2018-10-24T00:00:00\", \"first_appearance_t_dat\": 271}, {\"index\": \"2020-04-11T00:00:00\", \"first_appearance_t_dat\": 264}, {\"index\": \"2018-11-23T00:00:00\", \"first_appearance_t_dat\": 262}, {\"index\": \"2019-05-16T00:00:00\", \"first_appearance_t_dat\": 246}, {\"index\": \"2018-10-20T00:00:00\", \"first_appearance_t_dat\": 233}, {\"index\": \"2018-10-25T00:00:00\", \"first_appearance_t_dat\": 229}, {\"index\": \"2018-10-19T00:00:00\", \"first_appearance_t_dat\": 219}, {\"index\": \"2020-08-24T00:00:00\", \"first_appearance_t_dat\": 211}, {\"index\": \"2019-11-28T00:00:00\", \"first_appearance_t_dat\": 211}, {\"index\": \"2020-09-04T00:00:00\", \"first_appearance_t_dat\": 210}, {\"index\": \"2019-02-21T00:00:00\", \"first_appearance_t_dat\": 202}, {\"index\": \"2018-10-22T00:00:00\", \"first_appearance_t_dat\": 200}, {\"index\": \"2018-10-07T00:00:00\", \"first_appearance_t_dat\": 200}, {\"index\": \"2019-03-21T00:00:00\", \"first_appearance_t_dat\": 198}, {\"index\": \"2019-09-05T00:00:00\", \"first_appearance_t_dat\": 197}, {\"index\": \"2018-10-23T00:00:00\", \"first_appearance_t_dat\": 191}, {\"index\": \"2019-03-28T00:00:00\", \"first_appearance_t_dat\": 190}, {\"index\": \"2019-01-31T00:00:00\", \"first_appearance_t_dat\": 189}, {\"index\": \"2020-04-08T00:00:00\", \"first_appearance_t_dat\": 189}, {\"index\": \"2019-03-29T00:00:00\", \"first_appearance_t_dat\": 186}, {\"index\": \"2019-02-23T00:00:00\", \"first_appearance_t_dat\": 184}, {\"index\": \"2020-08-25T00:00:00\", \"first_appearance_t_dat\": 183}, {\"index\": \"2018-10-27T00:00:00\", \"first_appearance_t_dat\": 182}, {\"index\": \"2018-11-01T00:00:00\", \"first_appearance_t_dat\": 181}, {\"index\": \"2018-10-21T00:00:00\", \"first_appearance_t_dat\": 179}, {\"index\": \"2020-08-17T00:00:00\", \"first_appearance_t_dat\": 179}, {\"index\": \"2019-02-25T00:00:00\", \"first_appearance_t_dat\": 178}, {\"index\": \"2019-11-29T00:00:00\", \"first_appearance_t_dat\": 177}, {\"index\": \"2020-04-23T00:00:00\", \"first_appearance_t_dat\": 176}, {\"index\": \"2018-11-02T00:00:00\", \"first_appearance_t_dat\": 176}, {\"index\": \"2019-03-26T00:00:00\", \"first_appearance_t_dat\": 175}, {\"index\": \"2019-02-22T00:00:00\", \"first_appearance_t_dat\": 175}, {\"index\": \"2019-03-31T00:00:00\", \"first_appearance_t_dat\": 173}, {\"index\": \"2019-01-10T00:00:00\", \"first_appearance_t_dat\": 173}, {\"index\": \"2020-04-09T00:00:00\", \"first_appearance_t_dat\": 172}, {\"index\": \"2019-02-12T00:00:00\", \"first_appearance_t_dat\": 171}, {\"index\": \"2018-10-26T00:00:00\", \"first_appearance_t_dat\": 170}, {\"index\": \"2020-09-11T00:00:00\", \"first_appearance_t_dat\": 170}, {\"index\": \"2018-10-08T00:00:00\", \"first_appearance_t_dat\": 169}, {\"index\": \"2019-03-30T00:00:00\", \"first_appearance_t_dat\": 168}, {\"index\": \"2018-11-29T00:00:00\", \"first_appearance_t_dat\": 166}, {\"index\": \"2019-01-08T00:00:00\", \"first_appearance_t_dat\": 166}, {\"index\": \"2019-08-28T00:00:00\", \"first_appearance_t_dat\": 166}, {\"index\": \"2020-07-27T00:00:00\", \"first_appearance_t_dat\": 165}, {\"index\": \"2018-10-28T00:00:00\", \"first_appearance_t_dat\": 165}, {\"index\": \"2020-09-09T00:00:00\", \"first_appearance_t_dat\": 165}, {\"index\": \"2019-02-13T00:00:00\", \"first_appearance_t_dat\": 165}, {\"index\": \"2020-07-20T00:00:00\", \"first_appearance_t_dat\": 164}, {\"index\": \"2019-01-12T00:00:00\", \"first_appearance_t_dat\": 164}, {\"index\": \"2020-08-03T00:00:00\", \"first_appearance_t_dat\": 163}, {\"index\": \"2019-02-15T00:00:00\", \"first_appearance_t_dat\": 162}, {\"index\": \"2018-11-07T00:00:00\", \"first_appearance_t_dat\": 162}, {\"index\": \"2020-09-14T00:00:00\", \"first_appearance_t_dat\": 162}, {\"index\": \"2020-08-10T00:00:00\", \"first_appearance_t_dat\": 161}, {\"index\": \"2020-04-03T00:00:00\", \"first_appearance_t_dat\": 161}, {\"index\": \"2019-02-02T00:00:00\", \"first_appearance_t_dat\": 161}, {\"index\": \"2020-03-17T00:00:00\", \"first_appearance_t_dat\": 161}, {\"index\": \"2019-01-30T00:00:00\", \"first_appearance_t_dat\": 160}, {\"index\": \"2020-09-03T00:00:00\", \"first_appearance_t_dat\": 160}, {\"index\": \"2019-03-13T00:00:00\", \"first_appearance_t_dat\": 160}, {\"index\": \"2020-04-04T00:00:00\", \"first_appearance_t_dat\": 160}, {\"index\": \"2019-04-11T00:00:00\", \"first_appearance_t_dat\": 159}, {\"index\": \"2019-04-18T00:00:00\", \"first_appearance_t_dat\": 159}, {\"index\": \"2019-03-25T00:00:00\", \"first_appearance_t_dat\": 158}, {\"index\": \"2018-11-15T00:00:00\", \"first_appearance_t_dat\": 157}, {\"index\": \"2020-08-26T00:00:00\", \"first_appearance_t_dat\": 157}, {\"index\": \"2020-04-20T00:00:00\", \"first_appearance_t_dat\": 157}, {\"index\": \"2019-04-24T00:00:00\", \"first_appearance_t_dat\": 157}, {\"index\": \"2020-06-29T00:00:00\", \"first_appearance_t_dat\": 156}, {\"index\": \"2020-04-30T00:00:00\", \"first_appearance_t_dat\": 156}, {\"index\": \"2018-11-30T00:00:00\", \"first_appearance_t_dat\": 156}, {\"index\": \"2020-08-12T00:00:00\", \"first_appearance_t_dat\": 155}, {\"index\": \"2019-02-14T00:00:00\", \"first_appearance_t_dat\": 154}, {\"index\": \"2019-02-01T00:00:00\", \"first_appearance_t_dat\": 154}, {\"index\": \"2018-12-08T00:00:00\", \"first_appearance_t_dat\": 153}, {\"index\": \"2019-03-27T00:00:00\", \"first_appearance_t_dat\": 153}, {\"index\": \"2018-11-16T00:00:00\", \"first_appearance_t_dat\": 153}, {\"index\": \"2018-12-20T00:00:00\", \"first_appearance_t_dat\": 153}, {\"index\": \"2019-01-09T00:00:00\", \"first_appearance_t_dat\": 152}, {\"index\": \"2019-02-05T00:00:00\", \"first_appearance_t_dat\": 152}, {\"index\": \"2019-12-11T00:00:00\", \"first_appearance_t_dat\": 152}, {\"index\": \"2018-12-07T00:00:00\", \"first_appearance_t_dat\": 151}, {\"index\": \"2018-11-22T00:00:00\", \"first_appearance_t_dat\": 150}, {\"index\": \"2019-10-28T00:00:00\", \"first_appearance_t_dat\": 150}, {\"index\": \"2018-12-06T00:00:00\", \"first_appearance_t_dat\": 150}, {\"index\": \"2018-11-24T00:00:00\", \"first_appearance_t_dat\": 150}, {\"index\": \"2020-04-01T00:00:00\", \"first_appearance_t_dat\": 150}, {\"index\": \"2018-12-15T00:00:00\", \"first_appearance_t_dat\": 149}, {\"index\": \"2018-11-17T00:00:00\", \"first_appearance_t_dat\": 149}, {\"index\": \"2019-04-19T00:00:00\", \"first_appearance_t_dat\": 149}, {\"index\": \"2019-08-12T00:00:00\", \"first_appearance_t_dat\": 149}, {\"index\": \"2019-01-29T00:00:00\", \"first_appearance_t_dat\": 148}, {\"index\": \"2020-08-18T00:00:00\", \"first_appearance_t_dat\": 148}, {\"index\": \"2019-08-15T00:00:00\", \"first_appearance_t_dat\": 148}, {\"index\": \"2019-06-24T00:00:00\", \"first_appearance_t_dat\": 148}, {\"index\": \"2019-01-25T00:00:00\", \"first_appearance_t_dat\": 148}, {\"index\": \"2019-08-05T00:00:00\", \"first_appearance_t_dat\": 148}, {\"index\": \"2020-03-18T00:00:00\", \"first_appearance_t_dat\": 148}, {\"index\": \"2019-03-22T00:00:00\", \"first_appearance_t_dat\": 146}, {\"index\": \"2018-11-10T00:00:00\", \"first_appearance_t_dat\": 146}, {\"index\": \"2018-11-08T00:00:00\", \"first_appearance_t_dat\": 146}, {\"index\": \"2019-04-16T00:00:00\", \"first_appearance_t_dat\": 145}, {\"index\": \"2019-12-01T00:00:00\", \"first_appearance_t_dat\": 145}, {\"index\": \"2019-01-24T00:00:00\", \"first_appearance_t_dat\": 145}, {\"index\": \"2019-04-22T00:00:00\", \"first_appearance_t_dat\": 145}, {\"index\": \"2020-03-26T00:00:00\", \"first_appearance_t_dat\": 144}, {\"index\": \"2019-03-23T00:00:00\", \"first_appearance_t_dat\": 144}, {\"index\": \"2019-03-08T00:00:00\", \"first_appearance_t_dat\": 143}, {\"index\": \"2020-02-20T00:00:00\", \"first_appearance_t_dat\": 143}, {\"index\": \"2019-04-05T00:00:00\", \"first_appearance_t_dat\": 143}, {\"index\": \"2020-05-07T00:00:00\", \"first_appearance_t_dat\": 142}, {\"index\": \"2019-06-03T00:00:00\", \"first_appearance_t_dat\": 142}, {\"index\": \"2018-10-29T00:00:00\", \"first_appearance_t_dat\": 142}, {\"index\": \"2019-02-16T00:00:00\", \"first_appearance_t_dat\": 142}, {\"index\": \"2019-07-15T00:00:00\", \"first_appearance_t_dat\": 142}, {\"index\": \"2019-02-07T00:00:00\", \"first_appearance_t_dat\": 141}, {\"index\": \"2019-03-15T00:00:00\", \"first_appearance_t_dat\": 141}, {\"index\": \"2019-08-19T00:00:00\", \"first_appearance_t_dat\": 141}, {\"index\": \"2019-01-26T00:00:00\", \"first_appearance_t_dat\": 141}, {\"index\": \"2019-08-13T00:00:00\", \"first_appearance_t_dat\": 141}, {\"index\": \"2019-04-09T00:00:00\", \"first_appearance_t_dat\": 141}, {\"index\": \"2018-12-13T00:00:00\", \"first_appearance_t_dat\": 141}, {\"index\": \"2019-03-01T00:00:00\", \"first_appearance_t_dat\": 140}, {\"index\": \"2019-04-15T00:00:00\", \"first_appearance_t_dat\": 140}, {\"index\": \"2020-02-01T00:00:00\", \"first_appearance_t_dat\": 140}, {\"index\": \"2019-04-03T00:00:00\", \"first_appearance_t_dat\": 140}, {\"index\": \"2019-04-30T00:00:00\", \"first_appearance_t_dat\": 139}, {\"index\": \"2020-02-05T00:00:00\", \"first_appearance_t_dat\": 139}, {\"index\": \"2019-12-02T00:00:00\", \"first_appearance_t_dat\": 139}, {\"index\": \"2018-11-03T00:00:00\", \"first_appearance_t_dat\": 139}, {\"index\": \"2018-11-11T00:00:00\", \"first_appearance_t_dat\": 139}, {\"index\": \"2018-11-28T00:00:00\", \"first_appearance_t_dat\": 138}, {\"index\": \"2019-02-18T00:00:00\", \"first_appearance_t_dat\": 137}, {\"index\": \"2018-10-30T00:00:00\", \"first_appearance_t_dat\": 137}, {\"index\": \"2018-11-09T00:00:00\", \"first_appearance_t_dat\": 137}, {\"index\": \"2020-08-19T00:00:00\", \"first_appearance_t_dat\": 137}, {\"index\": \"2020-03-19T00:00:00\", \"first_appearance_t_dat\": 136}, {\"index\": \"2019-04-04T00:00:00\", \"first_appearance_t_dat\": 136}, {\"index\": \"2020-05-11T00:00:00\", \"first_appearance_t_dat\": 136}, {\"index\": \"2019-02-26T00:00:00\", \"first_appearance_t_dat\": 136}, {\"index\": \"2019-02-20T00:00:00\", \"first_appearance_t_dat\": 136}, {\"index\": \"2018-12-05T00:00:00\", \"first_appearance_t_dat\": 135}, {\"index\": \"2020-02-07T00:00:00\", \"first_appearance_t_dat\": 135}, {\"index\": \"2019-03-06T00:00:00\", \"first_appearance_t_dat\": 135}, {\"index\": \"2019-02-19T00:00:00\", \"first_appearance_t_dat\": 135}, {\"index\": \"2020-02-06T00:00:00\", \"first_appearance_t_dat\": 134}, {\"index\": \"2019-03-07T00:00:00\", \"first_appearance_t_dat\": 134}, {\"index\": \"2020-03-14T00:00:00\", \"first_appearance_t_dat\": 134}, {\"index\": \"2020-03-05T00:00:00\", \"first_appearance_t_dat\": 134}, {\"index\": \"2019-05-01T00:00:00\", \"first_appearance_t_dat\": 133}, {\"index\": \"2020-07-21T00:00:00\", \"first_appearance_t_dat\": 133}, {\"index\": \"2020-01-08T00:00:00\", \"first_appearance_t_dat\": 133}, {\"index\": \"2019-08-14T00:00:00\", \"first_appearance_t_dat\": 133}, {\"index\": \"2018-12-12T00:00:00\", \"first_appearance_t_dat\": 133}, {\"index\": \"2019-04-10T00:00:00\", \"first_appearance_t_dat\": 133}, {\"index\": \"2019-05-20T00:00:00\", \"first_appearance_t_dat\": 132}, {\"index\": \"2019-05-06T00:00:00\", \"first_appearance_t_dat\": 132}, {\"index\": \"2019-01-11T00:00:00\", \"first_appearance_t_dat\": 132}, {\"index\": \"2019-07-01T00:00:00\", \"first_appearance_t_dat\": 132}, {\"index\": \"2019-04-23T00:00:00\", \"first_appearance_t_dat\": 131}, {\"index\": \"2019-10-07T00:00:00\", \"first_appearance_t_dat\": 131}, {\"index\": \"2020-02-29T00:00:00\", \"first_appearance_t_dat\": 131}, {\"index\": \"2019-02-08T00:00:00\", \"first_appearance_t_dat\": 131}, {\"index\": \"2020-03-30T00:00:00\", \"first_appearance_t_dat\": 131}, {\"index\": \"2020-05-18T00:00:00\", \"first_appearance_t_dat\": 131}, {\"index\": \"2019-04-20T00:00:00\", \"first_appearance_t_dat\": 130}, {\"index\": \"2019-09-18T00:00:00\", \"first_appearance_t_dat\": 130}, {\"index\": \"2019-01-04T00:00:00\", \"first_appearance_t_dat\": 130}, {\"index\": \"2019-04-13T00:00:00\", \"first_appearance_t_dat\": 130}, {\"index\": \"2019-09-06T00:00:00\", \"first_appearance_t_dat\": 129}, {\"index\": \"2019-08-22T00:00:00\", \"first_appearance_t_dat\": 129}, {\"index\": \"2019-09-16T00:00:00\", \"first_appearance_t_dat\": 129}, {\"index\": \"2020-05-06T00:00:00\", \"first_appearance_t_dat\": 129}, {\"index\": \"2019-09-12T00:00:00\", \"first_appearance_t_dat\": 128}, {\"index\": \"2020-02-26T00:00:00\", \"first_appearance_t_dat\": 128}, {\"index\": \"2019-04-12T00:00:00\", \"first_appearance_t_dat\": 128}, {\"index\": \"2019-09-13T00:00:00\", \"first_appearance_t_dat\": 128}, {\"index\": \"2020-03-31T00:00:00\", \"first_appearance_t_dat\": 127}, {\"index\": \"2018-12-22T00:00:00\", \"first_appearance_t_dat\": 127}, {\"index\": \"2019-06-26T00:00:00\", \"first_appearance_t_dat\": 127}, {\"index\": \"2019-08-21T00:00:00\", \"first_appearance_t_dat\": 127}, {\"index\": \"2019-02-27T00:00:00\", \"first_appearance_t_dat\": 127}, {\"index\": \"2019-05-07T00:00:00\", \"first_appearance_t_dat\": 127}, {\"index\": \"2019-02-09T00:00:00\", \"first_appearance_t_dat\": 126}, {\"index\": \"2019-04-17T00:00:00\", \"first_appearance_t_dat\": 126}, {\"index\": \"2019-09-02T00:00:00\", \"first_appearance_t_dat\": 126}, {\"index\": \"2020-04-07T00:00:00\", \"first_appearance_t_dat\": 126}, {\"index\": \"2019-06-27T00:00:00\", \"first_appearance_t_dat\": 126}, {\"index\": \"2020-01-31T00:00:00\", \"first_appearance_t_dat\": 126}, {\"index\": \"2019-09-19T00:00:00\", \"first_appearance_t_dat\": 126}, {\"index\": \"2019-08-20T00:00:00\", \"first_appearance_t_dat\": 125}, {\"index\": \"2019-09-08T00:00:00\", \"first_appearance_t_dat\": 125}, {\"index\": \"2020-08-28T00:00:00\", \"first_appearance_t_dat\": 125}, {\"index\": \"2020-04-13T00:00:00\", \"first_appearance_t_dat\": 125}, {\"index\": \"2018-12-14T00:00:00\", \"first_appearance_t_dat\": 125}, {\"index\": \"2019-05-11T00:00:00\", \"first_appearance_t_dat\": 124}, {\"index\": \"2019-03-18T00:00:00\", \"first_appearance_t_dat\": 124}, {\"index\": \"2019-05-31T00:00:00\", \"first_appearance_t_dat\": 124}, {\"index\": \"2020-09-17T00:00:00\", \"first_appearance_t_dat\": 124}, {\"index\": \"2020-09-12T00:00:00\", \"first_appearance_t_dat\": 123}, {\"index\": \"2020-08-20T00:00:00\", \"first_appearance_t_dat\": 123}, {\"index\": \"2020-02-27T00:00:00\", \"first_appearance_t_dat\": 123}, {\"index\": \"2019-04-02T00:00:00\", \"first_appearance_t_dat\": 123}, {\"index\": \"2019-08-29T00:00:00\", \"first_appearance_t_dat\": 123}, {\"index\": \"2020-04-02T00:00:00\", \"first_appearance_t_dat\": 123}, {\"index\": \"2020-08-29T00:00:00\", \"first_appearance_t_dat\": 122}, {\"index\": \"2020-01-30T00:00:00\", \"first_appearance_t_dat\": 121}, {\"index\": \"2020-01-29T00:00:00\", \"first_appearance_t_dat\": 120}, {\"index\": \"2019-08-09T00:00:00\", \"first_appearance_t_dat\": 120}, {\"index\": \"2020-06-25T00:00:00\", \"first_appearance_t_dat\": 120}, {\"index\": \"2019-07-13T00:00:00\", \"first_appearance_t_dat\": 120}, {\"index\": \"2019-03-16T00:00:00\", \"first_appearance_t_dat\": 120}, {\"index\": \"2020-02-10T00:00:00\", \"first_appearance_t_dat\": 120}, {\"index\": \"2020-03-06T00:00:00\", \"first_appearance_t_dat\": 119}, {\"index\": \"2018-11-21T00:00:00\", \"first_appearance_t_dat\": 119}, {\"index\": \"2020-03-04T00:00:00\", \"first_appearance_t_dat\": 119}, {\"index\": \"2019-03-12T00:00:00\", \"first_appearance_t_dat\": 119}, {\"index\": \"2018-12-21T00:00:00\", \"first_appearance_t_dat\": 118}, {\"index\": \"2019-12-12T00:00:00\", \"first_appearance_t_dat\": 118}, {\"index\": \"2018-11-14T00:00:00\", \"first_appearance_t_dat\": 118}, {\"index\": \"2018-11-27T00:00:00\", \"first_appearance_t_dat\": 118}, {\"index\": \"2019-02-28T00:00:00\", \"first_appearance_t_dat\": 117}, {\"index\": \"2020-01-25T00:00:00\", \"first_appearance_t_dat\": 117}, {\"index\": \"2020-06-22T00:00:00\", \"first_appearance_t_dat\": 117}, {\"index\": \"2018-12-01T00:00:00\", \"first_appearance_t_dat\": 116}, {\"index\": \"2020-01-09T00:00:00\", \"first_appearance_t_dat\": 116}, {\"index\": \"2019-09-14T00:00:00\", \"first_appearance_t_dat\": 116}, {\"index\": \"2020-01-16T00:00:00\", \"first_appearance_t_dat\": 116}, {\"index\": \"2020-03-13T00:00:00\", \"first_appearance_t_dat\": 116}, {\"index\": \"2019-10-25T00:00:00\", \"first_appearance_t_dat\": 115}, {\"index\": \"2020-01-17T00:00:00\", \"first_appearance_t_dat\": 115}, {\"index\": \"2020-05-04T00:00:00\", \"first_appearance_t_dat\": 115}, {\"index\": \"2019-04-08T00:00:00\", \"first_appearance_t_dat\": 115}, {\"index\": \"2019-02-06T00:00:00\", \"first_appearance_t_dat\": 115}, {\"index\": \"2020-01-22T00:00:00\", \"first_appearance_t_dat\": 114}, {\"index\": \"2020-05-20T00:00:00\", \"first_appearance_t_dat\": 114}, {\"index\": \"2019-10-24T00:00:00\", \"first_appearance_t_dat\": 114}, {\"index\": \"2020-02-11T00:00:00\", \"first_appearance_t_dat\": 114}, {\"index\": \"2019-09-22T00:00:00\", \"first_appearance_t_dat\": 114}, {\"index\": \"2019-01-05T00:00:00\", \"first_appearance_t_dat\": 114}, {\"index\": \"2019-01-19T00:00:00\", \"first_appearance_t_dat\": 114}, {\"index\": \"2019-01-23T00:00:00\", \"first_appearance_t_dat\": 113}, {\"index\": \"2020-01-23T00:00:00\", \"first_appearance_t_dat\": 113}, {\"index\": \"2020-09-18T00:00:00\", \"first_appearance_t_dat\": 112}, {\"index\": \"2020-03-29T00:00:00\", \"first_appearance_t_dat\": 112}, {\"index\": \"2020-04-10T00:00:00\", \"first_appearance_t_dat\": 112}, {\"index\": \"2020-02-12T00:00:00\", \"first_appearance_t_dat\": 112}, {\"index\": \"2019-03-11T00:00:00\", \"first_appearance_t_dat\": 112}, {\"index\": \"2020-03-07T00:00:00\", \"first_appearance_t_dat\": 112}, {\"index\": \"2019-03-20T00:00:00\", \"first_appearance_t_dat\": 112}, {\"index\": \"2019-05-13T00:00:00\", \"first_appearance_t_dat\": 112}, {\"index\": \"2019-05-27T00:00:00\", \"first_appearance_t_dat\": 111}, {\"index\": \"2020-08-22T00:00:00\", \"first_appearance_t_dat\": 111}, {\"index\": \"2019-09-07T00:00:00\", \"first_appearance_t_dat\": 111}, {\"index\": \"2019-06-18T00:00:00\", \"first_appearance_t_dat\": 111}, {\"index\": \"2020-08-04T00:00:00\", \"first_appearance_t_dat\": 111}, {\"index\": \"2020-06-17T00:00:00\", \"first_appearance_t_dat\": 111}, {\"index\": \"2019-04-01T00:00:00\", \"first_appearance_t_dat\": 111}, {\"index\": \"2020-03-27T00:00:00\", \"first_appearance_t_dat\": 110}, {\"index\": \"2018-12-09T00:00:00\", \"first_appearance_t_dat\": 110}, {\"index\": \"2019-09-26T00:00:00\", \"first_appearance_t_dat\": 110}, {\"index\": \"2019-03-02T00:00:00\", \"first_appearance_t_dat\": 110}, {\"index\": \"2019-07-19T00:00:00\", \"first_appearance_t_dat\": 110}, {\"index\": \"2018-12-28T00:00:00\", \"first_appearance_t_dat\": 110}, {\"index\": \"2019-07-18T00:00:00\", \"first_appearance_t_dat\": 109}, {\"index\": \"2019-02-03T00:00:00\", \"first_appearance_t_dat\": 109}, {\"index\": \"2020-08-31T00:00:00\", \"first_appearance_t_dat\": 109}, {\"index\": \"2020-09-08T00:00:00\", \"first_appearance_t_dat\": 109}, {\"index\": \"2018-10-31T00:00:00\", \"first_appearance_t_dat\": 109}, {\"index\": \"2019-01-18T00:00:00\", \"first_appearance_t_dat\": 109}, {\"index\": \"2019-02-11T00:00:00\", \"first_appearance_t_dat\": 108}, {\"index\": \"2020-03-03T00:00:00\", \"first_appearance_t_dat\": 108}, {\"index\": \"2020-01-10T00:00:00\", \"first_appearance_t_dat\": 108}, {\"index\": \"2019-05-29T00:00:00\", \"first_appearance_t_dat\": 108}, {\"index\": \"2019-09-01T00:00:00\", \"first_appearance_t_dat\": 108}, {\"index\": \"2020-08-27T00:00:00\", \"first_appearance_t_dat\": 108}, {\"index\": \"2020-05-14T00:00:00\", \"first_appearance_t_dat\": 108}, {\"index\": \"2019-01-17T00:00:00\", \"first_appearance_t_dat\": 107}, {\"index\": \"2019-03-09T00:00:00\", \"first_appearance_t_dat\": 107}, {\"index\": \"2019-06-19T00:00:00\", \"first_appearance_t_dat\": 107}, {\"index\": \"2020-03-11T00:00:00\", \"first_appearance_t_dat\": 107}, {\"index\": \"2020-01-11T00:00:00\", \"first_appearance_t_dat\": 107}, {\"index\": \"2020-05-28T00:00:00\", \"first_appearance_t_dat\": 107}, {\"index\": \"2018-12-10T00:00:00\", \"first_appearance_t_dat\": 107}, {\"index\": \"2019-08-31T00:00:00\", \"first_appearance_t_dat\": 106}, {\"index\": \"2020-04-06T00:00:00\", \"first_appearance_t_dat\": 106}, {\"index\": \"2020-08-23T00:00:00\", \"first_appearance_t_dat\": 106}, {\"index\": \"2019-03-14T00:00:00\", \"first_appearance_t_dat\": 106}, {\"index\": \"2020-02-03T00:00:00\", \"first_appearance_t_dat\": 106}, {\"index\": \"2020-03-12T00:00:00\", \"first_appearance_t_dat\": 106}, {\"index\": \"2020-05-19T00:00:00\", \"first_appearance_t_dat\": 106}, {\"index\": \"2018-12-19T00:00:00\", \"first_appearance_t_dat\": 106}, {\"index\": \"2020-07-30T00:00:00\", \"first_appearance_t_dat\": 105}, {\"index\": \"2019-12-14T00:00:00\", \"first_appearance_t_dat\": 105}, {\"index\": \"2019-06-21T00:00:00\", \"first_appearance_t_dat\": 105}, {\"index\": \"2019-05-22T00:00:00\", \"first_appearance_t_dat\": 105}, {\"index\": \"2019-09-20T00:00:00\", \"first_appearance_t_dat\": 105}, {\"index\": \"2018-11-06T00:00:00\", \"first_appearance_t_dat\": 105}, {\"index\": \"2019-05-02T00:00:00\", \"first_appearance_t_dat\": 105}, {\"index\": \"2019-04-25T00:00:00\", \"first_appearance_t_dat\": 105}, {\"index\": \"2020-01-18T00:00:00\", \"first_appearance_t_dat\": 105}, {\"index\": \"2019-10-18T00:00:00\", \"first_appearance_t_dat\": 104}, {\"index\": \"2019-06-04T00:00:00\", \"first_appearance_t_dat\": 104}, {\"index\": \"2019-07-29T00:00:00\", \"first_appearance_t_dat\": 103}, {\"index\": \"2019-05-09T00:00:00\", \"first_appearance_t_dat\": 103}, {\"index\": \"2019-12-03T00:00:00\", \"first_appearance_t_dat\": 103}, {\"index\": \"2019-12-07T00:00:00\", \"first_appearance_t_dat\": 103}, {\"index\": \"2018-12-02T00:00:00\", \"first_appearance_t_dat\": 103}, {\"index\": \"2020-09-13T00:00:00\", \"first_appearance_t_dat\": 103}, {\"index\": \"2020-08-21T00:00:00\", \"first_appearance_t_dat\": 103}, {\"index\": \"2020-02-21T00:00:00\", \"first_appearance_t_dat\": 103}, {\"index\": \"2019-03-19T00:00:00\", \"first_appearance_t_dat\": 103}, {\"index\": \"2019-08-30T00:00:00\", \"first_appearance_t_dat\": 103}, {\"index\": \"2019-10-08T00:00:00\", \"first_appearance_t_dat\": 102}, {\"index\": \"2019-09-03T00:00:00\", \"first_appearance_t_dat\": 102}, {\"index\": \"2019-01-16T00:00:00\", \"first_appearance_t_dat\": 102}, {\"index\": \"2020-07-13T00:00:00\", \"first_appearance_t_dat\": 102}, {\"index\": \"2020-09-22T00:00:00\", \"first_appearance_t_dat\": 102}, {\"index\": \"2019-08-26T00:00:00\", \"first_appearance_t_dat\": 102}, {\"index\": \"2019-08-23T00:00:00\", \"first_appearance_t_dat\": 101}, {\"index\": \"2019-09-04T00:00:00\", \"first_appearance_t_dat\": 101}, {\"index\": \"2020-02-13T00:00:00\", \"first_appearance_t_dat\": 101}, {\"index\": \"2019-08-06T00:00:00\", \"first_appearance_t_dat\": 101}, {\"index\": \"2018-12-29T00:00:00\", \"first_appearance_t_dat\": 101}, {\"index\": \"2020-09-10T00:00:00\", \"first_appearance_t_dat\": 101}, {\"index\": \"2020-03-01T00:00:00\", \"first_appearance_t_dat\": 100}, {\"index\": \"2019-05-28T00:00:00\", \"first_appearance_t_dat\": 100}, {\"index\": \"2019-07-10T00:00:00\", \"first_appearance_t_dat\": 100}, {\"index\": \"2019-08-03T00:00:00\", \"first_appearance_t_dat\": 100}, {\"index\": \"2019-07-24T00:00:00\", \"first_appearance_t_dat\": 100}, {\"index\": \"2019-12-10T00:00:00\", \"first_appearance_t_dat\": 99}, {\"index\": \"2019-10-21T00:00:00\", \"first_appearance_t_dat\": 99}, {\"index\": \"2020-01-14T00:00:00\", \"first_appearance_t_dat\": 99}, {\"index\": \"2018-12-04T00:00:00\", \"first_appearance_t_dat\": 99}, {\"index\": \"2020-09-16T00:00:00\", \"first_appearance_t_dat\": 99}, {\"index\": \"2020-01-27T00:00:00\", \"first_appearance_t_dat\": 99}, {\"index\": \"2020-01-28T00:00:00\", \"first_appearance_t_dat\": 99}, {\"index\": \"2019-01-27T00:00:00\", \"first_appearance_t_dat\": 99}, {\"index\": \"2020-04-28T00:00:00\", \"first_appearance_t_dat\": 98}, {\"index\": \"2018-11-05T00:00:00\", \"first_appearance_t_dat\": 98}, {\"index\": \"2019-10-09T00:00:00\", \"first_appearance_t_dat\": 98}, {\"index\": \"2019-07-30T00:00:00\", \"first_appearance_t_dat\": 98}, {\"index\": \"2018-11-13T00:00:00\", \"first_appearance_t_dat\": 97}, {\"index\": \"2020-01-26T00:00:00\", \"first_appearance_t_dat\": 97}, {\"index\": \"2020-07-14T00:00:00\", \"first_appearance_t_dat\": 97}, {\"index\": \"2019-12-05T00:00:00\", \"first_appearance_t_dat\": 97}, {\"index\": \"2019-02-04T00:00:00\", \"first_appearance_t_dat\": 96}, {\"index\": \"2019-05-21T00:00:00\", \"first_appearance_t_dat\": 96}, {\"index\": \"2019-08-17T00:00:00\", \"first_appearance_t_dat\": 96}, {\"index\": \"2020-01-03T00:00:00\", \"first_appearance_t_dat\": 96}, {\"index\": \"2019-06-05T00:00:00\", \"first_appearance_t_dat\": 96}, {\"index\": \"2019-03-05T00:00:00\", \"first_appearance_t_dat\": 96}, {\"index\": \"2019-05-23T00:00:00\", \"first_appearance_t_dat\": 96}, {\"index\": \"2019-08-10T00:00:00\", \"first_appearance_t_dat\": 96}, {\"index\": \"2020-04-24T00:00:00\", \"first_appearance_t_dat\": 95}, {\"index\": \"2020-09-06T00:00:00\", \"first_appearance_t_dat\": 95}, {\"index\": \"2019-08-16T00:00:00\", \"first_appearance_t_dat\": 95}, {\"index\": \"2019-10-31T00:00:00\", \"first_appearance_t_dat\": 95}, {\"index\": \"2020-07-09T00:00:00\", \"first_appearance_t_dat\": 95}, {\"index\": \"2020-01-13T00:00:00\", \"first_appearance_t_dat\": 95}, {\"index\": \"2019-01-22T00:00:00\", \"first_appearance_t_dat\": 95}, {\"index\": \"2019-02-10T00:00:00\", \"first_appearance_t_dat\": 95}, {\"index\": \"2019-05-24T00:00:00\", \"first_appearance_t_dat\": 95}, {\"index\": \"2019-09-10T00:00:00\", \"first_appearance_t_dat\": 95}, {\"index\": \"2020-02-25T00:00:00\", \"first_appearance_t_dat\": 95}, {\"index\": \"2019-06-17T00:00:00\", \"first_appearance_t_dat\": 94}, {\"index\": \"2020-06-01T00:00:00\", \"first_appearance_t_dat\": 94}, {\"index\": \"2019-11-30T00:00:00\", \"first_appearance_t_dat\": 94}, {\"index\": \"2019-12-18T00:00:00\", \"first_appearance_t_dat\": 94}, {\"index\": \"2019-07-20T00:00:00\", \"first_appearance_t_dat\": 94}, {\"index\": \"2020-02-22T00:00:00\", \"first_appearance_t_dat\": 94}, {\"index\": \"2019-10-02T00:00:00\", \"first_appearance_t_dat\": 94}, {\"index\": \"2019-07-16T00:00:00\", \"first_appearance_t_dat\": 94}, {\"index\": \"2020-08-11T00:00:00\", \"first_appearance_t_dat\": 93}, {\"index\": \"2020-09-01T00:00:00\", \"first_appearance_t_dat\": 93}, {\"index\": \"2020-08-06T00:00:00\", \"first_appearance_t_dat\": 93}, {\"index\": \"2019-07-02T00:00:00\", \"first_appearance_t_dat\": 93}, {\"index\": \"2019-01-03T00:00:00\", \"first_appearance_t_dat\": 92}, {\"index\": \"2019-08-08T00:00:00\", \"first_appearance_t_dat\": 92}, {\"index\": \"2020-08-13T00:00:00\", \"first_appearance_t_dat\": 91}, {\"index\": \"2019-09-23T00:00:00\", \"first_appearance_t_dat\": 91}, {\"index\": \"2019-09-17T00:00:00\", \"first_appearance_t_dat\": 91}, {\"index\": \"2020-01-07T00:00:00\", \"first_appearance_t_dat\": 91}, {\"index\": \"2019-04-14T00:00:00\", \"first_appearance_t_dat\": 91}, {\"index\": \"2020-06-19T00:00:00\", \"first_appearance_t_dat\": 91}, {\"index\": \"2020-03-10T00:00:00\", \"first_appearance_t_dat\": 91}, {\"index\": \"2020-02-04T00:00:00\", \"first_appearance_t_dat\": 91}, {\"index\": \"2018-11-18T00:00:00\", \"first_appearance_t_dat\": 91}, {\"index\": \"2019-03-04T00:00:00\", \"first_appearance_t_dat\": 90}, {\"index\": \"2020-07-24T00:00:00\", \"first_appearance_t_dat\": 90}, {\"index\": \"2020-01-24T00:00:00\", \"first_appearance_t_dat\": 90}, {\"index\": \"2019-02-17T00:00:00\", \"first_appearance_t_dat\": 90}, {\"index\": \"2019-06-10T00:00:00\", \"first_appearance_t_dat\": 90}, {\"index\": \"2019-09-30T00:00:00\", \"first_appearance_t_dat\": 90}, {\"index\": \"2019-06-20T00:00:00\", \"first_appearance_t_dat\": 90}, {\"index\": \"2019-10-16T00:00:00\", \"first_appearance_t_dat\": 90}, {\"index\": \"2019-10-26T00:00:00\", \"first_appearance_t_dat\": 89}, {\"index\": \"2018-11-04T00:00:00\", \"first_appearance_t_dat\": 89}, {\"index\": \"2018-12-11T00:00:00\", \"first_appearance_t_dat\": 89}, {\"index\": \"2019-07-17T00:00:00\", \"first_appearance_t_dat\": 89}, {\"index\": \"2020-03-21T00:00:00\", \"first_appearance_t_dat\": 89}, {\"index\": \"2019-10-15T00:00:00\", \"first_appearance_t_dat\": 89}, {\"index\": \"2020-03-09T00:00:00\", \"first_appearance_t_dat\": 89}, {\"index\": \"2020-06-24T00:00:00\", \"first_appearance_t_dat\": 89}, {\"index\": \"2020-09-15T00:00:00\", \"first_appearance_t_dat\": 89}, {\"index\": \"2019-03-17T00:00:00\", \"first_appearance_t_dat\": 88}, {\"index\": \"2018-11-20T00:00:00\", \"first_appearance_t_dat\": 88}, {\"index\": \"2019-12-13T00:00:00\", \"first_appearance_t_dat\": 88}, {\"index\": \"2020-05-08T00:00:00\", \"first_appearance_t_dat\": 88}, {\"index\": \"2019-07-25T00:00:00\", \"first_appearance_t_dat\": 88}, {\"index\": \"2020-02-08T00:00:00\", \"first_appearance_t_dat\": 88}, {\"index\": \"2019-05-03T00:00:00\", \"first_appearance_t_dat\": 88}, {\"index\": \"2020-03-20T00:00:00\", \"first_appearance_t_dat\": 88}, {\"index\": \"2018-12-27T00:00:00\", \"first_appearance_t_dat\": 87}, {\"index\": \"2019-12-06T00:00:00\", \"first_appearance_t_dat\": 87}, {\"index\": \"2019-07-22T00:00:00\", \"first_appearance_t_dat\": 86}, {\"index\": \"2019-10-14T00:00:00\", \"first_appearance_t_dat\": 86}, {\"index\": \"2020-06-26T00:00:00\", \"first_appearance_t_dat\": 86}, {\"index\": \"2019-04-26T00:00:00\", \"first_appearance_t_dat\": 86}, {\"index\": \"2020-05-01T00:00:00\", \"first_appearance_t_dat\": 86}, {\"index\": \"2020-07-16T00:00:00\", \"first_appearance_t_dat\": 86}, {\"index\": \"2020-07-15T00:00:00\", \"first_appearance_t_dat\": 86}, {\"index\": \"2020-07-06T00:00:00\", \"first_appearance_t_dat\": 85}, {\"index\": \"2019-07-23T00:00:00\", \"first_appearance_t_dat\": 85}, {\"index\": \"2020-03-28T00:00:00\", \"first_appearance_t_dat\": 85}, {\"index\": \"2019-10-17T00:00:00\", \"first_appearance_t_dat\": 85}, {\"index\": \"2020-07-28T00:00:00\", \"first_appearance_t_dat\": 85}, {\"index\": \"2019-12-19T00:00:00\", \"first_appearance_t_dat\": 85}, {\"index\": \"2020-07-22T00:00:00\", \"first_appearance_t_dat\": 85}, {\"index\": \"2020-09-05T00:00:00\", \"first_appearance_t_dat\": 85}, {\"index\": \"2019-12-09T00:00:00\", \"first_appearance_t_dat\": 85}, {\"index\": \"2019-12-04T00:00:00\", \"first_appearance_t_dat\": 85}, {\"index\": \"2019-06-28T00:00:00\", \"first_appearance_t_dat\": 85}, {\"index\": \"2020-05-13T00:00:00\", \"first_appearance_t_dat\": 84}, {\"index\": \"2020-03-16T00:00:00\", \"first_appearance_t_dat\": 84}, {\"index\": \"2020-04-29T00:00:00\", \"first_appearance_t_dat\": 84}, {\"index\": \"2019-12-20T00:00:00\", \"first_appearance_t_dat\": 84}, {\"index\": \"2018-12-23T00:00:00\", \"first_appearance_t_dat\": 84}, {\"index\": \"2019-12-16T00:00:00\", \"first_appearance_t_dat\": 84}, {\"index\": \"2019-07-08T00:00:00\", \"first_appearance_t_dat\": 84}, {\"index\": \"2019-10-23T00:00:00\", \"first_appearance_t_dat\": 83}, {\"index\": \"2020-08-05T00:00:00\", \"first_appearance_t_dat\": 83}, {\"index\": \"2019-05-15T00:00:00\", \"first_appearance_t_dat\": 83}, {\"index\": \"2020-07-31T00:00:00\", \"first_appearance_t_dat\": 83}, {\"index\": \"2019-09-11T00:00:00\", \"first_appearance_t_dat\": 83}, {\"index\": \"2019-06-22T00:00:00\", \"first_appearance_t_dat\": 83}, {\"index\": \"2019-11-23T00:00:00\", \"first_appearance_t_dat\": 83}, {\"index\": \"2019-08-01T00:00:00\", \"first_appearance_t_dat\": 83}, {\"index\": \"2019-10-04T00:00:00\", \"first_appearance_t_dat\": 83}, {\"index\": \"2020-04-16T00:00:00\", \"first_appearance_t_dat\": 83}, {\"index\": \"2018-12-17T00:00:00\", \"first_appearance_t_dat\": 83}, {\"index\": \"2019-10-22T00:00:00\", \"first_appearance_t_dat\": 82}, {\"index\": \"2019-12-21T00:00:00\", \"first_appearance_t_dat\": 82}, {\"index\": \"2019-05-14T00:00:00\", \"first_appearance_t_dat\": 82}, {\"index\": \"2020-04-17T00:00:00\", \"first_appearance_t_dat\": 82}, {\"index\": \"2019-05-08T00:00:00\", \"first_appearance_t_dat\": 82}, {\"index\": \"2019-05-25T00:00:00\", \"first_appearance_t_dat\": 82}, {\"index\": \"2019-07-31T00:00:00\", \"first_appearance_t_dat\": 82}, {\"index\": \"2019-01-07T00:00:00\", \"first_appearance_t_dat\": 82}, {\"index\": \"2020-09-19T00:00:00\", \"first_appearance_t_dat\": 82}, {\"index\": \"2020-05-27T00:00:00\", \"first_appearance_t_dat\": 81}, {\"index\": \"2020-02-02T00:00:00\", \"first_appearance_t_dat\": 81}, {\"index\": \"2019-08-27T00:00:00\", \"first_appearance_t_dat\": 81}, {\"index\": \"2019-07-03T00:00:00\", \"first_appearance_t_dat\": 81}, {\"index\": \"2019-09-25T00:00:00\", \"first_appearance_t_dat\": 81}, {\"index\": \"2019-01-13T00:00:00\", \"first_appearance_t_dat\": 81}, {\"index\": \"2019-06-29T00:00:00\", \"first_appearance_t_dat\": 80}, {\"index\": \"2020-07-23T00:00:00\", \"first_appearance_t_dat\": 80}, {\"index\": \"2020-08-14T00:00:00\", \"first_appearance_t_dat\": 80}, {\"index\": \"2020-05-12T00:00:00\", \"first_appearance_t_dat\": 80}, {\"index\": \"2019-01-14T00:00:00\", \"first_appearance_t_dat\": 80}, {\"index\": \"2019-01-15T00:00:00\", \"first_appearance_t_dat\": 80}, {\"index\": \"2020-04-05T00:00:00\", \"first_appearance_t_dat\": 80}, {\"index\": \"2020-03-25T00:00:00\", \"first_appearance_t_dat\": 80}, {\"index\": \"2020-08-30T00:00:00\", \"first_appearance_t_dat\": 80}, {\"index\": \"2019-05-17T00:00:00\", \"first_appearance_t_dat\": 80}, {\"index\": \"2019-03-24T00:00:00\", \"first_appearance_t_dat\": 80}, {\"index\": \"2020-06-23T00:00:00\", \"first_appearance_t_dat\": 79}, {\"index\": \"2019-08-07T00:00:00\", \"first_appearance_t_dat\": 79}, {\"index\": \"2019-06-13T00:00:00\", \"first_appearance_t_dat\": 79}, {\"index\": \"2019-05-10T00:00:00\", \"first_appearance_t_dat\": 79}, {\"index\": \"2019-09-09T00:00:00\", \"first_appearance_t_dat\": 79}, {\"index\": \"2020-02-24T00:00:00\", \"first_appearance_t_dat\": 79}, {\"index\": \"2019-07-14T00:00:00\", \"first_appearance_t_dat\": 79}, {\"index\": \"2020-06-03T00:00:00\", \"first_appearance_t_dat\": 79}, {\"index\": \"2020-07-10T00:00:00\", \"first_appearance_t_dat\": 78}, {\"index\": \"2020-09-21T00:00:00\", \"first_appearance_t_dat\": 78}, {\"index\": \"2019-11-04T00:00:00\", \"first_appearance_t_dat\": 78}, {\"index\": \"2019-08-18T00:00:00\", \"first_appearance_t_dat\": 78}, {\"index\": \"2020-01-20T00:00:00\", \"first_appearance_t_dat\": 77}, {\"index\": \"2020-08-07T00:00:00\", \"first_appearance_t_dat\": 77}, {\"index\": \"2018-12-18T00:00:00\", \"first_appearance_t_dat\": 77}, {\"index\": \"2019-11-27T00:00:00\", \"first_appearance_t_dat\": 76}, {\"index\": \"2019-04-29T00:00:00\", \"first_appearance_t_dat\": 76}, {\"index\": \"2018-11-19T00:00:00\", \"first_appearance_t_dat\": 76}, {\"index\": \"2019-06-01T00:00:00\", \"first_appearance_t_dat\": 76}, {\"index\": \"2019-07-11T00:00:00\", \"first_appearance_t_dat\": 75}, {\"index\": \"2020-04-25T00:00:00\", \"first_appearance_t_dat\": 75}, {\"index\": \"2019-01-28T00:00:00\", \"first_appearance_t_dat\": 75}, {\"index\": \"2019-01-02T00:00:00\", \"first_appearance_t_dat\": 75}, {\"index\": \"2020-05-25T00:00:00\", \"first_appearance_t_dat\": 75}, {\"index\": \"2020-07-08T00:00:00\", \"first_appearance_t_dat\": 75}, {\"index\": \"2020-06-09T00:00:00\", \"first_appearance_t_dat\": 75}, {\"index\": \"2019-01-21T00:00:00\", \"first_appearance_t_dat\": 75}, {\"index\": \"2020-06-16T00:00:00\", \"first_appearance_t_dat\": 75}, {\"index\": \"2019-11-01T00:00:00\", \"first_appearance_t_dat\": 75}, {\"index\": \"2019-06-30T00:00:00\", \"first_appearance_t_dat\": 75}, {\"index\": \"2018-12-03T00:00:00\", \"first_appearance_t_dat\": 75}, {\"index\": \"2018-12-16T00:00:00\", \"first_appearance_t_dat\": 75}, {\"index\": \"2020-01-12T00:00:00\", \"first_appearance_t_dat\": 75}, {\"index\": \"2020-01-15T00:00:00\", \"first_appearance_t_dat\": 75}, {\"index\": \"2019-11-03T00:00:00\", \"first_appearance_t_dat\": 75}, {\"index\": \"2019-10-19T00:00:00\", \"first_appearance_t_dat\": 75}, {\"index\": \"2019-07-09T00:00:00\", \"first_appearance_t_dat\": 74}, {\"index\": \"2019-01-06T00:00:00\", \"first_appearance_t_dat\": 74}, {\"index\": \"2019-10-29T00:00:00\", \"first_appearance_t_dat\": 74}, {\"index\": \"2020-07-07T00:00:00\", \"first_appearance_t_dat\": 74}, {\"index\": \"2019-04-07T00:00:00\", \"first_appearance_t_dat\": 74}, {\"index\": \"2019-12-17T00:00:00\", \"first_appearance_t_dat\": 74}, {\"index\": \"2019-07-27T00:00:00\", \"first_appearance_t_dat\": 74}, {\"index\": \"2019-09-24T00:00:00\", \"first_appearance_t_dat\": 74}, {\"index\": \"2019-11-06T00:00:00\", \"first_appearance_t_dat\": 73}, {\"index\": \"2020-06-15T00:00:00\", \"first_appearance_t_dat\": 73}, {\"index\": \"2020-01-02T00:00:00\", \"first_appearance_t_dat\": 73}, {\"index\": \"2020-01-06T00:00:00\", \"first_appearance_t_dat\": 73}, {\"index\": \"2020-05-29T00:00:00\", \"first_appearance_t_dat\": 73}, {\"index\": \"2018-11-12T00:00:00\", \"first_appearance_t_dat\": 73}, {\"index\": \"2019-07-12T00:00:00\", \"first_appearance_t_dat\": 73}, {\"index\": \"2020-02-18T00:00:00\", \"first_appearance_t_dat\": 73}, {\"index\": \"2019-05-30T00:00:00\", \"first_appearance_t_dat\": 73}, {\"index\": \"2020-05-09T00:00:00\", \"first_appearance_t_dat\": 72}, {\"index\": \"2020-06-27T00:00:00\", \"first_appearance_t_dat\": 72}, {\"index\": \"2020-06-30T00:00:00\", \"first_appearance_t_dat\": 72}, {\"index\": \"2019-08-24T00:00:00\", \"first_appearance_t_dat\": 72}, {\"index\": \"2020-07-17T00:00:00\", \"first_appearance_t_dat\": 72}, {\"index\": \"2019-05-04T00:00:00\", \"first_appearance_t_dat\": 72}, {\"index\": \"2020-07-02T00:00:00\", \"first_appearance_t_dat\": 72}, {\"index\": \"2019-10-03T00:00:00\", \"first_appearance_t_dat\": 71}, {\"index\": \"2019-06-25T00:00:00\", \"first_appearance_t_dat\": 71}, {\"index\": \"2019-12-23T00:00:00\", \"first_appearance_t_dat\": 71}, {\"index\": \"2020-07-18T00:00:00\", \"first_appearance_t_dat\": 71}, {\"index\": \"2019-10-30T00:00:00\", \"first_appearance_t_dat\": 71}, {\"index\": \"2019-10-11T00:00:00\", \"first_appearance_t_dat\": 71}, {\"index\": \"2020-04-27T00:00:00\", \"first_appearance_t_dat\": 71}, {\"index\": \"2020-07-25T00:00:00\", \"first_appearance_t_dat\": 71}, {\"index\": \"2019-06-06T00:00:00\", \"first_appearance_t_dat\": 71}, {\"index\": \"2019-08-02T00:00:00\", \"first_appearance_t_dat\": 71}, {\"index\": \"2020-03-02T00:00:00\", \"first_appearance_t_dat\": 71}, {\"index\": \"2020-09-20T00:00:00\", \"first_appearance_t_dat\": 70}, {\"index\": \"2020-06-08T00:00:00\", \"first_appearance_t_dat\": 70}, {\"index\": \"2020-02-15T00:00:00\", \"first_appearance_t_dat\": 70}, {\"index\": \"2020-03-23T00:00:00\", \"first_appearance_t_dat\": 70}, {\"index\": \"2020-02-09T00:00:00\", \"first_appearance_t_dat\": 70}, {\"index\": \"2019-01-20T00:00:00\", \"first_appearance_t_dat\": 70}, {\"index\": \"2020-06-12T00:00:00\", \"first_appearance_t_dat\": 69}, {\"index\": \"2019-05-18T00:00:00\", \"first_appearance_t_dat\": 69}, {\"index\": \"2020-02-28T00:00:00\", \"first_appearance_t_dat\": 69}, {\"index\": \"2020-02-14T00:00:00\", \"first_appearance_t_dat\": 69}, {\"index\": \"2020-01-21T00:00:00\", \"first_appearance_t_dat\": 69}, {\"index\": \"2018-12-30T00:00:00\", \"first_appearance_t_dat\": 69}, {\"index\": \"2020-02-17T00:00:00\", \"first_appearance_t_dat\": 68}, {\"index\": \"2020-03-08T00:00:00\", \"first_appearance_t_dat\": 68}, {\"index\": \"2020-04-21T00:00:00\", \"first_appearance_t_dat\": 68}, {\"index\": \"2019-11-26T00:00:00\", \"first_appearance_t_dat\": 68}, {\"index\": \"2020-03-15T00:00:00\", \"first_appearance_t_dat\": 67}, {\"index\": \"2020-06-20T00:00:00\", \"first_appearance_t_dat\": 67}, {\"index\": \"2019-11-22T00:00:00\", \"first_appearance_t_dat\": 67}, {\"index\": \"2019-11-12T00:00:00\", \"first_appearance_t_dat\": 66}, {\"index\": \"2019-10-10T00:00:00\", \"first_appearance_t_dat\": 66}, {\"index\": \"2019-10-27T00:00:00\", \"first_appearance_t_dat\": 66}, {\"index\": \"2019-05-12T00:00:00\", \"first_appearance_t_dat\": 66}, {\"index\": \"2020-08-15T00:00:00\", \"first_appearance_t_dat\": 66}, {\"index\": \"2019-07-26T00:00:00\", \"first_appearance_t_dat\": 66}, {\"index\": \"2020-01-04T00:00:00\", \"first_appearance_t_dat\": 66}, {\"index\": \"2020-06-18T00:00:00\", \"first_appearance_t_dat\": 66}, {\"index\": \"2020-01-05T00:00:00\", \"first_appearance_t_dat\": 66}, {\"index\": \"2019-10-12T00:00:00\", \"first_appearance_t_dat\": 65}, {\"index\": \"2020-07-11T00:00:00\", \"first_appearance_t_dat\": 65}, {\"index\": \"2019-12-15T00:00:00\", \"first_appearance_t_dat\": 65}, {\"index\": \"2020-04-22T00:00:00\", \"first_appearance_t_dat\": 65}, {\"index\": \"2020-05-21T00:00:00\", \"first_appearance_t_dat\": 65}, {\"index\": \"2020-07-03T00:00:00\", \"first_appearance_t_dat\": 64}, {\"index\": \"2019-06-08T00:00:00\", \"first_appearance_t_dat\": 64}, {\"index\": \"2020-05-22T00:00:00\", \"first_appearance_t_dat\": 64}, {\"index\": \"2019-07-05T00:00:00\", \"first_appearance_t_dat\": 63}, {\"index\": \"2020-09-02T00:00:00\", \"first_appearance_t_dat\": 63}, {\"index\": \"2019-12-24T00:00:00\", \"first_appearance_t_dat\": 63}, {\"index\": \"2019-03-10T00:00:00\", \"first_appearance_t_dat\": 63}, {\"index\": \"2019-10-05T00:00:00\", \"first_appearance_t_dat\": 62}, {\"index\": \"2019-11-02T00:00:00\", \"first_appearance_t_dat\": 62}, {\"index\": \"2019-02-24T00:00:00\", \"first_appearance_t_dat\": 62}, {\"index\": \"2019-11-20T00:00:00\", \"first_appearance_t_dat\": 62}, {\"index\": \"2020-03-24T00:00:00\", \"first_appearance_t_dat\": 61}, {\"index\": \"2019-06-07T00:00:00\", \"first_appearance_t_dat\": 61}, {\"index\": \"2019-12-27T00:00:00\", \"first_appearance_t_dat\": 61}, {\"index\": \"2020-01-19T00:00:00\", \"first_appearance_t_dat\": 60}, {\"index\": \"2019-12-30T00:00:00\", \"first_appearance_t_dat\": 60}, {\"index\": \"2019-09-15T00:00:00\", \"first_appearance_t_dat\": 60}, {\"index\": \"2019-06-02T00:00:00\", \"first_appearance_t_dat\": 60}, {\"index\": \"2018-12-31T00:00:00\", \"first_appearance_t_dat\": 59}, {\"index\": \"2019-06-15T00:00:00\", \"first_appearance_t_dat\": 59}, {\"index\": \"2020-04-26T00:00:00\", \"first_appearance_t_dat\": 59}, {\"index\": \"2019-08-11T00:00:00\", \"first_appearance_t_dat\": 59}, {\"index\": \"2019-11-25T00:00:00\", \"first_appearance_t_dat\": 59}, {\"index\": \"2020-08-01T00:00:00\", \"first_appearance_t_dat\": 59}, {\"index\": \"2020-07-29T00:00:00\", \"first_appearance_t_dat\": 58}, {\"index\": \"2019-05-26T00:00:00\", \"first_appearance_t_dat\": 58}, {\"index\": \"2019-11-18T00:00:00\", \"first_appearance_t_dat\": 58}, {\"index\": \"2019-11-21T00:00:00\", \"first_appearance_t_dat\": 58}, {\"index\": \"2019-11-07T00:00:00\", \"first_appearance_t_dat\": 58}, {\"index\": \"2019-10-01T00:00:00\", \"first_appearance_t_dat\": 58}, {\"index\": \"2020-05-15T00:00:00\", \"first_appearance_t_dat\": 58}, {\"index\": \"2020-02-23T00:00:00\", \"first_appearance_t_dat\": 58}, {\"index\": \"2018-12-24T00:00:00\", \"first_appearance_t_dat\": 57}, {\"index\": \"2019-09-21T00:00:00\", \"first_appearance_t_dat\": 57}, {\"index\": \"2020-05-26T00:00:00\", \"first_appearance_t_dat\": 57}, {\"index\": \"2019-05-05T00:00:00\", \"first_appearance_t_dat\": 57}, {\"index\": \"2020-04-14T00:00:00\", \"first_appearance_t_dat\": 57}, {\"index\": \"2020-08-16T00:00:00\", \"first_appearance_t_dat\": 57}, {\"index\": \"2020-06-13T00:00:00\", \"first_appearance_t_dat\": 57}, {\"index\": \"2019-09-27T00:00:00\", \"first_appearance_t_dat\": 57}, {\"index\": \"2019-07-04T00:00:00\", \"first_appearance_t_dat\": 56}, {\"index\": \"2020-08-08T00:00:00\", \"first_appearance_t_dat\": 56}, {\"index\": \"2020-07-01T00:00:00\", \"first_appearance_t_dat\": 56}, {\"index\": \"2019-10-20T00:00:00\", \"first_appearance_t_dat\": 56}, {\"index\": \"2020-06-06T00:00:00\", \"first_appearance_t_dat\": 55}, {\"index\": \"2019-10-13T00:00:00\", \"first_appearance_t_dat\": 55}, {\"index\": \"2019-11-11T00:00:00\", \"first_appearance_t_dat\": 54}, {\"index\": \"2019-06-11T00:00:00\", \"first_appearance_t_dat\": 54}, {\"index\": \"2019-08-25T00:00:00\", \"first_appearance_t_dat\": 54}, {\"index\": \"2020-02-19T00:00:00\", \"first_appearance_t_dat\": 53}, {\"index\": \"2020-06-11T00:00:00\", \"first_appearance_t_dat\": 52}, {\"index\": \"2019-06-14T00:00:00\", \"first_appearance_t_dat\": 51}, {\"index\": \"2019-11-13T00:00:00\", \"first_appearance_t_dat\": 51}, {\"index\": \"2019-12-08T00:00:00\", \"first_appearance_t_dat\": 51}, {\"index\": \"2019-03-03T00:00:00\", \"first_appearance_t_dat\": 51}, {\"index\": \"2019-11-08T00:00:00\", \"first_appearance_t_dat\": 51}, {\"index\": \"2018-12-26T00:00:00\", \"first_appearance_t_dat\": 51}, {\"index\": \"2020-07-04T00:00:00\", \"first_appearance_t_dat\": 50}, {\"index\": \"2020-04-18T00:00:00\", \"first_appearance_t_dat\": 50}, {\"index\": \"2019-11-19T00:00:00\", \"first_appearance_t_dat\": 50}, {\"index\": \"2020-05-30T00:00:00\", \"first_appearance_t_dat\": 49}, {\"index\": \"2018-11-26T00:00:00\", \"first_appearance_t_dat\": 49}, {\"index\": \"2019-07-28T00:00:00\", \"first_appearance_t_dat\": 49}, {\"index\": \"2020-03-22T00:00:00\", \"first_appearance_t_dat\": 49}, {\"index\": \"2018-11-25T00:00:00\", \"first_appearance_t_dat\": 49}, {\"index\": \"2020-04-15T00:00:00\", \"first_appearance_t_dat\": 49}, {\"index\": \"2019-06-23T00:00:00\", \"first_appearance_t_dat\": 49}, {\"index\": \"2019-04-27T00:00:00\", \"first_appearance_t_dat\": 49}, {\"index\": \"2019-11-15T00:00:00\", \"first_appearance_t_dat\": 49}, {\"index\": \"2019-11-14T00:00:00\", \"first_appearance_t_dat\": 49}, {\"index\": \"2019-04-21T00:00:00\", \"first_appearance_t_dat\": 48}, {\"index\": \"2019-07-21T00:00:00\", \"first_appearance_t_dat\": 48}, {\"index\": \"2020-05-16T00:00:00\", \"first_appearance_t_dat\": 48}, {\"index\": \"2020-05-02T00:00:00\", \"first_appearance_t_dat\": 47}, {\"index\": \"2020-05-05T00:00:00\", \"first_appearance_t_dat\": 47}, {\"index\": \"2019-08-04T00:00:00\", \"first_appearance_t_dat\": 47}, {\"index\": \"2019-04-28T00:00:00\", \"first_appearance_t_dat\": 46}, {\"index\": \"2020-08-09T00:00:00\", \"first_appearance_t_dat\": 46}, {\"index\": \"2019-09-29T00:00:00\", \"first_appearance_t_dat\": 46}, {\"index\": \"2020-02-16T00:00:00\", \"first_appearance_t_dat\": 45}, {\"index\": \"2020-06-02T00:00:00\", \"first_appearance_t_dat\": 45}, {\"index\": \"2019-12-31T00:00:00\", \"first_appearance_t_dat\": 45}, {\"index\": \"2019-11-05T00:00:00\", \"first_appearance_t_dat\": 45}, {\"index\": \"2020-04-12T00:00:00\", \"first_appearance_t_dat\": 44}, {\"index\": \"2020-07-26T00:00:00\", \"first_appearance_t_dat\": 44}, {\"index\": \"2020-08-02T00:00:00\", \"first_appearance_t_dat\": 43}, {\"index\": \"2020-06-10T00:00:00\", \"first_appearance_t_dat\": 43}, {\"index\": \"2019-12-22T00:00:00\", \"first_appearance_t_dat\": 43}, {\"index\": \"2019-11-16T00:00:00\", \"first_appearance_t_dat\": 43}, {\"index\": \"2019-07-06T00:00:00\", \"first_appearance_t_dat\": 42}, {\"index\": \"2019-12-28T00:00:00\", \"first_appearance_t_dat\": 41}, {\"index\": \"2020-06-05T00:00:00\", \"first_appearance_t_dat\": 41}, {\"index\": \"2020-05-17T00:00:00\", \"first_appearance_t_dat\": 41}, {\"index\": \"2020-07-05T00:00:00\", \"first_appearance_t_dat\": 40}, {\"index\": \"2020-07-19T00:00:00\", \"first_appearance_t_dat\": 40}, {\"index\": \"2020-06-28T00:00:00\", \"first_appearance_t_dat\": 39}, {\"index\": \"2019-06-09T00:00:00\", \"first_appearance_t_dat\": 39}, {\"index\": \"2019-11-09T00:00:00\", \"first_appearance_t_dat\": 38}, {\"index\": \"2019-05-19T00:00:00\", \"first_appearance_t_dat\": 37}, {\"index\": \"2019-10-06T00:00:00\", \"first_appearance_t_dat\": 37}, {\"index\": \"2020-05-10T00:00:00\", \"first_appearance_t_dat\": 36}, {\"index\": \"2020-07-12T00:00:00\", \"first_appearance_t_dat\": 36}, {\"index\": \"2020-06-04T00:00:00\", \"first_appearance_t_dat\": 35}, {\"index\": \"2019-01-01T00:00:00\", \"first_appearance_t_dat\": 33}, {\"index\": \"2019-12-26T00:00:00\", \"first_appearance_t_dat\": 33}, {\"index\": \"2020-01-01T00:00:00\", \"first_appearance_t_dat\": 32}, {\"index\": \"2019-12-29T00:00:00\", \"first_appearance_t_dat\": 32}, {\"index\": \"2020-06-14T00:00:00\", \"first_appearance_t_dat\": 30}, {\"index\": \"2020-05-23T00:00:00\", \"first_appearance_t_dat\": 30}, {\"index\": \"2019-06-16T00:00:00\", \"first_appearance_t_dat\": 30}, {\"index\": \"2019-07-07T00:00:00\", \"first_appearance_t_dat\": 29}, {\"index\": \"2019-11-17T00:00:00\", \"first_appearance_t_dat\": 28}, {\"index\": \"2018-12-25T00:00:00\", \"first_appearance_t_dat\": 27}, {\"index\": \"2020-05-03T00:00:00\", \"first_appearance_t_dat\": 26}, {\"index\": \"2019-11-10T00:00:00\", \"first_appearance_t_dat\": 25}, {\"index\": \"2019-06-12T00:00:00\", \"first_appearance_t_dat\": 24}, {\"index\": \"2020-06-21T00:00:00\", \"first_appearance_t_dat\": 24}, {\"index\": \"2019-12-25T00:00:00\", \"first_appearance_t_dat\": 23}, {\"index\": \"2020-06-07T00:00:00\", \"first_appearance_t_dat\": 23}, {\"index\": \"2020-04-19T00:00:00\", \"first_appearance_t_dat\": 21}, {\"index\": \"2019-11-24T00:00:00\", \"first_appearance_t_dat\": 20}, {\"index\": \"2020-05-24T00:00:00\", \"first_appearance_t_dat\": 19}, {\"index\": \"2020-05-31T00:00:00\", \"first_appearance_t_dat\": 13}]}}, {\"mode\": \"vega-lite\"});\n",
       "</script>"
      ],
      "text/plain": [
       "alt.Chart(...)"
      ]
     },
     "execution_count": 50,
     "metadata": {},
     "output_type": "execute_result"
    }
   ],
   "source": [
    "alt.Chart(\n",
    "    df_article_first_dat[\"first_appearance_t_dat\"]\n",
    "    .value_counts()\n",
    "    .to_frame()\n",
    "    .reset_index()\n",
    ").mark_line().encode(\n",
    "    x=\"index\", y=\"first_appearance_t_dat\", tooltip=[\"first_appearance_t_dat\"]\n",
    ").properties(\n",
    "    width=900\n",
    ").interactive()"
   ]
  },
  {
   "cell_type": "code",
   "execution_count": 30,
   "id": "2cc2817e-31bf-4bbb-bf24-5039c4de9d1f",
   "metadata": {},
   "outputs": [
    {
     "data": {
      "text/plain": [
       "article_id                0.000000\n",
       "first_appearance_t_dat    0.009428\n",
       "dtype: float64"
      ]
     },
     "execution_count": 30,
     "metadata": {},
     "output_type": "execute_result"
    }
   ],
   "source": [
    "df_article_first_dat.isna().mean()"
   ]
  },
  {
   "cell_type": "code",
   "execution_count": 53,
   "id": "5842748c-3a68-4944-a332-1950d451bfd1",
   "metadata": {},
   "outputs": [
    {
     "name": "stderr",
     "output_type": "stream",
     "text": [
      "Query complete after 0.00s: 100%|█| 6/6 \n",
      "Downloading: 100%|█| 23934157/23934157 [\n"
     ]
    }
   ],
   "source": [
    "%%bigquery df_article_base --project zenscr-seefood-dev\n",
    "\n",
    "SELECT\n",
    "  dates.obs_dat,\n",
    "  dates.t_dat,\n",
    "  trans.article_id,\n",
    "  EXTRACT(QUARTER FROM dates.t_dat) quarter,\n",
    "FROM `zenscr-seefood-dev.hm_kaggle_reco.feat_base_dates` dates\n",
    "LEFT JOIN `zenscr-seefood-dev.hm_kaggle.transactions` AS trans\n",
    "       ON dates.t_dat = trans.t_dat\n",
    "WHERE dates.obs_dat = \"2020-04-01\""
   ]
  },
  {
   "cell_type": "code",
   "execution_count": 54,
   "id": "f1c85a94-d056-42a8-a391-995e9e7cc5ae",
   "metadata": {},
   "outputs": [
    {
     "data": {
      "text/html": [
       "<div>\n",
       "<style scoped>\n",
       "    .dataframe tbody tr th:only-of-type {\n",
       "        vertical-align: middle;\n",
       "    }\n",
       "\n",
       "    .dataframe tbody tr th {\n",
       "        vertical-align: top;\n",
       "    }\n",
       "\n",
       "    .dataframe thead th {\n",
       "        text-align: right;\n",
       "    }\n",
       "</style>\n",
       "<table border=\"1\" class=\"dataframe\">\n",
       "  <thead>\n",
       "    <tr style=\"text-align: right;\">\n",
       "      <th></th>\n",
       "      <th>obs_dat</th>\n",
       "      <th>t_dat</th>\n",
       "      <th>article_id</th>\n",
       "      <th>quarter</th>\n",
       "    </tr>\n",
       "  </thead>\n",
       "  <tbody>\n",
       "    <tr>\n",
       "      <th>0</th>\n",
       "      <td>2020-04-01</td>\n",
       "      <td>2020-03-31</td>\n",
       "      <td>841434001</td>\n",
       "      <td>1</td>\n",
       "    </tr>\n",
       "    <tr>\n",
       "      <th>1</th>\n",
       "      <td>2020-04-01</td>\n",
       "      <td>2020-03-31</td>\n",
       "      <td>771970008</td>\n",
       "      <td>1</td>\n",
       "    </tr>\n",
       "    <tr>\n",
       "      <th>2</th>\n",
       "      <td>2020-04-01</td>\n",
       "      <td>2020-03-31</td>\n",
       "      <td>841434001</td>\n",
       "      <td>1</td>\n",
       "    </tr>\n",
       "    <tr>\n",
       "      <th>3</th>\n",
       "      <td>2020-04-01</td>\n",
       "      <td>2020-03-31</td>\n",
       "      <td>715624008</td>\n",
       "      <td>1</td>\n",
       "    </tr>\n",
       "    <tr>\n",
       "      <th>4</th>\n",
       "      <td>2020-04-01</td>\n",
       "      <td>2020-03-31</td>\n",
       "      <td>737040007</td>\n",
       "      <td>1</td>\n",
       "    </tr>\n",
       "    <tr>\n",
       "      <th>...</th>\n",
       "      <td>...</td>\n",
       "      <td>...</td>\n",
       "      <td>...</td>\n",
       "      <td>...</td>\n",
       "    </tr>\n",
       "    <tr>\n",
       "      <th>23934152</th>\n",
       "      <td>2020-04-01</td>\n",
       "      <td>2019-04-13</td>\n",
       "      <td>697054014</td>\n",
       "      <td>2</td>\n",
       "    </tr>\n",
       "    <tr>\n",
       "      <th>23934153</th>\n",
       "      <td>2020-04-01</td>\n",
       "      <td>2019-04-13</td>\n",
       "      <td>747216001</td>\n",
       "      <td>2</td>\n",
       "    </tr>\n",
       "    <tr>\n",
       "      <th>23934154</th>\n",
       "      <td>2020-04-01</td>\n",
       "      <td>2019-04-13</td>\n",
       "      <td>475791004</td>\n",
       "      <td>2</td>\n",
       "    </tr>\n",
       "    <tr>\n",
       "      <th>23934155</th>\n",
       "      <td>2020-04-01</td>\n",
       "      <td>2019-04-13</td>\n",
       "      <td>689513001</td>\n",
       "      <td>2</td>\n",
       "    </tr>\n",
       "    <tr>\n",
       "      <th>23934156</th>\n",
       "      <td>2020-04-01</td>\n",
       "      <td>2019-04-13</td>\n",
       "      <td>634009011</td>\n",
       "      <td>2</td>\n",
       "    </tr>\n",
       "  </tbody>\n",
       "</table>\n",
       "<p>23934157 rows × 4 columns</p>\n",
       "</div>"
      ],
      "text/plain": [
       "             obs_dat       t_dat  article_id  quarter\n",
       "0         2020-04-01  2020-03-31   841434001        1\n",
       "1         2020-04-01  2020-03-31   771970008        1\n",
       "2         2020-04-01  2020-03-31   841434001        1\n",
       "3         2020-04-01  2020-03-31   715624008        1\n",
       "4         2020-04-01  2020-03-31   737040007        1\n",
       "...              ...         ...         ...      ...\n",
       "23934152  2020-04-01  2019-04-13   697054014        2\n",
       "23934153  2020-04-01  2019-04-13   747216001        2\n",
       "23934154  2020-04-01  2019-04-13   475791004        2\n",
       "23934155  2020-04-01  2019-04-13   689513001        2\n",
       "23934156  2020-04-01  2019-04-13   634009011        2\n",
       "\n",
       "[23934157 rows x 4 columns]"
      ]
     },
     "execution_count": 54,
     "metadata": {},
     "output_type": "execute_result"
    }
   ],
   "source": [
    "df_article_base"
   ]
  },
  {
   "cell_type": "code",
   "execution_count": 56,
   "id": "e0164ee9-a58e-4f8a-ab43-41473170bd6f",
   "metadata": {},
   "outputs": [
    {
     "data": {
      "text/plain": [
       "min    2018-09-20\n",
       "max    2020-03-31\n",
       "Name: t_dat, dtype: object"
      ]
     },
     "execution_count": 56,
     "metadata": {},
     "output_type": "execute_result"
    }
   ],
   "source": [
    "df_article_base[\"t_dat\"].agg([\"min\", \"max\"])"
   ]
  },
  {
   "cell_type": "code",
   "execution_count": 55,
   "id": "4e203665-bf64-4ce0-bb74-102a4f9f8871",
   "metadata": {},
   "outputs": [
    {
     "data": {
      "text/plain": [
       "<AxesSubplot:>"
      ]
     },
     "execution_count": 55,
     "metadata": {},
     "output_type": "execute_result"
    },
    {
     "data": {
      "image/png": "[encoded data removed]",
      "text/plain": [
       "<Figure size 432x288 with 1 Axes>"
      ]
     },
     "metadata": {
      "needs_background": "light"
     },
     "output_type": "display_data"
    }
   ],
   "source": [
    "df_article_base[\"quarter\"].hist()"
   ]
  },
  {
   "cell_type": "code",
   "execution_count": 67,
   "id": "3d9b5379-6030-4b0f-a156-cea49d493761",
   "metadata": {},
   "outputs": [],
   "source": [
    "q1_popularity_feat = df_article_base.groupby(\"article_id\").apply(\n",
    "    lambda g: (g[\"quarter\"] == 1).sum() / g.shape[0]\n",
    ")"
   ]
  },
  {
   "cell_type": "code",
   "execution_count": 69,
   "id": "76f4c758-cca3-454c-9d3d-0589663fa0cc",
   "metadata": {},
   "outputs": [
    {
     "data": {
      "text/plain": [
       "<AxesSubplot:>"
      ]
     },
     "execution_count": 69,
     "metadata": {},
     "output_type": "execute_result"
    },
    {
     "data": {
      "image/png": "[encoded data removed]",
      "text/plain": [
       "<Figure size 432x288 with 1 Axes>"
      ]
     },
     "metadata": {
      "needs_background": "light"
     },
     "output_type": "display_data"
    }
   ],
   "source": [
    "q1_popularity_feat.hist()"
   ]
  },
  {
   "cell_type": "code",
   "execution_count": 71,
   "id": "0265226f-d867-4b40-998b-8afb6fdea245",
   "metadata": {},
   "outputs": [
    {
     "name": "stderr",
     "output_type": "stream",
     "text": [
      "\n",
      "Query is running:\u001b[A\n",
      "Query executing s\u001b[A\n",
      "Query complete af\u001b[A\n",
      "\n",
      "Downloading:   0%\u001b[A\n",
      "Downloading:   1%\u001b[A\n",
      "Downloading:   5%\u001b[A\n",
      "Downloading:  12%\u001b[A\n",
      "Downloading:  23%\u001b[A\n",
      "Downloading:  46%\u001b[A\n",
      "Downloading: 100%\u001b[A\n"
     ]
    }
   ],
   "source": [
    "%%bigquery df_q1_pop --project zenscr-seefood-dev\n",
    "\n",
    "SELECT\n",
    "  dates.obs_dat,\n",
    "  trans.article_id,\n",
    "  COUNTIF(EXTRACT(QUARTER FROM dates.t_dat) = 1) / COUNT(*) feat_article_q1_popularity,\n",
    "FROM `zenscr-seefood-dev.hm_kaggle_reco.feat_base_dates` dates\n",
    "LEFT JOIN `zenscr-seefood-dev.hm_kaggle.transactions` AS trans\n",
    "       ON dates.t_dat = trans.t_dat\n",
    "WHERE dates.obs_dat = \"2020-04-01\"\n",
    "GROUP BY obs_dat, article_id"
   ]
  },
  {
   "cell_type": "code",
   "execution_count": 73,
   "id": "1109736f-2a51-47bb-afb4-e8b09eabd1ba",
   "metadata": {},
   "outputs": [
    {
     "data": {
      "text/plain": [
       "<AxesSubplot:>"
      ]
     },
     "execution_count": 73,
     "metadata": {},
     "output_type": "execute_result"
    },
    {
     "data": {
      "image/png": "[encoded data removed]",
      "text/plain": [
       "<Figure size 432x288 with 1 Axes>"
      ]
     },
     "metadata": {
      "needs_background": "light"
     },
     "output_type": "display_data"
    }
   ],
   "source": [
    "df_q1_pop[\"feat_article_q1_popularity\"].hist()"
   ]
  },
  {
   "cell_type": "code",
   "execution_count": 100,
   "id": "c59f7443-0101-49cb-8b6a-a3065b3627d0",
   "metadata": {},
   "outputs": [
    {
     "name": "stderr",
     "output_type": "stream",
     "text": [
      "Query complete after 0.01s: 100%|███████████████████████████████████████████████████████| 33/33 [00:00<00:00, 9515.47query/s]\n",
      "Downloading: 100%|███████████████████████████████████████████████████████████| 2496080/2496080 [00:20<00:00, 121445.26rows/s]\n"
     ]
    }
   ],
   "source": [
    "%%bigquery df_article_feat --project zenscr-seefood-dev\n",
    "\n",
    "WITH base AS (\n",
    "  SELECT\n",
    "    dates.obs_dat,\n",
    "    dates.t_dat,\n",
    "    trans.article_id,\n",
    "    price,\n",
    "    age\n",
    "  FROM `zenscr-seefood-dev.hm_kaggle_reco.feat_base_dates` dates\n",
    "  LEFT JOIN `zenscr-seefood-dev.hm_kaggle.transactions` AS trans\n",
    "         ON dates.t_dat = trans.t_dat\n",
    "  LEFT JOIN `zenscr-seefood-dev.hm_kaggle.customers` AS customers\n",
    "         ON trans.customer_short_id = customers.customer_short_id\n",
    "),\n",
    "window_feat_1day AS (\n",
    "  SELECT\n",
    "    obs_dat,\n",
    "    article_id,\n",
    "    COUNT(*) AS feat_article_num_sales_1day,\n",
    "    AVG(price) AS feat_article_avg_price_1day\n",
    "  FROM base\n",
    "  WHERE t_dat = DATE_SUB(obs_dat, INTERVAL 1 DAY)\n",
    "  GROUP BY obs_dat, article_id\n",
    "),\n",
    "window_feat_3day AS (\n",
    "  SELECT\n",
    "    obs_dat,\n",
    "    article_id,\n",
    "    COUNT(*) AS feat_article_num_sales_3day,\n",
    "    AVG(price) AS feat_article_avg_price_3day\n",
    "  FROM base\n",
    "  WHERE t_dat >= DATE_SUB(obs_dat, INTERVAL 4 DAY)\n",
    "  GROUP BY obs_dat, article_id\n",
    "),\n",
    "window_feat_7day AS (\n",
    "  SELECT\n",
    "    obs_dat,\n",
    "    article_id,\n",
    "     COUNT(*) AS feat_article_num_sales_7day,\n",
    "    AVG(price) AS feat_article_avg_price_7day\n",
    "  FROM base\n",
    "  WHERE t_dat >= DATE_SUB(obs_dat, INTERVAL 8 DAY)\n",
    "  GROUP BY obs_dat, article_id\n",
    "),\n",
    "features AS (\n",
    "  SELECT\n",
    "    base.obs_dat,\n",
    "    base.article_id,\n",
    "    AVG(age) AS feat_article_avg_customer_age,\n",
    "    ANY_VALUE(product_type_no) AS article_product_type_no,\n",
    "    ANY_VALUE(graphical_appearance_no) AS article_graphical_appearance_no,\n",
    "    ANY_VALUE(colour_group_code) AS article_colour_group_code,\n",
    "    ANY_VALUE(perceived_colour_value_id) AS article_perceived_colour_value_id,\n",
    "    ANY_VALUE(perceived_colour_master_id) AS article_perceived_colour_master_id,\n",
    "    ANY_VALUE(department_no) AS article_department_no, -- high cardinality\n",
    "    ANY_VALUE(index_code) AS article_index_code,\n",
    "    ANY_VALUE(section_no) AS article_section_no,\n",
    "    ANY_VALUE(garment_group_no) AS article_garment_group_no\n",
    "  FROM base\n",
    "  LEFT JOIN `zenscr-seefood-dev.hm_kaggle.articles` AS articles\n",
    "        ON base.article_id = articles.article_id\n",
    "  GROUP BY obs_dat, article_id\n",
    ")\n",
    "SELECT * FROM features\n",
    "LEFT JOIN window_feat_1day\n",
    "USING (obs_dat, article_id)\n",
    "LEFT JOIN window_feat_3day\n",
    "USING (obs_dat, article_id)\n",
    "LEFT JOIN window_feat_7day\n",
    "USING (obs_dat, article_id)"
   ]
  },
  {
   "cell_type": "code",
   "execution_count": 101,
   "id": "5055176b-0a4c-4ad8-905b-e15fb68ab902",
   "metadata": {},
   "outputs": [
    {
     "data": {
      "text/html": [
       "<div>\n",
       "<style scoped>\n",
       "    .dataframe tbody tr th:only-of-type {\n",
       "        vertical-align: middle;\n",
       "    }\n",
       "\n",
       "    .dataframe tbody tr th {\n",
       "        vertical-align: top;\n",
       "    }\n",
       "\n",
       "    .dataframe thead th {\n",
       "        text-align: right;\n",
       "    }\n",
       "</style>\n",
       "<table border=\"1\" class=\"dataframe\">\n",
       "  <thead>\n",
       "    <tr style=\"text-align: right;\">\n",
       "      <th></th>\n",
       "      <th>article_id</th>\n",
       "      <th>feat_article_avg_customer_age</th>\n",
       "      <th>article_product_type_no</th>\n",
       "      <th>article_graphical_appearance_no</th>\n",
       "      <th>article_colour_group_code</th>\n",
       "      <th>article_perceived_colour_value_id</th>\n",
       "      <th>article_perceived_colour_master_id</th>\n",
       "      <th>article_department_no</th>\n",
       "      <th>article_section_no</th>\n",
       "      <th>article_garment_group_no</th>\n",
       "      <th>feat_article_num_sales_1day</th>\n",
       "      <th>feat_article_avg_price_1day</th>\n",
       "      <th>feat_article_num_sales_3day</th>\n",
       "      <th>feat_article_avg_price_3day</th>\n",
       "      <th>feat_article_num_sales_7day</th>\n",
       "      <th>feat_article_avg_price_7day</th>\n",
       "    </tr>\n",
       "  </thead>\n",
       "  <tbody>\n",
       "    <tr>\n",
       "      <th>count</th>\n",
       "      <td>2496080.00</td>\n",
       "      <td>2495335.00</td>\n",
       "      <td>2496080.00</td>\n",
       "      <td>2496080.00</td>\n",
       "      <td>2496080.00</td>\n",
       "      <td>2496080.00</td>\n",
       "      <td>2496080.00</td>\n",
       "      <td>2496080.00</td>\n",
       "      <td>2496080.00</td>\n",
       "      <td>2496080.00</td>\n",
       "      <td>246461.00</td>\n",
       "      <td>246461.00</td>\n",
       "      <td>412376.00</td>\n",
       "      <td>412376.00</td>\n",
       "      <td>521622.00</td>\n",
       "      <td>521622.00</td>\n",
       "    </tr>\n",
       "    <tr>\n",
       "      <th>mean</th>\n",
       "      <td>683569274.91</td>\n",
       "      <td>37.62</td>\n",
       "      <td>234.59</td>\n",
       "      <td>1009465.60</td>\n",
       "      <td>32.44</td>\n",
       "      <td>3.23</td>\n",
       "      <td>7.80</td>\n",
       "      <td>4538.39</td>\n",
       "      <td>42.64</td>\n",
       "      <td>1010.46</td>\n",
       "      <td>4.45</td>\n",
       "      <td>0.03</td>\n",
       "      <td>10.60</td>\n",
       "      <td>0.03</td>\n",
       "      <td>17.62</td>\n",
       "      <td>0.03</td>\n",
       "    </tr>\n",
       "    <tr>\n",
       "      <th>std</th>\n",
       "      <td>121448002.61</td>\n",
       "      <td>5.30</td>\n",
       "      <td>74.91</td>\n",
       "      <td>23500.05</td>\n",
       "      <td>28.13</td>\n",
       "      <td>1.57</td>\n",
       "      <td>5.39</td>\n",
       "      <td>2712.60</td>\n",
       "      <td>23.28</td>\n",
       "      <td>6.74</td>\n",
       "      <td>7.49</td>\n",
       "      <td>0.02</td>\n",
       "      <td>24.15</td>\n",
       "      <td>0.02</td>\n",
       "      <td>43.24</td>\n",
       "      <td>0.02</td>\n",
       "    </tr>\n",
       "    <tr>\n",
       "      <th>min</th>\n",
       "      <td>108775015.00</td>\n",
       "      <td>17.00</td>\n",
       "      <td>-1.00</td>\n",
       "      <td>-1.00</td>\n",
       "      <td>-1.00</td>\n",
       "      <td>-1.00</td>\n",
       "      <td>-1.00</td>\n",
       "      <td>1201.00</td>\n",
       "      <td>2.00</td>\n",
       "      <td>1001.00</td>\n",
       "      <td>1.00</td>\n",
       "      <td>0.00</td>\n",
       "      <td>1.00</td>\n",
       "      <td>0.00</td>\n",
       "      <td>1.00</td>\n",
       "      <td>0.00</td>\n",
       "    </tr>\n",
       "    <tr>\n",
       "      <th>25%</th>\n",
       "      <td>609166004.00</td>\n",
       "      <td>34.00</td>\n",
       "      <td>252.00</td>\n",
       "      <td>1010008.00</td>\n",
       "      <td>9.00</td>\n",
       "      <td>2.00</td>\n",
       "      <td>4.00</td>\n",
       "      <td>1676.00</td>\n",
       "      <td>20.00</td>\n",
       "      <td>1005.00</td>\n",
       "      <td>1.00</td>\n",
       "      <td>0.02</td>\n",
       "      <td>1.00</td>\n",
       "      <td>0.02</td>\n",
       "      <td>1.00</td>\n",
       "      <td>0.01</td>\n",
       "    </tr>\n",
       "    <tr>\n",
       "      <th>50%</th>\n",
       "      <td>693055001.00</td>\n",
       "      <td>37.19</td>\n",
       "      <td>259.00</td>\n",
       "      <td>1010016.00</td>\n",
       "      <td>14.00</td>\n",
       "      <td>4.00</td>\n",
       "      <td>5.00</td>\n",
       "      <td>4224.00</td>\n",
       "      <td>46.00</td>\n",
       "      <td>1009.00</td>\n",
       "      <td>2.00</td>\n",
       "      <td>0.02</td>\n",
       "      <td>3.00</td>\n",
       "      <td>0.02</td>\n",
       "      <td>4.00</td>\n",
       "      <td>0.02</td>\n",
       "    </tr>\n",
       "    <tr>\n",
       "      <th>75%</th>\n",
       "      <td>771829005.00</td>\n",
       "      <td>40.86</td>\n",
       "      <td>272.00</td>\n",
       "      <td>1010016.00</td>\n",
       "      <td>53.00</td>\n",
       "      <td>4.00</td>\n",
       "      <td>11.00</td>\n",
       "      <td>7389.00</td>\n",
       "      <td>61.00</td>\n",
       "      <td>1017.00</td>\n",
       "      <td>5.00</td>\n",
       "      <td>0.03</td>\n",
       "      <td>9.00</td>\n",
       "      <td>0.03</td>\n",
       "      <td>14.00</td>\n",
       "      <td>0.03</td>\n",
       "    </tr>\n",
       "    <tr>\n",
       "      <th>max</th>\n",
       "      <td>956217002.00</td>\n",
       "      <td>89.00</td>\n",
       "      <td>762.00</td>\n",
       "      <td>1010029.00</td>\n",
       "      <td>93.00</td>\n",
       "      <td>7.00</td>\n",
       "      <td>20.00</td>\n",
       "      <td>9989.00</td>\n",
       "      <td>97.00</td>\n",
       "      <td>1025.00</td>\n",
       "      <td>283.00</td>\n",
       "      <td>0.51</td>\n",
       "      <td>1202.00</td>\n",
       "      <td>0.51</td>\n",
       "      <td>1993.00</td>\n",
       "      <td>0.51</td>\n",
       "    </tr>\n",
       "  </tbody>\n",
       "</table>\n",
       "</div>"
      ],
      "text/plain": [
       "        article_id  feat_article_avg_customer_age  article_product_type_no  \\\n",
       "count   2496080.00                     2495335.00               2496080.00   \n",
       "mean  683569274.91                          37.62                   234.59   \n",
       "std   121448002.61                           5.30                    74.91   \n",
       "min   108775015.00                          17.00                    -1.00   \n",
       "25%   609166004.00                          34.00                   252.00   \n",
       "50%   693055001.00                          37.19                   259.00   \n",
       "75%   771829005.00                          40.86                   272.00   \n",
       "max   956217002.00                          89.00                   762.00   \n",
       "\n",
       "       article_graphical_appearance_no  article_colour_group_code  \\\n",
       "count                       2496080.00                 2496080.00   \n",
       "mean                        1009465.60                      32.44   \n",
       "std                           23500.05                      28.13   \n",
       "min                              -1.00                      -1.00   \n",
       "25%                         1010008.00                       9.00   \n",
       "50%                         1010016.00                      14.00   \n",
       "75%                         1010016.00                      53.00   \n",
       "max                         1010029.00                      93.00   \n",
       "\n",
       "       article_perceived_colour_value_id  article_perceived_colour_master_id  \\\n",
       "count                         2496080.00                          2496080.00   \n",
       "mean                                3.23                                7.80   \n",
       "std                                 1.57                                5.39   \n",
       "min                                -1.00                               -1.00   \n",
       "25%                                 2.00                                4.00   \n",
       "50%                                 4.00                                5.00   \n",
       "75%                                 4.00                               11.00   \n",
       "max                                 7.00                               20.00   \n",
       "\n",
       "       article_department_no  article_section_no  article_garment_group_no  \\\n",
       "count             2496080.00          2496080.00                2496080.00   \n",
       "mean                 4538.39               42.64                   1010.46   \n",
       "std                  2712.60               23.28                      6.74   \n",
       "min                  1201.00                2.00                   1001.00   \n",
       "25%                  1676.00               20.00                   1005.00   \n",
       "50%                  4224.00               46.00                   1009.00   \n",
       "75%                  7389.00               61.00                   1017.00   \n",
       "max                  9989.00               97.00                   1025.00   \n",
       "\n",
       "       feat_article_num_sales_1day  feat_article_avg_price_1day  \\\n",
       "count                    246461.00                    246461.00   \n",
       "mean                          4.45                         0.03   \n",
       "std                           7.49                         0.02   \n",
       "min                           1.00                         0.00   \n",
       "25%                           1.00                         0.02   \n",
       "50%                           2.00                         0.02   \n",
       "75%                           5.00                         0.03   \n",
       "max                         283.00                         0.51   \n",
       "\n",
       "       feat_article_num_sales_3day  feat_article_avg_price_3day  \\\n",
       "count                    412376.00                    412376.00   \n",
       "mean                         10.60                         0.03   \n",
       "std                          24.15                         0.02   \n",
       "min                           1.00                         0.00   \n",
       "25%                           1.00                         0.02   \n",
       "50%                           3.00                         0.02   \n",
       "75%                           9.00                         0.03   \n",
       "max                        1202.00                         0.51   \n",
       "\n",
       "       feat_article_num_sales_7day  feat_article_avg_price_7day  \n",
       "count                    521622.00                    521622.00  \n",
       "mean                         17.62                         0.03  \n",
       "std                          43.24                         0.02  \n",
       "min                           1.00                         0.00  \n",
       "25%                           1.00                         0.01  \n",
       "50%                           4.00                         0.02  \n",
       "75%                          14.00                         0.03  \n",
       "max                        1993.00                         0.51  "
      ]
     },
     "execution_count": 101,
     "metadata": {},
     "output_type": "execute_result"
    }
   ],
   "source": [
    "df_article_feat.describe()"
   ]
  },
  {
   "cell_type": "code",
   "execution_count": 106,
   "id": "c70756e9-32c2-421c-b091-50bc5e250b87",
   "metadata": {},
   "outputs": [
    {
     "data": {
      "text/plain": [
       "<AxesSubplot:>"
      ]
     },
     "execution_count": 106,
     "metadata": {},
     "output_type": "execute_result"
    },
    {
     "data": {
      "image/png": "[encoded data removed]",
      "text/plain": [
       "<Figure size 432x288 with 1 Axes>"
      ]
     },
     "metadata": {
      "needs_background": "light"
     },
     "output_type": "display_data"
    }
   ],
   "source": [
    "df_article_feat[\"feat_article_num_sales_1day\"].hist(bins=50, log=True)"
   ]
  },
  {
   "cell_type": "code",
   "execution_count": 104,
   "id": "f47cadc3-592b-475c-b0f2-86940af57310",
   "metadata": {},
   "outputs": [
    {
     "data": {
      "text/plain": [
       "<AxesSubplot:>"
      ]
     },
     "execution_count": 104,
     "metadata": {},
     "output_type": "execute_result"
    },
    {
     "data": {
      "image/png": "[encoded data removed]",
      "text/plain": [
       "<Figure size 432x288 with 1 Axes>"
      ]
     },
     "metadata": {
      "needs_background": "light"
     },
     "output_type": "display_data"
    }
   ],
   "source": [
    "df_article_feat[\"feat_article_num_sales_3day\"].hist(bins=50, log=True)"
   ]
  },
  {
   "cell_type": "code",
   "execution_count": 105,
   "id": "0347683e-af9f-4b51-aed7-c5182adea2f4",
   "metadata": {},
   "outputs": [
    {
     "data": {
      "text/plain": [
       "<AxesSubplot:>"
      ]
     },
     "execution_count": 105,
     "metadata": {},
     "output_type": "execute_result"
    },
    {
     "data": {
      "image/png": "[encoded data removed]",
      "text/plain": [
       "<Figure size 432x288 with 1 Axes>"
      ]
     },
     "metadata": {
      "needs_background": "light"
     },
     "output_type": "display_data"
    }
   ],
   "source": [
    "df_article_feat[\"feat_article_num_sales_7day\"].hist(bins=50, log=True)"
   ]
  },
  {
   "cell_type": "code",
   "execution_count": null,
   "id": "ea02737b-799f-4f3b-a1cf-492d40d76196",
   "metadata": {},
   "outputs": [],
   "source": []
  }
 ],
 "metadata": {
  "kernelspec": {
   "display_name": "Python 3 (ipykernel)",
   "language": "python",
   "name": "python3"
  },
  "language_info": {
   "codemirror_mode": {
    "name": "ipython",
    "version": 3
   },
   "file_extension": ".py",
   "mimetype": "text/x-python",
   "name": "python",
   "nbconvert_exporter": "python",
   "pygments_lexer": "ipython3",
   "version": "3.9.7"
  }
 },
 "nbformat": 4,
 "nbformat_minor": 5
}
