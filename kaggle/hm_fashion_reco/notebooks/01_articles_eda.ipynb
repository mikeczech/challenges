{
 "cells": [
  {
   "cell_type": "code",
   "execution_count": 70,
   "id": "7589d5eb-83be-412f-a184-b3a459747192",
   "metadata": {},
   "outputs": [],
   "source": [
    "%load_ext lab_black"
   ]
  },
  {
   "cell_type": "code",
   "execution_count": 71,
   "id": "83f32938-c8af-461f-8e02-d8afb545da3d",
   "metadata": {},
   "outputs": [
    {
     "name": "stdout",
     "output_type": "stream",
     "text": [
      "The google.cloud.bigquery extension is already loaded. To reload it, use:\n",
      "  %reload_ext google.cloud.bigquery\n"
     ]
    }
   ],
   "source": [
    "%load_ext google.cloud.bigquery"
   ]
  },
  {
   "cell_type": "code",
   "execution_count": 72,
   "id": "86981b40-1e99-4551-84a8-7a67d08ea3ee",
   "metadata": {},
   "outputs": [],
   "source": [
    "import pandas as pd\n",
    "import altair as alt\n",
    "\n",
    "import matplotlib.pyplot as plt"
   ]
  },
  {
   "cell_type": "code",
   "execution_count": 73,
   "id": "b31affd0-7286-466d-8648-80172eb48fd2",
   "metadata": {},
   "outputs": [],
   "source": [
    "%matplotlib inline\n",
    "%config InlineBackend.figure_format='retina'"
   ]
  },
  {
   "cell_type": "code",
   "execution_count": 131,
   "id": "83e71d95-5b5d-4687-8dda-51f7b7d128d6",
   "metadata": {},
   "outputs": [],
   "source": [
    "pd.options.display.float_format = \"{:.5f}\".format"
   ]
  },
  {
   "cell_type": "code",
   "execution_count": 75,
   "id": "e7df301d-0c89-41e6-90e1-8675221fb212",
   "metadata": {},
   "outputs": [
    {
     "data": {
      "text/plain": [
       "RendererRegistry.enable('mimetype')"
      ]
     },
     "execution_count": 75,
     "metadata": {},
     "output_type": "execute_result"
    }
   ],
   "source": [
    "alt.renderers.enable(\"mimetype\")"
   ]
  },
  {
   "cell_type": "markdown",
   "id": "befeb72c-e33f-45d4-aba7-972bcb3bc7c0",
   "metadata": {},
   "source": [
    "# Explore Article Data"
   ]
  },
  {
   "cell_type": "code",
   "execution_count": 11,
   "id": "b6818cd7-9efe-4c5e-8c07-4f3911fd5eef",
   "metadata": {},
   "outputs": [],
   "source": [
    "df = pd.read_csv(\"../data/articles.csv\")"
   ]
  },
  {
   "cell_type": "code",
   "execution_count": 12,
   "id": "bf3fbb37-02ed-431b-9f31-aa3eccbf4514",
   "metadata": {},
   "outputs": [
    {
     "data": {
      "text/html": [
       "<div>\n",
       "<style scoped>\n",
       "    .dataframe tbody tr th:only-of-type {\n",
       "        vertical-align: middle;\n",
       "    }\n",
       "\n",
       "    .dataframe tbody tr th {\n",
       "        vertical-align: top;\n",
       "    }\n",
       "\n",
       "    .dataframe thead th {\n",
       "        text-align: right;\n",
       "    }\n",
       "</style>\n",
       "<table border=\"1\" class=\"dataframe\">\n",
       "  <thead>\n",
       "    <tr style=\"text-align: right;\">\n",
       "      <th></th>\n",
       "      <th>article_id</th>\n",
       "      <th>product_code</th>\n",
       "      <th>prod_name</th>\n",
       "      <th>product_type_no</th>\n",
       "      <th>product_type_name</th>\n",
       "      <th>product_group_name</th>\n",
       "      <th>graphical_appearance_no</th>\n",
       "      <th>graphical_appearance_name</th>\n",
       "      <th>colour_group_code</th>\n",
       "      <th>colour_group_name</th>\n",
       "      <th>...</th>\n",
       "      <th>department_name</th>\n",
       "      <th>index_code</th>\n",
       "      <th>index_name</th>\n",
       "      <th>index_group_no</th>\n",
       "      <th>index_group_name</th>\n",
       "      <th>section_no</th>\n",
       "      <th>section_name</th>\n",
       "      <th>garment_group_no</th>\n",
       "      <th>garment_group_name</th>\n",
       "      <th>detail_desc</th>\n",
       "    </tr>\n",
       "  </thead>\n",
       "  <tbody>\n",
       "    <tr>\n",
       "      <th>0</th>\n",
       "      <td>108775015</td>\n",
       "      <td>108775</td>\n",
       "      <td>Strap top</td>\n",
       "      <td>253</td>\n",
       "      <td>Vest top</td>\n",
       "      <td>Garment Upper body</td>\n",
       "      <td>1010016</td>\n",
       "      <td>Solid</td>\n",
       "      <td>9</td>\n",
       "      <td>Black</td>\n",
       "      <td>...</td>\n",
       "      <td>Jersey Basic</td>\n",
       "      <td>A</td>\n",
       "      <td>Ladieswear</td>\n",
       "      <td>1</td>\n",
       "      <td>Ladieswear</td>\n",
       "      <td>16</td>\n",
       "      <td>Womens Everyday Basics</td>\n",
       "      <td>1002</td>\n",
       "      <td>Jersey Basic</td>\n",
       "      <td>Jersey top with narrow shoulder straps.</td>\n",
       "    </tr>\n",
       "    <tr>\n",
       "      <th>1</th>\n",
       "      <td>108775044</td>\n",
       "      <td>108775</td>\n",
       "      <td>Strap top</td>\n",
       "      <td>253</td>\n",
       "      <td>Vest top</td>\n",
       "      <td>Garment Upper body</td>\n",
       "      <td>1010016</td>\n",
       "      <td>Solid</td>\n",
       "      <td>10</td>\n",
       "      <td>White</td>\n",
       "      <td>...</td>\n",
       "      <td>Jersey Basic</td>\n",
       "      <td>A</td>\n",
       "      <td>Ladieswear</td>\n",
       "      <td>1</td>\n",
       "      <td>Ladieswear</td>\n",
       "      <td>16</td>\n",
       "      <td>Womens Everyday Basics</td>\n",
       "      <td>1002</td>\n",
       "      <td>Jersey Basic</td>\n",
       "      <td>Jersey top with narrow shoulder straps.</td>\n",
       "    </tr>\n",
       "    <tr>\n",
       "      <th>2</th>\n",
       "      <td>108775051</td>\n",
       "      <td>108775</td>\n",
       "      <td>Strap top (1)</td>\n",
       "      <td>253</td>\n",
       "      <td>Vest top</td>\n",
       "      <td>Garment Upper body</td>\n",
       "      <td>1010017</td>\n",
       "      <td>Stripe</td>\n",
       "      <td>11</td>\n",
       "      <td>Off White</td>\n",
       "      <td>...</td>\n",
       "      <td>Jersey Basic</td>\n",
       "      <td>A</td>\n",
       "      <td>Ladieswear</td>\n",
       "      <td>1</td>\n",
       "      <td>Ladieswear</td>\n",
       "      <td>16</td>\n",
       "      <td>Womens Everyday Basics</td>\n",
       "      <td>1002</td>\n",
       "      <td>Jersey Basic</td>\n",
       "      <td>Jersey top with narrow shoulder straps.</td>\n",
       "    </tr>\n",
       "  </tbody>\n",
       "</table>\n",
       "<p>3 rows × 25 columns</p>\n",
       "</div>"
      ],
      "text/plain": [
       "   article_id  product_code      prod_name  product_type_no product_type_name  \\\n",
       "0   108775015        108775      Strap top              253          Vest top   \n",
       "1   108775044        108775      Strap top              253          Vest top   \n",
       "2   108775051        108775  Strap top (1)              253          Vest top   \n",
       "\n",
       "   product_group_name  graphical_appearance_no graphical_appearance_name  \\\n",
       "0  Garment Upper body                  1010016                     Solid   \n",
       "1  Garment Upper body                  1010016                     Solid   \n",
       "2  Garment Upper body                  1010017                    Stripe   \n",
       "\n",
       "   colour_group_code colour_group_name  ...  department_name index_code  \\\n",
       "0                  9             Black  ...     Jersey Basic          A   \n",
       "1                 10             White  ...     Jersey Basic          A   \n",
       "2                 11         Off White  ...     Jersey Basic          A   \n",
       "\n",
       "   index_name index_group_no  index_group_name section_no  \\\n",
       "0  Ladieswear              1        Ladieswear         16   \n",
       "1  Ladieswear              1        Ladieswear         16   \n",
       "2  Ladieswear              1        Ladieswear         16   \n",
       "\n",
       "             section_name garment_group_no  garment_group_name  \\\n",
       "0  Womens Everyday Basics             1002        Jersey Basic   \n",
       "1  Womens Everyday Basics             1002        Jersey Basic   \n",
       "2  Womens Everyday Basics             1002        Jersey Basic   \n",
       "\n",
       "                               detail_desc  \n",
       "0  Jersey top with narrow shoulder straps.  \n",
       "1  Jersey top with narrow shoulder straps.  \n",
       "2  Jersey top with narrow shoulder straps.  \n",
       "\n",
       "[3 rows x 25 columns]"
      ]
     },
     "execution_count": 12,
     "metadata": {},
     "output_type": "execute_result"
    }
   ],
   "source": [
    "df.head(3)"
   ]
  },
  {
   "cell_type": "code",
   "execution_count": 13,
   "id": "05e38f32-7807-46e1-853a-4bef0d2c6168",
   "metadata": {},
   "outputs": [
    {
     "data": {
      "text/plain": [
       "(105542, 25)"
      ]
     },
     "execution_count": 13,
     "metadata": {},
     "output_type": "execute_result"
    }
   ],
   "source": [
    "df.shape"
   ]
  },
  {
   "cell_type": "code",
   "execution_count": 26,
   "id": "a9814fab-53ed-4026-b364-9c7df0aa4b2a",
   "metadata": {},
   "outputs": [
    {
     "data": {
      "text/plain": [
       "article_id                      0.000000\n",
       "product_code                    0.000000\n",
       "prod_name                       0.000000\n",
       "product_type_no                 0.000000\n",
       "product_type_name               0.000000\n",
       "product_group_name              0.000000\n",
       "graphical_appearance_no         0.000000\n",
       "graphical_appearance_name       0.000000\n",
       "colour_group_code               0.000000\n",
       "colour_group_name               0.000000\n",
       "perceived_colour_value_id       0.000000\n",
       "perceived_colour_value_name     0.000000\n",
       "perceived_colour_master_id      0.000000\n",
       "perceived_colour_master_name    0.000000\n",
       "department_no                   0.000000\n",
       "department_name                 0.000000\n",
       "index_code                      0.000000\n",
       "index_name                      0.000000\n",
       "index_group_no                  0.000000\n",
       "index_group_name                0.000000\n",
       "section_no                      0.000000\n",
       "section_name                    0.000000\n",
       "garment_group_no                0.000000\n",
       "garment_group_name              0.000000\n",
       "detail_desc                     0.003942\n",
       "dtype: float64"
      ]
     },
     "execution_count": 26,
     "metadata": {},
     "output_type": "execute_result"
    }
   ],
   "source": [
    "df.isna().mean()"
   ]
  },
  {
   "cell_type": "code",
   "execution_count": 24,
   "id": "41c424e0-f89f-4252-81d0-632e32ddd39d",
   "metadata": {},
   "outputs": [
    {
     "data": {
      "text/plain": [
       "article_id                      105542\n",
       "product_code                     47224\n",
       "prod_name                        45875\n",
       "product_type_no                    132\n",
       "product_type_name                  131\n",
       "product_group_name                  19\n",
       "graphical_appearance_no             30\n",
       "graphical_appearance_name           30\n",
       "colour_group_code                   50\n",
       "colour_group_name                   50\n",
       "perceived_colour_value_id            8\n",
       "perceived_colour_value_name          8\n",
       "perceived_colour_master_id          20\n",
       "perceived_colour_master_name        20\n",
       "department_no                      299\n",
       "department_name                    250\n",
       "index_code                          10\n",
       "index_name                          10\n",
       "index_group_no                       5\n",
       "index_group_name                     5\n",
       "section_no                          57\n",
       "section_name                        56\n",
       "garment_group_no                    21\n",
       "garment_group_name                  21\n",
       "detail_desc                      43404\n",
       "dtype: int64"
      ]
     },
     "execution_count": 24,
     "metadata": {},
     "output_type": "execute_result"
    }
   ],
   "source": [
    "df.nunique()"
   ]
  },
  {
   "cell_type": "markdown",
   "id": "61d96a5f-d417-4a44-bed4-e014be968efc",
   "metadata": {},
   "source": [
    "## Product-Article Relationship"
   ]
  },
  {
   "cell_type": "code",
   "execution_count": 89,
   "id": "8cca8fb5-6bb5-48d2-8ea7-e73bc42e0c4e",
   "metadata": {},
   "outputs": [],
   "source": [
    "df_product_article = df.groupby([\"product_code\", \"prod_name\"]).agg(\n",
    "    group_size=(\"article_id\", \"count\"), num_unique_articles=(\"article_id\", \"nunique\")\n",
    ")"
   ]
  },
  {
   "cell_type": "code",
   "execution_count": 90,
   "id": "33d1c11a-f96f-40a5-8c91-c1562587ce3d",
   "metadata": {},
   "outputs": [
    {
     "data": {
      "text/plain": [
       "False"
      ]
     },
     "execution_count": 90,
     "metadata": {},
     "output_type": "execute_result"
    }
   ],
   "source": [
    "(df_product_article[\"group_size\"] != df_product_article[\"num_unique_articles\"]).max()"
   ]
  },
  {
   "cell_type": "code",
   "execution_count": 91,
   "id": "7330f2f5-062e-4f1a-8dbd-b9bef7d2976d",
   "metadata": {},
   "outputs": [
    {
     "data": {
      "text/plain": [
       "count   49812.00\n",
       "mean        2.12\n",
       "std         2.19\n",
       "min         1.00\n",
       "25%         1.00\n",
       "50%         1.00\n",
       "75%         2.00\n",
       "max        70.00\n",
       "Name: num_unique_articles, dtype: float64"
      ]
     },
     "execution_count": 91,
     "metadata": {},
     "output_type": "execute_result"
    }
   ],
   "source": [
    "df_product_article[\"num_unique_articles\"].describe()"
   ]
  },
  {
   "cell_type": "code",
   "execution_count": 92,
   "id": "2d0f5d69-f74b-409e-9eca-773b54f13052",
   "metadata": {},
   "outputs": [
    {
     "data": {
      "text/plain": [
       "product_code  prod_name           \n",
       "684021        Wow printed tee 6.99    70\n",
       "783707        1pk Fun                 55\n",
       "699923        Mike tee                52\n",
       "Name: num_unique_articles, dtype: int64"
      ]
     },
     "execution_count": 92,
     "metadata": {},
     "output_type": "execute_result"
    }
   ],
   "source": [
    "df_product_article[\"num_unique_articles\"].sort_values(ascending=False).head(3)"
   ]
  },
  {
   "cell_type": "markdown",
   "id": "0ec67179-8d18-43bd-9558-16bc12d9c8ad",
   "metadata": {},
   "source": [
    "## Section-Product Relationship"
   ]
  },
  {
   "cell_type": "code",
   "execution_count": 214,
   "id": "f0bdd44a-8d13-4e3b-be3d-7cff21a6d440",
   "metadata": {},
   "outputs": [
    {
     "data": {
      "text/html": [
       "<div>\n",
       "<style scoped>\n",
       "    .dataframe tbody tr th:only-of-type {\n",
       "        vertical-align: middle;\n",
       "    }\n",
       "\n",
       "    .dataframe tbody tr th {\n",
       "        vertical-align: top;\n",
       "    }\n",
       "\n",
       "    .dataframe thead th {\n",
       "        text-align: right;\n",
       "    }\n",
       "</style>\n",
       "<table border=\"1\" class=\"dataframe\">\n",
       "  <thead>\n",
       "    <tr style=\"text-align: right;\">\n",
       "      <th></th>\n",
       "      <th>section_no</th>\n",
       "      <th>num_unique_products</th>\n",
       "      <th>num_unique_articles</th>\n",
       "    </tr>\n",
       "  </thead>\n",
       "  <tbody>\n",
       "    <tr>\n",
       "      <th>count</th>\n",
       "      <td>57.00</td>\n",
       "      <td>57.00</td>\n",
       "      <td>57.00</td>\n",
       "    </tr>\n",
       "    <tr>\n",
       "      <th>mean</th>\n",
       "      <td>42.11</td>\n",
       "      <td>831.93</td>\n",
       "      <td>1851.61</td>\n",
       "    </tr>\n",
       "    <tr>\n",
       "      <th>std</th>\n",
       "      <td>23.73</td>\n",
       "      <td>713.36</td>\n",
       "      <td>1563.43</td>\n",
       "    </tr>\n",
       "    <tr>\n",
       "      <th>min</th>\n",
       "      <td>2.00</td>\n",
       "      <td>1.00</td>\n",
       "      <td>1.00</td>\n",
       "    </tr>\n",
       "    <tr>\n",
       "      <th>25%</th>\n",
       "      <td>22.00</td>\n",
       "      <td>326.00</td>\n",
       "      <td>645.00</td>\n",
       "    </tr>\n",
       "    <tr>\n",
       "      <th>50%</th>\n",
       "      <td>44.00</td>\n",
       "      <td>728.00</td>\n",
       "      <td>1717.00</td>\n",
       "    </tr>\n",
       "    <tr>\n",
       "      <th>75%</th>\n",
       "      <td>60.00</td>\n",
       "      <td>1170.00</td>\n",
       "      <td>2352.00</td>\n",
       "    </tr>\n",
       "    <tr>\n",
       "      <th>max</th>\n",
       "      <td>97.00</td>\n",
       "      <td>3407.00</td>\n",
       "      <td>7295.00</td>\n",
       "    </tr>\n",
       "  </tbody>\n",
       "</table>\n",
       "</div>"
      ],
      "text/plain": [
       "       section_no  num_unique_products  num_unique_articles\n",
       "count       57.00                57.00                57.00\n",
       "mean        42.11               831.93              1851.61\n",
       "std         23.73               713.36              1563.43\n",
       "min          2.00                 1.00                 1.00\n",
       "25%         22.00               326.00               645.00\n",
       "50%         44.00               728.00              1717.00\n",
       "75%         60.00              1170.00              2352.00\n",
       "max         97.00              3407.00              7295.00"
      ]
     },
     "execution_count": 214,
     "metadata": {},
     "output_type": "execute_result"
    }
   ],
   "source": [
    "df.groupby([\"section_no\", \"section_name\"]).agg(\n",
    "    num_unique_products=(\"product_code\", \"nunique\"),\n",
    "    num_unique_articles=(\"article_id\", \"nunique\"),\n",
    ").sort_values(by=\"num_unique_products\", ascending=False).reset_index().describe()"
   ]
  },
  {
   "cell_type": "code",
   "execution_count": 85,
   "id": "4d1f130b-0dda-42ba-ad77-c69bfd0cf503",
   "metadata": {},
   "outputs": [],
   "source": [
    "df_section_product = (\n",
    "    df.groupby([\"section_no\", \"section_name\"])\n",
    "    .agg(\n",
    "        num_unique_products=(\"product_code\", \"nunique\"),\n",
    "        num_unique_articles=(\"article_id\", \"nunique\"),\n",
    "    )\n",
    "    .sort_values(by=\"num_unique_products\", ascending=False)\n",
    "    .reset_index()\n",
    ").melt(\n",
    "    id_vars=[\"section_no\", \"section_name\"],\n",
    "    value_vars=[\"num_unique_products\", \"num_unique_articles\"],\n",
    ")"
   ]
  },
  {
   "cell_type": "code",
   "execution_count": 179,
   "id": "d1d91e5f-1783-4144-bd36-f3bbe83aa8c1",
   "metadata": {},
   "outputs": [
    {
     "data": {
      "application/vnd.vegalite.v4+json": {
       "$schema": "https://vega.github.io/schema/vega-lite/v4.17.0.json",
       "config": {
        "view": {
         "continuousHeight": 300,
         "continuousWidth": 400
        }
       },
       "data": {
        "name": "data-4f7b528bc8ee7324877e9513be111026"
       },
       "datasets": {
        "data-4f7b528bc8ee7324877e9513be111026": [
         {
          "section_name": "Womens Everyday Collection",
          "section_no": 15,
          "value": 3407,
          "variable": "num_unique_products"
         },
         {
          "section_name": "Divided Collection",
          "section_no": 53,
          "value": 2992,
          "variable": "num_unique_products"
         },
         {
          "section_name": "Womens Small accessories",
          "section_no": 66,
          "value": 2077,
          "variable": "num_unique_products"
         },
         {
          "section_name": "Baby Essentials & Complements",
          "section_no": 44,
          "value": 1993,
          "variable": "num_unique_products"
         },
         {
          "section_name": "Kids Girl",
          "section_no": 76,
          "value": 1920,
          "variable": "num_unique_products"
         },
         {
          "section_name": "Womens Trend",
          "section_no": 18,
          "value": 1699,
          "variable": "num_unique_products"
         },
         {
          "section_name": "H&M+",
          "section_no": 2,
          "value": 1514,
          "variable": "num_unique_products"
         },
         {
          "section_name": "Divided Projects",
          "section_no": 50,
          "value": 1505,
          "variable": "num_unique_products"
         },
         {
          "section_name": "Young Girl",
          "section_no": 77,
          "value": 1498,
          "variable": "num_unique_products"
         },
         {
          "section_name": "Kids Outerwear",
          "section_no": 45,
          "value": 1497,
          "variable": "num_unique_products"
         },
         {
          "section_name": "Womens Lingerie",
          "section_no": 61,
          "value": 1478,
          "variable": "num_unique_products"
         },
         {
          "section_name": "Womens Tailoring",
          "section_no": 11,
          "value": 1457,
          "variable": "num_unique_products"
         },
         {
          "section_name": "Mama",
          "section_no": 8,
          "value": 1269,
          "variable": "num_unique_products"
         },
         {
          "section_name": "Kids Boy",
          "section_no": 46,
          "value": 1259,
          "variable": "num_unique_products"
         },
         {
          "section_name": "Womens Casual",
          "section_no": 6,
          "value": 1170,
          "variable": "num_unique_products"
         },
         {
          "section_name": "Kids & Baby Shoes",
          "section_no": 42,
          "value": 1159,
          "variable": "num_unique_products"
         },
         {
          "section_name": "Kids Accessories, Swimwear & D",
          "section_no": 43,
          "value": 1130,
          "variable": "num_unique_products"
         },
         {
          "section_name": "Womens Shoes",
          "section_no": 64,
          "value": 1047,
          "variable": "num_unique_products"
         },
         {
          "section_name": "Baby Girl",
          "section_no": 40,
          "value": 933,
          "variable": "num_unique_products"
         },
         {
          "section_name": "Womens Big accessories",
          "section_no": 65,
          "value": 878,
          "variable": "num_unique_products"
         },
         {
          "section_name": "Baby Boy",
          "section_no": 41,
          "value": 853,
          "variable": "num_unique_products"
         },
         {
          "section_name": "Young Boy",
          "section_no": 47,
          "value": 845,
          "variable": "num_unique_products"
         },
         {
          "section_name": "Divided Accessories",
          "section_no": 52,
          "value": 831,
          "variable": "num_unique_products"
         },
         {
          "section_name": "Ladies H&M Sport",
          "section_no": 5,
          "value": 818,
          "variable": "num_unique_products"
         },
         {
          "section_name": "Womens Swimwear, beachwear",
          "section_no": 60,
          "value": 801,
          "variable": "num_unique_products"
         },
         {
          "section_name": "Men Accessories",
          "section_no": 25,
          "value": 764,
          "variable": "num_unique_products"
         },
         {
          "section_name": "Girls Underwear & Basics",
          "section_no": 79,
          "value": 747,
          "variable": "num_unique_products"
         },
         {
          "section_name": "Womens Nightwear, Socks & Tigh",
          "section_no": 62,
          "value": 730,
          "variable": "num_unique_products"
         },
         {
          "section_name": "Womens Premium",
          "section_no": 14,
          "value": 728,
          "variable": "num_unique_products"
         },
         {
          "section_name": "Special Collections",
          "section_no": 82,
          "value": 626,
          "variable": "num_unique_products"
         },
         {
          "section_name": "Men Suits & Tailoring",
          "section_no": 23,
          "value": 585,
          "variable": "num_unique_products"
         },
         {
          "section_name": "Divided Selected",
          "section_no": 58,
          "value": 532,
          "variable": "num_unique_products"
         },
         {
          "section_name": "Womens Everyday Basics",
          "section_no": 16,
          "value": 513,
          "variable": "num_unique_products"
         },
         {
          "section_name": "Womens Jackets",
          "section_no": 19,
          "value": 508,
          "variable": "num_unique_products"
         },
         {
          "section_name": "Contemporary Street",
          "section_no": 55,
          "value": 507,
          "variable": "num_unique_products"
         },
         {
          "section_name": "Contemporary Smart",
          "section_no": 20,
          "value": 492,
          "variable": "num_unique_products"
         },
         {
          "section_name": "Contemporary Casual",
          "section_no": 21,
          "value": 487,
          "variable": "num_unique_products"
         },
         {
          "section_name": "Divided Basics",
          "section_no": 51,
          "value": 429,
          "variable": "num_unique_products"
         },
         {
          "section_name": "Ladies Denim",
          "section_no": 57,
          "value": 417,
          "variable": "num_unique_products"
         },
         {
          "section_name": "Collaborations",
          "section_no": 97,
          "value": 411,
          "variable": "num_unique_products"
         },
         {
          "section_name": "Men Underwear",
          "section_no": 26,
          "value": 407,
          "variable": "num_unique_products"
         },
         {
          "section_name": "Boys Underwear & Basics",
          "section_no": 72,
          "value": 332,
          "variable": "num_unique_products"
         },
         {
          "section_name": "Kids Sports",
          "section_no": 49,
          "value": 326,
          "variable": "num_unique_products"
         },
         {
          "section_name": "Men H&M Sport",
          "section_no": 22,
          "value": 319,
          "variable": "num_unique_products"
         },
         {
          "section_name": "Men Shoes",
          "section_no": 27,
          "value": 305,
          "variable": "num_unique_products"
         },
         {
          "section_name": "Mens Outerwear",
          "section_no": 31,
          "value": 289,
          "variable": "num_unique_products"
         },
         {
          "section_name": "Men Project",
          "section_no": 24,
          "value": 232,
          "variable": "num_unique_products"
         },
         {
          "section_name": "Divided Asia keys",
          "section_no": 70,
          "value": 185,
          "variable": "num_unique_products"
         },
         {
          "section_name": "Denim Men",
          "section_no": 56,
          "value": 144,
          "variable": "num_unique_products"
         },
         {
          "section_name": "Men Edition",
          "section_no": 28,
          "value": 143,
          "variable": "num_unique_products"
         },
         {
          "section_name": "Men Other 2",
          "section_no": 30,
          "value": 94,
          "variable": "num_unique_products"
         },
         {
          "section_name": "Kids Local Relevance",
          "section_no": 48,
          "value": 93,
          "variable": "num_unique_products"
         },
         {
          "section_name": "Divided Complements Other",
          "section_no": 80,
          "value": 19,
          "variable": "num_unique_products"
         },
         {
          "section_name": "Men Other",
          "section_no": 29,
          "value": 12,
          "variable": "num_unique_products"
         },
         {
          "section_name": "EQ Divided",
          "section_no": 71,
          "value": 11,
          "variable": "num_unique_products"
         },
         {
          "section_name": "Ladies Other",
          "section_no": 4,
          "value": 2,
          "variable": "num_unique_products"
         },
         {
          "section_name": "Ladies Other",
          "section_no": 17,
          "value": 1,
          "variable": "num_unique_products"
         },
         {
          "section_name": "Womens Everyday Collection",
          "section_no": 15,
          "value": 7295,
          "variable": "num_unique_articles"
         },
         {
          "section_name": "Divided Collection",
          "section_no": 53,
          "value": 7124,
          "variable": "num_unique_articles"
         },
         {
          "section_name": "Womens Small accessories",
          "section_no": 66,
          "value": 3270,
          "variable": "num_unique_articles"
         },
         {
          "section_name": "Baby Essentials & Complements",
          "section_no": 44,
          "value": 4932,
          "variable": "num_unique_articles"
         },
         {
          "section_name": "Kids Girl",
          "section_no": 76,
          "value": 4469,
          "variable": "num_unique_articles"
         },
         {
          "section_name": "Womens Trend",
          "section_no": 18,
          "value": 2622,
          "variable": "num_unique_articles"
         },
         {
          "section_name": "H&M+",
          "section_no": 2,
          "value": 2337,
          "variable": "num_unique_articles"
         },
         {
          "section_name": "Divided Projects",
          "section_no": 50,
          "value": 2364,
          "variable": "num_unique_articles"
         },
         {
          "section_name": "Young Girl",
          "section_no": 77,
          "value": 3899,
          "variable": "num_unique_articles"
         },
         {
          "section_name": "Kids Outerwear",
          "section_no": 45,
          "value": 2665,
          "variable": "num_unique_articles"
         },
         {
          "section_name": "Womens Lingerie",
          "section_no": 61,
          "value": 3598,
          "variable": "num_unique_articles"
         },
         {
          "section_name": "Womens Tailoring",
          "section_no": 11,
          "value": 3376,
          "variable": "num_unique_articles"
         },
         {
          "section_name": "Mama",
          "section_no": 8,
          "value": 2266,
          "variable": "num_unique_articles"
         },
         {
          "section_name": "Kids Boy",
          "section_no": 46,
          "value": 3328,
          "variable": "num_unique_articles"
         },
         {
          "section_name": "Womens Casual",
          "section_no": 6,
          "value": 2725,
          "variable": "num_unique_articles"
         },
         {
          "section_name": "Kids & Baby Shoes",
          "section_no": 42,
          "value": 2142,
          "variable": "num_unique_articles"
         },
         {
          "section_name": "Kids Accessories, Swimwear & D",
          "section_no": 43,
          "value": 1731,
          "variable": "num_unique_articles"
         },
         {
          "section_name": "Womens Shoes",
          "section_no": 64,
          "value": 2026,
          "variable": "num_unique_articles"
         },
         {
          "section_name": "Baby Girl",
          "section_no": 40,
          "value": 1760,
          "variable": "num_unique_articles"
         },
         {
          "section_name": "Womens Big accessories",
          "section_no": 65,
          "value": 1665,
          "variable": "num_unique_articles"
         },
         {
          "section_name": "Baby Boy",
          "section_no": 41,
          "value": 1717,
          "variable": "num_unique_articles"
         },
         {
          "section_name": "Young Boy",
          "section_no": 47,
          "value": 2352,
          "variable": "num_unique_articles"
         },
         {
          "section_name": "Divided Accessories",
          "section_no": 52,
          "value": 1732,
          "variable": "num_unique_articles"
         },
         {
          "section_name": "Ladies H&M Sport",
          "section_no": 5,
          "value": 1894,
          "variable": "num_unique_articles"
         },
         {
          "section_name": "Womens Swimwear, beachwear",
          "section_no": 60,
          "value": 1839,
          "variable": "num_unique_articles"
         },
         {
          "section_name": "Men Accessories",
          "section_no": 25,
          "value": 1337,
          "variable": "num_unique_articles"
         },
         {
          "section_name": "Girls Underwear & Basics",
          "section_no": 79,
          "value": 3490,
          "variable": "num_unique_articles"
         },
         {
          "section_name": "Womens Nightwear, Socks & Tigh",
          "section_no": 62,
          "value": 1566,
          "variable": "num_unique_articles"
         },
         {
          "section_name": "Womens Premium",
          "section_no": 14,
          "value": 1270,
          "variable": "num_unique_articles"
         },
         {
          "section_name": "Special Collections",
          "section_no": 82,
          "value": 682,
          "variable": "num_unique_articles"
         },
         {
          "section_name": "Men Suits & Tailoring",
          "section_no": 23,
          "value": 1428,
          "variable": "num_unique_articles"
         },
         {
          "section_name": "Divided Selected",
          "section_no": 58,
          "value": 991,
          "variable": "num_unique_articles"
         },
         {
          "section_name": "Womens Everyday Basics",
          "section_no": 16,
          "value": 1581,
          "variable": "num_unique_articles"
         },
         {
          "section_name": "Womens Jackets",
          "section_no": 19,
          "value": 829,
          "variable": "num_unique_articles"
         },
         {
          "section_name": "Contemporary Street",
          "section_no": 55,
          "value": 1490,
          "variable": "num_unique_articles"
         },
         {
          "section_name": "Contemporary Smart",
          "section_no": 20,
          "value": 1778,
          "variable": "num_unique_articles"
         },
         {
          "section_name": "Contemporary Casual",
          "section_no": 21,
          "value": 1560,
          "variable": "num_unique_articles"
         },
         {
          "section_name": "Divided Basics",
          "section_no": 51,
          "value": 1723,
          "variable": "num_unique_articles"
         },
         {
          "section_name": "Ladies Denim",
          "section_no": 57,
          "value": 1101,
          "variable": "num_unique_articles"
         },
         {
          "section_name": "Collaborations",
          "section_no": 97,
          "value": 559,
          "variable": "num_unique_articles"
         },
         {
          "section_name": "Men Underwear",
          "section_no": 26,
          "value": 2322,
          "variable": "num_unique_articles"
         },
         {
          "section_name": "Boys Underwear & Basics",
          "section_no": 72,
          "value": 2034,
          "variable": "num_unique_articles"
         },
         {
          "section_name": "Kids Sports",
          "section_no": 49,
          "value": 626,
          "variable": "num_unique_articles"
         },
         {
          "section_name": "Men H&M Sport",
          "section_no": 22,
          "value": 872,
          "variable": "num_unique_articles"
         },
         {
          "section_name": "Men Shoes",
          "section_no": 27,
          "value": 645,
          "variable": "num_unique_articles"
         },
         {
          "section_name": "Mens Outerwear",
          "section_no": 31,
          "value": 629,
          "variable": "num_unique_articles"
         },
         {
          "section_name": "Men Project",
          "section_no": 24,
          "value": 298,
          "variable": "num_unique_articles"
         },
         {
          "section_name": "Divided Asia keys",
          "section_no": 70,
          "value": 280,
          "variable": "num_unique_articles"
         },
         {
          "section_name": "Denim Men",
          "section_no": 56,
          "value": 521,
          "variable": "num_unique_articles"
         },
         {
          "section_name": "Men Edition",
          "section_no": 28,
          "value": 330,
          "variable": "num_unique_articles"
         },
         {
          "section_name": "Men Other 2",
          "section_no": 30,
          "value": 190,
          "variable": "num_unique_articles"
         },
         {
          "section_name": "Kids Local Relevance",
          "section_no": 48,
          "value": 192,
          "variable": "num_unique_articles"
         },
         {
          "section_name": "Divided Complements Other",
          "section_no": 80,
          "value": 35,
          "variable": "num_unique_articles"
         },
         {
          "section_name": "Men Other",
          "section_no": 29,
          "value": 25,
          "variable": "num_unique_articles"
         },
         {
          "section_name": "EQ Divided",
          "section_no": 71,
          "value": 26,
          "variable": "num_unique_articles"
         },
         {
          "section_name": "Ladies Other",
          "section_no": 4,
          "value": 3,
          "variable": "num_unique_articles"
         },
         {
          "section_name": "Ladies Other",
          "section_no": 17,
          "value": 1,
          "variable": "num_unique_articles"
         }
        ]
       },
       "encoding": {
        "column": {
         "field": "variable",
         "type": "nominal"
        },
        "x": {
         "field": "value",
         "type": "quantitative"
        },
        "y": {
         "field": "section_name",
         "sort": "-x",
         "type": "nominal"
        }
       },
       "mark": "bar"
      },
      "image/png": "[encoded data removed]",
      "text/plain": [
       "<VegaLite 4 object>\n",
       "\n",
       "If you see this message, it means the renderer has not been properly enabled\n",
       "for the frontend that you are using. For more information, see\n",
       "https://altair-viz.github.io/user_guide/troubleshooting.html\n"
      ]
     },
     "execution_count": 179,
     "metadata": {},
     "output_type": "execute_result"
    }
   ],
   "source": [
    "alt.Chart(df_section_product).mark_bar().encode(\n",
    "    y=alt.Y(\"section_name\", sort=\"-x\"), x=\"value\", column=\"variable\"\n",
    ")"
   ]
  },
  {
   "cell_type": "markdown",
   "id": "e4312559-9fca-4cdb-a42e-53ae98f258d7",
   "metadata": {},
   "source": [
    "## Product Type and Group"
   ]
  },
  {
   "cell_type": "code",
   "execution_count": 180,
   "id": "09d577fc-7cbd-4db2-a29f-dfc7268f8be0",
   "metadata": {},
   "outputs": [
    {
     "data": {
      "text/html": [
       "<div>\n",
       "<style scoped>\n",
       "    .dataframe tbody tr th:only-of-type {\n",
       "        vertical-align: middle;\n",
       "    }\n",
       "\n",
       "    .dataframe tbody tr th {\n",
       "        vertical-align: top;\n",
       "    }\n",
       "\n",
       "    .dataframe thead th {\n",
       "        text-align: right;\n",
       "    }\n",
       "</style>\n",
       "<table border=\"1\" class=\"dataframe\">\n",
       "  <thead>\n",
       "    <tr style=\"text-align: right;\">\n",
       "      <th></th>\n",
       "      <th>num_unique_products</th>\n",
       "      <th>num_unique_articles</th>\n",
       "    </tr>\n",
       "  </thead>\n",
       "  <tbody>\n",
       "    <tr>\n",
       "      <th>count</th>\n",
       "      <td>132.00</td>\n",
       "      <td>132.00</td>\n",
       "    </tr>\n",
       "    <tr>\n",
       "      <th>mean</th>\n",
       "      <td>360.14</td>\n",
       "      <td>799.56</td>\n",
       "    </tr>\n",
       "    <tr>\n",
       "      <th>std</th>\n",
       "      <td>805.42</td>\n",
       "      <td>1834.37</td>\n",
       "    </tr>\n",
       "    <tr>\n",
       "      <th>min</th>\n",
       "      <td>1.00</td>\n",
       "      <td>1.00</td>\n",
       "    </tr>\n",
       "    <tr>\n",
       "      <th>25%</th>\n",
       "      <td>4.75</td>\n",
       "      <td>7.00</td>\n",
       "    </tr>\n",
       "    <tr>\n",
       "      <th>50%</th>\n",
       "      <td>50.00</td>\n",
       "      <td>104.50</td>\n",
       "    </tr>\n",
       "    <tr>\n",
       "      <th>75%</th>\n",
       "      <td>356.75</td>\n",
       "      <td>685.75</td>\n",
       "    </tr>\n",
       "    <tr>\n",
       "      <th>max</th>\n",
       "      <td>5551.00</td>\n",
       "      <td>11169.00</td>\n",
       "    </tr>\n",
       "  </tbody>\n",
       "</table>\n",
       "</div>"
      ],
      "text/plain": [
       "       num_unique_products  num_unique_articles\n",
       "count               132.00               132.00\n",
       "mean                360.14               799.56\n",
       "std                 805.42              1834.37\n",
       "min                   1.00                 1.00\n",
       "25%                   4.75                 7.00\n",
       "50%                  50.00               104.50\n",
       "75%                 356.75               685.75\n",
       "max                5551.00             11169.00"
      ]
     },
     "execution_count": 180,
     "metadata": {},
     "output_type": "execute_result"
    }
   ],
   "source": [
    "df_product_type = (\n",
    "    df.groupby([\"product_type_no\", \"product_type_name\"])\n",
    "    .agg(\n",
    "        num_unique_products=(\"product_code\", \"nunique\"),\n",
    "        num_unique_articles=(\"article_id\", \"nunique\"),\n",
    "    )\n",
    "    .sort_values(\"num_unique_articles\", ascending=False)\n",
    ")\n",
    "\n",
    "df_product_type.describe()"
   ]
  },
  {
   "cell_type": "code",
   "execution_count": 181,
   "id": "a8168f2f-0bd6-4857-87f8-1d3895861ee8",
   "metadata": {},
   "outputs": [
    {
     "data": {
      "text/html": [
       "<div>\n",
       "<style scoped>\n",
       "    .dataframe tbody tr th:only-of-type {\n",
       "        vertical-align: middle;\n",
       "    }\n",
       "\n",
       "    .dataframe tbody tr th {\n",
       "        vertical-align: top;\n",
       "    }\n",
       "\n",
       "    .dataframe thead th {\n",
       "        text-align: right;\n",
       "    }\n",
       "</style>\n",
       "<table border=\"1\" class=\"dataframe\">\n",
       "  <thead>\n",
       "    <tr style=\"text-align: right;\">\n",
       "      <th></th>\n",
       "      <th></th>\n",
       "      <th>num_unique_products</th>\n",
       "      <th>num_unique_articles</th>\n",
       "    </tr>\n",
       "    <tr>\n",
       "      <th>product_type_no</th>\n",
       "      <th>product_type_name</th>\n",
       "      <th></th>\n",
       "      <th></th>\n",
       "    </tr>\n",
       "  </thead>\n",
       "  <tbody>\n",
       "    <tr>\n",
       "      <th>272</th>\n",
       "      <th>Trousers</th>\n",
       "      <td>4711</td>\n",
       "      <td>11169</td>\n",
       "    </tr>\n",
       "    <tr>\n",
       "      <th>265</th>\n",
       "      <th>Dress</th>\n",
       "      <td>5551</td>\n",
       "      <td>10362</td>\n",
       "    </tr>\n",
       "    <tr>\n",
       "      <th>252</th>\n",
       "      <th>Sweater</th>\n",
       "      <td>3618</td>\n",
       "      <td>9302</td>\n",
       "    </tr>\n",
       "    <tr>\n",
       "      <th>255</th>\n",
       "      <th>T-shirt</th>\n",
       "      <td>2172</td>\n",
       "      <td>7904</td>\n",
       "    </tr>\n",
       "    <tr>\n",
       "      <th>254</th>\n",
       "      <th>Top</th>\n",
       "      <td>1893</td>\n",
       "      <td>4155</td>\n",
       "    </tr>\n",
       "  </tbody>\n",
       "</table>\n",
       "</div>"
      ],
      "text/plain": [
       "                                   num_unique_products  num_unique_articles\n",
       "product_type_no product_type_name                                          \n",
       "272             Trousers                          4711                11169\n",
       "265             Dress                             5551                10362\n",
       "252             Sweater                           3618                 9302\n",
       "255             T-shirt                           2172                 7904\n",
       "254             Top                               1893                 4155"
      ]
     },
     "execution_count": 181,
     "metadata": {},
     "output_type": "execute_result"
    }
   ],
   "source": [
    "df_product_type.head(5)"
   ]
  },
  {
   "cell_type": "code",
   "execution_count": 182,
   "id": "fe7ae81b-34a6-4c5a-89bd-598de107d4b2",
   "metadata": {},
   "outputs": [
    {
     "data": {
      "text/plain": [
       "<AxesSubplot:ylabel='Frequency'>"
      ]
     },
     "execution_count": 182,
     "metadata": {},
     "output_type": "execute_result"
    },
    {
     "data": {
      "image/png": "[encoded data removed]",
      "text/plain": [
       "<Figure size 1080x360 with 2 Axes>"
      ]
     },
     "metadata": {
      "image/png": {
       "height": 305,
       "width": 884
      },
      "needs_background": "light"
     },
     "output_type": "display_data"
    }
   ],
   "source": [
    "fig, axs = plt.subplots(1, 2, figsize=(15, 5))\n",
    "\n",
    "df_product_type[\"num_unique_products\"].plot.hist(bins=100, ax=axs[0])\n",
    "df_product_type[\"num_unique_articles\"].plot.hist(bins=100, ax=axs[1])"
   ]
  },
  {
   "cell_type": "code",
   "execution_count": 183,
   "id": "05107e76-d642-4cca-9f58-2f877660abaf",
   "metadata": {},
   "outputs": [
    {
     "data": {
      "text/plain": [
       "Garment Upper body       42741\n",
       "Garment Lower body       19812\n",
       "Garment Full body        13292\n",
       "Accessories              11158\n",
       "Underwear                 5490\n",
       "Shoes                     5283\n",
       "Swimwear                  3127\n",
       "Socks & Tights            2442\n",
       "Nightwear                 1899\n",
       "Unknown                    121\n",
       "Underwear/nightwear         54\n",
       "Cosmetic                    49\n",
       "Bags                        25\n",
       "Items                       17\n",
       "Furniture                   13\n",
       "Garment and Shoe care        9\n",
       "Stationery                   5\n",
       "Interior textile             3\n",
       "Fun                          2\n",
       "Name: product_group_name, dtype: int64"
      ]
     },
     "execution_count": 183,
     "metadata": {},
     "output_type": "execute_result"
    }
   ],
   "source": [
    "df[\"product_group_name\"].value_counts()"
   ]
  },
  {
   "cell_type": "markdown",
   "id": "184de0d8-1ba7-4bc9-84c9-ea65590dc046",
   "metadata": {},
   "source": [
    "## Graphical Appearance"
   ]
  },
  {
   "cell_type": "code",
   "execution_count": 184,
   "id": "2a964bd5-dec1-4081-8867-75f3d3f5c3ca",
   "metadata": {},
   "outputs": [],
   "source": [
    "df_graphical_app = (\n",
    "    df.groupby([\"graphical_appearance_no\", \"graphical_appearance_name\"])\n",
    "    .agg(\n",
    "        num_unique_products=(\"product_code\", \"nunique\"),\n",
    "        num_unique_articles=(\"article_id\", \"nunique\"),\n",
    "    )\n",
    "    .reset_index()\n",
    "    .melt(\n",
    "        id_vars=[\"graphical_appearance_no\", \"graphical_appearance_name\"],\n",
    "        value_vars=[\"num_unique_products\", \"num_unique_articles\"],\n",
    "    )\n",
    ")"
   ]
  },
  {
   "cell_type": "code",
   "execution_count": 185,
   "id": "ab2d9224-86b5-412a-96e9-d32cc421cba7",
   "metadata": {},
   "outputs": [
    {
     "data": {
      "application/vnd.vegalite.v4+json": {
       "$schema": "https://vega.github.io/schema/vega-lite/v4.17.0.json",
       "config": {
        "view": {
         "continuousHeight": 300,
         "continuousWidth": 400
        }
       },
       "data": {
        "name": "data-c9f8d0b91c11da134109e4bda8d7cb39"
       },
       "datasets": {
        "data-c9f8d0b91c11da134109e4bda8d7cb39": [
         {
          "graphical_appearance_name": "Unknown",
          "graphical_appearance_no": -1,
          "value": 43,
          "variable": "num_unique_products"
         },
         {
          "graphical_appearance_name": "All over pattern",
          "graphical_appearance_no": 1010001,
          "value": 9348,
          "variable": "num_unique_products"
         },
         {
          "graphical_appearance_name": "Application/3D",
          "graphical_appearance_no": 1010002,
          "value": 886,
          "variable": "num_unique_products"
         },
         {
          "graphical_appearance_name": "Argyle",
          "graphical_appearance_no": 1010003,
          "value": 13,
          "variable": "num_unique_products"
         },
         {
          "graphical_appearance_name": "Check",
          "graphical_appearance_no": 1010004,
          "value": 1389,
          "variable": "num_unique_products"
         },
         {
          "graphical_appearance_name": "Colour blocking",
          "graphical_appearance_no": 1010005,
          "value": 1101,
          "variable": "num_unique_products"
         },
         {
          "graphical_appearance_name": "Dot",
          "graphical_appearance_no": 1010006,
          "value": 583,
          "variable": "num_unique_products"
         },
         {
          "graphical_appearance_name": "Embroidery",
          "graphical_appearance_no": 1010007,
          "value": 817,
          "variable": "num_unique_products"
         },
         {
          "graphical_appearance_name": "Front print",
          "graphical_appearance_no": 1010008,
          "value": 1519,
          "variable": "num_unique_products"
         },
         {
          "graphical_appearance_name": "Glittering/Metallic",
          "graphical_appearance_no": 1010009,
          "value": 757,
          "variable": "num_unique_products"
         },
         {
          "graphical_appearance_name": "Melange",
          "graphical_appearance_no": 1010010,
          "value": 3614,
          "variable": "num_unique_products"
         },
         {
          "graphical_appearance_name": "Metallic",
          "graphical_appearance_no": 1010011,
          "value": 300,
          "variable": "num_unique_products"
         },
         {
          "graphical_appearance_name": "Mixed solid/pattern",
          "graphical_appearance_no": 1010012,
          "value": 513,
          "variable": "num_unique_products"
         },
         {
          "graphical_appearance_name": "Other pattern",
          "graphical_appearance_no": 1010013,
          "value": 209,
          "variable": "num_unique_products"
         },
         {
          "graphical_appearance_name": "Placement print",
          "graphical_appearance_no": 1010014,
          "value": 1658,
          "variable": "num_unique_products"
         },
         {
          "graphical_appearance_name": "Sequin",
          "graphical_appearance_no": 1010015,
          "value": 425,
          "variable": "num_unique_products"
         },
         {
          "graphical_appearance_name": "Solid",
          "graphical_appearance_no": 1010016,
          "value": 27251,
          "variable": "num_unique_products"
         },
         {
          "graphical_appearance_name": "Stripe",
          "graphical_appearance_no": 1010017,
          "value": 3268,
          "variable": "num_unique_products"
         },
         {
          "graphical_appearance_name": "Treatment",
          "graphical_appearance_no": 1010018,
          "value": 320,
          "variable": "num_unique_products"
         },
         {
          "graphical_appearance_name": "Transparent",
          "graphical_appearance_no": 1010019,
          "value": 68,
          "variable": "num_unique_products"
         },
         {
          "graphical_appearance_name": "Contrast",
          "graphical_appearance_no": 1010020,
          "value": 263,
          "variable": "num_unique_products"
         },
         {
          "graphical_appearance_name": "Lace",
          "graphical_appearance_no": 1010021,
          "value": 871,
          "variable": "num_unique_products"
         },
         {
          "graphical_appearance_name": "Jacquard",
          "graphical_appearance_no": 1010022,
          "value": 616,
          "variable": "num_unique_products"
         },
         {
          "graphical_appearance_name": "Denim",
          "graphical_appearance_no": 1010023,
          "value": 2353,
          "variable": "num_unique_products"
         },
         {
          "graphical_appearance_name": "Chambray",
          "graphical_appearance_no": 1010024,
          "value": 264,
          "variable": "num_unique_products"
         },
         {
          "graphical_appearance_name": "Slub",
          "graphical_appearance_no": 1010025,
          "value": 80,
          "variable": "num_unique_products"
         },
         {
          "graphical_appearance_name": "Other structure",
          "graphical_appearance_no": 1010026,
          "value": 997,
          "variable": "num_unique_products"
         },
         {
          "graphical_appearance_name": "Neps",
          "graphical_appearance_no": 1010027,
          "value": 53,
          "variable": "num_unique_products"
         },
         {
          "graphical_appearance_name": "Mesh",
          "graphical_appearance_no": 1010028,
          "value": 63,
          "variable": "num_unique_products"
         },
         {
          "graphical_appearance_name": "Hologram",
          "graphical_appearance_no": 1010029,
          "value": 8,
          "variable": "num_unique_products"
         },
         {
          "graphical_appearance_name": "Unknown",
          "graphical_appearance_no": -1,
          "value": 52,
          "variable": "num_unique_articles"
         },
         {
          "graphical_appearance_name": "All over pattern",
          "graphical_appearance_no": 1010001,
          "value": 17165,
          "variable": "num_unique_articles"
         },
         {
          "graphical_appearance_name": "Application/3D",
          "graphical_appearance_no": 1010002,
          "value": 1341,
          "variable": "num_unique_articles"
         },
         {
          "graphical_appearance_name": "Argyle",
          "graphical_appearance_no": 1010003,
          "value": 15,
          "variable": "num_unique_articles"
         },
         {
          "graphical_appearance_name": "Check",
          "graphical_appearance_no": 1010004,
          "value": 2178,
          "variable": "num_unique_articles"
         },
         {
          "graphical_appearance_name": "Colour blocking",
          "graphical_appearance_no": 1010005,
          "value": 1830,
          "variable": "num_unique_articles"
         },
         {
          "graphical_appearance_name": "Dot",
          "graphical_appearance_no": 1010006,
          "value": 681,
          "variable": "num_unique_articles"
         },
         {
          "graphical_appearance_name": "Embroidery",
          "graphical_appearance_no": 1010007,
          "value": 1165,
          "variable": "num_unique_articles"
         },
         {
          "graphical_appearance_name": "Front print",
          "graphical_appearance_no": 1010008,
          "value": 3215,
          "variable": "num_unique_articles"
         },
         {
          "graphical_appearance_name": "Glittering/Metallic",
          "graphical_appearance_no": 1010009,
          "value": 958,
          "variable": "num_unique_articles"
         },
         {
          "graphical_appearance_name": "Melange",
          "graphical_appearance_no": 1010010,
          "value": 5938,
          "variable": "num_unique_articles"
         },
         {
          "graphical_appearance_name": "Metallic",
          "graphical_appearance_no": 1010011,
          "value": 346,
          "variable": "num_unique_articles"
         },
         {
          "graphical_appearance_name": "Mixed solid/pattern",
          "graphical_appearance_no": 1010012,
          "value": 1132,
          "variable": "num_unique_articles"
         },
         {
          "graphical_appearance_name": "Other pattern",
          "graphical_appearance_no": 1010013,
          "value": 515,
          "variable": "num_unique_articles"
         },
         {
          "graphical_appearance_name": "Placement print",
          "graphical_appearance_no": 1010014,
          "value": 3098,
          "variable": "num_unique_articles"
         },
         {
          "graphical_appearance_name": "Sequin",
          "graphical_appearance_no": 1010015,
          "value": 806,
          "variable": "num_unique_articles"
         },
         {
          "graphical_appearance_name": "Solid",
          "graphical_appearance_no": 1010016,
          "value": 49747,
          "variable": "num_unique_articles"
         },
         {
          "graphical_appearance_name": "Stripe",
          "graphical_appearance_no": 1010017,
          "value": 4990,
          "variable": "num_unique_articles"
         },
         {
          "graphical_appearance_name": "Treatment",
          "graphical_appearance_no": 1010018,
          "value": 586,
          "variable": "num_unique_articles"
         },
         {
          "graphical_appearance_name": "Transparent",
          "graphical_appearance_no": 1010019,
          "value": 86,
          "variable": "num_unique_articles"
         },
         {
          "graphical_appearance_name": "Contrast",
          "graphical_appearance_no": 1010020,
          "value": 376,
          "variable": "num_unique_articles"
         },
         {
          "graphical_appearance_name": "Lace",
          "graphical_appearance_no": 1010021,
          "value": 1513,
          "variable": "num_unique_articles"
         },
         {
          "graphical_appearance_name": "Jacquard",
          "graphical_appearance_no": 1010022,
          "value": 830,
          "variable": "num_unique_articles"
         },
         {
          "graphical_appearance_name": "Denim",
          "graphical_appearance_no": 1010023,
          "value": 4842,
          "variable": "num_unique_articles"
         },
         {
          "graphical_appearance_name": "Chambray",
          "graphical_appearance_no": 1010024,
          "value": 322,
          "variable": "num_unique_articles"
         },
         {
          "graphical_appearance_name": "Slub",
          "graphical_appearance_no": 1010025,
          "value": 153,
          "variable": "num_unique_articles"
         },
         {
          "graphical_appearance_name": "Other structure",
          "graphical_appearance_no": 1010026,
          "value": 1502,
          "variable": "num_unique_articles"
         },
         {
          "graphical_appearance_name": "Neps",
          "graphical_appearance_no": 1010027,
          "value": 66,
          "variable": "num_unique_articles"
         },
         {
          "graphical_appearance_name": "Mesh",
          "graphical_appearance_no": 1010028,
          "value": 86,
          "variable": "num_unique_articles"
         },
         {
          "graphical_appearance_name": "Hologram",
          "graphical_appearance_no": 1010029,
          "value": 8,
          "variable": "num_unique_articles"
         }
        ]
       },
       "encoding": {
        "column": {
         "field": "variable",
         "type": "nominal"
        },
        "x": {
         "field": "value",
         "type": "quantitative"
        },
        "y": {
         "field": "graphical_appearance_name",
         "sort": "-x",
         "type": "nominal"
        }
       },
       "mark": "bar"
      },
      "image/png": "[encoded data removed]",
      "text/plain": [
       "<VegaLite 4 object>\n",
       "\n",
       "If you see this message, it means the renderer has not been properly enabled\n",
       "for the frontend that you are using. For more information, see\n",
       "https://altair-viz.github.io/user_guide/troubleshooting.html\n"
      ]
     },
     "execution_count": 185,
     "metadata": {},
     "output_type": "execute_result"
    }
   ],
   "source": [
    "alt.Chart(df_graphical_app).mark_bar().encode(\n",
    "    y=alt.Y(\"graphical_appearance_name\", sort=\"-x\"), x=\"value\", column=\"variable\"\n",
    ")"
   ]
  },
  {
   "cell_type": "markdown",
   "id": "2737f0c0-6569-473b-80b1-02caf6daf6b3",
   "metadata": {},
   "source": [
    "## Colors"
   ]
  },
  {
   "cell_type": "code",
   "execution_count": 186,
   "id": "ec913050-06ad-49af-b5e3-16921986bb66",
   "metadata": {},
   "outputs": [],
   "source": [
    "df_colors = (\n",
    "    df.groupby([\"colour_group_code\", \"colour_group_name\"])\n",
    "    .agg(\n",
    "        num_unique_products=(\"product_code\", \"nunique\"),\n",
    "        num_unique_articles=(\"article_id\", \"nunique\"),\n",
    "    )\n",
    "    .reset_index()\n",
    "    .melt(\n",
    "        id_vars=[\"colour_group_code\", \"colour_group_name\"],\n",
    "        value_vars=[\"num_unique_products\", \"num_unique_articles\"],\n",
    "    )\n",
    ")"
   ]
  },
  {
   "cell_type": "code",
   "execution_count": 187,
   "id": "9f3bdd11-eac0-4c1d-af14-a734301a87f5",
   "metadata": {},
   "outputs": [
    {
     "data": {
      "application/vnd.vegalite.v4+json": {
       "$schema": "https://vega.github.io/schema/vega-lite/v4.17.0.json",
       "config": {
        "view": {
         "continuousHeight": 300,
         "continuousWidth": 400
        }
       },
       "data": {
        "name": "data-2ee81447461a65c93b8370c36e25ccea"
       },
       "datasets": {
        "data-2ee81447461a65c93b8370c36e25ccea": [
         {
          "colour_group_code": -1,
          "colour_group_name": "Unknown",
          "value": 21,
          "variable": "num_unique_products"
         },
         {
          "colour_group_code": 1,
          "colour_group_name": "Other",
          "value": 96,
          "variable": "num_unique_products"
         },
         {
          "colour_group_code": 2,
          "colour_group_name": "Transparent",
          "value": 27,
          "variable": "num_unique_products"
         },
         {
          "colour_group_code": 3,
          "colour_group_name": "Silver",
          "value": 693,
          "variable": "num_unique_products"
         },
         {
          "colour_group_code": 4,
          "colour_group_name": "Bronze/Copper",
          "value": 93,
          "variable": "num_unique_products"
         },
         {
          "colour_group_code": 5,
          "colour_group_name": "Gold",
          "value": 1367,
          "variable": "num_unique_products"
         },
         {
          "colour_group_code": 6,
          "colour_group_name": "Light Grey",
          "value": 1887,
          "variable": "num_unique_products"
         },
         {
          "colour_group_code": 7,
          "colour_group_name": "Grey",
          "value": 3848,
          "variable": "num_unique_products"
         },
         {
          "colour_group_code": 8,
          "colour_group_name": "Dark Grey",
          "value": 2441,
          "variable": "num_unique_products"
         },
         {
          "colour_group_code": 9,
          "colour_group_name": "Black",
          "value": 19195,
          "variable": "num_unique_products"
         },
         {
          "colour_group_code": 10,
          "colour_group_name": "White",
          "value": 7863,
          "variable": "num_unique_products"
         },
         {
          "colour_group_code": 11,
          "colour_group_name": "Off White",
          "value": 2554,
          "variable": "num_unique_products"
         },
         {
          "colour_group_code": 12,
          "colour_group_name": "Light Beige",
          "value": 3127,
          "variable": "num_unique_products"
         },
         {
          "colour_group_code": 13,
          "colour_group_name": "Beige",
          "value": 2533,
          "variable": "num_unique_products"
         },
         {
          "colour_group_code": 14,
          "colour_group_name": "Dark Beige",
          "value": 1035,
          "variable": "num_unique_products"
         },
         {
          "colour_group_code": 15,
          "colour_group_name": "Greyish Beige",
          "value": 221,
          "variable": "num_unique_products"
         },
         {
          "colour_group_code": 17,
          "colour_group_name": "Yellowish Brown",
          "value": 1351,
          "variable": "num_unique_products"
         },
         {
          "colour_group_code": 19,
          "colour_group_name": "Greenish Khaki",
          "value": 2526,
          "variable": "num_unique_products"
         },
         {
          "colour_group_code": 20,
          "colour_group_name": "Other Yellow",
          "value": 221,
          "variable": "num_unique_products"
         },
         {
          "colour_group_code": 21,
          "colour_group_name": "Light Yellow",
          "value": 950,
          "variable": "num_unique_products"
         },
         {
          "colour_group_code": 22,
          "colour_group_name": "Yellow",
          "value": 1498,
          "variable": "num_unique_products"
         },
         {
          "colour_group_code": 23,
          "colour_group_name": "Dark Yellow",
          "value": 563,
          "variable": "num_unique_products"
         },
         {
          "colour_group_code": 30,
          "colour_group_name": "Other Orange",
          "value": 148,
          "variable": "num_unique_products"
         },
         {
          "colour_group_code": 31,
          "colour_group_name": "Light Orange",
          "value": 1447,
          "variable": "num_unique_products"
         },
         {
          "colour_group_code": 32,
          "colour_group_name": "Orange",
          "value": 736,
          "variable": "num_unique_products"
         },
         {
          "colour_group_code": 33,
          "colour_group_name": "Dark Orange",
          "value": 856,
          "variable": "num_unique_products"
         },
         {
          "colour_group_code": 40,
          "colour_group_name": "Other Red",
          "value": 105,
          "variable": "num_unique_products"
         },
         {
          "colour_group_code": 41,
          "colour_group_name": "Light Red",
          "value": 280,
          "variable": "num_unique_products"
         },
         {
          "colour_group_code": 42,
          "colour_group_name": "Red",
          "value": 2804,
          "variable": "num_unique_products"
         },
         {
          "colour_group_code": 43,
          "colour_group_name": "Dark Red",
          "value": 2136,
          "variable": "num_unique_products"
         },
         {
          "colour_group_code": 50,
          "colour_group_name": "Other Pink",
          "value": 698,
          "variable": "num_unique_products"
         },
         {
          "colour_group_code": 51,
          "colour_group_name": "Light Pink",
          "value": 5013,
          "variable": "num_unique_products"
         },
         {
          "colour_group_code": 52,
          "colour_group_name": "Pink",
          "value": 1935,
          "variable": "num_unique_products"
         },
         {
          "colour_group_code": 53,
          "colour_group_name": "Dark Pink",
          "value": 796,
          "variable": "num_unique_products"
         },
         {
          "colour_group_code": 60,
          "colour_group_name": "Other Purple",
          "value": 46,
          "variable": "num_unique_products"
         },
         {
          "colour_group_code": 61,
          "colour_group_name": "Light Purple",
          "value": 525,
          "variable": "num_unique_products"
         },
         {
          "colour_group_code": 62,
          "colour_group_name": "Purple",
          "value": 180,
          "variable": "num_unique_products"
         },
         {
          "colour_group_code": 63,
          "colour_group_name": "Dark Purple",
          "value": 307,
          "variable": "num_unique_products"
         },
         {
          "colour_group_code": 70,
          "colour_group_name": "Other Blue",
          "value": 50,
          "variable": "num_unique_products"
         },
         {
          "colour_group_code": 71,
          "colour_group_name": "Light Blue",
          "value": 2649,
          "variable": "num_unique_products"
         },
         {
          "colour_group_code": 72,
          "colour_group_name": "Blue",
          "value": 2801,
          "variable": "num_unique_products"
         },
         {
          "colour_group_code": 73,
          "colour_group_name": "Dark Blue",
          "value": 9452,
          "variable": "num_unique_products"
         },
         {
          "colour_group_code": 80,
          "colour_group_name": "Other Turquoise",
          "value": 13,
          "variable": "num_unique_products"
         },
         {
          "colour_group_code": 81,
          "colour_group_name": "Light Turquoise",
          "value": 957,
          "variable": "num_unique_products"
         },
         {
          "colour_group_code": 82,
          "colour_group_name": "Turquoise",
          "value": 412,
          "variable": "num_unique_products"
         },
         {
          "colour_group_code": 83,
          "colour_group_name": "Dark Turquoise",
          "value": 455,
          "variable": "num_unique_products"
         },
         {
          "colour_group_code": 90,
          "colour_group_name": "Other Green",
          "value": 115,
          "variable": "num_unique_products"
         },
         {
          "colour_group_code": 91,
          "colour_group_name": "Light Green",
          "value": 647,
          "variable": "num_unique_products"
         },
         {
          "colour_group_code": 92,
          "colour_group_name": "Green",
          "value": 774,
          "variable": "num_unique_products"
         },
         {
          "colour_group_code": 93,
          "colour_group_name": "Dark Green",
          "value": 1938,
          "variable": "num_unique_products"
         },
         {
          "colour_group_code": -1,
          "colour_group_name": "Unknown",
          "value": 28,
          "variable": "num_unique_articles"
         },
         {
          "colour_group_code": 1,
          "colour_group_name": "Other",
          "value": 105,
          "variable": "num_unique_articles"
         },
         {
          "colour_group_code": 2,
          "colour_group_name": "Transparent",
          "value": 31,
          "variable": "num_unique_articles"
         },
         {
          "colour_group_code": 3,
          "colour_group_name": "Silver",
          "value": 709,
          "variable": "num_unique_articles"
         },
         {
          "colour_group_code": 4,
          "colour_group_name": "Bronze/Copper",
          "value": 94,
          "variable": "num_unique_articles"
         },
         {
          "colour_group_code": 5,
          "colour_group_name": "Gold",
          "value": 1377,
          "variable": "num_unique_articles"
         },
         {
          "colour_group_code": 6,
          "colour_group_name": "Light Grey",
          "value": 2105,
          "variable": "num_unique_articles"
         },
         {
          "colour_group_code": 7,
          "colour_group_name": "Grey",
          "value": 4487,
          "variable": "num_unique_articles"
         },
         {
          "colour_group_code": 8,
          "colour_group_name": "Dark Grey",
          "value": 2731,
          "variable": "num_unique_articles"
         },
         {
          "colour_group_code": 9,
          "colour_group_name": "Black",
          "value": 22670,
          "variable": "num_unique_articles"
         },
         {
          "colour_group_code": 10,
          "colour_group_name": "White",
          "value": 9542,
          "variable": "num_unique_articles"
         },
         {
          "colour_group_code": 11,
          "colour_group_name": "Off White",
          "value": 2726,
          "variable": "num_unique_articles"
         },
         {
          "colour_group_code": 12,
          "colour_group_name": "Light Beige",
          "value": 3356,
          "variable": "num_unique_articles"
         },
         {
          "colour_group_code": 13,
          "colour_group_name": "Beige",
          "value": 2712,
          "variable": "num_unique_articles"
         },
         {
          "colour_group_code": 14,
          "colour_group_name": "Dark Beige",
          "value": 1084,
          "variable": "num_unique_articles"
         },
         {
          "colour_group_code": 15,
          "colour_group_name": "Greyish Beige",
          "value": 226,
          "variable": "num_unique_articles"
         },
         {
          "colour_group_code": 17,
          "colour_group_name": "Yellowish Brown",
          "value": 1471,
          "variable": "num_unique_articles"
         },
         {
          "colour_group_code": 19,
          "colour_group_name": "Greenish Khaki",
          "value": 2767,
          "variable": "num_unique_articles"
         },
         {
          "colour_group_code": 20,
          "colour_group_name": "Other Yellow",
          "value": 225,
          "variable": "num_unique_articles"
         },
         {
          "colour_group_code": 21,
          "colour_group_name": "Light Yellow",
          "value": 984,
          "variable": "num_unique_articles"
         },
         {
          "colour_group_code": 22,
          "colour_group_name": "Yellow",
          "value": 1645,
          "variable": "num_unique_articles"
         },
         {
          "colour_group_code": 23,
          "colour_group_name": "Dark Yellow",
          "value": 574,
          "variable": "num_unique_articles"
         },
         {
          "colour_group_code": 30,
          "colour_group_name": "Other Orange",
          "value": 153,
          "variable": "num_unique_articles"
         },
         {
          "colour_group_code": 31,
          "colour_group_name": "Light Orange",
          "value": 1520,
          "variable": "num_unique_articles"
         },
         {
          "colour_group_code": 32,
          "colour_group_name": "Orange",
          "value": 779,
          "variable": "num_unique_articles"
         },
         {
          "colour_group_code": 33,
          "colour_group_name": "Dark Orange",
          "value": 886,
          "variable": "num_unique_articles"
         },
         {
          "colour_group_code": 40,
          "colour_group_name": "Other Red",
          "value": 114,
          "variable": "num_unique_articles"
         },
         {
          "colour_group_code": 41,
          "colour_group_name": "Light Red",
          "value": 285,
          "variable": "num_unique_articles"
         },
         {
          "colour_group_code": 42,
          "colour_group_name": "Red",
          "value": 3056,
          "variable": "num_unique_articles"
         },
         {
          "colour_group_code": 43,
          "colour_group_name": "Dark Red",
          "value": 2340,
          "variable": "num_unique_articles"
         },
         {
          "colour_group_code": 50,
          "colour_group_name": "Other Pink",
          "value": 750,
          "variable": "num_unique_articles"
         },
         {
          "colour_group_code": 51,
          "colour_group_name": "Light Pink",
          "value": 5811,
          "variable": "num_unique_articles"
         },
         {
          "colour_group_code": 52,
          "colour_group_name": "Pink",
          "value": 2063,
          "variable": "num_unique_articles"
         },
         {
          "colour_group_code": 53,
          "colour_group_name": "Dark Pink",
          "value": 818,
          "variable": "num_unique_articles"
         },
         {
          "colour_group_code": 60,
          "colour_group_name": "Other Purple",
          "value": 46,
          "variable": "num_unique_articles"
         },
         {
          "colour_group_code": 61,
          "colour_group_name": "Light Purple",
          "value": 553,
          "variable": "num_unique_articles"
         },
         {
          "colour_group_code": 62,
          "colour_group_name": "Purple",
          "value": 182,
          "variable": "num_unique_articles"
         },
         {
          "colour_group_code": 63,
          "colour_group_name": "Dark Purple",
          "value": 315,
          "variable": "num_unique_articles"
         },
         {
          "colour_group_code": 70,
          "colour_group_name": "Other Blue",
          "value": 51,
          "variable": "num_unique_articles"
         },
         {
          "colour_group_code": 71,
          "colour_group_name": "Light Blue",
          "value": 3012,
          "variable": "num_unique_articles"
         },
         {
          "colour_group_code": 72,
          "colour_group_name": "Blue",
          "value": 3308,
          "variable": "num_unique_articles"
         },
         {
          "colour_group_code": 73,
          "colour_group_name": "Dark Blue",
          "value": 12171,
          "variable": "num_unique_articles"
         },
         {
          "colour_group_code": 80,
          "colour_group_name": "Other Turquoise",
          "value": 14,
          "variable": "num_unique_articles"
         },
         {
          "colour_group_code": 81,
          "colour_group_name": "Light Turquoise",
          "value": 1027,
          "variable": "num_unique_articles"
         },
         {
          "colour_group_code": 82,
          "colour_group_name": "Turquoise",
          "value": 435,
          "variable": "num_unique_articles"
         },
         {
          "colour_group_code": 83,
          "colour_group_name": "Dark Turquoise",
          "value": 473,
          "variable": "num_unique_articles"
         },
         {
          "colour_group_code": 90,
          "colour_group_name": "Other Green",
          "value": 129,
          "variable": "num_unique_articles"
         },
         {
          "colour_group_code": 91,
          "colour_group_name": "Light Green",
          "value": 681,
          "variable": "num_unique_articles"
         },
         {
          "colour_group_code": 92,
          "colour_group_name": "Green",
          "value": 815,
          "variable": "num_unique_articles"
         },
         {
          "colour_group_code": 93,
          "colour_group_name": "Dark Green",
          "value": 2106,
          "variable": "num_unique_articles"
         }
        ]
       },
       "encoding": {
        "column": {
         "field": "variable",
         "type": "nominal"
        },
        "x": {
         "field": "value",
         "type": "quantitative"
        },
        "y": {
         "field": "colour_group_name",
         "sort": "-x",
         "type": "nominal"
        }
       },
       "mark": "bar"
      },
      "image/png": "[encoded data removed]",
      "text/plain": [
       "<VegaLite 4 object>\n",
       "\n",
       "If you see this message, it means the renderer has not been properly enabled\n",
       "for the frontend that you are using. For more information, see\n",
       "https://altair-viz.github.io/user_guide/troubleshooting.html\n"
      ]
     },
     "execution_count": 187,
     "metadata": {},
     "output_type": "execute_result"
    }
   ],
   "source": [
    "alt.Chart(df_colors).mark_bar().encode(\n",
    "    y=alt.Y(\"colour_group_name\", sort=\"-x\"), x=\"value\", column=\"variable\"\n",
    ")"
   ]
  },
  {
   "cell_type": "markdown",
   "id": "a4933b2b-63ad-48cc-9f6b-121475bc87f2",
   "metadata": {},
   "source": [
    "## Perceived Colors (Value)"
   ]
  },
  {
   "cell_type": "code",
   "execution_count": 188,
   "id": "666d158c-aa99-4343-99d8-9d8308ba1cb2",
   "metadata": {},
   "outputs": [],
   "source": [
    "df_perc_colors_value = (\n",
    "    df.groupby([\"perceived_colour_value_id\", \"perceived_colour_value_name\"])\n",
    "    .agg(\n",
    "        num_unique_products=(\"product_code\", \"nunique\"),\n",
    "        num_unique_articles=(\"article_id\", \"nunique\"),\n",
    "    )\n",
    "    .reset_index()\n",
    "    .melt(\n",
    "        id_vars=[\"perceived_colour_value_id\", \"perceived_colour_value_name\"],\n",
    "        value_vars=[\"num_unique_products\", \"num_unique_articles\"],\n",
    "    )\n",
    ")"
   ]
  },
  {
   "cell_type": "code",
   "execution_count": 217,
   "id": "8e3aaf35-8a4b-4bdc-ac73-50363cda0196",
   "metadata": {},
   "outputs": [
    {
     "data": {
      "text/html": [
       "<div>\n",
       "<style scoped>\n",
       "    .dataframe tbody tr th:only-of-type {\n",
       "        vertical-align: middle;\n",
       "    }\n",
       "\n",
       "    .dataframe tbody tr th {\n",
       "        vertical-align: top;\n",
       "    }\n",
       "\n",
       "    .dataframe thead th {\n",
       "        text-align: right;\n",
       "    }\n",
       "</style>\n",
       "<table border=\"1\" class=\"dataframe\">\n",
       "  <thead>\n",
       "    <tr style=\"text-align: right;\">\n",
       "      <th></th>\n",
       "      <th>perceived_colour_value_id</th>\n",
       "      <th>perceived_colour_value_name</th>\n",
       "      <th>variable</th>\n",
       "      <th>value</th>\n",
       "    </tr>\n",
       "  </thead>\n",
       "  <tbody>\n",
       "    <tr>\n",
       "      <th>0</th>\n",
       "      <td>-1</td>\n",
       "      <td>Unknown</td>\n",
       "      <td>num_unique_products</td>\n",
       "      <td>21</td>\n",
       "    </tr>\n",
       "    <tr>\n",
       "      <th>1</th>\n",
       "      <td>1</td>\n",
       "      <td>Dusty Light</td>\n",
       "      <td>num_unique_products</td>\n",
       "      <td>16052</td>\n",
       "    </tr>\n",
       "    <tr>\n",
       "      <th>2</th>\n",
       "      <td>2</td>\n",
       "      <td>Medium Dusty</td>\n",
       "      <td>num_unique_products</td>\n",
       "      <td>9833</td>\n",
       "    </tr>\n",
       "    <tr>\n",
       "      <th>3</th>\n",
       "      <td>3</td>\n",
       "      <td>Light</td>\n",
       "      <td>num_unique_products</td>\n",
       "      <td>11510</td>\n",
       "    </tr>\n",
       "    <tr>\n",
       "      <th>4</th>\n",
       "      <td>4</td>\n",
       "      <td>Dark</td>\n",
       "      <td>num_unique_products</td>\n",
       "      <td>27970</td>\n",
       "    </tr>\n",
       "    <tr>\n",
       "      <th>5</th>\n",
       "      <td>5</td>\n",
       "      <td>Bright</td>\n",
       "      <td>num_unique_products</td>\n",
       "      <td>5433</td>\n",
       "    </tr>\n",
       "    <tr>\n",
       "      <th>6</th>\n",
       "      <td>6</td>\n",
       "      <td>Undefined</td>\n",
       "      <td>num_unique_products</td>\n",
       "      <td>96</td>\n",
       "    </tr>\n",
       "    <tr>\n",
       "      <th>7</th>\n",
       "      <td>7</td>\n",
       "      <td>Medium</td>\n",
       "      <td>num_unique_products</td>\n",
       "      <td>4776</td>\n",
       "    </tr>\n",
       "    <tr>\n",
       "      <th>8</th>\n",
       "      <td>-1</td>\n",
       "      <td>Unknown</td>\n",
       "      <td>num_unique_articles</td>\n",
       "      <td>28</td>\n",
       "    </tr>\n",
       "    <tr>\n",
       "      <th>9</th>\n",
       "      <td>1</td>\n",
       "      <td>Dusty Light</td>\n",
       "      <td>num_unique_articles</td>\n",
       "      <td>22152</td>\n",
       "    </tr>\n",
       "    <tr>\n",
       "      <th>10</th>\n",
       "      <td>2</td>\n",
       "      <td>Medium Dusty</td>\n",
       "      <td>num_unique_articles</td>\n",
       "      <td>12630</td>\n",
       "    </tr>\n",
       "    <tr>\n",
       "      <th>11</th>\n",
       "      <td>3</td>\n",
       "      <td>Light</td>\n",
       "      <td>num_unique_articles</td>\n",
       "      <td>15739</td>\n",
       "    </tr>\n",
       "    <tr>\n",
       "      <th>12</th>\n",
       "      <td>4</td>\n",
       "      <td>Dark</td>\n",
       "      <td>num_unique_articles</td>\n",
       "      <td>42706</td>\n",
       "    </tr>\n",
       "    <tr>\n",
       "      <th>13</th>\n",
       "      <td>5</td>\n",
       "      <td>Bright</td>\n",
       "      <td>num_unique_articles</td>\n",
       "      <td>6471</td>\n",
       "    </tr>\n",
       "    <tr>\n",
       "      <th>14</th>\n",
       "      <td>6</td>\n",
       "      <td>Undefined</td>\n",
       "      <td>num_unique_articles</td>\n",
       "      <td>105</td>\n",
       "    </tr>\n",
       "    <tr>\n",
       "      <th>15</th>\n",
       "      <td>7</td>\n",
       "      <td>Medium</td>\n",
       "      <td>num_unique_articles</td>\n",
       "      <td>5711</td>\n",
       "    </tr>\n",
       "  </tbody>\n",
       "</table>\n",
       "</div>"
      ],
      "text/plain": [
       "    perceived_colour_value_id perceived_colour_value_name  \\\n",
       "0                          -1                     Unknown   \n",
       "1                           1                 Dusty Light   \n",
       "2                           2                Medium Dusty   \n",
       "3                           3                       Light   \n",
       "4                           4                        Dark   \n",
       "5                           5                      Bright   \n",
       "6                           6                   Undefined   \n",
       "7                           7                      Medium   \n",
       "8                          -1                     Unknown   \n",
       "9                           1                 Dusty Light   \n",
       "10                          2                Medium Dusty   \n",
       "11                          3                       Light   \n",
       "12                          4                        Dark   \n",
       "13                          5                      Bright   \n",
       "14                          6                   Undefined   \n",
       "15                          7                      Medium   \n",
       "\n",
       "               variable  value  \n",
       "0   num_unique_products     21  \n",
       "1   num_unique_products  16052  \n",
       "2   num_unique_products   9833  \n",
       "3   num_unique_products  11510  \n",
       "4   num_unique_products  27970  \n",
       "5   num_unique_products   5433  \n",
       "6   num_unique_products     96  \n",
       "7   num_unique_products   4776  \n",
       "8   num_unique_articles     28  \n",
       "9   num_unique_articles  22152  \n",
       "10  num_unique_articles  12630  \n",
       "11  num_unique_articles  15739  \n",
       "12  num_unique_articles  42706  \n",
       "13  num_unique_articles   6471  \n",
       "14  num_unique_articles    105  \n",
       "15  num_unique_articles   5711  "
      ]
     },
     "execution_count": 217,
     "metadata": {},
     "output_type": "execute_result"
    }
   ],
   "source": [
    "df_perc_colors_value"
   ]
  },
  {
   "cell_type": "code",
   "execution_count": 219,
   "id": "b9b628cf-b806-4aec-bbfd-c3f9200ddaa1",
   "metadata": {},
   "outputs": [
    {
     "data": {
      "application/vnd.vegalite.v4+json": {
       "$schema": "https://vega.github.io/schema/vega-lite/v4.17.0.json",
       "config": {
        "view": {
         "continuousHeight": 300,
         "continuousWidth": 400
        }
       },
       "data": {
        "name": "data-49886050ad69bb63833124756acaaae1"
       },
       "datasets": {
        "data-49886050ad69bb63833124756acaaae1": [
         {
          "perceived_colour_value_id": -1,
          "perceived_colour_value_name": "Unknown",
          "value": 21,
          "variable": "num_unique_products"
         },
         {
          "perceived_colour_value_id": 1,
          "perceived_colour_value_name": "Dusty Light",
          "value": 16052,
          "variable": "num_unique_products"
         },
         {
          "perceived_colour_value_id": 2,
          "perceived_colour_value_name": "Medium Dusty",
          "value": 9833,
          "variable": "num_unique_products"
         },
         {
          "perceived_colour_value_id": 3,
          "perceived_colour_value_name": "Light",
          "value": 11510,
          "variable": "num_unique_products"
         },
         {
          "perceived_colour_value_id": 4,
          "perceived_colour_value_name": "Dark",
          "value": 27970,
          "variable": "num_unique_products"
         },
         {
          "perceived_colour_value_id": 5,
          "perceived_colour_value_name": "Bright",
          "value": 5433,
          "variable": "num_unique_products"
         },
         {
          "perceived_colour_value_id": 6,
          "perceived_colour_value_name": "Undefined",
          "value": 96,
          "variable": "num_unique_products"
         },
         {
          "perceived_colour_value_id": 7,
          "perceived_colour_value_name": "Medium",
          "value": 4776,
          "variable": "num_unique_products"
         },
         {
          "perceived_colour_value_id": -1,
          "perceived_colour_value_name": "Unknown",
          "value": 28,
          "variable": "num_unique_articles"
         },
         {
          "perceived_colour_value_id": 1,
          "perceived_colour_value_name": "Dusty Light",
          "value": 22152,
          "variable": "num_unique_articles"
         },
         {
          "perceived_colour_value_id": 2,
          "perceived_colour_value_name": "Medium Dusty",
          "value": 12630,
          "variable": "num_unique_articles"
         },
         {
          "perceived_colour_value_id": 3,
          "perceived_colour_value_name": "Light",
          "value": 15739,
          "variable": "num_unique_articles"
         },
         {
          "perceived_colour_value_id": 4,
          "perceived_colour_value_name": "Dark",
          "value": 42706,
          "variable": "num_unique_articles"
         },
         {
          "perceived_colour_value_id": 5,
          "perceived_colour_value_name": "Bright",
          "value": 6471,
          "variable": "num_unique_articles"
         },
         {
          "perceived_colour_value_id": 6,
          "perceived_colour_value_name": "Undefined",
          "value": 105,
          "variable": "num_unique_articles"
         },
         {
          "perceived_colour_value_id": 7,
          "perceived_colour_value_name": "Medium",
          "value": 5711,
          "variable": "num_unique_articles"
         }
        ]
       },
       "encoding": {
        "column": {
         "field": "variable",
         "type": "nominal"
        },
        "tooltip": [
         {
          "field": "perceived_colour_value_id",
          "type": "quantitative"
         }
        ],
        "x": {
         "field": "value",
         "type": "quantitative"
        },
        "y": {
         "field": "perceived_colour_value_name",
         "sort": "-x",
         "type": "nominal"
        }
       },
       "mark": "bar"
      },
      "image/png": "[encoded data removed]",
      "text/plain": [
       "<VegaLite 4 object>\n",
       "\n",
       "If you see this message, it means the renderer has not been properly enabled\n",
       "for the frontend that you are using. For more information, see\n",
       "https://altair-viz.github.io/user_guide/troubleshooting.html\n"
      ]
     },
     "execution_count": 219,
     "metadata": {},
     "output_type": "execute_result"
    }
   ],
   "source": [
    "alt.Chart(df_perc_colors_value).mark_bar().encode(\n",
    "    y=alt.Y(\"perceived_colour_value_name\", sort=\"-x\"),\n",
    "    x=\"value\",\n",
    "    tooltip=[\"perceived_colour_value_id\"],\n",
    "    column=\"variable\",\n",
    ")"
   ]
  },
  {
   "cell_type": "markdown",
   "id": "e98772f7-7b23-4c84-902d-2daf654dc8e0",
   "metadata": {},
   "source": [
    "## Perceived Colors (Master)"
   ]
  },
  {
   "cell_type": "code",
   "execution_count": 190,
   "id": "e4c6d96e-32aa-46a6-8004-04cb0fde2565",
   "metadata": {},
   "outputs": [],
   "source": [
    "df_perc_colors_master = (\n",
    "    df.groupby([\"perceived_colour_master_id\", \"perceived_colour_master_name\"])\n",
    "    .agg(\n",
    "        num_unique_products=(\"product_code\", \"nunique\"),\n",
    "        num_unique_articles=(\"article_id\", \"nunique\"),\n",
    "    )\n",
    "    .reset_index()\n",
    "    .melt(\n",
    "        id_vars=[\"perceived_colour_master_id\", \"perceived_colour_master_name\"],\n",
    "        value_vars=[\"num_unique_products\", \"num_unique_articles\"],\n",
    "    )\n",
    ")"
   ]
  },
  {
   "cell_type": "code",
   "execution_count": 191,
   "id": "3d7a5828-b302-4527-9ced-b043fcf7bd49",
   "metadata": {},
   "outputs": [
    {
     "data": {
      "application/vnd.vegalite.v4+json": {
       "$schema": "https://vega.github.io/schema/vega-lite/v4.17.0.json",
       "config": {
        "view": {
         "continuousHeight": 300,
         "continuousWidth": 400
        }
       },
       "data": {
        "name": "data-7e60d6b155f991cc168f4f36df50a1d1"
       },
       "datasets": {
        "data-7e60d6b155f991cc168f4f36df50a1d1": [
         {
          "perceived_colour_master_id": -1,
          "perceived_colour_master_name": "Unknown",
          "value": 656,
          "variable": "num_unique_products"
         },
         {
          "perceived_colour_master_id": 1,
          "perceived_colour_master_name": "Mole",
          "value": 1164,
          "variable": "num_unique_products"
         },
         {
          "perceived_colour_master_id": 2,
          "perceived_colour_master_name": "Blue",
          "value": 13189,
          "variable": "num_unique_products"
         },
         {
          "perceived_colour_master_id": 3,
          "perceived_colour_master_name": "Orange",
          "value": 2522,
          "variable": "num_unique_products"
         },
         {
          "perceived_colour_master_id": 4,
          "perceived_colour_master_name": "Pink",
          "value": 7765,
          "variable": "num_unique_products"
         },
         {
          "perceived_colour_master_id": 5,
          "perceived_colour_master_name": "Black",
          "value": 19197,
          "variable": "num_unique_products"
         },
         {
          "perceived_colour_master_id": 6,
          "perceived_colour_master_name": "Lilac Purple",
          "value": 1042,
          "variable": "num_unique_products"
         },
         {
          "perceived_colour_master_id": 7,
          "perceived_colour_master_name": "Turquoise",
          "value": 1662,
          "variable": "num_unique_products"
         },
         {
          "perceived_colour_master_id": 8,
          "perceived_colour_master_name": "Yellow",
          "value": 2809,
          "variable": "num_unique_products"
         },
         {
          "perceived_colour_master_id": 9,
          "perceived_colour_master_name": "White",
          "value": 10435,
          "variable": "num_unique_products"
         },
         {
          "perceived_colour_master_id": 10,
          "perceived_colour_master_name": "Yellowish Green",
          "value": 5,
          "variable": "num_unique_products"
         },
         {
          "perceived_colour_master_id": 11,
          "perceived_colour_master_name": "Beige",
          "value": 5098,
          "variable": "num_unique_products"
         },
         {
          "perceived_colour_master_id": 12,
          "perceived_colour_master_name": "Grey",
          "value": 6975,
          "variable": "num_unique_products"
         },
         {
          "perceived_colour_master_id": 13,
          "perceived_colour_master_name": "Brown",
          "value": 2074,
          "variable": "num_unique_products"
         },
         {
          "perceived_colour_master_id": 14,
          "perceived_colour_master_name": "undefined",
          "value": 96,
          "variable": "num_unique_products"
         },
         {
          "perceived_colour_master_id": 15,
          "perceived_colour_master_name": "Metal",
          "value": 1801,
          "variable": "num_unique_products"
         },
         {
          "perceived_colour_master_id": 16,
          "perceived_colour_master_name": "Bluish Green",
          "value": 2,
          "variable": "num_unique_products"
         },
         {
          "perceived_colour_master_id": 18,
          "perceived_colour_master_name": "Red",
          "value": 5117,
          "variable": "num_unique_products"
         },
         {
          "perceived_colour_master_id": 19,
          "perceived_colour_master_name": "Green",
          "value": 3122,
          "variable": "num_unique_products"
         },
         {
          "perceived_colour_master_id": 20,
          "perceived_colour_master_name": "Khaki green",
          "value": 2890,
          "variable": "num_unique_products"
         },
         {
          "perceived_colour_master_id": -1,
          "perceived_colour_master_name": "Unknown",
          "value": 685,
          "variable": "num_unique_articles"
         },
         {
          "perceived_colour_master_id": 1,
          "perceived_colour_master_name": "Mole",
          "value": 1223,
          "variable": "num_unique_articles"
         },
         {
          "perceived_colour_master_id": 2,
          "perceived_colour_master_name": "Blue",
          "value": 18469,
          "variable": "num_unique_articles"
         },
         {
          "perceived_colour_master_id": 3,
          "perceived_colour_master_name": "Orange",
          "value": 2734,
          "variable": "num_unique_articles"
         },
         {
          "perceived_colour_master_id": 4,
          "perceived_colour_master_name": "Pink",
          "value": 9403,
          "variable": "num_unique_articles"
         },
         {
          "perceived_colour_master_id": 5,
          "perceived_colour_master_name": "Black",
          "value": 22585,
          "variable": "num_unique_articles"
         },
         {
          "perceived_colour_master_id": 6,
          "perceived_colour_master_name": "Lilac Purple",
          "value": 1100,
          "variable": "num_unique_articles"
         },
         {
          "perceived_colour_master_id": 7,
          "perceived_colour_master_name": "Turquoise",
          "value": 1829,
          "variable": "num_unique_articles"
         },
         {
          "perceived_colour_master_id": 8,
          "perceived_colour_master_name": "Yellow",
          "value": 3121,
          "variable": "num_unique_articles"
         },
         {
          "perceived_colour_master_id": 9,
          "perceived_colour_master_name": "White",
          "value": 12665,
          "variable": "num_unique_articles"
         },
         {
          "perceived_colour_master_id": 10,
          "perceived_colour_master_name": "Yellowish Green",
          "value": 5,
          "variable": "num_unique_articles"
         },
         {
          "perceived_colour_master_id": 11,
          "perceived_colour_master_name": "Beige",
          "value": 5657,
          "variable": "num_unique_articles"
         },
         {
          "perceived_colour_master_id": 12,
          "perceived_colour_master_name": "Grey",
          "value": 8924,
          "variable": "num_unique_articles"
         },
         {
          "perceived_colour_master_id": 13,
          "perceived_colour_master_name": "Brown",
          "value": 2269,
          "variable": "num_unique_articles"
         },
         {
          "perceived_colour_master_id": 14,
          "perceived_colour_master_name": "undefined",
          "value": 105,
          "variable": "num_unique_articles"
         },
         {
          "perceived_colour_master_id": 15,
          "perceived_colour_master_name": "Metal",
          "value": 2180,
          "variable": "num_unique_articles"
         },
         {
          "perceived_colour_master_id": 16,
          "perceived_colour_master_name": "Bluish Green",
          "value": 3,
          "variable": "num_unique_articles"
         },
         {
          "perceived_colour_master_id": 18,
          "perceived_colour_master_name": "Red",
          "value": 5878,
          "variable": "num_unique_articles"
         },
         {
          "perceived_colour_master_id": 19,
          "perceived_colour_master_name": "Green",
          "value": 3526,
          "variable": "num_unique_articles"
         },
         {
          "perceived_colour_master_id": 20,
          "perceived_colour_master_name": "Khaki green",
          "value": 3181,
          "variable": "num_unique_articles"
         }
        ]
       },
       "encoding": {
        "column": {
         "field": "variable",
         "type": "nominal"
        },
        "x": {
         "field": "value",
         "type": "quantitative"
        },
        "y": {
         "field": "perceived_colour_master_name",
         "sort": "-x",
         "type": "nominal"
        }
       },
       "mark": "bar"
      },
      "image/png": "[encoded data removed]",
      "text/plain": [
       "<VegaLite 4 object>\n",
       "\n",
       "If you see this message, it means the renderer has not been properly enabled\n",
       "for the frontend that you are using. For more information, see\n",
       "https://altair-viz.github.io/user_guide/troubleshooting.html\n"
      ]
     },
     "execution_count": 191,
     "metadata": {},
     "output_type": "execute_result"
    }
   ],
   "source": [
    "alt.Chart(df_perc_colors_master).mark_bar().encode(\n",
    "    y=alt.Y(\"perceived_colour_master_name\", sort=\"-x\"), x=\"value\", column=\"variable\"\n",
    ")"
   ]
  },
  {
   "cell_type": "markdown",
   "id": "5c017dab-587c-4414-9250-7c22a1c45291",
   "metadata": {},
   "source": [
    "## Department"
   ]
  },
  {
   "cell_type": "code",
   "execution_count": 192,
   "id": "3488a13a-7934-48e3-b073-c92f84208a83",
   "metadata": {},
   "outputs": [],
   "source": [
    "df_department = (\n",
    "    df.groupby([\"department_no\", \"department_name\"])\n",
    "    .agg(\n",
    "        num_unique_products=(\"product_code\", \"nunique\"),\n",
    "        num_unique_articles=(\"article_id\", \"nunique\"),\n",
    "    )\n",
    "    .sort_values(\"num_unique_articles\", ascending=False)\n",
    ")"
   ]
  },
  {
   "cell_type": "code",
   "execution_count": 193,
   "id": "53c449fa-3106-4023-834c-bdbce12af31a",
   "metadata": {},
   "outputs": [
    {
     "data": {
      "text/html": [
       "<div>\n",
       "<style scoped>\n",
       "    .dataframe tbody tr th:only-of-type {\n",
       "        vertical-align: middle;\n",
       "    }\n",
       "\n",
       "    .dataframe tbody tr th {\n",
       "        vertical-align: top;\n",
       "    }\n",
       "\n",
       "    .dataframe thead th {\n",
       "        text-align: right;\n",
       "    }\n",
       "</style>\n",
       "<table border=\"1\" class=\"dataframe\">\n",
       "  <thead>\n",
       "    <tr style=\"text-align: right;\">\n",
       "      <th></th>\n",
       "      <th></th>\n",
       "      <th>num_unique_products</th>\n",
       "      <th>num_unique_articles</th>\n",
       "    </tr>\n",
       "    <tr>\n",
       "      <th>department_no</th>\n",
       "      <th>department_name</th>\n",
       "      <th></th>\n",
       "      <th></th>\n",
       "    </tr>\n",
       "  </thead>\n",
       "  <tbody>\n",
       "    <tr>\n",
       "      <th>7616</th>\n",
       "      <th>Kids Girl Jersey Fancy</th>\n",
       "      <td>676</td>\n",
       "      <td>2032</td>\n",
       "    </tr>\n",
       "    <tr>\n",
       "      <th>1338</th>\n",
       "      <th>Expressive Lingerie</th>\n",
       "      <td>829</td>\n",
       "      <td>1921</td>\n",
       "    </tr>\n",
       "    <tr>\n",
       "      <th>8716</th>\n",
       "      <th>Young Girl Jersey Fancy</th>\n",
       "      <td>591</td>\n",
       "      <td>1874</td>\n",
       "    </tr>\n",
       "    <tr>\n",
       "      <th>4242</th>\n",
       "      <th>Swimwear</th>\n",
       "      <td>801</td>\n",
       "      <td>1839</td>\n",
       "    </tr>\n",
       "    <tr>\n",
       "      <th>7648</th>\n",
       "      <th>Kids Boy Jersey Fancy</th>\n",
       "      <td>498</td>\n",
       "      <td>1488</td>\n",
       "    </tr>\n",
       "    <tr>\n",
       "      <th>1640</th>\n",
       "      <th>Tops Fancy Jersey</th>\n",
       "      <td>570</td>\n",
       "      <td>1429</td>\n",
       "    </tr>\n",
       "    <tr>\n",
       "      <th>1636</th>\n",
       "      <th>Jersey fancy</th>\n",
       "      <td>580</td>\n",
       "      <td>1402</td>\n",
       "    </tr>\n",
       "    <tr>\n",
       "      <th>1676</th>\n",
       "      <th>Jersey Basic</th>\n",
       "      <td>426</td>\n",
       "      <td>1359</td>\n",
       "    </tr>\n",
       "    <tr>\n",
       "      <th>1344</th>\n",
       "      <th>Dresses</th>\n",
       "      <td>598</td>\n",
       "      <td>1354</td>\n",
       "    </tr>\n",
       "    <tr>\n",
       "      <th>1643</th>\n",
       "      <th>Basic 1</th>\n",
       "      <td>286</td>\n",
       "      <td>1339</td>\n",
       "    </tr>\n",
       "  </tbody>\n",
       "</table>\n",
       "</div>"
      ],
      "text/plain": [
       "                                       num_unique_products  \\\n",
       "department_no department_name                                \n",
       "7616          Kids Girl Jersey Fancy                   676   \n",
       "1338          Expressive Lingerie                      829   \n",
       "8716          Young Girl Jersey Fancy                  591   \n",
       "4242          Swimwear                                 801   \n",
       "7648          Kids Boy Jersey Fancy                    498   \n",
       "1640          Tops Fancy Jersey                        570   \n",
       "1636          Jersey fancy                             580   \n",
       "1676          Jersey Basic                             426   \n",
       "1344          Dresses                                  598   \n",
       "1643          Basic 1                                  286   \n",
       "\n",
       "                                       num_unique_articles  \n",
       "department_no department_name                               \n",
       "7616          Kids Girl Jersey Fancy                  2032  \n",
       "1338          Expressive Lingerie                     1921  \n",
       "8716          Young Girl Jersey Fancy                 1874  \n",
       "4242          Swimwear                                1839  \n",
       "7648          Kids Boy Jersey Fancy                   1488  \n",
       "1640          Tops Fancy Jersey                       1429  \n",
       "1636          Jersey fancy                            1402  \n",
       "1676          Jersey Basic                            1359  \n",
       "1344          Dresses                                 1354  \n",
       "1643          Basic 1                                 1339  "
      ]
     },
     "execution_count": 193,
     "metadata": {},
     "output_type": "execute_result"
    }
   ],
   "source": [
    "df_department.head(10)"
   ]
  },
  {
   "cell_type": "code",
   "execution_count": 194,
   "id": "29b7d0d8-563d-4ae2-b824-6f6643df6813",
   "metadata": {},
   "outputs": [
    {
     "data": {
      "text/html": [
       "<div>\n",
       "<style scoped>\n",
       "    .dataframe tbody tr th:only-of-type {\n",
       "        vertical-align: middle;\n",
       "    }\n",
       "\n",
       "    .dataframe tbody tr th {\n",
       "        vertical-align: top;\n",
       "    }\n",
       "\n",
       "    .dataframe thead th {\n",
       "        text-align: right;\n",
       "    }\n",
       "</style>\n",
       "<table border=\"1\" class=\"dataframe\">\n",
       "  <thead>\n",
       "    <tr style=\"text-align: right;\">\n",
       "      <th></th>\n",
       "      <th></th>\n",
       "      <th>num_unique_products</th>\n",
       "      <th>num_unique_articles</th>\n",
       "    </tr>\n",
       "    <tr>\n",
       "      <th>department_no</th>\n",
       "      <th>department_name</th>\n",
       "      <th></th>\n",
       "      <th></th>\n",
       "    </tr>\n",
       "  </thead>\n",
       "  <tbody>\n",
       "    <tr>\n",
       "      <th>2932</th>\n",
       "      <th>Baby Boy Local Relevance</th>\n",
       "      <td>1</td>\n",
       "      <td>3</td>\n",
       "    </tr>\n",
       "    <tr>\n",
       "      <th>1727</th>\n",
       "      <th>Test Ladies</th>\n",
       "      <td>2</td>\n",
       "      <td>3</td>\n",
       "    </tr>\n",
       "    <tr>\n",
       "      <th>5454</th>\n",
       "      <th>Suit Extended inactive from s1</th>\n",
       "      <td>3</td>\n",
       "      <td>3</td>\n",
       "    </tr>\n",
       "    <tr>\n",
       "      <th>3939</th>\n",
       "      <th>Shoes Other</th>\n",
       "      <td>2</td>\n",
       "      <td>2</td>\n",
       "    </tr>\n",
       "    <tr>\n",
       "      <th>1620</th>\n",
       "      <th>Jersey inactive from S.6</th>\n",
       "      <td>1</td>\n",
       "      <td>1</td>\n",
       "    </tr>\n",
       "    <tr>\n",
       "      <th>5787</th>\n",
       "      <th>Shirt Extended inactive from s1</th>\n",
       "      <td>1</td>\n",
       "      <td>1</td>\n",
       "    </tr>\n",
       "    <tr>\n",
       "      <th>8398</th>\n",
       "      <th>Woven bottoms inactive from S.7</th>\n",
       "      <td>1</td>\n",
       "      <td>1</td>\n",
       "    </tr>\n",
       "    <tr>\n",
       "      <th>3943</th>\n",
       "      <th>EQ Divided Blue</th>\n",
       "      <td>1</td>\n",
       "      <td>1</td>\n",
       "    </tr>\n",
       "    <tr>\n",
       "      <th>7659</th>\n",
       "      <th>Kids Boy License</th>\n",
       "      <td>1</td>\n",
       "      <td>1</td>\n",
       "    </tr>\n",
       "    <tr>\n",
       "      <th>3931</th>\n",
       "      <th>Accessories Other</th>\n",
       "      <td>1</td>\n",
       "      <td>1</td>\n",
       "    </tr>\n",
       "  </tbody>\n",
       "</table>\n",
       "</div>"
      ],
      "text/plain": [
       "                                               num_unique_products  \\\n",
       "department_no department_name                                        \n",
       "2932          Baby Boy Local Relevance                           1   \n",
       "1727          Test Ladies                                        2   \n",
       "5454          Suit Extended inactive from s1                     3   \n",
       "3939          Shoes Other                                        2   \n",
       "1620          Jersey inactive from S.6                           1   \n",
       "5787          Shirt Extended inactive from s1                    1   \n",
       "8398          Woven bottoms inactive from S.7                    1   \n",
       "3943          EQ Divided Blue                                    1   \n",
       "7659          Kids Boy License                                   1   \n",
       "3931          Accessories Other                                  1   \n",
       "\n",
       "                                               num_unique_articles  \n",
       "department_no department_name                                       \n",
       "2932          Baby Boy Local Relevance                           3  \n",
       "1727          Test Ladies                                        3  \n",
       "5454          Suit Extended inactive from s1                     3  \n",
       "3939          Shoes Other                                        2  \n",
       "1620          Jersey inactive from S.6                           1  \n",
       "5787          Shirt Extended inactive from s1                    1  \n",
       "8398          Woven bottoms inactive from S.7                    1  \n",
       "3943          EQ Divided Blue                                    1  \n",
       "7659          Kids Boy License                                   1  \n",
       "3931          Accessories Other                                  1  "
      ]
     },
     "execution_count": 194,
     "metadata": {},
     "output_type": "execute_result"
    }
   ],
   "source": [
    "df_department.tail(10)"
   ]
  },
  {
   "cell_type": "markdown",
   "id": "c5d8fcd3-1649-467a-8e28-154556867c0e",
   "metadata": {},
   "source": [
    "## Index"
   ]
  },
  {
   "cell_type": "code",
   "execution_count": 197,
   "id": "04b399a4-db09-455b-a195-f5b9568be8d4",
   "metadata": {},
   "outputs": [],
   "source": [
    "df_index = (\n",
    "    df.groupby([\"index_code\", \"index_name\"])\n",
    "    .agg(\n",
    "        num_unique_products=(\"product_code\", \"nunique\"),\n",
    "        num_unique_articles=(\"article_id\", \"nunique\"),\n",
    "    )\n",
    "    .sort_values(\"num_unique_articles\", ascending=False)\n",
    ")"
   ]
  },
  {
   "cell_type": "code",
   "execution_count": 198,
   "id": "cb7e5998-d5c5-40cb-81d2-adc214dea8d5",
   "metadata": {},
   "outputs": [
    {
     "data": {
      "text/html": [
       "<div>\n",
       "<style scoped>\n",
       "    .dataframe tbody tr th:only-of-type {\n",
       "        vertical-align: middle;\n",
       "    }\n",
       "\n",
       "    .dataframe tbody tr th {\n",
       "        vertical-align: top;\n",
       "    }\n",
       "\n",
       "    .dataframe thead th {\n",
       "        text-align: right;\n",
       "    }\n",
       "</style>\n",
       "<table border=\"1\" class=\"dataframe\">\n",
       "  <thead>\n",
       "    <tr style=\"text-align: right;\">\n",
       "      <th></th>\n",
       "      <th></th>\n",
       "      <th>num_unique_products</th>\n",
       "      <th>num_unique_articles</th>\n",
       "    </tr>\n",
       "    <tr>\n",
       "      <th>index_code</th>\n",
       "      <th>index_name</th>\n",
       "      <th></th>\n",
       "      <th></th>\n",
       "    </tr>\n",
       "  </thead>\n",
       "  <tbody>\n",
       "    <tr>\n",
       "      <th>A</th>\n",
       "      <th>Ladieswear</th>\n",
       "      <td>13457</td>\n",
       "      <td>26001</td>\n",
       "    </tr>\n",
       "    <tr>\n",
       "      <th>D</th>\n",
       "      <th>Divided</th>\n",
       "      <td>6808</td>\n",
       "      <td>15149</td>\n",
       "    </tr>\n",
       "    <tr>\n",
       "      <th>F</th>\n",
       "      <th>Menswear</th>\n",
       "      <td>4429</td>\n",
       "      <td>12553</td>\n",
       "    </tr>\n",
       "    <tr>\n",
       "      <th>H</th>\n",
       "      <th>Children Sizes 92-140</th>\n",
       "      <td>4237</td>\n",
       "      <td>12007</td>\n",
       "    </tr>\n",
       "    <tr>\n",
       "      <th>I</th>\n",
       "      <th>Children Sizes 134-170</th>\n",
       "      <td>3237</td>\n",
       "      <td>9214</td>\n",
       "    </tr>\n",
       "    <tr>\n",
       "      <th>G</th>\n",
       "      <th>Baby Sizes 50-98</th>\n",
       "      <td>3995</td>\n",
       "      <td>8875</td>\n",
       "    </tr>\n",
       "    <tr>\n",
       "      <th>C</th>\n",
       "      <th>Ladies Accessories</th>\n",
       "      <td>4002</td>\n",
       "      <td>6961</td>\n",
       "    </tr>\n",
       "    <tr>\n",
       "      <th>B</th>\n",
       "      <th>Lingeries/Tights</th>\n",
       "      <td>2917</td>\n",
       "      <td>6775</td>\n",
       "    </tr>\n",
       "    <tr>\n",
       "      <th>J</th>\n",
       "      <th>Children Accessories, Swimwear</th>\n",
       "      <td>2779</td>\n",
       "      <td>4615</td>\n",
       "    </tr>\n",
       "    <tr>\n",
       "      <th>S</th>\n",
       "      <th>Sport</th>\n",
       "      <td>1463</td>\n",
       "      <td>3392</td>\n",
       "    </tr>\n",
       "  </tbody>\n",
       "</table>\n",
       "</div>"
      ],
      "text/plain": [
       "                                           num_unique_products  \\\n",
       "index_code index_name                                            \n",
       "A          Ladieswear                                    13457   \n",
       "D          Divided                                        6808   \n",
       "F          Menswear                                       4429   \n",
       "H          Children Sizes 92-140                          4237   \n",
       "I          Children Sizes 134-170                         3237   \n",
       "G          Baby Sizes 50-98                               3995   \n",
       "C          Ladies Accessories                             4002   \n",
       "B          Lingeries/Tights                               2917   \n",
       "J          Children Accessories, Swimwear                 2779   \n",
       "S          Sport                                          1463   \n",
       "\n",
       "                                           num_unique_articles  \n",
       "index_code index_name                                           \n",
       "A          Ladieswear                                    26001  \n",
       "D          Divided                                       15149  \n",
       "F          Menswear                                      12553  \n",
       "H          Children Sizes 92-140                         12007  \n",
       "I          Children Sizes 134-170                         9214  \n",
       "G          Baby Sizes 50-98                               8875  \n",
       "C          Ladies Accessories                             6961  \n",
       "B          Lingeries/Tights                               6775  \n",
       "J          Children Accessories, Swimwear                 4615  \n",
       "S          Sport                                          3392  "
      ]
     },
     "execution_count": 198,
     "metadata": {},
     "output_type": "execute_result"
    }
   ],
   "source": [
    "df_index"
   ]
  },
  {
   "cell_type": "markdown",
   "id": "4a33d83e-f646-4e9b-82af-3d465086d344",
   "metadata": {},
   "source": [
    "## Index Group"
   ]
  },
  {
   "cell_type": "code",
   "execution_count": 199,
   "id": "f5e59646-0646-4883-bbba-b5f2a1faba11",
   "metadata": {},
   "outputs": [],
   "source": [
    "df_index_group = (\n",
    "    df.groupby([\"index_group_no\", \"index_group_name\"])\n",
    "    .agg(\n",
    "        num_unique_products=(\"product_code\", \"nunique\"),\n",
    "        num_unique_articles=(\"article_id\", \"nunique\"),\n",
    "        num_unique_index_codes=(\"index_code\", \"unique\"),\n",
    "        num_unique_index_names=(\"index_name\", \"unique\"),\n",
    "    )\n",
    "    .sort_values(\"num_unique_articles\", ascending=False)\n",
    ")"
   ]
  },
  {
   "cell_type": "code",
   "execution_count": 200,
   "id": "4f296601-a6bc-4ada-8060-2f7977650761",
   "metadata": {},
   "outputs": [
    {
     "data": {
      "text/html": [
       "<div>\n",
       "<style scoped>\n",
       "    .dataframe tbody tr th:only-of-type {\n",
       "        vertical-align: middle;\n",
       "    }\n",
       "\n",
       "    .dataframe tbody tr th {\n",
       "        vertical-align: top;\n",
       "    }\n",
       "\n",
       "    .dataframe thead th {\n",
       "        text-align: right;\n",
       "    }\n",
       "</style>\n",
       "<table border=\"1\" class=\"dataframe\">\n",
       "  <thead>\n",
       "    <tr style=\"text-align: right;\">\n",
       "      <th></th>\n",
       "      <th></th>\n",
       "      <th>num_unique_products</th>\n",
       "      <th>num_unique_articles</th>\n",
       "      <th>num_unique_index_codes</th>\n",
       "      <th>num_unique_index_names</th>\n",
       "    </tr>\n",
       "    <tr>\n",
       "      <th>index_group_no</th>\n",
       "      <th>index_group_name</th>\n",
       "      <th></th>\n",
       "      <th></th>\n",
       "      <th></th>\n",
       "      <th></th>\n",
       "    </tr>\n",
       "  </thead>\n",
       "  <tbody>\n",
       "    <tr>\n",
       "      <th>1</th>\n",
       "      <th>Ladieswear</th>\n",
       "      <td>20373</td>\n",
       "      <td>39737</td>\n",
       "      <td>[A, B, C]</td>\n",
       "      <td>[Ladieswear, Lingeries/Tights, Ladies Accessor...</td>\n",
       "    </tr>\n",
       "    <tr>\n",
       "      <th>4</th>\n",
       "      <th>Baby/Children</th>\n",
       "      <td>14241</td>\n",
       "      <td>34711</td>\n",
       "      <td>[G, H, I, J]</td>\n",
       "      <td>[Baby Sizes 50-98, Children Sizes 92-140, Chil...</td>\n",
       "    </tr>\n",
       "    <tr>\n",
       "      <th>2</th>\n",
       "      <th>Divided</th>\n",
       "      <td>6808</td>\n",
       "      <td>15149</td>\n",
       "      <td>[D]</td>\n",
       "      <td>[Divided]</td>\n",
       "    </tr>\n",
       "    <tr>\n",
       "      <th>3</th>\n",
       "      <th>Menswear</th>\n",
       "      <td>4429</td>\n",
       "      <td>12553</td>\n",
       "      <td>[F]</td>\n",
       "      <td>[Menswear]</td>\n",
       "    </tr>\n",
       "    <tr>\n",
       "      <th>26</th>\n",
       "      <th>Sport</th>\n",
       "      <td>1463</td>\n",
       "      <td>3392</td>\n",
       "      <td>[S]</td>\n",
       "      <td>[Sport]</td>\n",
       "    </tr>\n",
       "  </tbody>\n",
       "</table>\n",
       "</div>"
      ],
      "text/plain": [
       "                                 num_unique_products  num_unique_articles  \\\n",
       "index_group_no index_group_name                                             \n",
       "1              Ladieswear                      20373                39737   \n",
       "4              Baby/Children                   14241                34711   \n",
       "2              Divided                          6808                15149   \n",
       "3              Menswear                         4429                12553   \n",
       "26             Sport                            1463                 3392   \n",
       "\n",
       "                                num_unique_index_codes  \\\n",
       "index_group_no index_group_name                          \n",
       "1              Ladieswear                    [A, B, C]   \n",
       "4              Baby/Children              [G, H, I, J]   \n",
       "2              Divided                             [D]   \n",
       "3              Menswear                            [F]   \n",
       "26             Sport                               [S]   \n",
       "\n",
       "                                                            num_unique_index_names  \n",
       "index_group_no index_group_name                                                     \n",
       "1              Ladieswear        [Ladieswear, Lingeries/Tights, Ladies Accessor...  \n",
       "4              Baby/Children     [Baby Sizes 50-98, Children Sizes 92-140, Chil...  \n",
       "2              Divided                                                   [Divided]  \n",
       "3              Menswear                                                 [Menswear]  \n",
       "26             Sport                                                       [Sport]  "
      ]
     },
     "execution_count": 200,
     "metadata": {},
     "output_type": "execute_result"
    }
   ],
   "source": [
    "df_index_group"
   ]
  },
  {
   "cell_type": "markdown",
   "id": "8c181f45-a6d7-4f38-8527-4e9370b05120",
   "metadata": {},
   "source": [
    "## Garment Group"
   ]
  },
  {
   "cell_type": "code",
   "execution_count": 201,
   "id": "f3acfade-f026-40a4-b23c-14b10456743e",
   "metadata": {},
   "outputs": [],
   "source": [
    "df_garment = (\n",
    "    df.groupby([\"garment_group_no\", \"garment_group_name\"])\n",
    "    .agg(\n",
    "        num_unique_products=(\"product_code\", \"nunique\"),\n",
    "        num_unique_articles=(\"article_id\", \"nunique\"),\n",
    "    )\n",
    "    .sort_values(\"num_unique_articles\", ascending=False)\n",
    ")"
   ]
  },
  {
   "cell_type": "code",
   "execution_count": 202,
   "id": "803083de-a3dd-4f7c-9197-f03a40e3818d",
   "metadata": {},
   "outputs": [
    {
     "data": {
      "text/html": [
       "<div>\n",
       "<style scoped>\n",
       "    .dataframe tbody tr th:only-of-type {\n",
       "        vertical-align: middle;\n",
       "    }\n",
       "\n",
       "    .dataframe tbody tr th {\n",
       "        vertical-align: top;\n",
       "    }\n",
       "\n",
       "    .dataframe thead th {\n",
       "        text-align: right;\n",
       "    }\n",
       "</style>\n",
       "<table border=\"1\" class=\"dataframe\">\n",
       "  <thead>\n",
       "    <tr style=\"text-align: right;\">\n",
       "      <th></th>\n",
       "      <th></th>\n",
       "      <th>num_unique_products</th>\n",
       "      <th>num_unique_articles</th>\n",
       "    </tr>\n",
       "    <tr>\n",
       "      <th>garment_group_no</th>\n",
       "      <th>garment_group_name</th>\n",
       "      <th></th>\n",
       "      <th></th>\n",
       "    </tr>\n",
       "  </thead>\n",
       "  <tbody>\n",
       "    <tr>\n",
       "      <th>1005</th>\n",
       "      <th>Jersey Fancy</th>\n",
       "      <td>8602</td>\n",
       "      <td>21445</td>\n",
       "    </tr>\n",
       "    <tr>\n",
       "      <th>1019</th>\n",
       "      <th>Accessories</th>\n",
       "      <td>6606</td>\n",
       "      <td>11519</td>\n",
       "    </tr>\n",
       "    <tr>\n",
       "      <th>1002</th>\n",
       "      <th>Jersey Basic</th>\n",
       "      <td>1813</td>\n",
       "      <td>8126</td>\n",
       "    </tr>\n",
       "    <tr>\n",
       "      <th>1003</th>\n",
       "      <th>Knitwear</th>\n",
       "      <td>3120</td>\n",
       "      <td>7490</td>\n",
       "    </tr>\n",
       "    <tr>\n",
       "      <th>1017</th>\n",
       "      <th>Under-, Nightwear</th>\n",
       "      <td>2552</td>\n",
       "      <td>7441</td>\n",
       "    </tr>\n",
       "    <tr>\n",
       "      <th>1009</th>\n",
       "      <th>Trousers</th>\n",
       "      <td>3015</td>\n",
       "      <td>6727</td>\n",
       "    </tr>\n",
       "    <tr>\n",
       "      <th>1010</th>\n",
       "      <th>Blouses</th>\n",
       "      <td>3079</td>\n",
       "      <td>5838</td>\n",
       "    </tr>\n",
       "    <tr>\n",
       "      <th>1020</th>\n",
       "      <th>Shoes</th>\n",
       "      <td>2683</td>\n",
       "      <td>5145</td>\n",
       "    </tr>\n",
       "    <tr>\n",
       "      <th>1013</th>\n",
       "      <th>Dresses Ladies</th>\n",
       "      <td>2520</td>\n",
       "      <td>4874</td>\n",
       "    </tr>\n",
       "    <tr>\n",
       "      <th>1007</th>\n",
       "      <th>Outdoor</th>\n",
       "      <td>2462</td>\n",
       "      <td>4501</td>\n",
       "    </tr>\n",
       "    <tr>\n",
       "      <th>1001</th>\n",
       "      <th>Unknown</th>\n",
       "      <td>2538</td>\n",
       "      <td>3873</td>\n",
       "    </tr>\n",
       "    <tr>\n",
       "      <th>1016</th>\n",
       "      <th>Trousers Denim</th>\n",
       "      <td>1367</td>\n",
       "      <td>3100</td>\n",
       "    </tr>\n",
       "    <tr>\n",
       "      <th>1018</th>\n",
       "      <th>Swimwear</th>\n",
       "      <td>1202</td>\n",
       "      <td>2787</td>\n",
       "    </tr>\n",
       "    <tr>\n",
       "      <th>1021</th>\n",
       "      <th>Socks and Tights</th>\n",
       "      <td>634</td>\n",
       "      <td>2272</td>\n",
       "    </tr>\n",
       "    <tr>\n",
       "      <th>1011</th>\n",
       "      <th>Shirts</th>\n",
       "      <td>746</td>\n",
       "      <td>2116</td>\n",
       "    </tr>\n",
       "    <tr>\n",
       "      <th>1006</th>\n",
       "      <th>Woven/Jersey/Knitted mix Baby</th>\n",
       "      <td>1122</td>\n",
       "      <td>1965</td>\n",
       "    </tr>\n",
       "    <tr>\n",
       "      <th>1025</th>\n",
       "      <th>Shorts</th>\n",
       "      <td>520</td>\n",
       "      <td>1559</td>\n",
       "    </tr>\n",
       "    <tr>\n",
       "      <th>1014</th>\n",
       "      <th>Dresses/Skirts girls</th>\n",
       "      <td>815</td>\n",
       "      <td>1541</td>\n",
       "    </tr>\n",
       "    <tr>\n",
       "      <th>1012</th>\n",
       "      <th>Skirts</th>\n",
       "      <td>657</td>\n",
       "      <td>1254</td>\n",
       "    </tr>\n",
       "    <tr>\n",
       "      <th>1023</th>\n",
       "      <th>Special Offers</th>\n",
       "      <td>819</td>\n",
       "      <td>1061</td>\n",
       "    </tr>\n",
       "    <tr>\n",
       "      <th>1008</th>\n",
       "      <th>Dressed</th>\n",
       "      <td>488</td>\n",
       "      <td>908</td>\n",
       "    </tr>\n",
       "  </tbody>\n",
       "</table>\n",
       "</div>"
      ],
      "text/plain": [
       "                                                num_unique_products  \\\n",
       "garment_group_no garment_group_name                                   \n",
       "1005             Jersey Fancy                                  8602   \n",
       "1019             Accessories                                   6606   \n",
       "1002             Jersey Basic                                  1813   \n",
       "1003             Knitwear                                      3120   \n",
       "1017             Under-, Nightwear                             2552   \n",
       "1009             Trousers                                      3015   \n",
       "1010             Blouses                                       3079   \n",
       "1020             Shoes                                         2683   \n",
       "1013             Dresses Ladies                                2520   \n",
       "1007             Outdoor                                       2462   \n",
       "1001             Unknown                                       2538   \n",
       "1016             Trousers Denim                                1367   \n",
       "1018             Swimwear                                      1202   \n",
       "1021             Socks and Tights                               634   \n",
       "1011             Shirts                                         746   \n",
       "1006             Woven/Jersey/Knitted mix Baby                 1122   \n",
       "1025             Shorts                                         520   \n",
       "1014             Dresses/Skirts girls                           815   \n",
       "1012             Skirts                                         657   \n",
       "1023             Special Offers                                 819   \n",
       "1008             Dressed                                        488   \n",
       "\n",
       "                                                num_unique_articles  \n",
       "garment_group_no garment_group_name                                  \n",
       "1005             Jersey Fancy                                 21445  \n",
       "1019             Accessories                                  11519  \n",
       "1002             Jersey Basic                                  8126  \n",
       "1003             Knitwear                                      7490  \n",
       "1017             Under-, Nightwear                             7441  \n",
       "1009             Trousers                                      6727  \n",
       "1010             Blouses                                       5838  \n",
       "1020             Shoes                                         5145  \n",
       "1013             Dresses Ladies                                4874  \n",
       "1007             Outdoor                                       4501  \n",
       "1001             Unknown                                       3873  \n",
       "1016             Trousers Denim                                3100  \n",
       "1018             Swimwear                                      2787  \n",
       "1021             Socks and Tights                              2272  \n",
       "1011             Shirts                                        2116  \n",
       "1006             Woven/Jersey/Knitted mix Baby                 1965  \n",
       "1025             Shorts                                        1559  \n",
       "1014             Dresses/Skirts girls                          1541  \n",
       "1012             Skirts                                        1254  \n",
       "1023             Special Offers                                1061  \n",
       "1008             Dressed                                        908  "
      ]
     },
     "execution_count": 202,
     "metadata": {},
     "output_type": "execute_result"
    }
   ],
   "source": [
    "df_garment"
   ]
  },
  {
   "cell_type": "markdown",
   "id": "88e7ec12-3890-4609-ab90-536230380675",
   "metadata": {},
   "source": [
    "## Detail Description"
   ]
  },
  {
   "cell_type": "code",
   "execution_count": 220,
   "id": "13d3a3fa-f2d9-467c-a527-11cae48bef09",
   "metadata": {},
   "outputs": [
    {
     "data": {
      "text/plain": [
       "29351    Padded outdoor trousers in windproof, breathable functional fabric with closed, waterproof seams at critical points. Adjustable elastic braces, zip fly and press-stud, wind flap with a hook and loop fastening, elasticated hems, a reinforced elastic strap under the feet and a reflective strip on one leg. Lined.     \n",
       "10841    Short skater skirt in soft velour with an elasticated waist.                                                                                                                                                                                                                                                                \n",
       "22170    Soft lace blouse with an opening and button at the back of the neck and long trumpet sleeves. Jersey lining.                                                                                                                                                                                                                \n",
       "27389    Wide, high-waisted shorts in woven fabric with a sewn-in tie belt and pleats at the top. Fly with a concealed zip, side pockets and fake welt back pockets.                                                                                                                                                                 \n",
       "41347    Wide jersey top in a soft, stripe-print cotton and modal blend with short dolman sleeves. Rounded and slightly longer at the back.                                                                                                                                                                                          \n",
       "64347    Short dress in a crêpe weave with a yoke and cap sleeves in lace. V-neck, an opening with a button at the back of the neck, and a narrow elasticated seam under the bust. Jersey lining.                                                                                                                                    \n",
       "25276    Short-sleeved top in soft jersey with a motif and a rounded hem. Longer at the back.                                                                                                                                                                                                                                        \n",
       "75237    Padded jacket in woven fabric with a detachable, pile-lined hood with a faux fur trim. Zip and wind flap with press-studs down the front and a chin guard at the top. Patch front pockets with a flap and press-stud, a zipped sleeve pocket, and elastication at the cuffs. Slightly longer and rounded at the back. Lined.\n",
       "21513    Joggers in sweatshirt fabric made from an organic cotton and recycled polyester blend with a soft brushed inside. Covered elastication and a drawstring at the waist, side pockets and ribbed hems.                                                                                                                         \n",
       "79211    Ankle-length trousers in an airy, denim-look Tencel™ lyocell weave with elastication at the back of the waist and a sewn-on fabric tie belt at the front. Side pockets and straight, wide legs.                                                                                                                             \n",
       "Name: detail_desc, dtype: object"
      ]
     },
     "metadata": {},
     "output_type": "display_data"
    }
   ],
   "source": [
    "with pd.option_context(\"display.max_colwidth\", -1):\n",
    "    display(df[\"detail_desc\"].sample(10))"
   ]
  },
  {
   "cell_type": "markdown",
   "id": "e036a0e8-c083-495e-b481-954047f223b6",
   "metadata": {},
   "source": [
    "## Popular Articles"
   ]
  },
  {
   "cell_type": "code",
   "execution_count": 211,
   "id": "96b58e22-cb5d-45b6-8c56-96a648938256",
   "metadata": {},
   "outputs": [
    {
     "data": {
      "text/html": [
       "<div>\n",
       "<style scoped>\n",
       "    .dataframe tbody tr th:only-of-type {\n",
       "        vertical-align: middle;\n",
       "    }\n",
       "\n",
       "    .dataframe tbody tr th {\n",
       "        vertical-align: top;\n",
       "    }\n",
       "\n",
       "    .dataframe thead th {\n",
       "        text-align: right;\n",
       "    }\n",
       "</style>\n",
       "<table border=\"1\" class=\"dataframe\">\n",
       "  <thead>\n",
       "    <tr style=\"text-align: right;\">\n",
       "      <th></th>\n",
       "      <th>article_id</th>\n",
       "      <th>product_code</th>\n",
       "      <th>prod_name</th>\n",
       "      <th>product_type_no</th>\n",
       "      <th>product_type_name</th>\n",
       "      <th>product_group_name</th>\n",
       "      <th>graphical_appearance_no</th>\n",
       "      <th>graphical_appearance_name</th>\n",
       "      <th>colour_group_code</th>\n",
       "      <th>colour_group_name</th>\n",
       "      <th>...</th>\n",
       "      <th>department_name</th>\n",
       "      <th>index_code</th>\n",
       "      <th>index_name</th>\n",
       "      <th>index_group_no</th>\n",
       "      <th>index_group_name</th>\n",
       "      <th>section_no</th>\n",
       "      <th>section_name</th>\n",
       "      <th>garment_group_no</th>\n",
       "      <th>garment_group_name</th>\n",
       "      <th>detail_desc</th>\n",
       "    </tr>\n",
       "  </thead>\n",
       "  <tbody>\n",
       "    <tr>\n",
       "      <th>1713</th>\n",
       "      <td>372860001</td>\n",
       "      <td>372860</td>\n",
       "      <td>7p Basic Shaftless</td>\n",
       "      <td>302</td>\n",
       "      <td>Socks</td>\n",
       "      <td>Socks &amp; Tights</td>\n",
       "      <td>1010016</td>\n",
       "      <td>Solid</td>\n",
       "      <td>9</td>\n",
       "      <td>Black</td>\n",
       "      <td>...</td>\n",
       "      <td>Shopbasket Socks</td>\n",
       "      <td>B</td>\n",
       "      <td>Lingeries/Tights</td>\n",
       "      <td>1</td>\n",
       "      <td>Ladieswear</td>\n",
       "      <td>62</td>\n",
       "      <td>Womens Nightwear, Socks &amp; Tigh</td>\n",
       "      <td>1021</td>\n",
       "      <td>Socks and Tights</td>\n",
       "      <td>Fine-knit trainer socks in a soft cotton blend.</td>\n",
       "    </tr>\n",
       "    <tr>\n",
       "      <th>53892</th>\n",
       "      <td>706016001</td>\n",
       "      <td>706016</td>\n",
       "      <td>Jade HW Skinny Denim TRS</td>\n",
       "      <td>272</td>\n",
       "      <td>Trousers</td>\n",
       "      <td>Garment Lower body</td>\n",
       "      <td>1010016</td>\n",
       "      <td>Solid</td>\n",
       "      <td>9</td>\n",
       "      <td>Black</td>\n",
       "      <td>...</td>\n",
       "      <td>Trousers</td>\n",
       "      <td>D</td>\n",
       "      <td>Divided</td>\n",
       "      <td>2</td>\n",
       "      <td>Divided</td>\n",
       "      <td>53</td>\n",
       "      <td>Divided Collection</td>\n",
       "      <td>1009</td>\n",
       "      <td>Trousers</td>\n",
       "      <td>High-waisted jeans in washed superstretch denim with a zip fly and button, fake front pockets, real back pockets and super-skinny legs.</td>\n",
       "    </tr>\n",
       "    <tr>\n",
       "      <th>53893</th>\n",
       "      <td>706016002</td>\n",
       "      <td>706016</td>\n",
       "      <td>Jade HW Skinny Denim TRS</td>\n",
       "      <td>272</td>\n",
       "      <td>Trousers</td>\n",
       "      <td>Garment Lower body</td>\n",
       "      <td>1010016</td>\n",
       "      <td>Solid</td>\n",
       "      <td>71</td>\n",
       "      <td>Light Blue</td>\n",
       "      <td>...</td>\n",
       "      <td>Trousers</td>\n",
       "      <td>D</td>\n",
       "      <td>Divided</td>\n",
       "      <td>2</td>\n",
       "      <td>Divided</td>\n",
       "      <td>53</td>\n",
       "      <td>Divided Collection</td>\n",
       "      <td>1009</td>\n",
       "      <td>Trousers</td>\n",
       "      <td>High-waisted jeans in washed superstretch denim with a zip fly and button, fake front pockets, real back pockets and super-skinny legs.</td>\n",
       "    </tr>\n",
       "  </tbody>\n",
       "</table>\n",
       "<p>3 rows × 25 columns</p>\n",
       "</div>"
      ],
      "text/plain": [
       "       article_id  product_code                 prod_name  product_type_no  \\\n",
       "1713   372860001   372860        7p Basic Shaftless        302               \n",
       "53892  706016001   706016        Jade HW Skinny Denim TRS  272               \n",
       "53893  706016002   706016        Jade HW Skinny Denim TRS  272               \n",
       "\n",
       "      product_type_name  product_group_name  graphical_appearance_no  \\\n",
       "1713   Socks             Socks & Tights      1010016                   \n",
       "53892  Trousers          Garment Lower body  1010016                   \n",
       "53893  Trousers          Garment Lower body  1010016                   \n",
       "\n",
       "      graphical_appearance_name  colour_group_code colour_group_name  ...  \\\n",
       "1713   Solid                     9                  Black             ...   \n",
       "53892  Solid                     9                  Black             ...   \n",
       "53893  Solid                     71                 Light Blue        ...   \n",
       "\n",
       "        department_name index_code        index_name index_group_no  \\\n",
       "1713   Shopbasket Socks  B          Lingeries/Tights  1               \n",
       "53892  Trousers          D          Divided           2               \n",
       "53893  Trousers          D          Divided           2               \n",
       "\n",
       "       index_group_name section_no                    section_name  \\\n",
       "1713   Ladieswear        62         Womens Nightwear, Socks & Tigh   \n",
       "53892  Divided           53         Divided Collection               \n",
       "53893  Divided           53         Divided Collection               \n",
       "\n",
       "      garment_group_no  garment_group_name  \\\n",
       "1713   1021             Socks and Tights     \n",
       "53892  1009             Trousers             \n",
       "53893  1009             Trousers             \n",
       "\n",
       "                                                                                                                                   detail_desc  \n",
       "1713   Fine-knit trainer socks in a soft cotton blend.                                                                                          \n",
       "53892  High-waisted jeans in washed superstretch denim with a zip fly and button, fake front pockets, real back pockets and super-skinny legs.  \n",
       "53893  High-waisted jeans in washed superstretch denim with a zip fly and button, fake front pockets, real back pockets and super-skinny legs.  \n",
       "\n",
       "[3 rows x 25 columns]"
      ]
     },
     "metadata": {},
     "output_type": "display_data"
    }
   ],
   "source": [
    "with pd.option_context(\"display.max_colwidth\", -1):\n",
    "    display(df[lambda d: d[\"article_id\"].isin([706016001, 372860001, 706016002])])"
   ]
  },
  {
   "cell_type": "markdown",
   "id": "320ce8d3-cb86-4615-bf23-b9ff55808d08",
   "metadata": {},
   "source": [
    "## Popularity by Sales"
   ]
  },
  {
   "cell_type": "code",
   "execution_count": 146,
   "id": "090e9a8e-ec32-48bd-a697-8428bcd1dbcd",
   "metadata": {},
   "outputs": [
    {
     "name": "stderr",
     "output_type": "stream",
     "text": [
      "Query complete after 0.00s: 10\n",
      "Downloading: 100%|█| 19922/199\n"
     ]
    }
   ],
   "source": [
    "%%bigquery df_sales --project zenscr-seefood-dev\n",
    "\n",
    "SELECT\n",
    "    obs_dat,\n",
    "    section_no,\n",
    "    section_name,\n",
    "    article_id,\n",
    "    num_sales,\n",
    "    revenue,\n",
    "    sales_rank,\n",
    "    revenue_rank\n",
    "FROM `zenscr-seefood-dev.hm_kaggle_reco.misc_article_sales`\n",
    "WHERE obs_dat = \"2020-04-01\"\n",
    "ORDER BY sales_rank"
   ]
  },
  {
   "cell_type": "code",
   "execution_count": 147,
   "id": "553f0fac-0398-439d-b89c-bd2847059eeb",
   "metadata": {},
   "outputs": [
    {
     "data": {
      "text/html": [
       "<div>\n",
       "<style scoped>\n",
       "    .dataframe tbody tr th:only-of-type {\n",
       "        vertical-align: middle;\n",
       "    }\n",
       "\n",
       "    .dataframe tbody tr th {\n",
       "        vertical-align: top;\n",
       "    }\n",
       "\n",
       "    .dataframe thead th {\n",
       "        text-align: right;\n",
       "    }\n",
       "</style>\n",
       "<table border=\"1\" class=\"dataframe\">\n",
       "  <thead>\n",
       "    <tr style=\"text-align: right;\">\n",
       "      <th></th>\n",
       "      <th>obs_dat</th>\n",
       "      <th>section_no</th>\n",
       "      <th>section_name</th>\n",
       "      <th>article_id</th>\n",
       "      <th>num_sales</th>\n",
       "      <th>revenue</th>\n",
       "      <th>sales_rank</th>\n",
       "      <th>revenue_rank</th>\n",
       "    </tr>\n",
       "  </thead>\n",
       "  <tbody>\n",
       "    <tr>\n",
       "      <th>0</th>\n",
       "      <td>2020-04-01</td>\n",
       "      <td>53</td>\n",
       "      <td>Divided Collection</td>\n",
       "      <td>706016001</td>\n",
       "      <td>1301</td>\n",
       "      <td>42.85788</td>\n",
       "      <td>1</td>\n",
       "      <td>1</td>\n",
       "    </tr>\n",
       "    <tr>\n",
       "      <th>1</th>\n",
       "      <td>2020-04-01</td>\n",
       "      <td>15</td>\n",
       "      <td>Womens Everyday Collection</td>\n",
       "      <td>841260013</td>\n",
       "      <td>1266</td>\n",
       "      <td>16.38737</td>\n",
       "      <td>2</td>\n",
       "      <td>36</td>\n",
       "    </tr>\n",
       "    <tr>\n",
       "      <th>2</th>\n",
       "      <td>2020-04-01</td>\n",
       "      <td>80</td>\n",
       "      <td>Divided Complements Other</td>\n",
       "      <td>759871002</td>\n",
       "      <td>1091</td>\n",
       "      <td>6.98444</td>\n",
       "      <td>3</td>\n",
       "      <td>263</td>\n",
       "    </tr>\n",
       "    <tr>\n",
       "      <th>3</th>\n",
       "      <td>2020-04-01</td>\n",
       "      <td>16</td>\n",
       "      <td>Womens Everyday Basics</td>\n",
       "      <td>803757004</td>\n",
       "      <td>1052</td>\n",
       "      <td>14.13975</td>\n",
       "      <td>4</td>\n",
       "      <td>49</td>\n",
       "    </tr>\n",
       "    <tr>\n",
       "      <th>4</th>\n",
       "      <td>2020-04-01</td>\n",
       "      <td>5</td>\n",
       "      <td>Ladies H&amp;M Sport</td>\n",
       "      <td>730683041</td>\n",
       "      <td>1036</td>\n",
       "      <td>36.57449</td>\n",
       "      <td>5</td>\n",
       "      <td>5</td>\n",
       "    </tr>\n",
       "    <tr>\n",
       "      <th>...</th>\n",
       "      <td>...</td>\n",
       "      <td>...</td>\n",
       "      <td>...</td>\n",
       "      <td>...</td>\n",
       "      <td>...</td>\n",
       "      <td>...</td>\n",
       "      <td>...</td>\n",
       "      <td>...</td>\n",
       "    </tr>\n",
       "    <tr>\n",
       "      <th>19917</th>\n",
       "      <td>2020-04-01</td>\n",
       "      <td>51</td>\n",
       "      <td>Divided Basics</td>\n",
       "      <td>676052001</td>\n",
       "      <td>1</td>\n",
       "      <td>0.00269</td>\n",
       "      <td>422</td>\n",
       "      <td>11851</td>\n",
       "    </tr>\n",
       "    <tr>\n",
       "      <th>19918</th>\n",
       "      <td>2020-04-01</td>\n",
       "      <td>62</td>\n",
       "      <td>Womens Nightwear, Socks &amp; Tigh</td>\n",
       "      <td>807241015</td>\n",
       "      <td>1</td>\n",
       "      <td>0.00254</td>\n",
       "      <td>422</td>\n",
       "      <td>11852</td>\n",
       "    </tr>\n",
       "    <tr>\n",
       "      <th>19919</th>\n",
       "      <td>2020-04-01</td>\n",
       "      <td>26</td>\n",
       "      <td>Men Underwear</td>\n",
       "      <td>701057005</td>\n",
       "      <td>1</td>\n",
       "      <td>0.00168</td>\n",
       "      <td>422</td>\n",
       "      <td>11854</td>\n",
       "    </tr>\n",
       "    <tr>\n",
       "      <th>19920</th>\n",
       "      <td>2020-04-01</td>\n",
       "      <td>66</td>\n",
       "      <td>Womens Small accessories</td>\n",
       "      <td>620425015</td>\n",
       "      <td>1</td>\n",
       "      <td>0.00100</td>\n",
       "      <td>422</td>\n",
       "      <td>11855</td>\n",
       "    </tr>\n",
       "    <tr>\n",
       "      <th>19921</th>\n",
       "      <td>2020-04-01</td>\n",
       "      <td>26</td>\n",
       "      <td>Men Underwear</td>\n",
       "      <td>783707037</td>\n",
       "      <td>1</td>\n",
       "      <td>0.00076</td>\n",
       "      <td>422</td>\n",
       "      <td>11856</td>\n",
       "    </tr>\n",
       "  </tbody>\n",
       "</table>\n",
       "<p>19922 rows × 8 columns</p>\n",
       "</div>"
      ],
      "text/plain": [
       "          obs_dat  section_no                    section_name  article_id  \\\n",
       "0      2020-04-01          53              Divided Collection   706016001   \n",
       "1      2020-04-01          15      Womens Everyday Collection   841260013   \n",
       "2      2020-04-01          80       Divided Complements Other   759871002   \n",
       "3      2020-04-01          16          Womens Everyday Basics   803757004   \n",
       "4      2020-04-01           5                Ladies H&M Sport   730683041   \n",
       "...           ...         ...                             ...         ...   \n",
       "19917  2020-04-01          51                  Divided Basics   676052001   \n",
       "19918  2020-04-01          62  Womens Nightwear, Socks & Tigh   807241015   \n",
       "19919  2020-04-01          26                   Men Underwear   701057005   \n",
       "19920  2020-04-01          66        Womens Small accessories   620425015   \n",
       "19921  2020-04-01          26                   Men Underwear   783707037   \n",
       "\n",
       "       num_sales  revenue  sales_rank  revenue_rank  \n",
       "0           1301 42.85788           1             1  \n",
       "1           1266 16.38737           2            36  \n",
       "2           1091  6.98444           3           263  \n",
       "3           1052 14.13975           4            49  \n",
       "4           1036 36.57449           5             5  \n",
       "...          ...      ...         ...           ...  \n",
       "19917          1  0.00269         422         11851  \n",
       "19918          1  0.00254         422         11852  \n",
       "19919          1  0.00168         422         11854  \n",
       "19920          1  0.00100         422         11855  \n",
       "19921          1  0.00076         422         11856  \n",
       "\n",
       "[19922 rows x 8 columns]"
      ]
     },
     "execution_count": 147,
     "metadata": {},
     "output_type": "execute_result"
    }
   ],
   "source": [
    "df_sales"
   ]
  },
  {
   "cell_type": "code",
   "execution_count": 148,
   "id": "c1c7f745-477a-46ff-b0dc-56ecdbadbc49",
   "metadata": {},
   "outputs": [
    {
     "data": {
      "text/plain": [
       "<AxesSubplot:ylabel='Frequency'>"
      ]
     },
     "execution_count": 148,
     "metadata": {},
     "output_type": "execute_result"
    },
    {
     "data": {
      "image/png": "[encoded data removed]",
      "text/plain": [
       "<Figure size 1512x360 with 3 Axes>"
      ]
     },
     "metadata": {
      "image/png": {
       "height": 302,
       "width": 1238
      },
      "needs_background": "light"
     },
     "output_type": "display_data"
    }
   ],
   "source": [
    "fig, axs = plt.subplots(1, 3, figsize=(21, 5))\n",
    "\n",
    "df_sales[\"sales_rank\"].plot.hist(bins=50, ax=axs[0])\n",
    "df_sales[\"revenue_rank\"].plot.hist(bins=50, ax=axs[1])\n",
    "df_sales[\"revenue\"].plot.hist(bins=50, ax=axs[2])"
   ]
  },
  {
   "cell_type": "code",
   "execution_count": 224,
   "id": "019f54c2-be2f-415e-8114-9c2d5a8184ff",
   "metadata": {},
   "outputs": [],
   "source": [
    "mask = lambda d: d[\"sales_rank\"] < 390"
   ]
  },
  {
   "cell_type": "code",
   "execution_count": 228,
   "id": "5bf26f11-a2c0-4f6c-b704-c71adaf3b389",
   "metadata": {},
   "outputs": [
    {
     "data": {
      "text/html": [
       "<div>\n",
       "<style scoped>\n",
       "    .dataframe tbody tr th:only-of-type {\n",
       "        vertical-align: middle;\n",
       "    }\n",
       "\n",
       "    .dataframe tbody tr th {\n",
       "        vertical-align: top;\n",
       "    }\n",
       "\n",
       "    .dataframe thead th {\n",
       "        text-align: right;\n",
       "    }\n",
       "</style>\n",
       "<table border=\"1\" class=\"dataframe\">\n",
       "  <thead>\n",
       "    <tr style=\"text-align: right;\">\n",
       "      <th></th>\n",
       "      <th>section_no</th>\n",
       "      <th>section_name</th>\n",
       "      <th>num_sales</th>\n",
       "      <th>revenue</th>\n",
       "      <th>num_distinct_articles</th>\n",
       "    </tr>\n",
       "  </thead>\n",
       "  <tbody>\n",
       "    <tr>\n",
       "      <th>0</th>\n",
       "      <td>15</td>\n",
       "      <td>Womens Everyday Collection</td>\n",
       "      <td>53569</td>\n",
       "      <td>1631.46931</td>\n",
       "      <td>379</td>\n",
       "    </tr>\n",
       "    <tr>\n",
       "      <th>1</th>\n",
       "      <td>53</td>\n",
       "      <td>Divided Collection</td>\n",
       "      <td>40601</td>\n",
       "      <td>1242.91139</td>\n",
       "      <td>404</td>\n",
       "    </tr>\n",
       "    <tr>\n",
       "      <th>2</th>\n",
       "      <td>61</td>\n",
       "      <td>Womens Lingerie</td>\n",
       "      <td>31270</td>\n",
       "      <td>721.07205</td>\n",
       "      <td>304</td>\n",
       "    </tr>\n",
       "    <tr>\n",
       "      <th>3</th>\n",
       "      <td>16</td>\n",
       "      <td>Womens Everyday Basics</td>\n",
       "      <td>30517</td>\n",
       "      <td>493.34737</td>\n",
       "      <td>157</td>\n",
       "    </tr>\n",
       "    <tr>\n",
       "      <th>4</th>\n",
       "      <td>51</td>\n",
       "      <td>Divided Basics</td>\n",
       "      <td>24391</td>\n",
       "      <td>380.32922</td>\n",
       "      <td>180</td>\n",
       "    </tr>\n",
       "    <tr>\n",
       "      <th>5</th>\n",
       "      <td>60</td>\n",
       "      <td>Womens Swimwear, beachwear</td>\n",
       "      <td>22985</td>\n",
       "      <td>562.72958</td>\n",
       "      <td>200</td>\n",
       "    </tr>\n",
       "    <tr>\n",
       "      <th>6</th>\n",
       "      <td>5</td>\n",
       "      <td>Ladies H&amp;M Sport</td>\n",
       "      <td>19215</td>\n",
       "      <td>642.93515</td>\n",
       "      <td>140</td>\n",
       "    </tr>\n",
       "    <tr>\n",
       "      <th>7</th>\n",
       "      <td>11</td>\n",
       "      <td>Womens Tailoring</td>\n",
       "      <td>18352</td>\n",
       "      <td>650.95453</td>\n",
       "      <td>181</td>\n",
       "    </tr>\n",
       "    <tr>\n",
       "      <th>8</th>\n",
       "      <td>6</td>\n",
       "      <td>Womens Casual</td>\n",
       "      <td>18020</td>\n",
       "      <td>576.21107</td>\n",
       "      <td>155</td>\n",
       "    </tr>\n",
       "    <tr>\n",
       "      <th>9</th>\n",
       "      <td>62</td>\n",
       "      <td>Womens Nightwear, Socks &amp; Tigh</td>\n",
       "      <td>15403</td>\n",
       "      <td>351.54983</td>\n",
       "      <td>131</td>\n",
       "    </tr>\n",
       "    <tr>\n",
       "      <th>10</th>\n",
       "      <td>57</td>\n",
       "      <td>Ladies Denim</td>\n",
       "      <td>14364</td>\n",
       "      <td>650.64907</td>\n",
       "      <td>135</td>\n",
       "    </tr>\n",
       "    <tr>\n",
       "      <th>11</th>\n",
       "      <td>26</td>\n",
       "      <td>Men Underwear</td>\n",
       "      <td>5697</td>\n",
       "      <td>117.05208</td>\n",
       "      <td>72</td>\n",
       "    </tr>\n",
       "    <tr>\n",
       "      <th>12</th>\n",
       "      <td>2</td>\n",
       "      <td>H&amp;M+</td>\n",
       "      <td>4481</td>\n",
       "      <td>143.20598</td>\n",
       "      <td>74</td>\n",
       "    </tr>\n",
       "    <tr>\n",
       "      <th>13</th>\n",
       "      <td>64</td>\n",
       "      <td>Womens Shoes</td>\n",
       "      <td>3831</td>\n",
       "      <td>158.85622</td>\n",
       "      <td>65</td>\n",
       "    </tr>\n",
       "    <tr>\n",
       "      <th>14</th>\n",
       "      <td>50</td>\n",
       "      <td>Divided Projects</td>\n",
       "      <td>3666</td>\n",
       "      <td>130.94253</td>\n",
       "      <td>53</td>\n",
       "    </tr>\n",
       "    <tr>\n",
       "      <th>15</th>\n",
       "      <td>66</td>\n",
       "      <td>Womens Small accessories</td>\n",
       "      <td>3503</td>\n",
       "      <td>48.65580</td>\n",
       "      <td>56</td>\n",
       "    </tr>\n",
       "    <tr>\n",
       "      <th>16</th>\n",
       "      <td>18</td>\n",
       "      <td>Womens Trend</td>\n",
       "      <td>3430</td>\n",
       "      <td>167.51275</td>\n",
       "      <td>51</td>\n",
       "    </tr>\n",
       "    <tr>\n",
       "      <th>17</th>\n",
       "      <td>19</td>\n",
       "      <td>Womens Jackets</td>\n",
       "      <td>3216</td>\n",
       "      <td>225.38095</td>\n",
       "      <td>30</td>\n",
       "    </tr>\n",
       "    <tr>\n",
       "      <th>18</th>\n",
       "      <td>52</td>\n",
       "      <td>Divided Accessories</td>\n",
       "      <td>2236</td>\n",
       "      <td>34.36219</td>\n",
       "      <td>14</td>\n",
       "    </tr>\n",
       "    <tr>\n",
       "      <th>19</th>\n",
       "      <td>65</td>\n",
       "      <td>Womens Big accessories</td>\n",
       "      <td>2146</td>\n",
       "      <td>46.27807</td>\n",
       "      <td>31</td>\n",
       "    </tr>\n",
       "    <tr>\n",
       "      <th>20</th>\n",
       "      <td>58</td>\n",
       "      <td>Divided Selected</td>\n",
       "      <td>2023</td>\n",
       "      <td>65.43631</td>\n",
       "      <td>25</td>\n",
       "    </tr>\n",
       "    <tr>\n",
       "      <th>21</th>\n",
       "      <td>8</td>\n",
       "      <td>Mama</td>\n",
       "      <td>1432</td>\n",
       "      <td>61.10781</td>\n",
       "      <td>25</td>\n",
       "    </tr>\n",
       "    <tr>\n",
       "      <th>22</th>\n",
       "      <td>80</td>\n",
       "      <td>Divided Complements Other</td>\n",
       "      <td>1212</td>\n",
       "      <td>7.75842</td>\n",
       "      <td>2</td>\n",
       "    </tr>\n",
       "    <tr>\n",
       "      <th>23</th>\n",
       "      <td>56</td>\n",
       "      <td>Denim Men</td>\n",
       "      <td>1065</td>\n",
       "      <td>40.11724</td>\n",
       "      <td>14</td>\n",
       "    </tr>\n",
       "    <tr>\n",
       "      <th>24</th>\n",
       "      <td>20</td>\n",
       "      <td>Contemporary Smart</td>\n",
       "      <td>487</td>\n",
       "      <td>11.24317</td>\n",
       "      <td>10</td>\n",
       "    </tr>\n",
       "    <tr>\n",
       "      <th>25</th>\n",
       "      <td>82</td>\n",
       "      <td>Special Collections</td>\n",
       "      <td>481</td>\n",
       "      <td>47.11336</td>\n",
       "      <td>10</td>\n",
       "    </tr>\n",
       "    <tr>\n",
       "      <th>26</th>\n",
       "      <td>70</td>\n",
       "      <td>Divided Asia keys</td>\n",
       "      <td>205</td>\n",
       "      <td>5.58085</td>\n",
       "      <td>5</td>\n",
       "    </tr>\n",
       "    <tr>\n",
       "      <th>27</th>\n",
       "      <td>41</td>\n",
       "      <td>Baby Boy</td>\n",
       "      <td>135</td>\n",
       "      <td>1.67141</td>\n",
       "      <td>3</td>\n",
       "    </tr>\n",
       "    <tr>\n",
       "      <th>28</th>\n",
       "      <td>23</td>\n",
       "      <td>Men Suits &amp; Tailoring</td>\n",
       "      <td>128</td>\n",
       "      <td>2.71003</td>\n",
       "      <td>2</td>\n",
       "    </tr>\n",
       "    <tr>\n",
       "      <th>29</th>\n",
       "      <td>55</td>\n",
       "      <td>Contemporary Street</td>\n",
       "      <td>115</td>\n",
       "      <td>2.88986</td>\n",
       "      <td>3</td>\n",
       "    </tr>\n",
       "    <tr>\n",
       "      <th>30</th>\n",
       "      <td>21</td>\n",
       "      <td>Contemporary Casual</td>\n",
       "      <td>89</td>\n",
       "      <td>2.00958</td>\n",
       "      <td>2</td>\n",
       "    </tr>\n",
       "    <tr>\n",
       "      <th>31</th>\n",
       "      <td>14</td>\n",
       "      <td>Womens Premium</td>\n",
       "      <td>76</td>\n",
       "      <td>1.86656</td>\n",
       "      <td>2</td>\n",
       "    </tr>\n",
       "    <tr>\n",
       "      <th>32</th>\n",
       "      <td>25</td>\n",
       "      <td>Men Accessories</td>\n",
       "      <td>74</td>\n",
       "      <td>0.96334</td>\n",
       "      <td>2</td>\n",
       "    </tr>\n",
       "    <tr>\n",
       "      <th>33</th>\n",
       "      <td>43</td>\n",
       "      <td>Kids Accessories, Swimwear &amp; D</td>\n",
       "      <td>59</td>\n",
       "      <td>0.19259</td>\n",
       "      <td>1</td>\n",
       "    </tr>\n",
       "    <tr>\n",
       "      <th>34</th>\n",
       "      <td>22</td>\n",
       "      <td>Men H&amp;M Sport</td>\n",
       "      <td>36</td>\n",
       "      <td>1.18025</td>\n",
       "      <td>1</td>\n",
       "    </tr>\n",
       "    <tr>\n",
       "      <th>35</th>\n",
       "      <td>44</td>\n",
       "      <td>Baby Essentials &amp; Complements</td>\n",
       "      <td>36</td>\n",
       "      <td>0.74924</td>\n",
       "      <td>1</td>\n",
       "    </tr>\n",
       "  </tbody>\n",
       "</table>\n",
       "</div>"
      ],
      "text/plain": [
       "    section_no                    section_name  num_sales    revenue  \\\n",
       "0           15      Womens Everyday Collection      53569 1631.46931   \n",
       "1           53              Divided Collection      40601 1242.91139   \n",
       "2           61                 Womens Lingerie      31270  721.07205   \n",
       "3           16          Womens Everyday Basics      30517  493.34737   \n",
       "4           51                  Divided Basics      24391  380.32922   \n",
       "5           60      Womens Swimwear, beachwear      22985  562.72958   \n",
       "6            5                Ladies H&M Sport      19215  642.93515   \n",
       "7           11                Womens Tailoring      18352  650.95453   \n",
       "8            6                   Womens Casual      18020  576.21107   \n",
       "9           62  Womens Nightwear, Socks & Tigh      15403  351.54983   \n",
       "10          57                    Ladies Denim      14364  650.64907   \n",
       "11          26                   Men Underwear       5697  117.05208   \n",
       "12           2                            H&M+       4481  143.20598   \n",
       "13          64                    Womens Shoes       3831  158.85622   \n",
       "14          50                Divided Projects       3666  130.94253   \n",
       "15          66        Womens Small accessories       3503   48.65580   \n",
       "16          18                    Womens Trend       3430  167.51275   \n",
       "17          19                  Womens Jackets       3216  225.38095   \n",
       "18          52             Divided Accessories       2236   34.36219   \n",
       "19          65          Womens Big accessories       2146   46.27807   \n",
       "20          58                Divided Selected       2023   65.43631   \n",
       "21           8                            Mama       1432   61.10781   \n",
       "22          80       Divided Complements Other       1212    7.75842   \n",
       "23          56                       Denim Men       1065   40.11724   \n",
       "24          20              Contemporary Smart        487   11.24317   \n",
       "25          82             Special Collections        481   47.11336   \n",
       "26          70               Divided Asia keys        205    5.58085   \n",
       "27          41                        Baby Boy        135    1.67141   \n",
       "28          23           Men Suits & Tailoring        128    2.71003   \n",
       "29          55             Contemporary Street        115    2.88986   \n",
       "30          21             Contemporary Casual         89    2.00958   \n",
       "31          14                  Womens Premium         76    1.86656   \n",
       "32          25                 Men Accessories         74    0.96334   \n",
       "33          43  Kids Accessories, Swimwear & D         59    0.19259   \n",
       "34          22                   Men H&M Sport         36    1.18025   \n",
       "35          44   Baby Essentials & Complements         36    0.74924   \n",
       "\n",
       "    num_distinct_articles  \n",
       "0                     379  \n",
       "1                     404  \n",
       "2                     304  \n",
       "3                     157  \n",
       "4                     180  \n",
       "5                     200  \n",
       "6                     140  \n",
       "7                     181  \n",
       "8                     155  \n",
       "9                     131  \n",
       "10                    135  \n",
       "11                     72  \n",
       "12                     74  \n",
       "13                     65  \n",
       "14                     53  \n",
       "15                     56  \n",
       "16                     51  \n",
       "17                     30  \n",
       "18                     14  \n",
       "19                     31  \n",
       "20                     25  \n",
       "21                     25  \n",
       "22                      2  \n",
       "23                     14  \n",
       "24                     10  \n",
       "25                     10  \n",
       "26                      5  \n",
       "27                      3  \n",
       "28                      2  \n",
       "29                      3  \n",
       "30                      2  \n",
       "31                      2  \n",
       "32                      2  \n",
       "33                      1  \n",
       "34                      1  \n",
       "35                      1  "
      ]
     },
     "execution_count": 228,
     "metadata": {},
     "output_type": "execute_result"
    }
   ],
   "source": [
    "df_sales[mask].groupby([\"section_no\", \"section_name\"]).agg(\n",
    "    num_sales=(\"num_sales\", \"sum\"),\n",
    "    revenue=(\"revenue\", \"sum\"),\n",
    "    num_distinct_articles=(\"article_id\", \"nunique\"),\n",
    ").sort_values(\"num_sales\", ascending=False).reset_index()"
   ]
  },
  {
   "cell_type": "code",
   "execution_count": 226,
   "id": "f8c53751-d09f-4021-ae91-e9702a0f8de9",
   "metadata": {},
   "outputs": [
    {
     "data": {
      "text/plain": [
       "0.14657162935448248"
      ]
     },
     "execution_count": 226,
     "metadata": {},
     "output_type": "execute_result"
    }
   ],
   "source": [
    "df_sales[mask].shape[0] / df_sales.shape[0]"
   ]
  },
  {
   "cell_type": "code",
   "execution_count": 227,
   "id": "f358353a-f7ac-4785-844f-1d111c07b0c6",
   "metadata": {},
   "outputs": [
    {
     "data": {
      "text/plain": [
       "(2920, 19922)"
      ]
     },
     "execution_count": 227,
     "metadata": {},
     "output_type": "execute_result"
    }
   ],
   "source": [
    "df_sales[mask].shape[0], df_sales.shape[0]"
   ]
  },
  {
   "cell_type": "code",
   "execution_count": 119,
   "id": "a14acc2d-e95d-41fc-bc86-961372743676",
   "metadata": {},
   "outputs": [
    {
     "name": "stderr",
     "output_type": "stream",
     "text": [
      "Query compl\n",
      "Downloading\n"
     ]
    }
   ],
   "source": [
    "%%bigquery df_num_customers --project zenscr-seefood-dev\n",
    "\n",
    "SELECT\n",
    "    COUNT(DISTINCT customer_id) AS num_customers\n",
    "FROM `zenscr-seefood-dev.hm_kaggle_reco.ground_truth`\n",
    "WHERE obs_dat = \"2020-04-01\""
   ]
  },
  {
   "cell_type": "code",
   "execution_count": 172,
   "id": "f8a824b3-a0e2-4d99-b941-319796b3f5d2",
   "metadata": {},
   "outputs": [
    {
     "data": {
      "text/html": [
       "<div>\n",
       "<style scoped>\n",
       "    .dataframe tbody tr th:only-of-type {\n",
       "        vertical-align: middle;\n",
       "    }\n",
       "\n",
       "    .dataframe tbody tr th {\n",
       "        vertical-align: top;\n",
       "    }\n",
       "\n",
       "    .dataframe thead th {\n",
       "        text-align: right;\n",
       "    }\n",
       "</style>\n",
       "<table border=\"1\" class=\"dataframe\">\n",
       "  <thead>\n",
       "    <tr style=\"text-align: right;\">\n",
       "      <th></th>\n",
       "      <th>num_customers</th>\n",
       "    </tr>\n",
       "  </thead>\n",
       "  <tbody>\n",
       "    <tr>\n",
       "      <th>0</th>\n",
       "      <td>71356</td>\n",
       "    </tr>\n",
       "  </tbody>\n",
       "</table>\n",
       "</div>"
      ],
      "text/plain": [
       "   num_customers\n",
       "0          71356"
      ]
     },
     "execution_count": 172,
     "metadata": {},
     "output_type": "execute_result"
    }
   ],
   "source": [
    "df_num_customers"
   ]
  },
  {
   "cell_type": "code",
   "execution_count": 217,
   "id": "a95afb9d-85ff-4aee-b0c0-8c1ab3ae3329",
   "metadata": {},
   "outputs": [
    {
     "data": {
      "text/plain": [
       "2920"
      ]
     },
     "execution_count": 217,
     "metadata": {},
     "output_type": "execute_result"
    }
   ],
   "source": [
    "df_sales[mask].shape[0]"
   ]
  },
  {
   "cell_type": "code",
   "execution_count": 174,
   "id": "82283fc0-0f56-4ab0-9801-715085e6a86b",
   "metadata": {},
   "outputs": [
    {
     "data": {
      "text/html": [
       "<div>\n",
       "<style scoped>\n",
       "    .dataframe tbody tr th:only-of-type {\n",
       "        vertical-align: middle;\n",
       "    }\n",
       "\n",
       "    .dataframe tbody tr th {\n",
       "        vertical-align: top;\n",
       "    }\n",
       "\n",
       "    .dataframe thead th {\n",
       "        text-align: right;\n",
       "    }\n",
       "</style>\n",
       "<table border=\"1\" class=\"dataframe\">\n",
       "  <thead>\n",
       "    <tr style=\"text-align: right;\">\n",
       "      <th></th>\n",
       "      <th>num_customers</th>\n",
       "    </tr>\n",
       "  </thead>\n",
       "  <tbody>\n",
       "    <tr>\n",
       "      <th>0</th>\n",
       "      <td>208359520</td>\n",
       "    </tr>\n",
       "  </tbody>\n",
       "</table>\n",
       "</div>"
      ],
      "text/plain": [
       "   num_customers\n",
       "0      208359520"
      ]
     },
     "execution_count": 218,
     "metadata": {},
     "output_type": "execute_result"
    }
   ],
   "source": [
    "df_num_customers * df_sales[mask].shape[0]"
   ]
  },
  {
   "cell_type": "code",
   "execution_count": null,
   "id": "cb49b424-9516-4133-b635-862ef527be03",
   "metadata": {},
   "outputs": [],
   "source": []
  }
 ],
 "metadata": {
  "kernelspec": {
   "display_name": "Python 3 (ipykernel)",
   "language": "python",
   "name": "python3"
  },
  "language_info": {
   "codemirror_mode": {
    "name": "ipython",
    "version": 3
   },
   "file_extension": ".py",
   "mimetype": "text/x-python",
   "name": "python",
   "nbconvert_exporter": "python",
   "pygments_lexer": "ipython3",
   "version": "3.9.7"
  }
 },
 "nbformat": 4,
 "nbformat_minor": 5
}
